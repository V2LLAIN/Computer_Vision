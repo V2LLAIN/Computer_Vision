{
 "cells": [
  {
   "cell_type": "code",
   "execution_count": null,
   "id": "a8b1c7bc-ba8c-412a-ace7-b79d708851bd",
   "metadata": {},
   "outputs": [],
   "source": [
    "import tensorflow as tf\n",
    "import numpy as np\n",
    "import matplotlib.pyplot as plt\n",
    "import os\n",
    "\n",
    "from tensorflow.keras.layers import *\n",
    "from tensorflow.keras.models import *\n",
    "from tensorflow.keras.regularizers import *\n",
    "\n",
    "from tensorflow.keras.preprocessing.image import ImageDataGenerator\n",
    "\n",
    "import wandb"
   ]
  },
  {
   "cell_type": "code",
   "execution_count": null,
   "id": "03b6ce84-5972-416d-9e13-1f3a53b8c71a",
   "metadata": {},
   "outputs": [],
   "source": [
    "bs = 32\n",
    "img_size = (224, 224)\n",
    "\n",
    "tn_gen = ImageDataGenerator(\n",
    "    horizontal_flip=True\n",
    "    , brightness_range=[0.8, 1.1]\n",
    "    , rotation_range=10\n",
    "    , featurewise_center=True\n",
    "    , featurewise_std_normalization=True\n",
    "    , fill_mode='constant'\n",
    ")\n",
    "val_gen = ImageDataGenerator(\n",
    "    # None\n",
    ")\n",
    "\n",
    "tn_set = tn_gen.flow_from_directory(\n",
    "    directory='./CUB_200_2011/train'\n",
    "    , shuffle=True\n",
    "    , target_size=img_size\n",
    "    , class_mode='categorical'\n",
    "    , batch_size=bs\n",
    ")\n",
    "\n",
    "val_set = val_gen.flow_from_directory(\n",
    "    directory='./CUB_200_2011/valid'\n",
    "    , target_size=img_size\n",
    "    , class_mode='categorical'\n",
    "    , batch_size=bs\n",
    ")\n",
    "\n",
    "# fit_generator 사용"
   ]
  },
  {
   "cell_type": "code",
   "execution_count": 13,
   "id": "54cc78ca-273c-4794-946d-eec77667292d",
   "metadata": {},
   "outputs": [],
   "source": [
    "import tensorflow as tf\n",
    "\n",
    "class Mish(tf.keras.layers.Layer):\n",
    "    def __init__(self):\n",
    "        super(Mish, self).__init__()\n",
    "        \n",
    "    def call(self, inputs):\n",
    "        return inputs * tf.math.tanh(tf.math.softplus(inputs))"
   ]
  },
  {
   "cell_type": "code",
   "execution_count": 14,
   "id": "b0e74251-3943-49a9-a0be-ec8a6af52a6f",
   "metadata": {},
   "outputs": [],
   "source": [
    "class Dense_Layer(tf.keras.layers.Layer):\n",
    "    def __init__(self\n",
    "                , filters\n",
    "                , kernel_size=3\n",
    "                , padding='same'\n",
    "                , strides=1\n",
    "                , activation=Mish\n",
    "                , **kwargs):\n",
    "        super(Dense_Layer, self).__init__()\n",
    "        \n",
    "        self.activation=activation()\n",
    "        self.strides=strides\n",
    "        \n",
    "        # Dense Block\n",
    "        self.BN1 = BatchNormalization()\n",
    "        self.Conv1 = Conv2D(filters * 4, 1, padding=padding, strides=1)\n",
    "        \n",
    "        self.BN2 = BatchNormalization()\n",
    "        self.Conv2 = Conv2D(filters, 3, padding=padding, strides=1)\n",
    "        \n",
    "        \n",
    "    def call(self, inputs):\n",
    "        out = inputs\n",
    "        \n",
    "        out = self.activation(out)\n",
    "        out = self.BN1(out)\n",
    "        out = self.Conv1(out)\n",
    "        \n",
    "        out = self.activation(out)\n",
    "        out = self.BN2(out)\n",
    "        out = self.Conv2(out)\n",
    "        \n",
    "        \n",
    "        out = Concatenate(axis=-1)([inputs, out])\n",
    "        \n",
    "        return out"
   ]
  },
  {
   "cell_type": "code",
   "execution_count": 15,
   "id": "9c311bce-0f73-413f-9261-cb65c4fac4e8",
   "metadata": {},
   "outputs": [],
   "source": [
    "class Transition_Layer(tf.keras.layers.Layer):\n",
    "    def __init__(self\n",
    "                , filters):\n",
    "        super(Transition_Layer, self).__init__()\n",
    "        \n",
    "        self.BN = BatchNormalization()\n",
    "        #self.act = ReLU()\n",
    "        self.act = Mish()\n",
    "        self.conv = Conv2D(filters, 1)\n",
    "        self.avg_pool = AveragePooling2D(pool_size=2, strides=2)\n",
    "        \n",
    "    def call(self, inputs):\n",
    "        out = inputs\n",
    "        \n",
    "        out = self.BN(out)\n",
    "        out = self.act(out)\n",
    "        out = self.conv(out)\n",
    "        out = self.avg_pool(out)\n",
    "        \n",
    "        return out"
   ]
  },
  {
   "cell_type": "code",
   "execution_count": 16,
   "id": "3decdfec-dd21-4f97-81c3-5987f6658e11",
   "metadata": {
    "collapsed": true,
    "jupyter": {
     "outputs_hidden": true
    },
    "tags": []
   },
   "outputs": [
    {
     "name": "stdout",
     "output_type": "stream",
     "text": [
      "Model: \"model_1\"\n",
      "_________________________________________________________________\n",
      " Layer (type)                Output Shape              Param #   \n",
      "=================================================================\n",
      " input_2 (InputLayer)        [(None, 224, 224, 3)]     0         \n",
      "                                                                 \n",
      " conv2d_37 (Conv2D)          (None, 112, 112, 64)      9472      \n",
      "                                                                 \n",
      " max_pooling2d_1 (MaxPooling  (None, 56, 56, 64)       0         \n",
      " 2D)                                                             \n",
      "                                                                 \n",
      " dense__layer_16 (Dense_Laye  (None, 56, 56, 128)      165440    \n",
      " r)                                                              \n",
      "                                                                 \n",
      " dense__layer_17 (Dense_Laye  (None, 56, 56, 192)      182080    \n",
      " r)                                                              \n",
      "                                                                 \n",
      " dense__layer_18 (Dense_Laye  (None, 56, 56, 256)      198720    \n",
      " r)                                                              \n",
      "                                                                 \n",
      " dense__layer_19 (Dense_Laye  (None, 56, 56, 320)      215360    \n",
      " r)                                                              \n",
      "                                                                 \n",
      " transition__layer_4 (Transi  (None, 28, 28, 64)       21824     \n",
      " tion_Layer)                                                     \n",
      "                                                                 \n",
      " dense__layer_20 (Dense_Laye  (None, 28, 28, 192)      625536    \n",
      " r)                                                              \n",
      "                                                                 \n",
      " dense__layer_21 (Dense_Laye  (None, 28, 28, 320)      691584    \n",
      " r)                                                              \n",
      "                                                                 \n",
      " dense__layer_22 (Dense_Laye  (None, 28, 28, 448)      757632    \n",
      " r)                                                              \n",
      "                                                                 \n",
      " dense__layer_23 (Dense_Laye  (None, 28, 28, 576)      823680    \n",
      " r)                                                              \n",
      "                                                                 \n",
      " transition__layer_5 (Transi  (None, 14, 14, 128)      76160     \n",
      " tion_Layer)                                                     \n",
      "                                                                 \n",
      " dense__layer_24 (Dense_Laye  (None, 14, 14, 384)      2496256   \n",
      " r)                                                              \n",
      "                                                                 \n",
      " dense__layer_25 (Dense_Laye  (None, 14, 14, 640)      2759424   \n",
      " r)                                                              \n",
      "                                                                 \n",
      " dense__layer_26 (Dense_Laye  (None, 14, 14, 896)      3022592   \n",
      " r)                                                              \n",
      "                                                                 \n",
      " dense__layer_27 (Dense_Laye  (None, 14, 14, 1152)     3285760   \n",
      " r)                                                              \n",
      "                                                                 \n",
      " transition__layer_6 (Transi  (None, 7, 7, 256)        299776    \n",
      " tion_Layer)                                                     \n",
      "                                                                 \n",
      " dense__layer_28 (Dense_Laye  (None, 7, 7, 768)        9973248   \n",
      " r)                                                              \n",
      "                                                                 \n",
      " dense__layer_29 (Dense_Laye  (None, 7, 7, 1280)       11023872  \n",
      " r)                                                              \n",
      "                                                                 \n",
      " dense__layer_30 (Dense_Laye  (None, 7, 7, 1792)       12074496  \n",
      " r)                                                              \n",
      "                                                                 \n",
      " dense__layer_31 (Dense_Laye  (None, 7, 7, 2304)       13125120  \n",
      " r)                                                              \n",
      "                                                                 \n",
      " transition__layer_7 (Transi  (None, 3, 3, 512)        1189376   \n",
      " tion_Layer)                                                     \n",
      "                                                                 \n",
      " global_average_pooling2d_1   (None, 512)              0         \n",
      " (GlobalAveragePooling2D)                                        \n",
      "                                                                 \n",
      " dense_3 (Dense)             (None, 1024)              525312    \n",
      "                                                                 \n",
      " dense_4 (Dense)             (None, 512)               524800    \n",
      "                                                                 \n",
      " dense_5 (Dense)             (None, 200)               102600    \n",
      "                                                                 \n",
      "=================================================================\n",
      "Total params: 64,170,120\n",
      "Trainable params: 64,115,080\n",
      "Non-trainable params: 55,040\n",
      "_________________________________________________________________\n"
     ]
    }
   ],
   "source": [
    "def DenseNet_121(n_classes=200):\n",
    "    # STEM layer\n",
    "    inputs = Input(shape=(224, 224, 3))\n",
    "    out = inputs\n",
    "    out = Conv2D(64, 7, padding='same', strides=2)(out)\n",
    "    out = MaxPool2D((3,3), strides=2, padding='same')(out)\n",
    "        \n",
    "    prev = 64\n",
    "    for filters in [64, 128, 256, 512]: # dense layers\n",
    "        for blocks in [6, 12, 24, 16]:\n",
    "            out = Dense_Layer(filters)(out)\n",
    "        out = Transition_Layer(filters)(out)\n",
    "        \n",
    "    out = GlobalAveragePooling2D()(out)\n",
    "    out = Dense(1024, activation='relu')(out)\n",
    "    out = Dense(512, activation='relu')(out)\n",
    "    out = Dense(200, activation='softmax', kernel_regularizer=L2())(out)\n",
    "    \n",
    "    return Model(inputs, out)\n",
    "\n",
    "model = DenseNet_121()\n",
    "model.summary()"
   ]
  },
  {
   "cell_type": "code",
   "execution_count": 17,
   "id": "6c97ba38-3f15-469e-bee5-1cf50db0e8bd",
   "metadata": {},
   "outputs": [
    {
     "data": {
      "text/html": [
       "Finishing last run (ID:rdodcw9v) before initializing another..."
      ],
      "text/plain": [
       "<IPython.core.display.HTML object>"
      ]
     },
     "metadata": {},
     "output_type": "display_data"
    },
    {
     "data": {
      "text/html": [
       "Waiting for W&B process to finish... <strong style=\"color:green\">(success).</strong>"
      ],
      "text/plain": [
       "<IPython.core.display.HTML object>"
      ]
     },
     "metadata": {},
     "output_type": "display_data"
    },
    {
     "data": {
      "text/html": [
       "<style>\n",
       "    table.wandb td:nth-child(1) { padding: 0 10px; text-align: left ; width: auto;} td:nth-child(2) {text-align: left ; width: 100%}\n",
       "    .wandb-row { display: flex; flex-direction: row; flex-wrap: wrap; justify-content: flex-start; width: 100% }\n",
       "    .wandb-col { display: flex; flex-direction: column; flex-basis: 100%; flex: 1; padding: 10px; }\n",
       "    </style>\n",
       "<div class=\"wandb-row\"><div class=\"wandb-col\"><h3>Run history:</h3><br/><table class=\"wandb\"><tr><td>accuracy</td><td>▁▁▂▂▃▃▄▄▅▅▆▆▆▇▇▇▇███████████████████████</td></tr><tr><td>loss</td><td>█▇▆▅▄▄▃▃▃▂▂▂▂▂▂▁▁▁▁▁▁▁▁▁▁▁▁▁▁▁▁▁▁▁▁▁▁▁▁▁</td></tr><tr><td>val_accuracy</td><td>▁▁▂▂▃▃▄▅▆▅▆▆▆▆▆▇▆▇▇▆▇▇▇▇▇█▇█▇▇███▇▇█████</td></tr><tr><td>val_loss</td><td>██▆▆▄▄▃▂▂▃▂▂▂▂▂▂▃▂▂▂▂▂▂▂▂▁▂▂▂▂▁▁▁▂▂▁▁▁▁▁</td></tr></table><br/></div><div class=\"wandb-col\"><h3>Run summary:</h3><br/><table class=\"wandb\"><tr><td>accuracy</td><td>0.99857</td></tr><tr><td>loss</td><td>0.05445</td></tr><tr><td>val_accuracy</td><td>0.5626</td></tr><tr><td>val_loss</td><td>2.21659</td></tr></table><br/></div></div>"
      ],
      "text/plain": [
       "<IPython.core.display.HTML object>"
      ]
     },
     "metadata": {},
     "output_type": "display_data"
    },
    {
     "data": {
      "text/html": [
       " View run <strong style=\"color:#cdcd00\">curious-lake-10</strong> at: <a href='https://wandb.ai/kimmugyum/bird_returns2/runs/rdodcw9v' target=\"_blank\">https://wandb.ai/kimmugyum/bird_returns2/runs/rdodcw9v</a><br/>Synced 5 W&B file(s), 0 media file(s), 0 artifact file(s) and 0 other file(s)"
      ],
      "text/plain": [
       "<IPython.core.display.HTML object>"
      ]
     },
     "metadata": {},
     "output_type": "display_data"
    },
    {
     "data": {
      "text/html": [
       "Find logs at: <code>./wandb/run-20230402_034334-rdodcw9v/logs</code>"
      ],
      "text/plain": [
       "<IPython.core.display.HTML object>"
      ]
     },
     "metadata": {},
     "output_type": "display_data"
    },
    {
     "data": {
      "text/html": [
       "Successfully finished last run (ID:rdodcw9v). Initializing new run:<br/>"
      ],
      "text/plain": [
       "<IPython.core.display.HTML object>"
      ]
     },
     "metadata": {},
     "output_type": "display_data"
    },
    {
     "data": {
      "application/vnd.jupyter.widget-view+json": {
       "model_id": "57782e4f26b54e5ca33616d0ed3d247e",
       "version_major": 2,
       "version_minor": 0
      },
      "text/plain": [
       "VBox(children=(Label(value='Waiting for wandb.init()...\\r'), FloatProgress(value=0.01666943806534012, max=1.0)…"
      ]
     },
     "metadata": {},
     "output_type": "display_data"
    },
    {
     "data": {
      "text/html": [
       "wandb version 0.14.0 is available!  To upgrade, please run:\n",
       " $ pip install wandb --upgrade"
      ],
      "text/plain": [
       "<IPython.core.display.HTML object>"
      ]
     },
     "metadata": {},
     "output_type": "display_data"
    },
    {
     "data": {
      "text/html": [
       "Tracking run with wandb version 0.13.10"
      ],
      "text/plain": [
       "<IPython.core.display.HTML object>"
      ]
     },
     "metadata": {},
     "output_type": "display_data"
    },
    {
     "data": {
      "text/html": [
       "Run data is saved locally in <code>/root/jupyter/DIP-lab_1/bird/wandb/run-20230402_054347-72sff8b8</code>"
      ],
      "text/plain": [
       "<IPython.core.display.HTML object>"
      ]
     },
     "metadata": {},
     "output_type": "display_data"
    },
    {
     "data": {
      "text/html": [
       "Syncing run <strong><a href='https://wandb.ai/kimmugyum/bird_returns2/runs/72sff8b8' target=\"_blank\">lucky-shadow-11</a></strong> to <a href='https://wandb.ai/kimmugyum/bird_returns2' target=\"_blank\">Weights & Biases</a> (<a href='https://wandb.me/run' target=\"_blank\">docs</a>)<br/>"
      ],
      "text/plain": [
       "<IPython.core.display.HTML object>"
      ]
     },
     "metadata": {},
     "output_type": "display_data"
    },
    {
     "data": {
      "text/html": [
       " View project at <a href='https://wandb.ai/kimmugyum/bird_returns2' target=\"_blank\">https://wandb.ai/kimmugyum/bird_returns2</a>"
      ],
      "text/plain": [
       "<IPython.core.display.HTML object>"
      ]
     },
     "metadata": {},
     "output_type": "display_data"
    },
    {
     "data": {
      "text/html": [
       " View run at <a href='https://wandb.ai/kimmugyum/bird_returns2/runs/72sff8b8' target=\"_blank\">https://wandb.ai/kimmugyum/bird_returns2/runs/72sff8b8</a>"
      ],
      "text/plain": [
       "<IPython.core.display.HTML object>"
      ]
     },
     "metadata": {},
     "output_type": "display_data"
    },
    {
     "data": {
      "text/html": [
       "<button onClick=\"this.nextSibling.style.display='block';this.style.display='none';\">Display W&B run</button><iframe src='https://wandb.ai/kimmugyum/bird_returns2/runs/72sff8b8?jupyter=true' style='border:none;width:100%;height:420px;display:none;'></iframe>"
      ],
      "text/plain": [
       "<wandb.sdk.wandb_run.Run at 0x7f2a8c2d4e80>"
      ]
     },
     "execution_count": 17,
     "metadata": {},
     "output_type": "execute_result"
    }
   ],
   "source": [
    "wandb.init(\n",
    "    # set the wandb project where this run will be logged\n",
    "    project=\"bird_returns2\",\n",
    "    \n",
    "    # track hyperparameters and run metadata\n",
    "    config={\n",
    "    \"learning_rate\": 0.001,\n",
    "    \"architecture\": \"CNN\"\n",
    "    }\n",
    ")"
   ]
  },
  {
   "cell_type": "code",
   "execution_count": 18,
   "id": "42b4630c-ed97-497c-a67f-e815325a2496",
   "metadata": {},
   "outputs": [],
   "source": [
    "import wandb\n",
    "from tensorflow.keras.callbacks import Callback\n",
    "\n",
    "class WandbCallback(Callback):\n",
    "    def __init__(self):\n",
    "        super().__init__()\n",
    "\n",
    "    def on_epoch_end(self, epoch, logs=None):\n",
    "        wandb.log(logs)\n",
    "\n",
    "wandbcallback = WandbCallback()"
   ]
  },
  {
   "cell_type": "code",
   "execution_count": 19,
   "id": "a618a9fa-87f4-43df-8f69-bd97f41ad238",
   "metadata": {},
   "outputs": [],
   "source": [
    "LR = 0.01\n",
    "\n",
    "model.compile(loss='categorical_crossentropy'\n",
    "             , optimizer=tf.keras.optimizers.SGD(learning_rate=LR)\n",
    "             , metrics=['accuracy'])"
   ]
  },
  {
   "cell_type": "code",
   "execution_count": null,
   "id": "8de4f866-58f4-4244-b1f6-f45b830185ea",
   "metadata": {},
   "outputs": [
    {
     "name": "stderr",
     "output_type": "stream",
     "text": [
      "/tmp/ipykernel_240710/3167582973.py:1: UserWarning: `Model.fit_generator` is deprecated and will be removed in a future version. Please use `Model.fit`, which supports generators.\n",
      "  model.fit_generator(tn_set\n"
     ]
    },
    {
     "name": "stdout",
     "output_type": "stream",
     "text": [
      "Epoch 1/100\n",
      "164/164 [==============================] - 79s 432ms/step - loss: 8.0214 - accuracy: 0.0131 - val_loss: 7.9931 - val_accuracy: 0.0061\n",
      "Epoch 2/100\n",
      "164/164 [==============================] - 70s 405ms/step - loss: 7.6171 - accuracy: 0.0293 - val_loss: 7.7504 - val_accuracy: 0.0122\n",
      "Epoch 3/100\n",
      "164/164 [==============================] - 72s 421ms/step - loss: 7.2086 - accuracy: 0.0446 - val_loss: 8.3230 - val_accuracy: 0.0122\n",
      "Epoch 4/100\n",
      "164/164 [==============================] - 72s 417ms/step - loss: 6.8233 - accuracy: 0.0627 - val_loss: 6.9428 - val_accuracy: 0.0489\n",
      "Epoch 5/100\n",
      "164/164 [==============================] - 73s 420ms/step - loss: 6.4504 - accuracy: 0.0844 - val_loss: 6.8036 - val_accuracy: 0.0382\n",
      "Epoch 6/100\n",
      "164/164 [==============================] - 72s 411ms/step - loss: 6.1130 - accuracy: 0.0985 - val_loss: 7.0591 - val_accuracy: 0.0458\n",
      "Epoch 7/100\n",
      "164/164 [==============================] - 71s 403ms/step - loss: 5.7836 - accuracy: 0.1266 - val_loss: 6.3930 - val_accuracy: 0.0527\n",
      "Epoch 8/100\n",
      "164/164 [==============================] - 73s 417ms/step - loss: 5.4706 - accuracy: 0.1481 - val_loss: 6.5811 - val_accuracy: 0.0786\n",
      "Epoch 9/100\n",
      "164/164 [==============================] - 73s 419ms/step - loss: 5.2014 - accuracy: 0.1687 - val_loss: 5.5349 - val_accuracy: 0.1244\n",
      "Epoch 10/100\n",
      "164/164 [==============================] - 68s 397ms/step - loss: 4.9341 - accuracy: 0.1989 - val_loss: 5.9793 - val_accuracy: 0.0901\n",
      "Epoch 11/100\n",
      "164/164 [==============================] - 73s 418ms/step - loss: 4.6869 - accuracy: 0.2247 - val_loss: 5.1438 - val_accuracy: 0.1618\n",
      "Epoch 12/100\n",
      "164/164 [==============================] - 71s 410ms/step - loss: 4.4186 - accuracy: 0.2553 - val_loss: 4.9961 - val_accuracy: 0.1824\n",
      "Epoch 13/100\n",
      " 31/164 [====>.........................] - ETA: 43s - loss: 4.1926 - accuracy: 0.2955"
     ]
    }
   ],
   "source": [
    "model.fit_generator(tn_set\n",
    "                    , validation_data=val_set\n",
    "                    , epochs=100\n",
    "                    , use_multiprocessing=True\n",
    "                    , workers=15\n",
    "                    , callbacks=[wandbcallback])"
   ]
  },
  {
   "cell_type": "code",
   "execution_count": null,
   "id": "256177d2-d90b-409d-97d4-29b07a38c5b6",
   "metadata": {},
   "outputs": [],
   "source": []
  }
 ],
 "metadata": {
  "kernelspec": {
   "display_name": "Python 3 (ipykernel)",
   "language": "python",
   "name": "python3"
  },
  "language_info": {
   "codemirror_mode": {
    "name": "ipython",
    "version": 3
   },
   "file_extension": ".py",
   "mimetype": "text/x-python",
   "name": "python",
   "nbconvert_exporter": "python",
   "pygments_lexer": "ipython3",
   "version": "3.8.10"
  }
 },
 "nbformat": 4,
 "nbformat_minor": 5
}
