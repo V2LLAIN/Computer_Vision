{
 "cells": [
  {
   "cell_type": "code",
   "execution_count": 1,
   "id": "c0f1d050-6280-4f27-8e26-f68fbadb2ebf",
   "metadata": {},
   "outputs": [
    {
     "name": "stderr",
     "output_type": "stream",
     "text": [
      "2023-04-04 13:51:57.554407: I tensorflow/core/platform/cpu_feature_guard.cc:193] This TensorFlow binary is optimized with oneAPI Deep Neural Network Library (oneDNN) to use the following CPU instructions in performance-critical operations:  AVX2 AVX512F AVX512_VNNI FMA\n",
      "To enable them in other operations, rebuild TensorFlow with the appropriate compiler flags.\n",
      "2023-04-04 13:51:57.665599: I tensorflow/core/util/util.cc:169] oneDNN custom operations are on. You may see slightly different numerical results due to floating-point round-off errors from different computation orders. To turn them off, set the environment variable `TF_ENABLE_ONEDNN_OPTS=0`.\n",
      "2023-04-04 13:51:57.691860: E tensorflow/stream_executor/cuda/cuda_blas.cc:2981] Unable to register cuBLAS factory: Attempting to register factory for plugin cuBLAS when one has already been registered\n",
      "/usr/lib/python3/dist-packages/requests/__init__.py:89: RequestsDependencyWarning: urllib3 (1.26.14) or chardet (3.0.4) doesn't match a supported version!\n",
      "  warnings.warn(\"urllib3 ({}) or chardet ({}) doesn't match a supported \"\n"
     ]
    }
   ],
   "source": [
    "import os\n",
    "import random\n",
    "import numpy as np\n",
    "import pandas as pd\n",
    "import tensorflow as tf\n",
    "import matplotlib.pyplot as plt\n",
    "\n",
    "from tensorflow import keras\n",
    "from tensorflow.keras.preprocessing.image import load_img\n",
    "\n",
    "from tensorflow.keras.models import *\n",
    "from tensorflow.keras.layers import *\n",
    "from tensorflow.keras.losses import *\n",
    "from tensorflow.keras.metrics import *\n",
    "from tensorflow.keras.optimizers import *\n",
    "from tensorflow.keras.activations import *\n",
    "\n",
    "from tensorflow.keras.regularizers import *\n",
    "\n",
    "from tensorflow.keras.callbacks import *\n",
    "from tensorflow.keras.preprocessing import *"
   ]
  },
  {
   "cell_type": "code",
   "execution_count": 2,
   "id": "a318d837-cb8f-4218-873e-48da252cd772",
   "metadata": {},
   "outputs": [],
   "source": [
    "input_dir = './images/'\n",
    "target_dir = './annotations/trimaps/'\n",
    "\n",
    "img_paths=sorted([os.path.join(input_dir,f) \n",
    "                  for f in os.listdir(input_dir) \n",
    "                  if f.endswith('.jpg')])\n",
    "\n",
    "\n",
    "label_paths=sorted([os.path.join(target_dir,f) \n",
    "                    for f in os.listdir(target_dir) \n",
    "                    if f.endswith('.png') and not f.startswith('.')])"
   ]
  },
  {
   "cell_type": "code",
   "execution_count": 3,
   "id": "8d6cd644-ca23-4e99-b453-7b5bacf35f4d",
   "metadata": {},
   "outputs": [],
   "source": [
    "img_siz = (160,160) \t# 모델에 입력되는 영상 크기\n",
    "n_class = 3     \t\t# 분할 레이블 (1:물체, 2:배경, 3:경계)\n",
    "batch_siz = 32  \t\t# 미니 배치 크기"
   ]
  },
  {
   "cell_type": "code",
   "execution_count": 4,
   "id": "ae49f0a0-1245-4971-a9a1-88b6641feed6",
   "metadata": {},
   "outputs": [],
   "source": [
    "class OxfordPets(keras.utils.Sequence):\n",
    "    def __init__(self, batch_size,img_size,img_paths,label_paths):\n",
    "        self.batch_size=batch_size\n",
    "        self.img_size=img_size\n",
    "        self.img_paths=img_paths\n",
    "        self.label_paths=label_paths\n",
    "\n",
    "    def __len__(self):\n",
    "        return len(self.label_paths)//self.batch_size\n",
    "\n",
    "    def __getitem__(self,idx):\n",
    "        i = idx*self.batch_size\n",
    "        batch_img_paths = self.img_paths[i:i+self.batch_size]\n",
    "        batch_label_paths = self.label_paths[i:i+self.batch_size]\n",
    "        \n",
    "        \n",
    "        x = np.zeros((self.batch_size,) + self.img_size + (3,), dtype=\"float32\")\n",
    "        for j, path in enumerate(batch_img_paths):\n",
    "            img=load_img(path,target_size=self.img_size)\n",
    "            x[j]=img\n",
    "            \n",
    "            \n",
    "        y = np.zeros((self.batch_size,) + self.img_size + (1,), dtype=\"uint8\")\n",
    "        for j, path in enumerate(batch_label_paths):\n",
    "            img = load_img(path, target_size=self.img_size, color_mode=\"grayscale\")\n",
    "            y[j] = np.expand_dims(img,2)\n",
    "            y[j]-=1\t\t# 부류 번호를 1,2,3에서 0,1,2로 변환\n",
    "            \n",
    "        return x,y"
   ]
  },
  {
   "cell_type": "code",
   "execution_count": 5,
   "id": "fee3909a-1d19-40d2-b069-fa1f49337527",
   "metadata": {},
   "outputs": [],
   "source": [
    "def U_Net(img_size,num_classes):\n",
    "    inputs=Input(shape=img_size+(3,))\n",
    "\n",
    "    # U-net의 다운 샘플링(축소 경로)\n",
    "    x = Conv2D(32,3,strides=2,padding='same')(inputs)\n",
    "    x = BatchNormalization()(x)\n",
    "    x = Activation('relu')(x)\n",
    "    previous_block_activation=x\t\t# 지름길 연결을 위해\n",
    "\n",
    "    \n",
    "    for filters in [64,128,256]:\n",
    "        x = Activation('relu')(x)\n",
    "        x = SeparableConv2D(filters,3,padding='same')(x)\n",
    "        x = BatchNormalization()(x)\n",
    "        \n",
    "        x = Activation('relu')(x)\n",
    "        x = SeparableConv2D(filters,3,padding='same')(x)\n",
    "        x = BatchNormalization()(x)\n",
    "        \n",
    "        x = MaxPooling2D(3,strides=2,padding='same')(x)\n",
    "        \n",
    "        residual = Conv2D(filters,1,strides=2,padding='same')(previous_block_activation)\n",
    "        \n",
    "        x=add([x,residual])\t# 지름길 연결  \n",
    "        \n",
    "        previous_block_activation=x\t# 지름길 연결을 위해\n",
    "\n",
    "    # U-net의 업 샘플링(확대 경로)\n",
    "    for filters in [256, 128, 64, 32]:\n",
    "        x = Activation('relu')(x)\n",
    "        x = Conv2DTranspose(filters,3,padding='same')(x)\n",
    "        x = BatchNormalization()(x)\n",
    "        \n",
    "        x = Activation('relu')(x)\n",
    "        x = Conv2DTranspose(filters,3,padding='same')(x)\n",
    "        x = BatchNormalization()(x)\n",
    "        \n",
    "        x = UpSampling2D(2)(x)\n",
    "        \n",
    "        residual = UpSampling2D(2)(previous_block_activation)\n",
    "        \n",
    "        residual = Conv2D(filters,1,padding='same')(residual)\n",
    "        \n",
    "        x = add([x,residual])\t# 지름길 연결\n",
    "        \n",
    "        previous_block_activation=x\t# 지름길 연결을 위해\n",
    "\n",
    "    outputs = Conv2D(num_classes,3,activation='softmax',padding='same')(x)\n",
    "    \n",
    "    model = Model(inputs, outputs)\t# 모델 생성\n",
    "    \n",
    "    return model"
   ]
  },
  {
   "cell_type": "code",
   "execution_count": 6,
   "id": "eb5d7d31-23ab-4a8a-9044-ba5f239eafc6",
   "metadata": {},
   "outputs": [
    {
     "name": "stderr",
     "output_type": "stream",
     "text": [
      "2023-04-04 13:51:59.451887: I tensorflow/core/platform/cpu_feature_guard.cc:193] This TensorFlow binary is optimized with oneAPI Deep Neural Network Library (oneDNN) to use the following CPU instructions in performance-critical operations:  AVX2 AVX512F AVX512_VNNI FMA\n",
      "To enable them in other operations, rebuild TensorFlow with the appropriate compiler flags.\n",
      "2023-04-04 13:51:59.971263: I tensorflow/core/common_runtime/gpu/gpu_device.cc:1616] Created device /job:localhost/replica:0/task:0/device:GPU:0 with 22292 MB memory:  -> device: 0, name: NVIDIA GeForce RTX 3090, pci bus id: 0000:19:00.0, compute capability: 8.6\n"
     ]
    },
    {
     "name": "stdout",
     "output_type": "stream",
     "text": [
      "Model: \"model\"\n",
      "__________________________________________________________________________________________________\n",
      " Layer (type)                   Output Shape         Param #     Connected to                     \n",
      "==================================================================================================\n",
      " input_1 (InputLayer)           [(None, 160, 160, 3  0           []                               \n",
      "                                )]                                                                \n",
      "                                                                                                  \n",
      " conv2d (Conv2D)                (None, 80, 80, 32)   896         ['input_1[0][0]']                \n",
      "                                                                                                  \n",
      " batch_normalization (BatchNorm  (None, 80, 80, 32)  128         ['conv2d[0][0]']                 \n",
      " alization)                                                                                       \n",
      "                                                                                                  \n",
      " activation (Activation)        (None, 80, 80, 32)   0           ['batch_normalization[0][0]']    \n",
      "                                                                                                  \n",
      " activation_1 (Activation)      (None, 80, 80, 32)   0           ['activation[0][0]']             \n",
      "                                                                                                  \n",
      " separable_conv2d (SeparableCon  (None, 80, 80, 64)  2400        ['activation_1[0][0]']           \n",
      " v2D)                                                                                             \n",
      "                                                                                                  \n",
      " batch_normalization_1 (BatchNo  (None, 80, 80, 64)  256         ['separable_conv2d[0][0]']       \n",
      " rmalization)                                                                                     \n",
      "                                                                                                  \n",
      " activation_2 (Activation)      (None, 80, 80, 64)   0           ['batch_normalization_1[0][0]']  \n",
      "                                                                                                  \n",
      " separable_conv2d_1 (SeparableC  (None, 80, 80, 64)  4736        ['activation_2[0][0]']           \n",
      " onv2D)                                                                                           \n",
      "                                                                                                  \n",
      " batch_normalization_2 (BatchNo  (None, 80, 80, 64)  256         ['separable_conv2d_1[0][0]']     \n",
      " rmalization)                                                                                     \n",
      "                                                                                                  \n",
      " max_pooling2d (MaxPooling2D)   (None, 40, 40, 64)   0           ['batch_normalization_2[0][0]']  \n",
      "                                                                                                  \n",
      " conv2d_1 (Conv2D)              (None, 40, 40, 64)   2112        ['activation[0][0]']             \n",
      "                                                                                                  \n",
      " add (Add)                      (None, 40, 40, 64)   0           ['max_pooling2d[0][0]',          \n",
      "                                                                  'conv2d_1[0][0]']               \n",
      "                                                                                                  \n",
      " activation_3 (Activation)      (None, 40, 40, 64)   0           ['add[0][0]']                    \n",
      "                                                                                                  \n",
      " separable_conv2d_2 (SeparableC  (None, 40, 40, 128)  8896       ['activation_3[0][0]']           \n",
      " onv2D)                                                                                           \n",
      "                                                                                                  \n",
      " batch_normalization_3 (BatchNo  (None, 40, 40, 128)  512        ['separable_conv2d_2[0][0]']     \n",
      " rmalization)                                                                                     \n",
      "                                                                                                  \n",
      " activation_4 (Activation)      (None, 40, 40, 128)  0           ['batch_normalization_3[0][0]']  \n",
      "                                                                                                  \n",
      " separable_conv2d_3 (SeparableC  (None, 40, 40, 128)  17664      ['activation_4[0][0]']           \n",
      " onv2D)                                                                                           \n",
      "                                                                                                  \n",
      " batch_normalization_4 (BatchNo  (None, 40, 40, 128)  512        ['separable_conv2d_3[0][0]']     \n",
      " rmalization)                                                                                     \n",
      "                                                                                                  \n",
      " max_pooling2d_1 (MaxPooling2D)  (None, 20, 20, 128)  0          ['batch_normalization_4[0][0]']  \n",
      "                                                                                                  \n",
      " conv2d_2 (Conv2D)              (None, 20, 20, 128)  8320        ['add[0][0]']                    \n",
      "                                                                                                  \n",
      " add_1 (Add)                    (None, 20, 20, 128)  0           ['max_pooling2d_1[0][0]',        \n",
      "                                                                  'conv2d_2[0][0]']               \n",
      "                                                                                                  \n",
      " activation_5 (Activation)      (None, 20, 20, 128)  0           ['add_1[0][0]']                  \n",
      "                                                                                                  \n",
      " separable_conv2d_4 (SeparableC  (None, 20, 20, 256)  34176      ['activation_5[0][0]']           \n",
      " onv2D)                                                                                           \n",
      "                                                                                                  \n",
      " batch_normalization_5 (BatchNo  (None, 20, 20, 256)  1024       ['separable_conv2d_4[0][0]']     \n",
      " rmalization)                                                                                     \n",
      "                                                                                                  \n",
      " activation_6 (Activation)      (None, 20, 20, 256)  0           ['batch_normalization_5[0][0]']  \n",
      "                                                                                                  \n",
      " separable_conv2d_5 (SeparableC  (None, 20, 20, 256)  68096      ['activation_6[0][0]']           \n",
      " onv2D)                                                                                           \n",
      "                                                                                                  \n",
      " batch_normalization_6 (BatchNo  (None, 20, 20, 256)  1024       ['separable_conv2d_5[0][0]']     \n",
      " rmalization)                                                                                     \n",
      "                                                                                                  \n",
      " max_pooling2d_2 (MaxPooling2D)  (None, 10, 10, 256)  0          ['batch_normalization_6[0][0]']  \n",
      "                                                                                                  \n",
      " conv2d_3 (Conv2D)              (None, 10, 10, 256)  33024       ['add_1[0][0]']                  \n",
      "                                                                                                  \n",
      " add_2 (Add)                    (None, 10, 10, 256)  0           ['max_pooling2d_2[0][0]',        \n",
      "                                                                  'conv2d_3[0][0]']               \n",
      "                                                                                                  \n",
      " activation_7 (Activation)      (None, 10, 10, 256)  0           ['add_2[0][0]']                  \n",
      "                                                                                                  \n",
      " conv2d_transpose (Conv2DTransp  (None, 10, 10, 256)  590080     ['activation_7[0][0]']           \n",
      " ose)                                                                                             \n",
      "                                                                                                  \n",
      " batch_normalization_7 (BatchNo  (None, 10, 10, 256)  1024       ['conv2d_transpose[0][0]']       \n",
      " rmalization)                                                                                     \n",
      "                                                                                                  \n",
      " activation_8 (Activation)      (None, 10, 10, 256)  0           ['batch_normalization_7[0][0]']  \n",
      "                                                                                                  \n",
      " conv2d_transpose_1 (Conv2DTran  (None, 10, 10, 256)  590080     ['activation_8[0][0]']           \n",
      " spose)                                                                                           \n",
      "                                                                                                  \n",
      " batch_normalization_8 (BatchNo  (None, 10, 10, 256)  1024       ['conv2d_transpose_1[0][0]']     \n",
      " rmalization)                                                                                     \n",
      "                                                                                                  \n",
      " up_sampling2d_1 (UpSampling2D)  (None, 20, 20, 256)  0          ['add_2[0][0]']                  \n",
      "                                                                                                  \n",
      " up_sampling2d (UpSampling2D)   (None, 20, 20, 256)  0           ['batch_normalization_8[0][0]']  \n",
      "                                                                                                  \n",
      " conv2d_4 (Conv2D)              (None, 20, 20, 256)  65792       ['up_sampling2d_1[0][0]']        \n",
      "                                                                                                  \n",
      " add_3 (Add)                    (None, 20, 20, 256)  0           ['up_sampling2d[0][0]',          \n",
      "                                                                  'conv2d_4[0][0]']               \n",
      "                                                                                                  \n",
      " activation_9 (Activation)      (None, 20, 20, 256)  0           ['add_3[0][0]']                  \n",
      "                                                                                                  \n",
      " conv2d_transpose_2 (Conv2DTran  (None, 20, 20, 128)  295040     ['activation_9[0][0]']           \n",
      " spose)                                                                                           \n",
      "                                                                                                  \n",
      " batch_normalization_9 (BatchNo  (None, 20, 20, 128)  512        ['conv2d_transpose_2[0][0]']     \n",
      " rmalization)                                                                                     \n",
      "                                                                                                  \n",
      " activation_10 (Activation)     (None, 20, 20, 128)  0           ['batch_normalization_9[0][0]']  \n",
      "                                                                                                  \n",
      " conv2d_transpose_3 (Conv2DTran  (None, 20, 20, 128)  147584     ['activation_10[0][0]']          \n",
      " spose)                                                                                           \n",
      "                                                                                                  \n",
      " batch_normalization_10 (BatchN  (None, 20, 20, 128)  512        ['conv2d_transpose_3[0][0]']     \n",
      " ormalization)                                                                                    \n",
      "                                                                                                  \n",
      " up_sampling2d_3 (UpSampling2D)  (None, 40, 40, 256)  0          ['add_3[0][0]']                  \n",
      "                                                                                                  \n",
      " up_sampling2d_2 (UpSampling2D)  (None, 40, 40, 128)  0          ['batch_normalization_10[0][0]'] \n",
      "                                                                                                  \n",
      " conv2d_5 (Conv2D)              (None, 40, 40, 128)  32896       ['up_sampling2d_3[0][0]']        \n",
      "                                                                                                  \n",
      " add_4 (Add)                    (None, 40, 40, 128)  0           ['up_sampling2d_2[0][0]',        \n",
      "                                                                  'conv2d_5[0][0]']               \n",
      "                                                                                                  \n",
      " activation_11 (Activation)     (None, 40, 40, 128)  0           ['add_4[0][0]']                  \n",
      "                                                                                                  \n",
      " conv2d_transpose_4 (Conv2DTran  (None, 40, 40, 64)  73792       ['activation_11[0][0]']          \n",
      " spose)                                                                                           \n",
      "                                                                                                  \n",
      " batch_normalization_11 (BatchN  (None, 40, 40, 64)  256         ['conv2d_transpose_4[0][0]']     \n",
      " ormalization)                                                                                    \n",
      "                                                                                                  \n",
      " activation_12 (Activation)     (None, 40, 40, 64)   0           ['batch_normalization_11[0][0]'] \n",
      "                                                                                                  \n",
      " conv2d_transpose_5 (Conv2DTran  (None, 40, 40, 64)  36928       ['activation_12[0][0]']          \n",
      " spose)                                                                                           \n",
      "                                                                                                  \n",
      " batch_normalization_12 (BatchN  (None, 40, 40, 64)  256         ['conv2d_transpose_5[0][0]']     \n",
      " ormalization)                                                                                    \n",
      "                                                                                                  \n",
      " up_sampling2d_5 (UpSampling2D)  (None, 80, 80, 128)  0          ['add_4[0][0]']                  \n",
      "                                                                                                  \n",
      " up_sampling2d_4 (UpSampling2D)  (None, 80, 80, 64)  0           ['batch_normalization_12[0][0]'] \n",
      "                                                                                                  \n",
      " conv2d_6 (Conv2D)              (None, 80, 80, 64)   8256        ['up_sampling2d_5[0][0]']        \n",
      "                                                                                                  \n",
      " add_5 (Add)                    (None, 80, 80, 64)   0           ['up_sampling2d_4[0][0]',        \n",
      "                                                                  'conv2d_6[0][0]']               \n",
      "                                                                                                  \n",
      " activation_13 (Activation)     (None, 80, 80, 64)   0           ['add_5[0][0]']                  \n",
      "                                                                                                  \n",
      " conv2d_transpose_6 (Conv2DTran  (None, 80, 80, 32)  18464       ['activation_13[0][0]']          \n",
      " spose)                                                                                           \n",
      "                                                                                                  \n",
      " batch_normalization_13 (BatchN  (None, 80, 80, 32)  128         ['conv2d_transpose_6[0][0]']     \n",
      " ormalization)                                                                                    \n",
      "                                                                                                  \n",
      " activation_14 (Activation)     (None, 80, 80, 32)   0           ['batch_normalization_13[0][0]'] \n",
      "                                                                                                  \n",
      " conv2d_transpose_7 (Conv2DTran  (None, 80, 80, 32)  9248        ['activation_14[0][0]']          \n",
      " spose)                                                                                           \n",
      "                                                                                                  \n",
      " batch_normalization_14 (BatchN  (None, 80, 80, 32)  128         ['conv2d_transpose_7[0][0]']     \n",
      " ormalization)                                                                                    \n",
      "                                                                                                  \n",
      " up_sampling2d_7 (UpSampling2D)  (None, 160, 160, 64  0          ['add_5[0][0]']                  \n",
      "                                )                                                                 \n",
      "                                                                                                  \n",
      " up_sampling2d_6 (UpSampling2D)  (None, 160, 160, 32  0          ['batch_normalization_14[0][0]'] \n",
      "                                )                                                                 \n",
      "                                                                                                  \n",
      " conv2d_7 (Conv2D)              (None, 160, 160, 32  2080        ['up_sampling2d_7[0][0]']        \n",
      "                                )                                                                 \n",
      "                                                                                                  \n",
      " add_6 (Add)                    (None, 160, 160, 32  0           ['up_sampling2d_6[0][0]',        \n",
      "                                )                                 'conv2d_7[0][0]']               \n",
      "                                                                                                  \n",
      " conv2d_8 (Conv2D)              (None, 160, 160, 3)  867         ['add_6[0][0]']                  \n",
      "                                                                                                  \n",
      "==================================================================================================\n",
      "Total params: 2,058,979\n",
      "Trainable params: 2,055,203\n",
      "Non-trainable params: 3,776\n",
      "__________________________________________________________________________________________________\n"
     ]
    }
   ],
   "source": [
    "model = U_Net(img_siz, n_class)\t\t# 모델 생성\n",
    "model.summary()"
   ]
  },
  {
   "cell_type": "code",
   "execution_count": 7,
   "id": "fd626d6c-8908-4e33-80e4-c32249683d1b",
   "metadata": {},
   "outputs": [],
   "source": [
    "random.Random(1).shuffle(img_paths)\n",
    "random.Random(1).shuffle(label_paths)\n",
    "\n",
    "test_samples = int(len(img_paths) * 0.1)\t# 10%를 테스트 집합으로 사용\n",
    "train_img_paths = img_paths[:-test_samples]\n",
    "train_label_paths = label_paths[:-test_samples]\n",
    "test_img_paths = img_paths[-test_samples:]\n",
    "test_label_paths = label_paths[-test_samples:]\n",
    "\n",
    "train_gen = OxfordPets(batch_siz,img_siz,train_img_paths,train_label_paths) # 훈련 집합\n",
    "test_gen = OxfordPets(batch_siz,img_siz,test_img_paths,test_label_paths) # 검증 집합"
   ]
  },
  {
   "cell_type": "code",
   "execution_count": 8,
   "id": "12e6520d-50a7-476c-82f8-bcdbbaa7fcf4",
   "metadata": {},
   "outputs": [
    {
     "name": "stderr",
     "output_type": "stream",
     "text": [
      "Failed to detect the name of this notebook, you can set it manually with the WANDB_NOTEBOOK_NAME environment variable to enable code saving.\n",
      "\u001b[34m\u001b[1mwandb\u001b[0m: Currently logged in as: \u001b[33mchan4im\u001b[0m (\u001b[33mhcim\u001b[0m). Use \u001b[1m`wandb login --relogin`\u001b[0m to force relogin\n"
     ]
    },
    {
     "data": {
      "text/html": [
       "wandb version 0.14.0 is available!  To upgrade, please run:\n",
       " $ pip install wandb --upgrade"
      ],
      "text/plain": [
       "<IPython.core.display.HTML object>"
      ]
     },
     "metadata": {},
     "output_type": "display_data"
    },
    {
     "data": {
      "text/html": [
       "Tracking run with wandb version 0.13.10"
      ],
      "text/plain": [
       "<IPython.core.display.HTML object>"
      ]
     },
     "metadata": {},
     "output_type": "display_data"
    },
    {
     "data": {
      "text/html": [
       "Run data is saved locally in <code>/root/jupyter/IHC/gain_proj/wandb/run-20230404_135203-vop5yiye</code>"
      ],
      "text/plain": [
       "<IPython.core.display.HTML object>"
      ]
     },
     "metadata": {},
     "output_type": "display_data"
    },
    {
     "data": {
      "text/html": [
       "Syncing run <strong><a href='https://wandb.ai/hcim/Segmentation_Oxford_pets/runs/vop5yiye' target=\"_blank\">U-Net</a></strong> to <a href='https://wandb.ai/hcim/Segmentation_Oxford_pets' target=\"_blank\">Weights & Biases</a> (<a href='https://wandb.me/run' target=\"_blank\">docs</a>)<br/>"
      ],
      "text/plain": [
       "<IPython.core.display.HTML object>"
      ]
     },
     "metadata": {},
     "output_type": "display_data"
    },
    {
     "data": {
      "text/html": [
       " View project at <a href='https://wandb.ai/hcim/Segmentation_Oxford_pets' target=\"_blank\">https://wandb.ai/hcim/Segmentation_Oxford_pets</a>"
      ],
      "text/plain": [
       "<IPython.core.display.HTML object>"
      ]
     },
     "metadata": {},
     "output_type": "display_data"
    },
    {
     "data": {
      "text/html": [
       " View run at <a href='https://wandb.ai/hcim/Segmentation_Oxford_pets/runs/vop5yiye' target=\"_blank\">https://wandb.ai/hcim/Segmentation_Oxford_pets/runs/vop5yiye</a>"
      ],
      "text/plain": [
       "<IPython.core.display.HTML object>"
      ]
     },
     "metadata": {},
     "output_type": "display_data"
    }
   ],
   "source": [
    "import wandb\n",
    "\n",
    "wandb.init(project=\"Segmentation_Oxford_pets\", entity=\"hcim\", name='U-Net')\n",
    "\n",
    "from tensorflow.keras import callbacks\n",
    "class WandbCallback(callbacks.Callback):\n",
    "    def on_epoch_end(self, epoch, logs={}):\n",
    "        wandb.log(logs)"
   ]
  },
  {
   "cell_type": "code",
   "execution_count": 9,
   "id": "ba12c1cc-d81a-4174-9e75-e1bb042135e8",
   "metadata": {},
   "outputs": [],
   "source": [
    "# optimizer 설정\n",
    "learning_rate = 1e-4\n",
    "optimizer = Adam(learning_rate=learning_rate, beta_1=0.9, beta_2=0.999)"
   ]
  },
  {
   "cell_type": "code",
   "execution_count": 10,
   "id": "39e4e00f-0a1d-4f0e-969f-d14ac29fad5b",
   "metadata": {},
   "outputs": [],
   "source": [
    "# 학습결과 자동저장\n",
    "cb=[ModelCheckpoint('oxford_seg.h5',save_best_only=True)]\n",
    "\n",
    "\n",
    "\n",
    "# learning rate 스케줄링\n",
    "# 15 epoch마다 exp(-0.1)씩 learning_rate 감소\n",
    "def lr_scheduler(epoch):\n",
    "    if epoch < 15:\n",
    "        return learning_rate\n",
    "    else:\n",
    "        return learning_rate * tf.math.exp(-0.1)\n",
    "\n",
    "lr_callback = LearningRateScheduler(lr_scheduler)\n",
    "\n",
    "callbacks = [[cb, lr_callback, WandbCallback()]]"
   ]
  },
  {
   "cell_type": "code",
   "execution_count": 11,
   "id": "205aa10d-586c-48ad-af36-e999b76f2086",
   "metadata": {},
   "outputs": [
    {
     "name": "stderr",
     "output_type": "stream",
     "text": [
      "/usr/lib/python3/dist-packages/requests/__init__.py:89: RequestsDependencyWarning: urllib3 (1.26.14) or chardet (3.0.4) doesn't match a supported version!\n",
      "  warnings.warn(\"urllib3 ({}) or chardet ({}) doesn't match a supported \"\n",
      "Exception in thread SystemMonitor:\n",
      "Traceback (most recent call last):\n",
      "  File \"/usr/lib/python3.8/threading.py\", line 932, in _bootstrap_inner\n",
      "    self.run()\n",
      "  File \"/usr/lib/python3.8/threading.py\", line 870, in run\n",
      "    self._target(*self._args, **self._kwargs)\n",
      "  File \"/usr/local/lib/python3.8/dist-packages/wandb/sdk/internal/system/system_monitor.py\", line 118, in _start\n",
      "    asset.start()\n",
      "  File \"/usr/local/lib/python3.8/dist-packages/wandb/sdk/internal/system/assets/cpu.py\", line 166, in start\n",
      "    self.metrics_monitor.start()\n",
      "  File \"/usr/local/lib/python3.8/dist-packages/wandb/sdk/internal/system/assets/interfaces.py\", line 168, in start\n",
      "    logger.info(f\"Started {self._process.name}\")\n",
      "AttributeError: 'NoneType' object has no attribute 'name'\n"
     ]
    },
    {
     "data": {
      "text/plain": [
       "20"
      ]
     },
     "execution_count": 11,
     "metadata": {},
     "output_type": "execute_result"
    }
   ],
   "source": [
    "available_cores = os.cpu_count()\n",
    "available_cores"
   ]
  },
  {
   "cell_type": "code",
   "execution_count": null,
   "id": "093a0af4-53b7-4ea9-b2ed-a5f94d1039b0",
   "metadata": {},
   "outputs": [
    {
     "name": "stdout",
     "output_type": "stream",
     "text": [
      "Epoch 1/30\n"
     ]
    },
    {
     "name": "stderr",
     "output_type": "stream",
     "text": [
      "2023-04-04 13:52:08.127976: I tensorflow/stream_executor/cuda/cuda_dnn.cc:384] Loaded cuDNN version 8100\n",
      "2023-04-04 13:52:09.513519: I tensorflow/stream_executor/cuda/cuda_blas.cc:1614] TensorFloat-32 will be used for the matrix multiplication. This will only be logged once.\n"
     ]
    },
    {
     "name": "stdout",
     "output_type": "stream",
     "text": [
      "207/207 [==============================] - 25s 91ms/step - loss: 0.8933 - accuracy: 0.3065 - val_loss: 2.8517 - val_accuracy: 0.0000e+00 - lr: 1.0000e-04\n",
      "Epoch 2/30\n",
      "207/207 [==============================] - 20s 87ms/step - loss: 0.6407 - accuracy: 0.3123 - val_loss: 2.6861 - val_accuracy: 0.0000e+00 - lr: 1.0000e-04\n",
      "Epoch 3/30\n",
      "207/207 [==============================] - 20s 87ms/step - loss: 0.5833 - accuracy: 0.3122 - val_loss: 0.7564 - val_accuracy: 0.1504 - lr: 1.0000e-04\n",
      "Epoch 4/30\n",
      "207/207 [==============================] - 21s 89ms/step - loss: 0.5430 - accuracy: 0.3133 - val_loss: 0.5503 - val_accuracy: 0.2795 - lr: 1.0000e-04\n",
      "Epoch 5/30\n",
      "207/207 [==============================] - 21s 89ms/step - loss: 0.5134 - accuracy: 0.3133 - val_loss: 0.5466 - val_accuracy: 0.2868 - lr: 1.0000e-04\n",
      "Epoch 6/30\n",
      "207/207 [==============================] - 21s 89ms/step - loss: 0.4881 - accuracy: 0.3139 - val_loss: 0.5140 - val_accuracy: 0.3398 - lr: 1.0000e-04\n",
      "Epoch 7/30\n",
      "207/207 [==============================] - 21s 89ms/step - loss: 0.4607 - accuracy: 0.3140 - val_loss: 0.5020 - val_accuracy: 0.3219 - lr: 1.0000e-04\n",
      "Epoch 8/30\n",
      "207/207 [==============================] - 21s 89ms/step - loss: 0.4402 - accuracy: 0.3145 - val_loss: 0.4853 - val_accuracy: 0.3147 - lr: 1.0000e-04\n",
      "Epoch 9/30\n",
      "207/207 [==============================] - 21s 89ms/step - loss: 0.4196 - accuracy: 0.3139 - val_loss: 0.4811 - val_accuracy: 0.3201 - lr: 1.0000e-04\n",
      "Epoch 10/30\n",
      "207/207 [==============================] - 22s 94ms/step - loss: 0.3990 - accuracy: 0.3134 - val_loss: 0.4792 - val_accuracy: 0.2869 - lr: 1.0000e-04\n",
      "Epoch 11/30\n",
      "207/207 [==============================] - 21s 89ms/step - loss: 0.3791 - accuracy: 0.3138 - val_loss: 0.4958 - val_accuracy: 0.3414 - lr: 1.0000e-04\n",
      "Epoch 12/30\n",
      "207/207 [==============================] - 20s 87ms/step - loss: 0.3577 - accuracy: 0.3126 - val_loss: 0.5042 - val_accuracy: 0.2757 - lr: 1.0000e-04\n",
      "Epoch 13/30\n",
      "207/207 [==============================] - 20s 86ms/step - loss: 0.3362 - accuracy: 0.3128 - val_loss: 0.4994 - val_accuracy: 0.3067 - lr: 1.0000e-04\n",
      "Epoch 14/30\n",
      "207/207 [==============================] - 21s 89ms/step - loss: 0.3167 - accuracy: 0.3115 - val_loss: 0.5101 - val_accuracy: 0.2823 - lr: 1.0000e-04\n",
      "Epoch 15/30\n",
      "207/207 [==============================] - 21s 88ms/step - loss: 0.2957 - accuracy: 0.3110 - val_loss: 0.5577 - val_accuracy: 0.2624 - lr: 1.0000e-04\n",
      "Epoch 16/30\n",
      "207/207 [==============================] - 21s 88ms/step - loss: 0.2765 - accuracy: 0.3103 - val_loss: 0.5094 - val_accuracy: 0.2997 - lr: 9.0484e-05\n",
      "Epoch 17/30\n",
      "207/207 [==============================] - 21s 89ms/step - loss: 0.2615 - accuracy: 0.3096 - val_loss: 0.5797 - val_accuracy: 0.2634 - lr: 9.0484e-05\n",
      "Epoch 18/30\n",
      "207/207 [==============================] - 21s 87ms/step - loss: 0.2487 - accuracy: 0.3085 - val_loss: 0.6016 - val_accuracy: 0.3030 - lr: 9.0484e-05\n",
      "Epoch 19/30\n",
      "207/207 [==============================] - 21s 89ms/step - loss: 0.2384 - accuracy: 0.3082 - val_loss: 0.5915 - val_accuracy: 0.3259 - lr: 9.0484e-05\n",
      "Epoch 20/30\n",
      "207/207 [==============================] - 21s 87ms/step - loss: 0.2247 - accuracy: 0.3071 - val_loss: 0.6049 - val_accuracy: 0.3142 - lr: 9.0484e-05\n",
      "Epoch 21/30\n",
      "207/207 [==============================] - 21s 88ms/step - loss: 0.2152 - accuracy: 0.3066 - val_loss: 0.6426 - val_accuracy: 0.2706 - lr: 9.0484e-05\n",
      "Epoch 22/30\n",
      "207/207 [==============================] - 21s 87ms/step - loss: 0.2050 - accuracy: 0.3057 - val_loss: 0.6866 - val_accuracy: 0.3046 - lr: 9.0484e-05\n",
      "Epoch 23/30\n",
      "207/207 [==============================] - 21s 89ms/step - loss: 0.2066 - accuracy: 0.3057 - val_loss: 0.6693 - val_accuracy: 0.2786 - lr: 9.0484e-05\n",
      "Epoch 24/30\n",
      "207/207 [==============================] - 21s 90ms/step - loss: 0.2008 - accuracy: 0.3052 - val_loss: 0.6706 - val_accuracy: 0.2571 - lr: 9.0484e-05\n",
      "Epoch 25/30\n",
      "207/207 [==============================] - 21s 89ms/step - loss: 0.1871 - accuracy: 0.3047 - val_loss: 0.6685 - val_accuracy: 0.2897 - lr: 9.0484e-05\n",
      "Epoch 26/30\n",
      "207/207 [==============================] - 21s 90ms/step - loss: 0.1767 - accuracy: 0.3038 - val_loss: 0.7271 - val_accuracy: 0.2776 - lr: 9.0484e-05\n",
      "Epoch 27/30\n",
      "168/207 [=======================>......] - ETA: 2s - loss: 0.1703 - accuracy: 0.3038"
     ]
    }
   ],
   "source": [
    "model.compile(optimizer=optimizer, loss='sparse_categorical_crossentropy', metrics=['accuracy'])\n",
    "\n",
    "model.fit(train_gen, epochs=30, validation_data=test_gen, \n",
    "          use_multiprocessing=True,\n",
    "          workers=18,\n",
    "          callbacks=callbacks)"
   ]
  },
  {
   "cell_type": "code",
   "execution_count": null,
   "id": "95783590-a6f5-4b3c-bea2-2f2c4e048c27",
   "metadata": {},
   "outputs": [],
   "source": [
    "preds=model.predict(test_gen)\t# 예측"
   ]
  },
  {
   "cell_type": "code",
   "execution_count": null,
   "id": "da0e7f13-be35-4772-89d1-666710587791",
   "metadata": {},
   "outputs": [],
   "source": [
    "plt.imshow(plt.imread(test_img_paths[0]))      # 0번 영상 디스플레이"
   ]
  },
  {
   "cell_type": "code",
   "execution_count": null,
   "id": "49d17551-74a8-43be-ad4b-87cac10ea07d",
   "metadata": {},
   "outputs": [],
   "source": [
    "plt.imshow(plt.imread(test_label_paths[0])*64)"
   ]
  },
  {
   "cell_type": "code",
   "execution_count": null,
   "id": "56552e7f-4c5b-4e13-8818-7b57ce1e665b",
   "metadata": {},
   "outputs": [],
   "source": [
    "plt.imshow(preds[0]) # 0번 영상 예측 결과 디스플레이"
   ]
  },
  {
   "cell_type": "code",
   "execution_count": null,
   "id": "3ad9db02-49c6-4b2d-9896-73f85649b8e0",
   "metadata": {},
   "outputs": [],
   "source": []
  }
 ],
 "metadata": {
  "kernelspec": {
   "display_name": "Python 3 (ipykernel)",
   "language": "python",
   "name": "python3"
  },
  "language_info": {
   "codemirror_mode": {
    "name": "ipython",
    "version": 3
   },
   "file_extension": ".py",
   "mimetype": "text/x-python",
   "name": "python",
   "nbconvert_exporter": "python",
   "pygments_lexer": "ipython3",
   "version": "3.8.10"
  }
 },
 "nbformat": 4,
 "nbformat_minor": 5
}
