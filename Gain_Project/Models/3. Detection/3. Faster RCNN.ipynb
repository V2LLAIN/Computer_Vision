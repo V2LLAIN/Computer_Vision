{
 "cells": [
  {
   "cell_type": "code",
   "execution_count": 1,
   "id": "def37786-e3da-4fe6-8231-5ad50a56ae39",
   "metadata": {},
   "outputs": [
    {
     "name": "stderr",
     "output_type": "stream",
     "text": [
      "2023-04-03 13:53:13.581510: I tensorflow/core/platform/cpu_feature_guard.cc:193] This TensorFlow binary is optimized with oneAPI Deep Neural Network Library (oneDNN) to use the following CPU instructions in performance-critical operations:  AVX2 AVX512F AVX512_VNNI FMA\n",
      "To enable them in other operations, rebuild TensorFlow with the appropriate compiler flags.\n",
      "2023-04-03 13:53:13.706069: I tensorflow/core/util/util.cc:169] oneDNN custom operations are on. You may see slightly different numerical results due to floating-point round-off errors from different computation orders. To turn them off, set the environment variable `TF_ENABLE_ONEDNN_OPTS=0`.\n",
      "2023-04-03 13:53:13.733091: E tensorflow/stream_executor/cuda/cuda_blas.cc:2981] Unable to register cuBLAS factory: Attempting to register factory for plugin cuBLAS when one has already been registered\n",
      "/usr/lib/python3/dist-packages/requests/__init__.py:89: RequestsDependencyWarning: urllib3 (1.26.14) or chardet (3.0.4) doesn't match a supported version!\n",
      "  warnings.warn(\"urllib3 ({}) or chardet ({}) doesn't match a supported \"\n"
     ]
    }
   ],
   "source": [
    "import numpy as np\n",
    "import pandas as pd\n",
    "import cv2\n",
    "import os\n",
    "import matplotlib.pyplot as plt\n",
    "import tensorflow as tf\n",
    "\n",
    "from tensorflow.keras.layers import *\n",
    "from tensorflow.keras.models import *"
   ]
  },
  {
   "cell_type": "markdown",
   "id": "e109ae71-0f33-4dff-8722-2dfb9aa829a6",
   "metadata": {},
   "source": [
    "# Faster RCNN"
   ]
  },
  {
   "cell_type": "code",
   "execution_count": null,
   "id": "d429f2c2-51f8-4fd4-8fd8-a3ae60c7cff0",
   "metadata": {},
   "outputs": [],
   "source": [
    "# TensorFlow 모델 저장소 복제\n",
    "!git clone https://github.com/tensorflow/models.git\n",
    "\n",
    "# Object Detection API 설치를 위한 패키지 설치\n",
    "!apt-get install protobuf-compiler python-lxml python-pil\n",
    "\n",
    "# TensorFlow Object Detection API 설치\n",
    "%cd models/research/\n",
    "!protoc object_detection/protos/*.proto --python_out=.\n",
    "!cp object_detection/packages/tf2/setup.py .\n",
    "!python -m pip install --use-feature=2020-resolver .\n",
    "\n",
    "# Slim 패키지 설치\n",
    "!git clone https://github.com/google-research/tf-slim.git\n",
    "%cd tf-slim\n",
    "!python setup.py build\n",
    "!python setup.py install\n",
    "\n",
    "# 환경 변수 설정\n",
    "%env PYTHONPATH $PYTHONPATH:/path/to/models/research:/path/to/models/research/slim\n",
    "# 위 코드에서 /path/to/는 본인이 models 폴더를 저장한 경로로 수정"
   ]
  },
  {
   "cell_type": "code",
   "execution_count": 9,
   "id": "0a57dfb1-7946-40f9-8052-c773fcab65f1",
   "metadata": {},
   "outputs": [],
   "source": [
    "# Convolutional Neural Network\n",
    "def cnn():\n",
    "    input_layer = Input(shape=(None, None, 3))\n",
    "    x = Conv2D(64, (3, 3), activation='relu', padding='same')(input_layer)\n",
    "    x = MaxPooling2D((2, 2), strides=(2, 2))(x)\n",
    "    x = Conv2D(128, (3, 3), activation='relu', padding='same')(x)\n",
    "    x = MaxPooling2D((2, 2), strides=(2, 2))(x)\n",
    "    x = Conv2D(256, (3, 3), activation='relu', padding='same')(x)\n",
    "    x = Conv2D(256, (3, 3), activation='relu', padding='same')(x)\n",
    "    x = MaxPooling2D((2, 2), strides=(2, 2))(x)\n",
    "    x = Conv2D(512, (3, 3), activation='relu', padding='same')(x)\n",
    "    x = Conv2D(512, (3, 3), activation='relu', padding='same')(x)\n",
    "    x = MaxPooling2D((2, 2), strides=(2, 2))(x)\n",
    "    x = Conv2D(512, (3, 3), activation='relu', padding='same')(x)\n",
    "    x = Conv2D(512, (3, 3), activation='relu', padding='same')(x)\n",
    "    x = MaxPooling2D((2, 2), strides=(2, 2))(x)\n",
    "    return Model(inputs=input_layer, outputs=x)\n",
    "\n",
    "# Region Proposal Network\n",
    "def rpn(base_net, num_anchors):\n",
    "    # 3x3 convolutional layer with 512 filters and stride of 1\n",
    "    x = Conv2D(512, (3, 3), padding='same', activation='relu', name='rpn_conv')(base_net)\n",
    "\n",
    "    # 1x1 convolutional layer with 2 * num_anchors filters for class prediction\n",
    "    # The output shape is (batch_size, height, width, 2 * num_anchors)\n",
    "    cls_output = Conv2D(2 * num_anchors, (1, 1), activation='softmax', name='rpn_cls')(x)\n",
    "\n",
    "    # 1x1 convolutional layer with 4 * num_anchors filters for bbox prediction\n",
    "    # The output shape is (batch_size, height, width, 4 * num_anchors)\n",
    "    bbox_output = Conv2D(4 * num_anchors, (1, 1), activation='linear', name='rpn_bbox')(x)\n",
    "\n",
    "    return [cls_output, bbox_output]\n"
   ]
  }
 ],
 "metadata": {
  "kernelspec": {
   "display_name": "Python 3 (ipykernel)",
   "language": "python",
   "name": "python3"
  },
  "language_info": {
   "codemirror_mode": {
    "name": "ipython",
    "version": 3
   },
   "file_extension": ".py",
   "mimetype": "text/x-python",
   "name": "python",
   "nbconvert_exporter": "python",
   "pygments_lexer": "ipython3",
   "version": "3.8.10"
  }
 },
 "nbformat": 4,
 "nbformat_minor": 5
}
