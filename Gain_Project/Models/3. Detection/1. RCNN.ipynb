{
 "cells": [
  {
   "cell_type": "code",
   "execution_count": 1,
   "id": "def37786-e3da-4fe6-8231-5ad50a56ae39",
   "metadata": {},
   "outputs": [
    {
     "name": "stderr",
     "output_type": "stream",
     "text": [
      "2023-04-03 13:53:13.581510: I tensorflow/core/platform/cpu_feature_guard.cc:193] This TensorFlow binary is optimized with oneAPI Deep Neural Network Library (oneDNN) to use the following CPU instructions in performance-critical operations:  AVX2 AVX512F AVX512_VNNI FMA\n",
      "To enable them in other operations, rebuild TensorFlow with the appropriate compiler flags.\n",
      "2023-04-03 13:53:13.706069: I tensorflow/core/util/util.cc:169] oneDNN custom operations are on. You may see slightly different numerical results due to floating-point round-off errors from different computation orders. To turn them off, set the environment variable `TF_ENABLE_ONEDNN_OPTS=0`.\n",
      "2023-04-03 13:53:13.733091: E tensorflow/stream_executor/cuda/cuda_blas.cc:2981] Unable to register cuBLAS factory: Attempting to register factory for plugin cuBLAS when one has already been registered\n",
      "/usr/lib/python3/dist-packages/requests/__init__.py:89: RequestsDependencyWarning: urllib3 (1.26.14) or chardet (3.0.4) doesn't match a supported version!\n",
      "  warnings.warn(\"urllib3 ({}) or chardet ({}) doesn't match a supported \"\n"
     ]
    }
   ],
   "source": [
    "import numpy as np\n",
    "import pandas as pd\n",
    "import cv2\n",
    "import os\n",
    "import matplotlib.pyplot as plt\n",
    "import tensorflow as tf\n",
    "\n",
    "from tensorflow.keras.layers import *\n",
    "from tensorflow.keras.models import *"
   ]
  },
  {
   "cell_type": "markdown",
   "id": "e109ae71-0f33-4dff-8722-2dfb9aa829a6",
   "metadata": {},
   "source": [
    "# RCNN"
   ]
  },
  {
   "cell_type": "markdown",
   "id": "134b4c93-6c49-4644-92ec-b1e66d77a0f6",
   "metadata": {},
   "source": [
    "### \"Region-based Convolutional Neural Network\"는 Object Detection문제를 해결하기 위한 딥러닝 모델\n",
    "#### RCNN은 4개의 주요 component로 구성된다.\n",
    "\n",
    "### 1. Region Proposal Network (RPN)\n",
    "- RPN을 사용하여 이미지 내 객체 후보 영역을 추출\n",
    "\n",
    "### 2. Feature Extractor\n",
    "- 추출된 영역은 Feature Extractor를 통해 특성 맵(feature map)으로 변환\n",
    "\n",
    "### 3. Object Classifier\n",
    "\n",
    "### 4. Bounding Box Regressor\n",
    "\n",
    "- feature map은 Object Classifier와 Bounding Box Regressor에 입력으로 사용되어 최종적으로 객체를 검출하고 위치를 조정.\n"
   ]
  },
  {
   "cell_type": "code",
   "execution_count": null,
   "id": "b175a890-5cc3-4f14-88f1-1cf25250f2fc",
   "metadata": {},
   "outputs": [],
   "source": []
  },
  {
   "cell_type": "markdown",
   "id": "221e50c6-8b68-4132-ac80-2074c0947c74",
   "metadata": {},
   "source": [
    "## 1. RPN(Region Proposal Network) 구현\n",
    "### RPN은 입력 이미지에서 object가 있을 것으로 예상되는 영역(proposal)을 추출하기 위한 신경망\n",
    "- RPN은 입력 이미지에서 feature map을 추출\n",
    "- sliding window 기법으로 이미지 전체를 훑으면서 proposal 영역을 추출"
   ]
  },
  {
   "cell_type": "code",
   "execution_count": 2,
   "id": "213275e7-12aa-40be-9858-e1ffbb86e2aa",
   "metadata": {},
   "outputs": [],
   "source": [
    "def rpn(input_tensor, num_anchors):\n",
    "    x = Conv2D(256, (3, 3), activation='relu', padding='same')(input_tensor)\n",
    "    rpn_objectness = Conv2D(num_anchors, (1, 1), activation='sigmoid', name='rpn_objectness')(x)\n",
    "    rpn_bbox_regression = Conv2D(num_anchors * 4, (1, 1), name='rpn_bbox_regression')(x)\n",
    "\n",
    "    return rpn_objectness, rpn_bbox_regression"
   ]
  },
  {
   "cell_type": "code",
   "execution_count": null,
   "id": "23355ea1-8cd7-42b0-bc60-a508c932b712",
   "metadata": {},
   "outputs": [],
   "source": []
  },
  {
   "cell_type": "markdown",
   "id": "82df3212-6776-4a33-8091-640063ce2959",
   "metadata": {},
   "source": [
    "## 2. Feature Extractor 구현\n",
    "- Feature Extractor는 입력 이미지에서 feature map을 추출하는 신경망\n",
    "- ex. VGG16, ResNet 등"
   ]
  },
  {
   "cell_type": "code",
   "execution_count": 3,
   "id": "199dd7e7-8119-400f-accd-d56509cf5a0f",
   "metadata": {},
   "outputs": [],
   "source": [
    "def feature_extractor(input_tensor):\n",
    "    x = Conv2D(64, (3, 3), activation='relu', padding='same')(input_tensor)\n",
    "    x = Conv2D(64, (3, 3), activation='relu', padding='same')(x)\n",
    "    x = MaxPooling2D((2, 2))(x)\n",
    "    \n",
    "    x = Conv2D(128, (3, 3), activation='relu', padding='same')(x)\n",
    "    x = Conv2D(128, (3, 3), activation='relu', padding='same')(x)\n",
    "    x = MaxPooling2D((2, 2))(x)\n",
    "    \n",
    "    x = Conv2D(256, (3, 3), activation='relu', padding='same')(x)\n",
    "    x = Conv2D(256, (3, 3), activation='relu', padding='same')(x)\n",
    "    x = Conv2D(256, (3, 3), activation='relu', padding='same')(x)\n",
    "    feature_map = MaxPooling2D((2, 2))(x)\n",
    "    \n",
    "    # Return output tensor (feature map)\n",
    "    return feature_map"
   ]
  },
  {
   "cell_type": "code",
   "execution_count": null,
   "id": "8db8f8b2-0de6-43c1-a492-18f5c6bd6bfe",
   "metadata": {},
   "outputs": [],
   "source": []
  },
  {
   "cell_type": "markdown",
   "id": "0a7d6e18-d77c-4030-863c-97aae7b8ac9c",
   "metadata": {},
   "source": [
    "## 3. RoI Pooling 구현\n",
    "- RoI Pooling은 RPN에서 추출한 proposal 영역을 Feature Extractor의 feature map 크기에 맞게 변환해주는 연산\n",
    "- 일반적으로 pooling 크기는 7x7로 설정"
   ]
  },
  {
   "cell_type": "code",
   "execution_count": 4,
   "id": "aa6934bd-0bd1-4661-88b1-bf9b2a697b27",
   "metadata": {},
   "outputs": [],
   "source": [
    "def region_proposal_network(input_tensor, num_anchors):\n",
    "    # Define convolutional layers for region proposal network\n",
    "    x = Conv2D(filters=128, kernel_size=(3, 3), padding='same', activation='relu')(input_tensor)\n",
    "    x = Conv2D(filters=128, kernel_size=(3, 3), padding='same', activation='relu')(x)\n",
    "    x = Conv2D(filters=128, kernel_size=(3, 3), padding='same', activation='relu')(x)\n",
    "    x = Conv2D(filters=128, kernel_size=(3, 3), padding='same', activation='relu')(x)\n",
    "\n",
    "    # Define objectness score and regression branches for each anchor\n",
    "    objectness_score = Conv2D(filters=num_anchors, kernel_size=(1, 1), activation='sigmoid', name='objectness_score')(x)\n",
    "    bbox_regression = Conv2D(filters=num_anchors * 4, kernel_size=(1, 1), name='bbox_regression')(x)\n",
    "\n",
    "    # Return objectness score and bbox regression tensors\n",
    "    return objectness_score, bbox_regression\n",
    "\n",
    "def region_of_interest_pooling(feature_map, rois, pool_size):\n",
    "    # Convert ROI coordinates from normalized to pixel coordinates\n",
    "    rois = tf.multiply(rois, tf.constant([feature_map.shape[1], feature_map.shape[2], feature_map.shape[1], feature_map.shape[2]]))\n",
    "\n",
    "    # Round ROI coordinates to the nearest integer values and convert them to integers\n",
    "    rois = tf.cast(tf.math.rint(rois), tf.int32)\n",
    "\n",
    "    # Crop and resize feature maps for each ROI\n",
    "    crops = tf.image.crop_and_resize(feature_map, rois, tf.zeros((rois.shape[0],), dtype=tf.int32), pool_size)\n",
    "\n",
    "    # Return pooled features\n",
    "    return MaxPool2D(pool_size=(1, 1))(crops)"
   ]
  },
  {
   "cell_type": "code",
   "execution_count": null,
   "id": "bc1dfa66-b685-45df-bd89-7fb3bcbf4fc5",
   "metadata": {},
   "outputs": [],
   "source": []
  },
  {
   "cell_type": "markdown",
   "id": "d5eaed67-ce97-481e-8a78-1a7a9173edb0",
   "metadata": {},
   "source": [
    "## 4. Object Classifier 구현\n",
    "- Object Classifier는 RoI Pooling 이후에 Feature Map에서 추출된 RoI 영역을 입력으로 받아 각 객체의 class를 분류하는 모델.\n",
    "- 구현을 위해서는 RoI Pooling 이후의 특징 맵을 입력으로 받아 다음과 같은 CNN을 구성한다."
   ]
  },
  {
   "cell_type": "code",
   "execution_count": 5,
   "id": "354cbf76-9f9e-46a1-8863-c305b15aa84a",
   "metadata": {},
   "outputs": [],
   "source": [
    "def object_classifier(input_tensor, num_classes):\n",
    "    # Define convolutional layers and fully connected layers for object classification\n",
    "    x = Conv2D(filters=256, kernel_size=(3, 3), padding='same', activation='relu')(input_tensor)\n",
    "    x = Conv2D(filters=256, kernel_size=(3, 3), padding='same', activation='relu')(x)\n",
    "    x = Conv2D(filters=256, kernel_size=(3, 3), padding='same', activation='relu')(x)\n",
    "    x = Conv2D(filters=256, kernel_size=(3, 3), padding='same', activation='relu')(x)\n",
    "    x = Flatten()(x)\n",
    "    x = Dense(units=4096, activation='relu')(x)\n",
    "    x = Dropout(0.5)(x)\n",
    "    x = Dense(units=4096, activation='relu')(x)\n",
    "    x = Dropout(0.5)(x)\n",
    "    class_scores = Dense(units=num_classes, activation='softmax')(x)\n",
    "\n",
    "    # Return output tensor (class scores)\n",
    "    return class_scores"
   ]
  },
  {
   "cell_type": "code",
   "execution_count": null,
   "id": "aaf4116b-9c18-4dc0-8b29-9fa6f305f075",
   "metadata": {},
   "outputs": [],
   "source": []
  },
  {
   "cell_type": "markdown",
   "id": "62ad83cf-f713-4d3e-8b84-c15847a32cfa",
   "metadata": {},
   "source": [
    "# 최종적인 RCNN구현"
   ]
  },
  {
   "cell_type": "markdown",
   "id": "2fc932e2-e141-4585-baa7-9702b15639a3",
   "metadata": {},
   "source": [
    "#### apply_bbox_regression 함수\n",
    "- bounding box regression 값을 적용하여 RoI를 조정하는 함수"
   ]
  },
  {
   "cell_type": "code",
   "execution_count": 6,
   "id": "ee96eb63-166d-4d0b-bbf3-a0fb8d2e437b",
   "metadata": {},
   "outputs": [],
   "source": [
    "def apply_bbox_regression(rois, bbox_regression):\n",
    "    # Convert RoI to (x, y, w, h) format\n",
    "    rois = to_x1y1x2y2(rois)\n",
    "\n",
    "    # Split bounding box regression values into (dx, dy, dw, dh) format\n",
    "    bbox_regression = tf.reshape(bbox_regression, (-1, 4))\n",
    "    dx, dy, dw, dh = tf.split(bbox_regression, 4, axis=1)\n",
    "\n",
    "    # Apply bounding box regression to RoI\n",
    "    w = rois[:, :, 2] - rois[:, :, 0]\n",
    "    h = rois[:, :, 3] - rois[:, :, 1]\n",
    "    x = rois[:, :, 0] + w * dx\n",
    "    y = rois[:, :, 1] + h * dy\n",
    "    w = w * tf.exp(dw)\n",
    "    h = h * tf.exp(dh)\n",
    "    x = x - w / 2\n",
    "    y = y - h / 2\n",
    "    output_rois = tf.stack([x, y, x+w, y+h], axis=2)\n",
    "\n",
    "    return output_rois"
   ]
  },
  {
   "cell_type": "code",
   "execution_count": 7,
   "id": "939db35d-56fb-4fc4-8659-b62c05dd1b5b",
   "metadata": {},
   "outputs": [],
   "source": [
    "def RCNN(input_tensor, rois, num_classes):\n",
    "    # RPN model\n",
    "    rpn_objectness, rpn_bbox_regression = rpn(input_tensor, num_anchors=9)\n",
    "\n",
    "    # RoI Pooling layer\n",
    "    feature_map = feature_extractor(input_tensor)\n",
    "    roi_pool = tf.keras.layers.RoIPooling2D(pool_size=(7, 7))([feature_map, rois])\n",
    "\n",
    "    # Object classification model\n",
    "    class_scores = object_classifier(roi_pool, num_classes)\n",
    "\n",
    "    # Bounding box regression\n",
    "    bbox_regression = Dense(units=num_classes*4, activation='linear')(class_scores)\n",
    "    bbox_regression = Reshape((num_classes, 4))(bbox_regression)\n",
    "\n",
    "    # Apply bounding box regression to RoI\n",
    "    rois = Reshape((-1, 4))(rois)\n",
    "    output_rois = tf.keras.layers.Lambda(lambda x: apply_bbox_regression(x[0], x[1]))([rois, bbox_regression])\n",
    "\n",
    "    return class_scores, output_rois"
   ]
  },
  {
   "cell_type": "code",
   "execution_count": null,
   "id": "a4cf6b48-a71d-4d4d-be30-d71eb9894741",
   "metadata": {},
   "outputs": [],
   "source": []
  },
  {
   "cell_type": "markdown",
   "id": "a1f3e86d-014b-44a9-8a2c-57f376d0a7fd",
   "metadata": {},
   "source": [
    "## RCNN구현 정리"
   ]
  },
  {
   "cell_type": "code",
   "execution_count": 8,
   "id": "8038ccb8-6721-4f1c-93dd-7bde5adf518e",
   "metadata": {},
   "outputs": [],
   "source": [
    "def rpn(input_tensor, num_anchors):\n",
    "    x = Conv2D(256, (3, 3), activation='relu', padding='same')(input_tensor)\n",
    "    rpn_objectness = Conv2D(num_anchors, (1, 1), activation='sigmoid', name='rpn_objectness')(x)\n",
    "    rpn_bbox_regression = Conv2D(num_anchors * 4, (1, 1), name='rpn_bbox_regression')(x)\n",
    "\n",
    "    return rpn_objectness, rpn_bbox_regression\n",
    "\n",
    "\n",
    "\n",
    "\n",
    "def feature_extractor(input_tensor):\n",
    "    x = Conv2D(64, (3, 3), activation='relu', padding='same')(input_tensor)\n",
    "    x = Conv2D(64, (3, 3), activation='relu', padding='same')(x)\n",
    "    x = MaxPooling2D((2, 2))(x)\n",
    "    \n",
    "    x = Conv2D(128, (3, 3), activation='relu', padding='same')(x)\n",
    "    x = Conv2D(128, (3, 3), activation='relu', padding='same')(x)\n",
    "    x = MaxPooling2D((2, 2))(x)\n",
    "    \n",
    "    x = Conv2D(256, (3, 3), activation='relu', padding='same')(x)\n",
    "    x = Conv2D(256, (3, 3), activation='relu', padding='same')(x)\n",
    "    x = Conv2D(256, (3, 3), activation='relu', padding='same')(x)\n",
    "    feature_map = MaxPooling2D((2, 2))(x)\n",
    "    \n",
    "    # Return output tensor (feature map)\n",
    "    return feature_map\n",
    "\n",
    "\n",
    "\n",
    "def region_proposal_network(input_tensor, num_anchors):\n",
    "    # Define convolutional layers for region proposal network\n",
    "    x = Conv2D(filters=128, kernel_size=(3, 3), padding='same', activation='relu')(input_tensor)\n",
    "    x = Conv2D(filters=128, kernel_size=(3, 3), padding='same', activation='relu')(x)\n",
    "    x = Conv2D(filters=128, kernel_size=(3, 3), padding='same', activation='relu')(x)\n",
    "    x = Conv2D(filters=128, kernel_size=(3, 3), padding='same', activation='relu')(x)\n",
    "\n",
    "    # Define objectness score and regression branches for each anchor\n",
    "    objectness_score = Conv2D(filters=num_anchors, kernel_size=(1, 1), activation='sigmoid', name='objectness_score')(x)\n",
    "    bbox_regression = Conv2D(filters=num_anchors * 4, kernel_size=(1, 1), name='bbox_regression')(x)\n",
    "\n",
    "    # Return objectness score and bbox regression tensors\n",
    "    return objectness_score, bbox_regression\n",
    "\n",
    "def region_of_interest_pooling(feature_map, rois, pool_size):\n",
    "    # Convert ROI coordinates from normalized to pixel coordinates\n",
    "    rois = tf.multiply(rois, tf.constant([feature_map.shape[1], feature_map.shape[2], feature_map.shape[1], feature_map.shape[2]]))\n",
    "\n",
    "    # Round ROI coordinates to the nearest integer values and convert them to integers\n",
    "    rois = tf.cast(tf.math.rint(rois), tf.int32)\n",
    "\n",
    "    # Crop and resize feature maps for each ROI\n",
    "    crops = tf.image.crop_and_resize(feature_map, rois, tf.zeros((rois.shape[0],), dtype=tf.int32), pool_size)\n",
    "\n",
    "    # Return pooled features\n",
    "    return MaxPool2D(pool_size=(1, 1))(crops)\n",
    "\n",
    "\n",
    "\n",
    "\n",
    "def object_classifier(input_tensor, num_classes):\n",
    "    # Define convolutional layers and fully connected layers for object classification\n",
    "    x = Conv2D(filters=256, kernel_size=(3, 3), padding='same', activation='relu')(input_tensor)\n",
    "    x = Conv2D(filters=256, kernel_size=(3, 3), padding='same', activation='relu')(x)\n",
    "    x = Conv2D(filters=256, kernel_size=(3, 3), padding='same', activation='relu')(x)\n",
    "    x = Conv2D(filters=256, kernel_size=(3, 3), padding='same', activation='relu')(x)\n",
    "    x = Flatten()(x)\n",
    "    x = Dense(units=4096, activation='relu')(x)\n",
    "    x = Dropout(0.5)(x)\n",
    "    x = Dense(units=4096, activation='relu')(x)\n",
    "    x = Dropout(0.5)(x)\n",
    "    class_scores = Dense(units=num_classes, activation='softmax')(x)\n",
    "\n",
    "    # Return output tensor (class scores)\n",
    "    return class_scores\n",
    "\n",
    "\n",
    "\n",
    "\n",
    "\n",
    "def apply_bbox_regression(rois, bbox_regression):\n",
    "    # Convert RoI to (x, y, w, h) format\n",
    "    rois = to_x1y1x2y2(rois)\n",
    "\n",
    "    # Split bounding box regression values into (dx, dy, dw, dh) format\n",
    "    bbox_regression = tf.reshape(bbox_regression, (-1, 4))\n",
    "    dx, dy, dw, dh = tf.split(bbox_regression, 4, axis=1)\n",
    "\n",
    "    # Apply bounding box regression to RoI\n",
    "    w = rois[:, :, 2] - rois[:, :, 0]\n",
    "    h = rois[:, :, 3] - rois[:, :, 1]\n",
    "    x = rois[:, :, 0] + w * dx\n",
    "    y = rois[:, :, 1] + h * dy\n",
    "    w = w * tf.exp(dw)\n",
    "    h = h * tf.exp(dh)\n",
    "    x = x - w / 2\n",
    "    y = y - h / 2\n",
    "    output_rois = tf.stack([x, y, x+w, y+h], axis=2)\n",
    "\n",
    "    return output_rois\n",
    "\n",
    "\n",
    "\n",
    "\n",
    "\n",
    "def RCNN(input_tensor, rois, num_classes):\n",
    "    # RPN model\n",
    "    rpn_objectness, rpn_bbox_regression = rpn(input_tensor, num_anchors=9)\n",
    "\n",
    "    # RoI Pooling layer\n",
    "    feature_map = feature_extractor(input_tensor)\n",
    "    roi_pool = tf.keras.layers.RoIPooling2D(pool_size=(7, 7))([feature_map, rois])\n",
    "\n",
    "    # Object classification model\n",
    "    class_scores = object_classifier(roi_pool, num_classes)\n",
    "\n",
    "    # Bounding box regression\n",
    "    bbox_regression = Dense(units=num_classes*4, activation='linear')(class_scores)\n",
    "    bbox_regression = Reshape((num_classes, 4))(bbox_regression)\n",
    "\n",
    "    # Apply bounding box regression to RoI\n",
    "    rois = Reshape((-1, 4))(rois)\n",
    "    output_rois = tf.keras.layers.Lambda(lambda x: apply_bbox_regression(x[0], x[1]))([rois, bbox_regression])\n",
    "\n",
    "    return class_scores, output_rois"
   ]
  },
  {
   "cell_type": "code",
   "execution_count": null,
   "id": "0a57dfb1-7946-40f9-8052-c773fcab65f1",
   "metadata": {},
   "outputs": [],
   "source": []
  }
 ],
 "metadata": {
  "kernelspec": {
   "display_name": "Python 3 (ipykernel)",
   "language": "python",
   "name": "python3"
  },
  "language_info": {
   "codemirror_mode": {
    "name": "ipython",
    "version": 3
   },
   "file_extension": ".py",
   "mimetype": "text/x-python",
   "name": "python",
   "nbconvert_exporter": "python",
   "pygments_lexer": "ipython3",
   "version": "3.8.10"
  }
 },
 "nbformat": 4,
 "nbformat_minor": 5
}
