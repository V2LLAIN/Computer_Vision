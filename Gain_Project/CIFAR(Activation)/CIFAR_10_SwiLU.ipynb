
{
 "cells": [
  {
   "cell_type": "code",
   "execution_count": 1,
   "id": "435f2fe4-a4ef-4b66-a91f-6b6c598baa92",
   "metadata": {},
   "outputs": [
    {
     "name": "stderr",
     "output_type": "stream",
     "text": [
      "2023-04-21 16:12:29.587585: I tensorflow/core/platform/cpu_feature_guard.cc:193] This TensorFlow binary is optimized with oneAPI Deep Neural Network Library (oneDNN) to use the following CPU instructions in performance-critical operations:  AVX2 FMA\n",
      "To enable them in other operations, rebuild TensorFlow with the appropriate compiler flags.\n",
      "2023-04-21 16:12:29.707195: E tensorflow/stream_executor/cuda/cuda_blas.cc:2981] Unable to register cuBLAS factory: Attempting to register factory for plugin cuBLAS when one has already been registered\n"
     ]
    }
   ],
   "source": [
    "import os\n",
    "import math\n",
    "import wandb\n",
    "import random\n",
    "import numpy as np\n",
    "import pandas as pd\n",
    "import tensorflow as tf\n",
    "from tensorflow import keras\n",
    "import matplotlib.pyplot as plt\n",
    "\n",
    "\n",
    "from tensorflow.keras.preprocessing.image import load_img\n",
    "\n",
    "from tensorflow.keras.models import *\n",
    "from tensorflow.keras.layers import *\n",
    "from tensorflow.keras.losses import *\n",
    "from tensorflow.keras.metrics import *\n",
    "from tensorflow.keras.optimizers import *\n",
    "from tensorflow.keras.activations import *\n",
    "\n",
    "from tensorflow.keras.regularizers import *\n",
    "\n",
    "from tensorflow.keras.callbacks import *\n",
    "from keras.preprocessing.image import *\n",
    "from tensorflow.keras.preprocessing import *"
   ]
  },
  {
   "cell_type": "code",
   "execution_count": 2,
   "id": "6970ba03-d344-4b3a-aca9-5b6fd275830f",
   "metadata": {},
   "outputs": [],
   "source": [
    "# Load the CIFAR-10 dataset\n",
    "(x_train, y_train), (x_test, y_test) = keras.datasets.cifar10.load_data()\n",
    "\n",
    "# Normalize pixel values between 0 and 1\n",
    "x_train = x_train / 255.0\n",
    "x_test = x_test / 255.0\n",
    "\n",
    "# Convert labels to one-hot encoded vectors\n",
    "y_train = tf.keras.utils.to_categorical(y_train, num_classes=10)\n",
    "y_test = tf.keras.utils.to_categorical(y_test, num_classes=10)"
   ]
  },
  {
   "cell_type": "code",
   "execution_count": 3,
   "id": "3fe35a65-5dc2-438b-b26b-c6a0a6bf9293",
   "metadata": {},
   "outputs": [],
   "source": [
    "# SwiLU 함수 정의 (alpha값 항상 1로 고정)\n",
    "def serlu(x, lamda = 1.0786, alpha= 1):\n",
    "    return tf.where(x>=0, x, alpha * x * tf.exp(x))"
   ]
  },
  {
   "cell_type": "code",
   "execution_count": 4,
   "id": "c2dac364-264e-4823-8695-e36d850d7ebe",
   "metadata": {
    "tags": []
   },
   "outputs": [
    {
     "name": "stdout",
     "output_type": "stream",
     "text": [
      "Model: \"model\"\n",
      "_________________________________________________________________\n",
      " Layer (type)                Output Shape              Param #   \n",
      "=================================================================\n",
      " input_1 (InputLayer)        [(None, 32, 32, 3)]       0         \n",
      "                                                                 \n",
      " conv2d (Conv2D)             (None, 30, 30, 32)        896       \n",
      "                                                                 \n",
      " conv2d_1 (Conv2D)           (None, 28, 28, 32)        9248      \n",
      "                                                                 \n",
      " max_pooling2d (MaxPooling2D  (None, 14, 14, 32)       0         \n",
      " )                                                               \n",
      "                                                                 \n",
      " dropout (Dropout)           (None, 14, 14, 32)        0         \n",
      "                                                                 \n",
      " conv2d_2 (Conv2D)           (None, 12, 12, 64)        18496     \n",
      "                                                                 \n",
      " conv2d_3 (Conv2D)           (None, 10, 10, 64)        36928     \n",
      "                                                                 \n",
      " max_pooling2d_1 (MaxPooling  (None, 5, 5, 64)         0         \n",
      " 2D)                                                             \n",
      "                                                                 \n",
      " dropout_1 (Dropout)         (None, 5, 5, 64)          0         \n",
      "                                                                 \n",
      " average_pooling2d (AverageP  (None, 2, 2, 64)         0         \n",
      " ooling2D)                                                       \n",
      "                                                                 \n",
      " flatten (Flatten)           (None, 256)               0         \n",
      "                                                                 \n",
      " dense (Dense)               (None, 512)               131584    \n",
      "                                                                 \n",
      " dense_1 (Dense)             (None, 10)                5130      \n",
      "                                                                 \n",
      "=================================================================\n",
      "Total params: 202,282\n",
      "Trainable params: 202,282\n",
      "Non-trainable params: 0\n",
      "_________________________________________________________________\n"
     ]
    },
    {
     "name": "stderr",
     "output_type": "stream",
     "text": [
      "2023-04-21 16:12:31.894912: I tensorflow/stream_executor/cuda/cuda_gpu_executor.cc:980] successful NUMA node read from SysFS had negative value (-1), but there must be at least one NUMA node, so returning NUMA node zero\n",
      "2023-04-21 16:12:31.897530: I tensorflow/stream_executor/cuda/cuda_gpu_executor.cc:980] successful NUMA node read from SysFS had negative value (-1), but there must be at least one NUMA node, so returning NUMA node zero\n",
      "2023-04-21 16:12:31.897816: I tensorflow/stream_executor/cuda/cuda_gpu_executor.cc:980] successful NUMA node read from SysFS had negative value (-1), but there must be at least one NUMA node, so returning NUMA node zero\n",
      "2023-04-21 16:12:31.898411: I tensorflow/core/platform/cpu_feature_guard.cc:193] This TensorFlow binary is optimized with oneAPI Deep Neural Network Library (oneDNN) to use the following CPU instructions in performance-critical operations:  AVX2 FMA\n",
      "To enable them in other operations, rebuild TensorFlow with the appropriate compiler flags.\n",
      "2023-04-21 16:12:31.898876: I tensorflow/stream_executor/cuda/cuda_gpu_executor.cc:980] successful NUMA node read from SysFS had negative value (-1), but there must be at least one NUMA node, so returning NUMA node zero\n",
      "2023-04-21 16:12:31.899158: I tensorflow/stream_executor/cuda/cuda_gpu_executor.cc:980] successful NUMA node read from SysFS had negative value (-1), but there must be at least one NUMA node, so returning NUMA node zero\n",
      "2023-04-21 16:12:31.899327: I tensorflow/stream_executor/cuda/cuda_gpu_executor.cc:980] successful NUMA node read from SysFS had negative value (-1), but there must be at least one NUMA node, so returning NUMA node zero\n",
      "2023-04-21 16:12:32.352938: I tensorflow/stream_executor/cuda/cuda_gpu_executor.cc:980] successful NUMA node read from SysFS had negative value (-1), but there must be at least one NUMA node, so returning NUMA node zero\n",
      "2023-04-21 16:12:32.353179: I tensorflow/stream_executor/cuda/cuda_gpu_executor.cc:980] successful NUMA node read from SysFS had negative value (-1), but there must be at least one NUMA node, so returning NUMA node zero\n",
      "2023-04-21 16:12:32.353329: I tensorflow/stream_executor/cuda/cuda_gpu_executor.cc:980] successful NUMA node read from SysFS had negative value (-1), but there must be at least one NUMA node, so returning NUMA node zero\n",
      "2023-04-21 16:12:32.353462: I tensorflow/core/common_runtime/gpu/gpu_device.cc:1616] Created device /job:localhost/replica:0/task:0/device:GPU:0 with 10400 MB memory:  -> device: 0, name: NVIDIA GeForce GTX 1080 Ti, pci bus id: 0000:02:00.0, compute capability: 6.1\n"
     ]
    }
   ],
   "source": [
    "inputs = Input(shape=(32,32, 3))\n",
    "\n",
    "# Layer 1\n",
    "x = Conv2D(32, (3,3), activation=serlu, kernel_regularizer=l2(1e-6))(inputs)\n",
    "\n",
    "# Layer 2\n",
    "x = Conv2D(32, (3,3), activation=serlu, kernel_regularizer=l2(1e-6))(x)\n",
    "x = MaxPooling2D((2, 2))(x)\n",
    "x = Dropout(0.1)(x)\n",
    "\n",
    "# Layer 3\n",
    "x = Conv2D(64, (3,3), activation=serlu, kernel_regularizer=l2(1e-6))(x)\n",
    "\n",
    "# Layer 4\n",
    "x = Conv2D(64, (3,3), activation=serlu, kernel_regularizer=l2(1e-6))(x)\n",
    "x = MaxPooling2D((2, 2))(x)\n",
    "x = Dropout(0.1)(x)\n",
    "\n",
    "# Layer 5\n",
    "x = AveragePooling2D()(x)\n",
    "x = Flatten()(x)\n",
    "x = Dense(512, activation=serlu, kernel_regularizer=l2(1e-6))(x)\n",
    "\n",
    "# Layer 6\n",
    "outputs = Dense(10, activation='softmax')(x)\n",
    "model = Model(inputs=inputs, outputs=outputs)\n",
    "\n",
    "model.summary()"
   ]
  },
  {
   "cell_type": "code",
   "execution_count": 5,
   "id": "c9897576-4328-4349-90b8-2ac97f68f424",
   "metadata": {
    "tags": []
   },
   "outputs": [],
   "source": [
    "# 모델 컴파일\n",
    "opt = RMSprop(learning_rate=1e-4)\n",
    "\n",
    "model.compile(optimizer=opt,\n",
    "              loss='categorical_crossentropy',\n",
    "              metrics=['accuracy'])"
   ]
  },
  {
   "cell_type": "code",
   "execution_count": 7,
   "id": "5b0c4da2-fa25-4117-a366-a44db57afcfb",
   "metadata": {},
   "outputs": [],
   "source": [
    "from keras.preprocessing.image import ImageDataGenerator\n",
    "datagen = ImageDataGenerator(horizontal_flip=True,\n",
    "                             vertical_flip= True\n",
    "                             )\n",
    "\n",
    "# 이미지 데이터의 분포를 조정\n",
    "datagen.fit(x_train)"
   ]
  },
  {
   "cell_type": "code",
   "execution_count": 10,
   "id": "492f7e1e-df54-4686-aaca-ba346e556926",
   "metadata": {},
   "outputs": [
    {
     "data": {
      "text/html": [
       "Finishing last run (ID:6hhawvsk) before initializing another..."
      ],
      "text/plain": [
       "<IPython.core.display.HTML object>"
      ]
     },
     "metadata": {},
     "output_type": "display_data"
    },
    {
     "data": {
      "text/html": [
       "Waiting for W&B process to finish... <strong style=\"color:green\">(success).</strong>"
      ],
      "text/plain": [
       "<IPython.core.display.HTML object>"
      ]
     },
     "metadata": {},
     "output_type": "display_data"
    },
    {
     "data": {
      "application/vnd.jupyter.widget-view+json": {
       "model_id": "9dc1d398516e445ba0b679aaf24115da",
       "version_major": 2,
       "version_minor": 0
      },
      "text/plain": [
       "VBox(children=(Label(value='0.002 MB of 0.002 MB uploaded (0.000 MB deduped)\\r'), FloatProgress(value=1.0, max…"
      ]
     },
     "metadata": {},
     "output_type": "display_data"
    },
    {
     "data": {
      "text/html": [
       " View run <strong style=\"color:#cdcd00\">LeNet-swilu</strong> at: <a href='https://wandb.ai/hcim/CIFAR10/runs/6hhawvsk' target=\"_blank\">https://wandb.ai/hcim/CIFAR10/runs/6hhawvsk</a><br/>Synced 5 W&B file(s), 0 media file(s), 0 artifact file(s) and 0 other file(s)"
      ],
      "text/plain": [
       "<IPython.core.display.HTML object>"
      ]
     },
     "metadata": {},
     "output_type": "display_data"
    },
    {
     "data": {
      "text/html": [
       "Find logs at: <code>./wandb/run-20230421_161436-6hhawvsk/logs</code>"
      ],
      "text/plain": [
       "<IPython.core.display.HTML object>"
      ]
     },
     "metadata": {},
     "output_type": "display_data"
    },
    {
     "data": {
      "text/html": [
       "Successfully finished last run (ID:6hhawvsk). Initializing new run:<br/>"
      ],
      "text/plain": [
       "<IPython.core.display.HTML object>"
      ]
     },
     "metadata": {},
     "output_type": "display_data"
    },
    {
     "data": {
      "application/vnd.jupyter.widget-view+json": {
       "model_id": "0b784ae0070449469ea782575562a049",
       "version_major": 2,
       "version_minor": 0
      },
      "text/plain": [
       "VBox(children=(Label(value='Waiting for wandb.init()...\\r'), FloatProgress(value=0.016669851833042534, max=1.0…"
      ]
     },
     "metadata": {},
     "output_type": "display_data"
    },
    {
     "data": {
      "text/html": [
       "wandb version 0.15.0 is available!  To upgrade, please run:\n",
       " $ pip install wandb --upgrade"
      ],
      "text/plain": [
       "<IPython.core.display.HTML object>"
      ]
     },
     "metadata": {},
     "output_type": "display_data"
    },
    {
     "data": {
      "text/html": [
       "Tracking run with wandb version 0.14.0"
      ],
      "text/plain": [
       "<IPython.core.display.HTML object>"
      ]
     },
     "metadata": {},
     "output_type": "display_data"
    },
    {
     "data": {
      "text/html": [
       "Run data is saved locally in <code>/root/jupyter/IHC/gain_proj/wandb/run-20230421_161448-tzux4skn</code>"
      ],
      "text/plain": [
       "<IPython.core.display.HTML object>"
      ]
     },
     "metadata": {},
     "output_type": "display_data"
    },
    {
     "data": {
      "text/html": [
       "Syncing run <strong><a href='https://wandb.ai/hcim/CIFAR10/runs/tzux4skn' target=\"_blank\">LeNet-swilu</a></strong> to <a href='https://wandb.ai/hcim/CIFAR10' target=\"_blank\">Weights & Biases</a> (<a href='https://wandb.me/run' target=\"_blank\">docs</a>)<br/>"
      ],
      "text/plain": [
       "<IPython.core.display.HTML object>"
      ]
     },
     "metadata": {},
     "output_type": "display_data"
    },
    {
     "data": {
      "text/html": [
       " View project at <a href='https://wandb.ai/hcim/CIFAR10' target=\"_blank\">https://wandb.ai/hcim/CIFAR10</a>"
      ],
      "text/plain": [
       "<IPython.core.display.HTML object>"
      ]
     },
     "metadata": {},
     "output_type": "display_data"
    },
    {
     "data": {
      "text/html": [
       " View run at <a href='https://wandb.ai/hcim/CIFAR10/runs/tzux4skn' target=\"_blank\">https://wandb.ai/hcim/CIFAR10/runs/tzux4skn</a>"
      ],
      "text/plain": [
       "<IPython.core.display.HTML object>"
      ]
     },
     "metadata": {},
     "output_type": "display_data"
    }
   ],
   "source": [
    "from tensorflow.keras import callbacks\n",
    "\n",
    "wandb.init(project=\"CIFAR10\", entity=\"hcim\", name='LeNet-swilu')\n",
    "\n",
    "wandbCallback=wandb.keras.WandbCallback(monitor=\"val_accuracy\", mode=\"max\", \n",
    "                                        log_weights=True, log_gradients=True, \n",
    "                                        training_data=datagen.flow(x_train, y_train, batch_size=128))\n",
    "\n",
    "callbacks = [wandbCallback]"
   ]
  },
  {
   "cell_type": "code",
   "execution_count": 11,
   "id": "9e995314-6225-4052-95d8-03e5235ea600",
   "metadata": {},
   "outputs": [
    {
     "name": "stdout",
     "output_type": "stream",
     "text": [
      "Epoch 1/200\n"
     ]
    },
    {
     "name": "stderr",
     "output_type": "stream",
     "text": [
      "2023-04-21 16:14:56.274737: E tensorflow/core/grappler/optimizers/meta_optimizer.cc:954] layout failed: INVALID_ARGUMENT: Size of values 0 does not match size of permutation 4 @ fanin shape ingradient_tape/model/conv2d_3/SelectV2-2-TransposeNHWCToNCHW-LayoutOptimizer\n",
      "2023-04-21 16:14:56.645048: I tensorflow/stream_executor/cuda/cuda_dnn.cc:384] Loaded cuDNN version 8100\n"
     ]
    },
    {
     "name": "stdout",
     "output_type": "stream",
     "text": [
      "  6/391 [..............................] - ETA: 4s - loss: 2.2983 - accuracy: 0.1211   WARNING:tensorflow:Callback method `on_train_batch_end` is slow compared to the batch time (batch time: 0.0062s vs `on_train_batch_end` time: 0.0086s). Check your callbacks.\n",
      "386/391 [============================>.] - ETA: 0s - loss: 2.0169 - accuracy: 0.2612"
     ]
    },
    {
     "name": "stderr",
     "output_type": "stream",
     "text": [
      "2023-04-21 16:15:02.657941: E tensorflow/core/grappler/optimizers/meta_optimizer.cc:954] layout failed: INVALID_ARGUMENT: Size of values 0 does not match size of permutation 4 @ fanin shape ingradient_tape/model_1/model/conv2d_3/SelectV2-2-TransposeNHWCToNCHW-LayoutOptimizer\n",
      "WARNING:absl:Found untraced functions such as _jit_compiled_convolution_op, _jit_compiled_convolution_op, _jit_compiled_convolution_op, _jit_compiled_convolution_op while saving (showing 4 of 4). These functions will not be directly callable after loading.\n"
     ]
    },
    {
     "name": "stdout",
     "output_type": "stream",
     "text": [
      "INFO:tensorflow:Assets written to: /root/jupyter/IHC/gain_proj/wandb/run-20230421_161448-tzux4skn/files/model-best/assets\n"
     ]
    },
    {
     "name": "stderr",
     "output_type": "stream",
     "text": [
      "INFO:tensorflow:Assets written to: /root/jupyter/IHC/gain_proj/wandb/run-20230421_161448-tzux4skn/files/model-best/assets\n",
      "\u001b[34m\u001b[1mwandb\u001b[0m: Adding directory to artifact (/root/jupyter/IHC/gain_proj/wandb/run-20230421_161448-tzux4skn/files/model-best)... Done. 0.0s\n"
     ]
    },
    {
     "name": "stdout",
     "output_type": "stream",
     "text": [
      "391/391 [==============================] - 14s 32ms/step - loss: 2.0145 - accuracy: 0.2620 - val_loss: 1.9595 - val_accuracy: 0.2947\n",
      "Epoch 2/200\n",
      "388/391 [============================>.] - ETA: 0s - loss: 1.7944 - accuracy: 0.3453"
     ]
    },
    {
     "name": "stderr",
     "output_type": "stream",
     "text": [
      "WARNING:absl:Found untraced functions such as _jit_compiled_convolution_op, _jit_compiled_convolution_op, _jit_compiled_convolution_op, _jit_compiled_convolution_op while saving (showing 4 of 4). These functions will not be directly callable after loading.\n"
     ]
    },
    {
     "name": "stdout",
     "output_type": "stream",
     "text": [
      "INFO:tensorflow:Assets written to: /root/jupyter/IHC/gain_proj/wandb/run-20230421_161448-tzux4skn/files/model-best/assets\n"
     ]
    },
    {
     "name": "stderr",
     "output_type": "stream",
     "text": [
      "INFO:tensorflow:Assets written to: /root/jupyter/IHC/gain_proj/wandb/run-20230421_161448-tzux4skn/files/model-best/assets\n",
      "\u001b[34m\u001b[1mwandb\u001b[0m: Adding directory to artifact (/root/jupyter/IHC/gain_proj/wandb/run-20230421_161448-tzux4skn/files/model-best)... Done. 0.0s\n"
     ]
    },
    {
     "name": "stdout",
     "output_type": "stream",
     "text": [
      "391/391 [==============================] - 12s 30ms/step - loss: 1.7942 - accuracy: 0.3456 - val_loss: 1.7173 - val_accuracy: 0.3779\n",
      "Epoch 3/200\n",
      "388/391 [============================>.] - ETA: 0s - loss: 1.6773 - accuracy: 0.3889"
     ]
    },
    {
     "name": "stderr",
     "output_type": "stream",
     "text": [
      "WARNING:absl:Found untraced functions such as _jit_compiled_convolution_op, _jit_compiled_convolution_op, _jit_compiled_convolution_op, _jit_compiled_convolution_op while saving (showing 4 of 4). These functions will not be directly callable after loading.\n"
     ]
    },
    {
     "name": "stdout",
     "output_type": "stream",
     "text": [
      "INFO:tensorflow:Assets written to: /root/jupyter/IHC/gain_proj/wandb/run-20230421_161448-tzux4skn/files/model-best/assets\n"
     ]
    },
    {
     "name": "stderr",
     "output_type": "stream",
     "text": [
      "INFO:tensorflow:Assets written to: /root/jupyter/IHC/gain_proj/wandb/run-20230421_161448-tzux4skn/files/model-best/assets\n",
      "\u001b[34m\u001b[1mwandb\u001b[0m: Adding directory to artifact (/root/jupyter/IHC/gain_proj/wandb/run-20230421_161448-tzux4skn/files/model-best)... Done. 0.0s\n"
     ]
    },
    {
     "name": "stdout",
     "output_type": "stream",
     "text": [
      "391/391 [==============================] - 12s 30ms/step - loss: 1.6768 - accuracy: 0.3889 - val_loss: 1.6653 - val_accuracy: 0.3935\n",
      "Epoch 4/200\n",
      "387/391 [============================>.] - ETA: 0s - loss: 1.6228 - accuracy: 0.4054"
     ]
    },
    {
     "name": "stderr",
     "output_type": "stream",
     "text": [
      "WARNING:absl:Found untraced functions such as _jit_compiled_convolution_op, _jit_compiled_convolution_op, _jit_compiled_convolution_op, _jit_compiled_convolution_op while saving (showing 4 of 4). These functions will not be directly callable after loading.\n"
     ]
    },
    {
     "name": "stdout",
     "output_type": "stream",
     "text": [
      "INFO:tensorflow:Assets written to: /root/jupyter/IHC/gain_proj/wandb/run-20230421_161448-tzux4skn/files/model-best/assets\n"
     ]
    },
    {
     "name": "stderr",
     "output_type": "stream",
     "text": [
      "INFO:tensorflow:Assets written to: /root/jupyter/IHC/gain_proj/wandb/run-20230421_161448-tzux4skn/files/model-best/assets\n",
      "\u001b[34m\u001b[1mwandb\u001b[0m: Adding directory to artifact (/root/jupyter/IHC/gain_proj/wandb/run-20230421_161448-tzux4skn/files/model-best)... Done. 0.0s\n"
     ]
    },
    {
     "name": "stdout",
     "output_type": "stream",
     "text": [
      "391/391 [==============================] - 12s 30ms/step - loss: 1.6221 - accuracy: 0.4055 - val_loss: 1.6045 - val_accuracy: 0.4180\n",
      "Epoch 5/200\n",
      "390/391 [============================>.] - ETA: 0s - loss: 1.5780 - accuracy: 0.4257"
     ]
    },
    {
     "name": "stderr",
     "output_type": "stream",
     "text": [
      "WARNING:absl:Found untraced functions such as _jit_compiled_convolution_op, _jit_compiled_convolution_op, _jit_compiled_convolution_op, _jit_compiled_convolution_op while saving (showing 4 of 4). These functions will not be directly callable after loading.\n"
     ]
    },
    {
     "name": "stdout",
     "output_type": "stream",
     "text": [
      "INFO:tensorflow:Assets written to: /root/jupyter/IHC/gain_proj/wandb/run-20230421_161448-tzux4skn/files/model-best/assets\n"
     ]
    },
    {
     "name": "stderr",
     "output_type": "stream",
     "text": [
      "INFO:tensorflow:Assets written to: /root/jupyter/IHC/gain_proj/wandb/run-20230421_161448-tzux4skn/files/model-best/assets\n",
      "\u001b[34m\u001b[1mwandb\u001b[0m: Adding directory to artifact (/root/jupyter/IHC/gain_proj/wandb/run-20230421_161448-tzux4skn/files/model-best)... Done. 0.0s\n"
     ]
    },
    {
     "name": "stdout",
     "output_type": "stream",
     "text": [
      "391/391 [==============================] - 12s 30ms/step - loss: 1.5781 - accuracy: 0.4256 - val_loss: 1.5526 - val_accuracy: 0.4331\n",
      "Epoch 6/200\n",
      "389/391 [============================>.] - ETA: 0s - loss: 1.5372 - accuracy: 0.4443"
     ]
    },
    {
     "name": "stderr",
     "output_type": "stream",
     "text": [
      "WARNING:absl:Found untraced functions such as _jit_compiled_convolution_op, _jit_compiled_convolution_op, _jit_compiled_convolution_op, _jit_compiled_convolution_op while saving (showing 4 of 4). These functions will not be directly callable after loading.\n"
     ]
    },
    {
     "name": "stdout",
     "output_type": "stream",
     "text": [
      "INFO:tensorflow:Assets written to: /root/jupyter/IHC/gain_proj/wandb/run-20230421_161448-tzux4skn/files/model-best/assets\n"
     ]
    },
    {
     "name": "stderr",
     "output_type": "stream",
     "text": [
      "INFO:tensorflow:Assets written to: /root/jupyter/IHC/gain_proj/wandb/run-20230421_161448-tzux4skn/files/model-best/assets\n",
      "\u001b[34m\u001b[1mwandb\u001b[0m: Adding directory to artifact (/root/jupyter/IHC/gain_proj/wandb/run-20230421_161448-tzux4skn/files/model-best)... Done. 0.0s\n"
     ]
    },
    {
     "name": "stdout",
     "output_type": "stream",
     "text": [
      "391/391 [==============================] - 12s 30ms/step - loss: 1.5370 - accuracy: 0.4445 - val_loss: 1.5224 - val_accuracy: 0.4406\n",
      "Epoch 7/200\n",
      "388/391 [============================>.] - ETA: 0s - loss: 1.4971 - accuracy: 0.4588"
     ]
    },
    {
     "name": "stderr",
     "output_type": "stream",
     "text": [
      "WARNING:absl:Found untraced functions such as _jit_compiled_convolution_op, _jit_compiled_convolution_op, _jit_compiled_convolution_op, _jit_compiled_convolution_op while saving (showing 4 of 4). These functions will not be directly callable after loading.\n"
     ]
    },
    {
     "name": "stdout",
     "output_type": "stream",
     "text": [
      "INFO:tensorflow:Assets written to: /root/jupyter/IHC/gain_proj/wandb/run-20230421_161448-tzux4skn/files/model-best/assets\n"
     ]
    },
    {
     "name": "stderr",
     "output_type": "stream",
     "text": [
      "INFO:tensorflow:Assets written to: /root/jupyter/IHC/gain_proj/wandb/run-20230421_161448-tzux4skn/files/model-best/assets\n",
      "\u001b[34m\u001b[1mwandb\u001b[0m: Adding directory to artifact (/root/jupyter/IHC/gain_proj/wandb/run-20230421_161448-tzux4skn/files/model-best)... Done. 0.0s\n"
     ]
    },
    {
     "name": "stdout",
     "output_type": "stream",
     "text": [
      "391/391 [==============================] - 12s 30ms/step - loss: 1.4959 - accuracy: 0.4592 - val_loss: 1.4756 - val_accuracy: 0.4679\n",
      "Epoch 8/200\n",
      "388/391 [============================>.] - ETA: 0s - loss: 1.4606 - accuracy: 0.4735"
     ]
    },
    {
     "name": "stderr",
     "output_type": "stream",
     "text": [
      "WARNING:absl:Found untraced functions such as _jit_compiled_convolution_op, _jit_compiled_convolution_op, _jit_compiled_convolution_op, _jit_compiled_convolution_op while saving (showing 4 of 4). These functions will not be directly callable after loading.\n"
     ]
    },
    {
     "name": "stdout",
     "output_type": "stream",
     "text": [
      "INFO:tensorflow:Assets written to: /root/jupyter/IHC/gain_proj/wandb/run-20230421_161448-tzux4skn/files/model-best/assets\n"
     ]
    },
    {
     "name": "stderr",
     "output_type": "stream",
     "text": [
      "INFO:tensorflow:Assets written to: /root/jupyter/IHC/gain_proj/wandb/run-20230421_161448-tzux4skn/files/model-best/assets\n",
      "\u001b[34m\u001b[1mwandb\u001b[0m: Adding directory to artifact (/root/jupyter/IHC/gain_proj/wandb/run-20230421_161448-tzux4skn/files/model-best)... Done. 0.0s\n"
     ]
    },
    {
     "name": "stdout",
     "output_type": "stream",
     "text": [
      "391/391 [==============================] - 12s 30ms/step - loss: 1.4599 - accuracy: 0.4739 - val_loss: 1.4651 - val_accuracy: 0.4709\n",
      "Epoch 9/200\n",
      "391/391 [==============================] - ETA: 0s - loss: 1.4294 - accuracy: 0.4879"
     ]
    },
    {
     "name": "stderr",
     "output_type": "stream",
     "text": [
      "WARNING:absl:Found untraced functions such as _jit_compiled_convolution_op, _jit_compiled_convolution_op, _jit_compiled_convolution_op, _jit_compiled_convolution_op while saving (showing 4 of 4). These functions will not be directly callable after loading.\n"
     ]
    },
    {
     "name": "stdout",
     "output_type": "stream",
     "text": [
      "INFO:tensorflow:Assets written to: /root/jupyter/IHC/gain_proj/wandb/run-20230421_161448-tzux4skn/files/model-best/assets\n"
     ]
    },
    {
     "name": "stderr",
     "output_type": "stream",
     "text": [
      "INFO:tensorflow:Assets written to: /root/jupyter/IHC/gain_proj/wandb/run-20230421_161448-tzux4skn/files/model-best/assets\n",
      "\u001b[34m\u001b[1mwandb\u001b[0m: Adding directory to artifact (/root/jupyter/IHC/gain_proj/wandb/run-20230421_161448-tzux4skn/files/model-best)... Done. 0.0s\n"
     ]
    },
    {
     "name": "stdout",
     "output_type": "stream",
     "text": [
      "391/391 [==============================] - 12s 30ms/step - loss: 1.4294 - accuracy: 0.4879 - val_loss: 1.4270 - val_accuracy: 0.4834\n",
      "Epoch 10/200\n",
      "389/391 [============================>.] - ETA: 0s - loss: 1.3984 - accuracy: 0.4984"
     ]
    },
    {
     "name": "stderr",
     "output_type": "stream",
     "text": [
      "WARNING:absl:Found untraced functions such as _jit_compiled_convolution_op, _jit_compiled_convolution_op, _jit_compiled_convolution_op, _jit_compiled_convolution_op while saving (showing 4 of 4). These functions will not be directly callable after loading.\n"
     ]
    },
    {
     "name": "stdout",
     "output_type": "stream",
     "text": [
      "INFO:tensorflow:Assets written to: /root/jupyter/IHC/gain_proj/wandb/run-20230421_161448-tzux4skn/files/model-best/assets\n"
     ]
    },
    {
     "name": "stderr",
     "output_type": "stream",
     "text": [
      "INFO:tensorflow:Assets written to: /root/jupyter/IHC/gain_proj/wandb/run-20230421_161448-tzux4skn/files/model-best/assets\n",
      "\u001b[34m\u001b[1mwandb\u001b[0m: Adding directory to artifact (/root/jupyter/IHC/gain_proj/wandb/run-20230421_161448-tzux4skn/files/model-best)... Done. 0.0s\n"
     ]
    },
    {
     "name": "stdout",
     "output_type": "stream",
     "text": [
      "391/391 [==============================] - 12s 30ms/step - loss: 1.3983 - accuracy: 0.4984 - val_loss: 1.3813 - val_accuracy: 0.5041\n",
      "Epoch 11/200\n",
      "386/391 [============================>.] - ETA: 0s - loss: 1.3713 - accuracy: 0.5098"
     ]
    },
    {
     "name": "stderr",
     "output_type": "stream",
     "text": [
      "WARNING:absl:Found untraced functions such as _jit_compiled_convolution_op, _jit_compiled_convolution_op, _jit_compiled_convolution_op, _jit_compiled_convolution_op while saving (showing 4 of 4). These functions will not be directly callable after loading.\n"
     ]
    },
    {
     "name": "stdout",
     "output_type": "stream",
     "text": [
      "INFO:tensorflow:Assets written to: /root/jupyter/IHC/gain_proj/wandb/run-20230421_161448-tzux4skn/files/model-best/assets\n"
     ]
    },
    {
     "name": "stderr",
     "output_type": "stream",
     "text": [
      "INFO:tensorflow:Assets written to: /root/jupyter/IHC/gain_proj/wandb/run-20230421_161448-tzux4skn/files/model-best/assets\n",
      "\u001b[34m\u001b[1mwandb\u001b[0m: Adding directory to artifact (/root/jupyter/IHC/gain_proj/wandb/run-20230421_161448-tzux4skn/files/model-best)... Done. 0.0s\n"
     ]
    },
    {
     "name": "stdout",
     "output_type": "stream",
     "text": [
      "391/391 [==============================] - 12s 30ms/step - loss: 1.3716 - accuracy: 0.5100 - val_loss: 1.3412 - val_accuracy: 0.5194\n",
      "Epoch 12/200\n",
      "388/391 [============================>.] - ETA: 0s - loss: 1.3447 - accuracy: 0.5203"
     ]
    },
    {
     "name": "stderr",
     "output_type": "stream",
     "text": [
      "WARNING:absl:Found untraced functions such as _jit_compiled_convolution_op, _jit_compiled_convolution_op, _jit_compiled_convolution_op, _jit_compiled_convolution_op while saving (showing 4 of 4). These functions will not be directly callable after loading.\n"
     ]
    },
    {
     "name": "stdout",
     "output_type": "stream",
     "text": [
      "INFO:tensorflow:Assets written to: /root/jupyter/IHC/gain_proj/wandb/run-20230421_161448-tzux4skn/files/model-best/assets\n"
     ]
    },
    {
     "name": "stderr",
     "output_type": "stream",
     "text": [
      "INFO:tensorflow:Assets written to: /root/jupyter/IHC/gain_proj/wandb/run-20230421_161448-tzux4skn/files/model-best/assets\n",
      "\u001b[34m\u001b[1mwandb\u001b[0m: Adding directory to artifact (/root/jupyter/IHC/gain_proj/wandb/run-20230421_161448-tzux4skn/files/model-best)... Done. 0.0s\n"
     ]
    },
    {
     "name": "stdout",
     "output_type": "stream",
     "text": [
      "391/391 [==============================] - 12s 30ms/step - loss: 1.3440 - accuracy: 0.5205 - val_loss: 1.3242 - val_accuracy: 0.5268\n",
      "Epoch 13/200\n",
      "387/391 [============================>.] - ETA: 0s - loss: 1.3228 - accuracy: 0.5296"
     ]
    },
    {
     "name": "stderr",
     "output_type": "stream",
     "text": [
      "WARNING:absl:Found untraced functions such as _jit_compiled_convolution_op, _jit_compiled_convolution_op, _jit_compiled_convolution_op, _jit_compiled_convolution_op while saving (showing 4 of 4). These functions will not be directly callable after loading.\n"
     ]
    },
    {
     "name": "stdout",
     "output_type": "stream",
     "text": [
      "INFO:tensorflow:Assets written to: /root/jupyter/IHC/gain_proj/wandb/run-20230421_161448-tzux4skn/files/model-best/assets\n"
     ]
    },
    {
     "name": "stderr",
     "output_type": "stream",
     "text": [
      "INFO:tensorflow:Assets written to: /root/jupyter/IHC/gain_proj/wandb/run-20230421_161448-tzux4skn/files/model-best/assets\n",
      "\u001b[34m\u001b[1mwandb\u001b[0m: Adding directory to artifact (/root/jupyter/IHC/gain_proj/wandb/run-20230421_161448-tzux4skn/files/model-best)... Done. 0.0s\n"
     ]
    },
    {
     "name": "stdout",
     "output_type": "stream",
     "text": [
      "391/391 [==============================] - 12s 30ms/step - loss: 1.3223 - accuracy: 0.5295 - val_loss: 1.3011 - val_accuracy: 0.5317\n",
      "Epoch 14/200\n",
      "391/391 [==============================] - ETA: 0s - loss: 1.2988 - accuracy: 0.5383"
     ]
    },
    {
     "name": "stderr",
     "output_type": "stream",
     "text": [
      "WARNING:absl:Found untraced functions such as _jit_compiled_convolution_op, _jit_compiled_convolution_op, _jit_compiled_convolution_op, _jit_compiled_convolution_op while saving (showing 4 of 4). These functions will not be directly callable after loading.\n"
     ]
    },
    {
     "name": "stdout",
     "output_type": "stream",
     "text": [
      "INFO:tensorflow:Assets written to: /root/jupyter/IHC/gain_proj/wandb/run-20230421_161448-tzux4skn/files/model-best/assets\n"
     ]
    },
    {
     "name": "stderr",
     "output_type": "stream",
     "text": [
      "INFO:tensorflow:Assets written to: /root/jupyter/IHC/gain_proj/wandb/run-20230421_161448-tzux4skn/files/model-best/assets\n",
      "\u001b[34m\u001b[1mwandb\u001b[0m: Adding directory to artifact (/root/jupyter/IHC/gain_proj/wandb/run-20230421_161448-tzux4skn/files/model-best)... Done. 0.0s\n"
     ]
    },
    {
     "name": "stdout",
     "output_type": "stream",
     "text": [
      "391/391 [==============================] - 12s 30ms/step - loss: 1.2988 - accuracy: 0.5383 - val_loss: 1.2832 - val_accuracy: 0.5412\n",
      "Epoch 15/200\n",
      "386/391 [============================>.] - ETA: 0s - loss: 1.2784 - accuracy: 0.5442"
     ]
    },
    {
     "name": "stderr",
     "output_type": "stream",
     "text": [
      "WARNING:absl:Found untraced functions such as _jit_compiled_convolution_op, _jit_compiled_convolution_op, _jit_compiled_convolution_op, _jit_compiled_convolution_op while saving (showing 4 of 4). These functions will not be directly callable after loading.\n"
     ]
    },
    {
     "name": "stdout",
     "output_type": "stream",
     "text": [
      "INFO:tensorflow:Assets written to: /root/jupyter/IHC/gain_proj/wandb/run-20230421_161448-tzux4skn/files/model-best/assets\n"
     ]
    },
    {
     "name": "stderr",
     "output_type": "stream",
     "text": [
      "INFO:tensorflow:Assets written to: /root/jupyter/IHC/gain_proj/wandb/run-20230421_161448-tzux4skn/files/model-best/assets\n",
      "\u001b[34m\u001b[1mwandb\u001b[0m: Adding directory to artifact (/root/jupyter/IHC/gain_proj/wandb/run-20230421_161448-tzux4skn/files/model-best)... Done. 0.0s\n"
     ]
    },
    {
     "name": "stdout",
     "output_type": "stream",
     "text": [
      "391/391 [==============================] - 12s 30ms/step - loss: 1.2782 - accuracy: 0.5443 - val_loss: 1.2656 - val_accuracy: 0.5463\n",
      "Epoch 16/200\n",
      "390/391 [============================>.] - ETA: 0s - loss: 1.2552 - accuracy: 0.5528"
     ]
    },
    {
     "name": "stderr",
     "output_type": "stream",
     "text": [
      "WARNING:absl:Found untraced functions such as _jit_compiled_convolution_op, _jit_compiled_convolution_op, _jit_compiled_convolution_op, _jit_compiled_convolution_op while saving (showing 4 of 4). These functions will not be directly callable after loading.\n"
     ]
    },
    {
     "name": "stdout",
     "output_type": "stream",
     "text": [
      "INFO:tensorflow:Assets written to: /root/jupyter/IHC/gain_proj/wandb/run-20230421_161448-tzux4skn/files/model-best/assets\n"
     ]
    },
    {
     "name": "stderr",
     "output_type": "stream",
     "text": [
      "INFO:tensorflow:Assets written to: /root/jupyter/IHC/gain_proj/wandb/run-20230421_161448-tzux4skn/files/model-best/assets\n",
      "\u001b[34m\u001b[1mwandb\u001b[0m: Adding directory to artifact (/root/jupyter/IHC/gain_proj/wandb/run-20230421_161448-tzux4skn/files/model-best)... Done. 0.0s\n"
     ]
    },
    {
     "name": "stdout",
     "output_type": "stream",
     "text": [
      "391/391 [==============================] - 12s 30ms/step - loss: 1.2552 - accuracy: 0.5529 - val_loss: 1.2481 - val_accuracy: 0.5537\n",
      "Epoch 17/200\n",
      "391/391 [==============================] - ETA: 0s - loss: 1.2400 - accuracy: 0.5604"
     ]
    },
    {
     "name": "stderr",
     "output_type": "stream",
     "text": [
      "WARNING:absl:Found untraced functions such as _jit_compiled_convolution_op, _jit_compiled_convolution_op, _jit_compiled_convolution_op, _jit_compiled_convolution_op while saving (showing 4 of 4). These functions will not be directly callable after loading.\n"
     ]
    },
    {
     "name": "stdout",
     "output_type": "stream",
     "text": [
      "INFO:tensorflow:Assets written to: /root/jupyter/IHC/gain_proj/wandb/run-20230421_161448-tzux4skn/files/model-best/assets\n"
     ]
    },
    {
     "name": "stderr",
     "output_type": "stream",
     "text": [
      "INFO:tensorflow:Assets written to: /root/jupyter/IHC/gain_proj/wandb/run-20230421_161448-tzux4skn/files/model-best/assets\n",
      "\u001b[34m\u001b[1mwandb\u001b[0m: Adding directory to artifact (/root/jupyter/IHC/gain_proj/wandb/run-20230421_161448-tzux4skn/files/model-best)... Done. 0.0s\n"
     ]
    },
    {
     "name": "stdout",
     "output_type": "stream",
     "text": [
      "391/391 [==============================] - 12s 30ms/step - loss: 1.2400 - accuracy: 0.5604 - val_loss: 1.2468 - val_accuracy: 0.5553\n",
      "Epoch 18/200\n",
      "390/391 [============================>.] - ETA: 0s - loss: 1.2193 - accuracy: 0.5674"
     ]
    },
    {
     "name": "stderr",
     "output_type": "stream",
     "text": [
      "WARNING:absl:Found untraced functions such as _jit_compiled_convolution_op, _jit_compiled_convolution_op, _jit_compiled_convolution_op, _jit_compiled_convolution_op while saving (showing 4 of 4). These functions will not be directly callable after loading.\n"
     ]
    },
    {
     "name": "stdout",
     "output_type": "stream",
     "text": [
      "INFO:tensorflow:Assets written to: /root/jupyter/IHC/gain_proj/wandb/run-20230421_161448-tzux4skn/files/model-best/assets\n"
     ]
    },
    {
     "name": "stderr",
     "output_type": "stream",
     "text": [
      "INFO:tensorflow:Assets written to: /root/jupyter/IHC/gain_proj/wandb/run-20230421_161448-tzux4skn/files/model-best/assets\n",
      "\u001b[34m\u001b[1mwandb\u001b[0m: Adding directory to artifact (/root/jupyter/IHC/gain_proj/wandb/run-20230421_161448-tzux4skn/files/model-best)... Done. 0.0s\n"
     ]
    },
    {
     "name": "stdout",
     "output_type": "stream",
     "text": [
      "391/391 [==============================] - 12s 31ms/step - loss: 1.2193 - accuracy: 0.5673 - val_loss: 1.2241 - val_accuracy: 0.5652\n",
      "Epoch 19/200\n",
      "388/391 [============================>.] - ETA: 0s - loss: 1.2039 - accuracy: 0.5706"
     ]
    },
    {
     "name": "stderr",
     "output_type": "stream",
     "text": [
      "WARNING:absl:Found untraced functions such as _jit_compiled_convolution_op, _jit_compiled_convolution_op, _jit_compiled_convolution_op, _jit_compiled_convolution_op while saving (showing 4 of 4). These functions will not be directly callable after loading.\n"
     ]
    },
    {
     "name": "stdout",
     "output_type": "stream",
     "text": [
      "INFO:tensorflow:Assets written to: /root/jupyter/IHC/gain_proj/wandb/run-20230421_161448-tzux4skn/files/model-best/assets\n"
     ]
    },
    {
     "name": "stderr",
     "output_type": "stream",
     "text": [
      "INFO:tensorflow:Assets written to: /root/jupyter/IHC/gain_proj/wandb/run-20230421_161448-tzux4skn/files/model-best/assets\n",
      "\u001b[34m\u001b[1mwandb\u001b[0m: Adding directory to artifact (/root/jupyter/IHC/gain_proj/wandb/run-20230421_161448-tzux4skn/files/model-best)... Done. 0.0s\n"
     ]
    },
    {
     "name": "stdout",
     "output_type": "stream",
     "text": [
      "391/391 [==============================] - 12s 30ms/step - loss: 1.2044 - accuracy: 0.5705 - val_loss: 1.1966 - val_accuracy: 0.5737\n",
      "Epoch 20/200\n",
      "391/391 [==============================] - 10s 26ms/step - loss: 1.1912 - accuracy: 0.5765 - val_loss: 1.2058 - val_accuracy: 0.5681\n",
      "Epoch 21/200\n",
      "391/391 [==============================] - ETA: 0s - loss: 1.1734 - accuracy: 0.5834"
     ]
    },
    {
     "name": "stderr",
     "output_type": "stream",
     "text": [
      "WARNING:absl:Found untraced functions such as _jit_compiled_convolution_op, _jit_compiled_convolution_op, _jit_compiled_convolution_op, _jit_compiled_convolution_op while saving (showing 4 of 4). These functions will not be directly callable after loading.\n"
     ]
    },
    {
     "name": "stdout",
     "output_type": "stream",
     "text": [
      "INFO:tensorflow:Assets written to: /root/jupyter/IHC/gain_proj/wandb/run-20230421_161448-tzux4skn/files/model-best/assets\n"
     ]
    },
    {
     "name": "stderr",
     "output_type": "stream",
     "text": [
      "INFO:tensorflow:Assets written to: /root/jupyter/IHC/gain_proj/wandb/run-20230421_161448-tzux4skn/files/model-best/assets\n",
      "\u001b[34m\u001b[1mwandb\u001b[0m: Adding directory to artifact (/root/jupyter/IHC/gain_proj/wandb/run-20230421_161448-tzux4skn/files/model-best)... Done. 0.0s\n"
     ]
    },
    {
     "name": "stdout",
     "output_type": "stream",
     "text": [
      "391/391 [==============================] - 12s 30ms/step - loss: 1.1734 - accuracy: 0.5834 - val_loss: 1.1668 - val_accuracy: 0.5850\n",
      "Epoch 22/200\n",
      "391/391 [==============================] - ETA: 0s - loss: 1.1597 - accuracy: 0.5906"
     ]
    },
    {
     "name": "stderr",
     "output_type": "stream",
     "text": [
      "WARNING:absl:Found untraced functions such as _jit_compiled_convolution_op, _jit_compiled_convolution_op, _jit_compiled_convolution_op, _jit_compiled_convolution_op while saving (showing 4 of 4). These functions will not be directly callable after loading.\n"
     ]
    },
    {
     "name": "stdout",
     "output_type": "stream",
     "text": [
      "INFO:tensorflow:Assets written to: /root/jupyter/IHC/gain_proj/wandb/run-20230421_161448-tzux4skn/files/model-best/assets\n"
     ]
    },
    {
     "name": "stderr",
     "output_type": "stream",
     "text": [
      "INFO:tensorflow:Assets written to: /root/jupyter/IHC/gain_proj/wandb/run-20230421_161448-tzux4skn/files/model-best/assets\n",
      "\u001b[34m\u001b[1mwandb\u001b[0m: Adding directory to artifact (/root/jupyter/IHC/gain_proj/wandb/run-20230421_161448-tzux4skn/files/model-best)... Done. 0.0s\n"
     ]
    },
    {
     "name": "stdout",
     "output_type": "stream",
     "text": [
      "391/391 [==============================] - 12s 30ms/step - loss: 1.1597 - accuracy: 0.5906 - val_loss: 1.1591 - val_accuracy: 0.5894\n",
      "Epoch 23/200\n",
      "391/391 [==============================] - ETA: 0s - loss: 1.1450 - accuracy: 0.5962"
     ]
    },
    {
     "name": "stderr",
     "output_type": "stream",
     "text": [
      "WARNING:absl:Found untraced functions such as _jit_compiled_convolution_op, _jit_compiled_convolution_op, _jit_compiled_convolution_op, _jit_compiled_convolution_op while saving (showing 4 of 4). These functions will not be directly callable after loading.\n"
     ]
    },
    {
     "name": "stdout",
     "output_type": "stream",
     "text": [
      "INFO:tensorflow:Assets written to: /root/jupyter/IHC/gain_proj/wandb/run-20230421_161448-tzux4skn/files/model-best/assets\n"
     ]
    },
    {
     "name": "stderr",
     "output_type": "stream",
     "text": [
      "INFO:tensorflow:Assets written to: /root/jupyter/IHC/gain_proj/wandb/run-20230421_161448-tzux4skn/files/model-best/assets\n",
      "\u001b[34m\u001b[1mwandb\u001b[0m: Adding directory to artifact (/root/jupyter/IHC/gain_proj/wandb/run-20230421_161448-tzux4skn/files/model-best)... Done. 0.0s\n"
     ]
    },
    {
     "name": "stdout",
     "output_type": "stream",
     "text": [
      "391/391 [==============================] - 12s 31ms/step - loss: 1.1450 - accuracy: 0.5962 - val_loss: 1.1478 - val_accuracy: 0.5937\n",
      "Epoch 24/200\n",
      "391/391 [==============================] - 10s 27ms/step - loss: 1.1358 - accuracy: 0.5990 - val_loss: 1.1516 - val_accuracy: 0.5903\n",
      "Epoch 25/200\n",
      "389/391 [============================>.] - ETA: 0s - loss: 1.1206 - accuracy: 0.6062"
     ]
    },
    {
     "name": "stderr",
     "output_type": "stream",
     "text": [
      "WARNING:absl:Found untraced functions such as _jit_compiled_convolution_op, _jit_compiled_convolution_op, _jit_compiled_convolution_op, _jit_compiled_convolution_op while saving (showing 4 of 4). These functions will not be directly callable after loading.\n"
     ]
    },
    {
     "name": "stdout",
     "output_type": "stream",
     "text": [
      "INFO:tensorflow:Assets written to: /root/jupyter/IHC/gain_proj/wandb/run-20230421_161448-tzux4skn/files/model-best/assets\n"
     ]
    },
    {
     "name": "stderr",
     "output_type": "stream",
     "text": [
      "INFO:tensorflow:Assets written to: /root/jupyter/IHC/gain_proj/wandb/run-20230421_161448-tzux4skn/files/model-best/assets\n",
      "\u001b[34m\u001b[1mwandb\u001b[0m: Adding directory to artifact (/root/jupyter/IHC/gain_proj/wandb/run-20230421_161448-tzux4skn/files/model-best)... Done. 0.0s\n"
     ]
    },
    {
     "name": "stdout",
     "output_type": "stream",
     "text": [
      "391/391 [==============================] - 12s 30ms/step - loss: 1.1210 - accuracy: 0.6061 - val_loss: 1.1261 - val_accuracy: 0.5970\n",
      "Epoch 26/200\n",
      "391/391 [==============================] - ETA: 0s - loss: 1.1130 - accuracy: 0.6074"
     ]
    },
    {
     "name": "stderr",
     "output_type": "stream",
     "text": [
      "WARNING:absl:Found untraced functions such as _jit_compiled_convolution_op, _jit_compiled_convolution_op, _jit_compiled_convolution_op, _jit_compiled_convolution_op while saving (showing 4 of 4). These functions will not be directly callable after loading.\n"
     ]
    },
    {
     "name": "stdout",
     "output_type": "stream",
     "text": [
      "INFO:tensorflow:Assets written to: /root/jupyter/IHC/gain_proj/wandb/run-20230421_161448-tzux4skn/files/model-best/assets\n"
     ]
    },
    {
     "name": "stderr",
     "output_type": "stream",
     "text": [
      "INFO:tensorflow:Assets written to: /root/jupyter/IHC/gain_proj/wandb/run-20230421_161448-tzux4skn/files/model-best/assets\n",
      "\u001b[34m\u001b[1mwandb\u001b[0m: Adding directory to artifact (/root/jupyter/IHC/gain_proj/wandb/run-20230421_161448-tzux4skn/files/model-best)... Done. 0.0s\n"
     ]
    },
    {
     "name": "stdout",
     "output_type": "stream",
     "text": [
      "391/391 [==============================] - 12s 30ms/step - loss: 1.1130 - accuracy: 0.6074 - val_loss: 1.1087 - val_accuracy: 0.6052\n",
      "Epoch 27/200\n",
      "390/391 [============================>.] - ETA: 0s - loss: 1.0977 - accuracy: 0.6137"
     ]
    },
    {
     "name": "stderr",
     "output_type": "stream",
     "text": [
      "WARNING:absl:Found untraced functions such as _jit_compiled_convolution_op, _jit_compiled_convolution_op, _jit_compiled_convolution_op, _jit_compiled_convolution_op while saving (showing 4 of 4). These functions will not be directly callable after loading.\n"
     ]
    },
    {
     "name": "stdout",
     "output_type": "stream",
     "text": [
      "INFO:tensorflow:Assets written to: /root/jupyter/IHC/gain_proj/wandb/run-20230421_161448-tzux4skn/files/model-best/assets\n"
     ]
    },
    {
     "name": "stderr",
     "output_type": "stream",
     "text": [
      "INFO:tensorflow:Assets written to: /root/jupyter/IHC/gain_proj/wandb/run-20230421_161448-tzux4skn/files/model-best/assets\n",
      "\u001b[34m\u001b[1mwandb\u001b[0m: Adding directory to artifact (/root/jupyter/IHC/gain_proj/wandb/run-20230421_161448-tzux4skn/files/model-best)... Done. 0.0s\n"
     ]
    },
    {
     "name": "stdout",
     "output_type": "stream",
     "text": [
      "391/391 [==============================] - 12s 30ms/step - loss: 1.0981 - accuracy: 0.6136 - val_loss: 1.1023 - val_accuracy: 0.6086\n",
      "Epoch 28/200\n",
      "388/391 [============================>.] - ETA: 0s - loss: 1.0892 - accuracy: 0.6163"
     ]
    },
    {
     "name": "stderr",
     "output_type": "stream",
     "text": [
      "WARNING:absl:Found untraced functions such as _jit_compiled_convolution_op, _jit_compiled_convolution_op, _jit_compiled_convolution_op, _jit_compiled_convolution_op while saving (showing 4 of 4). These functions will not be directly callable after loading.\n"
     ]
    },
    {
     "name": "stdout",
     "output_type": "stream",
     "text": [
      "INFO:tensorflow:Assets written to: /root/jupyter/IHC/gain_proj/wandb/run-20230421_161448-tzux4skn/files/model-best/assets\n"
     ]
    },
    {
     "name": "stderr",
     "output_type": "stream",
     "text": [
      "INFO:tensorflow:Assets written to: /root/jupyter/IHC/gain_proj/wandb/run-20230421_161448-tzux4skn/files/model-best/assets\n",
      "\u001b[34m\u001b[1mwandb\u001b[0m: Adding directory to artifact (/root/jupyter/IHC/gain_proj/wandb/run-20230421_161448-tzux4skn/files/model-best)... Done. 0.0s\n"
     ]
    },
    {
     "name": "stdout",
     "output_type": "stream",
     "text": [
      "391/391 [==============================] - 12s 30ms/step - loss: 1.0896 - accuracy: 0.6161 - val_loss: 1.0986 - val_accuracy: 0.6097\n",
      "Epoch 29/200\n",
      "391/391 [==============================] - 10s 26ms/step - loss: 1.0779 - accuracy: 0.6212 - val_loss: 1.1060 - val_accuracy: 0.6042\n",
      "Epoch 30/200\n",
      "387/391 [============================>.] - ETA: 0s - loss: 1.0636 - accuracy: 0.6261"
     ]
    },
    {
     "name": "stderr",
     "output_type": "stream",
     "text": [
      "WARNING:absl:Found untraced functions such as _jit_compiled_convolution_op, _jit_compiled_convolution_op, _jit_compiled_convolution_op, _jit_compiled_convolution_op while saving (showing 4 of 4). These functions will not be directly callable after loading.\n"
     ]
    },
    {
     "name": "stdout",
     "output_type": "stream",
     "text": [
      "INFO:tensorflow:Assets written to: /root/jupyter/IHC/gain_proj/wandb/run-20230421_161448-tzux4skn/files/model-best/assets\n"
     ]
    },
    {
     "name": "stderr",
     "output_type": "stream",
     "text": [
      "INFO:tensorflow:Assets written to: /root/jupyter/IHC/gain_proj/wandb/run-20230421_161448-tzux4skn/files/model-best/assets\n",
      "\u001b[34m\u001b[1mwandb\u001b[0m: Adding directory to artifact (/root/jupyter/IHC/gain_proj/wandb/run-20230421_161448-tzux4skn/files/model-best)... Done. 0.0s\n"
     ]
    },
    {
     "name": "stdout",
     "output_type": "stream",
     "text": [
      "391/391 [==============================] - 12s 30ms/step - loss: 1.0635 - accuracy: 0.6261 - val_loss: 1.0790 - val_accuracy: 0.6164\n",
      "Epoch 31/200\n",
      "390/391 [============================>.] - ETA: 0s - loss: 1.0588 - accuracy: 0.6295"
     ]
    },
    {
     "name": "stderr",
     "output_type": "stream",
     "text": [
      "WARNING:absl:Found untraced functions such as _jit_compiled_convolution_op, _jit_compiled_convolution_op, _jit_compiled_convolution_op, _jit_compiled_convolution_op while saving (showing 4 of 4). These functions will not be directly callable after loading.\n"
     ]
    },
    {
     "name": "stdout",
     "output_type": "stream",
     "text": [
      "INFO:tensorflow:Assets written to: /root/jupyter/IHC/gain_proj/wandb/run-20230421_161448-tzux4skn/files/model-best/assets\n"
     ]
    },
    {
     "name": "stderr",
     "output_type": "stream",
     "text": [
      "INFO:tensorflow:Assets written to: /root/jupyter/IHC/gain_proj/wandb/run-20230421_161448-tzux4skn/files/model-best/assets\n",
      "\u001b[34m\u001b[1mwandb\u001b[0m: Adding directory to artifact (/root/jupyter/IHC/gain_proj/wandb/run-20230421_161448-tzux4skn/files/model-best)... Done. 0.0s\n"
     ]
    },
    {
     "name": "stdout",
     "output_type": "stream",
     "text": [
      "391/391 [==============================] - 12s 30ms/step - loss: 1.0590 - accuracy: 0.6294 - val_loss: 1.0741 - val_accuracy: 0.6218\n",
      "Epoch 32/200\n",
      "388/391 [============================>.] - ETA: 0s - loss: 1.0512 - accuracy: 0.6286"
     ]
    },
    {
     "name": "stderr",
     "output_type": "stream",
     "text": [
      "WARNING:absl:Found untraced functions such as _jit_compiled_convolution_op, _jit_compiled_convolution_op, _jit_compiled_convolution_op, _jit_compiled_convolution_op while saving (showing 4 of 4). These functions will not be directly callable after loading.\n"
     ]
    },
    {
     "name": "stdout",
     "output_type": "stream",
     "text": [
      "INFO:tensorflow:Assets written to: /root/jupyter/IHC/gain_proj/wandb/run-20230421_161448-tzux4skn/files/model-best/assets\n"
     ]
    },
    {
     "name": "stderr",
     "output_type": "stream",
     "text": [
      "INFO:tensorflow:Assets written to: /root/jupyter/IHC/gain_proj/wandb/run-20230421_161448-tzux4skn/files/model-best/assets\n",
      "\u001b[34m\u001b[1mwandb\u001b[0m: Adding directory to artifact (/root/jupyter/IHC/gain_proj/wandb/run-20230421_161448-tzux4skn/files/model-best)... Done. 0.0s\n"
     ]
    },
    {
     "name": "stdout",
     "output_type": "stream",
     "text": [
      "391/391 [==============================] - 12s 30ms/step - loss: 1.0510 - accuracy: 0.6288 - val_loss: 1.0566 - val_accuracy: 0.6261\n",
      "Epoch 33/200\n",
      "391/391 [==============================] - 10s 26ms/step - loss: 1.0393 - accuracy: 0.6351 - val_loss: 1.0635 - val_accuracy: 0.6256\n",
      "Epoch 34/200\n",
      "389/391 [============================>.] - ETA: 0s - loss: 1.0331 - accuracy: 0.6350"
     ]
    },
    {
     "name": "stderr",
     "output_type": "stream",
     "text": [
      "WARNING:absl:Found untraced functions such as _jit_compiled_convolution_op, _jit_compiled_convolution_op, _jit_compiled_convolution_op, _jit_compiled_convolution_op while saving (showing 4 of 4). These functions will not be directly callable after loading.\n"
     ]
    },
    {
     "name": "stdout",
     "output_type": "stream",
     "text": [
      "INFO:tensorflow:Assets written to: /root/jupyter/IHC/gain_proj/wandb/run-20230421_161448-tzux4skn/files/model-best/assets\n"
     ]
    },
    {
     "name": "stderr",
     "output_type": "stream",
     "text": [
      "INFO:tensorflow:Assets written to: /root/jupyter/IHC/gain_proj/wandb/run-20230421_161448-tzux4skn/files/model-best/assets\n",
      "\u001b[34m\u001b[1mwandb\u001b[0m: Adding directory to artifact (/root/jupyter/IHC/gain_proj/wandb/run-20230421_161448-tzux4skn/files/model-best)... Done. 0.0s\n"
     ]
    },
    {
     "name": "stdout",
     "output_type": "stream",
     "text": [
      "391/391 [==============================] - 12s 30ms/step - loss: 1.0330 - accuracy: 0.6350 - val_loss: 1.0599 - val_accuracy: 0.6265\n",
      "Epoch 35/200\n",
      "389/391 [============================>.] - ETA: 0s - loss: 1.0182 - accuracy: 0.6427"
     ]
    },
    {
     "name": "stderr",
     "output_type": "stream",
     "text": [
      "WARNING:absl:Found untraced functions such as _jit_compiled_convolution_op, _jit_compiled_convolution_op, _jit_compiled_convolution_op, _jit_compiled_convolution_op while saving (showing 4 of 4). These functions will not be directly callable after loading.\n"
     ]
    },
    {
     "name": "stdout",
     "output_type": "stream",
     "text": [
      "INFO:tensorflow:Assets written to: /root/jupyter/IHC/gain_proj/wandb/run-20230421_161448-tzux4skn/files/model-best/assets\n"
     ]
    },
    {
     "name": "stderr",
     "output_type": "stream",
     "text": [
      "INFO:tensorflow:Assets written to: /root/jupyter/IHC/gain_proj/wandb/run-20230421_161448-tzux4skn/files/model-best/assets\n",
      "\u001b[34m\u001b[1mwandb\u001b[0m: Adding directory to artifact (/root/jupyter/IHC/gain_proj/wandb/run-20230421_161448-tzux4skn/files/model-best)... Done. 0.0s\n"
     ]
    },
    {
     "name": "stdout",
     "output_type": "stream",
     "text": [
      "391/391 [==============================] - 12s 30ms/step - loss: 1.0180 - accuracy: 0.6428 - val_loss: 1.0463 - val_accuracy: 0.6305\n",
      "Epoch 36/200\n",
      "391/391 [==============================] - 10s 26ms/step - loss: 1.0117 - accuracy: 0.6447 - val_loss: 1.0433 - val_accuracy: 0.6290\n",
      "Epoch 37/200\n",
      "388/391 [============================>.] - ETA: 0s - loss: 1.0054 - accuracy: 0.6477"
     ]
    },
    {
     "name": "stderr",
     "output_type": "stream",
     "text": [
      "WARNING:absl:Found untraced functions such as _jit_compiled_convolution_op, _jit_compiled_convolution_op, _jit_compiled_convolution_op, _jit_compiled_convolution_op while saving (showing 4 of 4). These functions will not be directly callable after loading.\n"
     ]
    },
    {
     "name": "stdout",
     "output_type": "stream",
     "text": [
      "INFO:tensorflow:Assets written to: /root/jupyter/IHC/gain_proj/wandb/run-20230421_161448-tzux4skn/files/model-best/assets\n"
     ]
    },
    {
     "name": "stderr",
     "output_type": "stream",
     "text": [
      "INFO:tensorflow:Assets written to: /root/jupyter/IHC/gain_proj/wandb/run-20230421_161448-tzux4skn/files/model-best/assets\n",
      "\u001b[34m\u001b[1mwandb\u001b[0m: Adding directory to artifact (/root/jupyter/IHC/gain_proj/wandb/run-20230421_161448-tzux4skn/files/model-best)... Done. 0.0s\n"
     ]
    },
    {
     "name": "stdout",
     "output_type": "stream",
     "text": [
      "391/391 [==============================] - 12s 30ms/step - loss: 1.0050 - accuracy: 0.6475 - val_loss: 1.0367 - val_accuracy: 0.6320\n",
      "Epoch 38/200\n",
      "386/391 [============================>.] - ETA: 0s - loss: 0.9999 - accuracy: 0.6488"
     ]
    },
    {
     "name": "stderr",
     "output_type": "stream",
     "text": [
      "WARNING:absl:Found untraced functions such as _jit_compiled_convolution_op, _jit_compiled_convolution_op, _jit_compiled_convolution_op, _jit_compiled_convolution_op while saving (showing 4 of 4). These functions will not be directly callable after loading.\n"
     ]
    },
    {
     "name": "stdout",
     "output_type": "stream",
     "text": [
      "INFO:tensorflow:Assets written to: /root/jupyter/IHC/gain_proj/wandb/run-20230421_161448-tzux4skn/files/model-best/assets\n"
     ]
    },
    {
     "name": "stderr",
     "output_type": "stream",
     "text": [
      "INFO:tensorflow:Assets written to: /root/jupyter/IHC/gain_proj/wandb/run-20230421_161448-tzux4skn/files/model-best/assets\n",
      "\u001b[34m\u001b[1mwandb\u001b[0m: Adding directory to artifact (/root/jupyter/IHC/gain_proj/wandb/run-20230421_161448-tzux4skn/files/model-best)... Done. 0.0s\n"
     ]
    },
    {
     "name": "stdout",
     "output_type": "stream",
     "text": [
      "391/391 [==============================] - 12s 30ms/step - loss: 0.9996 - accuracy: 0.6491 - val_loss: 1.0138 - val_accuracy: 0.6452\n",
      "Epoch 39/200\n",
      "388/391 [============================>.] - ETA: 0s - loss: 0.9909 - accuracy: 0.6518"
     ]
    },
    {
     "name": "stderr",
     "output_type": "stream",
     "text": [
      "WARNING:absl:Found untraced functions such as _jit_compiled_convolution_op, _jit_compiled_convolution_op, _jit_compiled_convolution_op, _jit_compiled_convolution_op while saving (showing 4 of 4). These functions will not be directly callable after loading.\n"
     ]
    },
    {
     "name": "stdout",
     "output_type": "stream",
     "text": [
      "INFO:tensorflow:Assets written to: /root/jupyter/IHC/gain_proj/wandb/run-20230421_161448-tzux4skn/files/model-best/assets\n"
     ]
    },
    {
     "name": "stderr",
     "output_type": "stream",
     "text": [
      "INFO:tensorflow:Assets written to: /root/jupyter/IHC/gain_proj/wandb/run-20230421_161448-tzux4skn/files/model-best/assets\n",
      "\u001b[34m\u001b[1mwandb\u001b[0m: Adding directory to artifact (/root/jupyter/IHC/gain_proj/wandb/run-20230421_161448-tzux4skn/files/model-best)... Done. 0.0s\n"
     ]
    },
    {
     "name": "stdout",
     "output_type": "stream",
     "text": [
      "391/391 [==============================] - 12s 30ms/step - loss: 0.9911 - accuracy: 0.6516 - val_loss: 1.0099 - val_accuracy: 0.6470\n",
      "Epoch 40/200\n",
      "391/391 [==============================] - 10s 26ms/step - loss: 0.9832 - accuracy: 0.6554 - val_loss: 1.0108 - val_accuracy: 0.6454\n",
      "Epoch 41/200\n",
      "389/391 [============================>.] - ETA: 0s - loss: 0.9759 - accuracy: 0.6576"
     ]
    },
    {
     "name": "stderr",
     "output_type": "stream",
     "text": [
      "WARNING:absl:Found untraced functions such as _jit_compiled_convolution_op, _jit_compiled_convolution_op, _jit_compiled_convolution_op, _jit_compiled_convolution_op while saving (showing 4 of 4). These functions will not be directly callable after loading.\n"
     ]
    },
    {
     "name": "stdout",
     "output_type": "stream",
     "text": [
      "INFO:tensorflow:Assets written to: /root/jupyter/IHC/gain_proj/wandb/run-20230421_161448-tzux4skn/files/model-best/assets\n"
     ]
    },
    {
     "name": "stderr",
     "output_type": "stream",
     "text": [
      "INFO:tensorflow:Assets written to: /root/jupyter/IHC/gain_proj/wandb/run-20230421_161448-tzux4skn/files/model-best/assets\n",
      "\u001b[34m\u001b[1mwandb\u001b[0m: Adding directory to artifact (/root/jupyter/IHC/gain_proj/wandb/run-20230421_161448-tzux4skn/files/model-best)... Done. 0.1s\n"
     ]
    },
    {
     "name": "stdout",
     "output_type": "stream",
     "text": [
      "391/391 [==============================] - 12s 32ms/step - loss: 0.9765 - accuracy: 0.6573 - val_loss: 0.9980 - val_accuracy: 0.6485\n",
      "Epoch 42/200\n",
      "388/391 [============================>.] - ETA: 0s - loss: 0.9667 - accuracy: 0.6600"
     ]
    },
    {
     "name": "stderr",
     "output_type": "stream",
     "text": [
      "WARNING:absl:Found untraced functions such as _jit_compiled_convolution_op, _jit_compiled_convolution_op, _jit_compiled_convolution_op, _jit_compiled_convolution_op while saving (showing 4 of 4). These functions will not be directly callable after loading.\n"
     ]
    },
    {
     "name": "stdout",
     "output_type": "stream",
     "text": [
      "INFO:tensorflow:Assets written to: /root/jupyter/IHC/gain_proj/wandb/run-20230421_161448-tzux4skn/files/model-best/assets\n"
     ]
    },
    {
     "name": "stderr",
     "output_type": "stream",
     "text": [
      "INFO:tensorflow:Assets written to: /root/jupyter/IHC/gain_proj/wandb/run-20230421_161448-tzux4skn/files/model-best/assets\n",
      "\u001b[34m\u001b[1mwandb\u001b[0m: Adding directory to artifact (/root/jupyter/IHC/gain_proj/wandb/run-20230421_161448-tzux4skn/files/model-best)... Done. 0.1s\n"
     ]
    },
    {
     "name": "stdout",
     "output_type": "stream",
     "text": [
      "391/391 [==============================] - 13s 33ms/step - loss: 0.9669 - accuracy: 0.6601 - val_loss: 0.9933 - val_accuracy: 0.6536\n",
      "Epoch 43/200\n",
      "391/391 [==============================] - 10s 26ms/step - loss: 0.9595 - accuracy: 0.6642 - val_loss: 0.9955 - val_accuracy: 0.6505\n",
      "Epoch 44/200\n",
      "387/391 [============================>.] - ETA: 0s - loss: 0.9570 - accuracy: 0.6636"
     ]
    },
    {
     "name": "stderr",
     "output_type": "stream",
     "text": [
      "WARNING:absl:Found untraced functions such as _jit_compiled_convolution_op, _jit_compiled_convolution_op, _jit_compiled_convolution_op, _jit_compiled_convolution_op while saving (showing 4 of 4). These functions will not be directly callable after loading.\n"
     ]
    },
    {
     "name": "stdout",
     "output_type": "stream",
     "text": [
      "INFO:tensorflow:Assets written to: /root/jupyter/IHC/gain_proj/wandb/run-20230421_161448-tzux4skn/files/model-best/assets\n"
     ]
    },
    {
     "name": "stderr",
     "output_type": "stream",
     "text": [
      "INFO:tensorflow:Assets written to: /root/jupyter/IHC/gain_proj/wandb/run-20230421_161448-tzux4skn/files/model-best/assets\n",
      "\u001b[34m\u001b[1mwandb\u001b[0m: Adding directory to artifact (/root/jupyter/IHC/gain_proj/wandb/run-20230421_161448-tzux4skn/files/model-best)... Done. 0.0s\n"
     ]
    },
    {
     "name": "stdout",
     "output_type": "stream",
     "text": [
      "391/391 [==============================] - 16s 42ms/step - loss: 0.9559 - accuracy: 0.6639 - val_loss: 0.9834 - val_accuracy: 0.6574\n",
      "Epoch 45/200\n",
      "391/391 [==============================] - ETA: 0s - loss: 0.9485 - accuracy: 0.6690"
     ]
    },
    {
     "name": "stderr",
     "output_type": "stream",
     "text": [
      "WARNING:absl:Found untraced functions such as _jit_compiled_convolution_op, _jit_compiled_convolution_op, _jit_compiled_convolution_op, _jit_compiled_convolution_op while saving (showing 4 of 4). These functions will not be directly callable after loading.\n"
     ]
    },
    {
     "name": "stdout",
     "output_type": "stream",
     "text": [
      "INFO:tensorflow:Assets written to: /root/jupyter/IHC/gain_proj/wandb/run-20230421_161448-tzux4skn/files/model-best/assets\n"
     ]
    },
    {
     "name": "stderr",
     "output_type": "stream",
     "text": [
      "INFO:tensorflow:Assets written to: /root/jupyter/IHC/gain_proj/wandb/run-20230421_161448-tzux4skn/files/model-best/assets\n",
      "\u001b[34m\u001b[1mwandb\u001b[0m: Adding directory to artifact (/root/jupyter/IHC/gain_proj/wandb/run-20230421_161448-tzux4skn/files/model-best)... Done. 0.0s\n"
     ]
    },
    {
     "name": "stdout",
     "output_type": "stream",
     "text": [
      "391/391 [==============================] - 13s 32ms/step - loss: 0.9485 - accuracy: 0.6690 - val_loss: 0.9731 - val_accuracy: 0.6626\n",
      "Epoch 46/200\n",
      "391/391 [==============================] - 10s 26ms/step - loss: 0.9425 - accuracy: 0.6695 - val_loss: 0.9658 - val_accuracy: 0.6611\n",
      "Epoch 47/200\n",
      "389/391 [============================>.] - ETA: 0s - loss: 0.9348 - accuracy: 0.6705"
     ]
    },
    {
     "name": "stderr",
     "output_type": "stream",
     "text": [
      "WARNING:absl:Found untraced functions such as _jit_compiled_convolution_op, _jit_compiled_convolution_op, _jit_compiled_convolution_op, _jit_compiled_convolution_op while saving (showing 4 of 4). These functions will not be directly callable after loading.\n"
     ]
    },
    {
     "name": "stdout",
     "output_type": "stream",
     "text": [
      "INFO:tensorflow:Assets written to: /root/jupyter/IHC/gain_proj/wandb/run-20230421_161448-tzux4skn/files/model-best/assets\n"
     ]
    },
    {
     "name": "stderr",
     "output_type": "stream",
     "text": [
      "INFO:tensorflow:Assets written to: /root/jupyter/IHC/gain_proj/wandb/run-20230421_161448-tzux4skn/files/model-best/assets\n",
      "\u001b[34m\u001b[1mwandb\u001b[0m: Adding directory to artifact (/root/jupyter/IHC/gain_proj/wandb/run-20230421_161448-tzux4skn/files/model-best)... Done. 0.0s\n"
     ]
    },
    {
     "name": "stdout",
     "output_type": "stream",
     "text": [
      "391/391 [==============================] - 13s 34ms/step - loss: 0.9350 - accuracy: 0.6704 - val_loss: 0.9596 - val_accuracy: 0.6628\n",
      "Epoch 48/200\n",
      "388/391 [============================>.] - ETA: 0s - loss: 0.9288 - accuracy: 0.6766"
     ]
    },
    {
     "name": "stderr",
     "output_type": "stream",
     "text": [
      "WARNING:absl:Found untraced functions such as _jit_compiled_convolution_op, _jit_compiled_convolution_op, _jit_compiled_convolution_op, _jit_compiled_convolution_op while saving (showing 4 of 4). These functions will not be directly callable after loading.\n"
     ]
    },
    {
     "name": "stdout",
     "output_type": "stream",
     "text": [
      "INFO:tensorflow:Assets written to: /root/jupyter/IHC/gain_proj/wandb/run-20230421_161448-tzux4skn/files/model-best/assets\n"
     ]
    },
    {
     "name": "stderr",
     "output_type": "stream",
     "text": [
      "INFO:tensorflow:Assets written to: /root/jupyter/IHC/gain_proj/wandb/run-20230421_161448-tzux4skn/files/model-best/assets\n",
      "\u001b[34m\u001b[1mwandb\u001b[0m: Adding directory to artifact (/root/jupyter/IHC/gain_proj/wandb/run-20230421_161448-tzux4skn/files/model-best)... Done. 0.0s\n"
     ]
    },
    {
     "name": "stdout",
     "output_type": "stream",
     "text": [
      "391/391 [==============================] - 12s 30ms/step - loss: 0.9294 - accuracy: 0.6764 - val_loss: 0.9540 - val_accuracy: 0.6676\n",
      "Epoch 49/200\n",
      "391/391 [==============================] - 10s 26ms/step - loss: 0.9228 - accuracy: 0.6752 - val_loss: 0.9661 - val_accuracy: 0.6595\n",
      "Epoch 50/200\n",
      "386/391 [============================>.] - ETA: 0s - loss: 0.9175 - accuracy: 0.6797"
     ]
    },
    {
     "name": "stderr",
     "output_type": "stream",
     "text": [
      "WARNING:absl:Found untraced functions such as _jit_compiled_convolution_op, _jit_compiled_convolution_op, _jit_compiled_convolution_op, _jit_compiled_convolution_op while saving (showing 4 of 4). These functions will not be directly callable after loading.\n"
     ]
    },
    {
     "name": "stdout",
     "output_type": "stream",
     "text": [
      "INFO:tensorflow:Assets written to: /root/jupyter/IHC/gain_proj/wandb/run-20230421_161448-tzux4skn/files/model-best/assets\n"
     ]
    },
    {
     "name": "stderr",
     "output_type": "stream",
     "text": [
      "INFO:tensorflow:Assets written to: /root/jupyter/IHC/gain_proj/wandb/run-20230421_161448-tzux4skn/files/model-best/assets\n",
      "\u001b[34m\u001b[1mwandb\u001b[0m: Adding directory to artifact (/root/jupyter/IHC/gain_proj/wandb/run-20230421_161448-tzux4skn/files/model-best)... Done. 0.0s\n"
     ]
    },
    {
     "name": "stdout",
     "output_type": "stream",
     "text": [
      "391/391 [==============================] - 12s 30ms/step - loss: 0.9172 - accuracy: 0.6800 - val_loss: 0.9516 - val_accuracy: 0.6690\n",
      "Epoch 51/200\n",
      "390/391 [============================>.] - ETA: 0s - loss: 0.9119 - accuracy: 0.6815"
     ]
    },
    {
     "name": "stderr",
     "output_type": "stream",
     "text": [
      "WARNING:absl:Found untraced functions such as _jit_compiled_convolution_op, _jit_compiled_convolution_op, _jit_compiled_convolution_op, _jit_compiled_convolution_op while saving (showing 4 of 4). These functions will not be directly callable after loading.\n"
     ]
    },
    {
     "name": "stdout",
     "output_type": "stream",
     "text": [
      "INFO:tensorflow:Assets written to: /root/jupyter/IHC/gain_proj/wandb/run-20230421_161448-tzux4skn/files/model-best/assets\n"
     ]
    },
    {
     "name": "stderr",
     "output_type": "stream",
     "text": [
      "INFO:tensorflow:Assets written to: /root/jupyter/IHC/gain_proj/wandb/run-20230421_161448-tzux4skn/files/model-best/assets\n",
      "\u001b[34m\u001b[1mwandb\u001b[0m: Adding directory to artifact (/root/jupyter/IHC/gain_proj/wandb/run-20230421_161448-tzux4skn/files/model-best)... Done. 0.0s\n"
     ]
    },
    {
     "name": "stdout",
     "output_type": "stream",
     "text": [
      "391/391 [==============================] - 12s 31ms/step - loss: 0.9118 - accuracy: 0.6814 - val_loss: 0.9414 - val_accuracy: 0.6724\n",
      "Epoch 52/200\n",
      "388/391 [============================>.] - ETA: 0s - loss: 0.9073 - accuracy: 0.6842"
     ]
    },
    {
     "name": "stderr",
     "output_type": "stream",
     "text": [
      "WARNING:absl:Found untraced functions such as _jit_compiled_convolution_op, _jit_compiled_convolution_op, _jit_compiled_convolution_op, _jit_compiled_convolution_op while saving (showing 4 of 4). These functions will not be directly callable after loading.\n"
     ]
    },
    {
     "name": "stdout",
     "output_type": "stream",
     "text": [
      "INFO:tensorflow:Assets written to: /root/jupyter/IHC/gain_proj/wandb/run-20230421_161448-tzux4skn/files/model-best/assets\n"
     ]
    },
    {
     "name": "stderr",
     "output_type": "stream",
     "text": [
      "INFO:tensorflow:Assets written to: /root/jupyter/IHC/gain_proj/wandb/run-20230421_161448-tzux4skn/files/model-best/assets\n",
      "\u001b[34m\u001b[1mwandb\u001b[0m: Adding directory to artifact (/root/jupyter/IHC/gain_proj/wandb/run-20230421_161448-tzux4skn/files/model-best)... Done. 0.0s\n"
     ]
    },
    {
     "name": "stdout",
     "output_type": "stream",
     "text": [
      "391/391 [==============================] - 12s 30ms/step - loss: 0.9074 - accuracy: 0.6841 - val_loss: 0.9410 - val_accuracy: 0.6740\n",
      "Epoch 53/200\n",
      "391/391 [==============================] - 10s 26ms/step - loss: 0.9031 - accuracy: 0.6825 - val_loss: 0.9480 - val_accuracy: 0.6706\n",
      "Epoch 54/200\n",
      "391/391 [==============================] - 10s 26ms/step - loss: 0.8981 - accuracy: 0.6850 - val_loss: 0.9344 - val_accuracy: 0.6730\n",
      "Epoch 55/200\n",
      "386/391 [============================>.] - ETA: 0s - loss: 0.8894 - accuracy: 0.6911"
     ]
    },
    {
     "name": "stderr",
     "output_type": "stream",
     "text": [
      "WARNING:absl:Found untraced functions such as _jit_compiled_convolution_op, _jit_compiled_convolution_op, _jit_compiled_convolution_op, _jit_compiled_convolution_op while saving (showing 4 of 4). These functions will not be directly callable after loading.\n"
     ]
    },
    {
     "name": "stdout",
     "output_type": "stream",
     "text": [
      "INFO:tensorflow:Assets written to: /root/jupyter/IHC/gain_proj/wandb/run-20230421_161448-tzux4skn/files/model-best/assets\n"
     ]
    },
    {
     "name": "stderr",
     "output_type": "stream",
     "text": [
      "INFO:tensorflow:Assets written to: /root/jupyter/IHC/gain_proj/wandb/run-20230421_161448-tzux4skn/files/model-best/assets\n",
      "\u001b[34m\u001b[1mwandb\u001b[0m: Adding directory to artifact (/root/jupyter/IHC/gain_proj/wandb/run-20230421_161448-tzux4skn/files/model-best)... Done. 0.0s\n"
     ]
    },
    {
     "name": "stdout",
     "output_type": "stream",
     "text": [
      "391/391 [==============================] - 12s 30ms/step - loss: 0.8895 - accuracy: 0.6911 - val_loss: 0.9167 - val_accuracy: 0.6825\n",
      "Epoch 56/200\n",
      "391/391 [==============================] - 10s 26ms/step - loss: 0.8851 - accuracy: 0.6882 - val_loss: 0.9212 - val_accuracy: 0.6793\n",
      "Epoch 57/200\n",
      "391/391 [==============================] - 10s 26ms/step - loss: 0.8813 - accuracy: 0.6902 - val_loss: 0.9267 - val_accuracy: 0.6769\n",
      "Epoch 58/200\n",
      "391/391 [==============================] - 10s 26ms/step - loss: 0.8738 - accuracy: 0.6939 - val_loss: 0.9252 - val_accuracy: 0.6794\n",
      "Epoch 59/200\n",
      "391/391 [==============================] - 10s 26ms/step - loss: 0.8669 - accuracy: 0.6961 - val_loss: 0.9111 - val_accuracy: 0.6821\n",
      "Epoch 60/200\n",
      "387/391 [============================>.] - ETA: 0s - loss: 0.8661 - accuracy: 0.6968"
     ]
    },
    {
     "name": "stderr",
     "output_type": "stream",
     "text": [
      "WARNING:absl:Found untraced functions such as _jit_compiled_convolution_op, _jit_compiled_convolution_op, _jit_compiled_convolution_op, _jit_compiled_convolution_op while saving (showing 4 of 4). These functions will not be directly callable after loading.\n"
     ]
    },
    {
     "name": "stdout",
     "output_type": "stream",
     "text": [
      "INFO:tensorflow:Assets written to: /root/jupyter/IHC/gain_proj/wandb/run-20230421_161448-tzux4skn/files/model-best/assets\n"
     ]
    },
    {
     "name": "stderr",
     "output_type": "stream",
     "text": [
      "INFO:tensorflow:Assets written to: /root/jupyter/IHC/gain_proj/wandb/run-20230421_161448-tzux4skn/files/model-best/assets\n",
      "\u001b[34m\u001b[1mwandb\u001b[0m: Adding directory to artifact (/root/jupyter/IHC/gain_proj/wandb/run-20230421_161448-tzux4skn/files/model-best)... Done. 0.0s\n"
     ]
    },
    {
     "name": "stdout",
     "output_type": "stream",
     "text": [
      "391/391 [==============================] - 12s 30ms/step - loss: 0.8659 - accuracy: 0.6969 - val_loss: 0.9126 - val_accuracy: 0.6826\n",
      "Epoch 61/200\n",
      " 81/391 [=====>........................] - ETA: 3s - loss: 0.8456 - accuracy: 0.6988"
     ]
    },
    {
     "name": "stderr",
     "output_type": "stream",
     "text": [
      "WARNING:absl:Found untraced functions such as _jit_compiled_convolution_op, _jit_compiled_convolution_op, _jit_compiled_convolution_op, _jit_compiled_convolution_op while saving (showing 4 of 4). These functions will not be directly callable after loading.\n"
     ]
    },
    {
     "name": "stdout",
     "output_type": "stream",
     "text": [
      "INFO:tensorflow:Assets written to: /root/jupyter/IHC/gain_proj/wandb/run-20230421_161448-tzux4skn/files/model-best/assets\n"
     ]
    },
    {
     "name": "stderr",
     "output_type": "stream",
     "text": [
      "INFO:tensorflow:Assets written to: /root/jupyter/IHC/gain_proj/wandb/run-20230421_161448-tzux4skn/files/model-best/assets\n",
      "\u001b[34m\u001b[1mwandb\u001b[0m: Adding directory to artifact (/root/jupyter/IHC/gain_proj/wandb/run-20230421_161448-tzux4skn/files/model-best)... Done. 0.0s\n"
     ]
    },
    {
     "name": "stdout",
     "output_type": "stream",
     "text": [
      "391/391 [==============================] - 12s 30ms/step - loss: 0.8197 - accuracy: 0.7116 - val_loss: 0.8801 - val_accuracy: 0.6956\n",
      "Epoch 71/200\n",
      "390/391 [============================>.] - ETA: 0s - loss: 0.8196 - accuracy: 0.7140"
     ]
    },
    {
     "name": "stderr",
     "output_type": "stream",
     "text": [
      "WARNING:absl:Found untraced functions such as _jit_compiled_convolution_op, _jit_compiled_convolution_op, _jit_compiled_convolution_op, _jit_compiled_convolution_op while saving (showing 4 of 4). These functions will not be directly callable after loading.\n"
     ]
    },
    {
     "name": "stdout",
     "output_type": "stream",
     "text": [
      "INFO:tensorflow:Assets written to: /root/jupyter/IHC/gain_proj/wandb/run-20230421_161448-tzux4skn/files/model-best/assets\n"
     ]
    },
    {
     "name": "stderr",
     "output_type": "stream",
     "text": [
      "INFO:tensorflow:Assets written to: /root/jupyter/IHC/gain_proj/wandb/run-20230421_161448-tzux4skn/files/model-best/assets\n",
      "\u001b[34m\u001b[1mwandb\u001b[0m: Adding directory to artifact (/root/jupyter/IHC/gain_proj/wandb/run-20230421_161448-tzux4skn/files/model-best)... Done. 0.0s\n"
     ]
    },
    {
     "name": "stdout",
     "output_type": "stream",
     "text": [
      "391/391 [==============================] - 17s 43ms/step - loss: 0.8195 - accuracy: 0.7141 - val_loss: 0.8747 - val_accuracy: 0.6995\n",
      "Epoch 72/200\n",
      "391/391 [==============================] - 10s 26ms/step - loss: 0.8099 - accuracy: 0.7152 - val_loss: 0.8651 - val_accuracy: 0.6981\n",
      "Epoch 73/200\n",
      "386/391 [============================>.] - ETA: 0s - loss: 0.8069 - accuracy: 0.7186"
     ]
    },
    {
     "name": "stderr",
     "output_type": "stream",
     "text": [
      "WARNING:absl:Found untraced functions such as _jit_compiled_convolution_op, _jit_compiled_convolution_op, _jit_compiled_convolution_op, _jit_compiled_convolution_op while saving (showing 4 of 4). These functions will not be directly callable after loading.\n"
     ]
    },
    {
     "name": "stdout",
     "output_type": "stream",
     "text": [
      "INFO:tensorflow:Assets written to: /root/jupyter/IHC/gain_proj/wandb/run-20230421_161448-tzux4skn/files/model-best/assets\n"
     ]
    },
    {
     "name": "stderr",
     "output_type": "stream",
     "text": [
      "INFO:tensorflow:Assets written to: /root/jupyter/IHC/gain_proj/wandb/run-20230421_161448-tzux4skn/files/model-best/assets\n",
      "\u001b[34m\u001b[1mwandb\u001b[0m: Adding directory to artifact (/root/jupyter/IHC/gain_proj/wandb/run-20230421_161448-tzux4skn/files/model-best)... Done. 0.0s\n"
     ]
    },
    {
     "name": "stdout",
     "output_type": "stream",
     "text": [
      "391/391 [==============================] - 12s 31ms/step - loss: 0.8065 - accuracy: 0.7186 - val_loss: 0.8602 - val_accuracy: 0.7062\n",
      "Epoch 74/200\n",
      "391/391 [==============================] - 10s 26ms/step - loss: 0.8017 - accuracy: 0.7195 - val_loss: 0.8725 - val_accuracy: 0.6977\n",
      "Epoch 75/200\n",
      "391/391 [==============================] - 10s 26ms/step - loss: 0.7971 - accuracy: 0.7179 - val_loss: 0.8542 - val_accuracy: 0.7039\n",
      "Epoch 76/200\n",
      "387/391 [============================>.] - ETA: 0s - loss: 0.7961 - accuracy: 0.7194"
     ]
    },
    {
     "name": "stderr",
     "output_type": "stream",
     "text": [
      "WARNING:absl:Found untraced functions such as _jit_compiled_convolution_op, _jit_compiled_convolution_op, _jit_compiled_convolution_op, _jit_compiled_convolution_op while saving (showing 4 of 4). These functions will not be directly callable after loading.\n"
     ]
    },
    {
     "name": "stdout",
     "output_type": "stream",
     "text": [
      "INFO:tensorflow:Assets written to: /root/jupyter/IHC/gain_proj/wandb/run-20230421_161448-tzux4skn/files/model-best/assets\n"
     ]
    },
    {
     "name": "stderr",
     "output_type": "stream",
     "text": [
      "INFO:tensorflow:Assets written to: /root/jupyter/IHC/gain_proj/wandb/run-20230421_161448-tzux4skn/files/model-best/assets\n",
      "\u001b[34m\u001b[1mwandb\u001b[0m: Adding directory to artifact (/root/jupyter/IHC/gain_proj/wandb/run-20230421_161448-tzux4skn/files/model-best)... Done. 0.0s\n"
     ]
    },
    {
     "name": "stdout",
     "output_type": "stream",
     "text": [
      "391/391 [==============================] - 12s 30ms/step - loss: 0.7963 - accuracy: 0.7192 - val_loss: 0.8513 - val_accuracy: 0.7073\n",
      "Epoch 77/200\n",
      "391/391 [==============================] - 10s 26ms/step - loss: 0.7903 - accuracy: 0.7226 - val_loss: 0.8514 - val_accuracy: 0.7053\n",
      "Epoch 78/200\n",
      "391/391 [==============================] - 10s 26ms/step - loss: 0.7869 - accuracy: 0.7271 - val_loss: 0.8509 - val_accuracy: 0.7024\n",
      "Epoch 79/200\n",
      "391/391 [==============================] - 10s 26ms/step - loss: 0.7830 - accuracy: 0.7278 - val_loss: 0.8498 - val_accuracy: 0.7050\n",
      "Epoch 80/200\n",
      "391/391 [==============================] - 10s 26ms/step - loss: 0.7788 - accuracy: 0.7255 - val_loss: 0.8583 - val_accuracy: 0.7015\n",
      "Epoch 81/200\n",
      "389/391 [============================>.] - ETA: 0s - loss: 0.7758 - accuracy: 0.7293"
     ]
    },
    {
     "name": "stderr",
     "output_type": "stream",
     "text": [
      "WARNING:absl:Found untraced functions such as _jit_compiled_convolution_op, _jit_compiled_convolution_op, _jit_compiled_convolution_op, _jit_compiled_convolution_op while saving (showing 4 of 4). These functions will not be directly callable after loading.\n"
     ]
    },
    {
     "name": "stdout",
     "output_type": "stream",
     "text": [
      "INFO:tensorflow:Assets written to: /root/jupyter/IHC/gain_proj/wandb/run-20230421_161448-tzux4skn/files/model-best/assets\n"
     ]
    },
    {
     "name": "stderr",
     "output_type": "stream",
     "text": [
      "INFO:tensorflow:Assets written to: /root/jupyter/IHC/gain_proj/wandb/run-20230421_161448-tzux4skn/files/model-best/assets\n",
      "\u001b[34m\u001b[1mwandb\u001b[0m: Adding directory to artifact (/root/jupyter/IHC/gain_proj/wandb/run-20230421_161448-tzux4skn/files/model-best)... Done. 0.0s\n"
     ]
    },
    {
     "name": "stdout",
     "output_type": "stream",
     "text": [
      "391/391 [==============================] - 12s 30ms/step - loss: 0.7764 - accuracy: 0.7292 - val_loss: 0.8411 - val_accuracy: 0.7088\n",
      "Epoch 82/200\n",
      "386/391 [============================>.] - ETA: 0s - loss: 0.7725 - accuracy: 0.7285"
     ]
    },
    {
     "name": "stderr",
     "output_type": "stream",
     "text": [
      "WARNING:absl:Found untraced functions such as _jit_compiled_convolution_op, _jit_compiled_convolution_op, _jit_compiled_convolution_op, _jit_compiled_convolution_op while saving (showing 4 of 4). These functions will not be directly callable after loading.\n"
     ]
    },
    {
     "name": "stdout",
     "output_type": "stream",
     "text": [
      "INFO:tensorflow:Assets written to: /root/jupyter/IHC/gain_proj/wandb/run-20230421_161448-tzux4skn/files/model-best/assets\n"
     ]
    },
    {
     "name": "stderr",
     "output_type": "stream",
     "text": [
      "INFO:tensorflow:Assets written to: /root/jupyter/IHC/gain_proj/wandb/run-20230421_161448-tzux4skn/files/model-best/assets\n",
      "\u001b[34m\u001b[1mwandb\u001b[0m: Adding directory to artifact (/root/jupyter/IHC/gain_proj/wandb/run-20230421_161448-tzux4skn/files/model-best)... Done. 0.0s\n"
     ]
    },
    {
     "name": "stdout",
     "output_type": "stream",
     "text": [
      "391/391 [==============================] - 12s 31ms/step - loss: 0.7723 - accuracy: 0.7284 - val_loss: 0.8394 - val_accuracy: 0.7096\n",
      "Epoch 83/200\n",
      "391/391 [==============================] - 10s 26ms/step - loss: 0.7681 - accuracy: 0.7318 - val_loss: 0.8414 - val_accuracy: 0.7087\n",
      "Epoch 84/200\n",
      "391/391 [==============================] - ETA: 0s - loss: 0.7664 - accuracy: 0.7333"
     ]
    },
    {
     "name": "stderr",
     "output_type": "stream",
     "text": [
      "WARNING:absl:Found untraced functions such as _jit_compiled_convolution_op, _jit_compiled_convolution_op, _jit_compiled_convolution_op, _jit_compiled_convolution_op while saving (showing 4 of 4). These functions will not be directly callable after loading.\n"
     ]
    },
    {
     "name": "stdout",
     "output_type": "stream",
     "text": [
      "INFO:tensorflow:Assets written to: /root/jupyter/IHC/gain_proj/wandb/run-20230421_161448-tzux4skn/files/model-best/assets\n"
     ]
    },
    {
     "name": "stderr",
     "output_type": "stream",
     "text": [
      "INFO:tensorflow:Assets written to: /root/jupyter/IHC/gain_proj/wandb/run-20230421_161448-tzux4skn/files/model-best/assets\n",
      "\u001b[34m\u001b[1mwandb\u001b[0m: Adding directory to artifact (/root/jupyter/IHC/gain_proj/wandb/run-20230421_161448-tzux4skn/files/model-best)... Done. 0.0s\n"
     ]
    },
    {
     "name": "stdout",
     "output_type": "stream",
     "text": [
      "391/391 [==============================] - 12s 31ms/step - loss: 0.7664 - accuracy: 0.7333 - val_loss: 0.8301 - val_accuracy: 0.7145\n",
      "Epoch 85/200\n",
      "391/391 [==============================] - 10s 26ms/step - loss: 0.7605 - accuracy: 0.7360 - val_loss: 0.8368 - val_accuracy: 0.7105\n",
      "Epoch 86/200\n",
      "391/391 [==============================] - 10s 26ms/step - loss: 0.7593 - accuracy: 0.7318 - val_loss: 0.8377 - val_accuracy: 0.7091\n",
      "Epoch 87/200\n",
      "391/391 [==============================] - 10s 26ms/step - loss: 0.7532 - accuracy: 0.7363 - val_loss: 0.8342 - val_accuracy: 0.7065\n",
      "Epoch 88/200\n",
      "391/391 [==============================] - 10s 26ms/step - loss: 0.7494 - accuracy: 0.7377 - val_loss: 0.8229 - val_accuracy: 0.7133\n",
      "Epoch 89/200\n",
      "391/391 [==============================] - 10s 26ms/step - loss: 0.7471 - accuracy: 0.7383 - val_loss: 0.8248 - val_accuracy: 0.7135\n",
      "Epoch 90/200\n",
      "389/391 [============================>.] - ETA: 0s - loss: 0.7423 - accuracy: 0.7394"
     ]
    },
    {
     "name": "stderr",
     "output_type": "stream",
     "text": [
      "WARNING:absl:Found untraced functions such as _jit_compiled_convolution_op, _jit_compiled_convolution_op, _jit_compiled_convolution_op, _jit_compiled_convolution_op while saving (showing 4 of 4). These functions will not be directly callable after loading.\n"
     ]
    },
    {
     "name": "stdout",
     "output_type": "stream",
     "text": [
      "INFO:tensorflow:Assets written to: /root/jupyter/IHC/gain_proj/wandb/run-20230421_161448-tzux4skn/files/model-best/assets\n"
     ]
    },
    {
     "name": "stderr",
     "output_type": "stream",
     "text": [
      "INFO:tensorflow:Assets written to: /root/jupyter/IHC/gain_proj/wandb/run-20230421_161448-tzux4skn/files/model-best/assets\n",
      "\u001b[34m\u001b[1mwandb\u001b[0m: Adding directory to artifact (/root/jupyter/IHC/gain_proj/wandb/run-20230421_161448-tzux4skn/files/model-best)... Done. 0.0s\n"
     ]
    },
    {
     "name": "stdout",
     "output_type": "stream",
     "text": [
      "391/391 [==============================] - 12s 30ms/step - loss: 0.7421 - accuracy: 0.7396 - val_loss: 0.8231 - val_accuracy: 0.7147\n",
      "Epoch 91/200\n",
      "391/391 [==============================] - 10s 26ms/step - loss: 0.7406 - accuracy: 0.7412 - val_loss: 0.8283 - val_accuracy: 0.7133\n",
      "Epoch 92/200\n",
      "391/391 [==============================] - ETA: 0s - loss: 0.7352 - accuracy: 0.7418"
     ]
    },
    {
     "name": "stderr",
     "output_type": "stream",
     "text": [
      "WARNING:absl:Found untraced functions such as _jit_compiled_convolution_op, _jit_compiled_convolution_op, _jit_compiled_convolution_op, _jit_compiled_convolution_op while saving (showing 4 of 4). These functions will not be directly callable after loading.\n"
     ]
    },
    {
     "name": "stdout",
     "output_type": "stream",
     "text": [
      "INFO:tensorflow:Assets written to: /root/jupyter/IHC/gain_proj/wandb/run-20230421_161448-tzux4skn/files/model-best/assets\n"
     ]
    },
    {
     "name": "stderr",
     "output_type": "stream",
     "text": [
      "INFO:tensorflow:Assets written to: /root/jupyter/IHC/gain_proj/wandb/run-20230421_161448-tzux4skn/files/model-best/assets\n",
      "\u001b[34m\u001b[1mwandb\u001b[0m: Adding directory to artifact (/root/jupyter/IHC/gain_proj/wandb/run-20230421_161448-tzux4skn/files/model-best)... Done. 0.0s\n"
     ]
    },
    {
     "name": "stdout",
     "output_type": "stream",
     "text": [
      "391/391 [==============================] - 12s 30ms/step - loss: 0.7352 - accuracy: 0.7418 - val_loss: 0.8215 - val_accuracy: 0.7170\n",
      "Epoch 93/200\n",
      "391/391 [==============================] - 10s 26ms/step - loss: 0.7338 - accuracy: 0.7418 - val_loss: 0.8139 - val_accuracy: 0.7134\n",
      "Epoch 94/200\n",
      "390/391 [============================>.] - ETA: 0s - loss: 0.7312 - accuracy: 0.7420"
     ]
    },
    {
     "name": "stderr",
     "output_type": "stream",
     "text": [
      "WARNING:absl:Found untraced functions such as _jit_compiled_convolution_op, _jit_compiled_convolution_op, _jit_compiled_convolution_op, _jit_compiled_convolution_op while saving (showing 4 of 4). These functions will not be directly callable after loading.\n"
     ]
    },
    {
     "name": "stdout",
     "output_type": "stream",
     "text": [
      "INFO:tensorflow:Assets written to: /root/jupyter/IHC/gain_proj/wandb/run-20230421_161448-tzux4skn/files/model-best/assets\n"
     ]
    },
    {
     "name": "stderr",
     "output_type": "stream",
     "text": [
      "INFO:tensorflow:Assets written to: /root/jupyter/IHC/gain_proj/wandb/run-20230421_161448-tzux4skn/files/model-best/assets\n",
      "\u001b[34m\u001b[1mwandb\u001b[0m: Adding directory to artifact (/root/jupyter/IHC/gain_proj/wandb/run-20230421_161448-tzux4skn/files/model-best)... Done. 0.0s\n"
     ]
    },
    {
     "name": "stdout",
     "output_type": "stream",
     "text": [
      "391/391 [==============================] - 12s 30ms/step - loss: 0.7318 - accuracy: 0.7419 - val_loss: 0.8043 - val_accuracy: 0.7213\n",
      "Epoch 95/200\n",
      "391/391 [==============================] - 10s 26ms/step - loss: 0.7264 - accuracy: 0.7455 - val_loss: 0.8208 - val_accuracy: 0.7183\n",
      "Epoch 96/200\n",
      "391/391 [==============================] - 10s 26ms/step - loss: 0.7262 - accuracy: 0.7462 - val_loss: 0.8080 - val_accuracy: 0.7190\n",
      "Epoch 97/200\n",
      "391/391 [==============================] - 10s 26ms/step - loss: 0.7209 - accuracy: 0.7456 - val_loss: 0.8070 - val_accuracy: 0.7178\n",
      "Epoch 98/200\n",
      "391/391 [==============================] - 10s 26ms/step - loss: 0.7182 - accuracy: 0.7474 - val_loss: 0.8141 - val_accuracy: 0.7159\n",
      "Epoch 99/200\n",
      "391/391 [==============================] - 10s 26ms/step - loss: 0.7128 - accuracy: 0.7482 - val_loss: 0.8036 - val_accuracy: 0.7213\n",
      "Epoch 100/200\n",
      "390/391 [============================>.] - ETA: 0s - loss: 0.7139 - accuracy: 0.7504"
     ]
    },
    {
     "name": "stderr",
     "output_type": "stream",
     "text": [
      "WARNING:absl:Found untraced functions such as _jit_compiled_convolution_op, _jit_compiled_convolution_op, _jit_compiled_convolution_op, _jit_compiled_convolution_op while saving (showing 4 of 4). These functions will not be directly callable after loading.\n"
     ]
    },
    {
     "name": "stdout",
     "output_type": "stream",
     "text": [
      "INFO:tensorflow:Assets written to: /root/jupyter/IHC/gain_proj/wandb/run-20230421_161448-tzux4skn/files/model-best/assets\n"
     ]
    },
    {
     "name": "stderr",
     "output_type": "stream",
     "text": [
      "INFO:tensorflow:Assets written to: /root/jupyter/IHC/gain_proj/wandb/run-20230421_161448-tzux4skn/files/model-best/assets\n",
      "\u001b[34m\u001b[1mwandb\u001b[0m: Adding directory to artifact (/root/jupyter/IHC/gain_proj/wandb/run-20230421_161448-tzux4skn/files/model-best)... Done. 0.0s\n"
     ]
    },
    {
     "name": "stdout",
     "output_type": "stream",
     "text": [
      "391/391 [==============================] - 12s 30ms/step - loss: 0.7142 - accuracy: 0.7503 - val_loss: 0.8001 - val_accuracy: 0.7233\n",
      "Epoch 101/200\n",
      "391/391 [==============================] - 10s 26ms/step - loss: 0.7109 - accuracy: 0.7495 - val_loss: 0.8082 - val_accuracy: 0.7208\n",
      "Epoch 102/200\n",
      "390/391 [============================>.] - ETA: 0s - loss: 0.7051 - accuracy: 0.7546"
     ]
    },
    {
     "name": "stderr",
     "output_type": "stream",
     "text": [
      "WARNING:absl:Found untraced functions such as _jit_compiled_convolution_op, _jit_compiled_convolution_op, _jit_compiled_convolution_op, _jit_compiled_convolution_op while saving (showing 4 of 4). These functions will not be directly callable after loading.\n"
     ]
    },
    {
     "name": "stdout",
     "output_type": "stream",
     "text": [
      "INFO:tensorflow:Assets written to: /root/jupyter/IHC/gain_proj/wandb/run-20230421_161448-tzux4skn/files/model-best/assets\n"
     ]
    },
    {
     "name": "stderr",
     "output_type": "stream",
     "text": [
      "INFO:tensorflow:Assets written to: /root/jupyter/IHC/gain_proj/wandb/run-20230421_161448-tzux4skn/files/model-best/assets\n",
      "\u001b[34m\u001b[1mwandb\u001b[0m: Adding directory to artifact (/root/jupyter/IHC/gain_proj/wandb/run-20230421_161448-tzux4skn/files/model-best)... Done. 0.0s\n"
     ]
    },
    {
     "name": "stdout",
     "output_type": "stream",
     "text": [
      "391/391 [==============================] - 12s 31ms/step - loss: 0.7050 - accuracy: 0.7547 - val_loss: 0.8003 - val_accuracy: 0.7242\n",
      "Epoch 103/200\n",
      "391/391 [==============================] - 10s 26ms/step - loss: 0.7032 - accuracy: 0.7521 - val_loss: 0.8014 - val_accuracy: 0.7180\n",
      "Epoch 104/200\n",
      "391/391 [==============================] - ETA: 0s - loss: 0.7002 - accuracy: 0.7552"
     ]
    },
    {
     "name": "stderr",
     "output_type": "stream",
     "text": [
      "WARNING:absl:Found untraced functions such as _jit_compiled_convolution_op, _jit_compiled_convolution_op, _jit_compiled_convolution_op, _jit_compiled_convolution_op while saving (showing 4 of 4). These functions will not be directly callable after loading.\n"
     ]
    },
    {
     "name": "stdout",
     "output_type": "stream",
     "text": [
      "INFO:tensorflow:Assets written to: /root/jupyter/IHC/gain_proj/wandb/run-20230421_161448-tzux4skn/files/model-best/assets\n"
     ]
    },
    {
     "name": "stderr",
     "output_type": "stream",
     "text": [
      "INFO:tensorflow:Assets written to: /root/jupyter/IHC/gain_proj/wandb/run-20230421_161448-tzux4skn/files/model-best/assets\n",
      "\u001b[34m\u001b[1mwandb\u001b[0m: Adding directory to artifact (/root/jupyter/IHC/gain_proj/wandb/run-20230421_161448-tzux4skn/files/model-best)... Done. 0.0s\n"
     ]
    },
    {
     "name": "stdout",
     "output_type": "stream",
     "text": [
      "391/391 [==============================] - 12s 31ms/step - loss: 0.7002 - accuracy: 0.7552 - val_loss: 0.7890 - val_accuracy: 0.7287\n",
      "Epoch 105/200\n",
      "391/391 [==============================] - 10s 26ms/step - loss: 0.6975 - accuracy: 0.7567 - val_loss: 0.7930 - val_accuracy: 0.7251\n",
      "Epoch 106/200\n",
      "391/391 [==============================] - 10s 26ms/step - loss: 0.6925 - accuracy: 0.7573 - val_loss: 0.7881 - val_accuracy: 0.7260\n",
      "Epoch 107/200\n",
      "391/391 [==============================] - 10s 26ms/step - loss: 0.6944 - accuracy: 0.7561 - val_loss: 0.7828 - val_accuracy: 0.7268\n",
      "Epoch 108/200\n",
      "391/391 [==============================] - 10s 26ms/step - loss: 0.6902 - accuracy: 0.7566 - val_loss: 0.7845 - val_accuracy: 0.7255\n",
      "Epoch 109/200\n",
      "391/391 [==============================] - 10s 26ms/step - loss: 0.6881 - accuracy: 0.7587 - val_loss: 0.7970 - val_accuracy: 0.7244\n",
      "Epoch 110/200\n",
      "391/391 [==============================] - 10s 26ms/step - loss: 0.6858 - accuracy: 0.7595 - val_loss: 0.7838 - val_accuracy: 0.7275\n",
      "Epoch 111/200\n",
      "391/391 [==============================] - 10s 26ms/step - loss: 0.6826 - accuracy: 0.7597 - val_loss: 0.7902 - val_accuracy: 0.7219\n",
      "Epoch 112/200\n",
      "391/391 [==============================] - 10s 26ms/step - loss: 0.6784 - accuracy: 0.7620 - val_loss: 0.7793 - val_accuracy: 0.7270\n",
      "Epoch 113/200\n",
      "335/391 [========================>.....] - ETA: 0s - loss: 0.6703 - accuracy: 0.7661"
     ]
    },
    {
     "name": "stderr",
     "output_type": "stream",
     "text": [
      "IOPub message rate exceeded.\n",
      "The Jupyter server will temporarily stop sending output\n",
      "to the client in order to avoid crashing it.\n",
      "To change this limit, set the config variable\n",
      "`--ServerApp.iopub_msg_rate_limit`.\n",
      "\n",
      "Current values:\n",
      "ServerApp.iopub_msg_rate_limit=1000.0 (msgs/sec)\n",
      "ServerApp.rate_limit_window=3.0 (secs)\n",
      "\n"
     ]
    },
    {
     "name": "stdout",
     "output_type": "stream",
     "text": [
      "391/391 [==============================] - 10s 26ms/step - loss: 0.5629 - accuracy: 0.8032 - val_loss: 0.7368 - val_accuracy: 0.7458\n",
      "Epoch 166/200\n",
      "391/391 [==============================] - 11s 27ms/step - loss: 0.5580 - accuracy: 0.8052 - val_loss: 0.7356 - val_accuracy: 0.7433\n",
      "Epoch 167/200\n",
      "391/391 [==============================] - 10s 26ms/step - loss: 0.5585 - accuracy: 0.8052 - val_loss: 0.7305 - val_accuracy: 0.7467\n",
      "Epoch 168/200\n",
      "386/391 [============================>.] - ETA: 0s - loss: 0.5594 - accuracy: 0.8040"
     ]
    },
    {
     "name": "stderr",
     "output_type": "stream",
     "text": [
      "WARNING:absl:Found untraced functions such as _jit_compiled_convolution_op, _jit_compiled_convolution_op, _jit_compiled_convolution_op, _jit_compiled_convolution_op while saving (showing 4 of 4). These functions will not be directly callable after loading.\n"
     ]
    },
    {
     "name": "stdout",
     "output_type": "stream",
     "text": [
      "INFO:tensorflow:Assets written to: /root/jupyter/IHC/gain_proj/wandb/run-20230421_161448-tzux4skn/files/model-best/assets\n"
     ]
    },
    {
     "name": "stderr",
     "output_type": "stream",
     "text": [
      "INFO:tensorflow:Assets written to: /root/jupyter/IHC/gain_proj/wandb/run-20230421_161448-tzux4skn/files/model-best/assets\n",
      "\u001b[34m\u001b[1mwandb\u001b[0m: Adding directory to artifact (/root/jupyter/IHC/gain_proj/wandb/run-20230421_161448-tzux4skn/files/model-best)... Done. 0.0s\n"
     ]
    },
    {
     "name": "stdout",
     "output_type": "stream",
     "text": [
      "391/391 [==============================] - 12s 30ms/step - loss: 0.5590 - accuracy: 0.8041 - val_loss: 0.7405 - val_accuracy: 0.7476\n",
      "Epoch 169/200\n",
      "387/391 [============================>.] - ETA: 0s - loss: 0.5596 - accuracy: 0.8041"
     ]
    },
    {
     "name": "stderr",
     "output_type": "stream",
     "text": [
      "WARNING:absl:Found untraced functions such as _jit_compiled_convolution_op, _jit_compiled_convolution_op, _jit_compiled_convolution_op, _jit_compiled_convolution_op while saving (showing 4 of 4). These functions will not be directly callable after loading.\n"
     ]
    },
    {
     "name": "stdout",
     "output_type": "stream",
     "text": [
      "INFO:tensorflow:Assets written to: /root/jupyter/IHC/gain_proj/wandb/run-20230421_161448-tzux4skn/files/model-best/assets\n"
     ]
    },
    {
     "name": "stderr",
     "output_type": "stream",
     "text": [
      "INFO:tensorflow:Assets written to: /root/jupyter/IHC/gain_proj/wandb/run-20230421_161448-tzux4skn/files/model-best/assets\n",
      "\u001b[34m\u001b[1mwandb\u001b[0m: Adding directory to artifact (/root/jupyter/IHC/gain_proj/wandb/run-20230421_161448-tzux4skn/files/model-best)... Done. 0.0s\n"
     ]
    },
    {
     "name": "stdout",
     "output_type": "stream",
     "text": [
      "391/391 [==============================] - 12s 30ms/step - loss: 0.5601 - accuracy: 0.8039 - val_loss: 0.7297 - val_accuracy: 0.7485\n",
      "Epoch 170/200\n",
      "391/391 [==============================] - 10s 26ms/step - loss: 0.5571 - accuracy: 0.8049 - val_loss: 0.7391 - val_accuracy: 0.7428\n",
      "Epoch 171/200\n",
      "391/391 [==============================] - 10s 26ms/step - loss: 0.5540 - accuracy: 0.8067 - val_loss: 0.7422 - val_accuracy: 0.7444\n",
      "Epoch 172/200\n",
      "391/391 [==============================] - 11s 27ms/step - loss: 0.5549 - accuracy: 0.8039 - val_loss: 0.7356 - val_accuracy: 0.7472\n",
      "Epoch 173/200\n",
      "391/391 [==============================] - 10s 26ms/step - loss: 0.5514 - accuracy: 0.8079 - val_loss: 0.7376 - val_accuracy: 0.7414\n",
      "Epoch 174/200\n",
      "389/391 [============================>.] - ETA: 0s - loss: 0.5519 - accuracy: 0.8078"
     ]
    },
    {
     "name": "stderr",
     "output_type": "stream",
     "text": [
      "WARNING:absl:Found untraced functions such as _jit_compiled_convolution_op, _jit_compiled_convolution_op, _jit_compiled_convolution_op, _jit_compiled_convolution_op while saving (showing 4 of 4). These functions will not be directly callable after loading.\n"
     ]
    },
    {
     "name": "stdout",
     "output_type": "stream",
     "text": [
      "INFO:tensorflow:Assets written to: /root/jupyter/IHC/gain_proj/wandb/run-20230421_161448-tzux4skn/files/model-best/assets\n"
     ]
    },
    {
     "name": "stderr",
     "output_type": "stream",
     "text": [
      "INFO:tensorflow:Assets written to: /root/jupyter/IHC/gain_proj/wandb/run-20230421_161448-tzux4skn/files/model-best/assets\n",
      "\u001b[34m\u001b[1mwandb\u001b[0m: Adding directory to artifact (/root/jupyter/IHC/gain_proj/wandb/run-20230421_161448-tzux4skn/files/model-best)... Done. 0.0s\n"
     ]
    },
    {
     "name": "stdout",
     "output_type": "stream",
     "text": [
      "391/391 [==============================] - 12s 31ms/step - loss: 0.5524 - accuracy: 0.8075 - val_loss: 0.7291 - val_accuracy: 0.7489\n",
      "Epoch 175/200\n",
      "391/391 [==============================] - 10s 26ms/step - loss: 0.5480 - accuracy: 0.8082 - val_loss: 0.7360 - val_accuracy: 0.7483\n",
      "Epoch 176/200\n",
      "388/391 [============================>.] - ETA: 0s - loss: 0.5467 - accuracy: 0.8083"
     ]
    },
    {
     "name": "stderr",
     "output_type": "stream",
     "text": [
      "WARNING:absl:Found untraced functions such as _jit_compiled_convolution_op, _jit_compiled_convolution_op, _jit_compiled_convolution_op, _jit_compiled_convolution_op while saving (showing 4 of 4). These functions will not be directly callable after loading.\n"
     ]
    },
    {
     "name": "stdout",
     "output_type": "stream",
     "text": [
      "INFO:tensorflow:Assets written to: /root/jupyter/IHC/gain_proj/wandb/run-20230421_161448-tzux4skn/files/model-best/assets\n"
     ]
    },
    {
     "name": "stderr",
     "output_type": "stream",
     "text": [
      "INFO:tensorflow:Assets written to: /root/jupyter/IHC/gain_proj/wandb/run-20230421_161448-tzux4skn/files/model-best/assets\n",
      "\u001b[34m\u001b[1mwandb\u001b[0m: Adding directory to artifact (/root/jupyter/IHC/gain_proj/wandb/run-20230421_161448-tzux4skn/files/model-best)... Done. 0.0s\n"
     ]
    },
    {
     "name": "stdout",
     "output_type": "stream",
     "text": [
      "391/391 [==============================] - 12s 30ms/step - loss: 0.5465 - accuracy: 0.8084 - val_loss: 0.7273 - val_accuracy: 0.7493\n",
      "Epoch 177/200\n",
      "391/391 [==============================] - 10s 26ms/step - loss: 0.5490 - accuracy: 0.8077 - val_loss: 0.7260 - val_accuracy: 0.7471\n",
      "Epoch 178/200\n",
      "391/391 [==============================] - 11s 27ms/step - loss: 0.5429 - accuracy: 0.8100 - val_loss: 0.7303 - val_accuracy: 0.7433\n",
      "Epoch 179/200\n",
      "391/391 [==============================] - 10s 26ms/step - loss: 0.5450 - accuracy: 0.8078 - val_loss: 0.7326 - val_accuracy: 0.7452\n",
      "Epoch 180/200\n",
      "390/391 [============================>.] - ETA: 0s - loss: 0.5419 - accuracy: 0.8119"
     ]
    },
    {
     "name": "stderr",
     "output_type": "stream",
     "text": [
      "WARNING:absl:Found untraced functions such as _jit_compiled_convolution_op, _jit_compiled_convolution_op, _jit_compiled_convolution_op, _jit_compiled_convolution_op while saving (showing 4 of 4). These functions will not be directly callable after loading.\n"
     ]
    },
    {
     "name": "stdout",
     "output_type": "stream",
     "text": [
      "INFO:tensorflow:Assets written to: /root/jupyter/IHC/gain_proj/wandb/run-20230421_161448-tzux4skn/files/model-best/assets\n"
     ]
    },
    {
     "name": "stderr",
     "output_type": "stream",
     "text": [
      "INFO:tensorflow:Assets written to: /root/jupyter/IHC/gain_proj/wandb/run-20230421_161448-tzux4skn/files/model-best/assets\n",
      "\u001b[34m\u001b[1mwandb\u001b[0m: Adding directory to artifact (/root/jupyter/IHC/gain_proj/wandb/run-20230421_161448-tzux4skn/files/model-best)... Done. 0.0s\n"
     ]
    },
    {
     "name": "stdout",
     "output_type": "stream",
     "text": [
      "391/391 [==============================] - 12s 30ms/step - loss: 0.5426 - accuracy: 0.8116 - val_loss: 0.7209 - val_accuracy: 0.7513\n",
      "Epoch 181/200\n",
      "391/391 [==============================] - 10s 26ms/step - loss: 0.5367 - accuracy: 0.8103 - val_loss: 0.7350 - val_accuracy: 0.7474\n",
      "Epoch 182/200\n",
      "391/391 [==============================] - 10s 26ms/step - loss: 0.5361 - accuracy: 0.8126 - val_loss: 0.7251 - val_accuracy: 0.7488\n",
      "Epoch 183/200\n",
      "391/391 [==============================] - 10s 26ms/step - loss: 0.5349 - accuracy: 0.8121 - val_loss: 0.7310 - val_accuracy: 0.7461\n",
      "Epoch 184/200\n",
      "391/391 [==============================] - 11s 27ms/step - loss: 0.5328 - accuracy: 0.8140 - val_loss: 0.7285 - val_accuracy: 0.7490\n",
      "Epoch 185/200\n",
      "391/391 [==============================] - 10s 26ms/step - loss: 0.5315 - accuracy: 0.8121 - val_loss: 0.7295 - val_accuracy: 0.7507\n",
      "Epoch 186/200\n",
      "391/391 [==============================] - 10s 26ms/step - loss: 0.5319 - accuracy: 0.8142 - val_loss: 0.7286 - val_accuracy: 0.7500\n",
      "Epoch 187/200\n",
      "391/391 [==============================] - 10s 26ms/step - loss: 0.5314 - accuracy: 0.8134 - val_loss: 0.7221 - val_accuracy: 0.7481\n",
      "Epoch 188/200\n",
      "391/391 [==============================] - 10s 26ms/step - loss: 0.5266 - accuracy: 0.8172 - val_loss: 0.7306 - val_accuracy: 0.7468\n",
      "Epoch 189/200\n",
      "391/391 [==============================] - 10s 26ms/step - loss: 0.5270 - accuracy: 0.8154 - val_loss: 0.7275 - val_accuracy: 0.7475\n",
      "Epoch 190/200\n",
      "391/391 [==============================] - 11s 27ms/step - loss: 0.5250 - accuracy: 0.8155 - val_loss: 0.7255 - val_accuracy: 0.7508\n",
      "Epoch 191/200\n",
      "391/391 [==============================] - ETA: 0s - loss: 0.5285 - accuracy: 0.8142"
     ]
    },
    {
     "name": "stderr",
     "output_type": "stream",
     "text": [
      "WARNING:absl:Found untraced functions such as _jit_compiled_convolution_op, _jit_compiled_convolution_op, _jit_compiled_convolution_op, _jit_compiled_convolution_op while saving (showing 4 of 4). These functions will not be directly callable after loading.\n"
     ]
    },
    {
     "name": "stdout",
     "output_type": "stream",
     "text": [
      "INFO:tensorflow:Assets written to: /root/jupyter/IHC/gain_proj/wandb/run-20230421_161448-tzux4skn/files/model-best/assets\n"
     ]
    },
    {
     "name": "stderr",
     "output_type": "stream",
     "text": [
      "INFO:tensorflow:Assets written to: /root/jupyter/IHC/gain_proj/wandb/run-20230421_161448-tzux4skn/files/model-best/assets\n",
      "\u001b[34m\u001b[1mwandb\u001b[0m: Adding directory to artifact (/root/jupyter/IHC/gain_proj/wandb/run-20230421_161448-tzux4skn/files/model-best)... Done. 0.0s\n"
     ]
    },
    {
     "name": "stdout",
     "output_type": "stream",
     "text": [
      "391/391 [==============================] - 12s 30ms/step - loss: 0.5285 - accuracy: 0.8142 - val_loss: 0.7234 - val_accuracy: 0.7525\n",
      "Epoch 192/200\n",
      "391/391 [==============================] - 10s 26ms/step - loss: 0.5221 - accuracy: 0.8184 - val_loss: 0.7305 - val_accuracy: 0.7522\n",
      "Epoch 193/200\n",
      "391/391 [==============================] - 10s 26ms/step - loss: 0.5224 - accuracy: 0.8160 - val_loss: 0.7304 - val_accuracy: 0.7497\n",
      "Epoch 194/200\n",
      "391/391 [==============================] - 10s 26ms/step - loss: 0.5171 - accuracy: 0.8175 - val_loss: 0.7337 - val_accuracy: 0.7480\n",
      "Epoch 195/200\n",
      "391/391 [==============================] - 10s 26ms/step - loss: 0.5173 - accuracy: 0.8178 - val_loss: 0.7287 - val_accuracy: 0.7523\n",
      "Epoch 196/200\n",
      "391/391 [==============================] - 11s 27ms/step - loss: 0.5161 - accuracy: 0.8176 - val_loss: 0.7293 - val_accuracy: 0.7519\n",
      "Epoch 197/200\n",
      "391/391 [==============================] - 10s 26ms/step - loss: 0.5127 - accuracy: 0.8205 - val_loss: 0.7291 - val_accuracy: 0.7501\n",
      "Epoch 198/200\n",
      "391/391 [==============================] - 10s 26ms/step - loss: 0.5169 - accuracy: 0.8189 - val_loss: 0.7276 - val_accuracy: 0.7465\n",
      "Epoch 199/200\n",
      "391/391 [==============================] - ETA: 0s - loss: 0.5145 - accuracy: 0.8182"
     ]
    },
    {
     "name": "stderr",
     "output_type": "stream",
     "text": [
      "WARNING:absl:Found untraced functions such as _jit_compiled_convolution_op, _jit_compiled_convolution_op, _jit_compiled_convolution_op, _jit_compiled_convolution_op while saving (showing 4 of 4). These functions will not be directly callable after loading.\n"
     ]
    },
    {
     "name": "stdout",
     "output_type": "stream",
     "text": [
      "INFO:tensorflow:Assets written to: /root/jupyter/IHC/gain_proj/wandb/run-20230421_161448-tzux4skn/files/model-best/assets\n"
     ]
    },
    {
     "name": "stderr",
     "output_type": "stream",
     "text": [
      "INFO:tensorflow:Assets written to: /root/jupyter/IHC/gain_proj/wandb/run-20230421_161448-tzux4skn/files/model-best/assets\n",
      "\u001b[34m\u001b[1mwandb\u001b[0m: Adding directory to artifact (/root/jupyter/IHC/gain_proj/wandb/run-20230421_161448-tzux4skn/files/model-best)... Done. 0.0s\n"
     ]
    },
    {
     "name": "stdout",
     "output_type": "stream",
     "text": [
      "391/391 [==============================] - 12s 31ms/step - loss: 0.5145 - accuracy: 0.8182 - val_loss: 0.7229 - val_accuracy: 0.7539\n",
      "Epoch 200/200\n",
      "390/391 [============================>.] - ETA: 0s - loss: 0.5127 - accuracy: 0.8184"
     ]
    },
    {
     "name": "stderr",
     "output_type": "stream",
     "text": [
      "WARNING:absl:Found untraced functions such as _jit_compiled_convolution_op, _jit_compiled_convolution_op, _jit_compiled_convolution_op, _jit_compiled_convolution_op while saving (showing 4 of 4). These functions will not be directly callable after loading.\n"
     ]
    },
    {
     "name": "stdout",
     "output_type": "stream",
     "text": [
      "INFO:tensorflow:Assets written to: /root/jupyter/IHC/gain_proj/wandb/run-20230421_161448-tzux4skn/files/model-best/assets\n"
     ]
    },
    {
     "name": "stderr",
     "output_type": "stream",
     "text": [
      "INFO:tensorflow:Assets written to: /root/jupyter/IHC/gain_proj/wandb/run-20230421_161448-tzux4skn/files/model-best/assets\n",
      "\u001b[34m\u001b[1mwandb\u001b[0m: Adding directory to artifact (/root/jupyter/IHC/gain_proj/wandb/run-20230421_161448-tzux4skn/files/model-best)... Done. 0.0s\n"
     ]
    },
    {
     "name": "stdout",
     "output_type": "stream",
     "text": [
      "391/391 [==============================] - 12s 30ms/step - loss: 0.5125 - accuracy: 0.8184 - val_loss: 0.7212 - val_accuracy: 0.7547\n"
     ]
    },
    {
     "data": {
      "text/plain": [
       "<keras.callbacks.History at 0x7fc4b41b6c40>"
      ]
     },
     "execution_count": 11,
     "metadata": {},
     "output_type": "execute_result"
    }
   ],
   "source": [
    "model.fit(datagen.flow(x_train, y_train, batch_size=128),\n",
    "          validation_data=(x_test, y_test),\n",
    "          epochs=200, workers=4,\n",
    "          callbacks=callbacks)"
   ]
  },
  {
   "cell_type": "code",
   "execution_count": null,
   "id": "dd1b680e-40d0-4d11-9d99-3e44c26ad381",
   "metadata": {},
   "outputs": [],
   "source": []
  },
  {
   "cell_type": "code",
   "execution_count": null,
   "id": "8c7a27fb-7c93-4b43-9bf2-7fc2bc6a5071",
   "metadata": {},
   "outputs": [],
   "source": []
  },
  {
   "cell_type": "code",
   "execution_count": null,
   "id": "c38a00d3-8096-409b-90a5-ce799e67d313",
   "metadata": {},
   "outputs": [],
   "source": []
  }
 ],
 "metadata": {
  "kernelspec": {
   "display_name": "Python 3 (ipykernel)",
   "language": "python",
   "name": "python3"
  },
  "language_info": {
   "codemirror_mode": {
    "name": "ipython",
    "version": 3
   },
   "file_extension": ".py",
   "mimetype": "text/x-python",
   "name": "python",
   "nbconvert_exporter": "python",
   "pygments_lexer": "ipython3",
   "version": "3.8.10"
  }
 },
 "nbformat": 4,
 "nbformat_minor": 5
}
