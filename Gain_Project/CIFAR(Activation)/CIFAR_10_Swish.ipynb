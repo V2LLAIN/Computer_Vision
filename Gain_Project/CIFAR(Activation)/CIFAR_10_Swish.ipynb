{
 "cells": [
  {
   "cell_type": "code",
   "execution_count": 1,
   "id": "435f2fe4-a4ef-4b66-a91f-6b6c598baa92",
   "metadata": {},
   "outputs": [
    {
     "name": "stderr",
     "output_type": "stream",
     "text": [
      "/usr/lib/python3/dist-packages/requests/__init__.py:89: RequestsDependencyWarning: urllib3 (1.26.14) or chardet (3.0.4) doesn't match a supported version!\n",
      "  warnings.warn(\"urllib3 ({}) or chardet ({}) doesn't match a supported \"\n",
      "2023-04-21 23:35:47.832764: I tensorflow/core/platform/cpu_feature_guard.cc:193] This TensorFlow binary is optimized with oneAPI Deep Neural Network Library (oneDNN) to use the following CPU instructions in performance-critical operations:  AVX2 AVX512F AVX512_VNNI FMA\n",
      "To enable them in other operations, rebuild TensorFlow with the appropriate compiler flags.\n",
      "2023-04-21 23:35:47.936672: I tensorflow/core/util/util.cc:169] oneDNN custom operations are on. You may see slightly different numerical results due to floating-point round-off errors from different computation orders. To turn them off, set the environment variable `TF_ENABLE_ONEDNN_OPTS=0`.\n",
      "2023-04-21 23:35:47.961899: E tensorflow/stream_executor/cuda/cuda_blas.cc:2981] Unable to register cuBLAS factory: Attempting to register factory for plugin cuBLAS when one has already been registered\n"
     ]
    }
   ],
   "source": [
    "import os\n",
    "import math\n",
    "import wandb\n",
    "import random\n",
    "import numpy as np\n",
    "import pandas as pd\n",
    "import tensorflow as tf\n",
    "from tensorflow import keras\n",
    "import matplotlib.pyplot as plt\n",
    "\n",
    "\n",
    "from tensorflow.keras.preprocessing.image import load_img\n",
    "\n",
    "from tensorflow.keras.models import *\n",
    "from tensorflow.keras.layers import *\n",
    "from tensorflow.keras.losses import *\n",
    "from tensorflow.keras.metrics import *\n",
    "from tensorflow.keras.optimizers import *\n",
    "from tensorflow.keras.activations import *\n",
    "\n",
    "from tensorflow.keras.regularizers import *\n",
    "\n",
    "from tensorflow.keras.callbacks import *\n",
    "from keras.preprocessing.image import *\n",
    "from tensorflow.keras.preprocessing import *"
   ]
  },
  {
   "cell_type": "code",
   "execution_count": 2,
   "id": "6970ba03-d344-4b3a-aca9-5b6fd275830f",
   "metadata": {},
   "outputs": [],
   "source": [
    "# Load the CIFAR-10 dataset\n",
    "(x_train, y_train), (x_test, y_test) = keras.datasets.cifar10.load_data()\n",
    "\n",
    "# Normalize pixel values between 0 and 1\n",
    "x_train = x_train / 255.0\n",
    "x_test = x_test / 255.0\n",
    "\n",
    "# Convert labels to one-hot encoded vectors\n",
    "y_train = tf.keras.utils.to_categorical(y_train, num_classes=10)\n",
    "y_test = tf.keras.utils.to_categorical(y_test, num_classes=10)"
   ]
  },
  {
   "cell_type": "code",
   "execution_count": 3,
   "id": "c2dac364-264e-4823-8695-e36d850d7ebe",
   "metadata": {
    "tags": []
   },
   "outputs": [
    {
     "name": "stdout",
     "output_type": "stream",
     "text": [
      "Model: \"model\"\n",
      "_________________________________________________________________\n",
      " Layer (type)                Output Shape              Param #   \n",
      "=================================================================\n",
      " input_1 (InputLayer)        [(None, 32, 32, 3)]       0         \n",
      "                                                                 \n",
      " conv2d (Conv2D)             (None, 30, 30, 32)        896       \n",
      "                                                                 \n",
      " conv2d_1 (Conv2D)           (None, 28, 28, 32)        9248      \n",
      "                                                                 \n",
      " max_pooling2d (MaxPooling2D  (None, 14, 14, 32)       0         \n",
      " )                                                               \n",
      "                                                                 \n",
      " dropout (Dropout)           (None, 14, 14, 32)        0         \n",
      "                                                                 \n",
      " conv2d_2 (Conv2D)           (None, 12, 12, 64)        18496     \n",
      "                                                                 \n",
      " conv2d_3 (Conv2D)           (None, 10, 10, 64)        36928     \n",
      "                                                                 \n",
      " max_pooling2d_1 (MaxPooling  (None, 5, 5, 64)         0         \n",
      " 2D)                                                             \n",
      "                                                                 \n",
      " dropout_1 (Dropout)         (None, 5, 5, 64)          0         \n",
      "                                                                 \n",
      " average_pooling2d (AverageP  (None, 2, 2, 64)         0         \n",
      " ooling2D)                                                       \n",
      "                                                                 \n",
      " flatten (Flatten)           (None, 256)               0         \n",
      "                                                                 \n",
      " dense (Dense)               (None, 512)               131584    \n",
      "                                                                 \n",
      " dense_1 (Dense)             (None, 10)                5130      \n",
      "                                                                 \n",
      "=================================================================\n",
      "Total params: 202,282\n",
      "Trainable params: 202,282\n",
      "Non-trainable params: 0\n",
      "_________________________________________________________________\n"
     ]
    },
    {
     "name": "stderr",
     "output_type": "stream",
     "text": [
      "2023-04-21 23:35:50.314653: I tensorflow/core/platform/cpu_feature_guard.cc:193] This TensorFlow binary is optimized with oneAPI Deep Neural Network Library (oneDNN) to use the following CPU instructions in performance-critical operations:  AVX2 AVX512F AVX512_VNNI FMA\n",
      "To enable them in other operations, rebuild TensorFlow with the appropriate compiler flags.\n",
      "2023-04-21 23:35:51.051285: I tensorflow/core/common_runtime/gpu/gpu_device.cc:1616] Created device /job:localhost/replica:0/task:0/device:GPU:0 with 22277 MB memory:  -> device: 0, name: NVIDIA GeForce RTX 3090, pci bus id: 0000:68:00.0, compute capability: 8.6\n"
     ]
    }
   ],
   "source": [
    "inputs = Input(shape=(32,32, 3))\n",
    "\n",
    "# Layer 1\n",
    "x = Conv2D(32, (3,3), activation='swish', kernel_regularizer=l2(1e-6))(inputs)\n",
    "\n",
    "# Layer 2\n",
    "x = Conv2D(32, (3,3), activation='swish', kernel_regularizer=l2(1e-6))(x)\n",
    "x = MaxPooling2D((2, 2))(x)\n",
    "x = Dropout(0.1)(x)\n",
    "\n",
    "# Layer 3\n",
    "x = Conv2D(64, (3,3), activation='swish', kernel_regularizer=l2(1e-6))(x)\n",
    "\n",
    "# Layer 4\n",
    "x = Conv2D(64, (3,3), activation='swish', kernel_regularizer=l2(1e-6))(x)\n",
    "x = MaxPooling2D((2, 2))(x)\n",
    "x = Dropout(0.1)(x)\n",
    "\n",
    "# Layer 5\n",
    "x = AveragePooling2D()(x)\n",
    "x = Flatten()(x)\n",
    "x = Dense(512, activation='swish', kernel_regularizer=l2(1e-6))(x)\n",
    "\n",
    "# Layer 6\n",
    "outputs = Dense(10, activation='softmax')(x)\n",
    "model = Model(inputs=inputs, outputs=outputs)\n",
    "\n",
    "model.summary()"
   ]
  },
  {
   "cell_type": "code",
   "execution_count": 4,
   "id": "c9897576-4328-4349-90b8-2ac97f68f424",
   "metadata": {
    "tags": []
   },
   "outputs": [],
   "source": [
    "# 모델 컴파일\n",
    "opt = RMSprop(learning_rate=1e-4)\n",
    "\n",
    "model.compile(optimizer=opt,\n",
    "              loss='categorical_crossentropy',\n",
    "              metrics=['accuracy'])"
   ]
  },
  {
   "cell_type": "code",
   "execution_count": 5,
   "id": "201c1445-f43c-4042-be2b-ced35cf26a28",
   "metadata": {},
   "outputs": [],
   "source": [
    "from keras.preprocessing.image import ImageDataGenerator\n",
    "\n",
    "datagen = ImageDataGenerator(horizontal_flip=True, vertical_flip=True)\n",
    "datagen.fit(x_train)"
   ]
  },
  {
   "cell_type": "code",
   "execution_count": 6,
   "id": "42566652-334a-4435-a44c-e74a79105484",
   "metadata": {},
   "outputs": [
    {
     "name": "stderr",
     "output_type": "stream",
     "text": [
      "Failed to detect the name of this notebook, you can set it manually with the WANDB_NOTEBOOK_NAME environment variable to enable code saving.\n",
      "\u001b[34m\u001b[1mwandb\u001b[0m: Currently logged in as: \u001b[33mchan4im\u001b[0m (\u001b[33mhcim\u001b[0m). Use \u001b[1m`wandb login --relogin`\u001b[0m to force relogin\n"
     ]
    },
    {
     "data": {
      "text/html": [
       "wandb version 0.15.0 is available!  To upgrade, please run:\n",
       " $ pip install wandb --upgrade"
      ],
      "text/plain": [
       "<IPython.core.display.HTML object>"
      ]
     },
     "metadata": {},
     "output_type": "display_data"
    },
    {
     "data": {
      "text/html": [
       "Tracking run with wandb version 0.13.10"
      ],
      "text/plain": [
       "<IPython.core.display.HTML object>"
      ]
     },
     "metadata": {},
     "output_type": "display_data"
    },
    {
     "data": {
      "text/html": [
       "Run data is saved locally in <code>/root/jupyter/IHC/gain_proj/wandb/run-20230421_233553-vb6akp5o</code>"
      ],
      "text/plain": [
       "<IPython.core.display.HTML object>"
      ]
     },
     "metadata": {},
     "output_type": "display_data"
    },
    {
     "data": {
      "text/html": [
       "Syncing run <strong><a href='https://wandb.ai/hcim/CIFAR10/runs/vb6akp5o' target=\"_blank\">LeNet-swish</a></strong> to <a href='https://wandb.ai/hcim/CIFAR10' target=\"_blank\">Weights & Biases</a> (<a href='https://wandb.me/run' target=\"_blank\">docs</a>)<br/>"
      ],
      "text/plain": [
       "<IPython.core.display.HTML object>"
      ]
     },
     "metadata": {},
     "output_type": "display_data"
    },
    {
     "data": {
      "text/html": [
       " View project at <a href='https://wandb.ai/hcim/CIFAR10' target=\"_blank\">https://wandb.ai/hcim/CIFAR10</a>"
      ],
      "text/plain": [
       "<IPython.core.display.HTML object>"
      ]
     },
     "metadata": {},
     "output_type": "display_data"
    },
    {
     "data": {
      "text/html": [
       " View run at <a href='https://wandb.ai/hcim/CIFAR10/runs/vb6akp5o' target=\"_blank\">https://wandb.ai/hcim/CIFAR10/runs/vb6akp5o</a>"
      ],
      "text/plain": [
       "<IPython.core.display.HTML object>"
      ]
     },
     "metadata": {},
     "output_type": "display_data"
    },
    {
     "name": "stderr",
     "output_type": "stream",
     "text": [
      "\u001b[34m\u001b[1mwandb\u001b[0m: \u001b[33mWARNING\u001b[0m The save_model argument by default saves the model in the HDF5 format that cannot save custom objects like subclassed models and custom layers. This behavior will be deprecated in a future release in favor of the SavedModel format. Meanwhile, the HDF5 model is saved as W&B files and the SavedModel as W&B Artifacts.\n"
     ]
    }
   ],
   "source": [
    "from tensorflow.keras import callbacks\n",
    "\n",
    "wandb.init(project=\"CIFAR10\", entity=\"hcim\", name='LeNet-swish')\n",
    "\n",
    "wandbCallback=wandb.keras.WandbCallback(monitor=\"val_accuracy\", mode=\"max\", \n",
    "                                        log_weights=True, log_gradients=True, \n",
    "                                        training_data=datagen.flow(x_train, y_train, batch_size=128))\n",
    "        \n",
    "    \n",
    "callbacks = [wandbCallback]"
   ]
  },
  {
   "cell_type": "code",
   "execution_count": 7,
   "id": "9e995314-6225-4052-95d8-03e5235ea600",
   "metadata": {},
   "outputs": [
    {
     "name": "stdout",
     "output_type": "stream",
     "text": [
      "Epoch 1/200\n"
     ]
    },
    {
     "name": "stderr",
     "output_type": "stream",
     "text": [
      "2023-04-21 23:35:56.436450: I tensorflow/stream_executor/cuda/cuda_dnn.cc:384] Loaded cuDNN version 8100\n",
      "2023-04-21 23:35:57.707958: I tensorflow/stream_executor/cuda/cuda_blas.cc:1614] TensorFloat-32 will be used for the matrix multiplication. This will only be logged once.\n"
     ]
    },
    {
     "name": "stdout",
     "output_type": "stream",
     "text": [
      "388/391 [============================>.] - ETA: 0s - loss: 2.1628 - accuracy: 0.1855"
     ]
    },
    {
     "name": "stderr",
     "output_type": "stream",
     "text": [
      "WARNING:absl:Found untraced functions such as _jit_compiled_convolution_op, _jit_compiled_convolution_op, _jit_compiled_convolution_op, _jit_compiled_convolution_op while saving (showing 4 of 4). These functions will not be directly callable after loading.\n"
     ]
    },
    {
     "name": "stdout",
     "output_type": "stream",
     "text": [
      "INFO:tensorflow:Assets written to: /root/jupyter/IHC/gain_proj/wandb/run-20230421_233553-vb6akp5o/files/model-best/assets\n"
     ]
    },
    {
     "name": "stderr",
     "output_type": "stream",
     "text": [
      "INFO:tensorflow:Assets written to: /root/jupyter/IHC/gain_proj/wandb/run-20230421_233553-vb6akp5o/files/model-best/assets\n",
      "\u001b[34m\u001b[1mwandb\u001b[0m: Adding directory to artifact (/root/jupyter/IHC/gain_proj/wandb/run-20230421_233553-vb6akp5o/files/model-best)... Done. 0.0s\n"
     ]
    },
    {
     "name": "stdout",
     "output_type": "stream",
     "text": [
      "391/391 [==============================] - 26s 58ms/step - loss: 2.1625 - accuracy: 0.1858 - val_loss: 2.0918 - val_accuracy: 0.2270\n",
      "Epoch 2/200\n",
      "390/391 [============================>.] - ETA: 0s - loss: 2.0629 - accuracy: 0.2361"
     ]
    },
    {
     "name": "stderr",
     "output_type": "stream",
     "text": [
      "WARNING:absl:Found untraced functions such as _jit_compiled_convolution_op, _jit_compiled_convolution_op, _jit_compiled_convolution_op, _jit_compiled_convolution_op while saving (showing 4 of 4). These functions will not be directly callable after loading.\n"
     ]
    },
    {
     "name": "stdout",
     "output_type": "stream",
     "text": [
      "INFO:tensorflow:Assets written to: /root/jupyter/IHC/gain_proj/wandb/run-20230421_233553-vb6akp5o/files/model-best/assets\n"
     ]
    },
    {
     "name": "stderr",
     "output_type": "stream",
     "text": [
      "INFO:tensorflow:Assets written to: /root/jupyter/IHC/gain_proj/wandb/run-20230421_233553-vb6akp5o/files/model-best/assets\n",
      "\u001b[34m\u001b[1mwandb\u001b[0m: Adding directory to artifact (/root/jupyter/IHC/gain_proj/wandb/run-20230421_233553-vb6akp5o/files/model-best)... Done. 0.0s\n"
     ]
    },
    {
     "name": "stdout",
     "output_type": "stream",
     "text": [
      "391/391 [==============================] - 22s 56ms/step - loss: 2.0628 - accuracy: 0.2361 - val_loss: 1.9940 - val_accuracy: 0.2601\n",
      "Epoch 3/200\n",
      "390/391 [============================>.] - ETA: 0s - loss: 1.9520 - accuracy: 0.2861"
     ]
    },
    {
     "name": "stderr",
     "output_type": "stream",
     "text": [
      "WARNING:absl:Found untraced functions such as _jit_compiled_convolution_op, _jit_compiled_convolution_op, _jit_compiled_convolution_op, _jit_compiled_convolution_op while saving (showing 4 of 4). These functions will not be directly callable after loading.\n"
     ]
    },
    {
     "name": "stdout",
     "output_type": "stream",
     "text": [
      "INFO:tensorflow:Assets written to: /root/jupyter/IHC/gain_proj/wandb/run-20230421_233553-vb6akp5o/files/model-best/assets\n"
     ]
    },
    {
     "name": "stderr",
     "output_type": "stream",
     "text": [
      "INFO:tensorflow:Assets written to: /root/jupyter/IHC/gain_proj/wandb/run-20230421_233553-vb6akp5o/files/model-best/assets\n",
      "\u001b[34m\u001b[1mwandb\u001b[0m: Adding directory to artifact (/root/jupyter/IHC/gain_proj/wandb/run-20230421_233553-vb6akp5o/files/model-best)... Done. 0.0s\n"
     ]
    },
    {
     "name": "stdout",
     "output_type": "stream",
     "text": [
      "391/391 [==============================] - 22s 57ms/step - loss: 1.9519 - accuracy: 0.2862 - val_loss: 1.8921 - val_accuracy: 0.3065\n",
      "Epoch 4/200\n",
      "387/391 [============================>.] - ETA: 0s - loss: 1.8820 - accuracy: 0.3171"
     ]
    },
    {
     "name": "stderr",
     "output_type": "stream",
     "text": [
      "WARNING:absl:Found untraced functions such as _jit_compiled_convolution_op, _jit_compiled_convolution_op, _jit_compiled_convolution_op, _jit_compiled_convolution_op while saving (showing 4 of 4). These functions will not be directly callable after loading.\n"
     ]
    },
    {
     "name": "stdout",
     "output_type": "stream",
     "text": [
      "INFO:tensorflow:Assets written to: /root/jupyter/IHC/gain_proj/wandb/run-20230421_233553-vb6akp5o/files/model-best/assets\n"
     ]
    },
    {
     "name": "stderr",
     "output_type": "stream",
     "text": [
      "INFO:tensorflow:Assets written to: /root/jupyter/IHC/gain_proj/wandb/run-20230421_233553-vb6akp5o/files/model-best/assets\n",
      "\u001b[34m\u001b[1mwandb\u001b[0m: Adding directory to artifact (/root/jupyter/IHC/gain_proj/wandb/run-20230421_233553-vb6akp5o/files/model-best)... Done. 0.0s\n"
     ]
    },
    {
     "name": "stdout",
     "output_type": "stream",
     "text": [
      "391/391 [==============================] - 22s 56ms/step - loss: 1.8817 - accuracy: 0.3175 - val_loss: 1.8396 - val_accuracy: 0.3294\n",
      "Epoch 5/200\n",
      "391/391 [==============================] - ETA: 0s - loss: 1.8319 - accuracy: 0.3350"
     ]
    },
    {
     "name": "stderr",
     "output_type": "stream",
     "text": [
      "WARNING:absl:Found untraced functions such as _jit_compiled_convolution_op, _jit_compiled_convolution_op, _jit_compiled_convolution_op, _jit_compiled_convolution_op while saving (showing 4 of 4). These functions will not be directly callable after loading.\n"
     ]
    },
    {
     "name": "stdout",
     "output_type": "stream",
     "text": [
      "INFO:tensorflow:Assets written to: /root/jupyter/IHC/gain_proj/wandb/run-20230421_233553-vb6akp5o/files/model-best/assets\n"
     ]
    },
    {
     "name": "stderr",
     "output_type": "stream",
     "text": [
      "INFO:tensorflow:Assets written to: /root/jupyter/IHC/gain_proj/wandb/run-20230421_233553-vb6akp5o/files/model-best/assets\n",
      "\u001b[34m\u001b[1mwandb\u001b[0m: Adding directory to artifact (/root/jupyter/IHC/gain_proj/wandb/run-20230421_233553-vb6akp5o/files/model-best)... Done. 0.0s\n"
     ]
    },
    {
     "name": "stdout",
     "output_type": "stream",
     "text": [
      "391/391 [==============================] - 22s 55ms/step - loss: 1.8319 - accuracy: 0.3350 - val_loss: 1.7813 - val_accuracy: 0.3510\n",
      "Epoch 6/200\n",
      "391/391 [==============================] - ETA: 0s - loss: 1.7817 - accuracy: 0.3527"
     ]
    },
    {
     "name": "stderr",
     "output_type": "stream",
     "text": [
      "WARNING:absl:Found untraced functions such as _jit_compiled_convolution_op, _jit_compiled_convolution_op, _jit_compiled_convolution_op, _jit_compiled_convolution_op while saving (showing 4 of 4). These functions will not be directly callable after loading.\n"
     ]
    },
    {
     "name": "stdout",
     "output_type": "stream",
     "text": [
      "INFO:tensorflow:Assets written to: /root/jupyter/IHC/gain_proj/wandb/run-20230421_233553-vb6akp5o/files/model-best/assets\n"
     ]
    },
    {
     "name": "stderr",
     "output_type": "stream",
     "text": [
      "INFO:tensorflow:Assets written to: /root/jupyter/IHC/gain_proj/wandb/run-20230421_233553-vb6akp5o/files/model-best/assets\n",
      "\u001b[34m\u001b[1mwandb\u001b[0m: Adding directory to artifact (/root/jupyter/IHC/gain_proj/wandb/run-20230421_233553-vb6akp5o/files/model-best)... Done. 0.0s\n"
     ]
    },
    {
     "name": "stdout",
     "output_type": "stream",
     "text": [
      "391/391 [==============================] - 22s 56ms/step - loss: 1.7817 - accuracy: 0.3527 - val_loss: 1.7367 - val_accuracy: 0.3652\n",
      "Epoch 7/200\n",
      "390/391 [============================>.] - ETA: 0s - loss: 1.7331 - accuracy: 0.3670"
     ]
    },
    {
     "name": "stderr",
     "output_type": "stream",
     "text": [
      "WARNING:absl:Found untraced functions such as _jit_compiled_convolution_op, _jit_compiled_convolution_op, _jit_compiled_convolution_op, _jit_compiled_convolution_op while saving (showing 4 of 4). These functions will not be directly callable after loading.\n"
     ]
    },
    {
     "name": "stdout",
     "output_type": "stream",
     "text": [
      "INFO:tensorflow:Assets written to: /root/jupyter/IHC/gain_proj/wandb/run-20230421_233553-vb6akp5o/files/model-best/assets\n"
     ]
    },
    {
     "name": "stderr",
     "output_type": "stream",
     "text": [
      "INFO:tensorflow:Assets written to: /root/jupyter/IHC/gain_proj/wandb/run-20230421_233553-vb6akp5o/files/model-best/assets\n",
      "\u001b[34m\u001b[1mwandb\u001b[0m: Adding directory to artifact (/root/jupyter/IHC/gain_proj/wandb/run-20230421_233553-vb6akp5o/files/model-best)... Done. 0.0s\n"
     ]
    },
    {
     "name": "stdout",
     "output_type": "stream",
     "text": [
      "391/391 [==============================] - 22s 57ms/step - loss: 1.7332 - accuracy: 0.3670 - val_loss: 1.6947 - val_accuracy: 0.3804\n",
      "Epoch 8/200\n",
      "388/391 [============================>.] - ETA: 0s - loss: 1.6940 - accuracy: 0.3794"
     ]
    },
    {
     "name": "stderr",
     "output_type": "stream",
     "text": [
      "WARNING:absl:Found untraced functions such as _jit_compiled_convolution_op, _jit_compiled_convolution_op, _jit_compiled_convolution_op, _jit_compiled_convolution_op while saving (showing 4 of 4). These functions will not be directly callable after loading.\n"
     ]
    },
    {
     "name": "stdout",
     "output_type": "stream",
     "text": [
      "INFO:tensorflow:Assets written to: /root/jupyter/IHC/gain_proj/wandb/run-20230421_233553-vb6akp5o/files/model-best/assets\n"
     ]
    },
    {
     "name": "stderr",
     "output_type": "stream",
     "text": [
      "INFO:tensorflow:Assets written to: /root/jupyter/IHC/gain_proj/wandb/run-20230421_233553-vb6akp5o/files/model-best/assets\n",
      "\u001b[34m\u001b[1mwandb\u001b[0m: Adding directory to artifact (/root/jupyter/IHC/gain_proj/wandb/run-20230421_233553-vb6akp5o/files/model-best)... Done. 0.0s\n"
     ]
    },
    {
     "name": "stdout",
     "output_type": "stream",
     "text": [
      "391/391 [==============================] - 23s 58ms/step - loss: 1.6937 - accuracy: 0.3796 - val_loss: 1.6574 - val_accuracy: 0.3950\n",
      "Epoch 9/200\n",
      "388/391 [============================>.] - ETA: 0s - loss: 1.6601 - accuracy: 0.3923"
     ]
    },
    {
     "name": "stderr",
     "output_type": "stream",
     "text": [
      "WARNING:absl:Found untraced functions such as _jit_compiled_convolution_op, _jit_compiled_convolution_op, _jit_compiled_convolution_op, _jit_compiled_convolution_op while saving (showing 4 of 4). These functions will not be directly callable after loading.\n"
     ]
    },
    {
     "name": "stdout",
     "output_type": "stream",
     "text": [
      "INFO:tensorflow:Assets written to: /root/jupyter/IHC/gain_proj/wandb/run-20230421_233553-vb6akp5o/files/model-best/assets\n"
     ]
    },
    {
     "name": "stderr",
     "output_type": "stream",
     "text": [
      "INFO:tensorflow:Assets written to: /root/jupyter/IHC/gain_proj/wandb/run-20230421_233553-vb6akp5o/files/model-best/assets\n",
      "\u001b[34m\u001b[1mwandb\u001b[0m: Adding directory to artifact (/root/jupyter/IHC/gain_proj/wandb/run-20230421_233553-vb6akp5o/files/model-best)... Done. 0.0s\n"
     ]
    },
    {
     "name": "stdout",
     "output_type": "stream",
     "text": [
      "391/391 [==============================] - 22s 57ms/step - loss: 1.6598 - accuracy: 0.3924 - val_loss: 1.6265 - val_accuracy: 0.4028\n",
      "Epoch 10/200\n",
      "388/391 [============================>.] - ETA: 0s - loss: 1.6321 - accuracy: 0.4051"
     ]
    },
    {
     "name": "stderr",
     "output_type": "stream",
     "text": [
      "WARNING:absl:Found untraced functions such as _jit_compiled_convolution_op, _jit_compiled_convolution_op, _jit_compiled_convolution_op, _jit_compiled_convolution_op while saving (showing 4 of 4). These functions will not be directly callable after loading.\n"
     ]
    },
    {
     "name": "stdout",
     "output_type": "stream",
     "text": [
      "INFO:tensorflow:Assets written to: /root/jupyter/IHC/gain_proj/wandb/run-20230421_233553-vb6akp5o/files/model-best/assets\n"
     ]
    },
    {
     "name": "stderr",
     "output_type": "stream",
     "text": [
      "INFO:tensorflow:Assets written to: /root/jupyter/IHC/gain_proj/wandb/run-20230421_233553-vb6akp5o/files/model-best/assets\n",
      "\u001b[34m\u001b[1mwandb\u001b[0m: Adding directory to artifact (/root/jupyter/IHC/gain_proj/wandb/run-20230421_233553-vb6akp5o/files/model-best)... Done. 0.0s\n"
     ]
    },
    {
     "name": "stdout",
     "output_type": "stream",
     "text": [
      "391/391 [==============================] - 22s 56ms/step - loss: 1.6323 - accuracy: 0.4050 - val_loss: 1.5957 - val_accuracy: 0.4172\n",
      "Epoch 11/200\n",
      "388/391 [============================>.] - ETA: 0s - loss: 1.6092 - accuracy: 0.4126"
     ]
    },
    {
     "name": "stderr",
     "output_type": "stream",
     "text": [
      "WARNING:absl:Found untraced functions such as _jit_compiled_convolution_op, _jit_compiled_convolution_op, _jit_compiled_convolution_op, _jit_compiled_convolution_op while saving (showing 4 of 4). These functions will not be directly callable after loading.\n"
     ]
    },
    {
     "name": "stdout",
     "output_type": "stream",
     "text": [
      "INFO:tensorflow:Assets written to: /root/jupyter/IHC/gain_proj/wandb/run-20230421_233553-vb6akp5o/files/model-best/assets\n"
     ]
    },
    {
     "name": "stderr",
     "output_type": "stream",
     "text": [
      "INFO:tensorflow:Assets written to: /root/jupyter/IHC/gain_proj/wandb/run-20230421_233553-vb6akp5o/files/model-best/assets\n",
      "\u001b[34m\u001b[1mwandb\u001b[0m: Adding directory to artifact (/root/jupyter/IHC/gain_proj/wandb/run-20230421_233553-vb6akp5o/files/model-best)... Done. 0.0s\n"
     ]
    },
    {
     "name": "stdout",
     "output_type": "stream",
     "text": [
      "391/391 [==============================] - 22s 57ms/step - loss: 1.6088 - accuracy: 0.4128 - val_loss: 1.5718 - val_accuracy: 0.4259\n",
      "Epoch 12/200\n",
      "391/391 [==============================] - ETA: 0s - loss: 1.5863 - accuracy: 0.4182"
     ]
    },
    {
     "name": "stderr",
     "output_type": "stream",
     "text": [
      "WARNING:absl:Found untraced functions such as _jit_compiled_convolution_op, _jit_compiled_convolution_op, _jit_compiled_convolution_op, _jit_compiled_convolution_op while saving (showing 4 of 4). These functions will not be directly callable after loading.\n"
     ]
    },
    {
     "name": "stdout",
     "output_type": "stream",
     "text": [
      "INFO:tensorflow:Assets written to: /root/jupyter/IHC/gain_proj/wandb/run-20230421_233553-vb6akp5o/files/model-best/assets\n"
     ]
    },
    {
     "name": "stderr",
     "output_type": "stream",
     "text": [
      "INFO:tensorflow:Assets written to: /root/jupyter/IHC/gain_proj/wandb/run-20230421_233553-vb6akp5o/files/model-best/assets\n",
      "\u001b[34m\u001b[1mwandb\u001b[0m: Adding directory to artifact (/root/jupyter/IHC/gain_proj/wandb/run-20230421_233553-vb6akp5o/files/model-best)... Done. 0.0s\n"
     ]
    },
    {
     "name": "stdout",
     "output_type": "stream",
     "text": [
      "391/391 [==============================] - 22s 56ms/step - loss: 1.5863 - accuracy: 0.4182 - val_loss: 1.5716 - val_accuracy: 0.4352\n",
      "Epoch 13/200\n",
      "391/391 [==============================] - ETA: 0s - loss: 1.5629 - accuracy: 0.4323"
     ]
    },
    {
     "name": "stderr",
     "output_type": "stream",
     "text": [
      "WARNING:absl:Found untraced functions such as _jit_compiled_convolution_op, _jit_compiled_convolution_op, _jit_compiled_convolution_op, _jit_compiled_convolution_op while saving (showing 4 of 4). These functions will not be directly callable after loading.\n"
     ]
    },
    {
     "name": "stdout",
     "output_type": "stream",
     "text": [
      "INFO:tensorflow:Assets written to: /root/jupyter/IHC/gain_proj/wandb/run-20230421_233553-vb6akp5o/files/model-best/assets\n"
     ]
    },
    {
     "name": "stderr",
     "output_type": "stream",
     "text": [
      "INFO:tensorflow:Assets written to: /root/jupyter/IHC/gain_proj/wandb/run-20230421_233553-vb6akp5o/files/model-best/assets\n",
      "\u001b[34m\u001b[1mwandb\u001b[0m: Adding directory to artifact (/root/jupyter/IHC/gain_proj/wandb/run-20230421_233553-vb6akp5o/files/model-best)... Done. 0.0s\n"
     ]
    },
    {
     "name": "stdout",
     "output_type": "stream",
     "text": [
      "391/391 [==============================] - 23s 58ms/step - loss: 1.5629 - accuracy: 0.4323 - val_loss: 1.5295 - val_accuracy: 0.4404\n",
      "Epoch 14/200\n",
      "388/391 [============================>.] - ETA: 0s - loss: 1.5419 - accuracy: 0.4405"
     ]
    },
    {
     "name": "stderr",
     "output_type": "stream",
     "text": [
      "WARNING:absl:Found untraced functions such as _jit_compiled_convolution_op, _jit_compiled_convolution_op, _jit_compiled_convolution_op, _jit_compiled_convolution_op while saving (showing 4 of 4). These functions will not be directly callable after loading.\n"
     ]
    },
    {
     "name": "stdout",
     "output_type": "stream",
     "text": [
      "INFO:tensorflow:Assets written to: /root/jupyter/IHC/gain_proj/wandb/run-20230421_233553-vb6akp5o/files/model-best/assets\n"
     ]
    },
    {
     "name": "stderr",
     "output_type": "stream",
     "text": [
      "INFO:tensorflow:Assets written to: /root/jupyter/IHC/gain_proj/wandb/run-20230421_233553-vb6akp5o/files/model-best/assets\n",
      "\u001b[34m\u001b[1mwandb\u001b[0m: Adding directory to artifact (/root/jupyter/IHC/gain_proj/wandb/run-20230421_233553-vb6akp5o/files/model-best)... Done. 0.0s\n"
     ]
    },
    {
     "name": "stdout",
     "output_type": "stream",
     "text": [
      "391/391 [==============================] - 22s 56ms/step - loss: 1.5417 - accuracy: 0.4406 - val_loss: 1.5247 - val_accuracy: 0.4511\n",
      "Epoch 15/200\n",
      "390/391 [============================>.] - ETA: 0s - loss: 1.5251 - accuracy: 0.4484"
     ]
    },
    {
     "name": "stderr",
     "output_type": "stream",
     "text": [
      "WARNING:absl:Found untraced functions such as _jit_compiled_convolution_op, _jit_compiled_convolution_op, _jit_compiled_convolution_op, _jit_compiled_convolution_op while saving (showing 4 of 4). These functions will not be directly callable after loading.\n"
     ]
    },
    {
     "name": "stdout",
     "output_type": "stream",
     "text": [
      "INFO:tensorflow:Assets written to: /root/jupyter/IHC/gain_proj/wandb/run-20230421_233553-vb6akp5o/files/model-best/assets\n"
     ]
    },
    {
     "name": "stderr",
     "output_type": "stream",
     "text": [
      "INFO:tensorflow:Assets written to: /root/jupyter/IHC/gain_proj/wandb/run-20230421_233553-vb6akp5o/files/model-best/assets\n",
      "\u001b[34m\u001b[1mwandb\u001b[0m: Adding directory to artifact (/root/jupyter/IHC/gain_proj/wandb/run-20230421_233553-vb6akp5o/files/model-best)... Done. 0.0s\n"
     ]
    },
    {
     "name": "stdout",
     "output_type": "stream",
     "text": [
      "391/391 [==============================] - 22s 56ms/step - loss: 1.5254 - accuracy: 0.4484 - val_loss: 1.4981 - val_accuracy: 0.4551\n",
      "Epoch 16/200\n",
      "389/391 [============================>.] - ETA: 0s - loss: 1.5037 - accuracy: 0.4541"
     ]
    },
    {
     "name": "stderr",
     "output_type": "stream",
     "text": [
      "WARNING:absl:Found untraced functions such as _jit_compiled_convolution_op, _jit_compiled_convolution_op, _jit_compiled_convolution_op, _jit_compiled_convolution_op while saving (showing 4 of 4). These functions will not be directly callable after loading.\n"
     ]
    },
    {
     "name": "stdout",
     "output_type": "stream",
     "text": [
      "INFO:tensorflow:Assets written to: /root/jupyter/IHC/gain_proj/wandb/run-20230421_233553-vb6akp5o/files/model-best/assets\n"
     ]
    },
    {
     "name": "stderr",
     "output_type": "stream",
     "text": [
      "INFO:tensorflow:Assets written to: /root/jupyter/IHC/gain_proj/wandb/run-20230421_233553-vb6akp5o/files/model-best/assets\n",
      "\u001b[34m\u001b[1mwandb\u001b[0m: Adding directory to artifact (/root/jupyter/IHC/gain_proj/wandb/run-20230421_233553-vb6akp5o/files/model-best)... Done. 0.0s\n"
     ]
    },
    {
     "name": "stdout",
     "output_type": "stream",
     "text": [
      "391/391 [==============================] - 23s 58ms/step - loss: 1.5034 - accuracy: 0.4543 - val_loss: 1.4811 - val_accuracy: 0.4631\n",
      "Epoch 17/200\n",
      "391/391 [==============================] - 20s 51ms/step - loss: 1.4881 - accuracy: 0.4613 - val_loss: 1.5008 - val_accuracy: 0.4538\n",
      "Epoch 18/200\n",
      "390/391 [============================>.] - ETA: 0s - loss: 1.4709 - accuracy: 0.4688"
     ]
    },
    {
     "name": "stderr",
     "output_type": "stream",
     "text": [
      "WARNING:absl:Found untraced functions such as _jit_compiled_convolution_op, _jit_compiled_convolution_op, _jit_compiled_convolution_op, _jit_compiled_convolution_op while saving (showing 4 of 4). These functions will not be directly callable after loading.\n"
     ]
    },
    {
     "name": "stdout",
     "output_type": "stream",
     "text": [
      "INFO:tensorflow:Assets written to: /root/jupyter/IHC/gain_proj/wandb/run-20230421_233553-vb6akp5o/files/model-best/assets\n"
     ]
    },
    {
     "name": "stderr",
     "output_type": "stream",
     "text": [
      "INFO:tensorflow:Assets written to: /root/jupyter/IHC/gain_proj/wandb/run-20230421_233553-vb6akp5o/files/model-best/assets\n",
      "\u001b[34m\u001b[1mwandb\u001b[0m: Adding directory to artifact (/root/jupyter/IHC/gain_proj/wandb/run-20230421_233553-vb6akp5o/files/model-best)... Done. 0.0s\n"
     ]
    },
    {
     "name": "stdout",
     "output_type": "stream",
     "text": [
      "391/391 [==============================] - 22s 56ms/step - loss: 1.4709 - accuracy: 0.4686 - val_loss: 1.4533 - val_accuracy: 0.4735\n",
      "Epoch 19/200\n",
      "389/391 [============================>.] - ETA: 0s - loss: 1.4537 - accuracy: 0.4745"
     ]
    },
    {
     "name": "stderr",
     "output_type": "stream",
     "text": [
      "WARNING:absl:Found untraced functions such as _jit_compiled_convolution_op, _jit_compiled_convolution_op, _jit_compiled_convolution_op, _jit_compiled_convolution_op while saving (showing 4 of 4). These functions will not be directly callable after loading.\n"
     ]
    },
    {
     "name": "stdout",
     "output_type": "stream",
     "text": [
      "INFO:tensorflow:Assets written to: /root/jupyter/IHC/gain_proj/wandb/run-20230421_233553-vb6akp5o/files/model-best/assets\n"
     ]
    },
    {
     "name": "stderr",
     "output_type": "stream",
     "text": [
      "INFO:tensorflow:Assets written to: /root/jupyter/IHC/gain_proj/wandb/run-20230421_233553-vb6akp5o/files/model-best/assets\n",
      "\u001b[34m\u001b[1mwandb\u001b[0m: Adding directory to artifact (/root/jupyter/IHC/gain_proj/wandb/run-20230421_233553-vb6akp5o/files/model-best)... Done. 0.0s\n"
     ]
    },
    {
     "name": "stdout",
     "output_type": "stream",
     "text": [
      "391/391 [==============================] - 22s 57ms/step - loss: 1.4535 - accuracy: 0.4743 - val_loss: 1.4369 - val_accuracy: 0.4820\n",
      "Epoch 20/200\n",
      "389/391 [============================>.] - ETA: 0s - loss: 1.4415 - accuracy: 0.4815"
     ]
    },
    {
     "name": "stderr",
     "output_type": "stream",
     "text": [
      "WARNING:absl:Found untraced functions such as _jit_compiled_convolution_op, _jit_compiled_convolution_op, _jit_compiled_convolution_op, _jit_compiled_convolution_op while saving (showing 4 of 4). These functions will not be directly callable after loading.\n"
     ]
    },
    {
     "name": "stdout",
     "output_type": "stream",
     "text": [
      "INFO:tensorflow:Assets written to: /root/jupyter/IHC/gain_proj/wandb/run-20230421_233553-vb6akp5o/files/model-best/assets\n"
     ]
    },
    {
     "name": "stderr",
     "output_type": "stream",
     "text": [
      "INFO:tensorflow:Assets written to: /root/jupyter/IHC/gain_proj/wandb/run-20230421_233553-vb6akp5o/files/model-best/assets\n",
      "\u001b[34m\u001b[1mwandb\u001b[0m: Adding directory to artifact (/root/jupyter/IHC/gain_proj/wandb/run-20230421_233553-vb6akp5o/files/model-best)... Done. 0.0s\n"
     ]
    },
    {
     "name": "stdout",
     "output_type": "stream",
     "text": [
      "391/391 [==============================] - 22s 56ms/step - loss: 1.4418 - accuracy: 0.4813 - val_loss: 1.4128 - val_accuracy: 0.4934\n",
      "Epoch 21/200\n",
      "388/391 [============================>.] - ETA: 0s - loss: 1.4220 - accuracy: 0.4908"
     ]
    },
    {
     "name": "stderr",
     "output_type": "stream",
     "text": [
      "WARNING:absl:Found untraced functions such as _jit_compiled_convolution_op, _jit_compiled_convolution_op, _jit_compiled_convolution_op, _jit_compiled_convolution_op while saving (showing 4 of 4). These functions will not be directly callable after loading.\n"
     ]
    },
    {
     "name": "stdout",
     "output_type": "stream",
     "text": [
      "INFO:tensorflow:Assets written to: /root/jupyter/IHC/gain_proj/wandb/run-20230421_233553-vb6akp5o/files/model-best/assets\n"
     ]
    },
    {
     "name": "stderr",
     "output_type": "stream",
     "text": [
      "INFO:tensorflow:Assets written to: /root/jupyter/IHC/gain_proj/wandb/run-20230421_233553-vb6akp5o/files/model-best/assets\n",
      "\u001b[34m\u001b[1mwandb\u001b[0m: Adding directory to artifact (/root/jupyter/IHC/gain_proj/wandb/run-20230421_233553-vb6akp5o/files/model-best)... Done. 0.0s\n"
     ]
    },
    {
     "name": "stdout",
     "output_type": "stream",
     "text": [
      "391/391 [==============================] - 22s 57ms/step - loss: 1.4213 - accuracy: 0.4909 - val_loss: 1.4084 - val_accuracy: 0.4958\n",
      "Epoch 22/200\n",
      "389/391 [============================>.] - ETA: 0s - loss: 1.4096 - accuracy: 0.4936"
     ]
    },
    {
     "name": "stderr",
     "output_type": "stream",
     "text": [
      "WARNING:absl:Found untraced functions such as _jit_compiled_convolution_op, _jit_compiled_convolution_op, _jit_compiled_convolution_op, _jit_compiled_convolution_op while saving (showing 4 of 4). These functions will not be directly callable after loading.\n"
     ]
    },
    {
     "name": "stdout",
     "output_type": "stream",
     "text": [
      "INFO:tensorflow:Assets written to: /root/jupyter/IHC/gain_proj/wandb/run-20230421_233553-vb6akp5o/files/model-best/assets\n"
     ]
    },
    {
     "name": "stderr",
     "output_type": "stream",
     "text": [
      "INFO:tensorflow:Assets written to: /root/jupyter/IHC/gain_proj/wandb/run-20230421_233553-vb6akp5o/files/model-best/assets\n",
      "\u001b[34m\u001b[1mwandb\u001b[0m: Adding directory to artifact (/root/jupyter/IHC/gain_proj/wandb/run-20230421_233553-vb6akp5o/files/model-best)... Done. 0.0s\n"
     ]
    },
    {
     "name": "stdout",
     "output_type": "stream",
     "text": [
      "391/391 [==============================] - 22s 57ms/step - loss: 1.4096 - accuracy: 0.4937 - val_loss: 1.3910 - val_accuracy: 0.5003\n",
      "Epoch 23/200\n",
      "391/391 [==============================] - ETA: 0s - loss: 1.3940 - accuracy: 0.5018"
     ]
    },
    {
     "name": "stderr",
     "output_type": "stream",
     "text": [
      "WARNING:absl:Found untraced functions such as _jit_compiled_convolution_op, _jit_compiled_convolution_op, _jit_compiled_convolution_op, _jit_compiled_convolution_op while saving (showing 4 of 4). These functions will not be directly callable after loading.\n"
     ]
    },
    {
     "name": "stdout",
     "output_type": "stream",
     "text": [
      "INFO:tensorflow:Assets written to: /root/jupyter/IHC/gain_proj/wandb/run-20230421_233553-vb6akp5o/files/model-best/assets\n"
     ]
    },
    {
     "name": "stderr",
     "output_type": "stream",
     "text": [
      "INFO:tensorflow:Assets written to: /root/jupyter/IHC/gain_proj/wandb/run-20230421_233553-vb6akp5o/files/model-best/assets\n",
      "\u001b[34m\u001b[1mwandb\u001b[0m: Adding directory to artifact (/root/jupyter/IHC/gain_proj/wandb/run-20230421_233553-vb6akp5o/files/model-best)... Done. 0.0s\n"
     ]
    },
    {
     "name": "stdout",
     "output_type": "stream",
     "text": [
      "391/391 [==============================] - 22s 55ms/step - loss: 1.3940 - accuracy: 0.5018 - val_loss: 1.3833 - val_accuracy: 0.5042\n",
      "Epoch 24/200\n",
      "390/391 [============================>.] - ETA: 0s - loss: 1.3772 - accuracy: 0.5052"
     ]
    },
    {
     "name": "stderr",
     "output_type": "stream",
     "text": [
      "WARNING:absl:Found untraced functions such as _jit_compiled_convolution_op, _jit_compiled_convolution_op, _jit_compiled_convolution_op, _jit_compiled_convolution_op while saving (showing 4 of 4). These functions will not be directly callable after loading.\n"
     ]
    },
    {
     "name": "stdout",
     "output_type": "stream",
     "text": [
      "INFO:tensorflow:Assets written to: /root/jupyter/IHC/gain_proj/wandb/run-20230421_233553-vb6akp5o/files/model-best/assets\n"
     ]
    },
    {
     "name": "stderr",
     "output_type": "stream",
     "text": [
      "INFO:tensorflow:Assets written to: /root/jupyter/IHC/gain_proj/wandb/run-20230421_233553-vb6akp5o/files/model-best/assets\n",
      "\u001b[34m\u001b[1mwandb\u001b[0m: Adding directory to artifact (/root/jupyter/IHC/gain_proj/wandb/run-20230421_233553-vb6akp5o/files/model-best)... Done. 0.0s\n"
     ]
    },
    {
     "name": "stdout",
     "output_type": "stream",
     "text": [
      "391/391 [==============================] - 23s 58ms/step - loss: 1.3772 - accuracy: 0.5053 - val_loss: 1.3758 - val_accuracy: 0.5045\n",
      "Epoch 25/200\n",
      "389/391 [============================>.] - ETA: 0s - loss: 1.3674 - accuracy: 0.5097"
     ]
    },
    {
     "name": "stderr",
     "output_type": "stream",
     "text": [
      "WARNING:absl:Found untraced functions such as _jit_compiled_convolution_op, _jit_compiled_convolution_op, _jit_compiled_convolution_op, _jit_compiled_convolution_op while saving (showing 4 of 4). These functions will not be directly callable after loading.\n"
     ]
    },
    {
     "name": "stdout",
     "output_type": "stream",
     "text": [
      "INFO:tensorflow:Assets written to: /root/jupyter/IHC/gain_proj/wandb/run-20230421_233553-vb6akp5o/files/model-best/assets\n"
     ]
    },
    {
     "name": "stderr",
     "output_type": "stream",
     "text": [
      "INFO:tensorflow:Assets written to: /root/jupyter/IHC/gain_proj/wandb/run-20230421_233553-vb6akp5o/files/model-best/assets\n",
      "\u001b[34m\u001b[1mwandb\u001b[0m: Adding directory to artifact (/root/jupyter/IHC/gain_proj/wandb/run-20230421_233553-vb6akp5o/files/model-best)... Done. 0.0s\n"
     ]
    },
    {
     "name": "stdout",
     "output_type": "stream",
     "text": [
      "391/391 [==============================] - 22s 57ms/step - loss: 1.3674 - accuracy: 0.5097 - val_loss: 1.3558 - val_accuracy: 0.5166\n",
      "Epoch 26/200\n",
      "389/391 [============================>.] - ETA: 0s - loss: 1.3539 - accuracy: 0.5175"
     ]
    },
    {
     "name": "stderr",
     "output_type": "stream",
     "text": [
      "WARNING:absl:Found untraced functions such as _jit_compiled_convolution_op, _jit_compiled_convolution_op, _jit_compiled_convolution_op, _jit_compiled_convolution_op while saving (showing 4 of 4). These functions will not be directly callable after loading.\n"
     ]
    },
    {
     "name": "stdout",
     "output_type": "stream",
     "text": [
      "INFO:tensorflow:Assets written to: /root/jupyter/IHC/gain_proj/wandb/run-20230421_233553-vb6akp5o/files/model-best/assets\n"
     ]
    },
    {
     "name": "stderr",
     "output_type": "stream",
     "text": [
      "INFO:tensorflow:Assets written to: /root/jupyter/IHC/gain_proj/wandb/run-20230421_233553-vb6akp5o/files/model-best/assets\n",
      "\u001b[34m\u001b[1mwandb\u001b[0m: Adding directory to artifact (/root/jupyter/IHC/gain_proj/wandb/run-20230421_233553-vb6akp5o/files/model-best)... Done. 0.0s\n"
     ]
    },
    {
     "name": "stdout",
     "output_type": "stream",
     "text": [
      "391/391 [==============================] - 22s 57ms/step - loss: 1.3543 - accuracy: 0.5171 - val_loss: 1.3420 - val_accuracy: 0.5238\n",
      "Epoch 27/200\n",
      "388/391 [============================>.] - ETA: 0s - loss: 1.3407 - accuracy: 0.5217"
     ]
    },
    {
     "name": "stderr",
     "output_type": "stream",
     "text": [
      "WARNING:absl:Found untraced functions such as _jit_compiled_convolution_op, _jit_compiled_convolution_op, _jit_compiled_convolution_op, _jit_compiled_convolution_op while saving (showing 4 of 4). These functions will not be directly callable after loading.\n"
     ]
    },
    {
     "name": "stdout",
     "output_type": "stream",
     "text": [
      "INFO:tensorflow:Assets written to: /root/jupyter/IHC/gain_proj/wandb/run-20230421_233553-vb6akp5o/files/model-best/assets\n"
     ]
    },
    {
     "name": "stderr",
     "output_type": "stream",
     "text": [
      "INFO:tensorflow:Assets written to: /root/jupyter/IHC/gain_proj/wandb/run-20230421_233553-vb6akp5o/files/model-best/assets\n",
      "\u001b[34m\u001b[1mwandb\u001b[0m: Adding directory to artifact (/root/jupyter/IHC/gain_proj/wandb/run-20230421_233553-vb6akp5o/files/model-best)... Done. 0.0s\n"
     ]
    },
    {
     "name": "stdout",
     "output_type": "stream",
     "text": [
      "391/391 [==============================] - 22s 56ms/step - loss: 1.3401 - accuracy: 0.5219 - val_loss: 1.3258 - val_accuracy: 0.5271\n",
      "Epoch 28/200\n",
      "390/391 [============================>.] - ETA: 0s - loss: 1.3268 - accuracy: 0.5280"
     ]
    },
    {
     "name": "stderr",
     "output_type": "stream",
     "text": [
      "WARNING:absl:Found untraced functions such as _jit_compiled_convolution_op, _jit_compiled_convolution_op, _jit_compiled_convolution_op, _jit_compiled_convolution_op while saving (showing 4 of 4). These functions will not be directly callable after loading.\n"
     ]
    },
    {
     "name": "stdout",
     "output_type": "stream",
     "text": [
      "INFO:tensorflow:Assets written to: /root/jupyter/IHC/gain_proj/wandb/run-20230421_233553-vb6akp5o/files/model-best/assets\n"
     ]
    },
    {
     "name": "stderr",
     "output_type": "stream",
     "text": [
      "INFO:tensorflow:Assets written to: /root/jupyter/IHC/gain_proj/wandb/run-20230421_233553-vb6akp5o/files/model-best/assets\n",
      "\u001b[34m\u001b[1mwandb\u001b[0m: Adding directory to artifact (/root/jupyter/IHC/gain_proj/wandb/run-20230421_233553-vb6akp5o/files/model-best)... Done. 0.0s\n"
     ]
    },
    {
     "name": "stdout",
     "output_type": "stream",
     "text": [
      "391/391 [==============================] - 23s 59ms/step - loss: 1.3266 - accuracy: 0.5281 - val_loss: 1.3220 - val_accuracy: 0.5299\n",
      "Epoch 29/200\n",
      "391/391 [==============================] - ETA: 0s - loss: 1.3156 - accuracy: 0.5337"
     ]
    },
    {
     "name": "stderr",
     "output_type": "stream",
     "text": [
      "WARNING:absl:Found untraced functions such as _jit_compiled_convolution_op, _jit_compiled_convolution_op, _jit_compiled_convolution_op, _jit_compiled_convolution_op while saving (showing 4 of 4). These functions will not be directly callable after loading.\n"
     ]
    },
    {
     "name": "stdout",
     "output_type": "stream",
     "text": [
      "INFO:tensorflow:Assets written to: /root/jupyter/IHC/gain_proj/wandb/run-20230421_233553-vb6akp5o/files/model-best/assets\n"
     ]
    },
    {
     "name": "stderr",
     "output_type": "stream",
     "text": [
      "INFO:tensorflow:Assets written to: /root/jupyter/IHC/gain_proj/wandb/run-20230421_233553-vb6akp5o/files/model-best/assets\n",
      "\u001b[34m\u001b[1mwandb\u001b[0m: Adding directory to artifact (/root/jupyter/IHC/gain_proj/wandb/run-20230421_233553-vb6akp5o/files/model-best)... Done. 0.0s\n"
     ]
    },
    {
     "name": "stdout",
     "output_type": "stream",
     "text": [
      "391/391 [==============================] - 22s 57ms/step - loss: 1.3156 - accuracy: 0.5337 - val_loss: 1.3059 - val_accuracy: 0.5344\n",
      "Epoch 30/200\n",
      "391/391 [==============================] - 20s 51ms/step - loss: 1.2992 - accuracy: 0.5397 - val_loss: 1.3025 - val_accuracy: 0.5330\n",
      "Epoch 31/200\n",
      "390/391 [============================>.] - ETA: 0s - loss: 1.2912 - accuracy: 0.5431"
     ]
    },
    {
     "name": "stderr",
     "output_type": "stream",
     "text": [
      "WARNING:absl:Found untraced functions such as _jit_compiled_convolution_op, _jit_compiled_convolution_op, _jit_compiled_convolution_op, _jit_compiled_convolution_op while saving (showing 4 of 4). These functions will not be directly callable after loading.\n"
     ]
    },
    {
     "name": "stdout",
     "output_type": "stream",
     "text": [
      "INFO:tensorflow:Assets written to: /root/jupyter/IHC/gain_proj/wandb/run-20230421_233553-vb6akp5o/files/model-best/assets\n"
     ]
    },
    {
     "name": "stderr",
     "output_type": "stream",
     "text": [
      "INFO:tensorflow:Assets written to: /root/jupyter/IHC/gain_proj/wandb/run-20230421_233553-vb6akp5o/files/model-best/assets\n",
      "\u001b[34m\u001b[1mwandb\u001b[0m: Adding directory to artifact (/root/jupyter/IHC/gain_proj/wandb/run-20230421_233553-vb6akp5o/files/model-best)... Done. 0.0s\n"
     ]
    },
    {
     "name": "stdout",
     "output_type": "stream",
     "text": [
      "391/391 [==============================] - 22s 57ms/step - loss: 1.2908 - accuracy: 0.5431 - val_loss: 1.2874 - val_accuracy: 0.5426\n",
      "Epoch 32/200\n",
      "389/391 [============================>.] - ETA: 0s - loss: 1.2770 - accuracy: 0.5489"
     ]
    },
    {
     "name": "stderr",
     "output_type": "stream",
     "text": [
      "WARNING:absl:Found untraced functions such as _jit_compiled_convolution_op, _jit_compiled_convolution_op, _jit_compiled_convolution_op, _jit_compiled_convolution_op while saving (showing 4 of 4). These functions will not be directly callable after loading.\n"
     ]
    },
    {
     "name": "stdout",
     "output_type": "stream",
     "text": [
      "INFO:tensorflow:Assets written to: /root/jupyter/IHC/gain_proj/wandb/run-20230421_233553-vb6akp5o/files/model-best/assets\n"
     ]
    },
    {
     "name": "stderr",
     "output_type": "stream",
     "text": [
      "INFO:tensorflow:Assets written to: /root/jupyter/IHC/gain_proj/wandb/run-20230421_233553-vb6akp5o/files/model-best/assets\n",
      "\u001b[34m\u001b[1mwandb\u001b[0m: Adding directory to artifact (/root/jupyter/IHC/gain_proj/wandb/run-20230421_233553-vb6akp5o/files/model-best)... Done. 0.0s\n"
     ]
    },
    {
     "name": "stdout",
     "output_type": "stream",
     "text": [
      "391/391 [==============================] - 22s 57ms/step - loss: 1.2767 - accuracy: 0.5491 - val_loss: 1.2759 - val_accuracy: 0.5471\n",
      "Epoch 33/200\n",
      "388/391 [============================>.] - ETA: 0s - loss: 1.2647 - accuracy: 0.5537"
     ]
    },
    {
     "name": "stderr",
     "output_type": "stream",
     "text": [
      "WARNING:absl:Found untraced functions such as _jit_compiled_convolution_op, _jit_compiled_convolution_op, _jit_compiled_convolution_op, _jit_compiled_convolution_op while saving (showing 4 of 4). These functions will not be directly callable after loading.\n"
     ]
    },
    {
     "name": "stdout",
     "output_type": "stream",
     "text": [
      "INFO:tensorflow:Assets written to: /root/jupyter/IHC/gain_proj/wandb/run-20230421_233553-vb6akp5o/files/model-best/assets\n"
     ]
    },
    {
     "name": "stderr",
     "output_type": "stream",
     "text": [
      "INFO:tensorflow:Assets written to: /root/jupyter/IHC/gain_proj/wandb/run-20230421_233553-vb6akp5o/files/model-best/assets\n",
      "\u001b[34m\u001b[1mwandb\u001b[0m: Adding directory to artifact (/root/jupyter/IHC/gain_proj/wandb/run-20230421_233553-vb6akp5o/files/model-best)... Done. 0.0s\n"
     ]
    },
    {
     "name": "stdout",
     "output_type": "stream",
     "text": [
      "391/391 [==============================] - 23s 58ms/step - loss: 1.2637 - accuracy: 0.5541 - val_loss: 1.2608 - val_accuracy: 0.5507\n",
      "Epoch 34/200\n",
      "388/391 [============================>.] - ETA: 0s - loss: 1.2542 - accuracy: 0.5569"
     ]
    },
    {
     "name": "stderr",
     "output_type": "stream",
     "text": [
      "WARNING:absl:Found untraced functions such as _jit_compiled_convolution_op, _jit_compiled_convolution_op, _jit_compiled_convolution_op, _jit_compiled_convolution_op while saving (showing 4 of 4). These functions will not be directly callable after loading.\n"
     ]
    },
    {
     "name": "stdout",
     "output_type": "stream",
     "text": [
      "INFO:tensorflow:Assets written to: /root/jupyter/IHC/gain_proj/wandb/run-20230421_233553-vb6akp5o/files/model-best/assets\n"
     ]
    },
    {
     "name": "stderr",
     "output_type": "stream",
     "text": [
      "INFO:tensorflow:Assets written to: /root/jupyter/IHC/gain_proj/wandb/run-20230421_233553-vb6akp5o/files/model-best/assets\n",
      "\u001b[34m\u001b[1mwandb\u001b[0m: Adding directory to artifact (/root/jupyter/IHC/gain_proj/wandb/run-20230421_233553-vb6akp5o/files/model-best)... Done. 0.0s\n"
     ]
    },
    {
     "name": "stdout",
     "output_type": "stream",
     "text": [
      "391/391 [==============================] - 22s 55ms/step - loss: 1.2542 - accuracy: 0.5570 - val_loss: 1.2436 - val_accuracy: 0.5534\n",
      "Epoch 35/200\n",
      "391/391 [==============================] - ETA: 0s - loss: 1.2408 - accuracy: 0.5585"
     ]
    },
    {
     "name": "stderr",
     "output_type": "stream",
     "text": [
      "WARNING:absl:Found untraced functions such as _jit_compiled_convolution_op, _jit_compiled_convolution_op, _jit_compiled_convolution_op, _jit_compiled_convolution_op while saving (showing 4 of 4). These functions will not be directly callable after loading.\n"
     ]
    },
    {
     "name": "stdout",
     "output_type": "stream",
     "text": [
      "INFO:tensorflow:Assets written to: /root/jupyter/IHC/gain_proj/wandb/run-20230421_233553-vb6akp5o/files/model-best/assets\n"
     ]
    },
    {
     "name": "stderr",
     "output_type": "stream",
     "text": [
      "INFO:tensorflow:Assets written to: /root/jupyter/IHC/gain_proj/wandb/run-20230421_233553-vb6akp5o/files/model-best/assets\n",
      "\u001b[34m\u001b[1mwandb\u001b[0m: Adding directory to artifact (/root/jupyter/IHC/gain_proj/wandb/run-20230421_233553-vb6akp5o/files/model-best)... Done. 0.0s\n"
     ]
    },
    {
     "name": "stdout",
     "output_type": "stream",
     "text": [
      "391/391 [==============================] - 22s 57ms/step - loss: 1.2408 - accuracy: 0.5585 - val_loss: 1.2430 - val_accuracy: 0.5607\n",
      "Epoch 36/200\n",
      "391/391 [==============================] - 20s 51ms/step - loss: 1.2339 - accuracy: 0.5643 - val_loss: 1.2368 - val_accuracy: 0.5601\n",
      "Epoch 37/200\n",
      "388/391 [============================>.] - ETA: 0s - loss: 1.2230 - accuracy: 0.5680"
     ]
    },
    {
     "name": "stderr",
     "output_type": "stream",
     "text": [
      "WARNING:absl:Found untraced functions such as _jit_compiled_convolution_op, _jit_compiled_convolution_op, _jit_compiled_convolution_op, _jit_compiled_convolution_op while saving (showing 4 of 4). These functions will not be directly callable after loading.\n"
     ]
    },
    {
     "name": "stdout",
     "output_type": "stream",
     "text": [
      "INFO:tensorflow:Assets written to: /root/jupyter/IHC/gain_proj/wandb/run-20230421_233553-vb6akp5o/files/model-best/assets\n"
     ]
    },
    {
     "name": "stderr",
     "output_type": "stream",
     "text": [
      "INFO:tensorflow:Assets written to: /root/jupyter/IHC/gain_proj/wandb/run-20230421_233553-vb6akp5o/files/model-best/assets\n",
      "\u001b[34m\u001b[1mwandb\u001b[0m: Adding directory to artifact (/root/jupyter/IHC/gain_proj/wandb/run-20230421_233553-vb6akp5o/files/model-best)... Done. 0.0s\n"
     ]
    },
    {
     "name": "stdout",
     "output_type": "stream",
     "text": [
      "391/391 [==============================] - 22s 55ms/step - loss: 1.2227 - accuracy: 0.5682 - val_loss: 1.2235 - val_accuracy: 0.5635\n",
      "Epoch 38/200\n",
      "390/391 [============================>.] - ETA: 0s - loss: 1.2125 - accuracy: 0.5709"
     ]
    },
    {
     "name": "stderr",
     "output_type": "stream",
     "text": [
      "WARNING:absl:Found untraced functions such as _jit_compiled_convolution_op, _jit_compiled_convolution_op, _jit_compiled_convolution_op, _jit_compiled_convolution_op while saving (showing 4 of 4). These functions will not be directly callable after loading.\n"
     ]
    },
    {
     "name": "stdout",
     "output_type": "stream",
     "text": [
      "INFO:tensorflow:Assets written to: /root/jupyter/IHC/gain_proj/wandb/run-20230421_233553-vb6akp5o/files/model-best/assets\n"
     ]
    },
    {
     "name": "stderr",
     "output_type": "stream",
     "text": [
      "INFO:tensorflow:Assets written to: /root/jupyter/IHC/gain_proj/wandb/run-20230421_233553-vb6akp5o/files/model-best/assets\n",
      "\u001b[34m\u001b[1mwandb\u001b[0m: Adding directory to artifact (/root/jupyter/IHC/gain_proj/wandb/run-20230421_233553-vb6akp5o/files/model-best)... Done. 0.0s\n"
     ]
    },
    {
     "name": "stdout",
     "output_type": "stream",
     "text": [
      "391/391 [==============================] - 23s 59ms/step - loss: 1.2127 - accuracy: 0.5709 - val_loss: 1.2182 - val_accuracy: 0.5663\n",
      "Epoch 39/200\n",
      "388/391 [============================>.] - ETA: 0s - loss: 1.2011 - accuracy: 0.5756"
     ]
    },
    {
     "name": "stderr",
     "output_type": "stream",
     "text": [
      "WARNING:absl:Found untraced functions such as _jit_compiled_convolution_op, _jit_compiled_convolution_op, _jit_compiled_convolution_op, _jit_compiled_convolution_op while saving (showing 4 of 4). These functions will not be directly callable after loading.\n"
     ]
    },
    {
     "name": "stdout",
     "output_type": "stream",
     "text": [
      "INFO:tensorflow:Assets written to: /root/jupyter/IHC/gain_proj/wandb/run-20230421_233553-vb6akp5o/files/model-best/assets\n"
     ]
    },
    {
     "name": "stderr",
     "output_type": "stream",
     "text": [
      "INFO:tensorflow:Assets written to: /root/jupyter/IHC/gain_proj/wandb/run-20230421_233553-vb6akp5o/files/model-best/assets\n",
      "\u001b[34m\u001b[1mwandb\u001b[0m: Adding directory to artifact (/root/jupyter/IHC/gain_proj/wandb/run-20230421_233553-vb6akp5o/files/model-best)... Done. 0.0s\n"
     ]
    },
    {
     "name": "stdout",
     "output_type": "stream",
     "text": [
      "391/391 [==============================] - 22s 56ms/step - loss: 1.2018 - accuracy: 0.5755 - val_loss: 1.2082 - val_accuracy: 0.5707\n",
      "Epoch 40/200\n",
      "390/391 [============================>.] - ETA: 0s - loss: 1.1948 - accuracy: 0.5786"
     ]
    },
    {
     "name": "stderr",
     "output_type": "stream",
     "text": [
      "WARNING:absl:Found untraced functions such as _jit_compiled_convolution_op, _jit_compiled_convolution_op, _jit_compiled_convolution_op, _jit_compiled_convolution_op while saving (showing 4 of 4). These functions will not be directly callable after loading.\n"
     ]
    },
    {
     "name": "stdout",
     "output_type": "stream",
     "text": [
      "INFO:tensorflow:Assets written to: /root/jupyter/IHC/gain_proj/wandb/run-20230421_233553-vb6akp5o/files/model-best/assets\n"
     ]
    },
    {
     "name": "stderr",
     "output_type": "stream",
     "text": [
      "INFO:tensorflow:Assets written to: /root/jupyter/IHC/gain_proj/wandb/run-20230421_233553-vb6akp5o/files/model-best/assets\n",
      "\u001b[34m\u001b[1mwandb\u001b[0m: Adding directory to artifact (/root/jupyter/IHC/gain_proj/wandb/run-20230421_233553-vb6akp5o/files/model-best)... Done. 0.0s\n"
     ]
    },
    {
     "name": "stdout",
     "output_type": "stream",
     "text": [
      "391/391 [==============================] - 21s 55ms/step - loss: 1.1946 - accuracy: 0.5788 - val_loss: 1.1956 - val_accuracy: 0.5786\n",
      "Epoch 41/200\n",
      "391/391 [==============================] - 21s 53ms/step - loss: 1.1837 - accuracy: 0.5818 - val_loss: 1.1805 - val_accuracy: 0.5779\n",
      "Epoch 42/200\n",
      "390/391 [============================>.] - ETA: 0s - loss: 1.1716 - accuracy: 0.5864"
     ]
    },
    {
     "name": "stderr",
     "output_type": "stream",
     "text": [
      "WARNING:absl:Found untraced functions such as _jit_compiled_convolution_op, _jit_compiled_convolution_op, _jit_compiled_convolution_op, _jit_compiled_convolution_op while saving (showing 4 of 4). These functions will not be directly callable after loading.\n"
     ]
    },
    {
     "name": "stdout",
     "output_type": "stream",
     "text": [
      "INFO:tensorflow:Assets written to: /root/jupyter/IHC/gain_proj/wandb/run-20230421_233553-vb6akp5o/files/model-best/assets\n"
     ]
    },
    {
     "name": "stderr",
     "output_type": "stream",
     "text": [
      "INFO:tensorflow:Assets written to: /root/jupyter/IHC/gain_proj/wandb/run-20230421_233553-vb6akp5o/files/model-best/assets\n",
      "\u001b[34m\u001b[1mwandb\u001b[0m: Adding directory to artifact (/root/jupyter/IHC/gain_proj/wandb/run-20230421_233553-vb6akp5o/files/model-best)... Done. 0.0s\n"
     ]
    },
    {
     "name": "stdout",
     "output_type": "stream",
     "text": [
      "391/391 [==============================] - 22s 57ms/step - loss: 1.1714 - accuracy: 0.5864 - val_loss: 1.1766 - val_accuracy: 0.5833\n",
      "Epoch 43/200\n",
      "391/391 [==============================] - 20s 52ms/step - loss: 1.1663 - accuracy: 0.5902 - val_loss: 1.1817 - val_accuracy: 0.5780\n",
      "Epoch 44/200\n",
      "388/391 [============================>.] - ETA: 0s - loss: 1.1521 - accuracy: 0.5928"
     ]
    },
    {
     "name": "stderr",
     "output_type": "stream",
     "text": [
      "WARNING:absl:Found untraced functions such as _jit_compiled_convolution_op, _jit_compiled_convolution_op, _jit_compiled_convolution_op, _jit_compiled_convolution_op while saving (showing 4 of 4). These functions will not be directly callable after loading.\n"
     ]
    },
    {
     "name": "stdout",
     "output_type": "stream",
     "text": [
      "INFO:tensorflow:Assets written to: /root/jupyter/IHC/gain_proj/wandb/run-20230421_233553-vb6akp5o/files/model-best/assets\n"
     ]
    },
    {
     "name": "stderr",
     "output_type": "stream",
     "text": [
      "INFO:tensorflow:Assets written to: /root/jupyter/IHC/gain_proj/wandb/run-20230421_233553-vb6akp5o/files/model-best/assets\n",
      "\u001b[34m\u001b[1mwandb\u001b[0m: Adding directory to artifact (/root/jupyter/IHC/gain_proj/wandb/run-20230421_233553-vb6akp5o/files/model-best)... Done. 0.0s\n"
     ]
    },
    {
     "name": "stdout",
     "output_type": "stream",
     "text": [
      "391/391 [==============================] - 23s 60ms/step - loss: 1.1524 - accuracy: 0.5928 - val_loss: 1.1663 - val_accuracy: 0.5840\n",
      "Epoch 45/200\n",
      "391/391 [==============================] - ETA: 0s - loss: 1.1437 - accuracy: 0.5986"
     ]
    },
    {
     "name": "stderr",
     "output_type": "stream",
     "text": [
      "WARNING:absl:Found untraced functions such as _jit_compiled_convolution_op, _jit_compiled_convolution_op, _jit_compiled_convolution_op, _jit_compiled_convolution_op while saving (showing 4 of 4). These functions will not be directly callable after loading.\n"
     ]
    },
    {
     "name": "stdout",
     "output_type": "stream",
     "text": [
      "INFO:tensorflow:Assets written to: /root/jupyter/IHC/gain_proj/wandb/run-20230421_233553-vb6akp5o/files/model-best/assets\n"
     ]
    },
    {
     "name": "stderr",
     "output_type": "stream",
     "text": [
      "INFO:tensorflow:Assets written to: /root/jupyter/IHC/gain_proj/wandb/run-20230421_233553-vb6akp5o/files/model-best/assets\n",
      "\u001b[34m\u001b[1mwandb\u001b[0m: Adding directory to artifact (/root/jupyter/IHC/gain_proj/wandb/run-20230421_233553-vb6akp5o/files/model-best)... Done. 0.0s\n"
     ]
    },
    {
     "name": "stdout",
     "output_type": "stream",
     "text": [
      "391/391 [==============================] - 24s 62ms/step - loss: 1.1437 - accuracy: 0.5986 - val_loss: 1.1602 - val_accuracy: 0.5918\n",
      "Epoch 46/200\n",
      "391/391 [==============================] - ETA: 0s - loss: 1.1381 - accuracy: 0.6021"
     ]
    },
    {
     "name": "stderr",
     "output_type": "stream",
     "text": [
      "WARNING:absl:Found untraced functions such as _jit_compiled_convolution_op, _jit_compiled_convolution_op, _jit_compiled_convolution_op, _jit_compiled_convolution_op while saving (showing 4 of 4). These functions will not be directly callable after loading.\n"
     ]
    },
    {
     "name": "stdout",
     "output_type": "stream",
     "text": [
      "INFO:tensorflow:Assets written to: /root/jupyter/IHC/gain_proj/wandb/run-20230421_233553-vb6akp5o/files/model-best/assets\n"
     ]
    },
    {
     "name": "stderr",
     "output_type": "stream",
     "text": [
      "INFO:tensorflow:Assets written to: /root/jupyter/IHC/gain_proj/wandb/run-20230421_233553-vb6akp5o/files/model-best/assets\n",
      "\u001b[34m\u001b[1mwandb\u001b[0m: Adding directory to artifact (/root/jupyter/IHC/gain_proj/wandb/run-20230421_233553-vb6akp5o/files/model-best)... Done. 0.0s\n"
     ]
    },
    {
     "name": "stdout",
     "output_type": "stream",
     "text": [
      "391/391 [==============================] - 23s 59ms/step - loss: 1.1381 - accuracy: 0.6021 - val_loss: 1.1514 - val_accuracy: 0.5951\n",
      "Epoch 47/200\n",
      "391/391 [==============================] - 20s 52ms/step - loss: 1.1335 - accuracy: 0.6027 - val_loss: 1.1548 - val_accuracy: 0.5869\n",
      "Epoch 48/200\n",
      "391/391 [==============================] - 21s 53ms/step - loss: 1.1231 - accuracy: 0.6044 - val_loss: 1.1391 - val_accuracy: 0.5914\n",
      "Epoch 49/200\n",
      "389/391 [============================>.] - ETA: 0s - loss: 1.1142 - accuracy: 0.6093"
     ]
    },
    {
     "name": "stderr",
     "output_type": "stream",
     "text": [
      "WARNING:absl:Found untraced functions such as _jit_compiled_convolution_op, _jit_compiled_convolution_op, _jit_compiled_convolution_op, _jit_compiled_convolution_op while saving (showing 4 of 4). These functions will not be directly callable after loading.\n"
     ]
    },
    {
     "name": "stdout",
     "output_type": "stream",
     "text": [
      "INFO:tensorflow:Assets written to: /root/jupyter/IHC/gain_proj/wandb/run-20230421_233553-vb6akp5o/files/model-best/assets\n"
     ]
    },
    {
     "name": "stderr",
     "output_type": "stream",
     "text": [
      "INFO:tensorflow:Assets written to: /root/jupyter/IHC/gain_proj/wandb/run-20230421_233553-vb6akp5o/files/model-best/assets\n",
      "\u001b[34m\u001b[1mwandb\u001b[0m: Adding directory to artifact (/root/jupyter/IHC/gain_proj/wandb/run-20230421_233553-vb6akp5o/files/model-best)... Done. 0.0s\n"
     ]
    },
    {
     "name": "stdout",
     "output_type": "stream",
     "text": [
      "391/391 [==============================] - 22s 56ms/step - loss: 1.1146 - accuracy: 0.6092 - val_loss: 1.1322 - val_accuracy: 0.5973\n",
      "Epoch 50/200\n",
      "389/391 [============================>.] - ETA: 0s - loss: 1.1046 - accuracy: 0.6123"
     ]
    },
    {
     "name": "stderr",
     "output_type": "stream",
     "text": [
      "WARNING:absl:Found untraced functions such as _jit_compiled_convolution_op, _jit_compiled_convolution_op, _jit_compiled_convolution_op, _jit_compiled_convolution_op while saving (showing 4 of 4). These functions will not be directly callable after loading.\n"
     ]
    },
    {
     "name": "stdout",
     "output_type": "stream",
     "text": [
      "INFO:tensorflow:Assets written to: /root/jupyter/IHC/gain_proj/wandb/run-20230421_233553-vb6akp5o/files/model-best/assets\n"
     ]
    },
    {
     "name": "stderr",
     "output_type": "stream",
     "text": [
      "INFO:tensorflow:Assets written to: /root/jupyter/IHC/gain_proj/wandb/run-20230421_233553-vb6akp5o/files/model-best/assets\n",
      "\u001b[34m\u001b[1mwandb\u001b[0m: Adding directory to artifact (/root/jupyter/IHC/gain_proj/wandb/run-20230421_233553-vb6akp5o/files/model-best)... Done. 0.0s\n"
     ]
    },
    {
     "name": "stdout",
     "output_type": "stream",
     "text": [
      "391/391 [==============================] - 22s 57ms/step - loss: 1.1045 - accuracy: 0.6123 - val_loss: 1.1313 - val_accuracy: 0.5976\n",
      "Epoch 51/200\n",
      "391/391 [==============================] - 21s 52ms/step - loss: 1.1005 - accuracy: 0.6142 - val_loss: 1.1385 - val_accuracy: 0.5956\n",
      "Epoch 52/200\n",
      "389/391 [============================>.] - ETA: 0s - loss: 1.0904 - accuracy: 0.6170"
     ]
    },
    {
     "name": "stderr",
     "output_type": "stream",
     "text": [
      "WARNING:absl:Found untraced functions such as _jit_compiled_convolution_op, _jit_compiled_convolution_op, _jit_compiled_convolution_op, _jit_compiled_convolution_op while saving (showing 4 of 4). These functions will not be directly callable after loading.\n"
     ]
    },
    {
     "name": "stdout",
     "output_type": "stream",
     "text": [
      "INFO:tensorflow:Assets written to: /root/jupyter/IHC/gain_proj/wandb/run-20230421_233553-vb6akp5o/files/model-best/assets\n"
     ]
    },
    {
     "name": "stderr",
     "output_type": "stream",
     "text": [
      "INFO:tensorflow:Assets written to: /root/jupyter/IHC/gain_proj/wandb/run-20230421_233553-vb6akp5o/files/model-best/assets\n",
      "\u001b[34m\u001b[1mwandb\u001b[0m: Adding directory to artifact (/root/jupyter/IHC/gain_proj/wandb/run-20230421_233553-vb6akp5o/files/model-best)... Done. 0.0s\n"
     ]
    },
    {
     "name": "stdout",
     "output_type": "stream",
     "text": [
      "391/391 [==============================] - 22s 56ms/step - loss: 1.0902 - accuracy: 0.6171 - val_loss: 1.1095 - val_accuracy: 0.6065\n",
      "Epoch 53/200\n",
      "391/391 [==============================] - 20s 52ms/step - loss: 1.0835 - accuracy: 0.6191 - val_loss: 1.1176 - val_accuracy: 0.6049\n",
      "Epoch 54/200\n",
      "388/391 [============================>.] - ETA: 0s - loss: 1.0786 - accuracy: 0.6225"
     ]
    },
    {
     "name": "stderr",
     "output_type": "stream",
     "text": [
      "WARNING:absl:Found untraced functions such as _jit_compiled_convolution_op, _jit_compiled_convolution_op, _jit_compiled_convolution_op, _jit_compiled_convolution_op while saving (showing 4 of 4). These functions will not be directly callable after loading.\n"
     ]
    },
    {
     "name": "stdout",
     "output_type": "stream",
     "text": [
      "INFO:tensorflow:Assets written to: /root/jupyter/IHC/gain_proj/wandb/run-20230421_233553-vb6akp5o/files/model-best/assets\n"
     ]
    },
    {
     "name": "stderr",
     "output_type": "stream",
     "text": [
      "INFO:tensorflow:Assets written to: /root/jupyter/IHC/gain_proj/wandb/run-20230421_233553-vb6akp5o/files/model-best/assets\n",
      "\u001b[34m\u001b[1mwandb\u001b[0m: Adding directory to artifact (/root/jupyter/IHC/gain_proj/wandb/run-20230421_233553-vb6akp5o/files/model-best)... Done. 0.0s\n"
     ]
    },
    {
     "name": "stdout",
     "output_type": "stream",
     "text": [
      "391/391 [==============================] - 22s 56ms/step - loss: 1.0784 - accuracy: 0.6223 - val_loss: 1.0959 - val_accuracy: 0.6126\n",
      "Epoch 55/200\n",
      "391/391 [==============================] - ETA: 0s - loss: 1.0696 - accuracy: 0.6234"
     ]
    },
    {
     "name": "stderr",
     "output_type": "stream",
     "text": [
      "WARNING:absl:Found untraced functions such as _jit_compiled_convolution_op, _jit_compiled_convolution_op, _jit_compiled_convolution_op, _jit_compiled_convolution_op while saving (showing 4 of 4). These functions will not be directly callable after loading.\n"
     ]
    },
    {
     "name": "stdout",
     "output_type": "stream",
     "text": [
      "INFO:tensorflow:Assets written to: /root/jupyter/IHC/gain_proj/wandb/run-20230421_233553-vb6akp5o/files/model-best/assets\n"
     ]
    },
    {
     "name": "stderr",
     "output_type": "stream",
     "text": [
      "INFO:tensorflow:Assets written to: /root/jupyter/IHC/gain_proj/wandb/run-20230421_233553-vb6akp5o/files/model-best/assets\n",
      "\u001b[34m\u001b[1mwandb\u001b[0m: Adding directory to artifact (/root/jupyter/IHC/gain_proj/wandb/run-20230421_233553-vb6akp5o/files/model-best)... Done. 0.0s\n"
     ]
    },
    {
     "name": "stdout",
     "output_type": "stream",
     "text": [
      "391/391 [==============================] - 22s 57ms/step - loss: 1.0696 - accuracy: 0.6234 - val_loss: 1.0912 - val_accuracy: 0.6143\n",
      "Epoch 56/200\n",
      "387/391 [============================>.] - ETA: 0s - loss: 1.0603 - accuracy: 0.6267"
     ]
    },
    {
     "name": "stderr",
     "output_type": "stream",
     "text": [
      "WARNING:absl:Found untraced functions such as _jit_compiled_convolution_op, _jit_compiled_convolution_op, _jit_compiled_convolution_op, _jit_compiled_convolution_op while saving (showing 4 of 4). These functions will not be directly callable after loading.\n"
     ]
    },
    {
     "name": "stdout",
     "output_type": "stream",
     "text": [
      "INFO:tensorflow:Assets written to: /root/jupyter/IHC/gain_proj/wandb/run-20230421_233553-vb6akp5o/files/model-best/assets\n"
     ]
    },
    {
     "name": "stderr",
     "output_type": "stream",
     "text": [
      "INFO:tensorflow:Assets written to: /root/jupyter/IHC/gain_proj/wandb/run-20230421_233553-vb6akp5o/files/model-best/assets\n",
      "\u001b[34m\u001b[1mwandb\u001b[0m: Adding directory to artifact (/root/jupyter/IHC/gain_proj/wandb/run-20230421_233553-vb6akp5o/files/model-best)... Done. 0.0s\n"
     ]
    },
    {
     "name": "stdout",
     "output_type": "stream",
     "text": [
      "391/391 [==============================] - 22s 56ms/step - loss: 1.0605 - accuracy: 0.6264 - val_loss: 1.0862 - val_accuracy: 0.6174\n",
      "Epoch 57/200\n",
      "389/391 [============================>.] - ETA: 0s - loss: 1.0579 - accuracy: 0.6307"
     ]
    },
    {
     "name": "stderr",
     "output_type": "stream",
     "text": [
      "WARNING:absl:Found untraced functions such as _jit_compiled_convolution_op, _jit_compiled_convolution_op, _jit_compiled_convolution_op, _jit_compiled_convolution_op while saving (showing 4 of 4). These functions will not be directly callable after loading.\n"
     ]
    },
    {
     "name": "stdout",
     "output_type": "stream",
     "text": [
      "INFO:tensorflow:Assets written to: /root/jupyter/IHC/gain_proj/wandb/run-20230421_233553-vb6akp5o/files/model-best/assets\n"
     ]
    },
    {
     "name": "stderr",
     "output_type": "stream",
     "text": [
      "INFO:tensorflow:Assets written to: /root/jupyter/IHC/gain_proj/wandb/run-20230421_233553-vb6akp5o/files/model-best/assets\n",
      "\u001b[34m\u001b[1mwandb\u001b[0m: Adding directory to artifact (/root/jupyter/IHC/gain_proj/wandb/run-20230421_233553-vb6akp5o/files/model-best)... Done. 0.0s\n"
     ]
    },
    {
     "name": "stdout",
     "output_type": "stream",
     "text": [
      "391/391 [==============================] - 23s 59ms/step - loss: 1.0577 - accuracy: 0.6308 - val_loss: 1.0804 - val_accuracy: 0.6179\n",
      "Epoch 58/200\n",
      "391/391 [==============================] - 20s 52ms/step - loss: 1.0501 - accuracy: 0.6319 - val_loss: 1.0792 - val_accuracy: 0.6178\n",
      "Epoch 59/200\n",
      "391/391 [==============================] - ETA: 0s - loss: 1.0428 - accuracy: 0.6343"
     ]
    },
    {
     "name": "stderr",
     "output_type": "stream",
     "text": [
      "WARNING:absl:Found untraced functions such as _jit_compiled_convolution_op, _jit_compiled_convolution_op, _jit_compiled_convolution_op, _jit_compiled_convolution_op while saving (showing 4 of 4). These functions will not be directly callable after loading.\n"
     ]
    },
    {
     "name": "stdout",
     "output_type": "stream",
     "text": [
      "INFO:tensorflow:Assets written to: /root/jupyter/IHC/gain_proj/wandb/run-20230421_233553-vb6akp5o/files/model-best/assets\n"
     ]
    },
    {
     "name": "stderr",
     "output_type": "stream",
     "text": [
      "INFO:tensorflow:Assets written to: /root/jupyter/IHC/gain_proj/wandb/run-20230421_233553-vb6akp5o/files/model-best/assets\n",
      "\u001b[34m\u001b[1mwandb\u001b[0m: Adding directory to artifact (/root/jupyter/IHC/gain_proj/wandb/run-20230421_233553-vb6akp5o/files/model-best)... Done. 0.0s\n"
     ]
    },
    {
     "name": "stdout",
     "output_type": "stream",
     "text": [
      "391/391 [==============================] - 22s 56ms/step - loss: 1.0428 - accuracy: 0.6343 - val_loss: 1.0704 - val_accuracy: 0.6225\n",
      "Epoch 60/200\n",
      "387/391 [============================>.] - ETA: 0s - loss: 1.0381 - accuracy: 0.6347"
     ]
    },
    {
     "name": "stderr",
     "output_type": "stream",
     "text": [
      "WARNING:absl:Found untraced functions such as _jit_compiled_convolution_op, _jit_compiled_convolution_op, _jit_compiled_convolution_op, _jit_compiled_convolution_op while saving (showing 4 of 4). These functions will not be directly callable after loading.\n"
     ]
    },
    {
     "name": "stdout",
     "output_type": "stream",
     "text": [
      "INFO:tensorflow:Assets written to: /root/jupyter/IHC/gain_proj/wandb/run-20230421_233553-vb6akp5o/files/model-best/assets\n"
     ]
    },
    {
     "name": "stderr",
     "output_type": "stream",
     "text": [
      "INFO:tensorflow:Assets written to: /root/jupyter/IHC/gain_proj/wandb/run-20230421_233553-vb6akp5o/files/model-best/assets\n",
      "\u001b[34m\u001b[1mwandb\u001b[0m: Adding directory to artifact (/root/jupyter/IHC/gain_proj/wandb/run-20230421_233553-vb6akp5o/files/model-best)... Done. 0.0s\n"
     ]
    },
    {
     "name": "stdout",
     "output_type": "stream",
     "text": [
      "391/391 [==============================] - 22s 56ms/step - loss: 1.0380 - accuracy: 0.6347 - val_loss: 1.0639 - val_accuracy: 0.6258\n",
      "Epoch 61/200\n",
      "388/391 [============================>.] - ETA: 0s - loss: 1.0304 - accuracy: 0.6383"
     ]
    },
    {
     "name": "stderr",
     "output_type": "stream",
     "text": [
      "WARNING:absl:Found untraced functions such as _jit_compiled_convolution_op, _jit_compiled_convolution_op, _jit_compiled_convolution_op, _jit_compiled_convolution_op while saving (showing 4 of 4). These functions will not be directly callable after loading.\n"
     ]
    },
    {
     "name": "stdout",
     "output_type": "stream",
     "text": [
      "INFO:tensorflow:Assets written to: /root/jupyter/IHC/gain_proj/wandb/run-20230421_233553-vb6akp5o/files/model-best/assets\n"
     ]
    },
    {
     "name": "stderr",
     "output_type": "stream",
     "text": [
      "INFO:tensorflow:Assets written to: /root/jupyter/IHC/gain_proj/wandb/run-20230421_233553-vb6akp5o/files/model-best/assets\n",
      "\u001b[34m\u001b[1mwandb\u001b[0m: Adding directory to artifact (/root/jupyter/IHC/gain_proj/wandb/run-20230421_233553-vb6akp5o/files/model-best)... Done. 0.0s\n"
     ]
    },
    {
     "name": "stdout",
     "output_type": "stream",
     "text": [
      "391/391 [==============================] - 22s 57ms/step - loss: 1.0311 - accuracy: 0.6380 - val_loss: 1.0608 - val_accuracy: 0.6302\n",
      "Epoch 62/200\n",
      "391/391 [==============================] - 20s 51ms/step - loss: 1.0228 - accuracy: 0.6427 - val_loss: 1.0566 - val_accuracy: 0.6296\n",
      "Epoch 63/200\n",
      "388/391 [============================>.] - ETA: 0s - loss: 1.0182 - accuracy: 0.6442"
     ]
    },
    {
     "name": "stderr",
     "output_type": "stream",
     "text": [
      "WARNING:absl:Found untraced functions such as _jit_compiled_convolution_op, _jit_compiled_convolution_op, _jit_compiled_convolution_op, _jit_compiled_convolution_op while saving (showing 4 of 4). These functions will not be directly callable after loading.\n"
     ]
    },
    {
     "name": "stdout",
     "output_type": "stream",
     "text": [
      "INFO:tensorflow:Assets written to: /root/jupyter/IHC/gain_proj/wandb/run-20230421_233553-vb6akp5o/files/model-best/assets\n"
     ]
    },
    {
     "name": "stderr",
     "output_type": "stream",
     "text": [
      "INFO:tensorflow:Assets written to: /root/jupyter/IHC/gain_proj/wandb/run-20230421_233553-vb6akp5o/files/model-best/assets\n",
      "\u001b[34m\u001b[1mwandb\u001b[0m: Adding directory to artifact (/root/jupyter/IHC/gain_proj/wandb/run-20230421_233553-vb6akp5o/files/model-best)... Done. 0.0s\n"
     ]
    },
    {
     "name": "stdout",
     "output_type": "stream",
     "text": [
      "391/391 [==============================] - 22s 56ms/step - loss: 1.0188 - accuracy: 0.6442 - val_loss: 1.0562 - val_accuracy: 0.6303\n",
      "Epoch 64/200\n",
      "391/391 [==============================] - 21s 53ms/step - loss: 1.0167 - accuracy: 0.6430 - val_loss: 1.0543 - val_accuracy: 0.6290\n",
      "Epoch 65/200\n",
      "391/391 [==============================] - ETA: 0s - loss: 1.0082 - accuracy: 0.6459"
     ]
    },
    {
     "name": "stderr",
     "output_type": "stream",
     "text": [
      "WARNING:absl:Found untraced functions such as _jit_compiled_convolution_op, _jit_compiled_convolution_op, _jit_compiled_convolution_op, _jit_compiled_convolution_op while saving (showing 4 of 4). These functions will not be directly callable after loading.\n"
     ]
    },
    {
     "name": "stdout",
     "output_type": "stream",
     "text": [
      "INFO:tensorflow:Assets written to: /root/jupyter/IHC/gain_proj/wandb/run-20230421_233553-vb6akp5o/files/model-best/assets\n"
     ]
    },
    {
     "name": "stderr",
     "output_type": "stream",
     "text": [
      "INFO:tensorflow:Assets written to: /root/jupyter/IHC/gain_proj/wandb/run-20230421_233553-vb6akp5o/files/model-best/assets\n",
      "\u001b[34m\u001b[1mwandb\u001b[0m: Adding directory to artifact (/root/jupyter/IHC/gain_proj/wandb/run-20230421_233553-vb6akp5o/files/model-best)... Done. 0.0s\n"
     ]
    },
    {
     "name": "stdout",
     "output_type": "stream",
     "text": [
      "391/391 [==============================] - 23s 58ms/step - loss: 1.0082 - accuracy: 0.6459 - val_loss: 1.0438 - val_accuracy: 0.6358\n",
      "Epoch 66/200\n",
      "389/391 [============================>.] - ETA: 0s - loss: 1.0039 - accuracy: 0.6487"
     ]
    },
    {
     "name": "stderr",
     "output_type": "stream",
     "text": [
      "WARNING:absl:Found untraced functions such as _jit_compiled_convolution_op, _jit_compiled_convolution_op, _jit_compiled_convolution_op, _jit_compiled_convolution_op while saving (showing 4 of 4). These functions will not be directly callable after loading.\n"
     ]
    },
    {
     "name": "stdout",
     "output_type": "stream",
     "text": [
      "INFO:tensorflow:Assets written to: /root/jupyter/IHC/gain_proj/wandb/run-20230421_233553-vb6akp5o/files/model-best/assets\n"
     ]
    },
    {
     "name": "stderr",
     "output_type": "stream",
     "text": [
      "INFO:tensorflow:Assets written to: /root/jupyter/IHC/gain_proj/wandb/run-20230421_233553-vb6akp5o/files/model-best/assets\n",
      "\u001b[34m\u001b[1mwandb\u001b[0m: Adding directory to artifact (/root/jupyter/IHC/gain_proj/wandb/run-20230421_233553-vb6akp5o/files/model-best)... Done. 0.0s\n"
     ]
    },
    {
     "name": "stdout",
     "output_type": "stream",
     "text": [
      "391/391 [==============================] - 24s 60ms/step - loss: 1.0034 - accuracy: 0.6489 - val_loss: 1.0259 - val_accuracy: 0.6414\n",
      "Epoch 67/200\n",
      "391/391 [==============================] - 21s 52ms/step - loss: 0.9974 - accuracy: 0.6513 - val_loss: 1.0341 - val_accuracy: 0.6363\n",
      "Epoch 68/200\n",
      "391/391 [==============================] - 20s 51ms/step - loss: 0.9919 - accuracy: 0.6521 - val_loss: 1.0317 - val_accuracy: 0.6373\n",
      "Epoch 69/200\n",
      "391/391 [==============================] - 20s 51ms/step - loss: 0.9861 - accuracy: 0.6554 - val_loss: 1.0250 - val_accuracy: 0.6370\n",
      "Epoch 70/200\n",
      "391/391 [==============================] - 20s 52ms/step - loss: 0.9812 - accuracy: 0.6585 - val_loss: 1.0204 - val_accuracy: 0.6405\n",
      "Epoch 71/200\n",
      "391/391 [==============================] - 21s 53ms/step - loss: 0.9773 - accuracy: 0.6562 - val_loss: 1.0221 - val_accuracy: 0.6414\n",
      "Epoch 72/200\n",
      "391/391 [==============================] - ETA: 0s - loss: 0.9697 - accuracy: 0.6609"
     ]
    },
    {
     "name": "stderr",
     "output_type": "stream",
     "text": [
      "WARNING:absl:Found untraced functions such as _jit_compiled_convolution_op, _jit_compiled_convolution_op, _jit_compiled_convolution_op, _jit_compiled_convolution_op while saving (showing 4 of 4). These functions will not be directly callable after loading.\n"
     ]
    },
    {
     "name": "stdout",
     "output_type": "stream",
     "text": [
      "INFO:tensorflow:Assets written to: /root/jupyter/IHC/gain_proj/wandb/run-20230421_233553-vb6akp5o/files/model-best/assets\n"
     ]
    },
    {
     "name": "stderr",
     "output_type": "stream",
     "text": [
      "INFO:tensorflow:Assets written to: /root/jupyter/IHC/gain_proj/wandb/run-20230421_233553-vb6akp5o/files/model-best/assets\n",
      "\u001b[34m\u001b[1mwandb\u001b[0m: Adding directory to artifact (/root/jupyter/IHC/gain_proj/wandb/run-20230421_233553-vb6akp5o/files/model-best)... Done. 0.0s\n"
     ]
    },
    {
     "name": "stdout",
     "output_type": "stream",
     "text": [
      "391/391 [==============================] - 22s 56ms/step - loss: 0.9697 - accuracy: 0.6609 - val_loss: 1.0095 - val_accuracy: 0.6451\n",
      "Epoch 73/200\n",
      "391/391 [==============================] - 20s 51ms/step - loss: 0.9661 - accuracy: 0.6628 - val_loss: 1.0105 - val_accuracy: 0.6449\n",
      "Epoch 74/200\n",
      "388/391 [============================>.] - ETA: 0s - loss: 0.9561 - accuracy: 0.6644"
     ]
    },
    {
     "name": "stderr",
     "output_type": "stream",
     "text": [
      "WARNING:absl:Found untraced functions such as _jit_compiled_convolution_op, _jit_compiled_convolution_op, _jit_compiled_convolution_op, _jit_compiled_convolution_op while saving (showing 4 of 4). These functions will not be directly callable after loading.\n"
     ]
    },
    {
     "name": "stdout",
     "output_type": "stream",
     "text": [
      "INFO:tensorflow:Assets written to: /root/jupyter/IHC/gain_proj/wandb/run-20230421_233553-vb6akp5o/files/model-best/assets\n"
     ]
    },
    {
     "name": "stderr",
     "output_type": "stream",
     "text": [
      "INFO:tensorflow:Assets written to: /root/jupyter/IHC/gain_proj/wandb/run-20230421_233553-vb6akp5o/files/model-best/assets\n",
      "\u001b[34m\u001b[1mwandb\u001b[0m: Adding directory to artifact (/root/jupyter/IHC/gain_proj/wandb/run-20230421_233553-vb6akp5o/files/model-best)... Done. 0.0s\n"
     ]
    },
    {
     "name": "stdout",
     "output_type": "stream",
     "text": [
      "391/391 [==============================] - 22s 57ms/step - loss: 0.9558 - accuracy: 0.6643 - val_loss: 1.0029 - val_accuracy: 0.6518\n",
      "Epoch 75/200\n",
      "391/391 [==============================] - 20s 52ms/step - loss: 0.9552 - accuracy: 0.6671 - val_loss: 1.0123 - val_accuracy: 0.6427\n",
      "Epoch 76/200\n",
      "391/391 [==============================] - 20s 52ms/step - loss: 0.9534 - accuracy: 0.6655 - val_loss: 1.0068 - val_accuracy: 0.6454\n",
      "Epoch 77/200\n",
      "391/391 [==============================] - 21s 53ms/step - loss: 0.9442 - accuracy: 0.6707 - val_loss: 0.9981 - val_accuracy: 0.6480\n",
      "Epoch 78/200\n",
      "391/391 [==============================] - 20s 52ms/step - loss: 0.9413 - accuracy: 0.6708 - val_loss: 1.0010 - val_accuracy: 0.6478\n",
      "Epoch 79/200\n",
      "390/391 [============================>.] - ETA: 0s - loss: 0.9339 - accuracy: 0.6718"
     ]
    },
    {
     "name": "stderr",
     "output_type": "stream",
     "text": [
      "WARNING:absl:Found untraced functions such as _jit_compiled_convolution_op, _jit_compiled_convolution_op, _jit_compiled_convolution_op, _jit_compiled_convolution_op while saving (showing 4 of 4). These functions will not be directly callable after loading.\n"
     ]
    },
    {
     "name": "stdout",
     "output_type": "stream",
     "text": [
      "INFO:tensorflow:Assets written to: /root/jupyter/IHC/gain_proj/wandb/run-20230421_233553-vb6akp5o/files/model-best/assets\n"
     ]
    },
    {
     "name": "stderr",
     "output_type": "stream",
     "text": [
      "INFO:tensorflow:Assets written to: /root/jupyter/IHC/gain_proj/wandb/run-20230421_233553-vb6akp5o/files/model-best/assets\n",
      "\u001b[34m\u001b[1mwandb\u001b[0m: Adding directory to artifact (/root/jupyter/IHC/gain_proj/wandb/run-20230421_233553-vb6akp5o/files/model-best)... Done. 0.0s\n"
     ]
    },
    {
     "name": "stdout",
     "output_type": "stream",
     "text": [
      "391/391 [==============================] - 22s 57ms/step - loss: 0.9343 - accuracy: 0.6718 - val_loss: 0.9867 - val_accuracy: 0.6532\n",
      "Epoch 80/200\n",
      "391/391 [==============================] - ETA: 0s - loss: 0.9295 - accuracy: 0.6747"
     ]
    },
    {
     "name": "stderr",
     "output_type": "stream",
     "text": [
      "WARNING:absl:Found untraced functions such as _jit_compiled_convolution_op, _jit_compiled_convolution_op, _jit_compiled_convolution_op, _jit_compiled_convolution_op while saving (showing 4 of 4). These functions will not be directly callable after loading.\n"
     ]
    },
    {
     "name": "stdout",
     "output_type": "stream",
     "text": [
      "INFO:tensorflow:Assets written to: /root/jupyter/IHC/gain_proj/wandb/run-20230421_233553-vb6akp5o/files/model-best/assets\n"
     ]
    },
    {
     "name": "stderr",
     "output_type": "stream",
     "text": [
      "INFO:tensorflow:Assets written to: /root/jupyter/IHC/gain_proj/wandb/run-20230421_233553-vb6akp5o/files/model-best/assets\n",
      "\u001b[34m\u001b[1mwandb\u001b[0m: Adding directory to artifact (/root/jupyter/IHC/gain_proj/wandb/run-20230421_233553-vb6akp5o/files/model-best)... Done. 0.0s\n"
     ]
    },
    {
     "name": "stdout",
     "output_type": "stream",
     "text": [
      "391/391 [==============================] - 22s 57ms/step - loss: 0.9295 - accuracy: 0.6747 - val_loss: 0.9783 - val_accuracy: 0.6558\n",
      "Epoch 81/200\n",
      "391/391 [==============================] - 21s 52ms/step - loss: 0.9281 - accuracy: 0.6761 - val_loss: 0.9930 - val_accuracy: 0.6512\n",
      "Epoch 82/200\n",
      "391/391 [==============================] - 20s 52ms/step - loss: 0.9248 - accuracy: 0.6778 - val_loss: 0.9849 - val_accuracy: 0.6541\n",
      "Epoch 83/200\n",
      "388/391 [============================>.] - ETA: 0s - loss: 0.9196 - accuracy: 0.6793"
     ]
    },
    {
     "name": "stderr",
     "output_type": "stream",
     "text": [
      "WARNING:absl:Found untraced functions such as _jit_compiled_convolution_op, _jit_compiled_convolution_op, _jit_compiled_convolution_op, _jit_compiled_convolution_op while saving (showing 4 of 4). These functions will not be directly callable after loading.\n"
     ]
    },
    {
     "name": "stdout",
     "output_type": "stream",
     "text": [
      "INFO:tensorflow:Assets written to: /root/jupyter/IHC/gain_proj/wandb/run-20230421_233553-vb6akp5o/files/model-best/assets\n"
     ]
    },
    {
     "name": "stderr",
     "output_type": "stream",
     "text": [
      "INFO:tensorflow:Assets written to: /root/jupyter/IHC/gain_proj/wandb/run-20230421_233553-vb6akp5o/files/model-best/assets\n",
      "\u001b[34m\u001b[1mwandb\u001b[0m: Adding directory to artifact (/root/jupyter/IHC/gain_proj/wandb/run-20230421_233553-vb6akp5o/files/model-best)... Done. 0.0s\n"
     ]
    },
    {
     "name": "stdout",
     "output_type": "stream",
     "text": [
      "391/391 [==============================] - 22s 56ms/step - loss: 0.9195 - accuracy: 0.6795 - val_loss: 0.9764 - val_accuracy: 0.6561\n",
      "Epoch 84/200\n",
      "391/391 [==============================] - 21s 53ms/step - loss: 0.9130 - accuracy: 0.6789 - val_loss: 0.9760 - val_accuracy: 0.6559\n",
      "Epoch 85/200\n",
      "389/391 [============================>.] - ETA: 0s - loss: 0.9062 - accuracy: 0.6816"
     ]
    },
    {
     "name": "stderr",
     "output_type": "stream",
     "text": [
      "WARNING:absl:Found untraced functions such as _jit_compiled_convolution_op, _jit_compiled_convolution_op, _jit_compiled_convolution_op, _jit_compiled_convolution_op while saving (showing 4 of 4). These functions will not be directly callable after loading.\n"
     ]
    },
    {
     "name": "stdout",
     "output_type": "stream",
     "text": [
      "INFO:tensorflow:Assets written to: /root/jupyter/IHC/gain_proj/wandb/run-20230421_233553-vb6akp5o/files/model-best/assets\n"
     ]
    },
    {
     "name": "stderr",
     "output_type": "stream",
     "text": [
      "INFO:tensorflow:Assets written to: /root/jupyter/IHC/gain_proj/wandb/run-20230421_233553-vb6akp5o/files/model-best/assets\n",
      "\u001b[34m\u001b[1mwandb\u001b[0m: Adding directory to artifact (/root/jupyter/IHC/gain_proj/wandb/run-20230421_233553-vb6akp5o/files/model-best)... Done. 0.0s\n"
     ]
    },
    {
     "name": "stdout",
     "output_type": "stream",
     "text": [
      "391/391 [==============================] - 22s 56ms/step - loss: 0.9064 - accuracy: 0.6814 - val_loss: 0.9772 - val_accuracy: 0.6588\n",
      "Epoch 86/200\n",
      "388/391 [============================>.] - ETA: 0s - loss: 0.9043 - accuracy: 0.6831"
     ]
    },
    {
     "name": "stderr",
     "output_type": "stream",
     "text": [
      "WARNING:absl:Found untraced functions such as _jit_compiled_convolution_op, _jit_compiled_convolution_op, _jit_compiled_convolution_op, _jit_compiled_convolution_op while saving (showing 4 of 4). These functions will not be directly callable after loading.\n"
     ]
    },
    {
     "name": "stdout",
     "output_type": "stream",
     "text": [
      "INFO:tensorflow:Assets written to: /root/jupyter/IHC/gain_proj/wandb/run-20230421_233553-vb6akp5o/files/model-best/assets\n"
     ]
    },
    {
     "name": "stderr",
     "output_type": "stream",
     "text": [
      "INFO:tensorflow:Assets written to: /root/jupyter/IHC/gain_proj/wandb/run-20230421_233553-vb6akp5o/files/model-best/assets\n",
      "\u001b[34m\u001b[1mwandb\u001b[0m: Adding directory to artifact (/root/jupyter/IHC/gain_proj/wandb/run-20230421_233553-vb6akp5o/files/model-best)... Done. 0.0s\n"
     ]
    },
    {
     "name": "stdout",
     "output_type": "stream",
     "text": [
      "391/391 [==============================] - 22s 56ms/step - loss: 0.9051 - accuracy: 0.6826 - val_loss: 0.9619 - val_accuracy: 0.6647\n",
      "Epoch 87/200\n",
      "391/391 [==============================] - 21s 53ms/step - loss: 0.9014 - accuracy: 0.6836 - val_loss: 0.9722 - val_accuracy: 0.6625\n",
      "Epoch 88/200\n",
      "391/391 [==============================] - 20s 52ms/step - loss: 0.8978 - accuracy: 0.6851 - val_loss: 0.9575 - val_accuracy: 0.6644\n",
      "Epoch 89/200\n",
      "391/391 [==============================] - 20s 51ms/step - loss: 0.8965 - accuracy: 0.6873 - val_loss: 0.9594 - val_accuracy: 0.6627\n",
      "Epoch 90/200\n",
      "391/391 [==============================] - 20s 51ms/step - loss: 0.8891 - accuracy: 0.6890 - val_loss: 0.9602 - val_accuracy: 0.6623\n",
      "Epoch 91/200\n",
      "391/391 [==============================] - 21s 53ms/step - loss: 0.8873 - accuracy: 0.6898 - val_loss: 0.9550 - val_accuracy: 0.6630\n",
      "Epoch 92/200\n",
      "388/391 [============================>.] - ETA: 0s - loss: 0.8837 - accuracy: 0.6908"
     ]
    },
    {
     "name": "stderr",
     "output_type": "stream",
     "text": [
      "WARNING:absl:Found untraced functions such as _jit_compiled_convolution_op, _jit_compiled_convolution_op, _jit_compiled_convolution_op, _jit_compiled_convolution_op while saving (showing 4 of 4). These functions will not be directly callable after loading.\n"
     ]
    },
    {
     "name": "stdout",
     "output_type": "stream",
     "text": [
      "INFO:tensorflow:Assets written to: /root/jupyter/IHC/gain_proj/wandb/run-20230421_233553-vb6akp5o/files/model-best/assets\n"
     ]
    },
    {
     "name": "stderr",
     "output_type": "stream",
     "text": [
      "INFO:tensorflow:Assets written to: /root/jupyter/IHC/gain_proj/wandb/run-20230421_233553-vb6akp5o/files/model-best/assets\n",
      "\u001b[34m\u001b[1mwandb\u001b[0m: Adding directory to artifact (/root/jupyter/IHC/gain_proj/wandb/run-20230421_233553-vb6akp5o/files/model-best)... Done. 0.0s\n"
     ]
    },
    {
     "name": "stdout",
     "output_type": "stream",
     "text": [
      "391/391 [==============================] - 22s 56ms/step - loss: 0.8839 - accuracy: 0.6908 - val_loss: 0.9475 - val_accuracy: 0.6684\n",
      "Epoch 93/200\n",
      "389/391 [============================>.] - ETA: 0s - loss: 0.8792 - accuracy: 0.6934"
     ]
    },
    {
     "name": "stderr",
     "output_type": "stream",
     "text": [
      "WARNING:absl:Found untraced functions such as _jit_compiled_convolution_op, _jit_compiled_convolution_op, _jit_compiled_convolution_op, _jit_compiled_convolution_op while saving (showing 4 of 4). These functions will not be directly callable after loading.\n"
     ]
    },
    {
     "name": "stdout",
     "output_type": "stream",
     "text": [
      "INFO:tensorflow:Assets written to: /root/jupyter/IHC/gain_proj/wandb/run-20230421_233553-vb6akp5o/files/model-best/assets\n"
     ]
    },
    {
     "name": "stderr",
     "output_type": "stream",
     "text": [
      "INFO:tensorflow:Assets written to: /root/jupyter/IHC/gain_proj/wandb/run-20230421_233553-vb6akp5o/files/model-best/assets\n",
      "\u001b[34m\u001b[1mwandb\u001b[0m: Adding directory to artifact (/root/jupyter/IHC/gain_proj/wandb/run-20230421_233553-vb6akp5o/files/model-best)... Done. 0.0s\n"
     ]
    },
    {
     "name": "stdout",
     "output_type": "stream",
     "text": [
      "391/391 [==============================] - 22s 57ms/step - loss: 0.8786 - accuracy: 0.6936 - val_loss: 0.9433 - val_accuracy: 0.6707\n",
      "Epoch 94/200\n",
      "391/391 [==============================] - 20s 52ms/step - loss: 0.8693 - accuracy: 0.6958 - val_loss: 0.9457 - val_accuracy: 0.6694\n",
      "Epoch 95/200\n",
      "389/391 [============================>.] - ETA: 0s - loss: 0.8652 - accuracy: 0.6971"
     ]
    },
    {
     "name": "stderr",
     "output_type": "stream",
     "text": [
      "WARNING:absl:Found untraced functions such as _jit_compiled_convolution_op, _jit_compiled_convolution_op, _jit_compiled_convolution_op, _jit_compiled_convolution_op while saving (showing 4 of 4). These functions will not be directly callable after loading.\n"
     ]
    },
    {
     "name": "stdout",
     "output_type": "stream",
     "text": [
      "INFO:tensorflow:Assets written to: /root/jupyter/IHC/gain_proj/wandb/run-20230421_233553-vb6akp5o/files/model-best/assets\n"
     ]
    },
    {
     "name": "stderr",
     "output_type": "stream",
     "text": [
      "INFO:tensorflow:Assets written to: /root/jupyter/IHC/gain_proj/wandb/run-20230421_233553-vb6akp5o/files/model-best/assets\n",
      "\u001b[34m\u001b[1mwandb\u001b[0m: Adding directory to artifact (/root/jupyter/IHC/gain_proj/wandb/run-20230421_233553-vb6akp5o/files/model-best)... Done. 0.0s\n"
     ]
    },
    {
     "name": "stdout",
     "output_type": "stream",
     "text": [
      "391/391 [==============================] - 22s 57ms/step - loss: 0.8649 - accuracy: 0.6973 - val_loss: 0.9428 - val_accuracy: 0.6718\n",
      "Epoch 96/200\n",
      "391/391 [==============================] - 20s 51ms/step - loss: 0.8662 - accuracy: 0.6969 - val_loss: 0.9426 - val_accuracy: 0.6686\n",
      "Epoch 97/200\n",
      "391/391 [==============================] - 20s 52ms/step - loss: 0.8631 - accuracy: 0.6985 - val_loss: 0.9353 - val_accuracy: 0.6708\n",
      "Epoch 98/200\n",
      "391/391 [==============================] - 20s 52ms/step - loss: 0.8576 - accuracy: 0.6999 - val_loss: 0.9458 - val_accuracy: 0.6652\n",
      "Epoch 99/200\n",
      "391/391 [==============================] - 20s 52ms/step - loss: 0.8562 - accuracy: 0.7010 - val_loss: 0.9309 - val_accuracy: 0.6717\n",
      "Epoch 100/200\n",
      "391/391 [==============================] - 20s 52ms/step - loss: 0.8513 - accuracy: 0.7026 - val_loss: 0.9424 - val_accuracy: 0.6692\n",
      "Epoch 101/200\n",
      "388/391 [============================>.] - ETA: 0s - loss: 0.8507 - accuracy: 0.7022"
     ]
    },
    {
     "name": "stderr",
     "output_type": "stream",
     "text": [
      "WARNING:absl:Found untraced functions such as _jit_compiled_convolution_op, _jit_compiled_convolution_op, _jit_compiled_convolution_op, _jit_compiled_convolution_op while saving (showing 4 of 4). These functions will not be directly callable after loading.\n"
     ]
    },
    {
     "name": "stdout",
     "output_type": "stream",
     "text": [
      "INFO:tensorflow:Assets written to: /root/jupyter/IHC/gain_proj/wandb/run-20230421_233553-vb6akp5o/files/model-best/assets\n"
     ]
    },
    {
     "name": "stderr",
     "output_type": "stream",
     "text": [
      "INFO:tensorflow:Assets written to: /root/jupyter/IHC/gain_proj/wandb/run-20230421_233553-vb6akp5o/files/model-best/assets\n",
      "\u001b[34m\u001b[1mwandb\u001b[0m: Adding directory to artifact (/root/jupyter/IHC/gain_proj/wandb/run-20230421_233553-vb6akp5o/files/model-best)... Done. 0.0s\n"
     ]
    },
    {
     "name": "stdout",
     "output_type": "stream",
     "text": [
      "391/391 [==============================] - 23s 58ms/step - loss: 0.8504 - accuracy: 0.7023 - val_loss: 0.9401 - val_accuracy: 0.6720\n",
      "Epoch 102/200\n",
      "389/391 [============================>.] - ETA: 0s - loss: 0.8461 - accuracy: 0.7040"
     ]
    },
    {
     "name": "stderr",
     "output_type": "stream",
     "text": [
      "WARNING:absl:Found untraced functions such as _jit_compiled_convolution_op, _jit_compiled_convolution_op, _jit_compiled_convolution_op, _jit_compiled_convolution_op while saving (showing 4 of 4). These functions will not be directly callable after loading.\n"
     ]
    },
    {
     "name": "stdout",
     "output_type": "stream",
     "text": [
      "INFO:tensorflow:Assets written to: /root/jupyter/IHC/gain_proj/wandb/run-20230421_233553-vb6akp5o/files/model-best/assets\n"
     ]
    },
    {
     "name": "stderr",
     "output_type": "stream",
     "text": [
      "INFO:tensorflow:Assets written to: /root/jupyter/IHC/gain_proj/wandb/run-20230421_233553-vb6akp5o/files/model-best/assets\n",
      "\u001b[34m\u001b[1mwandb\u001b[0m: Adding directory to artifact (/root/jupyter/IHC/gain_proj/wandb/run-20230421_233553-vb6akp5o/files/model-best)... Done. 0.0s\n"
     ]
    },
    {
     "name": "stdout",
     "output_type": "stream",
     "text": [
      "391/391 [==============================] - 22s 56ms/step - loss: 0.8455 - accuracy: 0.7043 - val_loss: 0.9268 - val_accuracy: 0.6764\n",
      "Epoch 103/200\n",
      "391/391 [==============================] - 20s 52ms/step - loss: 0.8430 - accuracy: 0.7044 - val_loss: 0.9314 - val_accuracy: 0.6736\n",
      "Epoch 104/200\n",
      "391/391 [==============================] - 21s 53ms/step - loss: 0.8383 - accuracy: 0.7048 - val_loss: 0.9278 - val_accuracy: 0.6741\n",
      "Epoch 105/200\n",
      "388/391 [============================>.] - ETA: 0s - loss: 0.8378 - accuracy: 0.7069"
     ]
    },
    {
     "name": "stderr",
     "output_type": "stream",
     "text": [
      "WARNING:absl:Found untraced functions such as _jit_compiled_convolution_op, _jit_compiled_convolution_op, _jit_compiled_convolution_op, _jit_compiled_convolution_op while saving (showing 4 of 4). These functions will not be directly callable after loading.\n"
     ]
    },
    {
     "name": "stdout",
     "output_type": "stream",
     "text": [
      "INFO:tensorflow:Assets written to: /root/jupyter/IHC/gain_proj/wandb/run-20230421_233553-vb6akp5o/files/model-best/assets\n"
     ]
    },
    {
     "name": "stderr",
     "output_type": "stream",
     "text": [
      "INFO:tensorflow:Assets written to: /root/jupyter/IHC/gain_proj/wandb/run-20230421_233553-vb6akp5o/files/model-best/assets\n",
      "\u001b[34m\u001b[1mwandb\u001b[0m: Adding directory to artifact (/root/jupyter/IHC/gain_proj/wandb/run-20230421_233553-vb6akp5o/files/model-best)... Done. 0.0s\n"
     ]
    },
    {
     "name": "stdout",
     "output_type": "stream",
     "text": [
      "391/391 [==============================] - 22s 56ms/step - loss: 0.8377 - accuracy: 0.7070 - val_loss: 0.9182 - val_accuracy: 0.6776\n",
      "Epoch 106/200\n",
      "391/391 [==============================] - 20s 52ms/step - loss: 0.8285 - accuracy: 0.7104 - val_loss: 0.9279 - val_accuracy: 0.6733\n",
      "Epoch 107/200\n",
      "388/391 [============================>.] - ETA: 0s - loss: 0.8286 - accuracy: 0.7107"
     ]
    },
    {
     "name": "stderr",
     "output_type": "stream",
     "text": [
      "WARNING:absl:Found untraced functions such as _jit_compiled_convolution_op, _jit_compiled_convolution_op, _jit_compiled_convolution_op, _jit_compiled_convolution_op while saving (showing 4 of 4). These functions will not be directly callable after loading.\n"
     ]
    },
    {
     "name": "stdout",
     "output_type": "stream",
     "text": [
      "INFO:tensorflow:Assets written to: /root/jupyter/IHC/gain_proj/wandb/run-20230421_233553-vb6akp5o/files/model-best/assets\n"
     ]
    },
    {
     "name": "stderr",
     "output_type": "stream",
     "text": [
      "INFO:tensorflow:Assets written to: /root/jupyter/IHC/gain_proj/wandb/run-20230421_233553-vb6akp5o/files/model-best/assets\n",
      "\u001b[34m\u001b[1mwandb\u001b[0m: Adding directory to artifact (/root/jupyter/IHC/gain_proj/wandb/run-20230421_233553-vb6akp5o/files/model-best)... Done. 0.0s\n"
     ]
    },
    {
     "name": "stdout",
     "output_type": "stream",
     "text": [
      "391/391 [==============================] - 23s 58ms/step - loss: 0.8289 - accuracy: 0.7104 - val_loss: 0.9143 - val_accuracy: 0.6800\n",
      "Epoch 108/200\n",
      "391/391 [==============================] - ETA: 0s - loss: 0.8211 - accuracy: 0.7123"
     ]
    },
    {
     "name": "stderr",
     "output_type": "stream",
     "text": [
      "WARNING:absl:Found untraced functions such as _jit_compiled_convolution_op, _jit_compiled_convolution_op, _jit_compiled_convolution_op, _jit_compiled_convolution_op while saving (showing 4 of 4). These functions will not be directly callable after loading.\n"
     ]
    },
    {
     "name": "stdout",
     "output_type": "stream",
     "text": [
      "INFO:tensorflow:Assets written to: /root/jupyter/IHC/gain_proj/wandb/run-20230421_233553-vb6akp5o/files/model-best/assets\n"
     ]
    },
    {
     "name": "stderr",
     "output_type": "stream",
     "text": [
      "INFO:tensorflow:Assets written to: /root/jupyter/IHC/gain_proj/wandb/run-20230421_233553-vb6akp5o/files/model-best/assets\n",
      "\u001b[34m\u001b[1mwandb\u001b[0m: Adding directory to artifact (/root/jupyter/IHC/gain_proj/wandb/run-20230421_233553-vb6akp5o/files/model-best)... Done. 0.0s\n"
     ]
    },
    {
     "name": "stdout",
     "output_type": "stream",
     "text": [
      "391/391 [==============================] - 22s 56ms/step - loss: 0.8211 - accuracy: 0.7123 - val_loss: 0.9111 - val_accuracy: 0.6808\n",
      "Epoch 109/200\n",
      "391/391 [==============================] - ETA: 0s - loss: 0.8211 - accuracy: 0.7120"
     ]
    },
    {
     "name": "stderr",
     "output_type": "stream",
     "text": [
      "WARNING:absl:Found untraced functions such as _jit_compiled_convolution_op, _jit_compiled_convolution_op, _jit_compiled_convolution_op, _jit_compiled_convolution_op while saving (showing 4 of 4). These functions will not be directly callable after loading.\n"
     ]
    },
    {
     "name": "stdout",
     "output_type": "stream",
     "text": [
      "INFO:tensorflow:Assets written to: /root/jupyter/IHC/gain_proj/wandb/run-20230421_233553-vb6akp5o/files/model-best/assets\n"
     ]
    },
    {
     "name": "stderr",
     "output_type": "stream",
     "text": [
      "INFO:tensorflow:Assets written to: /root/jupyter/IHC/gain_proj/wandb/run-20230421_233553-vb6akp5o/files/model-best/assets\n",
      "\u001b[34m\u001b[1mwandb\u001b[0m: Adding directory to artifact (/root/jupyter/IHC/gain_proj/wandb/run-20230421_233553-vb6akp5o/files/model-best)... Done. 0.0s\n"
     ]
    },
    {
     "name": "stdout",
     "output_type": "stream",
     "text": [
      "391/391 [==============================] - 22s 56ms/step - loss: 0.8211 - accuracy: 0.7120 - val_loss: 0.9107 - val_accuracy: 0.6836\n",
      "Epoch 110/200\n",
      "391/391 [==============================] - 20s 51ms/step - loss: 0.8160 - accuracy: 0.7134 - val_loss: 0.9079 - val_accuracy: 0.6783\n",
      "Epoch 111/200\n",
      "391/391 [==============================] - 21s 53ms/step - loss: 0.8191 - accuracy: 0.7132 - val_loss: 0.9067 - val_accuracy: 0.6834\n",
      "Epoch 112/200\n",
      "391/391 [==============================] - 20s 52ms/step - loss: 0.8146 - accuracy: 0.7151 - val_loss: 0.9093 - val_accuracy: 0.6797\n",
      "Epoch 113/200\n",
      "391/391 [==============================] - 20s 51ms/step - loss: 0.8085 - accuracy: 0.7181 - val_loss: 0.9104 - val_accuracy: 0.6796\n",
      "Epoch 114/200\n",
      "391/391 [==============================] - 21s 52ms/step - loss: 0.8053 - accuracy: 0.7189 - val_loss: 0.9119 - val_accuracy: 0.6787\n",
      "Epoch 115/200\n",
      "389/391 [============================>.] - ETA: 0s - loss: 0.8046 - accuracy: 0.7169"
     ]
    },
    {
     "name": "stderr",
     "output_type": "stream",
     "text": [
      "WARNING:absl:Found untraced functions such as _jit_compiled_convolution_op, _jit_compiled_convolution_op, _jit_compiled_convolution_op, _jit_compiled_convolution_op while saving (showing 4 of 4). These functions will not be directly callable after loading.\n"
     ]
    },
    {
     "name": "stdout",
     "output_type": "stream",
     "text": [
      "INFO:tensorflow:Assets written to: /root/jupyter/IHC/gain_proj/wandb/run-20230421_233553-vb6akp5o/files/model-best/assets\n"
     ]
    },
    {
     "name": "stderr",
     "output_type": "stream",
     "text": [
      "INFO:tensorflow:Assets written to: /root/jupyter/IHC/gain_proj/wandb/run-20230421_233553-vb6akp5o/files/model-best/assets\n",
      "\u001b[34m\u001b[1mwandb\u001b[0m: Adding directory to artifact (/root/jupyter/IHC/gain_proj/wandb/run-20230421_233553-vb6akp5o/files/model-best)... Done. 0.0s\n"
     ]
    },
    {
     "name": "stdout",
     "output_type": "stream",
     "text": [
      "391/391 [==============================] - 22s 56ms/step - loss: 0.8048 - accuracy: 0.7169 - val_loss: 0.8954 - val_accuracy: 0.6861\n",
      "Epoch 116/200\n",
      "391/391 [==============================] - 20s 51ms/step - loss: 0.7974 - accuracy: 0.7209 - val_loss: 0.8998 - val_accuracy: 0.6826\n",
      "Epoch 117/200\n",
      "391/391 [==============================] - 20s 52ms/step - loss: 0.7968 - accuracy: 0.7209 - val_loss: 0.8960 - val_accuracy: 0.6834\n",
      "Epoch 118/200\n",
      "391/391 [==============================] - 21s 54ms/step - loss: 0.7921 - accuracy: 0.7237 - val_loss: 0.8951 - val_accuracy: 0.6857\n",
      "Epoch 119/200\n",
      "391/391 [==============================] - 20s 51ms/step - loss: 0.7912 - accuracy: 0.7222 - val_loss: 0.8993 - val_accuracy: 0.6823\n",
      "Epoch 120/200\n",
      "391/391 [==============================] - ETA: 0s - loss: 0.7922 - accuracy: 0.7205"
     ]
    },
    {
     "name": "stderr",
     "output_type": "stream",
     "text": [
      "WARNING:absl:Found untraced functions such as _jit_compiled_convolution_op, _jit_compiled_convolution_op, _jit_compiled_convolution_op, _jit_compiled_convolution_op while saving (showing 4 of 4). These functions will not be directly callable after loading.\n"
     ]
    },
    {
     "name": "stdout",
     "output_type": "stream",
     "text": [
      "INFO:tensorflow:Assets written to: /root/jupyter/IHC/gain_proj/wandb/run-20230421_233553-vb6akp5o/files/model-best/assets\n"
     ]
    },
    {
     "name": "stderr",
     "output_type": "stream",
     "text": [
      "INFO:tensorflow:Assets written to: /root/jupyter/IHC/gain_proj/wandb/run-20230421_233553-vb6akp5o/files/model-best/assets\n",
      "\u001b[34m\u001b[1mwandb\u001b[0m: Adding directory to artifact (/root/jupyter/IHC/gain_proj/wandb/run-20230421_233553-vb6akp5o/files/model-best)... Done. 0.0s\n"
     ]
    },
    {
     "name": "stdout",
     "output_type": "stream",
     "text": [
      "391/391 [==============================] - 22s 56ms/step - loss: 0.7922 - accuracy: 0.7205 - val_loss: 0.8906 - val_accuracy: 0.6881\n",
      "Epoch 121/200\n",
      "391/391 [==============================] - 21s 53ms/step - loss: 0.7873 - accuracy: 0.7230 - val_loss: 0.8981 - val_accuracy: 0.6827\n",
      "Epoch 122/200\n",
      "389/391 [============================>.] - ETA: 0s - loss: 0.7843 - accuracy: 0.7255"
     ]
    },
    {
     "name": "stderr",
     "output_type": "stream",
     "text": [
      "WARNING:absl:Found untraced functions such as _jit_compiled_convolution_op, _jit_compiled_convolution_op, _jit_compiled_convolution_op, _jit_compiled_convolution_op while saving (showing 4 of 4). These functions will not be directly callable after loading.\n"
     ]
    },
    {
     "name": "stdout",
     "output_type": "stream",
     "text": [
      "INFO:tensorflow:Assets written to: /root/jupyter/IHC/gain_proj/wandb/run-20230421_233553-vb6akp5o/files/model-best/assets\n"
     ]
    },
    {
     "name": "stderr",
     "output_type": "stream",
     "text": [
      "INFO:tensorflow:Assets written to: /root/jupyter/IHC/gain_proj/wandb/run-20230421_233553-vb6akp5o/files/model-best/assets\n",
      "\u001b[34m\u001b[1mwandb\u001b[0m: Adding directory to artifact (/root/jupyter/IHC/gain_proj/wandb/run-20230421_233553-vb6akp5o/files/model-best)... Done. 0.0s\n"
     ]
    },
    {
     "name": "stdout",
     "output_type": "stream",
     "text": [
      "391/391 [==============================] - 23s 58ms/step - loss: 0.7842 - accuracy: 0.7254 - val_loss: 0.8899 - val_accuracy: 0.6898\n",
      "Epoch 123/200\n",
      "391/391 [==============================] - 20s 51ms/step - loss: 0.7821 - accuracy: 0.7265 - val_loss: 0.8860 - val_accuracy: 0.6885\n",
      "Epoch 124/200\n",
      "391/391 [==============================] - 20s 52ms/step - loss: 0.7793 - accuracy: 0.7288 - val_loss: 0.8925 - val_accuracy: 0.6863\n",
      "Epoch 125/200\n",
      "389/391 [============================>.] - ETA: 0s - loss: 0.7721 - accuracy: 0.7299"
     ]
    },
    {
     "name": "stderr",
     "output_type": "stream",
     "text": [
      "WARNING:absl:Found untraced functions such as _jit_compiled_convolution_op, _jit_compiled_convolution_op, _jit_compiled_convolution_op, _jit_compiled_convolution_op while saving (showing 4 of 4). These functions will not be directly callable after loading.\n"
     ]
    },
    {
     "name": "stdout",
     "output_type": "stream",
     "text": [
      "INFO:tensorflow:Assets written to: /root/jupyter/IHC/gain_proj/wandb/run-20230421_233553-vb6akp5o/files/model-best/assets\n"
     ]
    },
    {
     "name": "stderr",
     "output_type": "stream",
     "text": [
      "INFO:tensorflow:Assets written to: /root/jupyter/IHC/gain_proj/wandb/run-20230421_233553-vb6akp5o/files/model-best/assets\n",
      "\u001b[34m\u001b[1mwandb\u001b[0m: Adding directory to artifact (/root/jupyter/IHC/gain_proj/wandb/run-20230421_233553-vb6akp5o/files/model-best)... Done. 0.0s\n"
     ]
    },
    {
     "name": "stdout",
     "output_type": "stream",
     "text": [
      "391/391 [==============================] - 22s 57ms/step - loss: 0.7720 - accuracy: 0.7299 - val_loss: 0.8861 - val_accuracy: 0.6915\n",
      "Epoch 126/200\n",
      "391/391 [==============================] - 20s 52ms/step - loss: 0.7758 - accuracy: 0.7285 - val_loss: 0.8875 - val_accuracy: 0.6868\n",
      "Epoch 127/200\n",
      "391/391 [==============================] - 20s 52ms/step - loss: 0.7697 - accuracy: 0.7311 - val_loss: 0.8813 - val_accuracy: 0.6911\n",
      "Epoch 128/200\n",
      "389/391 [============================>.] - ETA: 0s - loss: 0.7643 - accuracy: 0.7329"
     ]
    },
    {
     "name": "stderr",
     "output_type": "stream",
     "text": [
      "WARNING:absl:Found untraced functions such as _jit_compiled_convolution_op, _jit_compiled_convolution_op, _jit_compiled_convolution_op, _jit_compiled_convolution_op while saving (showing 4 of 4). These functions will not be directly callable after loading.\n"
     ]
    },
    {
     "name": "stdout",
     "output_type": "stream",
     "text": [
      "INFO:tensorflow:Assets written to: /root/jupyter/IHC/gain_proj/wandb/run-20230421_233553-vb6akp5o/files/model-best/assets\n"
     ]
    },
    {
     "name": "stderr",
     "output_type": "stream",
     "text": [
      "INFO:tensorflow:Assets written to: /root/jupyter/IHC/gain_proj/wandb/run-20230421_233553-vb6akp5o/files/model-best/assets\n",
      "\u001b[34m\u001b[1mwandb\u001b[0m: Adding directory to artifact (/root/jupyter/IHC/gain_proj/wandb/run-20230421_233553-vb6akp5o/files/model-best)... Done. 0.0s\n"
     ]
    },
    {
     "name": "stdout",
     "output_type": "stream",
     "text": [
      "391/391 [==============================] - 22s 57ms/step - loss: 0.7649 - accuracy: 0.7327 - val_loss: 0.8791 - val_accuracy: 0.6924\n",
      "Epoch 129/200\n",
      "391/391 [==============================] - 20s 52ms/step - loss: 0.7625 - accuracy: 0.7340 - val_loss: 0.8846 - val_accuracy: 0.6923\n",
      "Epoch 130/200\n",
      "391/391 [==============================] - 20s 51ms/step - loss: 0.7612 - accuracy: 0.7324 - val_loss: 0.8878 - val_accuracy: 0.6840\n",
      "Epoch 131/200\n",
      "391/391 [==============================] - 20s 52ms/step - loss: 0.7587 - accuracy: 0.7348 - val_loss: 0.8816 - val_accuracy: 0.6897\n",
      "Epoch 132/200\n",
      "391/391 [==============================] - 20s 52ms/step - loss: 0.7546 - accuracy: 0.7358 - val_loss: 0.8789 - val_accuracy: 0.6913\n",
      "Epoch 133/200\n",
      "389/391 [============================>.] - ETA: 0s - loss: 0.7529 - accuracy: 0.7356"
     ]
    },
    {
     "name": "stderr",
     "output_type": "stream",
     "text": [
      "WARNING:absl:Found untraced functions such as _jit_compiled_convolution_op, _jit_compiled_convolution_op, _jit_compiled_convolution_op, _jit_compiled_convolution_op while saving (showing 4 of 4). These functions will not be directly callable after loading.\n"
     ]
    },
    {
     "name": "stdout",
     "output_type": "stream",
     "text": [
      "INFO:tensorflow:Assets written to: /root/jupyter/IHC/gain_proj/wandb/run-20230421_233553-vb6akp5o/files/model-best/assets\n"
     ]
    },
    {
     "name": "stderr",
     "output_type": "stream",
     "text": [
      "INFO:tensorflow:Assets written to: /root/jupyter/IHC/gain_proj/wandb/run-20230421_233553-vb6akp5o/files/model-best/assets\n",
      "\u001b[34m\u001b[1mwandb\u001b[0m: Adding directory to artifact (/root/jupyter/IHC/gain_proj/wandb/run-20230421_233553-vb6akp5o/files/model-best)... Done. 0.0s\n"
     ]
    },
    {
     "name": "stdout",
     "output_type": "stream",
     "text": [
      "391/391 [==============================] - 22s 57ms/step - loss: 0.7521 - accuracy: 0.7358 - val_loss: 0.8834 - val_accuracy: 0.6925\n",
      "Epoch 134/200\n",
      "388/391 [============================>.] - ETA: 0s - loss: 0.7510 - accuracy: 0.7385"
     ]
    },
    {
     "name": "stderr",
     "output_type": "stream",
     "text": [
      "WARNING:absl:Found untraced functions such as _jit_compiled_convolution_op, _jit_compiled_convolution_op, _jit_compiled_convolution_op, _jit_compiled_convolution_op while saving (showing 4 of 4). These functions will not be directly callable after loading.\n"
     ]
    },
    {
     "name": "stdout",
     "output_type": "stream",
     "text": [
      "INFO:tensorflow:Assets written to: /root/jupyter/IHC/gain_proj/wandb/run-20230421_233553-vb6akp5o/files/model-best/assets\n"
     ]
    },
    {
     "name": "stderr",
     "output_type": "stream",
     "text": [
      "INFO:tensorflow:Assets written to: /root/jupyter/IHC/gain_proj/wandb/run-20230421_233553-vb6akp5o/files/model-best/assets\n",
      "\u001b[34m\u001b[1mwandb\u001b[0m: Adding directory to artifact (/root/jupyter/IHC/gain_proj/wandb/run-20230421_233553-vb6akp5o/files/model-best)... Done. 0.0s\n"
     ]
    },
    {
     "name": "stdout",
     "output_type": "stream",
     "text": [
      "391/391 [==============================] - 22s 57ms/step - loss: 0.7511 - accuracy: 0.7385 - val_loss: 0.8732 - val_accuracy: 0.6952\n",
      "Epoch 135/200\n",
      "390/391 [============================>.] - ETA: 0s - loss: 0.7508 - accuracy: 0.7368"
     ]
    },
    {
     "name": "stderr",
     "output_type": "stream",
     "text": [
      "WARNING:absl:Found untraced functions such as _jit_compiled_convolution_op, _jit_compiled_convolution_op, _jit_compiled_convolution_op, _jit_compiled_convolution_op while saving (showing 4 of 4). These functions will not be directly callable after loading.\n"
     ]
    },
    {
     "name": "stdout",
     "output_type": "stream",
     "text": [
      "INFO:tensorflow:Assets written to: /root/jupyter/IHC/gain_proj/wandb/run-20230421_233553-vb6akp5o/files/model-best/assets\n"
     ]
    },
    {
     "name": "stderr",
     "output_type": "stream",
     "text": [
      "INFO:tensorflow:Assets written to: /root/jupyter/IHC/gain_proj/wandb/run-20230421_233553-vb6akp5o/files/model-best/assets\n",
      "\u001b[34m\u001b[1mwandb\u001b[0m: Adding directory to artifact (/root/jupyter/IHC/gain_proj/wandb/run-20230421_233553-vb6akp5o/files/model-best)... Done. 0.0s\n"
     ]
    },
    {
     "name": "stdout",
     "output_type": "stream",
     "text": [
      "391/391 [==============================] - 22s 57ms/step - loss: 0.7507 - accuracy: 0.7369 - val_loss: 0.8734 - val_accuracy: 0.6960\n",
      "Epoch 136/200\n",
      "391/391 [==============================] - 20s 51ms/step - loss: 0.7460 - accuracy: 0.7381 - val_loss: 0.8765 - val_accuracy: 0.6937\n",
      "Epoch 137/200\n",
      "391/391 [==============================] - 20s 51ms/step - loss: 0.7431 - accuracy: 0.7387 - val_loss: 0.8761 - val_accuracy: 0.6930\n",
      "Epoch 138/200\n",
      "390/391 [============================>.] - ETA: 0s - loss: 0.7442 - accuracy: 0.7380"
     ]
    },
    {
     "name": "stderr",
     "output_type": "stream",
     "text": [
      "WARNING:absl:Found untraced functions such as _jit_compiled_convolution_op, _jit_compiled_convolution_op, _jit_compiled_convolution_op, _jit_compiled_convolution_op while saving (showing 4 of 4). These functions will not be directly callable after loading.\n"
     ]
    },
    {
     "name": "stdout",
     "output_type": "stream",
     "text": [
      "INFO:tensorflow:Assets written to: /root/jupyter/IHC/gain_proj/wandb/run-20230421_233553-vb6akp5o/files/model-best/assets\n"
     ]
    },
    {
     "name": "stderr",
     "output_type": "stream",
     "text": [
      "INFO:tensorflow:Assets written to: /root/jupyter/IHC/gain_proj/wandb/run-20230421_233553-vb6akp5o/files/model-best/assets\n",
      "\u001b[34m\u001b[1mwandb\u001b[0m: Adding directory to artifact (/root/jupyter/IHC/gain_proj/wandb/run-20230421_233553-vb6akp5o/files/model-best)... Done. 0.0s\n"
     ]
    },
    {
     "name": "stdout",
     "output_type": "stream",
     "text": [
      "391/391 [==============================] - 23s 58ms/step - loss: 0.7441 - accuracy: 0.7380 - val_loss: 0.8605 - val_accuracy: 0.7004\n",
      "Epoch 139/200\n",
      "391/391 [==============================] - 20s 51ms/step - loss: 0.7358 - accuracy: 0.7429 - val_loss: 0.8660 - val_accuracy: 0.6982\n",
      "Epoch 140/200\n",
      "391/391 [==============================] - 20s 52ms/step - loss: 0.7338 - accuracy: 0.7447 - val_loss: 0.8681 - val_accuracy: 0.6948\n",
      "Epoch 141/200\n",
      "391/391 [==============================] - 21s 53ms/step - loss: 0.7336 - accuracy: 0.7434 - val_loss: 0.8712 - val_accuracy: 0.6973\n",
      "Epoch 142/200\n",
      "391/391 [==============================] - 20s 52ms/step - loss: 0.7321 - accuracy: 0.7433 - val_loss: 0.8662 - val_accuracy: 0.6979\n",
      "Epoch 143/200\n",
      "388/391 [============================>.] - ETA: 0s - loss: 0.7258 - accuracy: 0.7465"
     ]
    },
    {
     "name": "stderr",
     "output_type": "stream",
     "text": [
      "WARNING:absl:Found untraced functions such as _jit_compiled_convolution_op, _jit_compiled_convolution_op, _jit_compiled_convolution_op, _jit_compiled_convolution_op while saving (showing 4 of 4). These functions will not be directly callable after loading.\n"
     ]
    },
    {
     "name": "stdout",
     "output_type": "stream",
     "text": [
      "INFO:tensorflow:Assets written to: /root/jupyter/IHC/gain_proj/wandb/run-20230421_233553-vb6akp5o/files/model-best/assets\n"
     ]
    },
    {
     "name": "stderr",
     "output_type": "stream",
     "text": [
      "INFO:tensorflow:Assets written to: /root/jupyter/IHC/gain_proj/wandb/run-20230421_233553-vb6akp5o/files/model-best/assets\n",
      "\u001b[34m\u001b[1mwandb\u001b[0m: Adding directory to artifact (/root/jupyter/IHC/gain_proj/wandb/run-20230421_233553-vb6akp5o/files/model-best)... Done. 0.0s\n"
     ]
    },
    {
     "name": "stdout",
     "output_type": "stream",
     "text": [
      "391/391 [==============================] - 22s 56ms/step - loss: 0.7254 - accuracy: 0.7468 - val_loss: 0.8585 - val_accuracy: 0.7018\n",
      "Epoch 144/200\n",
      "391/391 [==============================] - 20s 51ms/step - loss: 0.7255 - accuracy: 0.7457 - val_loss: 0.8629 - val_accuracy: 0.7015\n",
      "Epoch 145/200\n",
      "391/391 [==============================] - 20s 52ms/step - loss: 0.7223 - accuracy: 0.7471 - val_loss: 0.8566 - val_accuracy: 0.7012\n",
      "Epoch 146/200\n",
      "391/391 [==============================] - ETA: 0s - loss: 0.7225 - accuracy: 0.7447"
     ]
    },
    {
     "name": "stderr",
     "output_type": "stream",
     "text": [
      "WARNING:absl:Found untraced functions such as _jit_compiled_convolution_op, _jit_compiled_convolution_op, _jit_compiled_convolution_op, _jit_compiled_convolution_op while saving (showing 4 of 4). These functions will not be directly callable after loading.\n"
     ]
    },
    {
     "name": "stdout",
     "output_type": "stream",
     "text": [
      "INFO:tensorflow:Assets written to: /root/jupyter/IHC/gain_proj/wandb/run-20230421_233553-vb6akp5o/files/model-best/assets\n"
     ]
    },
    {
     "name": "stderr",
     "output_type": "stream",
     "text": [
      "INFO:tensorflow:Assets written to: /root/jupyter/IHC/gain_proj/wandb/run-20230421_233553-vb6akp5o/files/model-best/assets\n",
      "\u001b[34m\u001b[1mwandb\u001b[0m: Adding directory to artifact (/root/jupyter/IHC/gain_proj/wandb/run-20230421_233553-vb6akp5o/files/model-best)... Done. 0.0s\n"
     ]
    },
    {
     "name": "stdout",
     "output_type": "stream",
     "text": [
      "391/391 [==============================] - 22s 57ms/step - loss: 0.7225 - accuracy: 0.7447 - val_loss: 0.8520 - val_accuracy: 0.7040\n",
      "Epoch 147/200\n",
      "388/391 [============================>.] - ETA: 0s - loss: 0.7171 - accuracy: 0.7481"
     ]
    },
    {
     "name": "stderr",
     "output_type": "stream",
     "text": [
      "WARNING:absl:Found untraced functions such as _jit_compiled_convolution_op, _jit_compiled_convolution_op, _jit_compiled_convolution_op, _jit_compiled_convolution_op while saving (showing 4 of 4). These functions will not be directly callable after loading.\n"
     ]
    },
    {
     "name": "stdout",
     "output_type": "stream",
     "text": [
      "INFO:tensorflow:Assets written to: /root/jupyter/IHC/gain_proj/wandb/run-20230421_233553-vb6akp5o/files/model-best/assets\n"
     ]
    },
    {
     "name": "stderr",
     "output_type": "stream",
     "text": [
      "INFO:tensorflow:Assets written to: /root/jupyter/IHC/gain_proj/wandb/run-20230421_233553-vb6akp5o/files/model-best/assets\n",
      "\u001b[34m\u001b[1mwandb\u001b[0m: Adding directory to artifact (/root/jupyter/IHC/gain_proj/wandb/run-20230421_233553-vb6akp5o/files/model-best)... Done. 0.0s\n"
     ]
    },
    {
     "name": "stdout",
     "output_type": "stream",
     "text": [
      "391/391 [==============================] - 22s 56ms/step - loss: 0.7175 - accuracy: 0.7479 - val_loss: 0.8556 - val_accuracy: 0.7046\n",
      "Epoch 148/200\n",
      "391/391 [==============================] - 21s 52ms/step - loss: 0.7150 - accuracy: 0.7494 - val_loss: 0.8615 - val_accuracy: 0.6990\n",
      "Epoch 149/200\n",
      "391/391 [==============================] - 20s 51ms/step - loss: 0.7124 - accuracy: 0.7490 - val_loss: 0.8529 - val_accuracy: 0.7010\n",
      "Epoch 150/200\n",
      "391/391 [==============================] - 20s 52ms/step - loss: 0.7090 - accuracy: 0.7512 - val_loss: 0.8551 - val_accuracy: 0.7006\n",
      "Epoch 151/200\n",
      "390/391 [============================>.] - ETA: 0s - loss: 0.7097 - accuracy: 0.7518"
     ]
    },
    {
     "name": "stderr",
     "output_type": "stream",
     "text": [
      "WARNING:absl:Found untraced functions such as _jit_compiled_convolution_op, _jit_compiled_convolution_op, _jit_compiled_convolution_op, _jit_compiled_convolution_op while saving (showing 4 of 4). These functions will not be directly callable after loading.\n"
     ]
    },
    {
     "name": "stdout",
     "output_type": "stream",
     "text": [
      "INFO:tensorflow:Assets written to: /root/jupyter/IHC/gain_proj/wandb/run-20230421_233553-vb6akp5o/files/model-best/assets\n"
     ]
    },
    {
     "name": "stderr",
     "output_type": "stream",
     "text": [
      "INFO:tensorflow:Assets written to: /root/jupyter/IHC/gain_proj/wandb/run-20230421_233553-vb6akp5o/files/model-best/assets\n",
      "\u001b[34m\u001b[1mwandb\u001b[0m: Adding directory to artifact (/root/jupyter/IHC/gain_proj/wandb/run-20230421_233553-vb6akp5o/files/model-best)... Done. 0.0s\n"
     ]
    },
    {
     "name": "stdout",
     "output_type": "stream",
     "text": [
      "391/391 [==============================] - 22s 56ms/step - loss: 0.7096 - accuracy: 0.7518 - val_loss: 0.8511 - val_accuracy: 0.7049\n",
      "Epoch 152/200\n",
      "391/391 [==============================] - 20s 51ms/step - loss: 0.7063 - accuracy: 0.7511 - val_loss: 0.8569 - val_accuracy: 0.7025\n",
      "Epoch 153/200\n",
      "391/391 [==============================] - ETA: 0s - loss: 0.7087 - accuracy: 0.7510"
     ]
    },
    {
     "name": "stderr",
     "output_type": "stream",
     "text": [
      "WARNING:absl:Found untraced functions such as _jit_compiled_convolution_op, _jit_compiled_convolution_op, _jit_compiled_convolution_op, _jit_compiled_convolution_op while saving (showing 4 of 4). These functions will not be directly callable after loading.\n"
     ]
    },
    {
     "name": "stdout",
     "output_type": "stream",
     "text": [
      "INFO:tensorflow:Assets written to: /root/jupyter/IHC/gain_proj/wandb/run-20230421_233553-vb6akp5o/files/model-best/assets\n"
     ]
    },
    {
     "name": "stderr",
     "output_type": "stream",
     "text": [
      "INFO:tensorflow:Assets written to: /root/jupyter/IHC/gain_proj/wandb/run-20230421_233553-vb6akp5o/files/model-best/assets\n",
      "\u001b[34m\u001b[1mwandb\u001b[0m: Adding directory to artifact (/root/jupyter/IHC/gain_proj/wandb/run-20230421_233553-vb6akp5o/files/model-best)... Done. 0.0s\n"
     ]
    },
    {
     "name": "stdout",
     "output_type": "stream",
     "text": [
      "391/391 [==============================] - 25s 63ms/step - loss: 0.7087 - accuracy: 0.7510 - val_loss: 0.8493 - val_accuracy: 0.7061\n",
      "Epoch 154/200\n",
      "391/391 [==============================] - 21s 52ms/step - loss: 0.7001 - accuracy: 0.7560 - val_loss: 0.8528 - val_accuracy: 0.7049\n",
      "Epoch 155/200\n",
      "391/391 [==============================] - ETA: 0s - loss: 0.6957 - accuracy: 0.7570"
     ]
    },
    {
     "name": "stderr",
     "output_type": "stream",
     "text": [
      "WARNING:absl:Found untraced functions such as _jit_compiled_convolution_op, _jit_compiled_convolution_op, _jit_compiled_convolution_op, _jit_compiled_convolution_op while saving (showing 4 of 4). These functions will not be directly callable after loading.\n"
     ]
    },
    {
     "name": "stdout",
     "output_type": "stream",
     "text": [
      "INFO:tensorflow:Assets written to: /root/jupyter/IHC/gain_proj/wandb/run-20230421_233553-vb6akp5o/files/model-best/assets\n"
     ]
    },
    {
     "name": "stderr",
     "output_type": "stream",
     "text": [
      "INFO:tensorflow:Assets written to: /root/jupyter/IHC/gain_proj/wandb/run-20230421_233553-vb6akp5o/files/model-best/assets\n",
      "\u001b[34m\u001b[1mwandb\u001b[0m: Adding directory to artifact (/root/jupyter/IHC/gain_proj/wandb/run-20230421_233553-vb6akp5o/files/model-best)... Done. 0.0s\n"
     ]
    },
    {
     "name": "stdout",
     "output_type": "stream",
     "text": [
      "391/391 [==============================] - 22s 57ms/step - loss: 0.6957 - accuracy: 0.7570 - val_loss: 0.8522 - val_accuracy: 0.7071\n",
      "Epoch 156/200\n",
      "391/391 [==============================] - 20s 51ms/step - loss: 0.6980 - accuracy: 0.7555 - val_loss: 0.8497 - val_accuracy: 0.7050\n",
      "Epoch 157/200\n",
      "389/391 [============================>.] - ETA: 0s - loss: 0.6947 - accuracy: 0.7562"
     ]
    },
    {
     "name": "stderr",
     "output_type": "stream",
     "text": [
      "WARNING:absl:Found untraced functions such as _jit_compiled_convolution_op, _jit_compiled_convolution_op, _jit_compiled_convolution_op, _jit_compiled_convolution_op while saving (showing 4 of 4). These functions will not be directly callable after loading.\n"
     ]
    },
    {
     "name": "stdout",
     "output_type": "stream",
     "text": [
      "INFO:tensorflow:Assets written to: /root/jupyter/IHC/gain_proj/wandb/run-20230421_233553-vb6akp5o/files/model-best/assets\n"
     ]
    },
    {
     "name": "stderr",
     "output_type": "stream",
     "text": [
      "INFO:tensorflow:Assets written to: /root/jupyter/IHC/gain_proj/wandb/run-20230421_233553-vb6akp5o/files/model-best/assets\n",
      "\u001b[34m\u001b[1mwandb\u001b[0m: Adding directory to artifact (/root/jupyter/IHC/gain_proj/wandb/run-20230421_233553-vb6akp5o/files/model-best)... Done. 0.0s\n"
     ]
    },
    {
     "name": "stdout",
     "output_type": "stream",
     "text": [
      "391/391 [==============================] - 22s 57ms/step - loss: 0.6945 - accuracy: 0.7562 - val_loss: 0.8506 - val_accuracy: 0.7072\n",
      "Epoch 158/200\n",
      "391/391 [==============================] - 21s 52ms/step - loss: 0.6946 - accuracy: 0.7558 - val_loss: 0.8463 - val_accuracy: 0.7050\n",
      "Epoch 159/200\n",
      "389/391 [============================>.] - ETA: 0s - loss: 0.6955 - accuracy: 0.7563"
     ]
    },
    {
     "name": "stderr",
     "output_type": "stream",
     "text": [
      "WARNING:absl:Found untraced functions such as _jit_compiled_convolution_op, _jit_compiled_convolution_op, _jit_compiled_convolution_op, _jit_compiled_convolution_op while saving (showing 4 of 4). These functions will not be directly callable after loading.\n"
     ]
    },
    {
     "name": "stdout",
     "output_type": "stream",
     "text": [
      "INFO:tensorflow:Assets written to: /root/jupyter/IHC/gain_proj/wandb/run-20230421_233553-vb6akp5o/files/model-best/assets\n"
     ]
    },
    {
     "name": "stderr",
     "output_type": "stream",
     "text": [
      "INFO:tensorflow:Assets written to: /root/jupyter/IHC/gain_proj/wandb/run-20230421_233553-vb6akp5o/files/model-best/assets\n",
      "\u001b[34m\u001b[1mwandb\u001b[0m: Adding directory to artifact (/root/jupyter/IHC/gain_proj/wandb/run-20230421_233553-vb6akp5o/files/model-best)... Done. 0.0s\n"
     ]
    },
    {
     "name": "stdout",
     "output_type": "stream",
     "text": [
      "391/391 [==============================] - 22s 56ms/step - loss: 0.6951 - accuracy: 0.7563 - val_loss: 0.8397 - val_accuracy: 0.7100\n",
      "Epoch 160/200\n",
      "391/391 [==============================] - 20s 52ms/step - loss: 0.6892 - accuracy: 0.7567 - val_loss: 0.8440 - val_accuracy: 0.7097\n",
      "Epoch 161/200\n",
      "391/391 [==============================] - 21s 52ms/step - loss: 0.6915 - accuracy: 0.7584 - val_loss: 0.8461 - val_accuracy: 0.7078\n",
      "Epoch 162/200\n",
      "391/391 [==============================] - 21s 52ms/step - loss: 0.6842 - accuracy: 0.7616 - val_loss: 0.8419 - val_accuracy: 0.7079\n",
      "Epoch 163/200\n",
      "391/391 [==============================] - ETA: 0s - loss: 0.6840 - accuracy: 0.7601"
     ]
    },
    {
     "name": "stderr",
     "output_type": "stream",
     "text": [
      "WARNING:absl:Found untraced functions such as _jit_compiled_convolution_op, _jit_compiled_convolution_op, _jit_compiled_convolution_op, _jit_compiled_convolution_op while saving (showing 4 of 4). These functions will not be directly callable after loading.\n"
     ]
    },
    {
     "name": "stdout",
     "output_type": "stream",
     "text": [
      "INFO:tensorflow:Assets written to: /root/jupyter/IHC/gain_proj/wandb/run-20230421_233553-vb6akp5o/files/model-best/assets\n"
     ]
    },
    {
     "name": "stderr",
     "output_type": "stream",
     "text": [
      "INFO:tensorflow:Assets written to: /root/jupyter/IHC/gain_proj/wandb/run-20230421_233553-vb6akp5o/files/model-best/assets\n",
      "\u001b[34m\u001b[1mwandb\u001b[0m: Adding directory to artifact (/root/jupyter/IHC/gain_proj/wandb/run-20230421_233553-vb6akp5o/files/model-best)... Done. 0.0s\n"
     ]
    },
    {
     "name": "stdout",
     "output_type": "stream",
     "text": [
      "391/391 [==============================] - 22s 56ms/step - loss: 0.6840 - accuracy: 0.7601 - val_loss: 0.8375 - val_accuracy: 0.7105\n",
      "Epoch 164/200\n",
      "391/391 [==============================] - 20s 52ms/step - loss: 0.6819 - accuracy: 0.7618 - val_loss: 0.8410 - val_accuracy: 0.7093\n",
      "Epoch 165/200\n",
      "391/391 [==============================] - 20s 52ms/step - loss: 0.6821 - accuracy: 0.7601 - val_loss: 0.8439 - val_accuracy: 0.7035\n",
      "Epoch 166/200\n",
      "389/391 [============================>.] - ETA: 0s - loss: 0.6775 - accuracy: 0.7608"
     ]
    },
    {
     "name": "stderr",
     "output_type": "stream",
     "text": [
      "WARNING:absl:Found untraced functions such as _jit_compiled_convolution_op, _jit_compiled_convolution_op, _jit_compiled_convolution_op, _jit_compiled_convolution_op while saving (showing 4 of 4). These functions will not be directly callable after loading.\n"
     ]
    },
    {
     "name": "stdout",
     "output_type": "stream",
     "text": [
      "INFO:tensorflow:Assets written to: /root/jupyter/IHC/gain_proj/wandb/run-20230421_233553-vb6akp5o/files/model-best/assets\n"
     ]
    },
    {
     "name": "stderr",
     "output_type": "stream",
     "text": [
      "INFO:tensorflow:Assets written to: /root/jupyter/IHC/gain_proj/wandb/run-20230421_233553-vb6akp5o/files/model-best/assets\n",
      "\u001b[34m\u001b[1mwandb\u001b[0m: Adding directory to artifact (/root/jupyter/IHC/gain_proj/wandb/run-20230421_233553-vb6akp5o/files/model-best)... Done. 0.0s\n"
     ]
    },
    {
     "name": "stdout",
     "output_type": "stream",
     "text": [
      "391/391 [==============================] - 22s 57ms/step - loss: 0.6775 - accuracy: 0.7607 - val_loss: 0.8414 - val_accuracy: 0.7111\n",
      "Epoch 167/200\n",
      "387/391 [============================>.] - ETA: 0s - loss: 0.6705 - accuracy: 0.7637"
     ]
    },
    {
     "name": "stderr",
     "output_type": "stream",
     "text": [
      "WARNING:absl:Found untraced functions such as _jit_compiled_convolution_op, _jit_compiled_convolution_op, _jit_compiled_convolution_op, _jit_compiled_convolution_op while saving (showing 4 of 4). These functions will not be directly callable after loading.\n"
     ]
    },
    {
     "name": "stdout",
     "output_type": "stream",
     "text": [
      "INFO:tensorflow:Assets written to: /root/jupyter/IHC/gain_proj/wandb/run-20230421_233553-vb6akp5o/files/model-best/assets\n"
     ]
    },
    {
     "name": "stderr",
     "output_type": "stream",
     "text": [
      "INFO:tensorflow:Assets written to: /root/jupyter/IHC/gain_proj/wandb/run-20230421_233553-vb6akp5o/files/model-best/assets\n",
      "\u001b[34m\u001b[1mwandb\u001b[0m: Adding directory to artifact (/root/jupyter/IHC/gain_proj/wandb/run-20230421_233553-vb6akp5o/files/model-best)... Done. 0.0s\n"
     ]
    },
    {
     "name": "stdout",
     "output_type": "stream",
     "text": [
      "391/391 [==============================] - 22s 56ms/step - loss: 0.6706 - accuracy: 0.7636 - val_loss: 0.8377 - val_accuracy: 0.7112\n",
      "Epoch 168/200\n",
      "391/391 [==============================] - 21s 53ms/step - loss: 0.6711 - accuracy: 0.7645 - val_loss: 0.8390 - val_accuracy: 0.7093\n",
      "Epoch 169/200\n",
      "391/391 [==============================] - 21s 52ms/step - loss: 0.6707 - accuracy: 0.7635 - val_loss: 0.8379 - val_accuracy: 0.7093\n",
      "Epoch 170/200\n",
      "387/391 [============================>.] - ETA: 0s - loss: 0.6699 - accuracy: 0.7657"
     ]
    },
    {
     "name": "stderr",
     "output_type": "stream",
     "text": [
      "WARNING:absl:Found untraced functions such as _jit_compiled_convolution_op, _jit_compiled_convolution_op, _jit_compiled_convolution_op, _jit_compiled_convolution_op while saving (showing 4 of 4). These functions will not be directly callable after loading.\n"
     ]
    },
    {
     "name": "stdout",
     "output_type": "stream",
     "text": [
      "INFO:tensorflow:Assets written to: /root/jupyter/IHC/gain_proj/wandb/run-20230421_233553-vb6akp5o/files/model-best/assets\n"
     ]
    },
    {
     "name": "stderr",
     "output_type": "stream",
     "text": [
      "INFO:tensorflow:Assets written to: /root/jupyter/IHC/gain_proj/wandb/run-20230421_233553-vb6akp5o/files/model-best/assets\n",
      "\u001b[34m\u001b[1mwandb\u001b[0m: Adding directory to artifact (/root/jupyter/IHC/gain_proj/wandb/run-20230421_233553-vb6akp5o/files/model-best)... Done. 0.0s\n"
     ]
    },
    {
     "name": "stdout",
     "output_type": "stream",
     "text": [
      "391/391 [==============================] - 24s 61ms/step - loss: 0.6697 - accuracy: 0.7657 - val_loss: 0.8340 - val_accuracy: 0.7128\n",
      "Epoch 171/200\n",
      "391/391 [==============================] - 21s 53ms/step - loss: 0.6660 - accuracy: 0.7664 - val_loss: 0.8510 - val_accuracy: 0.7068\n",
      "Epoch 172/200\n",
      "391/391 [==============================] - 20s 52ms/step - loss: 0.6661 - accuracy: 0.7658 - val_loss: 0.8370 - val_accuracy: 0.7115\n",
      "Epoch 173/200\n",
      "391/391 [==============================] - 20s 52ms/step - loss: 0.6614 - accuracy: 0.7688 - val_loss: 0.8280 - val_accuracy: 0.7118\n",
      "Epoch 174/200\n",
      "391/391 [==============================] - 20s 52ms/step - loss: 0.6615 - accuracy: 0.7689 - val_loss: 0.8345 - val_accuracy: 0.7103\n",
      "Epoch 175/200\n",
      "389/391 [============================>.] - ETA: 0s - loss: 0.6607 - accuracy: 0.7678"
     ]
    },
    {
     "name": "stderr",
     "output_type": "stream",
     "text": [
      "WARNING:absl:Found untraced functions such as _jit_compiled_convolution_op, _jit_compiled_convolution_op, _jit_compiled_convolution_op, _jit_compiled_convolution_op while saving (showing 4 of 4). These functions will not be directly callable after loading.\n"
     ]
    },
    {
     "name": "stdout",
     "output_type": "stream",
     "text": [
      "INFO:tensorflow:Assets written to: /root/jupyter/IHC/gain_proj/wandb/run-20230421_233553-vb6akp5o/files/model-best/assets\n"
     ]
    },
    {
     "name": "stderr",
     "output_type": "stream",
     "text": [
      "INFO:tensorflow:Assets written to: /root/jupyter/IHC/gain_proj/wandb/run-20230421_233553-vb6akp5o/files/model-best/assets\n",
      "\u001b[34m\u001b[1mwandb\u001b[0m: Adding directory to artifact (/root/jupyter/IHC/gain_proj/wandb/run-20230421_233553-vb6akp5o/files/model-best)... Done. 0.0s\n"
     ]
    },
    {
     "name": "stdout",
     "output_type": "stream",
     "text": [
      "391/391 [==============================] - 22s 57ms/step - loss: 0.6608 - accuracy: 0.7677 - val_loss: 0.8303 - val_accuracy: 0.7152\n",
      "Epoch 176/200\n",
      "391/391 [==============================] - 20s 51ms/step - loss: 0.6555 - accuracy: 0.7689 - val_loss: 0.8285 - val_accuracy: 0.7116\n",
      "Epoch 177/200\n",
      "391/391 [==============================] - 20s 51ms/step - loss: 0.6507 - accuracy: 0.7697 - val_loss: 0.8281 - val_accuracy: 0.7131\n",
      "Epoch 178/200\n",
      "391/391 [==============================] - 21s 53ms/step - loss: 0.6533 - accuracy: 0.7715 - val_loss: 0.8319 - val_accuracy: 0.7126\n",
      "Epoch 179/200\n",
      "391/391 [==============================] - 20s 52ms/step - loss: 0.6510 - accuracy: 0.7723 - val_loss: 0.8342 - val_accuracy: 0.7133\n",
      "Epoch 180/200\n",
      "391/391 [==============================] - 20s 51ms/step - loss: 0.6482 - accuracy: 0.7718 - val_loss: 0.8371 - val_accuracy: 0.7113\n",
      "Epoch 181/200\n",
      "391/391 [==============================] - 21s 53ms/step - loss: 0.6477 - accuracy: 0.7716 - val_loss: 0.8410 - val_accuracy: 0.7120\n",
      "Epoch 182/200\n",
      "391/391 [==============================] - ETA: 0s - loss: 0.6448 - accuracy: 0.7741"
     ]
    },
    {
     "name": "stderr",
     "output_type": "stream",
     "text": [
      "WARNING:absl:Found untraced functions such as _jit_compiled_convolution_op, _jit_compiled_convolution_op, _jit_compiled_convolution_op, _jit_compiled_convolution_op while saving (showing 4 of 4). These functions will not be directly callable after loading.\n"
     ]
    },
    {
     "name": "stdout",
     "output_type": "stream",
     "text": [
      "INFO:tensorflow:Assets written to: /root/jupyter/IHC/gain_proj/wandb/run-20230421_233553-vb6akp5o/files/model-best/assets\n"
     ]
    },
    {
     "name": "stderr",
     "output_type": "stream",
     "text": [
      "INFO:tensorflow:Assets written to: /root/jupyter/IHC/gain_proj/wandb/run-20230421_233553-vb6akp5o/files/model-best/assets\n",
      "\u001b[34m\u001b[1mwandb\u001b[0m: Adding directory to artifact (/root/jupyter/IHC/gain_proj/wandb/run-20230421_233553-vb6akp5o/files/model-best)... Done. 0.0s\n"
     ]
    },
    {
     "name": "stdout",
     "output_type": "stream",
     "text": [
      "391/391 [==============================] - 22s 56ms/step - loss: 0.6448 - accuracy: 0.7741 - val_loss: 0.8228 - val_accuracy: 0.7167\n",
      "Epoch 183/200\n",
      "390/391 [============================>.] - ETA: 0s - loss: 0.6422 - accuracy: 0.7751"
     ]
    },
    {
     "name": "stderr",
     "output_type": "stream",
     "text": [
      "WARNING:absl:Found untraced functions such as _jit_compiled_convolution_op, _jit_compiled_convolution_op, _jit_compiled_convolution_op, _jit_compiled_convolution_op while saving (showing 4 of 4). These functions will not be directly callable after loading.\n"
     ]
    },
    {
     "name": "stdout",
     "output_type": "stream",
     "text": [
      "INFO:tensorflow:Assets written to: /root/jupyter/IHC/gain_proj/wandb/run-20230421_233553-vb6akp5o/files/model-best/assets\n"
     ]
    },
    {
     "name": "stderr",
     "output_type": "stream",
     "text": [
      "INFO:tensorflow:Assets written to: /root/jupyter/IHC/gain_proj/wandb/run-20230421_233553-vb6akp5o/files/model-best/assets\n",
      "\u001b[34m\u001b[1mwandb\u001b[0m: Adding directory to artifact (/root/jupyter/IHC/gain_proj/wandb/run-20230421_233553-vb6akp5o/files/model-best)... Done. 0.0s\n"
     ]
    },
    {
     "name": "stdout",
     "output_type": "stream",
     "text": [
      "391/391 [==============================] - 22s 57ms/step - loss: 0.6419 - accuracy: 0.7753 - val_loss: 0.8344 - val_accuracy: 0.7174\n",
      "Epoch 184/200\n",
      "391/391 [==============================] - 20s 52ms/step - loss: 0.6406 - accuracy: 0.7764 - val_loss: 0.8327 - val_accuracy: 0.7128\n",
      "Epoch 185/200\n",
      "391/391 [==============================] - 20s 52ms/step - loss: 0.6374 - accuracy: 0.7749 - val_loss: 0.8330 - val_accuracy: 0.7152\n",
      "Epoch 186/200\n",
      "391/391 [==============================] - 20s 52ms/step - loss: 0.6334 - accuracy: 0.7772 - val_loss: 0.8301 - val_accuracy: 0.7139\n",
      "Epoch 187/200\n",
      "391/391 [==============================] - 20s 52ms/step - loss: 0.6292 - accuracy: 0.7774 - val_loss: 0.8250 - val_accuracy: 0.7150\n",
      "Epoch 188/200\n",
      "390/391 [============================>.] - ETA: 0s - loss: 0.6385 - accuracy: 0.7760"
     ]
    },
    {
     "name": "stderr",
     "output_type": "stream",
     "text": [
      "WARNING:absl:Found untraced functions such as _jit_compiled_convolution_op, _jit_compiled_convolution_op, _jit_compiled_convolution_op, _jit_compiled_convolution_op while saving (showing 4 of 4). These functions will not be directly callable after loading.\n"
     ]
    },
    {
     "name": "stdout",
     "output_type": "stream",
     "text": [
      "INFO:tensorflow:Assets written to: /root/jupyter/IHC/gain_proj/wandb/run-20230421_233553-vb6akp5o/files/model-best/assets\n"
     ]
    },
    {
     "name": "stderr",
     "output_type": "stream",
     "text": [
      "INFO:tensorflow:Assets written to: /root/jupyter/IHC/gain_proj/wandb/run-20230421_233553-vb6akp5o/files/model-best/assets\n",
      "\u001b[34m\u001b[1mwandb\u001b[0m: Adding directory to artifact (/root/jupyter/IHC/gain_proj/wandb/run-20230421_233553-vb6akp5o/files/model-best)... Done. 0.0s\n"
     ]
    },
    {
     "name": "stdout",
     "output_type": "stream",
     "text": [
      "391/391 [==============================] - 22s 57ms/step - loss: 0.6385 - accuracy: 0.7761 - val_loss: 0.8213 - val_accuracy: 0.7218\n",
      "Epoch 189/200\n",
      "391/391 [==============================] - 20s 51ms/step - loss: 0.6340 - accuracy: 0.7782 - val_loss: 0.8327 - val_accuracy: 0.7147\n",
      "Epoch 190/200\n",
      "391/391 [==============================] - 20s 52ms/step - loss: 0.6284 - accuracy: 0.7806 - val_loss: 0.8262 - val_accuracy: 0.7174\n",
      "Epoch 191/200\n",
      "391/391 [==============================] - 20s 52ms/step - loss: 0.6325 - accuracy: 0.7800 - val_loss: 0.8278 - val_accuracy: 0.7185\n",
      "Epoch 192/200\n",
      "391/391 [==============================] - 20s 52ms/step - loss: 0.6269 - accuracy: 0.7800 - val_loss: 0.8251 - val_accuracy: 0.7171\n",
      "Epoch 193/200\n",
      "391/391 [==============================] - 20s 51ms/step - loss: 0.6219 - accuracy: 0.7820 - val_loss: 0.8267 - val_accuracy: 0.7158\n",
      "Epoch 194/200\n",
      "391/391 [==============================] - 20s 52ms/step - loss: 0.6240 - accuracy: 0.7797 - val_loss: 0.8211 - val_accuracy: 0.7187\n",
      "Epoch 195/200\n",
      "391/391 [==============================] - 21s 52ms/step - loss: 0.6199 - accuracy: 0.7833 - val_loss: 0.8259 - val_accuracy: 0.7186\n",
      "Epoch 196/200\n",
      "391/391 [==============================] - 20s 51ms/step - loss: 0.6216 - accuracy: 0.7822 - val_loss: 0.8251 - val_accuracy: 0.7185\n",
      "Epoch 197/200\n",
      "391/391 [==============================] - 20s 52ms/step - loss: 0.6184 - accuracy: 0.7838 - val_loss: 0.8232 - val_accuracy: 0.7168\n",
      "Epoch 198/200\n",
      "391/391 [==============================] - 20s 52ms/step - loss: 0.6175 - accuracy: 0.7831 - val_loss: 0.8255 - val_accuracy: 0.7174\n",
      "Epoch 199/200\n",
      "391/391 [==============================] - 20s 52ms/step - loss: 0.6172 - accuracy: 0.7825 - val_loss: 0.8167 - val_accuracy: 0.7207\n",
      "Epoch 200/200\n",
      "391/391 [==============================] - 20s 52ms/step - loss: 0.6097 - accuracy: 0.7856 - val_loss: 0.8237 - val_accuracy: 0.7205\n"
     ]
    },
    {
     "data": {
      "text/plain": [
       "<keras.callbacks.History at 0x7fdb80f150d0>"
      ]
     },
     "execution_count": 7,
     "metadata": {},
     "output_type": "execute_result"
    }
   ],
   "source": [
    "model.fit(datagen.flow(x_train, y_train, batch_size=128),\n",
    "          validation_data=(x_test, y_test),\n",
    "          epochs=200, workers=4,\n",
    "          callbacks=callbacks)"
   ]
  },
  {
   "cell_type": "code",
   "execution_count": null,
   "id": "dd1b680e-40d0-4d11-9d99-3e44c26ad381",
   "metadata": {},
   "outputs": [],
   "source": []
  },
  {
   "cell_type": "code",
   "execution_count": null,
   "id": "8c7a27fb-7c93-4b43-9bf2-7fc2bc6a5071",
   "metadata": {},
   "outputs": [],
   "source": []
  },
  {
   "cell_type": "code",
   "execution_count": null,
   "id": "c38a00d3-8096-409b-90a5-ce799e67d313",
   "metadata": {},
   "outputs": [],
   "source": []
  }
 ],
 "metadata": {
  "kernelspec": {
   "display_name": "Python 3 (ipykernel)",
   "language": "python",
   "name": "python3"
  },
  "language_info": {
   "codemirror_mode": {
    "name": "ipython",
    "version": 3
   },
   "file_extension": ".py",
   "mimetype": "text/x-python",
   "name": "python",
   "nbconvert_exporter": "python",
   "pygments_lexer": "ipython3",
   "version": "3.8.10"
  }
 },
 "nbformat": 4,
 "nbformat_minor": 5
}
