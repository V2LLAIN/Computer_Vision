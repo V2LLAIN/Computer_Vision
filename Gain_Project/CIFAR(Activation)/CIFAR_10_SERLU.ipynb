{
 "cells": [
  {
   "cell_type": "code",
   "execution_count": 1,
   "id": "435f2fe4-a4ef-4b66-a91f-6b6c598baa92",
   "metadata": {},
   "outputs": [
    {
     "name": "stderr",
     "output_type": "stream",
     "text": [
      "/usr/lib/python3/dist-packages/requests/__init__.py:89: RequestsDependencyWarning: urllib3 (1.26.14) or chardet (3.0.4) doesn't match a supported version!\n",
      "  warnings.warn(\"urllib3 ({}) or chardet ({}) doesn't match a supported \"\n",
      "2023-04-21 16:12:23.219087: I tensorflow/core/platform/cpu_feature_guard.cc:193] This TensorFlow binary is optimized with oneAPI Deep Neural Network Library (oneDNN) to use the following CPU instructions in performance-critical operations:  AVX2 AVX512F AVX512_VNNI FMA\n",
      "To enable them in other operations, rebuild TensorFlow with the appropriate compiler flags.\n",
      "2023-04-21 16:12:23.322575: I tensorflow/core/util/util.cc:169] oneDNN custom operations are on. You may see slightly different numerical results due to floating-point round-off errors from different computation orders. To turn them off, set the environment variable `TF_ENABLE_ONEDNN_OPTS=0`.\n",
      "2023-04-21 16:12:23.348555: E tensorflow/stream_executor/cuda/cuda_blas.cc:2981] Unable to register cuBLAS factory: Attempting to register factory for plugin cuBLAS when one has already been registered\n"
     ]
    }
   ],
   "source": [
    "import os\n",
    "import math\n",
    "import wandb\n",
    "import random\n",
    "import numpy as np\n",
    "import pandas as pd\n",
    "import tensorflow as tf\n",
    "from tensorflow import keras\n",
    "import matplotlib.pyplot as plt\n",
    "\n",
    "\n",
    "from tensorflow.keras.preprocessing.image import load_img\n",
    "\n",
    "from tensorflow.keras.models import *\n",
    "from tensorflow.keras.layers import *\n",
    "from tensorflow.keras.losses import *\n",
    "from tensorflow.keras.metrics import *\n",
    "from tensorflow.keras.optimizers import *\n",
    "from tensorflow.keras.activations import *\n",
    "\n",
    "from tensorflow.keras.regularizers import *\n",
    "\n",
    "from tensorflow.keras.callbacks import *\n",
    "from keras.preprocessing.image import *\n",
    "from tensorflow.keras.preprocessing import *"
   ]
  },
  {
   "cell_type": "code",
   "execution_count": 2,
   "id": "6970ba03-d344-4b3a-aca9-5b6fd275830f",
   "metadata": {},
   "outputs": [],
   "source": [
    "# Load the CIFAR-10 dataset\n",
    "(x_train, y_train), (x_test, y_test) = tf.keras.datasets.cifar10.load_data()\n",
    "\n",
    "# Normalize pixel values between 0 and 1\n",
    "x_train = x_train / 255.0\n",
    "x_test = x_test / 255.0\n",
    "\n",
    "# Convert labels to one-hot encoded vectors\n",
    "y_train = tf.keras.utils.to_categorical(y_train, num_classes=10)\n",
    "y_test = tf.keras.utils.to_categorical(y_test, num_classes=10)"
   ]
  },
  {
   "cell_type": "code",
   "execution_count": 3,
   "id": "3fe35a65-5dc2-438b-b26b-c6a0a6bf9293",
   "metadata": {},
   "outputs": [],
   "source": [
    "# SERLU 함수 정의\n",
    "def serlu(x, lamda = 1.0786, alpha= 2.90427):\n",
    "    return tf.where(x>=0, x, alpha * x * tf.exp(x))"
   ]
  },
  {
   "cell_type": "code",
   "execution_count": 4,
   "id": "c2dac364-264e-4823-8695-e36d850d7ebe",
   "metadata": {
    "tags": []
   },
   "outputs": [
    {
     "name": "stdout",
     "output_type": "stream",
     "text": [
      "Model: \"model\"\n",
      "_________________________________________________________________\n",
      " Layer (type)                Output Shape              Param #   \n",
      "=================================================================\n",
      " input_1 (InputLayer)        [(None, 32, 32, 3)]       0         \n",
      "                                                                 \n",
      " conv2d (Conv2D)             (None, 30, 30, 32)        896       \n",
      "                                                                 \n",
      " conv2d_1 (Conv2D)           (None, 28, 28, 32)        9248      \n",
      "                                                                 \n",
      " max_pooling2d (MaxPooling2D  (None, 14, 14, 32)       0         \n",
      " )                                                               \n",
      "                                                                 \n",
      " dropout (Dropout)           (None, 14, 14, 32)        0         \n",
      "                                                                 \n",
      " conv2d_2 (Conv2D)           (None, 12, 12, 64)        18496     \n",
      "                                                                 \n",
      " conv2d_3 (Conv2D)           (None, 10, 10, 64)        36928     \n",
      "                                                                 \n",
      " max_pooling2d_1 (MaxPooling  (None, 5, 5, 64)         0         \n",
      " 2D)                                                             \n",
      "                                                                 \n",
      " dropout_1 (Dropout)         (None, 5, 5, 64)          0         \n",
      "                                                                 \n",
      " average_pooling2d (AverageP  (None, 2, 2, 64)         0         \n",
      " ooling2D)                                                       \n",
      "                                                                 \n",
      " flatten (Flatten)           (None, 256)               0         \n",
      "                                                                 \n",
      " dense (Dense)               (None, 512)               131584    \n",
      "                                                                 \n",
      " dense_1 (Dense)             (None, 10)                5130      \n",
      "                                                                 \n",
      "=================================================================\n",
      "Total params: 202,282\n",
      "Trainable params: 202,282\n",
      "Non-trainable params: 0\n",
      "_________________________________________________________________\n"
     ]
    },
    {
     "name": "stderr",
     "output_type": "stream",
     "text": [
      "2023-04-21 16:12:25.790879: I tensorflow/core/platform/cpu_feature_guard.cc:193] This TensorFlow binary is optimized with oneAPI Deep Neural Network Library (oneDNN) to use the following CPU instructions in performance-critical operations:  AVX2 AVX512F AVX512_VNNI FMA\n",
      "To enable them in other operations, rebuild TensorFlow with the appropriate compiler flags.\n",
      "2023-04-21 16:12:26.460652: I tensorflow/core/common_runtime/gpu/gpu_device.cc:1616] Created device /job:localhost/replica:0/task:0/device:GPU:0 with 22277 MB memory:  -> device: 0, name: NVIDIA GeForce RTX 3090, pci bus id: 0000:68:00.0, compute capability: 8.6\n"
     ]
    }
   ],
   "source": [
    "inputs = Input(shape=(32,32, 3))\n",
    "\n",
    "# Layer 1\n",
    "x = Conv2D(32, (3,3), activation=serlu, kernel_regularizer=l2(1e-6))(inputs)\n",
    "\n",
    "# Layer 2\n",
    "x = Conv2D(32, (3,3), activation=serlu, kernel_regularizer=l2(1e-6))(x)\n",
    "x = MaxPooling2D((2, 2))(x)\n",
    "x = Dropout(0.1)(x)\n",
    "\n",
    "# Layer 3\n",
    "x = Conv2D(64, (3,3), activation=serlu, kernel_regularizer=l2(1e-6))(x)\n",
    "\n",
    "# Layer 4\n",
    "x = Conv2D(64, (3,3), activation=serlu, kernel_regularizer=l2(1e-6))(x)\n",
    "x = MaxPooling2D((2, 2))(x)\n",
    "x = Dropout(0.1)(x)\n",
    "\n",
    "# Layer 5\n",
    "x = AveragePooling2D()(x)\n",
    "x = Flatten()(x)\n",
    "x = Dense(512, activation=serlu, kernel_regularizer=l2(1e-6))(x)\n",
    "\n",
    "# Layer 6\n",
    "outputs = Dense(10, activation='softmax')(x)\n",
    "model = Model(inputs=inputs, outputs=outputs)\n",
    "\n",
    "model.summary()"
   ]
  },
  {
   "cell_type": "code",
   "execution_count": 5,
   "id": "c9897576-4328-4349-90b8-2ac97f68f424",
   "metadata": {
    "tags": []
   },
   "outputs": [],
   "source": [
    "# 모델 컴파일\n",
    "opt = RMSprop(learning_rate=1e-4)\n",
    "\n",
    "model.compile(optimizer=opt,\n",
    "              loss='categorical_crossentropy',\n",
    "              metrics=['accuracy'])"
   ]
  },
  {
   "cell_type": "code",
   "execution_count": 7,
   "id": "5fc4d3e2-154d-4387-9248-d61a2b8b7a6e",
   "metadata": {},
   "outputs": [],
   "source": [
    "from keras.preprocessing.image import ImageDataGenerator\n",
    "\n",
    "datagen = ImageDataGenerator(horizontal_flip=True, vertical_flip=True)\n",
    "datagen.fit(x_train)"
   ]
  },
  {
   "cell_type": "code",
   "execution_count": 9,
   "id": "492f7e1e-df54-4686-aaca-ba346e556926",
   "metadata": {},
   "outputs": [
    {
     "name": "stderr",
     "output_type": "stream",
     "text": [
      "Failed to detect the name of this notebook, you can set it manually with the WANDB_NOTEBOOK_NAME environment variable to enable code saving.\n",
      "\u001b[34m\u001b[1mwandb\u001b[0m: Currently logged in as: \u001b[33mchan4im\u001b[0m (\u001b[33mhcim\u001b[0m). Use \u001b[1m`wandb login --relogin`\u001b[0m to force relogin\n"
     ]
    },
    {
     "data": {
      "text/html": [
       "wandb version 0.15.0 is available!  To upgrade, please run:\n",
       " $ pip install wandb --upgrade"
      ],
      "text/plain": [
       "<IPython.core.display.HTML object>"
      ]
     },
     "metadata": {},
     "output_type": "display_data"
    },
    {
     "data": {
      "text/html": [
       "Tracking run with wandb version 0.13.10"
      ],
      "text/plain": [
       "<IPython.core.display.HTML object>"
      ]
     },
     "metadata": {},
     "output_type": "display_data"
    },
    {
     "data": {
      "text/html": [
       "Run data is saved locally in <code>/root/jupyter/IHC/gain_proj/wandb/run-20230421_161424-h4u35zu2</code>"
      ],
      "text/plain": [
       "<IPython.core.display.HTML object>"
      ]
     },
     "metadata": {},
     "output_type": "display_data"
    },
    {
     "data": {
      "text/html": [
       "Syncing run <strong><a href='https://wandb.ai/hcim/CIFAR10/runs/h4u35zu2' target=\"_blank\">LeNet-serlu</a></strong> to <a href='https://wandb.ai/hcim/CIFAR10' target=\"_blank\">Weights & Biases</a> (<a href='https://wandb.me/run' target=\"_blank\">docs</a>)<br/>"
      ],
      "text/plain": [
       "<IPython.core.display.HTML object>"
      ]
     },
     "metadata": {},
     "output_type": "display_data"
    },
    {
     "data": {
      "text/html": [
       " View project at <a href='https://wandb.ai/hcim/CIFAR10' target=\"_blank\">https://wandb.ai/hcim/CIFAR10</a>"
      ],
      "text/plain": [
       "<IPython.core.display.HTML object>"
      ]
     },
     "metadata": {},
     "output_type": "display_data"
    },
    {
     "data": {
      "text/html": [
       " View run at <a href='https://wandb.ai/hcim/CIFAR10/runs/h4u35zu2' target=\"_blank\">https://wandb.ai/hcim/CIFAR10/runs/h4u35zu2</a>"
      ],
      "text/plain": [
       "<IPython.core.display.HTML object>"
      ]
     },
     "metadata": {},
     "output_type": "display_data"
    },
    {
     "name": "stderr",
     "output_type": "stream",
     "text": [
      "\u001b[34m\u001b[1mwandb\u001b[0m: \u001b[33mWARNING\u001b[0m The save_model argument by default saves the model in the HDF5 format that cannot save custom objects like subclassed models and custom layers. This behavior will be deprecated in a future release in favor of the SavedModel format. Meanwhile, the HDF5 model is saved as W&B files and the SavedModel as W&B Artifacts.\n"
     ]
    }
   ],
   "source": [
    "from tensorflow.keras import callbacks\n",
    "\n",
    "wandb.init(project=\"CIFAR10\", entity=\"hcim\", name='LeNet-serlu')\n",
    "\n",
    "wandbCallback=wandb.keras.WandbCallback(monitor=\"val_accuracy\", mode=\"max\", \n",
    "                                        log_weights=True, log_gradients=True, \n",
    "                                        training_data=datagen.flow(x_train, y_train, batch_size=128))\n",
    "        \n",
    "    \n",
    "callbacks = [wandbCallback]"
   ]
  },
  {
   "cell_type": "code",
   "execution_count": null,
   "id": "42566652-334a-4435-a44c-e74a79105484",
   "metadata": {
    "tags": []
   },
   "outputs": [],
   "source": []
  },
  {
   "cell_type": "code",
   "execution_count": 10,
   "id": "3158316f-8f01-4d24-b97d-c773e6275e4f",
   "metadata": {},
   "outputs": [
    {
     "name": "stdout",
     "output_type": "stream",
     "text": [
      "Epoch 1/200\n"
     ]
    },
    {
     "name": "stderr",
     "output_type": "stream",
     "text": [
      "2023-04-21 16:14:27.974729: I tensorflow/stream_executor/cuda/cuda_dnn.cc:384] Loaded cuDNN version 8100\n",
      "2023-04-21 16:14:29.256600: I tensorflow/stream_executor/cuda/cuda_blas.cc:1614] TensorFloat-32 will be used for the matrix multiplication. This will only be logged once.\n"
     ]
    },
    {
     "name": "stdout",
     "output_type": "stream",
     "text": [
      "  5/391 [..............................] - ETA: 5s - loss: 2.4110 - accuracy: 0.1094   WARNING:tensorflow:Callback method `on_train_batch_end` is slow compared to the batch time (batch time: 0.0113s vs `on_train_batch_end` time: 0.0433s). Check your callbacks.\n",
      "388/391 [============================>.] - ETA: 0s - loss: 1.9138 - accuracy: 0.2988"
     ]
    },
    {
     "name": "stderr",
     "output_type": "stream",
     "text": [
      "WARNING:absl:Found untraced functions such as _jit_compiled_convolution_op, _jit_compiled_convolution_op, _jit_compiled_convolution_op, _jit_compiled_convolution_op while saving (showing 4 of 4). These functions will not be directly callable after loading.\n"
     ]
    },
    {
     "name": "stdout",
     "output_type": "stream",
     "text": [
      "INFO:tensorflow:Assets written to: /root/jupyter/IHC/gain_proj/wandb/run-20230421_161424-h4u35zu2/files/model-best/assets\n"
     ]
    },
    {
     "name": "stderr",
     "output_type": "stream",
     "text": [
      "INFO:tensorflow:Assets written to: /root/jupyter/IHC/gain_proj/wandb/run-20230421_161424-h4u35zu2/files/model-best/assets\n",
      "\u001b[34m\u001b[1mwandb\u001b[0m: Adding directory to artifact (/root/jupyter/IHC/gain_proj/wandb/run-20230421_161424-h4u35zu2/files/model-best)... Done. 0.0s\n"
     ]
    },
    {
     "name": "stdout",
     "output_type": "stream",
     "text": [
      "391/391 [==============================] - 23s 52ms/step - loss: 1.9129 - accuracy: 0.2992 - val_loss: 1.7457 - val_accuracy: 0.3454\n",
      "Epoch 2/200\n",
      "391/391 [==============================] - ETA: 0s - loss: 1.6727 - accuracy: 0.3923"
     ]
    },
    {
     "name": "stderr",
     "output_type": "stream",
     "text": [
      "WARNING:absl:Found untraced functions such as _jit_compiled_convolution_op, _jit_compiled_convolution_op, _jit_compiled_convolution_op, _jit_compiled_convolution_op while saving (showing 4 of 4). These functions will not be directly callable after loading.\n"
     ]
    },
    {
     "name": "stdout",
     "output_type": "stream",
     "text": [
      "INFO:tensorflow:Assets written to: /root/jupyter/IHC/gain_proj/wandb/run-20230421_161424-h4u35zu2/files/model-best/assets\n"
     ]
    },
    {
     "name": "stderr",
     "output_type": "stream",
     "text": [
      "INFO:tensorflow:Assets written to: /root/jupyter/IHC/gain_proj/wandb/run-20230421_161424-h4u35zu2/files/model-best/assets\n",
      "\u001b[34m\u001b[1mwandb\u001b[0m: Adding directory to artifact (/root/jupyter/IHC/gain_proj/wandb/run-20230421_161424-h4u35zu2/files/model-best)... Done. 0.0s\n"
     ]
    },
    {
     "name": "stdout",
     "output_type": "stream",
     "text": [
      "391/391 [==============================] - 19s 48ms/step - loss: 1.6727 - accuracy: 0.3923 - val_loss: 1.5798 - val_accuracy: 0.4179\n",
      "Epoch 3/200\n",
      "389/391 [============================>.] - ETA: 0s - loss: 1.5767 - accuracy: 0.4283"
     ]
    },
    {
     "name": "stderr",
     "output_type": "stream",
     "text": [
      "WARNING:absl:Found untraced functions such as _jit_compiled_convolution_op, _jit_compiled_convolution_op, _jit_compiled_convolution_op, _jit_compiled_convolution_op while saving (showing 4 of 4). These functions will not be directly callable after loading.\n"
     ]
    },
    {
     "name": "stdout",
     "output_type": "stream",
     "text": [
      "INFO:tensorflow:Assets written to: /root/jupyter/IHC/gain_proj/wandb/run-20230421_161424-h4u35zu2/files/model-best/assets\n"
     ]
    },
    {
     "name": "stderr",
     "output_type": "stream",
     "text": [
      "INFO:tensorflow:Assets written to: /root/jupyter/IHC/gain_proj/wandb/run-20230421_161424-h4u35zu2/files/model-best/assets\n",
      "\u001b[34m\u001b[1mwandb\u001b[0m: Adding directory to artifact (/root/jupyter/IHC/gain_proj/wandb/run-20230421_161424-h4u35zu2/files/model-best)... Done. 0.0s\n"
     ]
    },
    {
     "name": "stdout",
     "output_type": "stream",
     "text": [
      "391/391 [==============================] - 19s 50ms/step - loss: 1.5764 - accuracy: 0.4283 - val_loss: 1.5608 - val_accuracy: 0.4291\n",
      "Epoch 4/200\n",
      "391/391 [==============================] - ETA: 0s - loss: 1.5169 - accuracy: 0.4493"
     ]
    },
    {
     "name": "stderr",
     "output_type": "stream",
     "text": [
      "WARNING:absl:Found untraced functions such as _jit_compiled_convolution_op, _jit_compiled_convolution_op, _jit_compiled_convolution_op, _jit_compiled_convolution_op while saving (showing 4 of 4). These functions will not be directly callable after loading.\n"
     ]
    },
    {
     "name": "stdout",
     "output_type": "stream",
     "text": [
      "INFO:tensorflow:Assets written to: /root/jupyter/IHC/gain_proj/wandb/run-20230421_161424-h4u35zu2/files/model-best/assets\n"
     ]
    },
    {
     "name": "stderr",
     "output_type": "stream",
     "text": [
      "INFO:tensorflow:Assets written to: /root/jupyter/IHC/gain_proj/wandb/run-20230421_161424-h4u35zu2/files/model-best/assets\n",
      "\u001b[34m\u001b[1mwandb\u001b[0m: Adding directory to artifact (/root/jupyter/IHC/gain_proj/wandb/run-20230421_161424-h4u35zu2/files/model-best)... Done. 0.0s\n"
     ]
    },
    {
     "name": "stdout",
     "output_type": "stream",
     "text": [
      "391/391 [==============================] - 19s 48ms/step - loss: 1.5169 - accuracy: 0.4493 - val_loss: 1.4816 - val_accuracy: 0.4575\n",
      "Epoch 5/200\n",
      "390/391 [============================>.] - ETA: 0s - loss: 1.4740 - accuracy: 0.4678"
     ]
    },
    {
     "name": "stderr",
     "output_type": "stream",
     "text": [
      "WARNING:absl:Found untraced functions such as _jit_compiled_convolution_op, _jit_compiled_convolution_op, _jit_compiled_convolution_op, _jit_compiled_convolution_op while saving (showing 4 of 4). These functions will not be directly callable after loading.\n"
     ]
    },
    {
     "name": "stdout",
     "output_type": "stream",
     "text": [
      "INFO:tensorflow:Assets written to: /root/jupyter/IHC/gain_proj/wandb/run-20230421_161424-h4u35zu2/files/model-best/assets\n"
     ]
    },
    {
     "name": "stderr",
     "output_type": "stream",
     "text": [
      "INFO:tensorflow:Assets written to: /root/jupyter/IHC/gain_proj/wandb/run-20230421_161424-h4u35zu2/files/model-best/assets\n",
      "\u001b[34m\u001b[1mwandb\u001b[0m: Adding directory to artifact (/root/jupyter/IHC/gain_proj/wandb/run-20230421_161424-h4u35zu2/files/model-best)... Done. 0.0s\n"
     ]
    },
    {
     "name": "stdout",
     "output_type": "stream",
     "text": [
      "391/391 [==============================] - 19s 49ms/step - loss: 1.4738 - accuracy: 0.4679 - val_loss: 1.4716 - val_accuracy: 0.4705\n",
      "Epoch 6/200\n",
      "388/391 [============================>.] - ETA: 0s - loss: 1.4361 - accuracy: 0.4839"
     ]
    },
    {
     "name": "stderr",
     "output_type": "stream",
     "text": [
      "WARNING:absl:Found untraced functions such as _jit_compiled_convolution_op, _jit_compiled_convolution_op, _jit_compiled_convolution_op, _jit_compiled_convolution_op while saving (showing 4 of 4). These functions will not be directly callable after loading.\n"
     ]
    },
    {
     "name": "stdout",
     "output_type": "stream",
     "text": [
      "INFO:tensorflow:Assets written to: /root/jupyter/IHC/gain_proj/wandb/run-20230421_161424-h4u35zu2/files/model-best/assets\n"
     ]
    },
    {
     "name": "stderr",
     "output_type": "stream",
     "text": [
      "INFO:tensorflow:Assets written to: /root/jupyter/IHC/gain_proj/wandb/run-20230421_161424-h4u35zu2/files/model-best/assets\n",
      "\u001b[34m\u001b[1mwandb\u001b[0m: Adding directory to artifact (/root/jupyter/IHC/gain_proj/wandb/run-20230421_161424-h4u35zu2/files/model-best)... Done. 0.0s\n"
     ]
    },
    {
     "name": "stdout",
     "output_type": "stream",
     "text": [
      "391/391 [==============================] - 19s 49ms/step - loss: 1.4357 - accuracy: 0.4839 - val_loss: 1.3940 - val_accuracy: 0.5004\n",
      "Epoch 7/200\n",
      "391/391 [==============================] - 17s 44ms/step - loss: 1.4032 - accuracy: 0.4964 - val_loss: 1.4074 - val_accuracy: 0.4900\n",
      "Epoch 8/200\n",
      "388/391 [============================>.] - ETA: 0s - loss: 1.3756 - accuracy: 0.5059"
     ]
    },
    {
     "name": "stderr",
     "output_type": "stream",
     "text": [
      "WARNING:absl:Found untraced functions such as _jit_compiled_convolution_op, _jit_compiled_convolution_op, _jit_compiled_convolution_op, _jit_compiled_convolution_op while saving (showing 4 of 4). These functions will not be directly callable after loading.\n"
     ]
    },
    {
     "name": "stdout",
     "output_type": "stream",
     "text": [
      "INFO:tensorflow:Assets written to: /root/jupyter/IHC/gain_proj/wandb/run-20230421_161424-h4u35zu2/files/model-best/assets\n"
     ]
    },
    {
     "name": "stderr",
     "output_type": "stream",
     "text": [
      "INFO:tensorflow:Assets written to: /root/jupyter/IHC/gain_proj/wandb/run-20230421_161424-h4u35zu2/files/model-best/assets\n",
      "\u001b[34m\u001b[1mwandb\u001b[0m: Adding directory to artifact (/root/jupyter/IHC/gain_proj/wandb/run-20230421_161424-h4u35zu2/files/model-best)... Done. 0.0s\n"
     ]
    },
    {
     "name": "stdout",
     "output_type": "stream",
     "text": [
      "391/391 [==============================] - 19s 49ms/step - loss: 1.3757 - accuracy: 0.5058 - val_loss: 1.3451 - val_accuracy: 0.5110\n",
      "Epoch 9/200\n",
      "388/391 [============================>.] - ETA: 0s - loss: 1.3483 - accuracy: 0.5170"
     ]
    },
    {
     "name": "stderr",
     "output_type": "stream",
     "text": [
      "WARNING:absl:Found untraced functions such as _jit_compiled_convolution_op, _jit_compiled_convolution_op, _jit_compiled_convolution_op, _jit_compiled_convolution_op while saving (showing 4 of 4). These functions will not be directly callable after loading.\n"
     ]
    },
    {
     "name": "stdout",
     "output_type": "stream",
     "text": [
      "INFO:tensorflow:Assets written to: /root/jupyter/IHC/gain_proj/wandb/run-20230421_161424-h4u35zu2/files/model-best/assets\n"
     ]
    },
    {
     "name": "stderr",
     "output_type": "stream",
     "text": [
      "INFO:tensorflow:Assets written to: /root/jupyter/IHC/gain_proj/wandb/run-20230421_161424-h4u35zu2/files/model-best/assets\n",
      "\u001b[34m\u001b[1mwandb\u001b[0m: Adding directory to artifact (/root/jupyter/IHC/gain_proj/wandb/run-20230421_161424-h4u35zu2/files/model-best)... Done. 0.0s\n"
     ]
    },
    {
     "name": "stdout",
     "output_type": "stream",
     "text": [
      "391/391 [==============================] - 20s 50ms/step - loss: 1.3484 - accuracy: 0.5170 - val_loss: 1.3063 - val_accuracy: 0.5292\n",
      "Epoch 10/200\n",
      "391/391 [==============================] - 18s 45ms/step - loss: 1.3272 - accuracy: 0.5260 - val_loss: 1.3293 - val_accuracy: 0.5258\n",
      "Epoch 11/200\n",
      "390/391 [============================>.] - ETA: 0s - loss: 1.3022 - accuracy: 0.5332"
     ]
    },
    {
     "name": "stderr",
     "output_type": "stream",
     "text": [
      "WARNING:absl:Found untraced functions such as _jit_compiled_convolution_op, _jit_compiled_convolution_op, _jit_compiled_convolution_op, _jit_compiled_convolution_op while saving (showing 4 of 4). These functions will not be directly callable after loading.\n"
     ]
    },
    {
     "name": "stdout",
     "output_type": "stream",
     "text": [
      "INFO:tensorflow:Assets written to: /root/jupyter/IHC/gain_proj/wandb/run-20230421_161424-h4u35zu2/files/model-best/assets\n"
     ]
    },
    {
     "name": "stderr",
     "output_type": "stream",
     "text": [
      "INFO:tensorflow:Assets written to: /root/jupyter/IHC/gain_proj/wandb/run-20230421_161424-h4u35zu2/files/model-best/assets\n",
      "\u001b[34m\u001b[1mwandb\u001b[0m: Adding directory to artifact (/root/jupyter/IHC/gain_proj/wandb/run-20230421_161424-h4u35zu2/files/model-best)... Done. 0.0s\n"
     ]
    },
    {
     "name": "stdout",
     "output_type": "stream",
     "text": [
      "391/391 [==============================] - 19s 49ms/step - loss: 1.3024 - accuracy: 0.5332 - val_loss: 1.2926 - val_accuracy: 0.5439\n",
      "Epoch 12/200\n",
      "391/391 [==============================] - ETA: 0s - loss: 1.2849 - accuracy: 0.5415"
     ]
    },
    {
     "name": "stderr",
     "output_type": "stream",
     "text": [
      "WARNING:absl:Found untraced functions such as _jit_compiled_convolution_op, _jit_compiled_convolution_op, _jit_compiled_convolution_op, _jit_compiled_convolution_op while saving (showing 4 of 4). These functions will not be directly callable after loading.\n"
     ]
    },
    {
     "name": "stdout",
     "output_type": "stream",
     "text": [
      "INFO:tensorflow:Assets written to: /root/jupyter/IHC/gain_proj/wandb/run-20230421_161424-h4u35zu2/files/model-best/assets\n"
     ]
    },
    {
     "name": "stderr",
     "output_type": "stream",
     "text": [
      "INFO:tensorflow:Assets written to: /root/jupyter/IHC/gain_proj/wandb/run-20230421_161424-h4u35zu2/files/model-best/assets\n",
      "\u001b[34m\u001b[1mwandb\u001b[0m: Adding directory to artifact (/root/jupyter/IHC/gain_proj/wandb/run-20230421_161424-h4u35zu2/files/model-best)... Done. 0.0s\n"
     ]
    },
    {
     "name": "stdout",
     "output_type": "stream",
     "text": [
      "391/391 [==============================] - 19s 48ms/step - loss: 1.2849 - accuracy: 0.5415 - val_loss: 1.2489 - val_accuracy: 0.5553\n",
      "Epoch 13/200\n",
      "391/391 [==============================] - 18s 45ms/step - loss: 1.2652 - accuracy: 0.5485 - val_loss: 1.2557 - val_accuracy: 0.5466\n",
      "Epoch 14/200\n",
      "391/391 [==============================] - 18s 45ms/step - loss: 1.2502 - accuracy: 0.5543 - val_loss: 1.2575 - val_accuracy: 0.5519\n",
      "Epoch 15/200\n",
      "389/391 [============================>.] - ETA: 0s - loss: 1.2307 - accuracy: 0.5650"
     ]
    },
    {
     "name": "stderr",
     "output_type": "stream",
     "text": [
      "WARNING:absl:Found untraced functions such as _jit_compiled_convolution_op, _jit_compiled_convolution_op, _jit_compiled_convolution_op, _jit_compiled_convolution_op while saving (showing 4 of 4). These functions will not be directly callable after loading.\n"
     ]
    },
    {
     "name": "stdout",
     "output_type": "stream",
     "text": [
      "INFO:tensorflow:Assets written to: /root/jupyter/IHC/gain_proj/wandb/run-20230421_161424-h4u35zu2/files/model-best/assets\n"
     ]
    },
    {
     "name": "stderr",
     "output_type": "stream",
     "text": [
      "INFO:tensorflow:Assets written to: /root/jupyter/IHC/gain_proj/wandb/run-20230421_161424-h4u35zu2/files/model-best/assets\n",
      "\u001b[34m\u001b[1mwandb\u001b[0m: Adding directory to artifact (/root/jupyter/IHC/gain_proj/wandb/run-20230421_161424-h4u35zu2/files/model-best)... Done. 0.0s\n"
     ]
    },
    {
     "name": "stdout",
     "output_type": "stream",
     "text": [
      "391/391 [==============================] - 19s 49ms/step - loss: 1.2310 - accuracy: 0.5650 - val_loss: 1.2050 - val_accuracy: 0.5730\n",
      "Epoch 16/200\n",
      "391/391 [==============================] - 17s 45ms/step - loss: 1.2204 - accuracy: 0.5679 - val_loss: 1.2005 - val_accuracy: 0.5718\n",
      "Epoch 17/200\n",
      "391/391 [==============================] - 17s 44ms/step - loss: 1.1997 - accuracy: 0.5750 - val_loss: 1.1984 - val_accuracy: 0.5703\n",
      "Epoch 18/200\n",
      "390/391 [============================>.] - ETA: 0s - loss: 1.1906 - accuracy: 0.5801"
     ]
    },
    {
     "name": "stderr",
     "output_type": "stream",
     "text": [
      "WARNING:absl:Found untraced functions such as _jit_compiled_convolution_op, _jit_compiled_convolution_op, _jit_compiled_convolution_op, _jit_compiled_convolution_op while saving (showing 4 of 4). These functions will not be directly callable after loading.\n"
     ]
    },
    {
     "name": "stdout",
     "output_type": "stream",
     "text": [
      "INFO:tensorflow:Assets written to: /root/jupyter/IHC/gain_proj/wandb/run-20230421_161424-h4u35zu2/files/model-best/assets\n"
     ]
    },
    {
     "name": "stderr",
     "output_type": "stream",
     "text": [
      "INFO:tensorflow:Assets written to: /root/jupyter/IHC/gain_proj/wandb/run-20230421_161424-h4u35zu2/files/model-best/assets\n",
      "\u001b[34m\u001b[1mwandb\u001b[0m: Adding directory to artifact (/root/jupyter/IHC/gain_proj/wandb/run-20230421_161424-h4u35zu2/files/model-best)... Done. 0.0s\n"
     ]
    },
    {
     "name": "stdout",
     "output_type": "stream",
     "text": [
      "391/391 [==============================] - 19s 49ms/step - loss: 1.1905 - accuracy: 0.5801 - val_loss: 1.1720 - val_accuracy: 0.5790\n",
      "Epoch 19/200\n",
      "390/391 [============================>.] - ETA: 0s - loss: 1.1766 - accuracy: 0.5846"
     ]
    },
    {
     "name": "stderr",
     "output_type": "stream",
     "text": [
      "WARNING:absl:Found untraced functions such as _jit_compiled_convolution_op, _jit_compiled_convolution_op, _jit_compiled_convolution_op, _jit_compiled_convolution_op while saving (showing 4 of 4). These functions will not be directly callable after loading.\n"
     ]
    },
    {
     "name": "stdout",
     "output_type": "stream",
     "text": [
      "INFO:tensorflow:Assets written to: /root/jupyter/IHC/gain_proj/wandb/run-20230421_161424-h4u35zu2/files/model-best/assets\n"
     ]
    },
    {
     "name": "stderr",
     "output_type": "stream",
     "text": [
      "INFO:tensorflow:Assets written to: /root/jupyter/IHC/gain_proj/wandb/run-20230421_161424-h4u35zu2/files/model-best/assets\n",
      "\u001b[34m\u001b[1mwandb\u001b[0m: Adding directory to artifact (/root/jupyter/IHC/gain_proj/wandb/run-20230421_161424-h4u35zu2/files/model-best)... Done. 0.0s\n"
     ]
    },
    {
     "name": "stdout",
     "output_type": "stream",
     "text": [
      "391/391 [==============================] - 19s 48ms/step - loss: 1.1766 - accuracy: 0.5847 - val_loss: 1.1892 - val_accuracy: 0.5830\n",
      "Epoch 20/200\n",
      "389/391 [============================>.] - ETA: 0s - loss: 1.1642 - accuracy: 0.5886"
     ]
    },
    {
     "name": "stderr",
     "output_type": "stream",
     "text": [
      "WARNING:absl:Found untraced functions such as _jit_compiled_convolution_op, _jit_compiled_convolution_op, _jit_compiled_convolution_op, _jit_compiled_convolution_op while saving (showing 4 of 4). These functions will not be directly callable after loading.\n"
     ]
    },
    {
     "name": "stdout",
     "output_type": "stream",
     "text": [
      "INFO:tensorflow:Assets written to: /root/jupyter/IHC/gain_proj/wandb/run-20230421_161424-h4u35zu2/files/model-best/assets\n"
     ]
    },
    {
     "name": "stderr",
     "output_type": "stream",
     "text": [
      "INFO:tensorflow:Assets written to: /root/jupyter/IHC/gain_proj/wandb/run-20230421_161424-h4u35zu2/files/model-best/assets\n",
      "\u001b[34m\u001b[1mwandb\u001b[0m: Adding directory to artifact (/root/jupyter/IHC/gain_proj/wandb/run-20230421_161424-h4u35zu2/files/model-best)... Done. 0.0s\n"
     ]
    },
    {
     "name": "stdout",
     "output_type": "stream",
     "text": [
      "391/391 [==============================] - 19s 48ms/step - loss: 1.1649 - accuracy: 0.5886 - val_loss: 1.1787 - val_accuracy: 0.5872\n",
      "Epoch 21/200\n",
      "388/391 [============================>.] - ETA: 0s - loss: 1.1541 - accuracy: 0.5922"
     ]
    },
    {
     "name": "stderr",
     "output_type": "stream",
     "text": [
      "WARNING:absl:Found untraced functions such as _jit_compiled_convolution_op, _jit_compiled_convolution_op, _jit_compiled_convolution_op, _jit_compiled_convolution_op while saving (showing 4 of 4). These functions will not be directly callable after loading.\n"
     ]
    },
    {
     "name": "stdout",
     "output_type": "stream",
     "text": [
      "INFO:tensorflow:Assets written to: /root/jupyter/IHC/gain_proj/wandb/run-20230421_161424-h4u35zu2/files/model-best/assets\n"
     ]
    },
    {
     "name": "stderr",
     "output_type": "stream",
     "text": [
      "INFO:tensorflow:Assets written to: /root/jupyter/IHC/gain_proj/wandb/run-20230421_161424-h4u35zu2/files/model-best/assets\n",
      "\u001b[34m\u001b[1mwandb\u001b[0m: Adding directory to artifact (/root/jupyter/IHC/gain_proj/wandb/run-20230421_161424-h4u35zu2/files/model-best)... Done. 0.0s\n"
     ]
    },
    {
     "name": "stdout",
     "output_type": "stream",
     "text": [
      "391/391 [==============================] - 19s 50ms/step - loss: 1.1538 - accuracy: 0.5922 - val_loss: 1.1449 - val_accuracy: 0.5960\n",
      "Epoch 22/200\n",
      "391/391 [==============================] - 18s 45ms/step - loss: 1.1403 - accuracy: 0.5986 - val_loss: 1.1736 - val_accuracy: 0.5809\n",
      "Epoch 23/200\n",
      "389/391 [============================>.] - ETA: 0s - loss: 1.1318 - accuracy: 0.5989"
     ]
    },
    {
     "name": "stderr",
     "output_type": "stream",
     "text": [
      "WARNING:absl:Found untraced functions such as _jit_compiled_convolution_op, _jit_compiled_convolution_op, _jit_compiled_convolution_op, _jit_compiled_convolution_op while saving (showing 4 of 4). These functions will not be directly callable after loading.\n"
     ]
    },
    {
     "name": "stdout",
     "output_type": "stream",
     "text": [
      "INFO:tensorflow:Assets written to: /root/jupyter/IHC/gain_proj/wandb/run-20230421_161424-h4u35zu2/files/model-best/assets\n"
     ]
    },
    {
     "name": "stderr",
     "output_type": "stream",
     "text": [
      "INFO:tensorflow:Assets written to: /root/jupyter/IHC/gain_proj/wandb/run-20230421_161424-h4u35zu2/files/model-best/assets\n",
      "\u001b[34m\u001b[1mwandb\u001b[0m: Adding directory to artifact (/root/jupyter/IHC/gain_proj/wandb/run-20230421_161424-h4u35zu2/files/model-best)... Done. 0.0s\n"
     ]
    },
    {
     "name": "stdout",
     "output_type": "stream",
     "text": [
      "391/391 [==============================] - 19s 49ms/step - loss: 1.1311 - accuracy: 0.5991 - val_loss: 1.1276 - val_accuracy: 0.5971\n",
      "Epoch 24/200\n",
      "387/391 [============================>.] - ETA: 0s - loss: 1.1170 - accuracy: 0.6058"
     ]
    },
    {
     "name": "stderr",
     "output_type": "stream",
     "text": [
      "WARNING:absl:Found untraced functions such as _jit_compiled_convolution_op, _jit_compiled_convolution_op, _jit_compiled_convolution_op, _jit_compiled_convolution_op while saving (showing 4 of 4). These functions will not be directly callable after loading.\n"
     ]
    },
    {
     "name": "stdout",
     "output_type": "stream",
     "text": [
      "INFO:tensorflow:Assets written to: /root/jupyter/IHC/gain_proj/wandb/run-20230421_161424-h4u35zu2/files/model-best/assets\n"
     ]
    },
    {
     "name": "stderr",
     "output_type": "stream",
     "text": [
      "INFO:tensorflow:Assets written to: /root/jupyter/IHC/gain_proj/wandb/run-20230421_161424-h4u35zu2/files/model-best/assets\n",
      "\u001b[34m\u001b[1mwandb\u001b[0m: Adding directory to artifact (/root/jupyter/IHC/gain_proj/wandb/run-20230421_161424-h4u35zu2/files/model-best)... Done. 0.0s\n"
     ]
    },
    {
     "name": "stdout",
     "output_type": "stream",
     "text": [
      "391/391 [==============================] - 19s 48ms/step - loss: 1.1184 - accuracy: 0.6055 - val_loss: 1.1080 - val_accuracy: 0.6047\n",
      "Epoch 25/200\n",
      "390/391 [============================>.] - ETA: 0s - loss: 1.1074 - accuracy: 0.6096"
     ]
    },
    {
     "name": "stderr",
     "output_type": "stream",
     "text": [
      "WARNING:absl:Found untraced functions such as _jit_compiled_convolution_op, _jit_compiled_convolution_op, _jit_compiled_convolution_op, _jit_compiled_convolution_op while saving (showing 4 of 4). These functions will not be directly callable after loading.\n"
     ]
    },
    {
     "name": "stdout",
     "output_type": "stream",
     "text": [
      "INFO:tensorflow:Assets written to: /root/jupyter/IHC/gain_proj/wandb/run-20230421_161424-h4u35zu2/files/model-best/assets\n"
     ]
    },
    {
     "name": "stderr",
     "output_type": "stream",
     "text": [
      "INFO:tensorflow:Assets written to: /root/jupyter/IHC/gain_proj/wandb/run-20230421_161424-h4u35zu2/files/model-best/assets\n",
      "\u001b[34m\u001b[1mwandb\u001b[0m: Adding directory to artifact (/root/jupyter/IHC/gain_proj/wandb/run-20230421_161424-h4u35zu2/files/model-best)... Done. 0.0s\n"
     ]
    },
    {
     "name": "stdout",
     "output_type": "stream",
     "text": [
      "391/391 [==============================] - 19s 49ms/step - loss: 1.1072 - accuracy: 0.6096 - val_loss: 1.1131 - val_accuracy: 0.6092\n",
      "Epoch 26/200\n",
      "388/391 [============================>.] - ETA: 0s - loss: 1.0978 - accuracy: 0.6139"
     ]
    },
    {
     "name": "stderr",
     "output_type": "stream",
     "text": [
      "WARNING:absl:Found untraced functions such as _jit_compiled_convolution_op, _jit_compiled_convolution_op, _jit_compiled_convolution_op, _jit_compiled_convolution_op while saving (showing 4 of 4). These functions will not be directly callable after loading.\n"
     ]
    },
    {
     "name": "stdout",
     "output_type": "stream",
     "text": [
      "INFO:tensorflow:Assets written to: /root/jupyter/IHC/gain_proj/wandb/run-20230421_161424-h4u35zu2/files/model-best/assets\n"
     ]
    },
    {
     "name": "stderr",
     "output_type": "stream",
     "text": [
      "INFO:tensorflow:Assets written to: /root/jupyter/IHC/gain_proj/wandb/run-20230421_161424-h4u35zu2/files/model-best/assets\n",
      "\u001b[34m\u001b[1mwandb\u001b[0m: Adding directory to artifact (/root/jupyter/IHC/gain_proj/wandb/run-20230421_161424-h4u35zu2/files/model-best)... Done. 0.0s\n"
     ]
    },
    {
     "name": "stdout",
     "output_type": "stream",
     "text": [
      "391/391 [==============================] - 19s 49ms/step - loss: 1.0967 - accuracy: 0.6142 - val_loss: 1.0955 - val_accuracy: 0.6132\n",
      "Epoch 27/200\n",
      "391/391 [==============================] - 17s 45ms/step - loss: 1.0875 - accuracy: 0.6163 - val_loss: 1.1322 - val_accuracy: 0.5949\n",
      "Epoch 28/200\n",
      "391/391 [==============================] - 18s 45ms/step - loss: 1.0776 - accuracy: 0.6196 - val_loss: 1.1142 - val_accuracy: 0.6029\n",
      "Epoch 29/200\n",
      "390/391 [============================>.] - ETA: 0s - loss: 1.0685 - accuracy: 0.6258"
     ]
    },
    {
     "name": "stderr",
     "output_type": "stream",
     "text": [
      "WARNING:absl:Found untraced functions such as _jit_compiled_convolution_op, _jit_compiled_convolution_op, _jit_compiled_convolution_op, _jit_compiled_convolution_op while saving (showing 4 of 4). These functions will not be directly callable after loading.\n"
     ]
    },
    {
     "name": "stdout",
     "output_type": "stream",
     "text": [
      "INFO:tensorflow:Assets written to: /root/jupyter/IHC/gain_proj/wandb/run-20230421_161424-h4u35zu2/files/model-best/assets\n"
     ]
    },
    {
     "name": "stderr",
     "output_type": "stream",
     "text": [
      "INFO:tensorflow:Assets written to: /root/jupyter/IHC/gain_proj/wandb/run-20230421_161424-h4u35zu2/files/model-best/assets\n",
      "\u001b[34m\u001b[1mwandb\u001b[0m: Adding directory to artifact (/root/jupyter/IHC/gain_proj/wandb/run-20230421_161424-h4u35zu2/files/model-best)... Done. 0.0s\n"
     ]
    },
    {
     "name": "stdout",
     "output_type": "stream",
     "text": [
      "391/391 [==============================] - 22s 55ms/step - loss: 1.0684 - accuracy: 0.6258 - val_loss: 1.0817 - val_accuracy: 0.6133\n",
      "Epoch 30/200\n",
      "389/391 [============================>.] - ETA: 0s - loss: 1.0599 - accuracy: 0.6257"
     ]
    },
    {
     "name": "stderr",
     "output_type": "stream",
     "text": [
      "WARNING:absl:Found untraced functions such as _jit_compiled_convolution_op, _jit_compiled_convolution_op, _jit_compiled_convolution_op, _jit_compiled_convolution_op while saving (showing 4 of 4). These functions will not be directly callable after loading.\n"
     ]
    },
    {
     "name": "stdout",
     "output_type": "stream",
     "text": [
      "INFO:tensorflow:Assets written to: /root/jupyter/IHC/gain_proj/wandb/run-20230421_161424-h4u35zu2/files/model-best/assets\n"
     ]
    },
    {
     "name": "stderr",
     "output_type": "stream",
     "text": [
      "INFO:tensorflow:Assets written to: /root/jupyter/IHC/gain_proj/wandb/run-20230421_161424-h4u35zu2/files/model-best/assets\n",
      "\u001b[34m\u001b[1mwandb\u001b[0m: Adding directory to artifact (/root/jupyter/IHC/gain_proj/wandb/run-20230421_161424-h4u35zu2/files/model-best)... Done. 0.1s\n"
     ]
    },
    {
     "name": "stdout",
     "output_type": "stream",
     "text": [
      "391/391 [==============================] - 21s 53ms/step - loss: 1.0594 - accuracy: 0.6258 - val_loss: 1.0884 - val_accuracy: 0.6134\n",
      "Epoch 31/200\n",
      "390/391 [============================>.] - ETA: 0s - loss: 1.0522 - accuracy: 0.6285"
     ]
    },
    {
     "name": "stderr",
     "output_type": "stream",
     "text": [
      "WARNING:absl:Found untraced functions such as _jit_compiled_convolution_op, _jit_compiled_convolution_op, _jit_compiled_convolution_op, _jit_compiled_convolution_op while saving (showing 4 of 4). These functions will not be directly callable after loading.\n"
     ]
    },
    {
     "name": "stdout",
     "output_type": "stream",
     "text": [
      "INFO:tensorflow:Assets written to: /root/jupyter/IHC/gain_proj/wandb/run-20230421_161424-h4u35zu2/files/model-best/assets\n"
     ]
    },
    {
     "name": "stderr",
     "output_type": "stream",
     "text": [
      "INFO:tensorflow:Assets written to: /root/jupyter/IHC/gain_proj/wandb/run-20230421_161424-h4u35zu2/files/model-best/assets\n",
      "\u001b[34m\u001b[1mwandb\u001b[0m: Adding directory to artifact (/root/jupyter/IHC/gain_proj/wandb/run-20230421_161424-h4u35zu2/files/model-best)... Done. 0.0s\n"
     ]
    },
    {
     "name": "stdout",
     "output_type": "stream",
     "text": [
      "391/391 [==============================] - 20s 51ms/step - loss: 1.0522 - accuracy: 0.6285 - val_loss: 1.0589 - val_accuracy: 0.6228\n",
      "Epoch 32/200\n",
      "389/391 [============================>.] - ETA: 0s - loss: 1.0430 - accuracy: 0.6334"
     ]
    },
    {
     "name": "stderr",
     "output_type": "stream",
     "text": [
      "WARNING:absl:Found untraced functions such as _jit_compiled_convolution_op, _jit_compiled_convolution_op, _jit_compiled_convolution_op, _jit_compiled_convolution_op while saving (showing 4 of 4). These functions will not be directly callable after loading.\n"
     ]
    },
    {
     "name": "stdout",
     "output_type": "stream",
     "text": [
      "INFO:tensorflow:Assets written to: /root/jupyter/IHC/gain_proj/wandb/run-20230421_161424-h4u35zu2/files/model-best/assets\n"
     ]
    },
    {
     "name": "stderr",
     "output_type": "stream",
     "text": [
      "INFO:tensorflow:Assets written to: /root/jupyter/IHC/gain_proj/wandb/run-20230421_161424-h4u35zu2/files/model-best/assets\n",
      "\u001b[34m\u001b[1mwandb\u001b[0m: Adding directory to artifact (/root/jupyter/IHC/gain_proj/wandb/run-20230421_161424-h4u35zu2/files/model-best)... Done. 0.0s\n"
     ]
    },
    {
     "name": "stdout",
     "output_type": "stream",
     "text": [
      "391/391 [==============================] - 19s 48ms/step - loss: 1.0426 - accuracy: 0.6336 - val_loss: 1.0500 - val_accuracy: 0.6290\n",
      "Epoch 33/200\n",
      "388/391 [============================>.] - ETA: 0s - loss: 1.0305 - accuracy: 0.6367"
     ]
    },
    {
     "name": "stderr",
     "output_type": "stream",
     "text": [
      "WARNING:absl:Found untraced functions such as _jit_compiled_convolution_op, _jit_compiled_convolution_op, _jit_compiled_convolution_op, _jit_compiled_convolution_op while saving (showing 4 of 4). These functions will not be directly callable after loading.\n"
     ]
    },
    {
     "name": "stdout",
     "output_type": "stream",
     "text": [
      "INFO:tensorflow:Assets written to: /root/jupyter/IHC/gain_proj/wandb/run-20230421_161424-h4u35zu2/files/model-best/assets\n"
     ]
    },
    {
     "name": "stderr",
     "output_type": "stream",
     "text": [
      "INFO:tensorflow:Assets written to: /root/jupyter/IHC/gain_proj/wandb/run-20230421_161424-h4u35zu2/files/model-best/assets\n",
      "\u001b[34m\u001b[1mwandb\u001b[0m: Adding directory to artifact (/root/jupyter/IHC/gain_proj/wandb/run-20230421_161424-h4u35zu2/files/model-best)... Done. 0.0s\n"
     ]
    },
    {
     "name": "stdout",
     "output_type": "stream",
     "text": [
      "391/391 [==============================] - 19s 49ms/step - loss: 1.0308 - accuracy: 0.6367 - val_loss: 1.0343 - val_accuracy: 0.6331\n",
      "Epoch 34/200\n",
      "391/391 [==============================] - 17s 44ms/step - loss: 1.0262 - accuracy: 0.6381 - val_loss: 1.0414 - val_accuracy: 0.6331\n",
      "Epoch 35/200\n",
      "388/391 [============================>.] - ETA: 0s - loss: 1.0092 - accuracy: 0.6453"
     ]
    },
    {
     "name": "stderr",
     "output_type": "stream",
     "text": [
      "WARNING:absl:Found untraced functions such as _jit_compiled_convolution_op, _jit_compiled_convolution_op, _jit_compiled_convolution_op, _jit_compiled_convolution_op while saving (showing 4 of 4). These functions will not be directly callable after loading.\n"
     ]
    },
    {
     "name": "stdout",
     "output_type": "stream",
     "text": [
      "INFO:tensorflow:Assets written to: /root/jupyter/IHC/gain_proj/wandb/run-20230421_161424-h4u35zu2/files/model-best/assets\n"
     ]
    },
    {
     "name": "stderr",
     "output_type": "stream",
     "text": [
      "INFO:tensorflow:Assets written to: /root/jupyter/IHC/gain_proj/wandb/run-20230421_161424-h4u35zu2/files/model-best/assets\n",
      "\u001b[34m\u001b[1mwandb\u001b[0m: Adding directory to artifact (/root/jupyter/IHC/gain_proj/wandb/run-20230421_161424-h4u35zu2/files/model-best)... Done. 0.0s\n"
     ]
    },
    {
     "name": "stdout",
     "output_type": "stream",
     "text": [
      "391/391 [==============================] - 19s 49ms/step - loss: 1.0093 - accuracy: 0.6454 - val_loss: 1.0220 - val_accuracy: 0.6349\n",
      "Epoch 36/200\n",
      "391/391 [==============================] - 17s 44ms/step - loss: 1.0032 - accuracy: 0.6480 - val_loss: 1.0242 - val_accuracy: 0.6329\n",
      "Epoch 37/200\n",
      "389/391 [============================>.] - ETA: 0s - loss: 0.9978 - accuracy: 0.6498"
     ]
    },
    {
     "name": "stderr",
     "output_type": "stream",
     "text": [
      "WARNING:absl:Found untraced functions such as _jit_compiled_convolution_op, _jit_compiled_convolution_op, _jit_compiled_convolution_op, _jit_compiled_convolution_op while saving (showing 4 of 4). These functions will not be directly callable after loading.\n"
     ]
    },
    {
     "name": "stdout",
     "output_type": "stream",
     "text": [
      "INFO:tensorflow:Assets written to: /root/jupyter/IHC/gain_proj/wandb/run-20230421_161424-h4u35zu2/files/model-best/assets\n"
     ]
    },
    {
     "name": "stderr",
     "output_type": "stream",
     "text": [
      "INFO:tensorflow:Assets written to: /root/jupyter/IHC/gain_proj/wandb/run-20230421_161424-h4u35zu2/files/model-best/assets\n",
      "\u001b[34m\u001b[1mwandb\u001b[0m: Adding directory to artifact (/root/jupyter/IHC/gain_proj/wandb/run-20230421_161424-h4u35zu2/files/model-best)... Done. 0.0s\n"
     ]
    },
    {
     "name": "stdout",
     "output_type": "stream",
     "text": [
      "391/391 [==============================] - 20s 52ms/step - loss: 0.9970 - accuracy: 0.6503 - val_loss: 1.0096 - val_accuracy: 0.6457\n",
      "Epoch 38/200\n",
      "391/391 [==============================] - 17s 44ms/step - loss: 0.9898 - accuracy: 0.6491 - val_loss: 1.0087 - val_accuracy: 0.6428\n",
      "Epoch 39/200\n",
      "388/391 [============================>.] - ETA: 0s - loss: 0.9359 - accuracy: 0.6705"
     ]
    },
    {
     "name": "stderr",
     "output_type": "stream",
     "text": [
      "WARNING:absl:Found untraced functions such as _jit_compiled_convolution_op, _jit_compiled_convolution_op, _jit_compiled_convolution_op, _jit_compiled_convolution_op while saving (showing 4 of 4). These functions will not be directly callable after loading.\n"
     ]
    },
    {
     "name": "stdout",
     "output_type": "stream",
     "text": [
      "INFO:tensorflow:Assets written to: /root/jupyter/IHC/gain_proj/wandb/run-20230421_161424-h4u35zu2/files/model-best/assets\n"
     ]
    },
    {
     "name": "stderr",
     "output_type": "stream",
     "text": [
      "INFO:tensorflow:Assets written to: /root/jupyter/IHC/gain_proj/wandb/run-20230421_161424-h4u35zu2/files/model-best/assets\n",
      "\u001b[34m\u001b[1mwandb\u001b[0m: Adding directory to artifact (/root/jupyter/IHC/gain_proj/wandb/run-20230421_161424-h4u35zu2/files/model-best)... Done. 0.0s\n"
     ]
    },
    {
     "name": "stdout",
     "output_type": "stream",
     "text": [
      "391/391 [==============================] - 23s 58ms/step - loss: 0.9359 - accuracy: 0.6706 - val_loss: 0.9643 - val_accuracy: 0.6556\n",
      "Epoch 46/200\n",
      "391/391 [==============================] - ETA: 0s - loss: 0.9313 - accuracy: 0.6734"
     ]
    },
    {
     "name": "stderr",
     "output_type": "stream",
     "text": [
      "WARNING:absl:Found untraced functions such as _jit_compiled_convolution_op, _jit_compiled_convolution_op, _jit_compiled_convolution_op, _jit_compiled_convolution_op while saving (showing 4 of 4). These functions will not be directly callable after loading.\n"
     ]
    },
    {
     "name": "stdout",
     "output_type": "stream",
     "text": [
      "INFO:tensorflow:Assets written to: /root/jupyter/IHC/gain_proj/wandb/run-20230421_161424-h4u35zu2/files/model-best/assets\n"
     ]
    },
    {
     "name": "stderr",
     "output_type": "stream",
     "text": [
      "INFO:tensorflow:Assets written to: /root/jupyter/IHC/gain_proj/wandb/run-20230421_161424-h4u35zu2/files/model-best/assets\n",
      "\u001b[34m\u001b[1mwandb\u001b[0m: Adding directory to artifact (/root/jupyter/IHC/gain_proj/wandb/run-20230421_161424-h4u35zu2/files/model-best)... Done. 0.0s\n"
     ]
    },
    {
     "name": "stdout",
     "output_type": "stream",
     "text": [
      "391/391 [==============================] - 19s 50ms/step - loss: 0.9313 - accuracy: 0.6734 - val_loss: 0.9493 - val_accuracy: 0.6635\n",
      "Epoch 47/200\n",
      "391/391 [==============================] - 17s 44ms/step - loss: 0.9211 - accuracy: 0.6763 - val_loss: 0.9602 - val_accuracy: 0.6544\n",
      "Epoch 48/200\n",
      "391/391 [==============================] - 18s 45ms/step - loss: 0.9132 - accuracy: 0.6789 - val_loss: 0.9625 - val_accuracy: 0.6603\n",
      "Epoch 49/200\n",
      "391/391 [==============================] - 17s 44ms/step - loss: 0.9115 - accuracy: 0.6802 - val_loss: 0.9664 - val_accuracy: 0.6628\n",
      "Epoch 50/200\n",
      "391/391 [==============================] - 18s 45ms/step - loss: 0.9075 - accuracy: 0.6812 - val_loss: 0.9769 - val_accuracy: 0.6566\n",
      "Epoch 51/200\n",
      "391/391 [==============================] - 18s 45ms/step - loss: 0.8984 - accuracy: 0.6845 - val_loss: 0.9517 - val_accuracy: 0.6626\n",
      "Epoch 52/200\n",
      "390/391 [============================>.] - ETA: 0s - loss: 0.8927 - accuracy: 0.6858"
     ]
    },
    {
     "name": "stderr",
     "output_type": "stream",
     "text": [
      "WARNING:absl:Found untraced functions such as _jit_compiled_convolution_op, _jit_compiled_convolution_op, _jit_compiled_convolution_op, _jit_compiled_convolution_op while saving (showing 4 of 4). These functions will not be directly callable after loading.\n"
     ]
    },
    {
     "name": "stdout",
     "output_type": "stream",
     "text": [
      "INFO:tensorflow:Assets written to: /root/jupyter/IHC/gain_proj/wandb/run-20230421_161424-h4u35zu2/files/model-best/assets\n"
     ]
    },
    {
     "name": "stderr",
     "output_type": "stream",
     "text": [
      "INFO:tensorflow:Assets written to: /root/jupyter/IHC/gain_proj/wandb/run-20230421_161424-h4u35zu2/files/model-best/assets\n",
      "\u001b[34m\u001b[1mwandb\u001b[0m: Adding directory to artifact (/root/jupyter/IHC/gain_proj/wandb/run-20230421_161424-h4u35zu2/files/model-best)... Done. 0.0s\n"
     ]
    },
    {
     "name": "stdout",
     "output_type": "stream",
     "text": [
      "391/391 [==============================] - 19s 49ms/step - loss: 0.8930 - accuracy: 0.6858 - val_loss: 0.9389 - val_accuracy: 0.6705\n",
      "Epoch 53/200\n",
      "388/391 [============================>.] - ETA: 0s - loss: 0.8851 - accuracy: 0.6887"
     ]
    },
    {
     "name": "stderr",
     "output_type": "stream",
     "text": [
      "WARNING:absl:Found untraced functions such as _jit_compiled_convolution_op, _jit_compiled_convolution_op, _jit_compiled_convolution_op, _jit_compiled_convolution_op while saving (showing 4 of 4). These functions will not be directly callable after loading.\n"
     ]
    },
    {
     "name": "stdout",
     "output_type": "stream",
     "text": [
      "INFO:tensorflow:Assets written to: /root/jupyter/IHC/gain_proj/wandb/run-20230421_161424-h4u35zu2/files/model-best/assets\n"
     ]
    },
    {
     "name": "stderr",
     "output_type": "stream",
     "text": [
      "INFO:tensorflow:Assets written to: /root/jupyter/IHC/gain_proj/wandb/run-20230421_161424-h4u35zu2/files/model-best/assets\n",
      "\u001b[34m\u001b[1mwandb\u001b[0m: Adding directory to artifact (/root/jupyter/IHC/gain_proj/wandb/run-20230421_161424-h4u35zu2/files/model-best)... Done. 0.0s\n"
     ]
    },
    {
     "name": "stdout",
     "output_type": "stream",
     "text": [
      "391/391 [==============================] - 20s 51ms/step - loss: 0.8855 - accuracy: 0.6885 - val_loss: 0.9303 - val_accuracy: 0.6741\n",
      "Epoch 54/200\n",
      "389/391 [============================>.] - ETA: 0s - loss: 0.8803 - accuracy: 0.6900"
     ]
    },
    {
     "name": "stderr",
     "output_type": "stream",
     "text": [
      "WARNING:absl:Found untraced functions such as _jit_compiled_convolution_op, _jit_compiled_convolution_op, _jit_compiled_convolution_op, _jit_compiled_convolution_op while saving (showing 4 of 4). These functions will not be directly callable after loading.\n"
     ]
    },
    {
     "name": "stdout",
     "output_type": "stream",
     "text": [
      "INFO:tensorflow:Assets written to: /root/jupyter/IHC/gain_proj/wandb/run-20230421_161424-h4u35zu2/files/model-best/assets\n"
     ]
    },
    {
     "name": "stderr",
     "output_type": "stream",
     "text": [
      "INFO:tensorflow:Assets written to: /root/jupyter/IHC/gain_proj/wandb/run-20230421_161424-h4u35zu2/files/model-best/assets\n",
      "\u001b[34m\u001b[1mwandb\u001b[0m: Adding directory to artifact (/root/jupyter/IHC/gain_proj/wandb/run-20230421_161424-h4u35zu2/files/model-best)... Done. 0.0s\n"
     ]
    },
    {
     "name": "stdout",
     "output_type": "stream",
     "text": [
      "391/391 [==============================] - 20s 52ms/step - loss: 0.8805 - accuracy: 0.6900 - val_loss: 0.9160 - val_accuracy: 0.6775\n",
      "Epoch 55/200\n",
      "391/391 [==============================] - 18s 45ms/step - loss: 0.8751 - accuracy: 0.6909 - val_loss: 0.9195 - val_accuracy: 0.6751\n",
      "Epoch 56/200\n",
      "391/391 [==============================] - 17s 45ms/step - loss: 0.8743 - accuracy: 0.6949 - val_loss: 0.9449 - val_accuracy: 0.6643\n",
      "Epoch 57/200\n",
      "389/391 [============================>.] - ETA: 0s - loss: 0.8682 - accuracy: 0.6934"
     ]
    },
    {
     "name": "stderr",
     "output_type": "stream",
     "text": [
      "WARNING:absl:Found untraced functions such as _jit_compiled_convolution_op, _jit_compiled_convolution_op, _jit_compiled_convolution_op, _jit_compiled_convolution_op while saving (showing 4 of 4). These functions will not be directly callable after loading.\n"
     ]
    },
    {
     "name": "stdout",
     "output_type": "stream",
     "text": [
      "INFO:tensorflow:Assets written to: /root/jupyter/IHC/gain_proj/wandb/run-20230421_161424-h4u35zu2/files/model-best/assets\n"
     ]
    },
    {
     "name": "stderr",
     "output_type": "stream",
     "text": [
      "INFO:tensorflow:Assets written to: /root/jupyter/IHC/gain_proj/wandb/run-20230421_161424-h4u35zu2/files/model-best/assets\n",
      "\u001b[34m\u001b[1mwandb\u001b[0m: Adding directory to artifact (/root/jupyter/IHC/gain_proj/wandb/run-20230421_161424-h4u35zu2/files/model-best)... Done. 0.0s\n"
     ]
    },
    {
     "name": "stdout",
     "output_type": "stream",
     "text": [
      "391/391 [==============================] - 19s 48ms/step - loss: 0.8679 - accuracy: 0.6936 - val_loss: 0.9103 - val_accuracy: 0.6827\n",
      "Epoch 58/200\n",
      "391/391 [==============================] - 17s 44ms/step - loss: 0.8618 - accuracy: 0.6982 - val_loss: 0.9097 - val_accuracy: 0.6786\n",
      "Epoch 59/200\n",
      "391/391 [==============================] - 18s 45ms/step - loss: 0.8551 - accuracy: 0.6997 - val_loss: 0.9171 - val_accuracy: 0.6781\n",
      "Epoch 60/200\n",
      "391/391 [==============================] - ETA: 0s - loss: 0.8495 - accuracy: 0.7031"
     ]
    },
    {
     "name": "stderr",
     "output_type": "stream",
     "text": [
      "WARNING:absl:Found untraced functions such as _jit_compiled_convolution_op, _jit_compiled_convolution_op, _jit_compiled_convolution_op, _jit_compiled_convolution_op while saving (showing 4 of 4). These functions will not be directly callable after loading.\n"
     ]
    },
    {
     "name": "stdout",
     "output_type": "stream",
     "text": [
      "INFO:tensorflow:Assets written to: /root/jupyter/IHC/gain_proj/wandb/run-20230421_161424-h4u35zu2/files/model-best/assets\n"
     ]
    },
    {
     "name": "stderr",
     "output_type": "stream",
     "text": [
      "INFO:tensorflow:Assets written to: /root/jupyter/IHC/gain_proj/wandb/run-20230421_161424-h4u35zu2/files/model-best/assets\n",
      "\u001b[34m\u001b[1mwandb\u001b[0m: Adding directory to artifact (/root/jupyter/IHC/gain_proj/wandb/run-20230421_161424-h4u35zu2/files/model-best)... Done. 0.0s\n"
     ]
    },
    {
     "name": "stdout",
     "output_type": "stream",
     "text": [
      "391/391 [==============================] - 19s 48ms/step - loss: 0.8495 - accuracy: 0.7031 - val_loss: 0.9022 - val_accuracy: 0.6832\n",
      "Epoch 61/200\n",
      "391/391 [==============================] - 17s 44ms/step - loss: 0.8455 - accuracy: 0.7015 - val_loss: 0.9006 - val_accuracy: 0.6818\n",
      "Epoch 62/200\n",
      "391/391 [==============================] - 18s 45ms/step - loss: 0.8453 - accuracy: 0.7039 - val_loss: 0.9054 - val_accuracy: 0.6812\n",
      "Epoch 63/200\n",
      "391/391 [==============================] - 18s 45ms/step - loss: 0.8386 - accuracy: 0.7062 - val_loss: 0.9021 - val_accuracy: 0.6820\n",
      "Epoch 64/200\n",
      "390/391 [============================>.] - ETA: 0s - loss: 0.8301 - accuracy: 0.7083"
     ]
    },
    {
     "name": "stderr",
     "output_type": "stream",
     "text": [
      "WARNING:absl:Found untraced functions such as _jit_compiled_convolution_op, _jit_compiled_convolution_op, _jit_compiled_convolution_op, _jit_compiled_convolution_op while saving (showing 4 of 4). These functions will not be directly callable after loading.\n"
     ]
    },
    {
     "name": "stdout",
     "output_type": "stream",
     "text": [
      "INFO:tensorflow:Assets written to: /root/jupyter/IHC/gain_proj/wandb/run-20230421_161424-h4u35zu2/files/model-best/assets\n"
     ]
    },
    {
     "name": "stderr",
     "output_type": "stream",
     "text": [
      "INFO:tensorflow:Assets written to: /root/jupyter/IHC/gain_proj/wandb/run-20230421_161424-h4u35zu2/files/model-best/assets\n",
      "\u001b[34m\u001b[1mwandb\u001b[0m: Adding directory to artifact (/root/jupyter/IHC/gain_proj/wandb/run-20230421_161424-h4u35zu2/files/model-best)... Done. 0.0s\n"
     ]
    },
    {
     "name": "stdout",
     "output_type": "stream",
     "text": [
      "391/391 [==============================] - 19s 48ms/step - loss: 0.8300 - accuracy: 0.7083 - val_loss: 0.8886 - val_accuracy: 0.6887\n",
      "Epoch 65/200\n",
      "388/391 [============================>.] - ETA: 0s - loss: 0.8318 - accuracy: 0.7076"
     ]
    },
    {
     "name": "stderr",
     "output_type": "stream",
     "text": [
      "WARNING:absl:Found untraced functions such as _jit_compiled_convolution_op, _jit_compiled_convolution_op, _jit_compiled_convolution_op, _jit_compiled_convolution_op while saving (showing 4 of 4). These functions will not be directly callable after loading.\n"
     ]
    },
    {
     "name": "stdout",
     "output_type": "stream",
     "text": [
      "INFO:tensorflow:Assets written to: /root/jupyter/IHC/gain_proj/wandb/run-20230421_161424-h4u35zu2/files/model-best/assets\n"
     ]
    },
    {
     "name": "stderr",
     "output_type": "stream",
     "text": [
      "INFO:tensorflow:Assets written to: /root/jupyter/IHC/gain_proj/wandb/run-20230421_161424-h4u35zu2/files/model-best/assets\n",
      "\u001b[34m\u001b[1mwandb\u001b[0m: Adding directory to artifact (/root/jupyter/IHC/gain_proj/wandb/run-20230421_161424-h4u35zu2/files/model-best)... Done. 0.0s\n"
     ]
    },
    {
     "name": "stdout",
     "output_type": "stream",
     "text": [
      "391/391 [==============================] - 19s 49ms/step - loss: 0.8314 - accuracy: 0.7077 - val_loss: 0.8871 - val_accuracy: 0.6926\n",
      "Epoch 66/200\n",
      "391/391 [==============================] - 18s 45ms/step - loss: 0.8265 - accuracy: 0.7105 - val_loss: 0.8794 - val_accuracy: 0.6919\n",
      "Epoch 67/200\n",
      "391/391 [==============================] - 18s 46ms/step - loss: 0.8220 - accuracy: 0.7105 - val_loss: 0.8808 - val_accuracy: 0.6917\n",
      "Epoch 68/200\n",
      "391/391 [==============================] - 18s 45ms/step - loss: 0.8178 - accuracy: 0.7141 - val_loss: 0.8935 - val_accuracy: 0.6848\n",
      "Epoch 69/200\n",
      "120/391 [========>.....................] - ETA: 4s - loss: 0.8141 - accuracy: 0.7199"
     ]
    },
    {
     "name": "stderr",
     "output_type": "stream",
     "text": [
      "IOPub message rate exceeded.\n",
      "The Jupyter server will temporarily stop sending output\n",
      "to the client in order to avoid crashing it.\n",
      "To change this limit, set the config variable\n",
      "`--ServerApp.iopub_msg_rate_limit`.\n",
      "\n",
      "Current values:\n",
      "ServerApp.iopub_msg_rate_limit=1000.0 (msgs/sec)\n",
      "ServerApp.rate_limit_window=3.0 (secs)\n",
      "\n"
     ]
    },
    {
     "name": "stdout",
     "output_type": "stream",
     "text": [
      "391/391 [==============================] - 18s 45ms/step - loss: 0.7156 - accuracy: 0.7502 - val_loss: 0.8226 - val_accuracy: 0.7148\n",
      "Epoch 101/200\n",
      "391/391 [==============================] - 18s 45ms/step - loss: 0.7167 - accuracy: 0.7488 - val_loss: 0.8238 - val_accuracy: 0.7121\n",
      "Epoch 102/200\n",
      "391/391 [==============================] - 18s 45ms/step - loss: 0.7089 - accuracy: 0.7508 - val_loss: 0.8187 - val_accuracy: 0.7106\n",
      "Epoch 103/200\n",
      "387/391 [============================>.] - ETA: 0s - loss: 0.7098 - accuracy: 0.7513"
     ]
    },
    {
     "name": "stderr",
     "output_type": "stream",
     "text": [
      "WARNING:absl:Found untraced functions such as _jit_compiled_convolution_op, _jit_compiled_convolution_op, _jit_compiled_convolution_op, _jit_compiled_convolution_op while saving (showing 4 of 4). These functions will not be directly callable after loading.\n"
     ]
    },
    {
     "name": "stdout",
     "output_type": "stream",
     "text": [
      "INFO:tensorflow:Assets written to: /root/jupyter/IHC/gain_proj/wandb/run-20230421_161424-h4u35zu2/files/model-best/assets\n"
     ]
    },
    {
     "name": "stderr",
     "output_type": "stream",
     "text": [
      "INFO:tensorflow:Assets written to: /root/jupyter/IHC/gain_proj/wandb/run-20230421_161424-h4u35zu2/files/model-best/assets\n",
      "\u001b[34m\u001b[1mwandb\u001b[0m: Adding directory to artifact (/root/jupyter/IHC/gain_proj/wandb/run-20230421_161424-h4u35zu2/files/model-best)... Done. 0.0s\n"
     ]
    },
    {
     "name": "stdout",
     "output_type": "stream",
     "text": [
      "391/391 [==============================] - 19s 50ms/step - loss: 0.7098 - accuracy: 0.7512 - val_loss: 0.8100 - val_accuracy: 0.7171\n",
      "Epoch 104/200\n",
      "390/391 [============================>.] - ETA: 0s - loss: 0.7043 - accuracy: 0.7537"
     ]
    },
    {
     "name": "stderr",
     "output_type": "stream",
     "text": [
      "WARNING:absl:Found untraced functions such as _jit_compiled_convolution_op, _jit_compiled_convolution_op, _jit_compiled_convolution_op, _jit_compiled_convolution_op while saving (showing 4 of 4). These functions will not be directly callable after loading.\n"
     ]
    },
    {
     "name": "stdout",
     "output_type": "stream",
     "text": [
      "INFO:tensorflow:Assets written to: /root/jupyter/IHC/gain_proj/wandb/run-20230421_161424-h4u35zu2/files/model-best/assets\n"
     ]
    },
    {
     "name": "stderr",
     "output_type": "stream",
     "text": [
      "INFO:tensorflow:Assets written to: /root/jupyter/IHC/gain_proj/wandb/run-20230421_161424-h4u35zu2/files/model-best/assets\n",
      "\u001b[34m\u001b[1mwandb\u001b[0m: Adding directory to artifact (/root/jupyter/IHC/gain_proj/wandb/run-20230421_161424-h4u35zu2/files/model-best)... Done. 0.0s\n"
     ]
    },
    {
     "name": "stdout",
     "output_type": "stream",
     "text": [
      "391/391 [==============================] - 19s 49ms/step - loss: 0.7042 - accuracy: 0.7538 - val_loss: 0.8100 - val_accuracy: 0.7175\n",
      "Epoch 105/200\n",
      "391/391 [==============================] - 18s 45ms/step - loss: 0.7060 - accuracy: 0.7499 - val_loss: 0.8104 - val_accuracy: 0.7172\n",
      "Epoch 106/200\n",
      "391/391 [==============================] - 17s 44ms/step - loss: 0.7038 - accuracy: 0.7541 - val_loss: 0.8136 - val_accuracy: 0.7171\n",
      "Epoch 107/200\n",
      "391/391 [==============================] - 17s 45ms/step - loss: 0.7004 - accuracy: 0.7536 - val_loss: 0.8195 - val_accuracy: 0.7169\n",
      "Epoch 108/200\n",
      "390/391 [============================>.] - ETA: 0s - loss: 0.6955 - accuracy: 0.7566"
     ]
    },
    {
     "name": "stderr",
     "output_type": "stream",
     "text": [
      "WARNING:absl:Found untraced functions such as _jit_compiled_convolution_op, _jit_compiled_convolution_op, _jit_compiled_convolution_op, _jit_compiled_convolution_op while saving (showing 4 of 4). These functions will not be directly callable after loading.\n"
     ]
    },
    {
     "name": "stdout",
     "output_type": "stream",
     "text": [
      "INFO:tensorflow:Assets written to: /root/jupyter/IHC/gain_proj/wandb/run-20230421_161424-h4u35zu2/files/model-best/assets\n"
     ]
    },
    {
     "name": "stderr",
     "output_type": "stream",
     "text": [
      "INFO:tensorflow:Assets written to: /root/jupyter/IHC/gain_proj/wandb/run-20230421_161424-h4u35zu2/files/model-best/assets\n",
      "\u001b[34m\u001b[1mwandb\u001b[0m: Adding directory to artifact (/root/jupyter/IHC/gain_proj/wandb/run-20230421_161424-h4u35zu2/files/model-best)... Done. 0.0s\n"
     ]
    },
    {
     "name": "stdout",
     "output_type": "stream",
     "text": [
      "391/391 [==============================] - 19s 48ms/step - loss: 0.6949 - accuracy: 0.7569 - val_loss: 0.8004 - val_accuracy: 0.7202\n",
      "Epoch 109/200\n",
      "391/391 [==============================] - 18s 45ms/step - loss: 0.6928 - accuracy: 0.7578 - val_loss: 0.8185 - val_accuracy: 0.7130\n",
      "Epoch 110/200\n",
      "391/391 [==============================] - 18s 45ms/step - loss: 0.6953 - accuracy: 0.7560 - val_loss: 0.8227 - val_accuracy: 0.7145\n",
      "Epoch 111/200\n",
      "391/391 [==============================] - 17s 44ms/step - loss: 0.6916 - accuracy: 0.7568 - val_loss: 0.8081 - val_accuracy: 0.7173\n",
      "Epoch 112/200\n",
      "391/391 [==============================] - 18s 45ms/step - loss: 0.6884 - accuracy: 0.7582 - val_loss: 0.8026 - val_accuracy: 0.7202\n",
      "Epoch 113/200\n",
      "391/391 [==============================] - 18s 45ms/step - loss: 0.6846 - accuracy: 0.7616 - val_loss: 0.8217 - val_accuracy: 0.7151\n",
      "Epoch 114/200\n",
      "391/391 [==============================] - ETA: 0s - loss: 0.6851 - accuracy: 0.7590"
     ]
    },
    {
     "name": "stderr",
     "output_type": "stream",
     "text": [
      "WARNING:absl:Found untraced functions such as _jit_compiled_convolution_op, _jit_compiled_convolution_op, _jit_compiled_convolution_op, _jit_compiled_convolution_op while saving (showing 4 of 4). These functions will not be directly callable after loading.\n"
     ]
    },
    {
     "name": "stdout",
     "output_type": "stream",
     "text": [
      "INFO:tensorflow:Assets written to: /root/jupyter/IHC/gain_proj/wandb/run-20230421_161424-h4u35zu2/files/model-best/assets\n"
     ]
    },
    {
     "name": "stderr",
     "output_type": "stream",
     "text": [
      "INFO:tensorflow:Assets written to: /root/jupyter/IHC/gain_proj/wandb/run-20230421_161424-h4u35zu2/files/model-best/assets\n",
      "\u001b[34m\u001b[1mwandb\u001b[0m: Adding directory to artifact (/root/jupyter/IHC/gain_proj/wandb/run-20230421_161424-h4u35zu2/files/model-best)... Done. 0.0s\n"
     ]
    },
    {
     "name": "stdout",
     "output_type": "stream",
     "text": [
      "391/391 [==============================] - 27s 69ms/step - loss: 0.6851 - accuracy: 0.7590 - val_loss: 0.7915 - val_accuracy: 0.7240\n",
      "Epoch 115/200\n",
      "391/391 [==============================] - 17s 44ms/step - loss: 0.6829 - accuracy: 0.7610 - val_loss: 0.7942 - val_accuracy: 0.7235\n",
      "Epoch 116/200\n",
      "391/391 [==============================] - 18s 45ms/step - loss: 0.6840 - accuracy: 0.7594 - val_loss: 0.8052 - val_accuracy: 0.7193\n",
      "Epoch 117/200\n",
      "391/391 [==============================] - 18s 45ms/step - loss: 0.6753 - accuracy: 0.7632 - val_loss: 0.7978 - val_accuracy: 0.7236\n",
      "Epoch 118/200\n",
      "389/391 [============================>.] - ETA: 0s - loss: 0.6740 - accuracy: 0.7656"
     ]
    },
    {
     "name": "stderr",
     "output_type": "stream",
     "text": [
      "WARNING:absl:Found untraced functions such as _jit_compiled_convolution_op, _jit_compiled_convolution_op, _jit_compiled_convolution_op, _jit_compiled_convolution_op while saving (showing 4 of 4). These functions will not be directly callable after loading.\n"
     ]
    },
    {
     "name": "stdout",
     "output_type": "stream",
     "text": [
      "INFO:tensorflow:Assets written to: /root/jupyter/IHC/gain_proj/wandb/run-20230421_161424-h4u35zu2/files/model-best/assets\n"
     ]
    },
    {
     "name": "stderr",
     "output_type": "stream",
     "text": [
      "INFO:tensorflow:Assets written to: /root/jupyter/IHC/gain_proj/wandb/run-20230421_161424-h4u35zu2/files/model-best/assets\n",
      "\u001b[34m\u001b[1mwandb\u001b[0m: Adding directory to artifact (/root/jupyter/IHC/gain_proj/wandb/run-20230421_161424-h4u35zu2/files/model-best)... Done. 0.0s\n"
     ]
    },
    {
     "name": "stdout",
     "output_type": "stream",
     "text": [
      "391/391 [==============================] - 19s 49ms/step - loss: 0.6738 - accuracy: 0.7656 - val_loss: 0.7931 - val_accuracy: 0.7247\n",
      "Epoch 119/200\n",
      "391/391 [==============================] - 18s 45ms/step - loss: 0.6704 - accuracy: 0.7642 - val_loss: 0.8055 - val_accuracy: 0.7195\n",
      "Epoch 120/200\n",
      "391/391 [==============================] - 18s 45ms/step - loss: 0.6706 - accuracy: 0.7649 - val_loss: 0.8050 - val_accuracy: 0.7196\n",
      "Epoch 121/200\n",
      "391/391 [==============================] - 17s 44ms/step - loss: 0.6683 - accuracy: 0.7654 - val_loss: 0.7860 - val_accuracy: 0.7245\n",
      "Epoch 122/200\n",
      "391/391 [==============================] - 18s 46ms/step - loss: 0.6653 - accuracy: 0.7657 - val_loss: 0.7908 - val_accuracy: 0.7199\n",
      "Epoch 123/200\n",
      "391/391 [==============================] - 18s 47ms/step - loss: 0.6646 - accuracy: 0.7688 - val_loss: 0.8025 - val_accuracy: 0.7196\n",
      "Epoch 124/200\n",
      "391/391 [==============================] - 18s 45ms/step - loss: 0.6599 - accuracy: 0.7704 - val_loss: 0.7966 - val_accuracy: 0.7212\n"
     ]
    },
    {
     "name": "stderr",
     "output_type": "stream",
     "text": [
      "IOPub message rate exceeded.\n",
      "The Jupyter server will temporarily stop sending output\n",
      "to the client in order to avoid crashing it.\n",
      "To change this limit, set the config variable\n",
      "`--ServerApp.iopub_msg_rate_limit`.\n",
      "\n",
      "Current values:\n",
      "ServerApp.iopub_msg_rate_limit=1000.0 (msgs/sec)\n",
      "ServerApp.rate_limit_window=3.0 (secs)\n",
      "\n",
      "WARNING:absl:Found untraced functions such as _jit_compiled_convolution_op, _jit_compiled_convolution_op, _jit_compiled_convolution_op, _jit_compiled_convolution_op while saving (showing 4 of 4). These functions will not be directly callable after loading.\n"
     ]
    },
    {
     "name": "stdout",
     "output_type": "stream",
     "text": [
      "INFO:tensorflow:Assets written to: /root/jupyter/IHC/gain_proj/wandb/run-20230421_161424-h4u35zu2/files/model-best/assets\n"
     ]
    },
    {
     "name": "stderr",
     "output_type": "stream",
     "text": [
      "INFO:tensorflow:Assets written to: /root/jupyter/IHC/gain_proj/wandb/run-20230421_161424-h4u35zu2/files/model-best/assets\n",
      "\u001b[34m\u001b[1mwandb\u001b[0m: Adding directory to artifact (/root/jupyter/IHC/gain_proj/wandb/run-20230421_161424-h4u35zu2/files/model-best)... Done. 0.0s\n"
     ]
    },
    {
     "name": "stdout",
     "output_type": "stream",
     "text": [
      "391/391 [==============================] - 20s 51ms/step - loss: 0.6214 - accuracy: 0.7827 - val_loss: 0.7654 - val_accuracy: 0.7336\n",
      "Epoch 146/200\n",
      "391/391 [==============================] - 18s 46ms/step - loss: 0.6233 - accuracy: 0.7829 - val_loss: 0.7907 - val_accuracy: 0.7265\n",
      "Epoch 147/200\n",
      "391/391 [==============================] - 18s 46ms/step - loss: 0.6220 - accuracy: 0.7811 - val_loss: 0.7727 - val_accuracy: 0.7279\n",
      "Epoch 148/200\n",
      "391/391 [==============================] - 17s 45ms/step - loss: 0.6212 - accuracy: 0.7824 - val_loss: 0.7768 - val_accuracy: 0.7268\n",
      "Epoch 149/200\n",
      "391/391 [==============================] - 18s 45ms/step - loss: 0.6186 - accuracy: 0.7822 - val_loss: 0.7741 - val_accuracy: 0.7331\n",
      "Epoch 150/200\n",
      "391/391 [==============================] - 17s 44ms/step - loss: 0.6161 - accuracy: 0.7851 - val_loss: 0.7792 - val_accuracy: 0.7274\n",
      "Epoch 151/200\n",
      "391/391 [==============================] - 18s 45ms/step - loss: 0.6118 - accuracy: 0.7856 - val_loss: 0.7837 - val_accuracy: 0.7255\n",
      "Epoch 152/200\n",
      "391/391 [==============================] - 17s 44ms/step - loss: 0.6085 - accuracy: 0.7874 - val_loss: 0.7630 - val_accuracy: 0.7323\n",
      "Epoch 153/200\n",
      "389/391 [============================>.] - ETA: 0s - loss: 0.6060 - accuracy: 0.7865"
     ]
    },
    {
     "name": "stderr",
     "output_type": "stream",
     "text": [
      "WARNING:absl:Found untraced functions such as _jit_compiled_convolution_op, _jit_compiled_convolution_op, _jit_compiled_convolution_op, _jit_compiled_convolution_op while saving (showing 4 of 4). These functions will not be directly callable after loading.\n"
     ]
    },
    {
     "name": "stdout",
     "output_type": "stream",
     "text": [
      "INFO:tensorflow:Assets written to: /root/jupyter/IHC/gain_proj/wandb/run-20230421_161424-h4u35zu2/files/model-best/assets\n"
     ]
    },
    {
     "name": "stderr",
     "output_type": "stream",
     "text": [
      "INFO:tensorflow:Assets written to: /root/jupyter/IHC/gain_proj/wandb/run-20230421_161424-h4u35zu2/files/model-best/assets\n",
      "\u001b[34m\u001b[1mwandb\u001b[0m: Adding directory to artifact (/root/jupyter/IHC/gain_proj/wandb/run-20230421_161424-h4u35zu2/files/model-best)... Done. 0.0s\n"
     ]
    },
    {
     "name": "stdout",
     "output_type": "stream",
     "text": [
      "391/391 [==============================] - 20s 50ms/step - loss: 0.6059 - accuracy: 0.7864 - val_loss: 0.7672 - val_accuracy: 0.7339\n",
      "Epoch 154/200\n",
      "391/391 [==============================] - 17s 45ms/step - loss: 0.6088 - accuracy: 0.7854 - val_loss: 0.7587 - val_accuracy: 0.7334\n",
      "Epoch 155/200\n",
      "391/391 [==============================] - 17s 45ms/step - loss: 0.6102 - accuracy: 0.7873 - val_loss: 0.7704 - val_accuracy: 0.7282\n",
      "Epoch 156/200\n",
      "391/391 [==============================] - 17s 44ms/step - loss: 0.6013 - accuracy: 0.7914 - val_loss: 0.7639 - val_accuracy: 0.7332\n",
      "Epoch 157/200\n",
      "391/391 [==============================] - 17s 44ms/step - loss: 0.6052 - accuracy: 0.7894 - val_loss: 0.7638 - val_accuracy: 0.7327\n",
      "Epoch 158/200\n",
      "391/391 [==============================] - 17s 44ms/step - loss: 0.5998 - accuracy: 0.7899 - val_loss: 0.7732 - val_accuracy: 0.7294\n",
      "Epoch 159/200\n",
      "391/391 [==============================] - 17s 45ms/step - loss: 0.6028 - accuracy: 0.7892 - val_loss: 0.7700 - val_accuracy: 0.7311\n",
      "Epoch 160/200\n",
      "391/391 [==============================] - 18s 45ms/step - loss: 0.5978 - accuracy: 0.7916 - val_loss: 0.7640 - val_accuracy: 0.7337\n",
      "Epoch 161/200\n",
      "391/391 [==============================] - 18s 45ms/step - loss: 0.5892 - accuracy: 0.7937 - val_loss: 0.7646 - val_accuracy: 0.7308\n",
      "Epoch 168/200\n",
      "391/391 [==============================] - 17s 44ms/step - loss: 0.5894 - accuracy: 0.7939 - val_loss: 0.7649 - val_accuracy: 0.7343\n",
      "Epoch 169/200\n",
      "391/391 [==============================] - 18s 45ms/step - loss: 0.5831 - accuracy: 0.7955 - val_loss: 0.7625 - val_accuracy: 0.7350\n",
      "Epoch 170/200\n",
      "391/391 [==============================] - 18s 47ms/step - loss: 0.5850 - accuracy: 0.7950 - val_loss: 0.7654 - val_accuracy: 0.7334\n",
      "Epoch 171/200\n",
      "391/391 [==============================] - 18s 46ms/step - loss: 0.5809 - accuracy: 0.7967 - val_loss: 0.7720 - val_accuracy: 0.7277\n",
      "Epoch 172/200\n",
      "391/391 [==============================] - 17s 44ms/step - loss: 0.5835 - accuracy: 0.7958 - val_loss: 0.7675 - val_accuracy: 0.7333\n",
      "Epoch 173/200\n",
      "391/391 [==============================] - 18s 45ms/step - loss: 0.5777 - accuracy: 0.7959 - val_loss: 0.7731 - val_accuracy: 0.7293\n",
      "Epoch 174/200\n",
      "390/391 [============================>.] - ETA: 0s - loss: 0.5764 - accuracy: 0.7969"
     ]
    },
    {
     "name": "stderr",
     "output_type": "stream",
     "text": [
      "WARNING:absl:Found untraced functions such as _jit_compiled_convolution_op, _jit_compiled_convolution_op, _jit_compiled_convolution_op, _jit_compiled_convolution_op while saving (showing 4 of 4). These functions will not be directly callable after loading.\n"
     ]
    },
    {
     "name": "stdout",
     "output_type": "stream",
     "text": [
      "INFO:tensorflow:Assets written to: /root/jupyter/IHC/gain_proj/wandb/run-20230421_161424-h4u35zu2/files/model-best/assets\n"
     ]
    },
    {
     "name": "stderr",
     "output_type": "stream",
     "text": [
      "INFO:tensorflow:Assets written to: /root/jupyter/IHC/gain_proj/wandb/run-20230421_161424-h4u35zu2/files/model-best/assets\n",
      "\u001b[34m\u001b[1mwandb\u001b[0m: Adding directory to artifact (/root/jupyter/IHC/gain_proj/wandb/run-20230421_161424-h4u35zu2/files/model-best)... Done. 0.0s\n"
     ]
    },
    {
     "name": "stdout",
     "output_type": "stream",
     "text": [
      "391/391 [==============================] - 19s 49ms/step - loss: 0.5764 - accuracy: 0.7967 - val_loss: 0.7581 - val_accuracy: 0.7365\n",
      "Epoch 175/200\n",
      "391/391 [==============================] - 17s 45ms/step - loss: 0.5739 - accuracy: 0.8000 - val_loss: 0.7673 - val_accuracy: 0.7327\n",
      "Epoch 176/200\n",
      "391/391 [==============================] - 18s 45ms/step - loss: 0.5746 - accuracy: 0.7967 - val_loss: 0.7578 - val_accuracy: 0.7358\n",
      "Epoch 177/200\n",
      "391/391 [==============================] - ETA: 0s - loss: 0.5745 - accuracy: 0.7975"
     ]
    },
    {
     "name": "stderr",
     "output_type": "stream",
     "text": [
      "WARNING:absl:Found untraced functions such as _jit_compiled_convolution_op, _jit_compiled_convolution_op, _jit_compiled_convolution_op, _jit_compiled_convolution_op while saving (showing 4 of 4). These functions will not be directly callable after loading.\n"
     ]
    },
    {
     "name": "stdout",
     "output_type": "stream",
     "text": [
      "INFO:tensorflow:Assets written to: /root/jupyter/IHC/gain_proj/wandb/run-20230421_161424-h4u35zu2/files/model-best/assets\n"
     ]
    },
    {
     "name": "stderr",
     "output_type": "stream",
     "text": [
      "INFO:tensorflow:Assets written to: /root/jupyter/IHC/gain_proj/wandb/run-20230421_161424-h4u35zu2/files/model-best/assets\n",
      "\u001b[34m\u001b[1mwandb\u001b[0m: Adding directory to artifact (/root/jupyter/IHC/gain_proj/wandb/run-20230421_161424-h4u35zu2/files/model-best)... Done. 0.0s\n"
     ]
    },
    {
     "name": "stdout",
     "output_type": "stream",
     "text": [
      "391/391 [==============================] - 19s 48ms/step - loss: 0.5745 - accuracy: 0.7975 - val_loss: 0.7511 - val_accuracy: 0.7390\n",
      "Epoch 178/200\n",
      "391/391 [==============================] - 17s 44ms/step - loss: 0.5710 - accuracy: 0.7999 - val_loss: 0.7578 - val_accuracy: 0.7372\n",
      "Epoch 179/200\n",
      "391/391 [==============================] - 18s 45ms/step - loss: 0.5725 - accuracy: 0.7975 - val_loss: 0.7681 - val_accuracy: 0.7332\n",
      "Epoch 180/200\n",
      "391/391 [==============================] - 18s 45ms/step - loss: 0.5711 - accuracy: 0.7994 - val_loss: 0.7688 - val_accuracy: 0.7309\n",
      "Epoch 181/200\n",
      "391/391 [==============================] - 17s 44ms/step - loss: 0.5711 - accuracy: 0.8000 - val_loss: 0.7861 - val_accuracy: 0.7310\n",
      "Epoch 182/200\n",
      "391/391 [==============================] - 17s 45ms/step - loss: 0.5646 - accuracy: 0.8022 - val_loss: 0.7609 - val_accuracy: 0.7311\n",
      "Epoch 183/200\n",
      "391/391 [==============================] - 18s 46ms/step - loss: 0.5674 - accuracy: 0.8004 - val_loss: 0.7543 - val_accuracy: 0.7373\n",
      "Epoch 184/200\n",
      "391/391 [==============================] - 17s 44ms/step - loss: 0.5623 - accuracy: 0.8033 - val_loss: 0.7559 - val_accuracy: 0.7335\n",
      "Epoch 185/200\n",
      "391/391 [==============================] - 18s 45ms/step - loss: 0.5632 - accuracy: 0.8031 - val_loss: 0.7573 - val_accuracy: 0.7378\n",
      "Epoch 186/200\n",
      "391/391 [==============================] - 18s 45ms/step - loss: 0.5608 - accuracy: 0.8020 - val_loss: 0.7681 - val_accuracy: 0.7326\n",
      "Epoch 187/200\n",
      "391/391 [==============================] - 18s 46ms/step - loss: 0.5615 - accuracy: 0.8039 - val_loss: 0.7610 - val_accuracy: 0.7349\n",
      "Epoch 188/200\n",
      "391/391 [==============================] - 18s 45ms/step - loss: 0.5584 - accuracy: 0.8043 - val_loss: 0.7617 - val_accuracy: 0.7357\n",
      "Epoch 189/200\n",
      "391/391 [==============================] - 17s 44ms/step - loss: 0.5582 - accuracy: 0.8044 - val_loss: 0.7554 - val_accuracy: 0.7372\n",
      "Epoch 190/200\n",
      "391/391 [==============================] - 18s 45ms/step - loss: 0.5547 - accuracy: 0.8058 - val_loss: 0.7612 - val_accuracy: 0.7379\n",
      "Epoch 191/200\n",
      "391/391 [==============================] - 18s 46ms/step - loss: 0.5507 - accuracy: 0.8077 - val_loss: 0.7552 - val_accuracy: 0.7375\n",
      "Epoch 192/200\n",
      " 94/391 [======>.......................] - ETA: 5s - loss: 0.5554 - accuracy: 0.8012"
     ]
    },
    {
     "name": "stderr",
     "output_type": "stream",
     "text": [
      "IOPub message rate exceeded.\n",
      "The Jupyter server will temporarily stop sending output\n",
      "to the client in order to avoid crashing it.\n",
      "To change this limit, set the config variable\n",
      "`--ServerApp.iopub_msg_rate_limit`.\n",
      "\n",
      "Current values:\n",
      "ServerApp.iopub_msg_rate_limit=1000.0 (msgs/sec)\n",
      "ServerApp.rate_limit_window=3.0 (secs)\n",
      "\n"
     ]
    }
   ],
   "source": [
    "model.fit(datagen.flow(x_train, y_train, batch_size=128),\n",
    "          validation_data=(x_test, y_test),\n",
    "          epochs=200, workers=4,\n",
    "          callbacks=callbacks)\n"
   ]
  },
  {
   "cell_type": "code",
   "execution_count": null,
   "id": "ea252d74-ce7a-4f81-b151-e1937ac492da",
   "metadata": {},
   "outputs": [],
   "source": []
  }
 ],
 "metadata": {
  "kernelspec": {
   "display_name": "Python 3 (ipykernel)",
   "language": "python",
   "name": "python3"
  },
  "language_info": {
   "codemirror_mode": {
    "name": "ipython",
    "version": 3
   },
   "file_extension": ".py",
   "mimetype": "text/x-python",
   "name": "python",
   "nbconvert_exporter": "python",
   "pygments_lexer": "ipython3",
   "version": "3.8.10"
  }
 },
 "nbformat": 4,
 "nbformat_minor": 5
}
