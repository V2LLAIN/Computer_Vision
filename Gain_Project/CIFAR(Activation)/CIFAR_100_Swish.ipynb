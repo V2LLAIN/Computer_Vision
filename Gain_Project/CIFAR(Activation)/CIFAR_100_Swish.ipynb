{
 "cells": [
  {
   "cell_type": "code",
   "execution_count": 1,
   "id": "435f2fe4-a4ef-4b66-a91f-6b6c598baa92",
   "metadata": {},
   "outputs": [
    {
     "name": "stderr",
     "output_type": "stream",
     "text": [
      "2023-04-22 02:47:58.057216: I tensorflow/core/platform/cpu_feature_guard.cc:193] This TensorFlow binary is optimized with oneAPI Deep Neural Network Library (oneDNN) to use the following CPU instructions in performance-critical operations:  AVX2 FMA\n",
      "To enable them in other operations, rebuild TensorFlow with the appropriate compiler flags.\n",
      "2023-04-22 02:47:58.181113: E tensorflow/stream_executor/cuda/cuda_blas.cc:2981] Unable to register cuBLAS factory: Attempting to register factory for plugin cuBLAS when one has already been registered\n"
     ]
    }
   ],
   "source": [
    "import os\n",
    "import math\n",
    "import wandb\n",
    "import random\n",
    "import numpy as np\n",
    "import pandas as pd\n",
    "import tensorflow as tf\n",
    "from tensorflow import keras\n",
    "import matplotlib.pyplot as plt\n",
    "\n",
    "\n",
    "from tensorflow.keras.preprocessing.image import load_img\n",
    "\n",
    "from tensorflow.keras.models import *\n",
    "from tensorflow.keras.layers import *\n",
    "from tensorflow.keras.losses import *\n",
    "from tensorflow.keras.metrics import *\n",
    "from tensorflow.keras.optimizers import *\n",
    "from tensorflow.keras.activations import *\n",
    "\n",
    "from tensorflow.keras.regularizers import *\n",
    "\n",
    "from tensorflow.keras.callbacks import *\n",
    "from keras.preprocessing.image import *\n",
    "from tensorflow.keras.preprocessing import *"
   ]
  },
  {
   "cell_type": "code",
   "execution_count": 2,
   "id": "6970ba03-d344-4b3a-aca9-5b6fd275830f",
   "metadata": {},
   "outputs": [],
   "source": [
    "# Load the CIFAR-10 dataset\n",
    "(x_train, y_train), (x_test, y_test) = keras.datasets.cifar100.load_data()\n",
    "\n",
    "# Normalize pixel values between 0 and 1\n",
    "x_train = x_train / 255.0\n",
    "x_test = x_test / 255.0\n",
    "\n",
    "# Convert labels to one-hot encoded vectors\n",
    "y_train = tf.keras.utils.to_categorical(y_train, num_classes=100)\n",
    "y_test = tf.keras.utils.to_categorical(y_test, num_classes=100)"
   ]
  },
  {
   "cell_type": "code",
   "execution_count": 3,
   "id": "c2dac364-264e-4823-8695-e36d850d7ebe",
   "metadata": {
    "tags": []
   },
   "outputs": [
    {
     "name": "stderr",
     "output_type": "stream",
     "text": [
      "2023-04-22 02:48:00.346695: I tensorflow/stream_executor/cuda/cuda_gpu_executor.cc:980] successful NUMA node read from SysFS had negative value (-1), but there must be at least one NUMA node, so returning NUMA node zero\n",
      "2023-04-22 02:48:00.349643: I tensorflow/stream_executor/cuda/cuda_gpu_executor.cc:980] successful NUMA node read from SysFS had negative value (-1), but there must be at least one NUMA node, so returning NUMA node zero\n",
      "2023-04-22 02:48:00.349962: I tensorflow/stream_executor/cuda/cuda_gpu_executor.cc:980] successful NUMA node read from SysFS had negative value (-1), but there must be at least one NUMA node, so returning NUMA node zero\n",
      "2023-04-22 02:48:00.350605: I tensorflow/core/platform/cpu_feature_guard.cc:193] This TensorFlow binary is optimized with oneAPI Deep Neural Network Library (oneDNN) to use the following CPU instructions in performance-critical operations:  AVX2 FMA\n",
      "To enable them in other operations, rebuild TensorFlow with the appropriate compiler flags.\n",
      "2023-04-22 02:48:00.351024: I tensorflow/stream_executor/cuda/cuda_gpu_executor.cc:980] successful NUMA node read from SysFS had negative value (-1), but there must be at least one NUMA node, so returning NUMA node zero\n",
      "2023-04-22 02:48:00.351341: I tensorflow/stream_executor/cuda/cuda_gpu_executor.cc:980] successful NUMA node read from SysFS had negative value (-1), but there must be at least one NUMA node, so returning NUMA node zero\n",
      "2023-04-22 02:48:00.351522: I tensorflow/stream_executor/cuda/cuda_gpu_executor.cc:980] successful NUMA node read from SysFS had negative value (-1), but there must be at least one NUMA node, so returning NUMA node zero\n",
      "2023-04-22 02:48:00.806484: I tensorflow/stream_executor/cuda/cuda_gpu_executor.cc:980] successful NUMA node read from SysFS had negative value (-1), but there must be at least one NUMA node, so returning NUMA node zero\n",
      "2023-04-22 02:48:00.806681: I tensorflow/stream_executor/cuda/cuda_gpu_executor.cc:980] successful NUMA node read from SysFS had negative value (-1), but there must be at least one NUMA node, so returning NUMA node zero\n",
      "2023-04-22 02:48:00.806828: I tensorflow/stream_executor/cuda/cuda_gpu_executor.cc:980] successful NUMA node read from SysFS had negative value (-1), but there must be at least one NUMA node, so returning NUMA node zero\n",
      "2023-04-22 02:48:00.806960: I tensorflow/core/common_runtime/gpu/gpu_device.cc:1616] Created device /job:localhost/replica:0/task:0/device:GPU:0 with 10400 MB memory:  -> device: 0, name: NVIDIA GeForce GTX 1080 Ti, pci bus id: 0000:02:00.0, compute capability: 6.1\n"
     ]
    },
    {
     "name": "stdout",
     "output_type": "stream",
     "text": [
      "Model: \"model\"\n",
      "_________________________________________________________________\n",
      " Layer (type)                Output Shape              Param #   \n",
      "=================================================================\n",
      " input_1 (InputLayer)        [(None, 32, 32, 3)]       0         \n",
      "                                                                 \n",
      " conv2d (Conv2D)             (None, 30, 30, 32)        896       \n",
      "                                                                 \n",
      " conv2d_1 (Conv2D)           (None, 28, 28, 32)        9248      \n",
      "                                                                 \n",
      " max_pooling2d (MaxPooling2D  (None, 14, 14, 32)       0         \n",
      " )                                                               \n",
      "                                                                 \n",
      " dropout (Dropout)           (None, 14, 14, 32)        0         \n",
      "                                                                 \n",
      " conv2d_2 (Conv2D)           (None, 12, 12, 64)        18496     \n",
      "                                                                 \n",
      " conv2d_3 (Conv2D)           (None, 10, 10, 64)        36928     \n",
      "                                                                 \n",
      " max_pooling2d_1 (MaxPooling  (None, 5, 5, 64)         0         \n",
      " 2D)                                                             \n",
      "                                                                 \n",
      " dropout_1 (Dropout)         (None, 5, 5, 64)          0         \n",
      "                                                                 \n",
      " average_pooling2d (AverageP  (None, 2, 2, 64)         0         \n",
      " ooling2D)                                                       \n",
      "                                                                 \n",
      " flatten (Flatten)           (None, 256)               0         \n",
      "                                                                 \n",
      " dense (Dense)               (None, 512)               131584    \n",
      "                                                                 \n",
      " dense_1 (Dense)             (None, 100)               51300     \n",
      "                                                                 \n",
      "=================================================================\n",
      "Total params: 248,452\n",
      "Trainable params: 248,452\n",
      "Non-trainable params: 0\n",
      "_________________________________________________________________\n"
     ]
    }
   ],
   "source": [
    "inputs = Input(shape=(32,32, 3))\n",
    "\n",
    "# Layer 1\n",
    "x = Conv2D(32, (3,3), activation='swish', kernel_regularizer=l2(1e-6))(inputs)\n",
    "\n",
    "# Layer 2\n",
    "x = Conv2D(32, (3,3), activation='swish', kernel_regularizer=l2(1e-6))(x)\n",
    "x = MaxPooling2D((2, 2))(x)\n",
    "x = Dropout(0.1)(x)\n",
    "\n",
    "# Layer 3\n",
    "x = Conv2D(64, (3,3), activation='swish', kernel_regularizer=l2(1e-6))(x)\n",
    "\n",
    "# Layer 4\n",
    "x = Conv2D(64, (3,3), activation='swish', kernel_regularizer=l2(1e-6))(x)\n",
    "x = MaxPooling2D((2, 2))(x)\n",
    "x = Dropout(0.1)(x)\n",
    "\n",
    "# Layer 5\n",
    "x = AveragePooling2D()(x)\n",
    "x = Flatten()(x)\n",
    "x = Dense(512, activation='swish', kernel_regularizer=l2(1e-6))(x)\n",
    "\n",
    "# Layer 6\n",
    "outputs = Dense(100, activation='softmax')(x)\n",
    "model = Model(inputs=inputs, outputs=outputs)\n",
    "\n",
    "model.summary()"
   ]
  },
  {
   "cell_type": "code",
   "execution_count": 4,
   "id": "c9897576-4328-4349-90b8-2ac97f68f424",
   "metadata": {
    "tags": []
   },
   "outputs": [],
   "source": [
    "# 옵티마이저 및 학습률 스케줄러 정의\n",
    "# 옵티마이저 정의\n",
    "learning_rate = 1e-3\n",
    "\n",
    "def learning_rate_schedule(epoch):\n",
    "    new_learning_rate = learning_rate\n",
    "\n",
    "    if epoch <= 50:\n",
    "        pass\n",
    "    elif epoch > 50 and epoch <= 100:\n",
    "        new_learning_rate = learning_rate * 0.1\n",
    "    else:\n",
    "        new_learning_rate = learning_rate * 0.01\n",
    "        \n",
    "    print('Learning rate:', new_learning_rate)\n",
    "    \n",
    "    return new_learning_rate\n",
    "\n",
    "\n",
    "opt = tf.keras.optimizers.RMSprop(learning_rate=learning_rate )\n",
    "\n",
    "\n",
    "model.compile(optimizer=opt,\n",
    "              loss='categorical_crossentropy',\n",
    "              metrics=['accuracy'])\n"
   ]
  },
  {
   "cell_type": "code",
   "execution_count": 5,
   "id": "5b0c4da2-fa25-4117-a366-a44db57afcfb",
   "metadata": {},
   "outputs": [],
   "source": [
    "from keras.preprocessing.image import ImageDataGenerator\n",
    "datagen = ImageDataGenerator(horizontal_flip=True,\n",
    "                             vertical_flip= True\n",
    "                             )\n",
    "\n",
    "# 이미지 데이터의 분포를 조정\n",
    "datagen.fit(x_train)"
   ]
  },
  {
   "cell_type": "code",
   "execution_count": 6,
   "id": "492f7e1e-df54-4686-aaca-ba346e556926",
   "metadata": {},
   "outputs": [
    {
     "name": "stderr",
     "output_type": "stream",
     "text": [
      "Failed to detect the name of this notebook, you can set it manually with the WANDB_NOTEBOOK_NAME environment variable to enable code saving.\n",
      "\u001b[34m\u001b[1mwandb\u001b[0m: Currently logged in as: \u001b[33mchan4im\u001b[0m (\u001b[33mhcim\u001b[0m). Use \u001b[1m`wandb login --relogin`\u001b[0m to force relogin\n"
     ]
    },
    {
     "data": {
      "text/html": [
       "wandb version 0.15.0 is available!  To upgrade, please run:\n",
       " $ pip install wandb --upgrade"
      ],
      "text/plain": [
       "<IPython.core.display.HTML object>"
      ]
     },
     "metadata": {},
     "output_type": "display_data"
    },
    {
     "data": {
      "text/html": [
       "Tracking run with wandb version 0.14.0"
      ],
      "text/plain": [
       "<IPython.core.display.HTML object>"
      ]
     },
     "metadata": {},
     "output_type": "display_data"
    },
    {
     "data": {
      "text/html": [
       "Run data is saved locally in <code>/root/jupyter/IHC/gain_proj/wandb/run-20230422_024802-8en9mdg3</code>"
      ],
      "text/plain": [
       "<IPython.core.display.HTML object>"
      ]
     },
     "metadata": {},
     "output_type": "display_data"
    },
    {
     "data": {
      "text/html": [
       "Syncing run <strong><a href='https://wandb.ai/hcim/CIFAR100/runs/8en9mdg3' target=\"_blank\">LeNet-swish</a></strong> to <a href='https://wandb.ai/hcim/CIFAR100' target=\"_blank\">Weights & Biases</a> (<a href='https://wandb.me/run' target=\"_blank\">docs</a>)<br/>"
      ],
      "text/plain": [
       "<IPython.core.display.HTML object>"
      ]
     },
     "metadata": {},
     "output_type": "display_data"
    },
    {
     "data": {
      "text/html": [
       " View project at <a href='https://wandb.ai/hcim/CIFAR100' target=\"_blank\">https://wandb.ai/hcim/CIFAR100</a>"
      ],
      "text/plain": [
       "<IPython.core.display.HTML object>"
      ]
     },
     "metadata": {},
     "output_type": "display_data"
    },
    {
     "data": {
      "text/html": [
       " View run at <a href='https://wandb.ai/hcim/CIFAR100/runs/8en9mdg3' target=\"_blank\">https://wandb.ai/hcim/CIFAR100/runs/8en9mdg3</a>"
      ],
      "text/plain": [
       "<IPython.core.display.HTML object>"
      ]
     },
     "metadata": {},
     "output_type": "display_data"
    },
    {
     "name": "stderr",
     "output_type": "stream",
     "text": [
      "\u001b[34m\u001b[1mwandb\u001b[0m: \u001b[33mWARNING\u001b[0m The save_model argument by default saves the model in the HDF5 format that cannot save custom objects like subclassed models and custom layers. This behavior will be deprecated in a future release in favor of the SavedModel format. Meanwhile, the HDF5 model is saved as W&B files and the SavedModel as W&B Artifacts.\n"
     ]
    }
   ],
   "source": [
    "from tensorflow.keras import callbacks\n",
    "\n",
    "wandb.init(project=\"CIFAR100\", entity=\"hcim\", name='LeNet-swish')\n",
    "\n",
    "wandbCallback=wandb.keras.WandbCallback(monitor=\"val_accuracy\", mode=\"max\", \n",
    "                                        log_weights=True, log_gradients=True, \n",
    "                                        training_data=datagen.flow(x_train, y_train, batch_size=128))\n",
    "\n",
    "\n",
    "callbacks = [wandbCallback, LearningRateScheduler(learning_rate_schedule)]"
   ]
  },
  {
   "cell_type": "code",
   "execution_count": 7,
   "id": "9e995314-6225-4052-95d8-03e5235ea600",
   "metadata": {},
   "outputs": [
    {
     "name": "stdout",
     "output_type": "stream",
     "text": [
      "Learning rate: 0.001\n",
      "Epoch 1/200\n"
     ]
    },
    {
     "name": "stderr",
     "output_type": "stream",
     "text": [
      "2023-04-22 02:48:05.261743: I tensorflow/stream_executor/cuda/cuda_dnn.cc:384] Loaded cuDNN version 8100\n"
     ]
    },
    {
     "name": "stdout",
     "output_type": "stream",
     "text": [
      "387/391 [============================>.] - ETA: 0s - loss: 4.1370 - accuracy: 0.0696"
     ]
    },
    {
     "name": "stderr",
     "output_type": "stream",
     "text": [
      "WARNING:absl:Found untraced functions such as _jit_compiled_convolution_op, _jit_compiled_convolution_op, _jit_compiled_convolution_op, _jit_compiled_convolution_op while saving (showing 4 of 4). These functions will not be directly callable after loading.\n"
     ]
    },
    {
     "name": "stdout",
     "output_type": "stream",
     "text": [
      "INFO:tensorflow:Assets written to: /root/jupyter/IHC/gain_proj/wandb/run-20230422_024802-8en9mdg3/files/model-best/assets\n"
     ]
    },
    {
     "name": "stderr",
     "output_type": "stream",
     "text": [
      "INFO:tensorflow:Assets written to: /root/jupyter/IHC/gain_proj/wandb/run-20230422_024802-8en9mdg3/files/model-best/assets\n",
      "\u001b[34m\u001b[1mwandb\u001b[0m: Adding directory to artifact (/root/jupyter/IHC/gain_proj/wandb/run-20230422_024802-8en9mdg3/files/model-best)... Done. 0.0s\n"
     ]
    },
    {
     "name": "stdout",
     "output_type": "stream",
     "text": [
      "391/391 [==============================] - 14s 31ms/step - loss: 4.1345 - accuracy: 0.0699 - val_loss: 3.8664 - val_accuracy: 0.1098 - lr: 0.0010\n",
      "Learning rate: 0.001\n",
      "Epoch 2/200\n",
      "386/391 [============================>.] - ETA: 0s - loss: 3.6491 - accuracy: 0.1447"
     ]
    },
    {
     "name": "stderr",
     "output_type": "stream",
     "text": [
      "WARNING:absl:Found untraced functions such as _jit_compiled_convolution_op, _jit_compiled_convolution_op, _jit_compiled_convolution_op, _jit_compiled_convolution_op while saving (showing 4 of 4). These functions will not be directly callable after loading.\n"
     ]
    },
    {
     "name": "stdout",
     "output_type": "stream",
     "text": [
      "INFO:tensorflow:Assets written to: /root/jupyter/IHC/gain_proj/wandb/run-20230422_024802-8en9mdg3/files/model-best/assets\n"
     ]
    },
    {
     "name": "stderr",
     "output_type": "stream",
     "text": [
      "INFO:tensorflow:Assets written to: /root/jupyter/IHC/gain_proj/wandb/run-20230422_024802-8en9mdg3/files/model-best/assets\n",
      "\u001b[34m\u001b[1mwandb\u001b[0m: Adding directory to artifact (/root/jupyter/IHC/gain_proj/wandb/run-20230422_024802-8en9mdg3/files/model-best)... Done. 0.0s\n"
     ]
    },
    {
     "name": "stdout",
     "output_type": "stream",
     "text": [
      "391/391 [==============================] - 11s 28ms/step - loss: 3.6477 - accuracy: 0.1450 - val_loss: 3.5122 - val_accuracy: 0.1639 - lr: 0.0010\n",
      "Learning rate: 0.001\n",
      "Epoch 3/200\n",
      "386/391 [============================>.] - ETA: 0s - loss: 3.3310 - accuracy: 0.2020"
     ]
    },
    {
     "name": "stderr",
     "output_type": "stream",
     "text": [
      "WARNING:absl:Found untraced functions such as _jit_compiled_convolution_op, _jit_compiled_convolution_op, _jit_compiled_convolution_op, _jit_compiled_convolution_op while saving (showing 4 of 4). These functions will not be directly callable after loading.\n"
     ]
    },
    {
     "name": "stdout",
     "output_type": "stream",
     "text": [
      "INFO:tensorflow:Assets written to: /root/jupyter/IHC/gain_proj/wandb/run-20230422_024802-8en9mdg3/files/model-best/assets\n"
     ]
    },
    {
     "name": "stderr",
     "output_type": "stream",
     "text": [
      "INFO:tensorflow:Assets written to: /root/jupyter/IHC/gain_proj/wandb/run-20230422_024802-8en9mdg3/files/model-best/assets\n",
      "\u001b[34m\u001b[1mwandb\u001b[0m: Adding directory to artifact (/root/jupyter/IHC/gain_proj/wandb/run-20230422_024802-8en9mdg3/files/model-best)... Done. 0.0s\n"
     ]
    },
    {
     "name": "stdout",
     "output_type": "stream",
     "text": [
      "391/391 [==============================] - 11s 27ms/step - loss: 3.3300 - accuracy: 0.2023 - val_loss: 3.1990 - val_accuracy: 0.2260 - lr: 0.0010\n",
      "Learning rate: 0.001\n",
      "Epoch 4/200\n",
      "385/391 [============================>.] - ETA: 0s - loss: 3.1154 - accuracy: 0.2407"
     ]
    },
    {
     "name": "stderr",
     "output_type": "stream",
     "text": [
      "WARNING:absl:Found untraced functions such as _jit_compiled_convolution_op, _jit_compiled_convolution_op, _jit_compiled_convolution_op, _jit_compiled_convolution_op while saving (showing 4 of 4). These functions will not be directly callable after loading.\n"
     ]
    },
    {
     "name": "stdout",
     "output_type": "stream",
     "text": [
      "INFO:tensorflow:Assets written to: /root/jupyter/IHC/gain_proj/wandb/run-20230422_024802-8en9mdg3/files/model-best/assets\n"
     ]
    },
    {
     "name": "stderr",
     "output_type": "stream",
     "text": [
      "INFO:tensorflow:Assets written to: /root/jupyter/IHC/gain_proj/wandb/run-20230422_024802-8en9mdg3/files/model-best/assets\n",
      "\u001b[34m\u001b[1mwandb\u001b[0m: Adding directory to artifact (/root/jupyter/IHC/gain_proj/wandb/run-20230422_024802-8en9mdg3/files/model-best)... Done. 0.0s\n"
     ]
    },
    {
     "name": "stdout",
     "output_type": "stream",
     "text": [
      "391/391 [==============================] - 11s 28ms/step - loss: 3.1134 - accuracy: 0.2410 - val_loss: 3.0978 - val_accuracy: 0.2413 - lr: 0.0010\n",
      "Learning rate: 0.001\n",
      "Epoch 5/200\n",
      "387/391 [============================>.] - ETA: 0s - loss: 2.9535 - accuracy: 0.2712"
     ]
    },
    {
     "name": "stderr",
     "output_type": "stream",
     "text": [
      "WARNING:absl:Found untraced functions such as _jit_compiled_convolution_op, _jit_compiled_convolution_op, _jit_compiled_convolution_op, _jit_compiled_convolution_op while saving (showing 4 of 4). These functions will not be directly callable after loading.\n"
     ]
    },
    {
     "name": "stdout",
     "output_type": "stream",
     "text": [
      "INFO:tensorflow:Assets written to: /root/jupyter/IHC/gain_proj/wandb/run-20230422_024802-8en9mdg3/files/model-best/assets\n"
     ]
    },
    {
     "name": "stderr",
     "output_type": "stream",
     "text": [
      "INFO:tensorflow:Assets written to: /root/jupyter/IHC/gain_proj/wandb/run-20230422_024802-8en9mdg3/files/model-best/assets\n",
      "\u001b[34m\u001b[1mwandb\u001b[0m: Adding directory to artifact (/root/jupyter/IHC/gain_proj/wandb/run-20230422_024802-8en9mdg3/files/model-best)... Done. 0.0s\n"
     ]
    },
    {
     "name": "stdout",
     "output_type": "stream",
     "text": [
      "391/391 [==============================] - 11s 28ms/step - loss: 2.9538 - accuracy: 0.2712 - val_loss: 2.9731 - val_accuracy: 0.2686 - lr: 0.0010\n",
      "Learning rate: 0.001\n",
      "Epoch 6/200\n",
      "389/391 [============================>.] - ETA: 0s - loss: 2.8194 - accuracy: 0.2978"
     ]
    },
    {
     "name": "stderr",
     "output_type": "stream",
     "text": [
      "WARNING:absl:Found untraced functions such as _jit_compiled_convolution_op, _jit_compiled_convolution_op, _jit_compiled_convolution_op, _jit_compiled_convolution_op while saving (showing 4 of 4). These functions will not be directly callable after loading.\n"
     ]
    },
    {
     "name": "stdout",
     "output_type": "stream",
     "text": [
      "INFO:tensorflow:Assets written to: /root/jupyter/IHC/gain_proj/wandb/run-20230422_024802-8en9mdg3/files/model-best/assets\n"
     ]
    },
    {
     "name": "stderr",
     "output_type": "stream",
     "text": [
      "INFO:tensorflow:Assets written to: /root/jupyter/IHC/gain_proj/wandb/run-20230422_024802-8en9mdg3/files/model-best/assets\n",
      "\u001b[34m\u001b[1mwandb\u001b[0m: Adding directory to artifact (/root/jupyter/IHC/gain_proj/wandb/run-20230422_024802-8en9mdg3/files/model-best)... Done. 0.0s\n"
     ]
    },
    {
     "name": "stdout",
     "output_type": "stream",
     "text": [
      "391/391 [==============================] - 11s 28ms/step - loss: 2.8196 - accuracy: 0.2979 - val_loss: 2.8009 - val_accuracy: 0.3013 - lr: 0.0010\n",
      "Learning rate: 0.001\n",
      "Epoch 7/200\n",
      "389/391 [============================>.] - ETA: 0s - loss: 2.6958 - accuracy: 0.3219"
     ]
    },
    {
     "name": "stderr",
     "output_type": "stream",
     "text": [
      "WARNING:absl:Found untraced functions such as _jit_compiled_convolution_op, _jit_compiled_convolution_op, _jit_compiled_convolution_op, _jit_compiled_convolution_op while saving (showing 4 of 4). These functions will not be directly callable after loading.\n"
     ]
    },
    {
     "name": "stdout",
     "output_type": "stream",
     "text": [
      "INFO:tensorflow:Assets written to: /root/jupyter/IHC/gain_proj/wandb/run-20230422_024802-8en9mdg3/files/model-best/assets\n"
     ]
    },
    {
     "name": "stderr",
     "output_type": "stream",
     "text": [
      "INFO:tensorflow:Assets written to: /root/jupyter/IHC/gain_proj/wandb/run-20230422_024802-8en9mdg3/files/model-best/assets\n",
      "\u001b[34m\u001b[1mwandb\u001b[0m: Adding directory to artifact (/root/jupyter/IHC/gain_proj/wandb/run-20230422_024802-8en9mdg3/files/model-best)... Done. 0.0s\n"
     ]
    },
    {
     "name": "stdout",
     "output_type": "stream",
     "text": [
      "391/391 [==============================] - 11s 29ms/step - loss: 2.6955 - accuracy: 0.3219 - val_loss: 2.6905 - val_accuracy: 0.3218 - lr: 0.0010\n",
      "Learning rate: 0.001\n",
      "Epoch 8/200\n",
      "390/391 [============================>.] - ETA: 0s - loss: 2.5829 - accuracy: 0.3445"
     ]
    },
    {
     "name": "stderr",
     "output_type": "stream",
     "text": [
      "WARNING:absl:Found untraced functions such as _jit_compiled_convolution_op, _jit_compiled_convolution_op, _jit_compiled_convolution_op, _jit_compiled_convolution_op while saving (showing 4 of 4). These functions will not be directly callable after loading.\n"
     ]
    },
    {
     "name": "stdout",
     "output_type": "stream",
     "text": [
      "INFO:tensorflow:Assets written to: /root/jupyter/IHC/gain_proj/wandb/run-20230422_024802-8en9mdg3/files/model-best/assets\n"
     ]
    },
    {
     "name": "stderr",
     "output_type": "stream",
     "text": [
      "INFO:tensorflow:Assets written to: /root/jupyter/IHC/gain_proj/wandb/run-20230422_024802-8en9mdg3/files/model-best/assets\n",
      "\u001b[34m\u001b[1mwandb\u001b[0m: Adding directory to artifact (/root/jupyter/IHC/gain_proj/wandb/run-20230422_024802-8en9mdg3/files/model-best)... Done. 0.0s\n"
     ]
    },
    {
     "name": "stdout",
     "output_type": "stream",
     "text": [
      "391/391 [==============================] - 11s 28ms/step - loss: 2.5826 - accuracy: 0.3447 - val_loss: 2.6418 - val_accuracy: 0.3325 - lr: 0.0010\n",
      "Learning rate: 0.001\n",
      "Epoch 9/200\n",
      "388/391 [============================>.] - ETA: 0s - loss: 2.4883 - accuracy: 0.3633"
     ]
    },
    {
     "name": "stderr",
     "output_type": "stream",
     "text": [
      "WARNING:absl:Found untraced functions such as _jit_compiled_convolution_op, _jit_compiled_convolution_op, _jit_compiled_convolution_op, _jit_compiled_convolution_op while saving (showing 4 of 4). These functions will not be directly callable after loading.\n"
     ]
    },
    {
     "name": "stdout",
     "output_type": "stream",
     "text": [
      "INFO:tensorflow:Assets written to: /root/jupyter/IHC/gain_proj/wandb/run-20230422_024802-8en9mdg3/files/model-best/assets\n"
     ]
    },
    {
     "name": "stderr",
     "output_type": "stream",
     "text": [
      "INFO:tensorflow:Assets written to: /root/jupyter/IHC/gain_proj/wandb/run-20230422_024802-8en9mdg3/files/model-best/assets\n",
      "\u001b[34m\u001b[1mwandb\u001b[0m: Adding directory to artifact (/root/jupyter/IHC/gain_proj/wandb/run-20230422_024802-8en9mdg3/files/model-best)... Done. 0.0s\n"
     ]
    },
    {
     "name": "stdout",
     "output_type": "stream",
     "text": [
      "391/391 [==============================] - 11s 28ms/step - loss: 2.4883 - accuracy: 0.3634 - val_loss: 2.6011 - val_accuracy: 0.3416 - lr: 0.0010\n",
      "Learning rate: 0.001\n",
      "Epoch 10/200\n",
      "391/391 [==============================] - ETA: 0s - loss: 2.4034 - accuracy: 0.3818"
     ]
    },
    {
     "name": "stderr",
     "output_type": "stream",
     "text": [
      "WARNING:absl:Found untraced functions such as _jit_compiled_convolution_op, _jit_compiled_convolution_op, _jit_compiled_convolution_op, _jit_compiled_convolution_op while saving (showing 4 of 4). These functions will not be directly callable after loading.\n"
     ]
    },
    {
     "name": "stdout",
     "output_type": "stream",
     "text": [
      "INFO:tensorflow:Assets written to: /root/jupyter/IHC/gain_proj/wandb/run-20230422_024802-8en9mdg3/files/model-best/assets\n"
     ]
    },
    {
     "name": "stderr",
     "output_type": "stream",
     "text": [
      "INFO:tensorflow:Assets written to: /root/jupyter/IHC/gain_proj/wandb/run-20230422_024802-8en9mdg3/files/model-best/assets\n",
      "\u001b[34m\u001b[1mwandb\u001b[0m: Adding directory to artifact (/root/jupyter/IHC/gain_proj/wandb/run-20230422_024802-8en9mdg3/files/model-best)... Done. 0.0s\n"
     ]
    },
    {
     "name": "stdout",
     "output_type": "stream",
     "text": [
      "391/391 [==============================] - 11s 28ms/step - loss: 2.4034 - accuracy: 0.3818 - val_loss: 2.4877 - val_accuracy: 0.3674 - lr: 0.0010\n",
      "Learning rate: 0.001\n",
      "Epoch 11/200\n",
      "389/391 [============================>.] - ETA: 0s - loss: 2.3350 - accuracy: 0.3943"
     ]
    },
    {
     "name": "stderr",
     "output_type": "stream",
     "text": [
      "WARNING:absl:Found untraced functions such as _jit_compiled_convolution_op, _jit_compiled_convolution_op, _jit_compiled_convolution_op, _jit_compiled_convolution_op while saving (showing 4 of 4). These functions will not be directly callable after loading.\n"
     ]
    },
    {
     "name": "stdout",
     "output_type": "stream",
     "text": [
      "INFO:tensorflow:Assets written to: /root/jupyter/IHC/gain_proj/wandb/run-20230422_024802-8en9mdg3/files/model-best/assets\n"
     ]
    },
    {
     "name": "stderr",
     "output_type": "stream",
     "text": [
      "INFO:tensorflow:Assets written to: /root/jupyter/IHC/gain_proj/wandb/run-20230422_024802-8en9mdg3/files/model-best/assets\n",
      "\u001b[34m\u001b[1mwandb\u001b[0m: Adding directory to artifact (/root/jupyter/IHC/gain_proj/wandb/run-20230422_024802-8en9mdg3/files/model-best)... Done. 0.0s\n"
     ]
    },
    {
     "name": "stdout",
     "output_type": "stream",
     "text": [
      "391/391 [==============================] - 11s 28ms/step - loss: 2.3358 - accuracy: 0.3942 - val_loss: 2.4843 - val_accuracy: 0.3716 - lr: 0.0010\n",
      "Learning rate: 0.001\n",
      "Epoch 12/200\n",
      "385/391 [============================>.] - ETA: 0s - loss: 2.2706 - accuracy: 0.4067"
     ]
    },
    {
     "name": "stderr",
     "output_type": "stream",
     "text": [
      "WARNING:absl:Found untraced functions such as _jit_compiled_convolution_op, _jit_compiled_convolution_op, _jit_compiled_convolution_op, _jit_compiled_convolution_op while saving (showing 4 of 4). These functions will not be directly callable after loading.\n"
     ]
    },
    {
     "name": "stdout",
     "output_type": "stream",
     "text": [
      "INFO:tensorflow:Assets written to: /root/jupyter/IHC/gain_proj/wandb/run-20230422_024802-8en9mdg3/files/model-best/assets\n"
     ]
    },
    {
     "name": "stderr",
     "output_type": "stream",
     "text": [
      "INFO:tensorflow:Assets written to: /root/jupyter/IHC/gain_proj/wandb/run-20230422_024802-8en9mdg3/files/model-best/assets\n",
      "\u001b[34m\u001b[1mwandb\u001b[0m: Adding directory to artifact (/root/jupyter/IHC/gain_proj/wandb/run-20230422_024802-8en9mdg3/files/model-best)... Done. 0.0s\n"
     ]
    },
    {
     "name": "stdout",
     "output_type": "stream",
     "text": [
      "391/391 [==============================] - 11s 28ms/step - loss: 2.2714 - accuracy: 0.4066 - val_loss: 2.4568 - val_accuracy: 0.3804 - lr: 0.0010\n",
      "Learning rate: 0.001\n",
      "Epoch 13/200\n",
      "389/391 [============================>.] - ETA: 0s - loss: 2.2078 - accuracy: 0.4250"
     ]
    },
    {
     "name": "stderr",
     "output_type": "stream",
     "text": [
      "WARNING:absl:Found untraced functions such as _jit_compiled_convolution_op, _jit_compiled_convolution_op, _jit_compiled_convolution_op, _jit_compiled_convolution_op while saving (showing 4 of 4). These functions will not be directly callable after loading.\n"
     ]
    },
    {
     "name": "stdout",
     "output_type": "stream",
     "text": [
      "INFO:tensorflow:Assets written to: /root/jupyter/IHC/gain_proj/wandb/run-20230422_024802-8en9mdg3/files/model-best/assets\n"
     ]
    },
    {
     "name": "stderr",
     "output_type": "stream",
     "text": [
      "INFO:tensorflow:Assets written to: /root/jupyter/IHC/gain_proj/wandb/run-20230422_024802-8en9mdg3/files/model-best/assets\n",
      "\u001b[34m\u001b[1mwandb\u001b[0m: Adding directory to artifact (/root/jupyter/IHC/gain_proj/wandb/run-20230422_024802-8en9mdg3/files/model-best)... Done. 0.0s\n"
     ]
    },
    {
     "name": "stdout",
     "output_type": "stream",
     "text": [
      "391/391 [==============================] - 11s 29ms/step - loss: 2.2074 - accuracy: 0.4251 - val_loss: 2.3543 - val_accuracy: 0.3979 - lr: 0.0010\n",
      "Learning rate: 0.001\n",
      "Epoch 14/200\n",
      "391/391 [==============================] - ETA: 0s - loss: 2.1641 - accuracy: 0.4308"
     ]
    },
    {
     "name": "stderr",
     "output_type": "stream",
     "text": [
      "WARNING:absl:Found untraced functions such as _jit_compiled_convolution_op, _jit_compiled_convolution_op, _jit_compiled_convolution_op, _jit_compiled_convolution_op while saving (showing 4 of 4). These functions will not be directly callable after loading.\n"
     ]
    },
    {
     "name": "stdout",
     "output_type": "stream",
     "text": [
      "INFO:tensorflow:Assets written to: /root/jupyter/IHC/gain_proj/wandb/run-20230422_024802-8en9mdg3/files/model-best/assets\n"
     ]
    },
    {
     "name": "stderr",
     "output_type": "stream",
     "text": [
      "INFO:tensorflow:Assets written to: /root/jupyter/IHC/gain_proj/wandb/run-20230422_024802-8en9mdg3/files/model-best/assets\n",
      "\u001b[34m\u001b[1mwandb\u001b[0m: Adding directory to artifact (/root/jupyter/IHC/gain_proj/wandb/run-20230422_024802-8en9mdg3/files/model-best)... Done. 0.0s\n"
     ]
    },
    {
     "name": "stdout",
     "output_type": "stream",
     "text": [
      "391/391 [==============================] - 11s 28ms/step - loss: 2.1641 - accuracy: 0.4308 - val_loss: 2.3495 - val_accuracy: 0.4039 - lr: 0.0010\n",
      "Learning rate: 0.001\n",
      "Epoch 15/200\n",
      "385/391 [============================>.] - ETA: 0s - loss: 2.1210 - accuracy: 0.4417"
     ]
    },
    {
     "name": "stderr",
     "output_type": "stream",
     "text": [
      "WARNING:absl:Found untraced functions such as _jit_compiled_convolution_op, _jit_compiled_convolution_op, _jit_compiled_convolution_op, _jit_compiled_convolution_op while saving (showing 4 of 4). These functions will not be directly callable after loading.\n"
     ]
    },
    {
     "name": "stdout",
     "output_type": "stream",
     "text": [
      "INFO:tensorflow:Assets written to: /root/jupyter/IHC/gain_proj/wandb/run-20230422_024802-8en9mdg3/files/model-best/assets\n"
     ]
    },
    {
     "name": "stderr",
     "output_type": "stream",
     "text": [
      "INFO:tensorflow:Assets written to: /root/jupyter/IHC/gain_proj/wandb/run-20230422_024802-8en9mdg3/files/model-best/assets\n",
      "\u001b[34m\u001b[1mwandb\u001b[0m: Adding directory to artifact (/root/jupyter/IHC/gain_proj/wandb/run-20230422_024802-8en9mdg3/files/model-best)... Done. 0.0s\n"
     ]
    },
    {
     "name": "stdout",
     "output_type": "stream",
     "text": [
      "391/391 [==============================] - 11s 28ms/step - loss: 2.1216 - accuracy: 0.4415 - val_loss: 2.3261 - val_accuracy: 0.4042 - lr: 0.0010\n",
      "Learning rate: 0.001\n",
      "Epoch 16/200\n",
      "391/391 [==============================] - ETA: 0s - loss: 2.0730 - accuracy: 0.4517"
     ]
    },
    {
     "name": "stderr",
     "output_type": "stream",
     "text": [
      "WARNING:absl:Found untraced functions such as _jit_compiled_convolution_op, _jit_compiled_convolution_op, _jit_compiled_convolution_op, _jit_compiled_convolution_op while saving (showing 4 of 4). These functions will not be directly callable after loading.\n"
     ]
    },
    {
     "name": "stdout",
     "output_type": "stream",
     "text": [
      "INFO:tensorflow:Assets written to: /root/jupyter/IHC/gain_proj/wandb/run-20230422_024802-8en9mdg3/files/model-best/assets\n"
     ]
    },
    {
     "name": "stderr",
     "output_type": "stream",
     "text": [
      "INFO:tensorflow:Assets written to: /root/jupyter/IHC/gain_proj/wandb/run-20230422_024802-8en9mdg3/files/model-best/assets\n",
      "\u001b[34m\u001b[1mwandb\u001b[0m: Adding directory to artifact (/root/jupyter/IHC/gain_proj/wandb/run-20230422_024802-8en9mdg3/files/model-best)... Done. 0.0s\n"
     ]
    },
    {
     "name": "stdout",
     "output_type": "stream",
     "text": [
      "391/391 [==============================] - 11s 28ms/step - loss: 2.0730 - accuracy: 0.4517 - val_loss: 2.3364 - val_accuracy: 0.4067 - lr: 0.0010\n",
      "Learning rate: 0.001\n",
      "Epoch 17/200\n",
      "386/391 [============================>.] - ETA: 0s - loss: 2.0339 - accuracy: 0.4594"
     ]
    },
    {
     "name": "stderr",
     "output_type": "stream",
     "text": [
      "WARNING:absl:Found untraced functions such as _jit_compiled_convolution_op, _jit_compiled_convolution_op, _jit_compiled_convolution_op, _jit_compiled_convolution_op while saving (showing 4 of 4). These functions will not be directly callable after loading.\n"
     ]
    },
    {
     "name": "stdout",
     "output_type": "stream",
     "text": [
      "INFO:tensorflow:Assets written to: /root/jupyter/IHC/gain_proj/wandb/run-20230422_024802-8en9mdg3/files/model-best/assets\n"
     ]
    },
    {
     "name": "stderr",
     "output_type": "stream",
     "text": [
      "INFO:tensorflow:Assets written to: /root/jupyter/IHC/gain_proj/wandb/run-20230422_024802-8en9mdg3/files/model-best/assets\n",
      "\u001b[34m\u001b[1mwandb\u001b[0m: Adding directory to artifact (/root/jupyter/IHC/gain_proj/wandb/run-20230422_024802-8en9mdg3/files/model-best)... Done. 0.0s\n"
     ]
    },
    {
     "name": "stdout",
     "output_type": "stream",
     "text": [
      "391/391 [==============================] - 11s 28ms/step - loss: 2.0347 - accuracy: 0.4591 - val_loss: 2.3176 - val_accuracy: 0.4081 - lr: 0.0010\n",
      "Learning rate: 0.001\n",
      "Epoch 18/200\n",
      "388/391 [============================>.] - ETA: 0s - loss: 1.9936 - accuracy: 0.4703"
     ]
    },
    {
     "name": "stderr",
     "output_type": "stream",
     "text": [
      "WARNING:absl:Found untraced functions such as _jit_compiled_convolution_op, _jit_compiled_convolution_op, _jit_compiled_convolution_op, _jit_compiled_convolution_op while saving (showing 4 of 4). These functions will not be directly callable after loading.\n"
     ]
    },
    {
     "name": "stdout",
     "output_type": "stream",
     "text": [
      "INFO:tensorflow:Assets written to: /root/jupyter/IHC/gain_proj/wandb/run-20230422_024802-8en9mdg3/files/model-best/assets\n"
     ]
    },
    {
     "name": "stderr",
     "output_type": "stream",
     "text": [
      "INFO:tensorflow:Assets written to: /root/jupyter/IHC/gain_proj/wandb/run-20230422_024802-8en9mdg3/files/model-best/assets\n",
      "\u001b[34m\u001b[1mwandb\u001b[0m: Adding directory to artifact (/root/jupyter/IHC/gain_proj/wandb/run-20230422_024802-8en9mdg3/files/model-best)... Done. 0.0s\n"
     ]
    },
    {
     "name": "stdout",
     "output_type": "stream",
     "text": [
      "391/391 [==============================] - 11s 28ms/step - loss: 1.9940 - accuracy: 0.4701 - val_loss: 2.2670 - val_accuracy: 0.4192 - lr: 0.0010\n",
      "Learning rate: 0.001\n",
      "Epoch 19/200\n",
      "390/391 [============================>.] - ETA: 0s - loss: 1.9633 - accuracy: 0.4777"
     ]
    },
    {
     "name": "stderr",
     "output_type": "stream",
     "text": [
      "WARNING:absl:Found untraced functions such as _jit_compiled_convolution_op, _jit_compiled_convolution_op, _jit_compiled_convolution_op, _jit_compiled_convolution_op while saving (showing 4 of 4). These functions will not be directly callable after loading.\n"
     ]
    },
    {
     "name": "stdout",
     "output_type": "stream",
     "text": [
      "INFO:tensorflow:Assets written to: /root/jupyter/IHC/gain_proj/wandb/run-20230422_024802-8en9mdg3/files/model-best/assets\n"
     ]
    },
    {
     "name": "stderr",
     "output_type": "stream",
     "text": [
      "INFO:tensorflow:Assets written to: /root/jupyter/IHC/gain_proj/wandb/run-20230422_024802-8en9mdg3/files/model-best/assets\n",
      "\u001b[34m\u001b[1mwandb\u001b[0m: Adding directory to artifact (/root/jupyter/IHC/gain_proj/wandb/run-20230422_024802-8en9mdg3/files/model-best)... Done. 0.0s\n"
     ]
    },
    {
     "name": "stdout",
     "output_type": "stream",
     "text": [
      "391/391 [==============================] - 11s 28ms/step - loss: 1.9632 - accuracy: 0.4777 - val_loss: 2.2566 - val_accuracy: 0.4245 - lr: 0.0010\n",
      "Learning rate: 0.001\n",
      "Epoch 20/200\n",
      "391/391 [==============================] - 9s 23ms/step - loss: 1.9221 - accuracy: 0.4856 - val_loss: 2.2651 - val_accuracy: 0.4195 - lr: 0.0010\n",
      "Learning rate: 0.001\n",
      "Epoch 21/200\n",
      "385/391 [============================>.] - ETA: 0s - loss: 1.8955 - accuracy: 0.4938"
     ]
    },
    {
     "name": "stderr",
     "output_type": "stream",
     "text": [
      "WARNING:absl:Found untraced functions such as _jit_compiled_convolution_op, _jit_compiled_convolution_op, _jit_compiled_convolution_op, _jit_compiled_convolution_op while saving (showing 4 of 4). These functions will not be directly callable after loading.\n"
     ]
    },
    {
     "name": "stdout",
     "output_type": "stream",
     "text": [
      "INFO:tensorflow:Assets written to: /root/jupyter/IHC/gain_proj/wandb/run-20230422_024802-8en9mdg3/files/model-best/assets\n"
     ]
    },
    {
     "name": "stderr",
     "output_type": "stream",
     "text": [
      "INFO:tensorflow:Assets written to: /root/jupyter/IHC/gain_proj/wandb/run-20230422_024802-8en9mdg3/files/model-best/assets\n",
      "\u001b[34m\u001b[1mwandb\u001b[0m: Adding directory to artifact (/root/jupyter/IHC/gain_proj/wandb/run-20230422_024802-8en9mdg3/files/model-best)... Done. 0.0s\n"
     ]
    },
    {
     "name": "stdout",
     "output_type": "stream",
     "text": [
      "391/391 [==============================] - 11s 28ms/step - loss: 1.8953 - accuracy: 0.4938 - val_loss: 2.2478 - val_accuracy: 0.4282 - lr: 0.0010\n",
      "Learning rate: 0.001\n",
      "Epoch 22/200\n",
      "391/391 [==============================] - 9s 23ms/step - loss: 1.8730 - accuracy: 0.4959 - val_loss: 2.2708 - val_accuracy: 0.4236 - lr: 0.0010\n",
      "Learning rate: 0.001\n",
      "Epoch 23/200\n",
      "391/391 [==============================] - 9s 23ms/step - loss: 1.8392 - accuracy: 0.5036 - val_loss: 2.2253 - val_accuracy: 0.4270 - lr: 0.0010\n",
      "Learning rate: 0.001\n",
      "Epoch 24/200\n",
      "391/391 [==============================] - ETA: 0s - loss: 1.8203 - accuracy: 0.5085"
     ]
    },
    {
     "name": "stderr",
     "output_type": "stream",
     "text": [
      "WARNING:absl:Found untraced functions such as _jit_compiled_convolution_op, _jit_compiled_convolution_op, _jit_compiled_convolution_op, _jit_compiled_convolution_op while saving (showing 4 of 4). These functions will not be directly callable after loading.\n"
     ]
    },
    {
     "name": "stdout",
     "output_type": "stream",
     "text": [
      "INFO:tensorflow:Assets written to: /root/jupyter/IHC/gain_proj/wandb/run-20230422_024802-8en9mdg3/files/model-best/assets\n"
     ]
    },
    {
     "name": "stderr",
     "output_type": "stream",
     "text": [
      "INFO:tensorflow:Assets written to: /root/jupyter/IHC/gain_proj/wandb/run-20230422_024802-8en9mdg3/files/model-best/assets\n",
      "\u001b[34m\u001b[1mwandb\u001b[0m: Adding directory to artifact (/root/jupyter/IHC/gain_proj/wandb/run-20230422_024802-8en9mdg3/files/model-best)... Done. 0.0s\n"
     ]
    },
    {
     "name": "stdout",
     "output_type": "stream",
     "text": [
      "391/391 [==============================] - 11s 28ms/step - loss: 1.8203 - accuracy: 0.5085 - val_loss: 2.2409 - val_accuracy: 0.4343 - lr: 0.0010\n",
      "Learning rate: 0.001\n",
      "Epoch 25/200\n",
      "388/391 [============================>.] - ETA: 0s - loss: 1.7989 - accuracy: 0.5164"
     ]
    },
    {
     "name": "stderr",
     "output_type": "stream",
     "text": [
      "WARNING:absl:Found untraced functions such as _jit_compiled_convolution_op, _jit_compiled_convolution_op, _jit_compiled_convolution_op, _jit_compiled_convolution_op while saving (showing 4 of 4). These functions will not be directly callable after loading.\n"
     ]
    },
    {
     "name": "stdout",
     "output_type": "stream",
     "text": [
      "INFO:tensorflow:Assets written to: /root/jupyter/IHC/gain_proj/wandb/run-20230422_024802-8en9mdg3/files/model-best/assets\n"
     ]
    },
    {
     "name": "stderr",
     "output_type": "stream",
     "text": [
      "INFO:tensorflow:Assets written to: /root/jupyter/IHC/gain_proj/wandb/run-20230422_024802-8en9mdg3/files/model-best/assets\n",
      "\u001b[34m\u001b[1mwandb\u001b[0m: Adding directory to artifact (/root/jupyter/IHC/gain_proj/wandb/run-20230422_024802-8en9mdg3/files/model-best)... Done. 0.0s\n"
     ]
    },
    {
     "name": "stdout",
     "output_type": "stream",
     "text": [
      "391/391 [==============================] - 11s 28ms/step - loss: 1.7984 - accuracy: 0.5165 - val_loss: 2.2100 - val_accuracy: 0.4395 - lr: 0.0010\n",
      "Learning rate: 0.001\n",
      "Epoch 26/200\n",
      "391/391 [==============================] - 9s 23ms/step - loss: 1.7727 - accuracy: 0.5199 - val_loss: 2.2187 - val_accuracy: 0.4388 - lr: 0.0010\n",
      "Learning rate: 0.001\n",
      "Epoch 27/200\n",
      "391/391 [==============================] - 9s 23ms/step - loss: 1.7538 - accuracy: 0.5251 - val_loss: 2.2286 - val_accuracy: 0.4368 - lr: 0.0010\n",
      "Learning rate: 0.001\n",
      "Epoch 28/200\n",
      "390/391 [============================>.] - ETA: 0s - loss: 1.7316 - accuracy: 0.5306"
     ]
    },
    {
     "name": "stderr",
     "output_type": "stream",
     "text": [
      "WARNING:absl:Found untraced functions such as _jit_compiled_convolution_op, _jit_compiled_convolution_op, _jit_compiled_convolution_op, _jit_compiled_convolution_op while saving (showing 4 of 4). These functions will not be directly callable after loading.\n"
     ]
    },
    {
     "name": "stdout",
     "output_type": "stream",
     "text": [
      "INFO:tensorflow:Assets written to: /root/jupyter/IHC/gain_proj/wandb/run-20230422_024802-8en9mdg3/files/model-best/assets\n"
     ]
    },
    {
     "name": "stderr",
     "output_type": "stream",
     "text": [
      "INFO:tensorflow:Assets written to: /root/jupyter/IHC/gain_proj/wandb/run-20230422_024802-8en9mdg3/files/model-best/assets\n",
      "\u001b[34m\u001b[1mwandb\u001b[0m: Adding directory to artifact (/root/jupyter/IHC/gain_proj/wandb/run-20230422_024802-8en9mdg3/files/model-best)... Done. 0.0s\n"
     ]
    },
    {
     "name": "stdout",
     "output_type": "stream",
     "text": [
      "391/391 [==============================] - 11s 28ms/step - loss: 1.7311 - accuracy: 0.5306 - val_loss: 2.2149 - val_accuracy: 0.4442 - lr: 0.0010\n",
      "Learning rate: 0.001\n",
      "Epoch 29/200\n",
      "386/391 [============================>.] - ETA: 0s - loss: 1.7093 - accuracy: 0.5349"
     ]
    },
    {
     "name": "stderr",
     "output_type": "stream",
     "text": [
      "WARNING:absl:Found untraced functions such as _jit_compiled_convolution_op, _jit_compiled_convolution_op, _jit_compiled_convolution_op, _jit_compiled_convolution_op while saving (showing 4 of 4). These functions will not be directly callable after loading.\n"
     ]
    },
    {
     "name": "stdout",
     "output_type": "stream",
     "text": [
      "INFO:tensorflow:Assets written to: /root/jupyter/IHC/gain_proj/wandb/run-20230422_024802-8en9mdg3/files/model-best/assets\n"
     ]
    },
    {
     "name": "stderr",
     "output_type": "stream",
     "text": [
      "INFO:tensorflow:Assets written to: /root/jupyter/IHC/gain_proj/wandb/run-20230422_024802-8en9mdg3/files/model-best/assets\n",
      "\u001b[34m\u001b[1mwandb\u001b[0m: Adding directory to artifact (/root/jupyter/IHC/gain_proj/wandb/run-20230422_024802-8en9mdg3/files/model-best)... Done. 0.0s\n"
     ]
    },
    {
     "name": "stdout",
     "output_type": "stream",
     "text": [
      "391/391 [==============================] - 11s 28ms/step - loss: 1.7086 - accuracy: 0.5352 - val_loss: 2.1890 - val_accuracy: 0.4457 - lr: 0.0010\n",
      "Learning rate: 0.001\n",
      "Epoch 30/200\n",
      "387/391 [============================>.] - ETA: 0s - loss: 1.6899 - accuracy: 0.5388"
     ]
    },
    {
     "name": "stderr",
     "output_type": "stream",
     "text": [
      "WARNING:absl:Found untraced functions such as _jit_compiled_convolution_op, _jit_compiled_convolution_op, _jit_compiled_convolution_op, _jit_compiled_convolution_op while saving (showing 4 of 4). These functions will not be directly callable after loading.\n"
     ]
    },
    {
     "name": "stdout",
     "output_type": "stream",
     "text": [
      "INFO:tensorflow:Assets written to: /root/jupyter/IHC/gain_proj/wandb/run-20230422_024802-8en9mdg3/files/model-best/assets\n"
     ]
    },
    {
     "name": "stderr",
     "output_type": "stream",
     "text": [
      "INFO:tensorflow:Assets written to: /root/jupyter/IHC/gain_proj/wandb/run-20230422_024802-8en9mdg3/files/model-best/assets\n",
      "\u001b[34m\u001b[1mwandb\u001b[0m: Adding directory to artifact (/root/jupyter/IHC/gain_proj/wandb/run-20230422_024802-8en9mdg3/files/model-best)... Done. 0.0s\n"
     ]
    },
    {
     "name": "stdout",
     "output_type": "stream",
     "text": [
      "391/391 [==============================] - 11s 28ms/step - loss: 1.6910 - accuracy: 0.5385 - val_loss: 2.2135 - val_accuracy: 0.4467 - lr: 0.0010\n",
      "Learning rate: 0.001\n",
      "Epoch 31/200\n",
      "391/391 [==============================] - 9s 24ms/step - loss: 1.6756 - accuracy: 0.5416 - val_loss: 2.2480 - val_accuracy: 0.4390 - lr: 0.0010\n",
      "Learning rate: 0.001\n",
      "Epoch 32/200\n",
      "391/391 [==============================] - 9s 23ms/step - loss: 1.6571 - accuracy: 0.5462 - val_loss: 2.2194 - val_accuracy: 0.4459 - lr: 0.0010\n",
      "Learning rate: 0.001\n",
      "Epoch 33/200\n",
      "387/391 [============================>.] - ETA: 0s - loss: 1.6367 - accuracy: 0.5510"
     ]
    },
    {
     "name": "stderr",
     "output_type": "stream",
     "text": [
      "WARNING:absl:Found untraced functions such as _jit_compiled_convolution_op, _jit_compiled_convolution_op, _jit_compiled_convolution_op, _jit_compiled_convolution_op while saving (showing 4 of 4). These functions will not be directly callable after loading.\n"
     ]
    },
    {
     "name": "stdout",
     "output_type": "stream",
     "text": [
      "INFO:tensorflow:Assets written to: /root/jupyter/IHC/gain_proj/wandb/run-20230422_024802-8en9mdg3/files/model-best/assets\n"
     ]
    },
    {
     "name": "stderr",
     "output_type": "stream",
     "text": [
      "INFO:tensorflow:Assets written to: /root/jupyter/IHC/gain_proj/wandb/run-20230422_024802-8en9mdg3/files/model-best/assets\n",
      "\u001b[34m\u001b[1mwandb\u001b[0m: Adding directory to artifact (/root/jupyter/IHC/gain_proj/wandb/run-20230422_024802-8en9mdg3/files/model-best)... Done. 0.0s\n"
     ]
    },
    {
     "name": "stdout",
     "output_type": "stream",
     "text": [
      "391/391 [==============================] - 11s 28ms/step - loss: 1.6372 - accuracy: 0.5508 - val_loss: 2.1954 - val_accuracy: 0.4483 - lr: 0.0010\n",
      "Learning rate: 0.001\n",
      "Epoch 34/200\n",
      "390/391 [============================>.] - ETA: 0s - loss: 1.6254 - accuracy: 0.5529"
     ]
    },
    {
     "name": "stderr",
     "output_type": "stream",
     "text": [
      "WARNING:absl:Found untraced functions such as _jit_compiled_convolution_op, _jit_compiled_convolution_op, _jit_compiled_convolution_op, _jit_compiled_convolution_op while saving (showing 4 of 4). These functions will not be directly callable after loading.\n"
     ]
    },
    {
     "name": "stdout",
     "output_type": "stream",
     "text": [
      "INFO:tensorflow:Assets written to: /root/jupyter/IHC/gain_proj/wandb/run-20230422_024802-8en9mdg3/files/model-best/assets\n"
     ]
    },
    {
     "name": "stderr",
     "output_type": "stream",
     "text": [
      "INFO:tensorflow:Assets written to: /root/jupyter/IHC/gain_proj/wandb/run-20230422_024802-8en9mdg3/files/model-best/assets\n",
      "\u001b[34m\u001b[1mwandb\u001b[0m: Adding directory to artifact (/root/jupyter/IHC/gain_proj/wandb/run-20230422_024802-8en9mdg3/files/model-best)... Done. 0.0s\n"
     ]
    },
    {
     "name": "stdout",
     "output_type": "stream",
     "text": [
      "391/391 [==============================] - 11s 28ms/step - loss: 1.6264 - accuracy: 0.5527 - val_loss: 2.2027 - val_accuracy: 0.4530 - lr: 0.0010\n",
      "Learning rate: 0.001\n",
      "Epoch 35/200\n",
      "391/391 [==============================] - 9s 23ms/step - loss: 1.6146 - accuracy: 0.5551 - val_loss: 2.2026 - val_accuracy: 0.4459 - lr: 0.0010\n",
      "Learning rate: 0.001\n",
      "Epoch 36/200\n",
      "391/391 [==============================] - 9s 23ms/step - loss: 1.5968 - accuracy: 0.5585 - val_loss: 2.2025 - val_accuracy: 0.4530 - lr: 0.0010\n",
      "Learning rate: 0.001\n",
      "Epoch 37/200\n",
      "386/391 [============================>.] - ETA: 0s - loss: 1.5804 - accuracy: 0.5634"
     ]
    },
    {
     "name": "stderr",
     "output_type": "stream",
     "text": [
      "WARNING:absl:Found untraced functions such as _jit_compiled_convolution_op, _jit_compiled_convolution_op, _jit_compiled_convolution_op, _jit_compiled_convolution_op while saving (showing 4 of 4). These functions will not be directly callable after loading.\n"
     ]
    },
    {
     "name": "stdout",
     "output_type": "stream",
     "text": [
      "INFO:tensorflow:Assets written to: /root/jupyter/IHC/gain_proj/wandb/run-20230422_024802-8en9mdg3/files/model-best/assets\n"
     ]
    },
    {
     "name": "stderr",
     "output_type": "stream",
     "text": [
      "INFO:tensorflow:Assets written to: /root/jupyter/IHC/gain_proj/wandb/run-20230422_024802-8en9mdg3/files/model-best/assets\n",
      "\u001b[34m\u001b[1mwandb\u001b[0m: Adding directory to artifact (/root/jupyter/IHC/gain_proj/wandb/run-20230422_024802-8en9mdg3/files/model-best)... Done. 0.0s\n"
     ]
    },
    {
     "name": "stdout",
     "output_type": "stream",
     "text": [
      "391/391 [==============================] - 11s 28ms/step - loss: 1.5807 - accuracy: 0.5630 - val_loss: 2.1944 - val_accuracy: 0.4576 - lr: 0.0010\n",
      "Learning rate: 0.001\n",
      "Epoch 38/200\n",
      "391/391 [==============================] - 9s 24ms/step - loss: 1.5636 - accuracy: 0.5673 - val_loss: 2.1979 - val_accuracy: 0.4574 - lr: 0.0010\n",
      "Learning rate: 0.001\n",
      "Epoch 39/200\n",
      "391/391 [==============================] - 9s 23ms/step - loss: 1.5567 - accuracy: 0.5709 - val_loss: 2.2157 - val_accuracy: 0.4541 - lr: 0.0010\n",
      "Learning rate: 0.001\n",
      "Epoch 40/200\n",
      "391/391 [==============================] - 9s 23ms/step - loss: 1.5448 - accuracy: 0.5713 - val_loss: 2.1982 - val_accuracy: 0.4553 - lr: 0.0010\n",
      "Learning rate: 0.001\n",
      "Epoch 41/200\n",
      "391/391 [==============================] - 9s 23ms/step - loss: 1.5327 - accuracy: 0.5749 - val_loss: 2.2321 - val_accuracy: 0.4553 - lr: 0.0010\n",
      "Learning rate: 0.001\n",
      "Epoch 42/200\n",
      "385/391 [============================>.] - ETA: 0s - loss: 1.5193 - accuracy: 0.5809"
     ]
    },
    {
     "name": "stderr",
     "output_type": "stream",
     "text": [
      "WARNING:absl:Found untraced functions such as _jit_compiled_convolution_op, _jit_compiled_convolution_op, _jit_compiled_convolution_op, _jit_compiled_convolution_op while saving (showing 4 of 4). These functions will not be directly callable after loading.\n"
     ]
    },
    {
     "name": "stdout",
     "output_type": "stream",
     "text": [
      "INFO:tensorflow:Assets written to: /root/jupyter/IHC/gain_proj/wandb/run-20230422_024802-8en9mdg3/files/model-best/assets\n"
     ]
    },
    {
     "name": "stderr",
     "output_type": "stream",
     "text": [
      "INFO:tensorflow:Assets written to: /root/jupyter/IHC/gain_proj/wandb/run-20230422_024802-8en9mdg3/files/model-best/assets\n",
      "\u001b[34m\u001b[1mwandb\u001b[0m: Adding directory to artifact (/root/jupyter/IHC/gain_proj/wandb/run-20230422_024802-8en9mdg3/files/model-best)... Done. 0.0s\n"
     ]
    },
    {
     "name": "stdout",
     "output_type": "stream",
     "text": [
      "391/391 [==============================] - 11s 28ms/step - loss: 1.5195 - accuracy: 0.5807 - val_loss: 2.1936 - val_accuracy: 0.4612 - lr: 0.0010\n",
      "Learning rate: 0.001\n",
      "Epoch 43/200\n",
      "388/391 [============================>.] - ETA: 0s - loss: 1.5060 - accuracy: 0.5823"
     ]
    },
    {
     "name": "stderr",
     "output_type": "stream",
     "text": [
      "WARNING:absl:Found untraced functions such as _jit_compiled_convolution_op, _jit_compiled_convolution_op, _jit_compiled_convolution_op, _jit_compiled_convolution_op while saving (showing 4 of 4). These functions will not be directly callable after loading.\n"
     ]
    },
    {
     "name": "stdout",
     "output_type": "stream",
     "text": [
      "INFO:tensorflow:Assets written to: /root/jupyter/IHC/gain_proj/wandb/run-20230422_024802-8en9mdg3/files/model-best/assets\n"
     ]
    },
    {
     "name": "stderr",
     "output_type": "stream",
     "text": [
      "INFO:tensorflow:Assets written to: /root/jupyter/IHC/gain_proj/wandb/run-20230422_024802-8en9mdg3/files/model-best/assets\n",
      "\u001b[34m\u001b[1mwandb\u001b[0m: Adding directory to artifact (/root/jupyter/IHC/gain_proj/wandb/run-20230422_024802-8en9mdg3/files/model-best)... Done. 0.0s\n"
     ]
    },
    {
     "name": "stdout",
     "output_type": "stream",
     "text": [
      "391/391 [==============================] - 11s 28ms/step - loss: 1.5065 - accuracy: 0.5822 - val_loss: 2.1973 - val_accuracy: 0.4619 - lr: 0.0010\n",
      "Learning rate: 0.001\n",
      "Epoch 44/200\n",
      "391/391 [==============================] - 10s 24ms/step - loss: 1.4984 - accuracy: 0.5836 - val_loss: 2.1965 - val_accuracy: 0.4609 - lr: 0.0010\n",
      "Learning rate: 0.001\n",
      "Epoch 45/200\n",
      "389/391 [============================>.] - ETA: 0s - loss: 1.4935 - accuracy: 0.5857"
     ]
    },
    {
     "name": "stderr",
     "output_type": "stream",
     "text": [
      "WARNING:absl:Found untraced functions such as _jit_compiled_convolution_op, _jit_compiled_convolution_op, _jit_compiled_convolution_op, _jit_compiled_convolution_op while saving (showing 4 of 4). These functions will not be directly callable after loading.\n"
     ]
    },
    {
     "name": "stdout",
     "output_type": "stream",
     "text": [
      "INFO:tensorflow:Assets written to: /root/jupyter/IHC/gain_proj/wandb/run-20230422_024802-8en9mdg3/files/model-best/assets\n"
     ]
    },
    {
     "name": "stderr",
     "output_type": "stream",
     "text": [
      "INFO:tensorflow:Assets written to: /root/jupyter/IHC/gain_proj/wandb/run-20230422_024802-8en9mdg3/files/model-best/assets\n",
      "\u001b[34m\u001b[1mwandb\u001b[0m: Adding directory to artifact (/root/jupyter/IHC/gain_proj/wandb/run-20230422_024802-8en9mdg3/files/model-best)... Done. 0.0s\n"
     ]
    },
    {
     "name": "stdout",
     "output_type": "stream",
     "text": [
      "391/391 [==============================] - 11s 28ms/step - loss: 1.4943 - accuracy: 0.5854 - val_loss: 2.1813 - val_accuracy: 0.4641 - lr: 0.0010\n",
      "Learning rate: 0.001\n",
      "Epoch 46/200\n",
      "391/391 [==============================] - 9s 23ms/step - loss: 1.4777 - accuracy: 0.5894 - val_loss: 2.2126 - val_accuracy: 0.4593 - lr: 0.0010\n",
      "Learning rate: 0.001\n",
      "Epoch 47/200\n",
      "391/391 [==============================] - 9s 23ms/step - loss: 1.4637 - accuracy: 0.5910 - val_loss: 2.2305 - val_accuracy: 0.4550 - lr: 0.0010\n",
      "Learning rate: 0.001\n",
      "Epoch 48/200\n",
      "387/391 [============================>.] - ETA: 0s - loss: 1.4463 - accuracy: 0.5963"
     ]
    },
    {
     "name": "stderr",
     "output_type": "stream",
     "text": [
      "WARNING:absl:Found untraced functions such as _jit_compiled_convolution_op, _jit_compiled_convolution_op, _jit_compiled_convolution_op, _jit_compiled_convolution_op while saving (showing 4 of 4). These functions will not be directly callable after loading.\n"
     ]
    },
    {
     "name": "stdout",
     "output_type": "stream",
     "text": [
      "INFO:tensorflow:Assets written to: /root/jupyter/IHC/gain_proj/wandb/run-20230422_024802-8en9mdg3/files/model-best/assets\n"
     ]
    },
    {
     "name": "stderr",
     "output_type": "stream",
     "text": [
      "INFO:tensorflow:Assets written to: /root/jupyter/IHC/gain_proj/wandb/run-20230422_024802-8en9mdg3/files/model-best/assets\n",
      "\u001b[34m\u001b[1mwandb\u001b[0m: Adding directory to artifact (/root/jupyter/IHC/gain_proj/wandb/run-20230422_024802-8en9mdg3/files/model-best)... Done. 0.0s\n"
     ]
    },
    {
     "name": "stdout",
     "output_type": "stream",
     "text": [
      "391/391 [==============================] - 11s 28ms/step - loss: 1.4475 - accuracy: 0.5959 - val_loss: 2.2060 - val_accuracy: 0.4674 - lr: 0.0010\n",
      "Learning rate: 0.001\n",
      "Epoch 49/200\n",
      "391/391 [==============================] - 9s 23ms/step - loss: 1.4453 - accuracy: 0.5967 - val_loss: 2.2206 - val_accuracy: 0.4541 - lr: 0.0010\n",
      "Learning rate: 0.001\n",
      "Epoch 50/200\n",
      "391/391 [==============================] - 9s 24ms/step - loss: 1.4279 - accuracy: 0.5997 - val_loss: 2.2361 - val_accuracy: 0.4607 - lr: 0.0010\n",
      "Learning rate: 0.001\n",
      "Epoch 51/200\n",
      "391/391 [==============================] - 10s 27ms/step - loss: 1.4250 - accuracy: 0.6014 - val_loss: 2.2387 - val_accuracy: 0.4634 - lr: 0.0010\n",
      "Learning rate: 0.0001\n",
      "Epoch 52/200\n",
      "390/391 [============================>.] - ETA: 0s - loss: 1.2663 - accuracy: 0.6419"
     ]
    },
    {
     "name": "stderr",
     "output_type": "stream",
     "text": [
      "WARNING:absl:Found untraced functions such as _jit_compiled_convolution_op, _jit_compiled_convolution_op, _jit_compiled_convolution_op, _jit_compiled_convolution_op while saving (showing 4 of 4). These functions will not be directly callable after loading.\n"
     ]
    },
    {
     "name": "stdout",
     "output_type": "stream",
     "text": [
      "INFO:tensorflow:Assets written to: /root/jupyter/IHC/gain_proj/wandb/run-20230422_024802-8en9mdg3/files/model-best/assets\n"
     ]
    },
    {
     "name": "stderr",
     "output_type": "stream",
     "text": [
      "INFO:tensorflow:Assets written to: /root/jupyter/IHC/gain_proj/wandb/run-20230422_024802-8en9mdg3/files/model-best/assets\n",
      "\u001b[34m\u001b[1mwandb\u001b[0m: Adding directory to artifact (/root/jupyter/IHC/gain_proj/wandb/run-20230422_024802-8en9mdg3/files/model-best)... Done. 0.0s\n"
     ]
    },
    {
     "name": "stdout",
     "output_type": "stream",
     "text": [
      "391/391 [==============================] - 11s 28ms/step - loss: 1.2666 - accuracy: 0.6418 - val_loss: 2.1637 - val_accuracy: 0.4768 - lr: 1.0000e-04\n",
      "Learning rate: 0.0001\n",
      "Epoch 53/200\n",
      "391/391 [==============================] - 9s 23ms/step - loss: 1.2404 - accuracy: 0.6511 - val_loss: 2.1670 - val_accuracy: 0.4761 - lr: 1.0000e-04\n",
      "Learning rate: 0.0001\n",
      "Epoch 54/200\n",
      "391/391 [==============================] - 9s 23ms/step - loss: 1.2317 - accuracy: 0.6539 - val_loss: 2.1679 - val_accuracy: 0.4767 - lr: 1.0000e-04\n",
      "Learning rate: 0.0001\n",
      "Epoch 55/200\n",
      "386/391 [============================>.] - ETA: 0s - loss: 1.2313 - accuracy: 0.6553"
     ]
    },
    {
     "name": "stderr",
     "output_type": "stream",
     "text": [
      "WARNING:absl:Found untraced functions such as _jit_compiled_convolution_op, _jit_compiled_convolution_op, _jit_compiled_convolution_op, _jit_compiled_convolution_op while saving (showing 4 of 4). These functions will not be directly callable after loading.\n"
     ]
    },
    {
     "name": "stdout",
     "output_type": "stream",
     "text": [
      "INFO:tensorflow:Assets written to: /root/jupyter/IHC/gain_proj/wandb/run-20230422_024802-8en9mdg3/files/model-best/assets\n"
     ]
    },
    {
     "name": "stderr",
     "output_type": "stream",
     "text": [
      "INFO:tensorflow:Assets written to: /root/jupyter/IHC/gain_proj/wandb/run-20230422_024802-8en9mdg3/files/model-best/assets\n",
      "\u001b[34m\u001b[1mwandb\u001b[0m: Adding directory to artifact (/root/jupyter/IHC/gain_proj/wandb/run-20230422_024802-8en9mdg3/files/model-best)... Done. 0.0s\n"
     ]
    },
    {
     "name": "stdout",
     "output_type": "stream",
     "text": [
      "391/391 [==============================] - 11s 28ms/step - loss: 1.2317 - accuracy: 0.6552 - val_loss: 2.1729 - val_accuracy: 0.4772 - lr: 1.0000e-04\n",
      "Learning rate: 0.0001\n",
      "Epoch 56/200\n",
      "390/391 [============================>.] - ETA: 0s - loss: 1.2175 - accuracy: 0.6546"
     ]
    },
    {
     "name": "stderr",
     "output_type": "stream",
     "text": [
      "WARNING:absl:Found untraced functions such as _jit_compiled_convolution_op, _jit_compiled_convolution_op, _jit_compiled_convolution_op, _jit_compiled_convolution_op while saving (showing 4 of 4). These functions will not be directly callable after loading.\n"
     ]
    },
    {
     "name": "stdout",
     "output_type": "stream",
     "text": [
      "INFO:tensorflow:Assets written to: /root/jupyter/IHC/gain_proj/wandb/run-20230422_024802-8en9mdg3/files/model-best/assets\n"
     ]
    },
    {
     "name": "stderr",
     "output_type": "stream",
     "text": [
      "INFO:tensorflow:Assets written to: /root/jupyter/IHC/gain_proj/wandb/run-20230422_024802-8en9mdg3/files/model-best/assets\n",
      "\u001b[34m\u001b[1mwandb\u001b[0m: Adding directory to artifact (/root/jupyter/IHC/gain_proj/wandb/run-20230422_024802-8en9mdg3/files/model-best)... Done. 0.0s\n"
     ]
    },
    {
     "name": "stdout",
     "output_type": "stream",
     "text": [
      "391/391 [==============================] - 11s 29ms/step - loss: 1.2174 - accuracy: 0.6546 - val_loss: 2.1786 - val_accuracy: 0.4788 - lr: 1.0000e-04\n",
      "Learning rate: 0.0001\n",
      "Epoch 57/200\n",
      "388/391 [============================>.] - ETA: 0s - loss: 1.2182 - accuracy: 0.6589"
     ]
    },
    {
     "name": "stderr",
     "output_type": "stream",
     "text": [
      "WARNING:absl:Found untraced functions such as _jit_compiled_convolution_op, _jit_compiled_convolution_op, _jit_compiled_convolution_op, _jit_compiled_convolution_op while saving (showing 4 of 4). These functions will not be directly callable after loading.\n"
     ]
    },
    {
     "name": "stdout",
     "output_type": "stream",
     "text": [
      "INFO:tensorflow:Assets written to: /root/jupyter/IHC/gain_proj/wandb/run-20230422_024802-8en9mdg3/files/model-best/assets\n"
     ]
    },
    {
     "name": "stderr",
     "output_type": "stream",
     "text": [
      "INFO:tensorflow:Assets written to: /root/jupyter/IHC/gain_proj/wandb/run-20230422_024802-8en9mdg3/files/model-best/assets\n",
      "\u001b[34m\u001b[1mwandb\u001b[0m: Adding directory to artifact (/root/jupyter/IHC/gain_proj/wandb/run-20230422_024802-8en9mdg3/files/model-best)... Done. 0.0s\n"
     ]
    },
    {
     "name": "stdout",
     "output_type": "stream",
     "text": [
      "391/391 [==============================] - 11s 29ms/step - loss: 1.2174 - accuracy: 0.6593 - val_loss: 2.1734 - val_accuracy: 0.4792 - lr: 1.0000e-04\n",
      "Learning rate: 0.0001\n",
      "Epoch 58/200\n",
      "391/391 [==============================] - 9s 23ms/step - loss: 1.2067 - accuracy: 0.6614 - val_loss: 2.1797 - val_accuracy: 0.4787 - lr: 1.0000e-04\n",
      "Learning rate: 0.0001\n",
      "Epoch 59/200\n",
      "391/391 [==============================] - 9s 23ms/step - loss: 1.2026 - accuracy: 0.6613 - val_loss: 2.1860 - val_accuracy: 0.4787 - lr: 1.0000e-04\n",
      "Learning rate: 0.0001\n",
      "Epoch 60/200\n",
      "388/391 [============================>.] - ETA: 0s - loss: 1.1994 - accuracy: 0.6612"
     ]
    },
    {
     "name": "stderr",
     "output_type": "stream",
     "text": [
      "WARNING:absl:Found untraced functions such as _jit_compiled_convolution_op, _jit_compiled_convolution_op, _jit_compiled_convolution_op, _jit_compiled_convolution_op while saving (showing 4 of 4). These functions will not be directly callable after loading.\n"
     ]
    },
    {
     "name": "stdout",
     "output_type": "stream",
     "text": [
      "INFO:tensorflow:Assets written to: /root/jupyter/IHC/gain_proj/wandb/run-20230422_024802-8en9mdg3/files/model-best/assets\n"
     ]
    },
    {
     "name": "stderr",
     "output_type": "stream",
     "text": [
      "INFO:tensorflow:Assets written to: /root/jupyter/IHC/gain_proj/wandb/run-20230422_024802-8en9mdg3/files/model-best/assets\n",
      "\u001b[34m\u001b[1mwandb\u001b[0m: Adding directory to artifact (/root/jupyter/IHC/gain_proj/wandb/run-20230422_024802-8en9mdg3/files/model-best)... Done. 0.0s\n"
     ]
    },
    {
     "name": "stdout",
     "output_type": "stream",
     "text": [
      "391/391 [==============================] - 11s 28ms/step - loss: 1.1993 - accuracy: 0.6613 - val_loss: 2.1813 - val_accuracy: 0.4804 - lr: 1.0000e-04\n",
      "Learning rate: 0.0001\n",
      "Epoch 61/200\n",
      "385/391 [============================>.] - ETA: 0s - loss: 1.1908 - accuracy: 0.6653"
     ]
    },
    {
     "name": "stderr",
     "output_type": "stream",
     "text": [
      "WARNING:absl:Found untraced functions such as _jit_compiled_convolution_op, _jit_compiled_convolution_op, _jit_compiled_convolution_op, _jit_compiled_convolution_op while saving (showing 4 of 4). These functions will not be directly callable after loading.\n"
     ]
    },
    {
     "name": "stdout",
     "output_type": "stream",
     "text": [
      "INFO:tensorflow:Assets written to: /root/jupyter/IHC/gain_proj/wandb/run-20230422_024802-8en9mdg3/files/model-best/assets\n"
     ]
    },
    {
     "name": "stderr",
     "output_type": "stream",
     "text": [
      "INFO:tensorflow:Assets written to: /root/jupyter/IHC/gain_proj/wandb/run-20230422_024802-8en9mdg3/files/model-best/assets\n",
      "\u001b[34m\u001b[1mwandb\u001b[0m: Adding directory to artifact (/root/jupyter/IHC/gain_proj/wandb/run-20230422_024802-8en9mdg3/files/model-best)... Done. 0.0s\n"
     ]
    },
    {
     "name": "stdout",
     "output_type": "stream",
     "text": [
      "391/391 [==============================] - 11s 28ms/step - loss: 1.1913 - accuracy: 0.6653 - val_loss: 2.1839 - val_accuracy: 0.4817 - lr: 1.0000e-04\n",
      "Learning rate: 0.0001\n",
      "Epoch 62/200\n",
      "391/391 [==============================] - 9s 23ms/step - loss: 1.1962 - accuracy: 0.6631 - val_loss: 2.1870 - val_accuracy: 0.4793 - lr: 1.0000e-04\n",
      "Learning rate: 0.0001\n",
      "Epoch 63/200\n",
      "390/391 [============================>.] - ETA: 0s - loss: 1.1895 - accuracy: 0.6631"
     ]
    },
    {
     "name": "stderr",
     "output_type": "stream",
     "text": [
      "WARNING:absl:Found untraced functions such as _jit_compiled_convolution_op, _jit_compiled_convolution_op, _jit_compiled_convolution_op, _jit_compiled_convolution_op while saving (showing 4 of 4). These functions will not be directly callable after loading.\n"
     ]
    },
    {
     "name": "stdout",
     "output_type": "stream",
     "text": [
      "INFO:tensorflow:Assets written to: /root/jupyter/IHC/gain_proj/wandb/run-20230422_024802-8en9mdg3/files/model-best/assets\n"
     ]
    },
    {
     "name": "stderr",
     "output_type": "stream",
     "text": [
      "INFO:tensorflow:Assets written to: /root/jupyter/IHC/gain_proj/wandb/run-20230422_024802-8en9mdg3/files/model-best/assets\n",
      "\u001b[34m\u001b[1mwandb\u001b[0m: Adding directory to artifact (/root/jupyter/IHC/gain_proj/wandb/run-20230422_024802-8en9mdg3/files/model-best)... Done. 0.0s\n"
     ]
    },
    {
     "name": "stdout",
     "output_type": "stream",
     "text": [
      "391/391 [==============================] - 11s 29ms/step - loss: 1.1900 - accuracy: 0.6630 - val_loss: 2.1939 - val_accuracy: 0.4829 - lr: 1.0000e-04\n",
      "Learning rate: 0.0001\n",
      "Epoch 64/200\n",
      "391/391 [==============================] - 9s 23ms/step - loss: 1.1954 - accuracy: 0.6625 - val_loss: 2.1884 - val_accuracy: 0.4784 - lr: 1.0000e-04\n",
      "Learning rate: 0.0001\n",
      "Epoch 65/200\n",
      "391/391 [==============================] - 9s 23ms/step - loss: 1.1887 - accuracy: 0.6625 - val_loss: 2.1861 - val_accuracy: 0.4791 - lr: 1.0000e-04\n",
      "Learning rate: 0.0001\n",
      "Epoch 66/200\n",
      "391/391 [==============================] - 9s 23ms/step - loss: 1.1815 - accuracy: 0.6641 - val_loss: 2.1906 - val_accuracy: 0.4791 - lr: 1.0000e-04\n",
      "Learning rate: 0.0001\n",
      "Epoch 67/200\n",
      "391/391 [==============================] - 9s 23ms/step - loss: 1.1797 - accuracy: 0.6677 - val_loss: 2.2024 - val_accuracy: 0.4790 - lr: 1.0000e-04\n",
      "Learning rate: 0.0001\n",
      "Epoch 68/200\n",
      "391/391 [==============================] - 9s 23ms/step - loss: 1.1757 - accuracy: 0.6672 - val_loss: 2.2005 - val_accuracy: 0.4778 - lr: 1.0000e-04\n",
      "Learning rate: 0.0001\n",
      "Epoch 69/200\n",
      "391/391 [==============================] - 9s 23ms/step - loss: 1.1778 - accuracy: 0.6665 - val_loss: 2.1943 - val_accuracy: 0.4782 - lr: 1.0000e-04\n",
      "Learning rate: 0.0001\n",
      "Epoch 70/200\n",
      "391/391 [==============================] - 10s 24ms/step - loss: 1.1743 - accuracy: 0.6685 - val_loss: 2.1990 - val_accuracy: 0.4775 - lr: 1.0000e-04\n",
      "Learning rate: 0.0001\n",
      "Epoch 71/200\n",
      "391/391 [==============================] - 9s 23ms/step - loss: 1.1823 - accuracy: 0.6656 - val_loss: 2.1964 - val_accuracy: 0.4802 - lr: 1.0000e-04\n",
      "Learning rate: 0.0001\n",
      "Epoch 72/200\n",
      "391/391 [==============================] - 9s 23ms/step - loss: 1.1761 - accuracy: 0.6670 - val_loss: 2.1945 - val_accuracy: 0.4792 - lr: 1.0000e-04\n",
      "Learning rate: 0.0001\n",
      "Epoch 73/200\n",
      "391/391 [==============================] - 9s 24ms/step - loss: 1.1726 - accuracy: 0.6699 - val_loss: 2.2012 - val_accuracy: 0.4800 - lr: 1.0000e-04\n",
      "Learning rate: 0.0001\n",
      "Epoch 74/200\n",
      "391/391 [==============================] - 9s 24ms/step - loss: 1.1660 - accuracy: 0.6707 - val_loss: 2.2038 - val_accuracy: 0.4802 - lr: 1.0000e-04\n",
      "Learning rate: 0.0001\n",
      "Epoch 75/200\n",
      "391/391 [==============================] - 9s 24ms/step - loss: 1.1633 - accuracy: 0.6700 - val_loss: 2.2087 - val_accuracy: 0.4808 - lr: 1.0000e-04\n",
      "Learning rate: 0.0001\n",
      "Epoch 76/200\n",
      "391/391 [==============================] - 9s 24ms/step - loss: 1.1689 - accuracy: 0.6712 - val_loss: 2.2060 - val_accuracy: 0.4805 - lr: 1.0000e-04\n",
      "Learning rate: 0.0001\n",
      "Epoch 77/200\n",
      "391/391 [==============================] - 10s 24ms/step - loss: 1.1667 - accuracy: 0.6697 - val_loss: 2.2107 - val_accuracy: 0.4795 - lr: 1.0000e-04\n",
      "Learning rate: 0.0001\n",
      "Epoch 78/200\n",
      "391/391 [==============================] - 9s 24ms/step - loss: 1.1600 - accuracy: 0.6711 - val_loss: 2.2053 - val_accuracy: 0.4806 - lr: 1.0000e-04\n",
      "Learning rate: 0.0001\n",
      "Epoch 79/200\n",
      "391/391 [==============================] - 9s 24ms/step - loss: 1.1569 - accuracy: 0.6745 - val_loss: 2.2123 - val_accuracy: 0.4811 - lr: 1.0000e-04\n",
      "Learning rate: 0.0001\n",
      "Epoch 80/200\n",
      "391/391 [==============================] - 9s 23ms/step - loss: 1.1596 - accuracy: 0.6714 - val_loss: 2.2094 - val_accuracy: 0.4795 - lr: 1.0000e-04\n",
      "Learning rate: 0.0001\n",
      "Epoch 81/200\n",
      "391/391 [==============================] - 9s 24ms/step - loss: 1.1538 - accuracy: 0.6731 - val_loss: 2.2155 - val_accuracy: 0.4826 - lr: 1.0000e-04\n",
      "Learning rate: 0.0001\n",
      "Epoch 82/200\n",
      "391/391 [==============================] - 9s 24ms/step - loss: 1.1569 - accuracy: 0.6720 - val_loss: 2.2250 - val_accuracy: 0.4825 - lr: 1.0000e-04\n",
      "Learning rate: 0.0001\n",
      "Epoch 83/200\n",
      "388/391 [============================>.] - ETA: 0s - loss: 1.1530 - accuracy: 0.6713"
     ]
    },
    {
     "name": "stderr",
     "output_type": "stream",
     "text": [
      "WARNING:absl:Found untraced functions such as _jit_compiled_convolution_op, _jit_compiled_convolution_op, _jit_compiled_convolution_op, _jit_compiled_convolution_op while saving (showing 4 of 4). These functions will not be directly callable after loading.\n"
     ]
    },
    {
     "name": "stdout",
     "output_type": "stream",
     "text": [
      "INFO:tensorflow:Assets written to: /root/jupyter/IHC/gain_proj/wandb/run-20230422_024802-8en9mdg3/files/model-best/assets\n"
     ]
    },
    {
     "name": "stderr",
     "output_type": "stream",
     "text": [
      "INFO:tensorflow:Assets written to: /root/jupyter/IHC/gain_proj/wandb/run-20230422_024802-8en9mdg3/files/model-best/assets\n",
      "\u001b[34m\u001b[1mwandb\u001b[0m: Adding directory to artifact (/root/jupyter/IHC/gain_proj/wandb/run-20230422_024802-8en9mdg3/files/model-best)... Done. 0.0s\n"
     ]
    },
    {
     "name": "stdout",
     "output_type": "stream",
     "text": [
      "391/391 [==============================] - 11s 28ms/step - loss: 1.1529 - accuracy: 0.6714 - val_loss: 2.2104 - val_accuracy: 0.4830 - lr: 1.0000e-04\n",
      "Learning rate: 0.0001\n",
      "Epoch 84/200\n",
      "391/391 [==============================] - 10s 25ms/step - loss: 1.1518 - accuracy: 0.6729 - val_loss: 2.2220 - val_accuracy: 0.4797 - lr: 1.0000e-04\n",
      "Learning rate: 0.0001\n",
      "Epoch 85/200\n",
      "391/391 [==============================] - 9s 24ms/step - loss: 1.1518 - accuracy: 0.6734 - val_loss: 2.2165 - val_accuracy: 0.4803 - lr: 1.0000e-04\n",
      "Learning rate: 0.0001\n",
      "Epoch 86/200\n",
      "391/391 [==============================] - 9s 23ms/step - loss: 1.1428 - accuracy: 0.6751 - val_loss: 2.2191 - val_accuracy: 0.4822 - lr: 1.0000e-04\n",
      "Learning rate: 0.0001\n",
      "Epoch 87/200\n",
      "391/391 [==============================] - 9s 23ms/step - loss: 1.1408 - accuracy: 0.6780 - val_loss: 2.2294 - val_accuracy: 0.4819 - lr: 1.0000e-04\n",
      "Learning rate: 0.0001\n",
      "Epoch 88/200\n",
      "391/391 [==============================] - 9s 24ms/step - loss: 1.1400 - accuracy: 0.6766 - val_loss: 2.2289 - val_accuracy: 0.4804 - lr: 1.0000e-04\n",
      "Learning rate: 0.0001\n",
      "Epoch 89/200\n",
      "391/391 [==============================] - 9s 24ms/step - loss: 1.1495 - accuracy: 0.6747 - val_loss: 2.2322 - val_accuracy: 0.4784 - lr: 1.0000e-04\n",
      "Learning rate: 0.0001\n",
      "Epoch 90/200\n",
      "391/391 [==============================] - 9s 23ms/step - loss: 1.1408 - accuracy: 0.6743 - val_loss: 2.2327 - val_accuracy: 0.4798 - lr: 1.0000e-04\n",
      "Learning rate: 0.0001\n",
      "Epoch 91/200\n",
      "391/391 [==============================] - 10s 25ms/step - loss: 1.1365 - accuracy: 0.6777 - val_loss: 2.2310 - val_accuracy: 0.4792 - lr: 1.0000e-04\n",
      "Learning rate: 0.0001\n",
      "Epoch 92/200\n",
      "391/391 [==============================] - 9s 24ms/step - loss: 1.1402 - accuracy: 0.6773 - val_loss: 2.2314 - val_accuracy: 0.4771 - lr: 1.0000e-04\n",
      "Learning rate: 0.0001\n",
      "Epoch 93/200\n",
      "391/391 [==============================] - 9s 24ms/step - loss: 1.1367 - accuracy: 0.6782 - val_loss: 2.2324 - val_accuracy: 0.4798 - lr: 1.0000e-04\n",
      "Learning rate: 0.0001\n",
      "Epoch 94/200\n",
      "391/391 [==============================] - 9s 23ms/step - loss: 1.1305 - accuracy: 0.6772 - val_loss: 2.2313 - val_accuracy: 0.4811 - lr: 1.0000e-04\n",
      "Learning rate: 0.0001\n",
      "Epoch 95/200\n",
      "391/391 [==============================] - 9s 24ms/step - loss: 1.1329 - accuracy: 0.6779 - val_loss: 2.2315 - val_accuracy: 0.4782 - lr: 1.0000e-04\n",
      "Learning rate: 0.0001\n",
      "Epoch 96/200\n",
      "391/391 [==============================] - 9s 23ms/step - loss: 1.1305 - accuracy: 0.6793 - val_loss: 2.2331 - val_accuracy: 0.4806 - lr: 1.0000e-04\n",
      "Learning rate: 0.0001\n",
      "Epoch 97/200\n",
      "391/391 [==============================] - 9s 23ms/step - loss: 1.1345 - accuracy: 0.6763 - val_loss: 2.2344 - val_accuracy: 0.4796 - lr: 1.0000e-04\n",
      "Learning rate: 0.0001\n",
      "Epoch 98/200\n",
      "391/391 [==============================] - 10s 25ms/step - loss: 1.1303 - accuracy: 0.6770 - val_loss: 2.2329 - val_accuracy: 0.4804 - lr: 1.0000e-04\n",
      "Learning rate: 0.0001\n",
      "Epoch 99/200\n",
      "391/391 [==============================] - 9s 23ms/step - loss: 1.1319 - accuracy: 0.6783 - val_loss: 2.2355 - val_accuracy: 0.4775 - lr: 1.0000e-04\n",
      "Learning rate: 0.0001\n",
      "Epoch 100/200\n",
      "391/391 [==============================] - ETA: 0s - loss: 1.1292 - accuracy: 0.6789"
     ]
    },
    {
     "name": "stderr",
     "output_type": "stream",
     "text": [
      "WARNING:absl:Found untraced functions such as _jit_compiled_convolution_op, _jit_compiled_convolution_op, _jit_compiled_convolution_op, _jit_compiled_convolution_op while saving (showing 4 of 4). These functions will not be directly callable after loading.\n"
     ]
    },
    {
     "name": "stdout",
     "output_type": "stream",
     "text": [
      "INFO:tensorflow:Assets written to: /root/jupyter/IHC/gain_proj/wandb/run-20230422_024802-8en9mdg3/files/model-best/assets\n"
     ]
    },
    {
     "name": "stderr",
     "output_type": "stream",
     "text": [
      "INFO:tensorflow:Assets written to: /root/jupyter/IHC/gain_proj/wandb/run-20230422_024802-8en9mdg3/files/model-best/assets\n",
      "\u001b[34m\u001b[1mwandb\u001b[0m: Adding directory to artifact (/root/jupyter/IHC/gain_proj/wandb/run-20230422_024802-8en9mdg3/files/model-best)... Done. 0.0s\n"
     ]
    },
    {
     "name": "stdout",
     "output_type": "stream",
     "text": [
      "391/391 [==============================] - 11s 28ms/step - loss: 1.1292 - accuracy: 0.6789 - val_loss: 2.2366 - val_accuracy: 0.4836 - lr: 1.0000e-04\n",
      "Learning rate: 0.0001\n",
      "Epoch 101/200\n",
      "391/391 [==============================] - 9s 23ms/step - loss: 1.1264 - accuracy: 0.6789 - val_loss: 2.2377 - val_accuracy: 0.4810 - lr: 1.0000e-04\n",
      "Learning rate: 1e-05\n",
      "Epoch 102/200\n",
      "391/391 [==============================] - 9s 23ms/step - loss: 1.1089 - accuracy: 0.6843 - val_loss: 2.2357 - val_accuracy: 0.4821 - lr: 1.0000e-05\n",
      "Learning rate: 1e-05\n",
      "Epoch 103/200\n",
      "391/391 [==============================] - 9s 24ms/step - loss: 1.1100 - accuracy: 0.6844 - val_loss: 2.2353 - val_accuracy: 0.4825 - lr: 1.0000e-05\n",
      "Learning rate: 1e-05\n",
      "Epoch 104/200\n",
      "391/391 [==============================] - 9s 24ms/step - loss: 1.1035 - accuracy: 0.6868 - val_loss: 2.2349 - val_accuracy: 0.4817 - lr: 1.0000e-05\n",
      "Learning rate: 1e-05\n",
      "Epoch 105/200\n",
      "391/391 [==============================] - 11s 27ms/step - loss: 1.1016 - accuracy: 0.6865 - val_loss: 2.2343 - val_accuracy: 0.4825 - lr: 1.0000e-05\n",
      "Learning rate: 1e-05\n",
      "Epoch 106/200\n",
      "391/391 [==============================] - 9s 24ms/step - loss: 1.0978 - accuracy: 0.6862 - val_loss: 2.2337 - val_accuracy: 0.4815 - lr: 1.0000e-05\n",
      "Learning rate: 1e-05\n",
      "Epoch 107/200\n",
      "391/391 [==============================] - 9s 24ms/step - loss: 1.1100 - accuracy: 0.6865 - val_loss: 2.2336 - val_accuracy: 0.4823 - lr: 1.0000e-05\n",
      "Learning rate: 1e-05\n",
      "Epoch 108/200\n",
      "391/391 [==============================] - 9s 24ms/step - loss: 1.1019 - accuracy: 0.6864 - val_loss: 2.2359 - val_accuracy: 0.4820 - lr: 1.0000e-05\n",
      "Learning rate: 1e-05\n",
      "Epoch 109/200\n",
      "391/391 [==============================] - 9s 23ms/step - loss: 1.1043 - accuracy: 0.6852 - val_loss: 2.2354 - val_accuracy: 0.4830 - lr: 1.0000e-05\n",
      "Learning rate: 1e-05\n",
      "Epoch 110/200\n",
      "391/391 [==============================] - 9s 23ms/step - loss: 1.1059 - accuracy: 0.6845 - val_loss: 2.2359 - val_accuracy: 0.4826 - lr: 1.0000e-05\n",
      "Learning rate: 1e-05\n",
      "Epoch 111/200\n",
      "391/391 [==============================] - 9s 24ms/step - loss: 1.1055 - accuracy: 0.6849 - val_loss: 2.2368 - val_accuracy: 0.4828 - lr: 1.0000e-05\n",
      "Learning rate: 1e-05\n",
      "Epoch 112/200\n",
      "391/391 [==============================] - 10s 26ms/step - loss: 1.1086 - accuracy: 0.6858 - val_loss: 2.2382 - val_accuracy: 0.4829 - lr: 1.0000e-05\n",
      "Learning rate: 1e-05\n",
      "Epoch 113/200\n",
      "391/391 [==============================] - 9s 24ms/step - loss: 1.0983 - accuracy: 0.6866 - val_loss: 2.2377 - val_accuracy: 0.4809 - lr: 1.0000e-05\n",
      "Learning rate: 1e-05\n",
      "Epoch 114/200\n",
      "391/391 [==============================] - 9s 24ms/step - loss: 1.1030 - accuracy: 0.6878 - val_loss: 2.2379 - val_accuracy: 0.4831 - lr: 1.0000e-05\n",
      "Learning rate: 1e-05\n",
      "Epoch 115/200\n",
      "391/391 [==============================] - 9s 23ms/step - loss: 1.1025 - accuracy: 0.6852 - val_loss: 2.2389 - val_accuracy: 0.4834 - lr: 1.0000e-05\n",
      "Learning rate: 1e-05\n",
      "Epoch 116/200\n",
      "391/391 [==============================] - 9s 23ms/step - loss: 1.0994 - accuracy: 0.6855 - val_loss: 2.2399 - val_accuracy: 0.4817 - lr: 1.0000e-05\n",
      "Learning rate: 1e-05\n",
      "Epoch 117/200\n",
      "391/391 [==============================] - 9s 24ms/step - loss: 1.0969 - accuracy: 0.6871 - val_loss: 2.2397 - val_accuracy: 0.4835 - lr: 1.0000e-05\n",
      "Learning rate: 1e-05\n",
      "Epoch 118/200\n",
      "391/391 [==============================] - 9s 24ms/step - loss: 1.1026 - accuracy: 0.6851 - val_loss: 2.2399 - val_accuracy: 0.4832 - lr: 1.0000e-05\n",
      "Learning rate: 1e-05\n",
      "Epoch 119/200\n",
      "391/391 [==============================] - 10s 25ms/step - loss: 1.0990 - accuracy: 0.6852 - val_loss: 2.2409 - val_accuracy: 0.4830 - lr: 1.0000e-05\n",
      "Learning rate: 1e-05\n",
      "Epoch 120/200\n",
      "391/391 [==============================] - 9s 24ms/step - loss: 1.1017 - accuracy: 0.6862 - val_loss: 2.2407 - val_accuracy: 0.4833 - lr: 1.0000e-05\n",
      "Learning rate: 1e-05\n",
      "Epoch 121/200\n",
      "391/391 [==============================] - 9s 24ms/step - loss: 1.0994 - accuracy: 0.6891 - val_loss: 2.2426 - val_accuracy: 0.4818 - lr: 1.0000e-05\n",
      "Learning rate: 1e-05\n",
      "Epoch 122/200\n",
      "391/391 [==============================] - 9s 24ms/step - loss: 1.1033 - accuracy: 0.6861 - val_loss: 2.2413 - val_accuracy: 0.4822 - lr: 1.0000e-05\n",
      "Learning rate: 1e-05\n",
      "Epoch 123/200\n",
      "391/391 [==============================] - 9s 24ms/step - loss: 1.0994 - accuracy: 0.6859 - val_loss: 2.2401 - val_accuracy: 0.4819 - lr: 1.0000e-05\n",
      "Learning rate: 1e-05\n",
      "Epoch 124/200\n",
      "391/391 [==============================] - 9s 24ms/step - loss: 1.1011 - accuracy: 0.6864 - val_loss: 2.2399 - val_accuracy: 0.4812 - lr: 1.0000e-05\n",
      "Learning rate: 1e-05\n",
      "Epoch 125/200\n",
      "391/391 [==============================] - 9s 24ms/step - loss: 1.0993 - accuracy: 0.6867 - val_loss: 2.2412 - val_accuracy: 0.4807 - lr: 1.0000e-05\n",
      "Learning rate: 1e-05\n",
      "Epoch 126/200\n",
      "391/391 [==============================] - 10s 26ms/step - loss: 1.1026 - accuracy: 0.6865 - val_loss: 2.2424 - val_accuracy: 0.4814 - lr: 1.0000e-05\n",
      "Learning rate: 1e-05\n",
      "Epoch 127/200\n",
      "391/391 [==============================] - 9s 24ms/step - loss: 1.0920 - accuracy: 0.6889 - val_loss: 2.2412 - val_accuracy: 0.4818 - lr: 1.0000e-05\n",
      "Learning rate: 1e-05\n",
      "Epoch 128/200\n",
      "391/391 [==============================] - 9s 24ms/step - loss: 1.1001 - accuracy: 0.6851 - val_loss: 2.2422 - val_accuracy: 0.4823 - lr: 1.0000e-05\n",
      "Learning rate: 1e-05\n",
      "Epoch 129/200\n",
      "391/391 [==============================] - 9s 24ms/step - loss: 1.1057 - accuracy: 0.6841 - val_loss: 2.2417 - val_accuracy: 0.4818 - lr: 1.0000e-05\n",
      "Learning rate: 1e-05\n",
      "Epoch 130/200\n",
      "391/391 [==============================] - 9s 23ms/step - loss: 1.1026 - accuracy: 0.6828 - val_loss: 2.2423 - val_accuracy: 0.4814 - lr: 1.0000e-05\n",
      "Learning rate: 1e-05\n",
      "Epoch 131/200\n",
      "391/391 [==============================] - 9s 23ms/step - loss: 1.0983 - accuracy: 0.6861 - val_loss: 2.2422 - val_accuracy: 0.4817 - lr: 1.0000e-05\n",
      "Learning rate: 1e-05\n",
      "Epoch 132/200\n",
      "391/391 [==============================] - 10s 25ms/step - loss: 1.0989 - accuracy: 0.6863 - val_loss: 2.2417 - val_accuracy: 0.4808 - lr: 1.0000e-05\n",
      "Learning rate: 1e-05\n",
      "Epoch 133/200\n",
      "391/391 [==============================] - 10s 24ms/step - loss: 1.1033 - accuracy: 0.6855 - val_loss: 2.2427 - val_accuracy: 0.4813 - lr: 1.0000e-05\n",
      "Learning rate: 1e-05\n",
      "Epoch 134/200\n",
      "391/391 [==============================] - 9s 23ms/step - loss: 1.1012 - accuracy: 0.6851 - val_loss: 2.2410 - val_accuracy: 0.4814 - lr: 1.0000e-05\n",
      "Learning rate: 1e-05\n",
      "Epoch 135/200\n",
      "391/391 [==============================] - 9s 24ms/step - loss: 1.1015 - accuracy: 0.6860 - val_loss: 2.2421 - val_accuracy: 0.4826 - lr: 1.0000e-05\n",
      "Learning rate: 1e-05\n",
      "Epoch 136/200\n",
      "391/391 [==============================] - 9s 23ms/step - loss: 1.1075 - accuracy: 0.6844 - val_loss: 2.2423 - val_accuracy: 0.4816 - lr: 1.0000e-05\n",
      "Learning rate: 1e-05\n",
      "Epoch 137/200\n",
      "391/391 [==============================] - 9s 23ms/step - loss: 1.0936 - accuracy: 0.6871 - val_loss: 2.2419 - val_accuracy: 0.4816 - lr: 1.0000e-05\n",
      "Learning rate: 1e-05\n",
      "Epoch 138/200\n",
      "391/391 [==============================] - 9s 24ms/step - loss: 1.1006 - accuracy: 0.6868 - val_loss: 2.2426 - val_accuracy: 0.4822 - lr: 1.0000e-05\n",
      "Learning rate: 1e-05\n",
      "Epoch 139/200\n",
      "391/391 [==============================] - 10s 24ms/step - loss: 1.1033 - accuracy: 0.6829 - val_loss: 2.2413 - val_accuracy: 0.4822 - lr: 1.0000e-05\n",
      "Learning rate: 1e-05\n",
      "Epoch 140/200\n",
      "391/391 [==============================] - 9s 24ms/step - loss: 1.1007 - accuracy: 0.6873 - val_loss: 2.2426 - val_accuracy: 0.4822 - lr: 1.0000e-05\n",
      "Learning rate: 1e-05\n",
      "Epoch 141/200\n",
      "391/391 [==============================] - 9s 24ms/step - loss: 1.0924 - accuracy: 0.6879 - val_loss: 2.2429 - val_accuracy: 0.4809 - lr: 1.0000e-05\n",
      "Learning rate: 1e-05\n",
      "Epoch 142/200\n",
      "391/391 [==============================] - 9s 24ms/step - loss: 1.0992 - accuracy: 0.6865 - val_loss: 2.2431 - val_accuracy: 0.4823 - lr: 1.0000e-05\n",
      "Learning rate: 1e-05\n",
      "Epoch 143/200\n",
      "391/391 [==============================] - 9s 23ms/step - loss: 1.0968 - accuracy: 0.6869 - val_loss: 2.2418 - val_accuracy: 0.4824 - lr: 1.0000e-05\n",
      "Learning rate: 1e-05\n",
      "Epoch 144/200\n",
      "391/391 [==============================] - 9s 24ms/step - loss: 1.1065 - accuracy: 0.6822 - val_loss: 2.2428 - val_accuracy: 0.4828 - lr: 1.0000e-05\n",
      "Learning rate: 1e-05\n",
      "Epoch 145/200\n",
      "391/391 [==============================] - 9s 23ms/step - loss: 1.0914 - accuracy: 0.6861 - val_loss: 2.2430 - val_accuracy: 0.4811 - lr: 1.0000e-05\n",
      "Learning rate: 1e-05\n",
      "Epoch 146/200\n",
      "391/391 [==============================] - 10s 25ms/step - loss: 1.0948 - accuracy: 0.6856 - val_loss: 2.2443 - val_accuracy: 0.4819 - lr: 1.0000e-05\n",
      "Learning rate: 1e-05\n",
      "Epoch 147/200\n",
      "391/391 [==============================] - 9s 24ms/step - loss: 1.1001 - accuracy: 0.6840 - val_loss: 2.2448 - val_accuracy: 0.4823 - lr: 1.0000e-05\n",
      "Learning rate: 1e-05\n",
      "Epoch 148/200\n",
      "391/391 [==============================] - 9s 23ms/step - loss: 1.0996 - accuracy: 0.6845 - val_loss: 2.2456 - val_accuracy: 0.4813 - lr: 1.0000e-05\n",
      "Learning rate: 1e-05\n",
      "Epoch 149/200\n",
      "391/391 [==============================] - 9s 23ms/step - loss: 1.0942 - accuracy: 0.6890 - val_loss: 2.2447 - val_accuracy: 0.4813 - lr: 1.0000e-05\n",
      "Learning rate: 1e-05\n",
      "Epoch 150/200\n",
      "391/391 [==============================] - 9s 23ms/step - loss: 1.0935 - accuracy: 0.6859 - val_loss: 2.2453 - val_accuracy: 0.4820 - lr: 1.0000e-05\n",
      "Learning rate: 1e-05\n",
      "Epoch 151/200\n",
      "391/391 [==============================] - 9s 23ms/step - loss: 1.0993 - accuracy: 0.6848 - val_loss: 2.2438 - val_accuracy: 0.4820 - lr: 1.0000e-05\n",
      "Learning rate: 1e-05\n",
      "Epoch 152/200\n",
      "391/391 [==============================] - 9s 23ms/step - loss: 1.0995 - accuracy: 0.6854 - val_loss: 2.2436 - val_accuracy: 0.4820 - lr: 1.0000e-05\n",
      "Learning rate: 1e-05\n",
      "Epoch 153/200\n",
      "391/391 [==============================] - 10s 24ms/step - loss: 1.0945 - accuracy: 0.6868 - val_loss: 2.2448 - val_accuracy: 0.4821 - lr: 1.0000e-05\n",
      "Learning rate: 1e-05\n",
      "Epoch 154/200\n",
      "391/391 [==============================] - 9s 24ms/step - loss: 1.0942 - accuracy: 0.6874 - val_loss: 2.2456 - val_accuracy: 0.4820 - lr: 1.0000e-05\n",
      "Learning rate: 1e-05\n",
      "Epoch 155/200\n",
      "391/391 [==============================] - 9s 24ms/step - loss: 1.0917 - accuracy: 0.6878 - val_loss: 2.2456 - val_accuracy: 0.4819 - lr: 1.0000e-05\n",
      "Learning rate: 1e-05\n",
      "Epoch 156/200\n",
      "391/391 [==============================] - 9s 23ms/step - loss: 1.0935 - accuracy: 0.6895 - val_loss: 2.2457 - val_accuracy: 0.4827 - lr: 1.0000e-05\n",
      "Learning rate: 1e-05\n",
      "Epoch 157/200\n",
      "391/391 [==============================] - 9s 23ms/step - loss: 1.0937 - accuracy: 0.6881 - val_loss: 2.2462 - val_accuracy: 0.4828 - lr: 1.0000e-05\n",
      "Learning rate: 1e-05\n",
      "Epoch 158/200\n",
      "391/391 [==============================] - 9s 24ms/step - loss: 1.0929 - accuracy: 0.6882 - val_loss: 2.2461 - val_accuracy: 0.4813 - lr: 1.0000e-05\n",
      "Learning rate: 1e-05\n",
      "Epoch 159/200\n",
      "391/391 [==============================] - 9s 23ms/step - loss: 1.0964 - accuracy: 0.6855 - val_loss: 2.2463 - val_accuracy: 0.4814 - lr: 1.0000e-05\n",
      "Learning rate: 1e-05\n",
      "Epoch 160/200\n",
      "391/391 [==============================] - 10s 25ms/step - loss: 1.0933 - accuracy: 0.6880 - val_loss: 2.2476 - val_accuracy: 0.4818 - lr: 1.0000e-05\n",
      "Learning rate: 1e-05\n",
      "Epoch 161/200\n",
      "391/391 [==============================] - 9s 24ms/step - loss: 1.0959 - accuracy: 0.6863 - val_loss: 2.2480 - val_accuracy: 0.4819 - lr: 1.0000e-05\n",
      "Learning rate: 1e-05\n",
      "Epoch 162/200\n",
      "391/391 [==============================] - 9s 23ms/step - loss: 1.0931 - accuracy: 0.6893 - val_loss: 2.2479 - val_accuracy: 0.4813 - lr: 1.0000e-05\n",
      "Learning rate: 1e-05\n",
      "Epoch 163/200\n",
      "391/391 [==============================] - 9s 23ms/step - loss: 1.0911 - accuracy: 0.6878 - val_loss: 2.2484 - val_accuracy: 0.4818 - lr: 1.0000e-05\n",
      "Learning rate: 1e-05\n",
      "Epoch 164/200\n",
      "391/391 [==============================] - 9s 23ms/step - loss: 1.0953 - accuracy: 0.6883 - val_loss: 2.2478 - val_accuracy: 0.4823 - lr: 1.0000e-05\n",
      "Learning rate: 1e-05\n",
      "Epoch 165/200\n",
      "391/391 [==============================] - 9s 23ms/step - loss: 1.0916 - accuracy: 0.6886 - val_loss: 2.2472 - val_accuracy: 0.4811 - lr: 1.0000e-05\n",
      "Learning rate: 1e-05\n",
      "Epoch 166/200\n",
      "391/391 [==============================] - 9s 24ms/step - loss: 1.1022 - accuracy: 0.6841 - val_loss: 2.2476 - val_accuracy: 0.4823 - lr: 1.0000e-05\n",
      "Learning rate: 1e-05\n",
      "Epoch 167/200\n",
      "391/391 [==============================] - 10s 25ms/step - loss: 1.0952 - accuracy: 0.6891 - val_loss: 2.2471 - val_accuracy: 0.4823 - lr: 1.0000e-05\n",
      "Learning rate: 1e-05\n",
      "Epoch 168/200\n",
      "391/391 [==============================] - 9s 23ms/step - loss: 1.0966 - accuracy: 0.6841 - val_loss: 2.2481 - val_accuracy: 0.4818 - lr: 1.0000e-05\n",
      "Learning rate: 1e-05\n",
      "Epoch 169/200\n",
      "391/391 [==============================] - 9s 24ms/step - loss: 1.0901 - accuracy: 0.6890 - val_loss: 2.2479 - val_accuracy: 0.4819 - lr: 1.0000e-05\n",
      "Learning rate: 1e-05\n",
      "Epoch 170/200\n",
      "391/391 [==============================] - 9s 23ms/step - loss: 1.0910 - accuracy: 0.6882 - val_loss: 2.2489 - val_accuracy: 0.4824 - lr: 1.0000e-05\n",
      "Learning rate: 1e-05\n",
      "Epoch 171/200\n",
      "391/391 [==============================] - 9s 24ms/step - loss: 1.0890 - accuracy: 0.6890 - val_loss: 2.2492 - val_accuracy: 0.4827 - lr: 1.0000e-05\n",
      "Learning rate: 1e-05\n",
      "Epoch 172/200\n",
      "391/391 [==============================] - 9s 23ms/step - loss: 1.0904 - accuracy: 0.6885 - val_loss: 2.2486 - val_accuracy: 0.4818 - lr: 1.0000e-05\n",
      "Learning rate: 1e-05\n",
      "Epoch 173/200\n",
      "391/391 [==============================] - 9s 23ms/step - loss: 1.0892 - accuracy: 0.6889 - val_loss: 2.2496 - val_accuracy: 0.4814 - lr: 1.0000e-05\n",
      "Learning rate: 1e-05\n",
      "Epoch 174/200\n",
      "391/391 [==============================] - 10s 25ms/step - loss: 1.0954 - accuracy: 0.6868 - val_loss: 2.2497 - val_accuracy: 0.4817 - lr: 1.0000e-05\n",
      "Learning rate: 1e-05\n",
      "Epoch 175/200\n",
      "391/391 [==============================] - 9s 23ms/step - loss: 1.0934 - accuracy: 0.6893 - val_loss: 2.2495 - val_accuracy: 0.4814 - lr: 1.0000e-05\n",
      "Learning rate: 1e-05\n",
      "Epoch 176/200\n",
      "391/391 [==============================] - 9s 23ms/step - loss: 1.0917 - accuracy: 0.6886 - val_loss: 2.2485 - val_accuracy: 0.4813 - lr: 1.0000e-05\n",
      "Learning rate: 1e-05\n",
      "Epoch 177/200\n",
      "391/391 [==============================] - 9s 23ms/step - loss: 1.0898 - accuracy: 0.6893 - val_loss: 2.2509 - val_accuracy: 0.4817 - lr: 1.0000e-05\n",
      "Learning rate: 1e-05\n",
      "Epoch 178/200\n",
      "391/391 [==============================] - 9s 23ms/step - loss: 1.0868 - accuracy: 0.6902 - val_loss: 2.2506 - val_accuracy: 0.4826 - lr: 1.0000e-05\n",
      "Learning rate: 1e-05\n",
      "Epoch 179/200\n",
      "391/391 [==============================] - 9s 24ms/step - loss: 1.0907 - accuracy: 0.6871 - val_loss: 2.2517 - val_accuracy: 0.4824 - lr: 1.0000e-05\n",
      "Learning rate: 1e-05\n",
      "Epoch 180/200\n",
      "391/391 [==============================] - 9s 24ms/step - loss: 1.0883 - accuracy: 0.6896 - val_loss: 2.2517 - val_accuracy: 0.4819 - lr: 1.0000e-05\n",
      "Learning rate: 1e-05\n",
      "Epoch 181/200\n",
      "391/391 [==============================] - 10s 25ms/step - loss: 1.0963 - accuracy: 0.6872 - val_loss: 2.2515 - val_accuracy: 0.4816 - lr: 1.0000e-05\n",
      "Learning rate: 1e-05\n",
      "Epoch 182/200\n",
      "391/391 [==============================] - 9s 23ms/step - loss: 1.0906 - accuracy: 0.6914 - val_loss: 2.2519 - val_accuracy: 0.4816 - lr: 1.0000e-05\n",
      "Learning rate: 1e-05\n",
      "Epoch 183/200\n",
      "391/391 [==============================] - 9s 24ms/step - loss: 1.0973 - accuracy: 0.6862 - val_loss: 2.2525 - val_accuracy: 0.4814 - lr: 1.0000e-05\n",
      "Learning rate: 1e-05\n",
      "Epoch 184/200\n",
      "391/391 [==============================] - 9s 24ms/step - loss: 1.0939 - accuracy: 0.6871 - val_loss: 2.2515 - val_accuracy: 0.4822 - lr: 1.0000e-05\n",
      "Learning rate: 1e-05\n",
      "Epoch 185/200\n",
      "391/391 [==============================] - 9s 24ms/step - loss: 1.0889 - accuracy: 0.6920 - val_loss: 2.2515 - val_accuracy: 0.4820 - lr: 1.0000e-05\n",
      "Learning rate: 1e-05\n",
      "Epoch 186/200\n",
      "391/391 [==============================] - 9s 23ms/step - loss: 1.0876 - accuracy: 0.6901 - val_loss: 2.2525 - val_accuracy: 0.4825 - lr: 1.0000e-05\n",
      "Learning rate: 1e-05\n",
      "Epoch 187/200\n",
      "391/391 [==============================] - 9s 23ms/step - loss: 1.0853 - accuracy: 0.6884 - val_loss: 2.2513 - val_accuracy: 0.4828 - lr: 1.0000e-05\n",
      "Learning rate: 1e-05\n",
      "Epoch 188/200\n",
      "391/391 [==============================] - 10s 25ms/step - loss: 1.0885 - accuracy: 0.6881 - val_loss: 2.2535 - val_accuracy: 0.4825 - lr: 1.0000e-05\n",
      "Learning rate: 1e-05\n",
      "Epoch 189/200\n",
      "391/391 [==============================] - 9s 23ms/step - loss: 1.0854 - accuracy: 0.6882 - val_loss: 2.2517 - val_accuracy: 0.4825 - lr: 1.0000e-05\n",
      "Learning rate: 1e-05\n",
      "Epoch 190/200\n",
      "391/391 [==============================] - 9s 23ms/step - loss: 1.0862 - accuracy: 0.6904 - val_loss: 2.2523 - val_accuracy: 0.4830 - lr: 1.0000e-05\n",
      "Learning rate: 1e-05\n",
      "Epoch 191/200\n",
      "391/391 [==============================] - 9s 23ms/step - loss: 1.0874 - accuracy: 0.6906 - val_loss: 2.2525 - val_accuracy: 0.4828 - lr: 1.0000e-05\n",
      "Learning rate: 1e-05\n",
      "Epoch 192/200\n",
      "391/391 [==============================] - 9s 23ms/step - loss: 1.0868 - accuracy: 0.6896 - val_loss: 2.2527 - val_accuracy: 0.4824 - lr: 1.0000e-05\n",
      "Learning rate: 1e-05\n",
      "Epoch 193/200\n",
      "391/391 [==============================] - 9s 24ms/step - loss: 1.0938 - accuracy: 0.6886 - val_loss: 2.2522 - val_accuracy: 0.4826 - lr: 1.0000e-05\n",
      "Learning rate: 1e-05\n",
      "Epoch 194/200\n",
      "391/391 [==============================] - 9s 24ms/step - loss: 1.0934 - accuracy: 0.6884 - val_loss: 2.2529 - val_accuracy: 0.4820 - lr: 1.0000e-05\n",
      "Learning rate: 1e-05\n",
      "Epoch 195/200\n",
      "391/391 [==============================] - 10s 25ms/step - loss: 1.0881 - accuracy: 0.6882 - val_loss: 2.2528 - val_accuracy: 0.4827 - lr: 1.0000e-05\n",
      "Learning rate: 1e-05\n",
      "Epoch 196/200\n",
      "391/391 [==============================] - 9s 23ms/step - loss: 1.0897 - accuracy: 0.6891 - val_loss: 2.2532 - val_accuracy: 0.4821 - lr: 1.0000e-05\n",
      "Learning rate: 1e-05\n",
      "Epoch 197/200\n",
      "391/391 [==============================] - 9s 23ms/step - loss: 1.0905 - accuracy: 0.6895 - val_loss: 2.2549 - val_accuracy: 0.4807 - lr: 1.0000e-05\n",
      "Learning rate: 1e-05\n",
      "Epoch 198/200\n",
      "391/391 [==============================] - 9s 23ms/step - loss: 1.0861 - accuracy: 0.6870 - val_loss: 2.2547 - val_accuracy: 0.4806 - lr: 1.0000e-05\n",
      "Learning rate: 1e-05\n",
      "Epoch 199/200\n",
      "391/391 [==============================] - 10s 24ms/step - loss: 1.0908 - accuracy: 0.6892 - val_loss: 2.2536 - val_accuracy: 0.4817 - lr: 1.0000e-05\n",
      "Learning rate: 1e-05\n",
      "Epoch 200/200\n",
      "391/391 [==============================] - 9s 24ms/step - loss: 1.0938 - accuracy: 0.6886 - val_loss: 2.2543 - val_accuracy: 0.4806 - lr: 1.0000e-05\n"
     ]
    },
    {
     "data": {
      "text/plain": [
       "<keras.callbacks.History at 0x7fa1a1ec06d0>"
      ]
     },
     "execution_count": 7,
     "metadata": {},
     "output_type": "execute_result"
    }
   ],
   "source": [
    "model.fit(datagen.flow(x_train, y_train, batch_size=128),\n",
    "          validation_data=(x_test, y_test),\n",
    "          epochs=200, workers=4,\n",
    "          callbacks=callbacks)"
   ]
  },
  {
   "cell_type": "code",
   "execution_count": null,
   "id": "dd1b680e-40d0-4d11-9d99-3e44c26ad381",
   "metadata": {},
   "outputs": [],
   "source": []
  },
  {
   "cell_type": "code",
   "execution_count": null,
   "id": "8c7a27fb-7c93-4b43-9bf2-7fc2bc6a5071",
   "metadata": {},
   "outputs": [],
   "source": []
  },
  {
   "cell_type": "code",
   "execution_count": null,
   "id": "c38a00d3-8096-409b-90a5-ce799e67d313",
   "metadata": {},
   "outputs": [],
   "source": []
  }
 ],
 "metadata": {
  "kernelspec": {
   "display_name": "Python 3 (ipykernel)",
   "language": "python",
   "name": "python3"
  },
  "language_info": {
   "codemirror_mode": {
    "name": "ipython",
    "version": 3
   },
   "file_extension": ".py",
   "mimetype": "text/x-python",
   "name": "python",
   "nbconvert_exporter": "python",
   "pygments_lexer": "ipython3",
   "version": "3.8.10"
  }
 },
 "nbformat": 4,
 "nbformat_minor": 5
}
