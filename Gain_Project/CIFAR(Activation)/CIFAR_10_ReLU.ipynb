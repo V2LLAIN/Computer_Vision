{
 "cells": [
  {
   "cell_type": "code",
   "execution_count": 1,
   "id": "435f2fe4-a4ef-4b66-a91f-6b6c598baa92",
   "metadata": {},
   "outputs": [
    {
     "name": "stderr",
     "output_type": "stream",
     "text": [
      "2023-04-21 23:54:55.146115: I tensorflow/core/platform/cpu_feature_guard.cc:193] This TensorFlow binary is optimized with oneAPI Deep Neural Network Library (oneDNN) to use the following CPU instructions in performance-critical operations:  AVX2 FMA\n",
      "To enable them in other operations, rebuild TensorFlow with the appropriate compiler flags.\n",
      "2023-04-21 23:54:55.264139: E tensorflow/stream_executor/cuda/cuda_blas.cc:2981] Unable to register cuBLAS factory: Attempting to register factory for plugin cuBLAS when one has already been registered\n"
     ]
    }
   ],
   "source": [
    "import os\n",
    "import math\n",
    "import wandb\n",
    "import random\n",
    "import numpy as np\n",
    "import pandas as pd\n",
    "import tensorflow as tf\n",
    "from tensorflow import keras\n",
    "import matplotlib.pyplot as plt\n",
    "\n",
    "\n",
    "from tensorflow.keras.preprocessing.image import load_img\n",
    "\n",
    "from tensorflow.keras.models import *\n",
    "from tensorflow.keras.layers import *\n",
    "from tensorflow.keras.losses import *\n",
    "from tensorflow.keras.metrics import *\n",
    "from tensorflow.keras.optimizers import *\n",
    "from tensorflow.keras.activations import *\n",
    "\n",
    "from tensorflow.keras.regularizers import *\n",
    "\n",
    "from tensorflow.keras.callbacks import *\n",
    "from keras.preprocessing.image import *\n",
    "from tensorflow.keras.preprocessing import *"
   ]
  },
  {
   "cell_type": "code",
   "execution_count": 2,
   "id": "6970ba03-d344-4b3a-aca9-5b6fd275830f",
   "metadata": {},
   "outputs": [],
   "source": [
    "# Load the CIFAR-10 dataset\n",
    "(x_train, y_train), (x_test, y_test) = keras.datasets.cifar10.load_data()\n",
    "\n",
    "# Normalize pixel values between 0 and 1\n",
    "x_train = x_train / 255.0\n",
    "x_test = x_test / 255.0\n",
    "\n",
    "# Convert labels to one-hot encoded vectors\n",
    "y_train = tf.keras.utils.to_categorical(y_train, num_classes=10)\n",
    "y_test = tf.keras.utils.to_categorical(y_test, num_classes=10)"
   ]
  },
  {
   "cell_type": "code",
   "execution_count": 3,
   "id": "c2dac364-264e-4823-8695-e36d850d7ebe",
   "metadata": {
    "tags": []
   },
   "outputs": [
    {
     "name": "stdout",
     "output_type": "stream",
     "text": [
      "Model: \"model\"\n",
      "_________________________________________________________________\n",
      " Layer (type)                Output Shape              Param #   \n",
      "=================================================================\n",
      " input_1 (InputLayer)        [(None, 32, 32, 3)]       0         \n",
      "                                                                 \n",
      " conv2d (Conv2D)             (None, 30, 30, 32)        896       \n",
      "                                                                 \n",
      " conv2d_1 (Conv2D)           (None, 28, 28, 32)        9248      \n",
      "                                                                 \n",
      " max_pooling2d (MaxPooling2D  (None, 14, 14, 32)       0         \n",
      " )                                                               \n",
      "                                                                 \n",
      " dropout (Dropout)           (None, 14, 14, 32)        0         \n",
      "                                                                 \n",
      " conv2d_2 (Conv2D)           (None, 12, 12, 64)        18496     \n",
      "                                                                 \n",
      " conv2d_3 (Conv2D)           (None, 10, 10, 64)        36928     \n",
      "                                                                 \n",
      " max_pooling2d_1 (MaxPooling  (None, 5, 5, 64)         0         \n",
      " 2D)                                                             \n",
      "                                                                 \n",
      " dropout_1 (Dropout)         (None, 5, 5, 64)          0         \n",
      "                                                                 \n",
      " average_pooling2d (AverageP  (None, 2, 2, 64)         0         \n",
      " ooling2D)                                                       \n",
      "                                                                 \n",
      " flatten (Flatten)           (None, 256)               0         \n",
      "                                                                 \n",
      " dense (Dense)               (None, 512)               131584    \n",
      "                                                                 \n",
      " dense_1 (Dense)             (None, 10)                5130      \n",
      "                                                                 \n",
      "=================================================================\n",
      "Total params: 202,282\n",
      "Trainable params: 202,282\n",
      "Non-trainable params: 0\n",
      "_________________________________________________________________\n"
     ]
    },
    {
     "name": "stderr",
     "output_type": "stream",
     "text": [
      "2023-04-21 23:54:57.471923: I tensorflow/stream_executor/cuda/cuda_gpu_executor.cc:980] successful NUMA node read from SysFS had negative value (-1), but there must be at least one NUMA node, so returning NUMA node zero\n",
      "2023-04-21 23:54:57.474963: I tensorflow/stream_executor/cuda/cuda_gpu_executor.cc:980] successful NUMA node read from SysFS had negative value (-1), but there must be at least one NUMA node, so returning NUMA node zero\n",
      "2023-04-21 23:54:57.475273: I tensorflow/stream_executor/cuda/cuda_gpu_executor.cc:980] successful NUMA node read from SysFS had negative value (-1), but there must be at least one NUMA node, so returning NUMA node zero\n",
      "2023-04-21 23:54:57.475884: I tensorflow/core/platform/cpu_feature_guard.cc:193] This TensorFlow binary is optimized with oneAPI Deep Neural Network Library (oneDNN) to use the following CPU instructions in performance-critical operations:  AVX2 FMA\n",
      "To enable them in other operations, rebuild TensorFlow with the appropriate compiler flags.\n",
      "2023-04-21 23:54:57.476334: I tensorflow/stream_executor/cuda/cuda_gpu_executor.cc:980] successful NUMA node read from SysFS had negative value (-1), but there must be at least one NUMA node, so returning NUMA node zero\n",
      "2023-04-21 23:54:57.476645: I tensorflow/stream_executor/cuda/cuda_gpu_executor.cc:980] successful NUMA node read from SysFS had negative value (-1), but there must be at least one NUMA node, so returning NUMA node zero\n",
      "2023-04-21 23:54:57.476821: I tensorflow/stream_executor/cuda/cuda_gpu_executor.cc:980] successful NUMA node read from SysFS had negative value (-1), but there must be at least one NUMA node, so returning NUMA node zero\n",
      "2023-04-21 23:54:57.943873: I tensorflow/stream_executor/cuda/cuda_gpu_executor.cc:980] successful NUMA node read from SysFS had negative value (-1), but there must be at least one NUMA node, so returning NUMA node zero\n",
      "2023-04-21 23:54:57.944075: I tensorflow/stream_executor/cuda/cuda_gpu_executor.cc:980] successful NUMA node read from SysFS had negative value (-1), but there must be at least one NUMA node, so returning NUMA node zero\n",
      "2023-04-21 23:54:57.944222: I tensorflow/stream_executor/cuda/cuda_gpu_executor.cc:980] successful NUMA node read from SysFS had negative value (-1), but there must be at least one NUMA node, so returning NUMA node zero\n",
      "2023-04-21 23:54:57.944354: I tensorflow/core/common_runtime/gpu/gpu_device.cc:1616] Created device /job:localhost/replica:0/task:0/device:GPU:0 with 10400 MB memory:  -> device: 0, name: NVIDIA GeForce GTX 1080 Ti, pci bus id: 0000:02:00.0, compute capability: 6.1\n"
     ]
    }
   ],
   "source": [
    "inputs = Input(shape=(32,32, 3))\n",
    "\n",
    "# Layer 1\n",
    "x = Conv2D(32, (3,3), activation='relu', kernel_regularizer=l2(1e-6))(inputs)\n",
    "\n",
    "# Layer 2\n",
    "x = Conv2D(32, (3,3), activation='relu', kernel_regularizer=l2(1e-6))(x)\n",
    "x = MaxPooling2D((2, 2))(x)\n",
    "x = Dropout(0.1)(x)\n",
    "\n",
    "# Layer 3\n",
    "x = Conv2D(64, (3,3), activation='relu', kernel_regularizer=l2(1e-6))(x)\n",
    "\n",
    "# Layer 4\n",
    "x = Conv2D(64, (3,3), activation='relu', kernel_regularizer=l2(1e-6))(x)\n",
    "x = MaxPooling2D((2, 2))(x)\n",
    "x = Dropout(0.1)(x)\n",
    "\n",
    "# Layer 5\n",
    "x = AveragePooling2D()(x)\n",
    "x = Flatten()(x)\n",
    "x = Dense(512, activation='relu', kernel_regularizer=l2(1e-6))(x)\n",
    "\n",
    "# Layer 6\n",
    "outputs = Dense(10, activation='softmax')(x)\n",
    "model = Model(inputs=inputs, outputs=outputs)\n",
    "\n",
    "model.summary()"
   ]
  },
  {
   "cell_type": "code",
   "execution_count": 4,
   "id": "c9897576-4328-4349-90b8-2ac97f68f424",
   "metadata": {
    "tags": []
   },
   "outputs": [],
   "source": [
    "# 모델 컴파일\n",
    "opt = RMSprop(learning_rate=1e-4)\n",
    "\n",
    "model.compile(optimizer=opt,\n",
    "              loss='categorical_crossentropy',\n",
    "              metrics=['accuracy'])"
   ]
  },
  {
   "cell_type": "code",
   "execution_count": 5,
   "id": "5b0c4da2-fa25-4117-a366-a44db57afcfb",
   "metadata": {},
   "outputs": [],
   "source": [
    "from keras.preprocessing.image import ImageDataGenerator\n",
    "datagen = ImageDataGenerator(horizontal_flip=True,\n",
    "                             vertical_flip= True\n",
    "                             )\n",
    "\n",
    "# 이미지 데이터의 분포를 조정\n",
    "datagen.fit(x_train)"
   ]
  },
  {
   "cell_type": "code",
   "execution_count": 6,
   "id": "492f7e1e-df54-4686-aaca-ba346e556926",
   "metadata": {},
   "outputs": [
    {
     "name": "stderr",
     "output_type": "stream",
     "text": [
      "Failed to detect the name of this notebook, you can set it manually with the WANDB_NOTEBOOK_NAME environment variable to enable code saving.\n",
      "\u001b[34m\u001b[1mwandb\u001b[0m: Currently logged in as: \u001b[33mchan4im\u001b[0m (\u001b[33mhcim\u001b[0m). Use \u001b[1m`wandb login --relogin`\u001b[0m to force relogin\n"
     ]
    },
    {
     "data": {
      "text/html": [
       "wandb version 0.15.0 is available!  To upgrade, please run:\n",
       " $ pip install wandb --upgrade"
      ],
      "text/plain": [
       "<IPython.core.display.HTML object>"
      ]
     },
     "metadata": {},
     "output_type": "display_data"
    },
    {
     "data": {
      "text/html": [
       "Tracking run with wandb version 0.14.0"
      ],
      "text/plain": [
       "<IPython.core.display.HTML object>"
      ]
     },
     "metadata": {},
     "output_type": "display_data"
    },
    {
     "data": {
      "text/html": [
       "Run data is saved locally in <code>/root/jupyter/IHC/gain_proj/wandb/run-20230421_235459-s7e0224a</code>"
      ],
      "text/plain": [
       "<IPython.core.display.HTML object>"
      ]
     },
     "metadata": {},
     "output_type": "display_data"
    },
    {
     "data": {
      "text/html": [
       "Syncing run <strong><a href='https://wandb.ai/hcim/CIFAR10/runs/s7e0224a' target=\"_blank\">LeNet-relu</a></strong> to <a href='https://wandb.ai/hcim/CIFAR10' target=\"_blank\">Weights & Biases</a> (<a href='https://wandb.me/run' target=\"_blank\">docs</a>)<br/>"
      ],
      "text/plain": [
       "<IPython.core.display.HTML object>"
      ]
     },
     "metadata": {},
     "output_type": "display_data"
    },
    {
     "data": {
      "text/html": [
       " View project at <a href='https://wandb.ai/hcim/CIFAR10' target=\"_blank\">https://wandb.ai/hcim/CIFAR10</a>"
      ],
      "text/plain": [
       "<IPython.core.display.HTML object>"
      ]
     },
     "metadata": {},
     "output_type": "display_data"
    },
    {
     "data": {
      "text/html": [
       " View run at <a href='https://wandb.ai/hcim/CIFAR10/runs/s7e0224a' target=\"_blank\">https://wandb.ai/hcim/CIFAR10/runs/s7e0224a</a>"
      ],
      "text/plain": [
       "<IPython.core.display.HTML object>"
      ]
     },
     "metadata": {},
     "output_type": "display_data"
    },
    {
     "name": "stderr",
     "output_type": "stream",
     "text": [
      "\u001b[34m\u001b[1mwandb\u001b[0m: \u001b[33mWARNING\u001b[0m The save_model argument by default saves the model in the HDF5 format that cannot save custom objects like subclassed models and custom layers. This behavior will be deprecated in a future release in favor of the SavedModel format. Meanwhile, the HDF5 model is saved as W&B files and the SavedModel as W&B Artifacts.\n"
     ]
    }
   ],
   "source": [
    "from tensorflow.keras import callbacks\n",
    "\n",
    "wandb.init(project=\"CIFAR10\", entity=\"hcim\", name='LeNet-relu')\n",
    "\n",
    "wandbCallback=wandb.keras.WandbCallback(monitor=\"val_accuracy\", mode=\"max\", \n",
    "                                        log_weights=True, log_gradients=True, \n",
    "                                        training_data=datagen.flow(x_train, y_train, batch_size=128))\n",
    "\n",
    "callbacks = [wandbCallback]"
   ]
  },
  {
   "cell_type": "code",
   "execution_count": 7,
   "id": "9e995314-6225-4052-95d8-03e5235ea600",
   "metadata": {},
   "outputs": [
    {
     "name": "stdout",
     "output_type": "stream",
     "text": [
      "Epoch 1/200\n"
     ]
    },
    {
     "name": "stderr",
     "output_type": "stream",
     "text": [
      "2023-04-21 23:55:02.296145: I tensorflow/stream_executor/cuda/cuda_dnn.cc:384] Loaded cuDNN version 8100\n"
     ]
    },
    {
     "name": "stdout",
     "output_type": "stream",
     "text": [
      "384/391 [============================>.] - ETA: 0s - loss: 2.1097 - accuracy: 0.2138"
     ]
    },
    {
     "name": "stderr",
     "output_type": "stream",
     "text": [
      "WARNING:absl:Found untraced functions such as _jit_compiled_convolution_op, _jit_compiled_convolution_op, _jit_compiled_convolution_op, _jit_compiled_convolution_op while saving (showing 4 of 4). These functions will not be directly callable after loading.\n"
     ]
    },
    {
     "name": "stdout",
     "output_type": "stream",
     "text": [
      "INFO:tensorflow:Assets written to: /root/jupyter/IHC/gain_proj/wandb/run-20230421_235459-s7e0224a/files/model-best/assets\n"
     ]
    },
    {
     "name": "stderr",
     "output_type": "stream",
     "text": [
      "INFO:tensorflow:Assets written to: /root/jupyter/IHC/gain_proj/wandb/run-20230421_235459-s7e0224a/files/model-best/assets\n",
      "\u001b[34m\u001b[1mwandb\u001b[0m: Adding directory to artifact (/root/jupyter/IHC/gain_proj/wandb/run-20230421_235459-s7e0224a/files/model-best)... Done. 0.0s\n"
     ]
    },
    {
     "name": "stdout",
     "output_type": "stream",
     "text": [
      "391/391 [==============================] - 12s 26ms/step - loss: 2.1072 - accuracy: 0.2149 - val_loss: 1.9521 - val_accuracy: 0.2902\n",
      "Epoch 2/200\n",
      "388/391 [============================>.] - ETA: 0s - loss: 1.8965 - accuracy: 0.3015"
     ]
    },
    {
     "name": "stderr",
     "output_type": "stream",
     "text": [
      "WARNING:absl:Found untraced functions such as _jit_compiled_convolution_op, _jit_compiled_convolution_op, _jit_compiled_convolution_op, _jit_compiled_convolution_op while saving (showing 4 of 4). These functions will not be directly callable after loading.\n"
     ]
    },
    {
     "name": "stdout",
     "output_type": "stream",
     "text": [
      "INFO:tensorflow:Assets written to: /root/jupyter/IHC/gain_proj/wandb/run-20230421_235459-s7e0224a/files/model-best/assets\n"
     ]
    },
    {
     "name": "stderr",
     "output_type": "stream",
     "text": [
      "INFO:tensorflow:Assets written to: /root/jupyter/IHC/gain_proj/wandb/run-20230421_235459-s7e0224a/files/model-best/assets\n",
      "\u001b[34m\u001b[1mwandb\u001b[0m: Adding directory to artifact (/root/jupyter/IHC/gain_proj/wandb/run-20230421_235459-s7e0224a/files/model-best)... Done. 0.0s\n"
     ]
    },
    {
     "name": "stdout",
     "output_type": "stream",
     "text": [
      "391/391 [==============================] - 10s 25ms/step - loss: 1.8961 - accuracy: 0.3015 - val_loss: 1.8194 - val_accuracy: 0.3327\n",
      "Epoch 3/200\n",
      "384/391 [============================>.] - ETA: 0s - loss: 1.8054 - accuracy: 0.3324"
     ]
    },
    {
     "name": "stderr",
     "output_type": "stream",
     "text": [
      "WARNING:absl:Found untraced functions such as _jit_compiled_convolution_op, _jit_compiled_convolution_op, _jit_compiled_convolution_op, _jit_compiled_convolution_op while saving (showing 4 of 4). These functions will not be directly callable after loading.\n"
     ]
    },
    {
     "name": "stdout",
     "output_type": "stream",
     "text": [
      "INFO:tensorflow:Assets written to: /root/jupyter/IHC/gain_proj/wandb/run-20230421_235459-s7e0224a/files/model-best/assets\n"
     ]
    },
    {
     "name": "stderr",
     "output_type": "stream",
     "text": [
      "INFO:tensorflow:Assets written to: /root/jupyter/IHC/gain_proj/wandb/run-20230421_235459-s7e0224a/files/model-best/assets\n",
      "\u001b[34m\u001b[1mwandb\u001b[0m: Adding directory to artifact (/root/jupyter/IHC/gain_proj/wandb/run-20230421_235459-s7e0224a/files/model-best)... Done. 0.0s\n"
     ]
    },
    {
     "name": "stdout",
     "output_type": "stream",
     "text": [
      "391/391 [==============================] - 9s 24ms/step - loss: 1.8052 - accuracy: 0.3328 - val_loss: 1.7704 - val_accuracy: 0.3446\n",
      "Epoch 4/200\n",
      "384/391 [============================>.] - ETA: 0s - loss: 1.7496 - accuracy: 0.3525"
     ]
    },
    {
     "name": "stderr",
     "output_type": "stream",
     "text": [
      "WARNING:absl:Found untraced functions such as _jit_compiled_convolution_op, _jit_compiled_convolution_op, _jit_compiled_convolution_op, _jit_compiled_convolution_op while saving (showing 4 of 4). These functions will not be directly callable after loading.\n"
     ]
    },
    {
     "name": "stdout",
     "output_type": "stream",
     "text": [
      "INFO:tensorflow:Assets written to: /root/jupyter/IHC/gain_proj/wandb/run-20230421_235459-s7e0224a/files/model-best/assets\n"
     ]
    },
    {
     "name": "stderr",
     "output_type": "stream",
     "text": [
      "INFO:tensorflow:Assets written to: /root/jupyter/IHC/gain_proj/wandb/run-20230421_235459-s7e0224a/files/model-best/assets\n",
      "\u001b[34m\u001b[1mwandb\u001b[0m: Adding directory to artifact (/root/jupyter/IHC/gain_proj/wandb/run-20230421_235459-s7e0224a/files/model-best)... Done. 0.0s\n"
     ]
    },
    {
     "name": "stdout",
     "output_type": "stream",
     "text": [
      "391/391 [==============================] - 9s 24ms/step - loss: 1.7489 - accuracy: 0.3529 - val_loss: 1.6972 - val_accuracy: 0.3723\n",
      "Epoch 5/200\n",
      "389/391 [============================>.] - ETA: 0s - loss: 1.7076 - accuracy: 0.3706"
     ]
    },
    {
     "name": "stderr",
     "output_type": "stream",
     "text": [
      "WARNING:absl:Found untraced functions such as _jit_compiled_convolution_op, _jit_compiled_convolution_op, _jit_compiled_convolution_op, _jit_compiled_convolution_op while saving (showing 4 of 4). These functions will not be directly callable after loading.\n"
     ]
    },
    {
     "name": "stdout",
     "output_type": "stream",
     "text": [
      "INFO:tensorflow:Assets written to: /root/jupyter/IHC/gain_proj/wandb/run-20230421_235459-s7e0224a/files/model-best/assets\n"
     ]
    },
    {
     "name": "stderr",
     "output_type": "stream",
     "text": [
      "INFO:tensorflow:Assets written to: /root/jupyter/IHC/gain_proj/wandb/run-20230421_235459-s7e0224a/files/model-best/assets\n",
      "\u001b[34m\u001b[1mwandb\u001b[0m: Adding directory to artifact (/root/jupyter/IHC/gain_proj/wandb/run-20230421_235459-s7e0224a/files/model-best)... Done. 0.0s\n"
     ]
    },
    {
     "name": "stdout",
     "output_type": "stream",
     "text": [
      "391/391 [==============================] - 10s 24ms/step - loss: 1.7072 - accuracy: 0.3706 - val_loss: 1.6716 - val_accuracy: 0.3783\n",
      "Epoch 6/200\n",
      "386/391 [============================>.] - ETA: 0s - loss: 1.6773 - accuracy: 0.3822"
     ]
    },
    {
     "name": "stderr",
     "output_type": "stream",
     "text": [
      "WARNING:absl:Found untraced functions such as _jit_compiled_convolution_op, _jit_compiled_convolution_op, _jit_compiled_convolution_op, _jit_compiled_convolution_op while saving (showing 4 of 4). These functions will not be directly callable after loading.\n"
     ]
    },
    {
     "name": "stdout",
     "output_type": "stream",
     "text": [
      "INFO:tensorflow:Assets written to: /root/jupyter/IHC/gain_proj/wandb/run-20230421_235459-s7e0224a/files/model-best/assets\n"
     ]
    },
    {
     "name": "stderr",
     "output_type": "stream",
     "text": [
      "INFO:tensorflow:Assets written to: /root/jupyter/IHC/gain_proj/wandb/run-20230421_235459-s7e0224a/files/model-best/assets\n",
      "\u001b[34m\u001b[1mwandb\u001b[0m: Adding directory to artifact (/root/jupyter/IHC/gain_proj/wandb/run-20230421_235459-s7e0224a/files/model-best)... Done. 0.0s\n"
     ]
    },
    {
     "name": "stdout",
     "output_type": "stream",
     "text": [
      "391/391 [==============================] - 10s 25ms/step - loss: 1.6767 - accuracy: 0.3827 - val_loss: 1.6473 - val_accuracy: 0.3953\n",
      "Epoch 7/200\n",
      "387/391 [============================>.] - ETA: 0s - loss: 1.6444 - accuracy: 0.3945"
     ]
    },
    {
     "name": "stderr",
     "output_type": "stream",
     "text": [
      "WARNING:absl:Found untraced functions such as _jit_compiled_convolution_op, _jit_compiled_convolution_op, _jit_compiled_convolution_op, _jit_compiled_convolution_op while saving (showing 4 of 4). These functions will not be directly callable after loading.\n"
     ]
    },
    {
     "name": "stdout",
     "output_type": "stream",
     "text": [
      "INFO:tensorflow:Assets written to: /root/jupyter/IHC/gain_proj/wandb/run-20230421_235459-s7e0224a/files/model-best/assets\n"
     ]
    },
    {
     "name": "stderr",
     "output_type": "stream",
     "text": [
      "INFO:tensorflow:Assets written to: /root/jupyter/IHC/gain_proj/wandb/run-20230421_235459-s7e0224a/files/model-best/assets\n",
      "\u001b[34m\u001b[1mwandb\u001b[0m: Adding directory to artifact (/root/jupyter/IHC/gain_proj/wandb/run-20230421_235459-s7e0224a/files/model-best)... Done. 0.0s\n"
     ]
    },
    {
     "name": "stdout",
     "output_type": "stream",
     "text": [
      "391/391 [==============================] - 9s 24ms/step - loss: 1.6447 - accuracy: 0.3943 - val_loss: 1.5957 - val_accuracy: 0.4150\n",
      "Epoch 8/200\n",
      "391/391 [==============================] - 8s 21ms/step - loss: 1.6160 - accuracy: 0.4057 - val_loss: 1.5722 - val_accuracy: 0.4128\n",
      "Epoch 9/200\n",
      "390/391 [============================>.] - ETA: 0s - loss: 1.5891 - accuracy: 0.4163"
     ]
    },
    {
     "name": "stderr",
     "output_type": "stream",
     "text": [
      "WARNING:absl:Found untraced functions such as _jit_compiled_convolution_op, _jit_compiled_convolution_op, _jit_compiled_convolution_op, _jit_compiled_convolution_op while saving (showing 4 of 4). These functions will not be directly callable after loading.\n"
     ]
    },
    {
     "name": "stdout",
     "output_type": "stream",
     "text": [
      "INFO:tensorflow:Assets written to: /root/jupyter/IHC/gain_proj/wandb/run-20230421_235459-s7e0224a/files/model-best/assets\n"
     ]
    },
    {
     "name": "stderr",
     "output_type": "stream",
     "text": [
      "INFO:tensorflow:Assets written to: /root/jupyter/IHC/gain_proj/wandb/run-20230421_235459-s7e0224a/files/model-best/assets\n",
      "\u001b[34m\u001b[1mwandb\u001b[0m: Adding directory to artifact (/root/jupyter/IHC/gain_proj/wandb/run-20230421_235459-s7e0224a/files/model-best)... Done. 0.0s\n"
     ]
    },
    {
     "name": "stdout",
     "output_type": "stream",
     "text": [
      "391/391 [==============================] - 10s 25ms/step - loss: 1.5887 - accuracy: 0.4164 - val_loss: 1.5559 - val_accuracy: 0.4294\n",
      "Epoch 10/200\n",
      "387/391 [============================>.] - ETA: 0s - loss: 1.5628 - accuracy: 0.4266"
     ]
    },
    {
     "name": "stderr",
     "output_type": "stream",
     "text": [
      "WARNING:absl:Found untraced functions such as _jit_compiled_convolution_op, _jit_compiled_convolution_op, _jit_compiled_convolution_op, _jit_compiled_convolution_op while saving (showing 4 of 4). These functions will not be directly callable after loading.\n"
     ]
    },
    {
     "name": "stdout",
     "output_type": "stream",
     "text": [
      "INFO:tensorflow:Assets written to: /root/jupyter/IHC/gain_proj/wandb/run-20230421_235459-s7e0224a/files/model-best/assets\n"
     ]
    },
    {
     "name": "stderr",
     "output_type": "stream",
     "text": [
      "INFO:tensorflow:Assets written to: /root/jupyter/IHC/gain_proj/wandb/run-20230421_235459-s7e0224a/files/model-best/assets\n",
      "\u001b[34m\u001b[1mwandb\u001b[0m: Adding directory to artifact (/root/jupyter/IHC/gain_proj/wandb/run-20230421_235459-s7e0224a/files/model-best)... Done. 0.0s\n"
     ]
    },
    {
     "name": "stdout",
     "output_type": "stream",
     "text": [
      "391/391 [==============================] - 10s 24ms/step - loss: 1.5630 - accuracy: 0.4267 - val_loss: 1.5151 - val_accuracy: 0.4456\n",
      "Epoch 11/200\n",
      "388/391 [============================>.] - ETA: 0s - loss: 1.5379 - accuracy: 0.4372"
     ]
    },
    {
     "name": "stderr",
     "output_type": "stream",
     "text": [
      "WARNING:absl:Found untraced functions such as _jit_compiled_convolution_op, _jit_compiled_convolution_op, _jit_compiled_convolution_op, _jit_compiled_convolution_op while saving (showing 4 of 4). These functions will not be directly callable after loading.\n"
     ]
    },
    {
     "name": "stdout",
     "output_type": "stream",
     "text": [
      "INFO:tensorflow:Assets written to: /root/jupyter/IHC/gain_proj/wandb/run-20230421_235459-s7e0224a/files/model-best/assets\n"
     ]
    },
    {
     "name": "stderr",
     "output_type": "stream",
     "text": [
      "INFO:tensorflow:Assets written to: /root/jupyter/IHC/gain_proj/wandb/run-20230421_235459-s7e0224a/files/model-best/assets\n",
      "\u001b[34m\u001b[1mwandb\u001b[0m: Adding directory to artifact (/root/jupyter/IHC/gain_proj/wandb/run-20230421_235459-s7e0224a/files/model-best)... Done. 0.0s\n"
     ]
    },
    {
     "name": "stdout",
     "output_type": "stream",
     "text": [
      "391/391 [==============================] - 10s 24ms/step - loss: 1.5377 - accuracy: 0.4371 - val_loss: 1.5075 - val_accuracy: 0.4514\n",
      "Epoch 12/200\n",
      "391/391 [==============================] - 8s 21ms/step - loss: 1.5146 - accuracy: 0.4446 - val_loss: 1.5142 - val_accuracy: 0.4480\n",
      "Epoch 13/200\n",
      "388/391 [============================>.] - ETA: 0s - loss: 1.4944 - accuracy: 0.4568"
     ]
    },
    {
     "name": "stderr",
     "output_type": "stream",
     "text": [
      "WARNING:absl:Found untraced functions such as _jit_compiled_convolution_op, _jit_compiled_convolution_op, _jit_compiled_convolution_op, _jit_compiled_convolution_op while saving (showing 4 of 4). These functions will not be directly callable after loading.\n"
     ]
    },
    {
     "name": "stdout",
     "output_type": "stream",
     "text": [
      "INFO:tensorflow:Assets written to: /root/jupyter/IHC/gain_proj/wandb/run-20230421_235459-s7e0224a/files/model-best/assets\n"
     ]
    },
    {
     "name": "stderr",
     "output_type": "stream",
     "text": [
      "INFO:tensorflow:Assets written to: /root/jupyter/IHC/gain_proj/wandb/run-20230421_235459-s7e0224a/files/model-best/assets\n",
      "\u001b[34m\u001b[1mwandb\u001b[0m: Adding directory to artifact (/root/jupyter/IHC/gain_proj/wandb/run-20230421_235459-s7e0224a/files/model-best)... Done. 0.0s\n"
     ]
    },
    {
     "name": "stdout",
     "output_type": "stream",
     "text": [
      "391/391 [==============================] - 9s 24ms/step - loss: 1.4943 - accuracy: 0.4565 - val_loss: 1.4597 - val_accuracy: 0.4720\n",
      "Epoch 14/200\n",
      "388/391 [============================>.] - ETA: 0s - loss: 1.4740 - accuracy: 0.4638"
     ]
    },
    {
     "name": "stderr",
     "output_type": "stream",
     "text": [
      "WARNING:absl:Found untraced functions such as _jit_compiled_convolution_op, _jit_compiled_convolution_op, _jit_compiled_convolution_op, _jit_compiled_convolution_op while saving (showing 4 of 4). These functions will not be directly callable after loading.\n"
     ]
    },
    {
     "name": "stdout",
     "output_type": "stream",
     "text": [
      "INFO:tensorflow:Assets written to: /root/jupyter/IHC/gain_proj/wandb/run-20230421_235459-s7e0224a/files/model-best/assets\n"
     ]
    },
    {
     "name": "stderr",
     "output_type": "stream",
     "text": [
      "INFO:tensorflow:Assets written to: /root/jupyter/IHC/gain_proj/wandb/run-20230421_235459-s7e0224a/files/model-best/assets\n",
      "\u001b[34m\u001b[1mwandb\u001b[0m: Adding directory to artifact (/root/jupyter/IHC/gain_proj/wandb/run-20230421_235459-s7e0224a/files/model-best)... Done. 0.0s\n"
     ]
    },
    {
     "name": "stdout",
     "output_type": "stream",
     "text": [
      "391/391 [==============================] - 10s 25ms/step - loss: 1.4740 - accuracy: 0.4637 - val_loss: 1.4399 - val_accuracy: 0.4796\n",
      "Epoch 15/200\n",
      "391/391 [==============================] - ETA: 0s - loss: 1.4559 - accuracy: 0.4734"
     ]
    },
    {
     "name": "stderr",
     "output_type": "stream",
     "text": [
      "WARNING:absl:Found untraced functions such as _jit_compiled_convolution_op, _jit_compiled_convolution_op, _jit_compiled_convolution_op, _jit_compiled_convolution_op while saving (showing 4 of 4). These functions will not be directly callable after loading.\n"
     ]
    },
    {
     "name": "stdout",
     "output_type": "stream",
     "text": [
      "INFO:tensorflow:Assets written to: /root/jupyter/IHC/gain_proj/wandb/run-20230421_235459-s7e0224a/files/model-best/assets\n"
     ]
    },
    {
     "name": "stderr",
     "output_type": "stream",
     "text": [
      "INFO:tensorflow:Assets written to: /root/jupyter/IHC/gain_proj/wandb/run-20230421_235459-s7e0224a/files/model-best/assets\n",
      "\u001b[34m\u001b[1mwandb\u001b[0m: Adding directory to artifact (/root/jupyter/IHC/gain_proj/wandb/run-20230421_235459-s7e0224a/files/model-best)... Done. 0.0s\n"
     ]
    },
    {
     "name": "stdout",
     "output_type": "stream",
     "text": [
      "391/391 [==============================] - 10s 24ms/step - loss: 1.4559 - accuracy: 0.4734 - val_loss: 1.4433 - val_accuracy: 0.4806\n",
      "Epoch 16/200\n",
      "388/391 [============================>.] - ETA: 0s - loss: 1.4357 - accuracy: 0.4815"
     ]
    },
    {
     "name": "stderr",
     "output_type": "stream",
     "text": [
      "WARNING:absl:Found untraced functions such as _jit_compiled_convolution_op, _jit_compiled_convolution_op, _jit_compiled_convolution_op, _jit_compiled_convolution_op while saving (showing 4 of 4). These functions will not be directly callable after loading.\n"
     ]
    },
    {
     "name": "stdout",
     "output_type": "stream",
     "text": [
      "INFO:tensorflow:Assets written to: /root/jupyter/IHC/gain_proj/wandb/run-20230421_235459-s7e0224a/files/model-best/assets\n"
     ]
    },
    {
     "name": "stderr",
     "output_type": "stream",
     "text": [
      "INFO:tensorflow:Assets written to: /root/jupyter/IHC/gain_proj/wandb/run-20230421_235459-s7e0224a/files/model-best/assets\n",
      "\u001b[34m\u001b[1mwandb\u001b[0m: Adding directory to artifact (/root/jupyter/IHC/gain_proj/wandb/run-20230421_235459-s7e0224a/files/model-best)... Done. 0.0s\n"
     ]
    },
    {
     "name": "stdout",
     "output_type": "stream",
     "text": [
      "391/391 [==============================] - 10s 26ms/step - loss: 1.4360 - accuracy: 0.4817 - val_loss: 1.4195 - val_accuracy: 0.4865\n",
      "Epoch 17/200\n",
      "384/391 [============================>.] - ETA: 0s - loss: 1.4210 - accuracy: 0.4865"
     ]
    },
    {
     "name": "stderr",
     "output_type": "stream",
     "text": [
      "WARNING:absl:Found untraced functions such as _jit_compiled_convolution_op, _jit_compiled_convolution_op, _jit_compiled_convolution_op, _jit_compiled_convolution_op while saving (showing 4 of 4). These functions will not be directly callable after loading.\n"
     ]
    },
    {
     "name": "stdout",
     "output_type": "stream",
     "text": [
      "INFO:tensorflow:Assets written to: /root/jupyter/IHC/gain_proj/wandb/run-20230421_235459-s7e0224a/files/model-best/assets\n"
     ]
    },
    {
     "name": "stderr",
     "output_type": "stream",
     "text": [
      "INFO:tensorflow:Assets written to: /root/jupyter/IHC/gain_proj/wandb/run-20230421_235459-s7e0224a/files/model-best/assets\n",
      "\u001b[34m\u001b[1mwandb\u001b[0m: Adding directory to artifact (/root/jupyter/IHC/gain_proj/wandb/run-20230421_235459-s7e0224a/files/model-best)... Done. 0.0s\n"
     ]
    },
    {
     "name": "stdout",
     "output_type": "stream",
     "text": [
      "391/391 [==============================] - 10s 25ms/step - loss: 1.4217 - accuracy: 0.4862 - val_loss: 1.4382 - val_accuracy: 0.4889\n",
      "Epoch 18/200\n",
      "385/391 [============================>.] - ETA: 0s - loss: 1.3988 - accuracy: 0.4969"
     ]
    },
    {
     "name": "stderr",
     "output_type": "stream",
     "text": [
      "WARNING:absl:Found untraced functions such as _jit_compiled_convolution_op, _jit_compiled_convolution_op, _jit_compiled_convolution_op, _jit_compiled_convolution_op while saving (showing 4 of 4). These functions will not be directly callable after loading.\n"
     ]
    },
    {
     "name": "stdout",
     "output_type": "stream",
     "text": [
      "INFO:tensorflow:Assets written to: /root/jupyter/IHC/gain_proj/wandb/run-20230421_235459-s7e0224a/files/model-best/assets\n"
     ]
    },
    {
     "name": "stderr",
     "output_type": "stream",
     "text": [
      "INFO:tensorflow:Assets written to: /root/jupyter/IHC/gain_proj/wandb/run-20230421_235459-s7e0224a/files/model-best/assets\n",
      "\u001b[34m\u001b[1mwandb\u001b[0m: Adding directory to artifact (/root/jupyter/IHC/gain_proj/wandb/run-20230421_235459-s7e0224a/files/model-best)... Done. 0.0s\n"
     ]
    },
    {
     "name": "stdout",
     "output_type": "stream",
     "text": [
      "391/391 [==============================] - 10s 24ms/step - loss: 1.3987 - accuracy: 0.4965 - val_loss: 1.3638 - val_accuracy: 0.5104\n",
      "Epoch 19/200\n",
      "391/391 [==============================] - 8s 21ms/step - loss: 1.3809 - accuracy: 0.5030 - val_loss: 1.3658 - val_accuracy: 0.4988\n",
      "Epoch 20/200\n",
      "390/391 [============================>.] - ETA: 0s - loss: 1.3693 - accuracy: 0.5087"
     ]
    },
    {
     "name": "stderr",
     "output_type": "stream",
     "text": [
      "WARNING:absl:Found untraced functions such as _jit_compiled_convolution_op, _jit_compiled_convolution_op, _jit_compiled_convolution_op, _jit_compiled_convolution_op while saving (showing 4 of 4). These functions will not be directly callable after loading.\n"
     ]
    },
    {
     "name": "stdout",
     "output_type": "stream",
     "text": [
      "INFO:tensorflow:Assets written to: /root/jupyter/IHC/gain_proj/wandb/run-20230421_235459-s7e0224a/files/model-best/assets\n"
     ]
    },
    {
     "name": "stderr",
     "output_type": "stream",
     "text": [
      "INFO:tensorflow:Assets written to: /root/jupyter/IHC/gain_proj/wandb/run-20230421_235459-s7e0224a/files/model-best/assets\n",
      "\u001b[34m\u001b[1mwandb\u001b[0m: Adding directory to artifact (/root/jupyter/IHC/gain_proj/wandb/run-20230421_235459-s7e0224a/files/model-best)... Done. 0.0s\n"
     ]
    },
    {
     "name": "stdout",
     "output_type": "stream",
     "text": [
      "391/391 [==============================] - 10s 24ms/step - loss: 1.3693 - accuracy: 0.5087 - val_loss: 1.3355 - val_accuracy: 0.5201\n",
      "Epoch 21/200\n",
      "384/391 [============================>.] - ETA: 0s - loss: 1.3534 - accuracy: 0.5149"
     ]
    },
    {
     "name": "stderr",
     "output_type": "stream",
     "text": [
      "WARNING:absl:Found untraced functions such as _jit_compiled_convolution_op, _jit_compiled_convolution_op, _jit_compiled_convolution_op, _jit_compiled_convolution_op while saving (showing 4 of 4). These functions will not be directly callable after loading.\n"
     ]
    },
    {
     "name": "stdout",
     "output_type": "stream",
     "text": [
      "INFO:tensorflow:Assets written to: /root/jupyter/IHC/gain_proj/wandb/run-20230421_235459-s7e0224a/files/model-best/assets\n"
     ]
    },
    {
     "name": "stderr",
     "output_type": "stream",
     "text": [
      "INFO:tensorflow:Assets written to: /root/jupyter/IHC/gain_proj/wandb/run-20230421_235459-s7e0224a/files/model-best/assets\n",
      "\u001b[34m\u001b[1mwandb\u001b[0m: Adding directory to artifact (/root/jupyter/IHC/gain_proj/wandb/run-20230421_235459-s7e0224a/files/model-best)... Done. 0.0s\n"
     ]
    },
    {
     "name": "stdout",
     "output_type": "stream",
     "text": [
      "391/391 [==============================] - 9s 24ms/step - loss: 1.3537 - accuracy: 0.5149 - val_loss: 1.3169 - val_accuracy: 0.5275\n",
      "Epoch 22/200\n",
      "391/391 [==============================] - ETA: 0s - loss: 1.3370 - accuracy: 0.5237"
     ]
    },
    {
     "name": "stderr",
     "output_type": "stream",
     "text": [
      "WARNING:absl:Found untraced functions such as _jit_compiled_convolution_op, _jit_compiled_convolution_op, _jit_compiled_convolution_op, _jit_compiled_convolution_op while saving (showing 4 of 4). These functions will not be directly callable after loading.\n"
     ]
    },
    {
     "name": "stdout",
     "output_type": "stream",
     "text": [
      "INFO:tensorflow:Assets written to: /root/jupyter/IHC/gain_proj/wandb/run-20230421_235459-s7e0224a/files/model-best/assets\n"
     ]
    },
    {
     "name": "stderr",
     "output_type": "stream",
     "text": [
      "INFO:tensorflow:Assets written to: /root/jupyter/IHC/gain_proj/wandb/run-20230421_235459-s7e0224a/files/model-best/assets\n",
      "\u001b[34m\u001b[1mwandb\u001b[0m: Adding directory to artifact (/root/jupyter/IHC/gain_proj/wandb/run-20230421_235459-s7e0224a/files/model-best)... Done. 0.0s\n"
     ]
    },
    {
     "name": "stdout",
     "output_type": "stream",
     "text": [
      "391/391 [==============================] - 10s 25ms/step - loss: 1.3370 - accuracy: 0.5237 - val_loss: 1.3069 - val_accuracy: 0.5318\n",
      "Epoch 23/200\n",
      "391/391 [==============================] - 9s 22ms/step - loss: 1.3249 - accuracy: 0.5266 - val_loss: 1.3332 - val_accuracy: 0.5264\n",
      "Epoch 24/200\n",
      "387/391 [============================>.] - ETA: 0s - loss: 1.3108 - accuracy: 0.5333"
     ]
    },
    {
     "name": "stderr",
     "output_type": "stream",
     "text": [
      "WARNING:absl:Found untraced functions such as _jit_compiled_convolution_op, _jit_compiled_convolution_op, _jit_compiled_convolution_op, _jit_compiled_convolution_op while saving (showing 4 of 4). These functions will not be directly callable after loading.\n"
     ]
    },
    {
     "name": "stdout",
     "output_type": "stream",
     "text": [
      "INFO:tensorflow:Assets written to: /root/jupyter/IHC/gain_proj/wandb/run-20230421_235459-s7e0224a/files/model-best/assets\n"
     ]
    },
    {
     "name": "stderr",
     "output_type": "stream",
     "text": [
      "INFO:tensorflow:Assets written to: /root/jupyter/IHC/gain_proj/wandb/run-20230421_235459-s7e0224a/files/model-best/assets\n",
      "\u001b[34m\u001b[1mwandb\u001b[0m: Adding directory to artifact (/root/jupyter/IHC/gain_proj/wandb/run-20230421_235459-s7e0224a/files/model-best)... Done. 0.0s\n"
     ]
    },
    {
     "name": "stdout",
     "output_type": "stream",
     "text": [
      "391/391 [==============================] - 10s 24ms/step - loss: 1.3104 - accuracy: 0.5336 - val_loss: 1.3049 - val_accuracy: 0.5331\n",
      "Epoch 25/200\n",
      "388/391 [============================>.] - ETA: 0s - loss: 1.2996 - accuracy: 0.5390"
     ]
    },
    {
     "name": "stderr",
     "output_type": "stream",
     "text": [
      "WARNING:absl:Found untraced functions such as _jit_compiled_convolution_op, _jit_compiled_convolution_op, _jit_compiled_convolution_op, _jit_compiled_convolution_op while saving (showing 4 of 4). These functions will not be directly callable after loading.\n"
     ]
    },
    {
     "name": "stdout",
     "output_type": "stream",
     "text": [
      "INFO:tensorflow:Assets written to: /root/jupyter/IHC/gain_proj/wandb/run-20230421_235459-s7e0224a/files/model-best/assets\n"
     ]
    },
    {
     "name": "stderr",
     "output_type": "stream",
     "text": [
      "INFO:tensorflow:Assets written to: /root/jupyter/IHC/gain_proj/wandb/run-20230421_235459-s7e0224a/files/model-best/assets\n",
      "\u001b[34m\u001b[1mwandb\u001b[0m: Adding directory to artifact (/root/jupyter/IHC/gain_proj/wandb/run-20230421_235459-s7e0224a/files/model-best)... Done. 0.0s\n"
     ]
    },
    {
     "name": "stdout",
     "output_type": "stream",
     "text": [
      "391/391 [==============================] - 9s 24ms/step - loss: 1.2990 - accuracy: 0.5392 - val_loss: 1.2716 - val_accuracy: 0.5427\n",
      "Epoch 26/200\n",
      "391/391 [==============================] - 8s 21ms/step - loss: 1.2857 - accuracy: 0.5438 - val_loss: 1.2660 - val_accuracy: 0.5403\n",
      "Epoch 27/200\n",
      "385/391 [============================>.] - ETA: 0s - loss: 1.2768 - accuracy: 0.5478"
     ]
    },
    {
     "name": "stderr",
     "output_type": "stream",
     "text": [
      "WARNING:absl:Found untraced functions such as _jit_compiled_convolution_op, _jit_compiled_convolution_op, _jit_compiled_convolution_op, _jit_compiled_convolution_op while saving (showing 4 of 4). These functions will not be directly callable after loading.\n"
     ]
    },
    {
     "name": "stdout",
     "output_type": "stream",
     "text": [
      "INFO:tensorflow:Assets written to: /root/jupyter/IHC/gain_proj/wandb/run-20230421_235459-s7e0224a/files/model-best/assets\n"
     ]
    },
    {
     "name": "stderr",
     "output_type": "stream",
     "text": [
      "INFO:tensorflow:Assets written to: /root/jupyter/IHC/gain_proj/wandb/run-20230421_235459-s7e0224a/files/model-best/assets\n",
      "\u001b[34m\u001b[1mwandb\u001b[0m: Adding directory to artifact (/root/jupyter/IHC/gain_proj/wandb/run-20230421_235459-s7e0224a/files/model-best)... Done. 0.0s\n"
     ]
    },
    {
     "name": "stdout",
     "output_type": "stream",
     "text": [
      "391/391 [==============================] - 9s 24ms/step - loss: 1.2774 - accuracy: 0.5472 - val_loss: 1.2700 - val_accuracy: 0.5486\n",
      "Epoch 28/200\n",
      "388/391 [============================>.] - ETA: 0s - loss: 1.2651 - accuracy: 0.5510"
     ]
    },
    {
     "name": "stderr",
     "output_type": "stream",
     "text": [
      "WARNING:absl:Found untraced functions such as _jit_compiled_convolution_op, _jit_compiled_convolution_op, _jit_compiled_convolution_op, _jit_compiled_convolution_op while saving (showing 4 of 4). These functions will not be directly callable after loading.\n"
     ]
    },
    {
     "name": "stdout",
     "output_type": "stream",
     "text": [
      "INFO:tensorflow:Assets written to: /root/jupyter/IHC/gain_proj/wandb/run-20230421_235459-s7e0224a/files/model-best/assets\n"
     ]
    },
    {
     "name": "stderr",
     "output_type": "stream",
     "text": [
      "INFO:tensorflow:Assets written to: /root/jupyter/IHC/gain_proj/wandb/run-20230421_235459-s7e0224a/files/model-best/assets\n",
      "\u001b[34m\u001b[1mwandb\u001b[0m: Adding directory to artifact (/root/jupyter/IHC/gain_proj/wandb/run-20230421_235459-s7e0224a/files/model-best)... Done. 0.0s\n"
     ]
    },
    {
     "name": "stdout",
     "output_type": "stream",
     "text": [
      "391/391 [==============================] - 10s 26ms/step - loss: 1.2649 - accuracy: 0.5511 - val_loss: 1.2502 - val_accuracy: 0.5539\n",
      "Epoch 29/200\n",
      "391/391 [==============================] - ETA: 0s - loss: 1.2566 - accuracy: 0.5510"
     ]
    },
    {
     "name": "stderr",
     "output_type": "stream",
     "text": [
      "WARNING:absl:Found untraced functions such as _jit_compiled_convolution_op, _jit_compiled_convolution_op, _jit_compiled_convolution_op, _jit_compiled_convolution_op while saving (showing 4 of 4). These functions will not be directly callable after loading.\n"
     ]
    },
    {
     "name": "stdout",
     "output_type": "stream",
     "text": [
      "INFO:tensorflow:Assets written to: /root/jupyter/IHC/gain_proj/wandb/run-20230421_235459-s7e0224a/files/model-best/assets\n"
     ]
    },
    {
     "name": "stderr",
     "output_type": "stream",
     "text": [
      "INFO:tensorflow:Assets written to: /root/jupyter/IHC/gain_proj/wandb/run-20230421_235459-s7e0224a/files/model-best/assets\n",
      "\u001b[34m\u001b[1mwandb\u001b[0m: Adding directory to artifact (/root/jupyter/IHC/gain_proj/wandb/run-20230421_235459-s7e0224a/files/model-best)... Done. 0.0s\n"
     ]
    },
    {
     "name": "stdout",
     "output_type": "stream",
     "text": [
      "391/391 [==============================] - 10s 24ms/step - loss: 1.2566 - accuracy: 0.5510 - val_loss: 1.2261 - val_accuracy: 0.5603\n",
      "Epoch 30/200\n",
      "391/391 [==============================] - 8s 22ms/step - loss: 1.2482 - accuracy: 0.5575 - val_loss: 1.2406 - val_accuracy: 0.5564\n",
      "Epoch 31/200\n",
      "391/391 [==============================] - 8s 21ms/step - loss: 1.2310 - accuracy: 0.5641 - val_loss: 1.2297 - val_accuracy: 0.5589\n",
      "Epoch 32/200\n",
      "391/391 [==============================] - 8s 21ms/step - loss: 1.2272 - accuracy: 0.5660 - val_loss: 1.2510 - val_accuracy: 0.5488\n",
      "Epoch 33/200\n",
      "391/391 [==============================] - 8s 21ms/step - loss: 1.2148 - accuracy: 0.5710 - val_loss: 1.2384 - val_accuracy: 0.5590\n",
      "Epoch 34/200\n",
      "387/391 [============================>.] - ETA: 0s - loss: 1.2049 - accuracy: 0.5736"
     ]
    },
    {
     "name": "stderr",
     "output_type": "stream",
     "text": [
      "WARNING:absl:Found untraced functions such as _jit_compiled_convolution_op, _jit_compiled_convolution_op, _jit_compiled_convolution_op, _jit_compiled_convolution_op while saving (showing 4 of 4). These functions will not be directly callable after loading.\n"
     ]
    },
    {
     "name": "stdout",
     "output_type": "stream",
     "text": [
      "INFO:tensorflow:Assets written to: /root/jupyter/IHC/gain_proj/wandb/run-20230421_235459-s7e0224a/files/model-best/assets\n"
     ]
    },
    {
     "name": "stderr",
     "output_type": "stream",
     "text": [
      "INFO:tensorflow:Assets written to: /root/jupyter/IHC/gain_proj/wandb/run-20230421_235459-s7e0224a/files/model-best/assets\n",
      "\u001b[34m\u001b[1mwandb\u001b[0m: Adding directory to artifact (/root/jupyter/IHC/gain_proj/wandb/run-20230421_235459-s7e0224a/files/model-best)... Done. 0.0s\n"
     ]
    },
    {
     "name": "stdout",
     "output_type": "stream",
     "text": [
      "391/391 [==============================] - 9s 24ms/step - loss: 1.2051 - accuracy: 0.5736 - val_loss: 1.2004 - val_accuracy: 0.5690\n",
      "Epoch 35/200\n",
      "391/391 [==============================] - 8s 21ms/step - loss: 1.1949 - accuracy: 0.5773 - val_loss: 1.2216 - val_accuracy: 0.5655\n",
      "Epoch 36/200\n",
      "385/391 [============================>.] - ETA: 0s - loss: 1.1898 - accuracy: 0.5782"
     ]
    },
    {
     "name": "stderr",
     "output_type": "stream",
     "text": [
      "WARNING:absl:Found untraced functions such as _jit_compiled_convolution_op, _jit_compiled_convolution_op, _jit_compiled_convolution_op, _jit_compiled_convolution_op while saving (showing 4 of 4). These functions will not be directly callable after loading.\n"
     ]
    },
    {
     "name": "stdout",
     "output_type": "stream",
     "text": [
      "INFO:tensorflow:Assets written to: /root/jupyter/IHC/gain_proj/wandb/run-20230421_235459-s7e0224a/files/model-best/assets\n"
     ]
    },
    {
     "name": "stderr",
     "output_type": "stream",
     "text": [
      "INFO:tensorflow:Assets written to: /root/jupyter/IHC/gain_proj/wandb/run-20230421_235459-s7e0224a/files/model-best/assets\n",
      "\u001b[34m\u001b[1mwandb\u001b[0m: Adding directory to artifact (/root/jupyter/IHC/gain_proj/wandb/run-20230421_235459-s7e0224a/files/model-best)... Done. 0.0s\n"
     ]
    },
    {
     "name": "stdout",
     "output_type": "stream",
     "text": [
      "391/391 [==============================] - 10s 25ms/step - loss: 1.1904 - accuracy: 0.5780 - val_loss: 1.1755 - val_accuracy: 0.5818\n",
      "Epoch 37/200\n",
      "390/391 [============================>.] - ETA: 0s - loss: 1.1823 - accuracy: 0.5828"
     ]
    },
    {
     "name": "stderr",
     "output_type": "stream",
     "text": [
      "WARNING:absl:Found untraced functions such as _jit_compiled_convolution_op, _jit_compiled_convolution_op, _jit_compiled_convolution_op, _jit_compiled_convolution_op while saving (showing 4 of 4). These functions will not be directly callable after loading.\n"
     ]
    },
    {
     "name": "stdout",
     "output_type": "stream",
     "text": [
      "INFO:tensorflow:Assets written to: /root/jupyter/IHC/gain_proj/wandb/run-20230421_235459-s7e0224a/files/model-best/assets\n"
     ]
    },
    {
     "name": "stderr",
     "output_type": "stream",
     "text": [
      "INFO:tensorflow:Assets written to: /root/jupyter/IHC/gain_proj/wandb/run-20230421_235459-s7e0224a/files/model-best/assets\n",
      "\u001b[34m\u001b[1mwandb\u001b[0m: Adding directory to artifact (/root/jupyter/IHC/gain_proj/wandb/run-20230421_235459-s7e0224a/files/model-best)... Done. 0.0s\n"
     ]
    },
    {
     "name": "stdout",
     "output_type": "stream",
     "text": [
      "391/391 [==============================] - 10s 25ms/step - loss: 1.1821 - accuracy: 0.5829 - val_loss: 1.1753 - val_accuracy: 0.5853\n",
      "Epoch 38/200\n",
      "391/391 [==============================] - 8s 21ms/step - loss: 1.1751 - accuracy: 0.5852 - val_loss: 1.1761 - val_accuracy: 0.5778\n",
      "Epoch 39/200\n",
      "387/391 [============================>.] - ETA: 0s - loss: 1.1640 - accuracy: 0.5898"
     ]
    },
    {
     "name": "stderr",
     "output_type": "stream",
     "text": [
      "WARNING:absl:Found untraced functions such as _jit_compiled_convolution_op, _jit_compiled_convolution_op, _jit_compiled_convolution_op, _jit_compiled_convolution_op while saving (showing 4 of 4). These functions will not be directly callable after loading.\n"
     ]
    },
    {
     "name": "stdout",
     "output_type": "stream",
     "text": [
      "INFO:tensorflow:Assets written to: /root/jupyter/IHC/gain_proj/wandb/run-20230421_235459-s7e0224a/files/model-best/assets\n"
     ]
    },
    {
     "name": "stderr",
     "output_type": "stream",
     "text": [
      "INFO:tensorflow:Assets written to: /root/jupyter/IHC/gain_proj/wandb/run-20230421_235459-s7e0224a/files/model-best/assets\n",
      "\u001b[34m\u001b[1mwandb\u001b[0m: Adding directory to artifact (/root/jupyter/IHC/gain_proj/wandb/run-20230421_235459-s7e0224a/files/model-best)... Done. 0.0s\n"
     ]
    },
    {
     "name": "stdout",
     "output_type": "stream",
     "text": [
      "391/391 [==============================] - 10s 24ms/step - loss: 1.1651 - accuracy: 0.5897 - val_loss: 1.1730 - val_accuracy: 0.5856\n",
      "Epoch 40/200\n",
      "386/391 [============================>.] - ETA: 0s - loss: 1.1587 - accuracy: 0.5906"
     ]
    },
    {
     "name": "stderr",
     "output_type": "stream",
     "text": [
      "WARNING:absl:Found untraced functions such as _jit_compiled_convolution_op, _jit_compiled_convolution_op, _jit_compiled_convolution_op, _jit_compiled_convolution_op while saving (showing 4 of 4). These functions will not be directly callable after loading.\n"
     ]
    },
    {
     "name": "stdout",
     "output_type": "stream",
     "text": [
      "INFO:tensorflow:Assets written to: /root/jupyter/IHC/gain_proj/wandb/run-20230421_235459-s7e0224a/files/model-best/assets\n"
     ]
    },
    {
     "name": "stderr",
     "output_type": "stream",
     "text": [
      "INFO:tensorflow:Assets written to: /root/jupyter/IHC/gain_proj/wandb/run-20230421_235459-s7e0224a/files/model-best/assets\n",
      "\u001b[34m\u001b[1mwandb\u001b[0m: Adding directory to artifact (/root/jupyter/IHC/gain_proj/wandb/run-20230421_235459-s7e0224a/files/model-best)... Done. 0.0s\n"
     ]
    },
    {
     "name": "stdout",
     "output_type": "stream",
     "text": [
      "391/391 [==============================] - 9s 24ms/step - loss: 1.1593 - accuracy: 0.5904 - val_loss: 1.1585 - val_accuracy: 0.5884\n",
      "Epoch 41/200\n",
      "384/391 [============================>.] - ETA: 0s - loss: 1.1503 - accuracy: 0.5959"
     ]
    },
    {
     "name": "stderr",
     "output_type": "stream",
     "text": [
      "WARNING:absl:Found untraced functions such as _jit_compiled_convolution_op, _jit_compiled_convolution_op, _jit_compiled_convolution_op, _jit_compiled_convolution_op while saving (showing 4 of 4). These functions will not be directly callable after loading.\n"
     ]
    },
    {
     "name": "stdout",
     "output_type": "stream",
     "text": [
      "INFO:tensorflow:Assets written to: /root/jupyter/IHC/gain_proj/wandb/run-20230421_235459-s7e0224a/files/model-best/assets\n"
     ]
    },
    {
     "name": "stderr",
     "output_type": "stream",
     "text": [
      "INFO:tensorflow:Assets written to: /root/jupyter/IHC/gain_proj/wandb/run-20230421_235459-s7e0224a/files/model-best/assets\n",
      "\u001b[34m\u001b[1mwandb\u001b[0m: Adding directory to artifact (/root/jupyter/IHC/gain_proj/wandb/run-20230421_235459-s7e0224a/files/model-best)... Done. 0.0s\n"
     ]
    },
    {
     "name": "stdout",
     "output_type": "stream",
     "text": [
      "391/391 [==============================] - 10s 25ms/step - loss: 1.1499 - accuracy: 0.5958 - val_loss: 1.1571 - val_accuracy: 0.5893\n",
      "Epoch 42/200\n",
      "391/391 [==============================] - 8s 21ms/step - loss: 1.1422 - accuracy: 0.5988 - val_loss: 1.1639 - val_accuracy: 0.5850\n",
      "Epoch 43/200\n",
      "388/391 [============================>.] - ETA: 0s - loss: 1.1330 - accuracy: 0.6009"
     ]
    },
    {
     "name": "stderr",
     "output_type": "stream",
     "text": [
      "WARNING:absl:Found untraced functions such as _jit_compiled_convolution_op, _jit_compiled_convolution_op, _jit_compiled_convolution_op, _jit_compiled_convolution_op while saving (showing 4 of 4). These functions will not be directly callable after loading.\n"
     ]
    },
    {
     "name": "stdout",
     "output_type": "stream",
     "text": [
      "INFO:tensorflow:Assets written to: /root/jupyter/IHC/gain_proj/wandb/run-20230421_235459-s7e0224a/files/model-best/assets\n"
     ]
    },
    {
     "name": "stderr",
     "output_type": "stream",
     "text": [
      "INFO:tensorflow:Assets written to: /root/jupyter/IHC/gain_proj/wandb/run-20230421_235459-s7e0224a/files/model-best/assets\n",
      "\u001b[34m\u001b[1mwandb\u001b[0m: Adding directory to artifact (/root/jupyter/IHC/gain_proj/wandb/run-20230421_235459-s7e0224a/files/model-best)... Done. 0.0s\n"
     ]
    },
    {
     "name": "stdout",
     "output_type": "stream",
     "text": [
      "391/391 [==============================] - 10s 24ms/step - loss: 1.1334 - accuracy: 0.6007 - val_loss: 1.1405 - val_accuracy: 0.5937\n",
      "Epoch 44/200\n",
      "391/391 [==============================] - 9s 22ms/step - loss: 1.1306 - accuracy: 0.5999 - val_loss: 1.1706 - val_accuracy: 0.5824\n",
      "Epoch 45/200\n",
      "388/391 [============================>.] - ETA: 0s - loss: 1.1244 - accuracy: 0.6042"
     ]
    },
    {
     "name": "stderr",
     "output_type": "stream",
     "text": [
      "WARNING:absl:Found untraced functions such as _jit_compiled_convolution_op, _jit_compiled_convolution_op, _jit_compiled_convolution_op, _jit_compiled_convolution_op while saving (showing 4 of 4). These functions will not be directly callable after loading.\n"
     ]
    },
    {
     "name": "stdout",
     "output_type": "stream",
     "text": [
      "INFO:tensorflow:Assets written to: /root/jupyter/IHC/gain_proj/wandb/run-20230421_235459-s7e0224a/files/model-best/assets\n"
     ]
    },
    {
     "name": "stderr",
     "output_type": "stream",
     "text": [
      "INFO:tensorflow:Assets written to: /root/jupyter/IHC/gain_proj/wandb/run-20230421_235459-s7e0224a/files/model-best/assets\n",
      "\u001b[34m\u001b[1mwandb\u001b[0m: Adding directory to artifact (/root/jupyter/IHC/gain_proj/wandb/run-20230421_235459-s7e0224a/files/model-best)... Done. 0.0s\n"
     ]
    },
    {
     "name": "stdout",
     "output_type": "stream",
     "text": [
      "391/391 [==============================] - 9s 24ms/step - loss: 1.1240 - accuracy: 0.6044 - val_loss: 1.1349 - val_accuracy: 0.5954\n",
      "Epoch 46/200\n",
      "388/391 [============================>.] - ETA: 0s - loss: 1.1147 - accuracy: 0.6079"
     ]
    },
    {
     "name": "stderr",
     "output_type": "stream",
     "text": [
      "WARNING:absl:Found untraced functions such as _jit_compiled_convolution_op, _jit_compiled_convolution_op, _jit_compiled_convolution_op, _jit_compiled_convolution_op while saving (showing 4 of 4). These functions will not be directly callable after loading.\n"
     ]
    },
    {
     "name": "stdout",
     "output_type": "stream",
     "text": [
      "INFO:tensorflow:Assets written to: /root/jupyter/IHC/gain_proj/wandb/run-20230421_235459-s7e0224a/files/model-best/assets\n"
     ]
    },
    {
     "name": "stderr",
     "output_type": "stream",
     "text": [
      "INFO:tensorflow:Assets written to: /root/jupyter/IHC/gain_proj/wandb/run-20230421_235459-s7e0224a/files/model-best/assets\n",
      "\u001b[34m\u001b[1mwandb\u001b[0m: Adding directory to artifact (/root/jupyter/IHC/gain_proj/wandb/run-20230421_235459-s7e0224a/files/model-best)... Done. 0.0s\n"
     ]
    },
    {
     "name": "stdout",
     "output_type": "stream",
     "text": [
      "391/391 [==============================] - 9s 24ms/step - loss: 1.1141 - accuracy: 0.6081 - val_loss: 1.1282 - val_accuracy: 0.5991\n",
      "Epoch 47/200\n",
      "389/391 [============================>.] - ETA: 0s - loss: 1.1056 - accuracy: 0.6111"
     ]
    },
    {
     "name": "stderr",
     "output_type": "stream",
     "text": [
      "WARNING:absl:Found untraced functions such as _jit_compiled_convolution_op, _jit_compiled_convolution_op, _jit_compiled_convolution_op, _jit_compiled_convolution_op while saving (showing 4 of 4). These functions will not be directly callable after loading.\n"
     ]
    },
    {
     "name": "stdout",
     "output_type": "stream",
     "text": [
      "INFO:tensorflow:Assets written to: /root/jupyter/IHC/gain_proj/wandb/run-20230421_235459-s7e0224a/files/model-best/assets\n"
     ]
    },
    {
     "name": "stderr",
     "output_type": "stream",
     "text": [
      "INFO:tensorflow:Assets written to: /root/jupyter/IHC/gain_proj/wandb/run-20230421_235459-s7e0224a/files/model-best/assets\n",
      "\u001b[34m\u001b[1mwandb\u001b[0m: Adding directory to artifact (/root/jupyter/IHC/gain_proj/wandb/run-20230421_235459-s7e0224a/files/model-best)... Done. 0.0s\n"
     ]
    },
    {
     "name": "stdout",
     "output_type": "stream",
     "text": [
      "391/391 [==============================] - 10s 25ms/step - loss: 1.1060 - accuracy: 0.6111 - val_loss: 1.1006 - val_accuracy: 0.6115\n",
      "Epoch 48/200\n",
      "391/391 [==============================] - 8s 21ms/step - loss: 1.0982 - accuracy: 0.6155 - val_loss: 1.1036 - val_accuracy: 0.6056\n",
      "Epoch 49/200\n",
      "391/391 [==============================] - 8s 20ms/step - loss: 1.0944 - accuracy: 0.6141 - val_loss: 1.1022 - val_accuracy: 0.6091\n",
      "Epoch 50/200\n",
      "391/391 [==============================] - 8s 21ms/step - loss: 1.0893 - accuracy: 0.6174 - val_loss: 1.1067 - val_accuracy: 0.6067\n",
      "Epoch 51/200\n",
      "391/391 [==============================] - 8s 21ms/step - loss: 1.0834 - accuracy: 0.6181 - val_loss: 1.1114 - val_accuracy: 0.6066\n",
      "Epoch 52/200\n",
      "385/391 [============================>.] - ETA: 0s - loss: 1.0765 - accuracy: 0.6228"
     ]
    },
    {
     "name": "stderr",
     "output_type": "stream",
     "text": [
      "WARNING:absl:Found untraced functions such as _jit_compiled_convolution_op, _jit_compiled_convolution_op, _jit_compiled_convolution_op, _jit_compiled_convolution_op while saving (showing 4 of 4). These functions will not be directly callable after loading.\n"
     ]
    },
    {
     "name": "stdout",
     "output_type": "stream",
     "text": [
      "INFO:tensorflow:Assets written to: /root/jupyter/IHC/gain_proj/wandb/run-20230421_235459-s7e0224a/files/model-best/assets\n"
     ]
    },
    {
     "name": "stderr",
     "output_type": "stream",
     "text": [
      "INFO:tensorflow:Assets written to: /root/jupyter/IHC/gain_proj/wandb/run-20230421_235459-s7e0224a/files/model-best/assets\n",
      "\u001b[34m\u001b[1mwandb\u001b[0m: Adding directory to artifact (/root/jupyter/IHC/gain_proj/wandb/run-20230421_235459-s7e0224a/files/model-best)... Done. 0.0s\n"
     ]
    },
    {
     "name": "stdout",
     "output_type": "stream",
     "text": [
      "391/391 [==============================] - 10s 25ms/step - loss: 1.0764 - accuracy: 0.6228 - val_loss: 1.0758 - val_accuracy: 0.6154\n",
      "Epoch 53/200\n",
      "391/391 [==============================] - ETA: 0s - loss: 1.0700 - accuracy: 0.6237"
     ]
    },
    {
     "name": "stderr",
     "output_type": "stream",
     "text": [
      "WARNING:absl:Found untraced functions such as _jit_compiled_convolution_op, _jit_compiled_convolution_op, _jit_compiled_convolution_op, _jit_compiled_convolution_op while saving (showing 4 of 4). These functions will not be directly callable after loading.\n"
     ]
    },
    {
     "name": "stdout",
     "output_type": "stream",
     "text": [
      "INFO:tensorflow:Assets written to: /root/jupyter/IHC/gain_proj/wandb/run-20230421_235459-s7e0224a/files/model-best/assets\n"
     ]
    },
    {
     "name": "stderr",
     "output_type": "stream",
     "text": [
      "INFO:tensorflow:Assets written to: /root/jupyter/IHC/gain_proj/wandb/run-20230421_235459-s7e0224a/files/model-best/assets\n",
      "\u001b[34m\u001b[1mwandb\u001b[0m: Adding directory to artifact (/root/jupyter/IHC/gain_proj/wandb/run-20230421_235459-s7e0224a/files/model-best)... Done. 0.0s\n"
     ]
    },
    {
     "name": "stdout",
     "output_type": "stream",
     "text": [
      "391/391 [==============================] - 10s 24ms/step - loss: 1.0700 - accuracy: 0.6237 - val_loss: 1.0756 - val_accuracy: 0.6166\n",
      "Epoch 54/200\n",
      "391/391 [==============================] - 8s 21ms/step - loss: 1.0653 - accuracy: 0.6246 - val_loss: 1.0913 - val_accuracy: 0.6107\n",
      "Epoch 55/200\n",
      "390/391 [============================>.] - ETA: 0s - loss: 1.0587 - accuracy: 0.6285"
     ]
    },
    {
     "name": "stderr",
     "output_type": "stream",
     "text": [
      "WARNING:absl:Found untraced functions such as _jit_compiled_convolution_op, _jit_compiled_convolution_op, _jit_compiled_convolution_op, _jit_compiled_convolution_op while saving (showing 4 of 4). These functions will not be directly callable after loading.\n"
     ]
    },
    {
     "name": "stdout",
     "output_type": "stream",
     "text": [
      "INFO:tensorflow:Assets written to: /root/jupyter/IHC/gain_proj/wandb/run-20230421_235459-s7e0224a/files/model-best/assets\n"
     ]
    },
    {
     "name": "stderr",
     "output_type": "stream",
     "text": [
      "INFO:tensorflow:Assets written to: /root/jupyter/IHC/gain_proj/wandb/run-20230421_235459-s7e0224a/files/model-best/assets\n",
      "\u001b[34m\u001b[1mwandb\u001b[0m: Adding directory to artifact (/root/jupyter/IHC/gain_proj/wandb/run-20230421_235459-s7e0224a/files/model-best)... Done. 0.0s\n"
     ]
    },
    {
     "name": "stdout",
     "output_type": "stream",
     "text": [
      "391/391 [==============================] - 10s 25ms/step - loss: 1.0588 - accuracy: 0.6284 - val_loss: 1.0654 - val_accuracy: 0.6236\n",
      "Epoch 56/200\n",
      "385/391 [============================>.] - ETA: 0s - loss: 1.0548 - accuracy: 0.6282"
     ]
    },
    {
     "name": "stderr",
     "output_type": "stream",
     "text": [
      "WARNING:absl:Found untraced functions such as _jit_compiled_convolution_op, _jit_compiled_convolution_op, _jit_compiled_convolution_op, _jit_compiled_convolution_op while saving (showing 4 of 4). These functions will not be directly callable after loading.\n"
     ]
    },
    {
     "name": "stdout",
     "output_type": "stream",
     "text": [
      "INFO:tensorflow:Assets written to: /root/jupyter/IHC/gain_proj/wandb/run-20230421_235459-s7e0224a/files/model-best/assets\n"
     ]
    },
    {
     "name": "stderr",
     "output_type": "stream",
     "text": [
      "INFO:tensorflow:Assets written to: /root/jupyter/IHC/gain_proj/wandb/run-20230421_235459-s7e0224a/files/model-best/assets\n",
      "\u001b[34m\u001b[1mwandb\u001b[0m: Adding directory to artifact (/root/jupyter/IHC/gain_proj/wandb/run-20230421_235459-s7e0224a/files/model-best)... Done. 0.0s\n"
     ]
    },
    {
     "name": "stdout",
     "output_type": "stream",
     "text": [
      "391/391 [==============================] - 10s 24ms/step - loss: 1.0548 - accuracy: 0.6281 - val_loss: 1.0599 - val_accuracy: 0.6254\n",
      "Epoch 57/200\n",
      "391/391 [==============================] - 8s 21ms/step - loss: 1.0469 - accuracy: 0.6317 - val_loss: 1.0794 - val_accuracy: 0.6176\n",
      "Epoch 58/200\n",
      "391/391 [==============================] - 8s 21ms/step - loss: 1.0439 - accuracy: 0.6350 - val_loss: 1.0869 - val_accuracy: 0.6152\n",
      "Epoch 59/200\n",
      "390/391 [============================>.] - ETA: 0s - loss: 1.0405 - accuracy: 0.6326"
     ]
    },
    {
     "name": "stderr",
     "output_type": "stream",
     "text": [
      "WARNING:absl:Found untraced functions such as _jit_compiled_convolution_op, _jit_compiled_convolution_op, _jit_compiled_convolution_op, _jit_compiled_convolution_op while saving (showing 4 of 4). These functions will not be directly callable after loading.\n"
     ]
    },
    {
     "name": "stdout",
     "output_type": "stream",
     "text": [
      "INFO:tensorflow:Assets written to: /root/jupyter/IHC/gain_proj/wandb/run-20230421_235459-s7e0224a/files/model-best/assets\n"
     ]
    },
    {
     "name": "stderr",
     "output_type": "stream",
     "text": [
      "INFO:tensorflow:Assets written to: /root/jupyter/IHC/gain_proj/wandb/run-20230421_235459-s7e0224a/files/model-best/assets\n",
      "\u001b[34m\u001b[1mwandb\u001b[0m: Adding directory to artifact (/root/jupyter/IHC/gain_proj/wandb/run-20230421_235459-s7e0224a/files/model-best)... Done. 0.0s\n"
     ]
    },
    {
     "name": "stdout",
     "output_type": "stream",
     "text": [
      "391/391 [==============================] - 10s 25ms/step - loss: 1.0403 - accuracy: 0.6325 - val_loss: 1.0480 - val_accuracy: 0.6295\n",
      "Epoch 60/200\n",
      "391/391 [==============================] - 8s 21ms/step - loss: 1.0283 - accuracy: 0.6393 - val_loss: 1.0408 - val_accuracy: 0.6278\n",
      "Epoch 61/200\n",
      "391/391 [==============================] - 8s 21ms/step - loss: 1.0259 - accuracy: 0.6410 - val_loss: 1.0590 - val_accuracy: 0.6253\n",
      "Epoch 62/200\n",
      "387/391 [============================>.] - ETA: 0s - loss: 1.0209 - accuracy: 0.6432"
     ]
    },
    {
     "name": "stderr",
     "output_type": "stream",
     "text": [
      "WARNING:absl:Found untraced functions such as _jit_compiled_convolution_op, _jit_compiled_convolution_op, _jit_compiled_convolution_op, _jit_compiled_convolution_op while saving (showing 4 of 4). These functions will not be directly callable after loading.\n"
     ]
    },
    {
     "name": "stdout",
     "output_type": "stream",
     "text": [
      "INFO:tensorflow:Assets written to: /root/jupyter/IHC/gain_proj/wandb/run-20230421_235459-s7e0224a/files/model-best/assets\n"
     ]
    },
    {
     "name": "stderr",
     "output_type": "stream",
     "text": [
      "INFO:tensorflow:Assets written to: /root/jupyter/IHC/gain_proj/wandb/run-20230421_235459-s7e0224a/files/model-best/assets\n",
      "\u001b[34m\u001b[1mwandb\u001b[0m: Adding directory to artifact (/root/jupyter/IHC/gain_proj/wandb/run-20230421_235459-s7e0224a/files/model-best)... Done. 0.0s\n"
     ]
    },
    {
     "name": "stdout",
     "output_type": "stream",
     "text": [
      "391/391 [==============================] - 10s 25ms/step - loss: 1.0207 - accuracy: 0.6433 - val_loss: 1.0383 - val_accuracy: 0.6336\n",
      "Epoch 63/200\n",
      "384/391 [============================>.] - ETA: 0s - loss: 1.0179 - accuracy: 0.6419"
     ]
    },
    {
     "name": "stderr",
     "output_type": "stream",
     "text": [
      "WARNING:absl:Found untraced functions such as _jit_compiled_convolution_op, _jit_compiled_convolution_op, _jit_compiled_convolution_op, _jit_compiled_convolution_op while saving (showing 4 of 4). These functions will not be directly callable after loading.\n"
     ]
    },
    {
     "name": "stdout",
     "output_type": "stream",
     "text": [
      "INFO:tensorflow:Assets written to: /root/jupyter/IHC/gain_proj/wandb/run-20230421_235459-s7e0224a/files/model-best/assets\n"
     ]
    },
    {
     "name": "stderr",
     "output_type": "stream",
     "text": [
      "INFO:tensorflow:Assets written to: /root/jupyter/IHC/gain_proj/wandb/run-20230421_235459-s7e0224a/files/model-best/assets\n",
      "\u001b[34m\u001b[1mwandb\u001b[0m: Adding directory to artifact (/root/jupyter/IHC/gain_proj/wandb/run-20230421_235459-s7e0224a/files/model-best)... Done. 0.0s\n"
     ]
    },
    {
     "name": "stdout",
     "output_type": "stream",
     "text": [
      "391/391 [==============================] - 10s 25ms/step - loss: 1.0175 - accuracy: 0.6422 - val_loss: 1.0248 - val_accuracy: 0.6414\n",
      "Epoch 64/200\n",
      "391/391 [==============================] - 8s 21ms/step - loss: 1.0163 - accuracy: 0.6440 - val_loss: 1.0270 - val_accuracy: 0.6350\n",
      "Epoch 65/200\n",
      "384/391 [============================>.] - ETA: 0s - loss: 1.0080 - accuracy: 0.6448"
     ]
    },
    {
     "name": "stderr",
     "output_type": "stream",
     "text": [
      "WARNING:absl:Found untraced functions such as _jit_compiled_convolution_op, _jit_compiled_convolution_op, _jit_compiled_convolution_op, _jit_compiled_convolution_op while saving (showing 4 of 4). These functions will not be directly callable after loading.\n"
     ]
    },
    {
     "name": "stdout",
     "output_type": "stream",
     "text": [
      "INFO:tensorflow:Assets written to: /root/jupyter/IHC/gain_proj/wandb/run-20230421_235459-s7e0224a/files/model-best/assets\n"
     ]
    },
    {
     "name": "stderr",
     "output_type": "stream",
     "text": [
      "INFO:tensorflow:Assets written to: /root/jupyter/IHC/gain_proj/wandb/run-20230421_235459-s7e0224a/files/model-best/assets\n",
      "\u001b[34m\u001b[1mwandb\u001b[0m: Adding directory to artifact (/root/jupyter/IHC/gain_proj/wandb/run-20230421_235459-s7e0224a/files/model-best)... Done. 0.0s\n"
     ]
    },
    {
     "name": "stdout",
     "output_type": "stream",
     "text": [
      "391/391 [==============================] - 10s 25ms/step - loss: 1.0090 - accuracy: 0.6445 - val_loss: 1.0130 - val_accuracy: 0.6419\n",
      "Epoch 66/200\n",
      "391/391 [==============================] - 9s 22ms/step - loss: 1.0034 - accuracy: 0.6465 - val_loss: 1.0395 - val_accuracy: 0.6306\n",
      "Epoch 67/200\n",
      "391/391 [==============================] - 8s 20ms/step - loss: 0.9984 - accuracy: 0.6514 - val_loss: 1.0213 - val_accuracy: 0.6402\n",
      "Epoch 68/200\n",
      "391/391 [==============================] - 8s 21ms/step - loss: 0.9936 - accuracy: 0.6502 - val_loss: 1.0214 - val_accuracy: 0.6382\n",
      "Epoch 69/200\n",
      "391/391 [==============================] - 8s 21ms/step - loss: 0.9912 - accuracy: 0.6511 - val_loss: 1.0367 - val_accuracy: 0.6344\n",
      "Epoch 70/200\n",
      "389/391 [============================>.] - ETA: 0s - loss: 0.9868 - accuracy: 0.6553"
     ]
    },
    {
     "name": "stderr",
     "output_type": "stream",
     "text": [
      "WARNING:absl:Found untraced functions such as _jit_compiled_convolution_op, _jit_compiled_convolution_op, _jit_compiled_convolution_op, _jit_compiled_convolution_op while saving (showing 4 of 4). These functions will not be directly callable after loading.\n"
     ]
    },
    {
     "name": "stdout",
     "output_type": "stream",
     "text": [
      "INFO:tensorflow:Assets written to: /root/jupyter/IHC/gain_proj/wandb/run-20230421_235459-s7e0224a/files/model-best/assets\n"
     ]
    },
    {
     "name": "stderr",
     "output_type": "stream",
     "text": [
      "INFO:tensorflow:Assets written to: /root/jupyter/IHC/gain_proj/wandb/run-20230421_235459-s7e0224a/files/model-best/assets\n",
      "\u001b[34m\u001b[1mwandb\u001b[0m: Adding directory to artifact (/root/jupyter/IHC/gain_proj/wandb/run-20230421_235459-s7e0224a/files/model-best)... Done. 0.0s\n"
     ]
    },
    {
     "name": "stdout",
     "output_type": "stream",
     "text": [
      "391/391 [==============================] - 10s 25ms/step - loss: 0.9871 - accuracy: 0.6554 - val_loss: 0.9917 - val_accuracy: 0.6487\n",
      "Epoch 71/200\n",
      "391/391 [==============================] - 8s 21ms/step - loss: 0.9850 - accuracy: 0.6545 - val_loss: 0.9986 - val_accuracy: 0.6417\n",
      "Epoch 72/200\n",
      "391/391 [==============================] - 8s 21ms/step - loss: 0.9772 - accuracy: 0.6567 - val_loss: 1.0093 - val_accuracy: 0.6416\n",
      "Epoch 73/200\n",
      "391/391 [==============================] - 9s 23ms/step - loss: 0.9748 - accuracy: 0.6571 - val_loss: 0.9969 - val_accuracy: 0.6458\n",
      "Epoch 74/200\n",
      "391/391 [==============================] - 8s 21ms/step - loss: 0.9693 - accuracy: 0.6611 - val_loss: 1.0152 - val_accuracy: 0.6415\n",
      "Epoch 75/200\n",
      "386/391 [============================>.] - ETA: 0s - loss: 0.9656 - accuracy: 0.6618"
     ]
    },
    {
     "name": "stderr",
     "output_type": "stream",
     "text": [
      "WARNING:absl:Found untraced functions such as _jit_compiled_convolution_op, _jit_compiled_convolution_op, _jit_compiled_convolution_op, _jit_compiled_convolution_op while saving (showing 4 of 4). These functions will not be directly callable after loading.\n"
     ]
    },
    {
     "name": "stdout",
     "output_type": "stream",
     "text": [
      "INFO:tensorflow:Assets written to: /root/jupyter/IHC/gain_proj/wandb/run-20230421_235459-s7e0224a/files/model-best/assets\n"
     ]
    },
    {
     "name": "stderr",
     "output_type": "stream",
     "text": [
      "INFO:tensorflow:Assets written to: /root/jupyter/IHC/gain_proj/wandb/run-20230421_235459-s7e0224a/files/model-best/assets\n",
      "\u001b[34m\u001b[1mwandb\u001b[0m: Adding directory to artifact (/root/jupyter/IHC/gain_proj/wandb/run-20230421_235459-s7e0224a/files/model-best)... Done. 0.0s\n"
     ]
    },
    {
     "name": "stdout",
     "output_type": "stream",
     "text": [
      "391/391 [==============================] - 10s 24ms/step - loss: 0.9657 - accuracy: 0.6617 - val_loss: 0.9769 - val_accuracy: 0.6561\n",
      "Epoch 76/200\n",
      "391/391 [==============================] - 8s 21ms/step - loss: 0.9625 - accuracy: 0.6620 - val_loss: 0.9705 - val_accuracy: 0.6560\n",
      "Epoch 77/200\n",
      "391/391 [==============================] - 8s 21ms/step - loss: 0.9566 - accuracy: 0.6643 - val_loss: 0.9936 - val_accuracy: 0.6530\n",
      "Epoch 78/200\n",
      "391/391 [==============================] - 8s 21ms/step - loss: 0.9473 - accuracy: 0.6682 - val_loss: 0.9917 - val_accuracy: 0.6507\n",
      "Epoch 79/200\n",
      "390/391 [============================>.] - ETA: 0s - loss: 0.9503 - accuracy: 0.6671"
     ]
    },
    {
     "name": "stderr",
     "output_type": "stream",
     "text": [
      "WARNING:absl:Found untraced functions such as _jit_compiled_convolution_op, _jit_compiled_convolution_op, _jit_compiled_convolution_op, _jit_compiled_convolution_op while saving (showing 4 of 4). These functions will not be directly callable after loading.\n"
     ]
    },
    {
     "name": "stdout",
     "output_type": "stream",
     "text": [
      "INFO:tensorflow:Assets written to: /root/jupyter/IHC/gain_proj/wandb/run-20230421_235459-s7e0224a/files/model-best/assets\n"
     ]
    },
    {
     "name": "stderr",
     "output_type": "stream",
     "text": [
      "INFO:tensorflow:Assets written to: /root/jupyter/IHC/gain_proj/wandb/run-20230421_235459-s7e0224a/files/model-best/assets\n",
      "\u001b[34m\u001b[1mwandb\u001b[0m: Adding directory to artifact (/root/jupyter/IHC/gain_proj/wandb/run-20230421_235459-s7e0224a/files/model-best)... Done. 0.0s\n"
     ]
    },
    {
     "name": "stdout",
     "output_type": "stream",
     "text": [
      "391/391 [==============================] - 10s 25ms/step - loss: 0.9499 - accuracy: 0.6671 - val_loss: 0.9743 - val_accuracy: 0.6576\n",
      "Epoch 80/200\n",
      "391/391 [==============================] - 8s 22ms/step - loss: 0.9447 - accuracy: 0.6681 - val_loss: 0.9883 - val_accuracy: 0.6522\n",
      "Epoch 81/200\n",
      "386/391 [============================>.] - ETA: 0s - loss: 0.9418 - accuracy: 0.6718"
     ]
    },
    {
     "name": "stderr",
     "output_type": "stream",
     "text": [
      "WARNING:absl:Found untraced functions such as _jit_compiled_convolution_op, _jit_compiled_convolution_op, _jit_compiled_convolution_op, _jit_compiled_convolution_op while saving (showing 4 of 4). These functions will not be directly callable after loading.\n"
     ]
    },
    {
     "name": "stdout",
     "output_type": "stream",
     "text": [
      "INFO:tensorflow:Assets written to: /root/jupyter/IHC/gain_proj/wandb/run-20230421_235459-s7e0224a/files/model-best/assets\n"
     ]
    },
    {
     "name": "stderr",
     "output_type": "stream",
     "text": [
      "INFO:tensorflow:Assets written to: /root/jupyter/IHC/gain_proj/wandb/run-20230421_235459-s7e0224a/files/model-best/assets\n",
      "\u001b[34m\u001b[1mwandb\u001b[0m: Adding directory to artifact (/root/jupyter/IHC/gain_proj/wandb/run-20230421_235459-s7e0224a/files/model-best)... Done. 0.0s\n"
     ]
    },
    {
     "name": "stdout",
     "output_type": "stream",
     "text": [
      "391/391 [==============================] - 10s 26ms/step - loss: 0.9414 - accuracy: 0.6719 - val_loss: 0.9702 - val_accuracy: 0.6589\n",
      "Epoch 82/200\n",
      "388/391 [============================>.] - ETA: 0s - loss: 0.9375 - accuracy: 0.6730"
     ]
    },
    {
     "name": "stderr",
     "output_type": "stream",
     "text": [
      "WARNING:absl:Found untraced functions such as _jit_compiled_convolution_op, _jit_compiled_convolution_op, _jit_compiled_convolution_op, _jit_compiled_convolution_op while saving (showing 4 of 4). These functions will not be directly callable after loading.\n"
     ]
    },
    {
     "name": "stdout",
     "output_type": "stream",
     "text": [
      "INFO:tensorflow:Assets written to: /root/jupyter/IHC/gain_proj/wandb/run-20230421_235459-s7e0224a/files/model-best/assets\n"
     ]
    },
    {
     "name": "stderr",
     "output_type": "stream",
     "text": [
      "INFO:tensorflow:Assets written to: /root/jupyter/IHC/gain_proj/wandb/run-20230421_235459-s7e0224a/files/model-best/assets\n",
      "\u001b[34m\u001b[1mwandb\u001b[0m: Adding directory to artifact (/root/jupyter/IHC/gain_proj/wandb/run-20230421_235459-s7e0224a/files/model-best)... Done. 0.0s\n"
     ]
    },
    {
     "name": "stdout",
     "output_type": "stream",
     "text": [
      "391/391 [==============================] - 10s 25ms/step - loss: 0.9376 - accuracy: 0.6730 - val_loss: 0.9602 - val_accuracy: 0.6638\n",
      "Epoch 83/200\n",
      "388/391 [============================>.] - ETA: 0s - loss: 0.9292 - accuracy: 0.6764"
     ]
    },
    {
     "name": "stderr",
     "output_type": "stream",
     "text": [
      "WARNING:absl:Found untraced functions such as _jit_compiled_convolution_op, _jit_compiled_convolution_op, _jit_compiled_convolution_op, _jit_compiled_convolution_op while saving (showing 4 of 4). These functions will not be directly callable after loading.\n"
     ]
    },
    {
     "name": "stdout",
     "output_type": "stream",
     "text": [
      "INFO:tensorflow:Assets written to: /root/jupyter/IHC/gain_proj/wandb/run-20230421_235459-s7e0224a/files/model-best/assets\n"
     ]
    },
    {
     "name": "stderr",
     "output_type": "stream",
     "text": [
      "INFO:tensorflow:Assets written to: /root/jupyter/IHC/gain_proj/wandb/run-20230421_235459-s7e0224a/files/model-best/assets\n",
      "\u001b[34m\u001b[1mwandb\u001b[0m: Adding directory to artifact (/root/jupyter/IHC/gain_proj/wandb/run-20230421_235459-s7e0224a/files/model-best)... Done. 0.0s\n"
     ]
    },
    {
     "name": "stdout",
     "output_type": "stream",
     "text": [
      "391/391 [==============================] - 10s 25ms/step - loss: 0.9302 - accuracy: 0.6760 - val_loss: 0.9578 - val_accuracy: 0.6647\n",
      "Epoch 84/200\n",
      "391/391 [==============================] - 8s 21ms/step - loss: 0.9305 - accuracy: 0.6758 - val_loss: 0.9777 - val_accuracy: 0.6602\n",
      "Epoch 85/200\n",
      "391/391 [==============================] - 8s 21ms/step - loss: 0.9263 - accuracy: 0.6749 - val_loss: 0.9771 - val_accuracy: 0.6599\n",
      "Epoch 86/200\n",
      "391/391 [==============================] - 8s 21ms/step - loss: 0.9218 - accuracy: 0.6775 - val_loss: 0.9786 - val_accuracy: 0.6522\n",
      "Epoch 87/200\n",
      "386/391 [============================>.] - ETA: 0s - loss: 0.9201 - accuracy: 0.6781"
     ]
    },
    {
     "name": "stderr",
     "output_type": "stream",
     "text": [
      "WARNING:absl:Found untraced functions such as _jit_compiled_convolution_op, _jit_compiled_convolution_op, _jit_compiled_convolution_op, _jit_compiled_convolution_op while saving (showing 4 of 4). These functions will not be directly callable after loading.\n"
     ]
    },
    {
     "name": "stdout",
     "output_type": "stream",
     "text": [
      "INFO:tensorflow:Assets written to: /root/jupyter/IHC/gain_proj/wandb/run-20230421_235459-s7e0224a/files/model-best/assets\n"
     ]
    },
    {
     "name": "stderr",
     "output_type": "stream",
     "text": [
      "INFO:tensorflow:Assets written to: /root/jupyter/IHC/gain_proj/wandb/run-20230421_235459-s7e0224a/files/model-best/assets\n",
      "\u001b[34m\u001b[1mwandb\u001b[0m: Adding directory to artifact (/root/jupyter/IHC/gain_proj/wandb/run-20230421_235459-s7e0224a/files/model-best)... Done. 0.0s\n"
     ]
    },
    {
     "name": "stdout",
     "output_type": "stream",
     "text": [
      "391/391 [==============================] - 9s 24ms/step - loss: 0.9200 - accuracy: 0.6778 - val_loss: 0.9380 - val_accuracy: 0.6728\n",
      "Epoch 88/200\n",
      "391/391 [==============================] - 9s 24ms/step - loss: 0.9123 - accuracy: 0.6827 - val_loss: 0.9474 - val_accuracy: 0.6676\n",
      "Epoch 89/200\n",
      "391/391 [==============================] - 8s 21ms/step - loss: 0.9117 - accuracy: 0.6800 - val_loss: 0.9459 - val_accuracy: 0.6651\n",
      "Epoch 90/200\n",
      "391/391 [==============================] - 8s 21ms/step - loss: 0.9071 - accuracy: 0.6802 - val_loss: 0.9514 - val_accuracy: 0.6654\n",
      "Epoch 91/200\n",
      "391/391 [==============================] - 8s 21ms/step - loss: 0.9038 - accuracy: 0.6828 - val_loss: 0.9391 - val_accuracy: 0.6693\n",
      "Epoch 92/200\n",
      "385/391 [============================>.] - ETA: 0s - loss: 0.9031 - accuracy: 0.6845"
     ]
    },
    {
     "name": "stderr",
     "output_type": "stream",
     "text": [
      "WARNING:absl:Found untraced functions such as _jit_compiled_convolution_op, _jit_compiled_convolution_op, _jit_compiled_convolution_op, _jit_compiled_convolution_op while saving (showing 4 of 4). These functions will not be directly callable after loading.\n"
     ]
    },
    {
     "name": "stdout",
     "output_type": "stream",
     "text": [
      "INFO:tensorflow:Assets written to: /root/jupyter/IHC/gain_proj/wandb/run-20230421_235459-s7e0224a/files/model-best/assets\n"
     ]
    },
    {
     "name": "stderr",
     "output_type": "stream",
     "text": [
      "INFO:tensorflow:Assets written to: /root/jupyter/IHC/gain_proj/wandb/run-20230421_235459-s7e0224a/files/model-best/assets\n",
      "\u001b[34m\u001b[1mwandb\u001b[0m: Adding directory to artifact (/root/jupyter/IHC/gain_proj/wandb/run-20230421_235459-s7e0224a/files/model-best)... Done. 0.0s\n"
     ]
    },
    {
     "name": "stdout",
     "output_type": "stream",
     "text": [
      "391/391 [==============================] - 10s 25ms/step - loss: 0.9025 - accuracy: 0.6848 - val_loss: 0.9332 - val_accuracy: 0.6743\n",
      "Epoch 93/200\n",
      "391/391 [==============================] - 8s 21ms/step - loss: 0.8987 - accuracy: 0.6829 - val_loss: 0.9412 - val_accuracy: 0.6696\n",
      "Epoch 94/200\n",
      "391/391 [==============================] - 8s 21ms/step - loss: 0.9001 - accuracy: 0.6848 - val_loss: 0.9378 - val_accuracy: 0.6713\n",
      "Epoch 95/200\n",
      "391/391 [==============================] - 9s 23ms/step - loss: 0.8956 - accuracy: 0.6855 - val_loss: 0.9384 - val_accuracy: 0.6702\n",
      "Epoch 96/200\n",
      "391/391 [==============================] - 8s 21ms/step - loss: 0.8876 - accuracy: 0.6886 - val_loss: 0.9421 - val_accuracy: 0.6691\n",
      "Epoch 97/200\n",
      "391/391 [==============================] - 8s 21ms/step - loss: 0.8876 - accuracy: 0.6891 - val_loss: 0.9325 - val_accuracy: 0.6705\n",
      "Epoch 98/200\n",
      "387/391 [============================>.] - ETA: 0s - loss: 0.8833 - accuracy: 0.6908"
     ]
    },
    {
     "name": "stderr",
     "output_type": "stream",
     "text": [
      "WARNING:absl:Found untraced functions such as _jit_compiled_convolution_op, _jit_compiled_convolution_op, _jit_compiled_convolution_op, _jit_compiled_convolution_op while saving (showing 4 of 4). These functions will not be directly callable after loading.\n"
     ]
    },
    {
     "name": "stdout",
     "output_type": "stream",
     "text": [
      "INFO:tensorflow:Assets written to: /root/jupyter/IHC/gain_proj/wandb/run-20230421_235459-s7e0224a/files/model-best/assets\n"
     ]
    },
    {
     "name": "stderr",
     "output_type": "stream",
     "text": [
      "INFO:tensorflow:Assets written to: /root/jupyter/IHC/gain_proj/wandb/run-20230421_235459-s7e0224a/files/model-best/assets\n",
      "\u001b[34m\u001b[1mwandb\u001b[0m: Adding directory to artifact (/root/jupyter/IHC/gain_proj/wandb/run-20230421_235459-s7e0224a/files/model-best)... Done. 0.0s\n"
     ]
    },
    {
     "name": "stdout",
     "output_type": "stream",
     "text": [
      "391/391 [==============================] - 10s 25ms/step - loss: 0.8829 - accuracy: 0.6908 - val_loss: 0.9283 - val_accuracy: 0.6781\n",
      "Epoch 99/200\n",
      "388/391 [============================>.] - ETA: 0s - loss: 0.8791 - accuracy: 0.6916"
     ]
    },
    {
     "name": "stderr",
     "output_type": "stream",
     "text": [
      "WARNING:absl:Found untraced functions such as _jit_compiled_convolution_op, _jit_compiled_convolution_op, _jit_compiled_convolution_op, _jit_compiled_convolution_op while saving (showing 4 of 4). These functions will not be directly callable after loading.\n"
     ]
    },
    {
     "name": "stdout",
     "output_type": "stream",
     "text": [
      "INFO:tensorflow:Assets written to: /root/jupyter/IHC/gain_proj/wandb/run-20230421_235459-s7e0224a/files/model-best/assets\n"
     ]
    },
    {
     "name": "stderr",
     "output_type": "stream",
     "text": [
      "INFO:tensorflow:Assets written to: /root/jupyter/IHC/gain_proj/wandb/run-20230421_235459-s7e0224a/files/model-best/assets\n",
      "\u001b[34m\u001b[1mwandb\u001b[0m: Adding directory to artifact (/root/jupyter/IHC/gain_proj/wandb/run-20230421_235459-s7e0224a/files/model-best)... Done. 0.0s\n"
     ]
    },
    {
     "name": "stdout",
     "output_type": "stream",
     "text": [
      "391/391 [==============================] - 10s 25ms/step - loss: 0.8797 - accuracy: 0.6916 - val_loss: 0.9232 - val_accuracy: 0.6799\n",
      "Epoch 100/200\n",
      "391/391 [==============================] - 8s 19ms/step - loss: 0.8757 - accuracy: 0.6926 - val_loss: 0.9158 - val_accuracy: 0.6785\n",
      "Epoch 101/200\n",
      "387/391 [============================>.] - ETA: 0s - loss: 0.8766 - accuracy: 0.6919"
     ]
    },
    {
     "name": "stderr",
     "output_type": "stream",
     "text": [
      "WARNING:absl:Found untraced functions such as _jit_compiled_convolution_op, _jit_compiled_convolution_op, _jit_compiled_convolution_op, _jit_compiled_convolution_op while saving (showing 4 of 4). These functions will not be directly callable after loading.\n"
     ]
    },
    {
     "name": "stdout",
     "output_type": "stream",
     "text": [
      "INFO:tensorflow:Assets written to: /root/jupyter/IHC/gain_proj/wandb/run-20230421_235459-s7e0224a/files/model-best/assets\n"
     ]
    },
    {
     "name": "stderr",
     "output_type": "stream",
     "text": [
      "INFO:tensorflow:Assets written to: /root/jupyter/IHC/gain_proj/wandb/run-20230421_235459-s7e0224a/files/model-best/assets\n",
      "\u001b[34m\u001b[1mwandb\u001b[0m: Adding directory to artifact (/root/jupyter/IHC/gain_proj/wandb/run-20230421_235459-s7e0224a/files/model-best)... Done. 0.0s\n"
     ]
    },
    {
     "name": "stdout",
     "output_type": "stream",
     "text": [
      "391/391 [==============================] - 10s 24ms/step - loss: 0.8758 - accuracy: 0.6924 - val_loss: 0.9134 - val_accuracy: 0.6837\n",
      "Epoch 102/200\n",
      "391/391 [==============================] - 8s 21ms/step - loss: 0.8722 - accuracy: 0.6955 - val_loss: 0.9106 - val_accuracy: 0.6808\n",
      "Epoch 103/200\n",
      "391/391 [==============================] - 8s 22ms/step - loss: 0.8698 - accuracy: 0.6946 - val_loss: 0.9148 - val_accuracy: 0.6806\n",
      "Epoch 104/200\n",
      "391/391 [==============================] - 8s 21ms/step - loss: 0.8647 - accuracy: 0.6989 - val_loss: 0.9184 - val_accuracy: 0.6788\n",
      "Epoch 105/200\n",
      "391/391 [==============================] - 8s 21ms/step - loss: 0.8627 - accuracy: 0.6983 - val_loss: 0.9193 - val_accuracy: 0.6773\n",
      "Epoch 106/200\n",
      "386/391 [============================>.] - ETA: 0s - loss: 0.8598 - accuracy: 0.6999"
     ]
    },
    {
     "name": "stderr",
     "output_type": "stream",
     "text": [
      "WARNING:absl:Found untraced functions such as _jit_compiled_convolution_op, _jit_compiled_convolution_op, _jit_compiled_convolution_op, _jit_compiled_convolution_op while saving (showing 4 of 4). These functions will not be directly callable after loading.\n"
     ]
    },
    {
     "name": "stdout",
     "output_type": "stream",
     "text": [
      "INFO:tensorflow:Assets written to: /root/jupyter/IHC/gain_proj/wandb/run-20230421_235459-s7e0224a/files/model-best/assets\n"
     ]
    },
    {
     "name": "stderr",
     "output_type": "stream",
     "text": [
      "INFO:tensorflow:Assets written to: /root/jupyter/IHC/gain_proj/wandb/run-20230421_235459-s7e0224a/files/model-best/assets\n",
      "\u001b[34m\u001b[1mwandb\u001b[0m: Adding directory to artifact (/root/jupyter/IHC/gain_proj/wandb/run-20230421_235459-s7e0224a/files/model-best)... Done. 0.0s\n"
     ]
    },
    {
     "name": "stdout",
     "output_type": "stream",
     "text": [
      "391/391 [==============================] - 10s 24ms/step - loss: 0.8600 - accuracy: 0.6998 - val_loss: 0.8955 - val_accuracy: 0.6884\n",
      "Epoch 107/200\n",
      "391/391 [==============================] - 8s 21ms/step - loss: 0.8550 - accuracy: 0.7005 - val_loss: 0.9059 - val_accuracy: 0.6832\n",
      "Epoch 108/200\n",
      "391/391 [==============================] - 8s 21ms/step - loss: 0.8570 - accuracy: 0.7001 - val_loss: 0.9120 - val_accuracy: 0.6840\n",
      "Epoch 109/200\n",
      "391/391 [==============================] - 8s 21ms/step - loss: 0.8478 - accuracy: 0.7003 - val_loss: 0.8976 - val_accuracy: 0.6834\n",
      "Epoch 110/200\n",
      "391/391 [==============================] - 9s 23ms/step - loss: 0.8476 - accuracy: 0.7022 - val_loss: 0.8950 - val_accuracy: 0.6871\n",
      "Epoch 111/200\n",
      "389/391 [============================>.] - ETA: 0s - loss: 0.8412 - accuracy: 0.7060"
     ]
    },
    {
     "name": "stderr",
     "output_type": "stream",
     "text": [
      "WARNING:absl:Found untraced functions such as _jit_compiled_convolution_op, _jit_compiled_convolution_op, _jit_compiled_convolution_op, _jit_compiled_convolution_op while saving (showing 4 of 4). These functions will not be directly callable after loading.\n"
     ]
    },
    {
     "name": "stdout",
     "output_type": "stream",
     "text": [
      "INFO:tensorflow:Assets written to: /root/jupyter/IHC/gain_proj/wandb/run-20230421_235459-s7e0224a/files/model-best/assets\n"
     ]
    },
    {
     "name": "stderr",
     "output_type": "stream",
     "text": [
      "INFO:tensorflow:Assets written to: /root/jupyter/IHC/gain_proj/wandb/run-20230421_235459-s7e0224a/files/model-best/assets\n",
      "\u001b[34m\u001b[1mwandb\u001b[0m: Adding directory to artifact (/root/jupyter/IHC/gain_proj/wandb/run-20230421_235459-s7e0224a/files/model-best)... Done. 0.0s\n"
     ]
    },
    {
     "name": "stdout",
     "output_type": "stream",
     "text": [
      "391/391 [==============================] - 10s 25ms/step - loss: 0.8413 - accuracy: 0.7059 - val_loss: 0.8992 - val_accuracy: 0.6889\n",
      "Epoch 112/200\n",
      "391/391 [==============================] - 9s 22ms/step - loss: 0.8407 - accuracy: 0.7031 - val_loss: 0.9110 - val_accuracy: 0.6839\n",
      "Epoch 113/200\n",
      "391/391 [==============================] - 9s 22ms/step - loss: 0.8390 - accuracy: 0.7071 - val_loss: 0.9024 - val_accuracy: 0.6869\n",
      "Epoch 114/200\n",
      "387/391 [============================>.] - ETA: 0s - loss: 0.8351 - accuracy: 0.7070"
     ]
    },
    {
     "name": "stderr",
     "output_type": "stream",
     "text": [
      "WARNING:absl:Found untraced functions such as _jit_compiled_convolution_op, _jit_compiled_convolution_op, _jit_compiled_convolution_op, _jit_compiled_convolution_op while saving (showing 4 of 4). These functions will not be directly callable after loading.\n"
     ]
    },
    {
     "name": "stdout",
     "output_type": "stream",
     "text": [
      "INFO:tensorflow:Assets written to: /root/jupyter/IHC/gain_proj/wandb/run-20230421_235459-s7e0224a/files/model-best/assets\n"
     ]
    },
    {
     "name": "stderr",
     "output_type": "stream",
     "text": [
      "INFO:tensorflow:Assets written to: /root/jupyter/IHC/gain_proj/wandb/run-20230421_235459-s7e0224a/files/model-best/assets\n",
      "\u001b[34m\u001b[1mwandb\u001b[0m: Adding directory to artifact (/root/jupyter/IHC/gain_proj/wandb/run-20230421_235459-s7e0224a/files/model-best)... Done. 0.0s\n"
     ]
    },
    {
     "name": "stdout",
     "output_type": "stream",
     "text": [
      "391/391 [==============================] - 10s 26ms/step - loss: 0.8348 - accuracy: 0.7071 - val_loss: 0.8977 - val_accuracy: 0.6899\n",
      "Epoch 115/200\n",
      "391/391 [==============================] - 8s 21ms/step - loss: 0.8355 - accuracy: 0.7072 - val_loss: 0.9063 - val_accuracy: 0.6840\n",
      "Epoch 116/200\n",
      "388/391 [============================>.] - ETA: 0s - loss: 0.8315 - accuracy: 0.7091"
     ]
    },
    {
     "name": "stderr",
     "output_type": "stream",
     "text": [
      "WARNING:absl:Found untraced functions such as _jit_compiled_convolution_op, _jit_compiled_convolution_op, _jit_compiled_convolution_op, _jit_compiled_convolution_op while saving (showing 4 of 4). These functions will not be directly callable after loading.\n"
     ]
    },
    {
     "name": "stdout",
     "output_type": "stream",
     "text": [
      "INFO:tensorflow:Assets written to: /root/jupyter/IHC/gain_proj/wandb/run-20230421_235459-s7e0224a/files/model-best/assets\n"
     ]
    },
    {
     "name": "stderr",
     "output_type": "stream",
     "text": [
      "INFO:tensorflow:Assets written to: /root/jupyter/IHC/gain_proj/wandb/run-20230421_235459-s7e0224a/files/model-best/assets\n",
      "\u001b[34m\u001b[1mwandb\u001b[0m: Adding directory to artifact (/root/jupyter/IHC/gain_proj/wandb/run-20230421_235459-s7e0224a/files/model-best)... Done. 0.0s\n"
     ]
    },
    {
     "name": "stdout",
     "output_type": "stream",
     "text": [
      "391/391 [==============================] - 10s 24ms/step - loss: 0.8319 - accuracy: 0.7090 - val_loss: 0.8830 - val_accuracy: 0.6921\n",
      "Epoch 117/200\n",
      "391/391 [==============================] - 8s 22ms/step - loss: 0.8311 - accuracy: 0.7089 - val_loss: 0.8808 - val_accuracy: 0.6914\n",
      "Epoch 118/200\n",
      "391/391 [==============================] - 8s 21ms/step - loss: 0.8252 - accuracy: 0.7090 - val_loss: 0.8901 - val_accuracy: 0.6877\n",
      "Epoch 119/200\n",
      "391/391 [==============================] - 8s 21ms/step - loss: 0.8201 - accuracy: 0.7117 - val_loss: 0.8928 - val_accuracy: 0.6873\n",
      "Epoch 120/200\n",
      "388/391 [============================>.] - ETA: 0s - loss: 0.8227 - accuracy: 0.7123"
     ]
    },
    {
     "name": "stderr",
     "output_type": "stream",
     "text": [
      "WARNING:absl:Found untraced functions such as _jit_compiled_convolution_op, _jit_compiled_convolution_op, _jit_compiled_convolution_op, _jit_compiled_convolution_op while saving (showing 4 of 4). These functions will not be directly callable after loading.\n"
     ]
    },
    {
     "name": "stdout",
     "output_type": "stream",
     "text": [
      "INFO:tensorflow:Assets written to: /root/jupyter/IHC/gain_proj/wandb/run-20230421_235459-s7e0224a/files/model-best/assets\n"
     ]
    },
    {
     "name": "stderr",
     "output_type": "stream",
     "text": [
      "INFO:tensorflow:Assets written to: /root/jupyter/IHC/gain_proj/wandb/run-20230421_235459-s7e0224a/files/model-best/assets\n",
      "\u001b[34m\u001b[1mwandb\u001b[0m: Adding directory to artifact (/root/jupyter/IHC/gain_proj/wandb/run-20230421_235459-s7e0224a/files/model-best)... Done. 0.0s\n"
     ]
    },
    {
     "name": "stdout",
     "output_type": "stream",
     "text": [
      "391/391 [==============================] - 9s 24ms/step - loss: 0.8226 - accuracy: 0.7123 - val_loss: 0.8701 - val_accuracy: 0.6944\n",
      "Epoch 121/200\n",
      "389/391 [============================>.] - ETA: 0s - loss: 0.8175 - accuracy: 0.7153"
     ]
    },
    {
     "name": "stderr",
     "output_type": "stream",
     "text": [
      "WARNING:absl:Found untraced functions such as _jit_compiled_convolution_op, _jit_compiled_convolution_op, _jit_compiled_convolution_op, _jit_compiled_convolution_op while saving (showing 4 of 4). These functions will not be directly callable after loading.\n"
     ]
    },
    {
     "name": "stdout",
     "output_type": "stream",
     "text": [
      "INFO:tensorflow:Assets written to: /root/jupyter/IHC/gain_proj/wandb/run-20230421_235459-s7e0224a/files/model-best/assets\n"
     ]
    },
    {
     "name": "stderr",
     "output_type": "stream",
     "text": [
      "INFO:tensorflow:Assets written to: /root/jupyter/IHC/gain_proj/wandb/run-20230421_235459-s7e0224a/files/model-best/assets\n",
      "\u001b[34m\u001b[1mwandb\u001b[0m: Adding directory to artifact (/root/jupyter/IHC/gain_proj/wandb/run-20230421_235459-s7e0224a/files/model-best)... Done. 0.0s\n"
     ]
    },
    {
     "name": "stdout",
     "output_type": "stream",
     "text": [
      "391/391 [==============================] - 9s 24ms/step - loss: 0.8178 - accuracy: 0.7152 - val_loss: 0.8686 - val_accuracy: 0.7018\n",
      "Epoch 122/200\n",
      "391/391 [==============================] - 9s 22ms/step - loss: 0.8168 - accuracy: 0.7129 - val_loss: 0.8716 - val_accuracy: 0.6975\n",
      "Epoch 123/200\n",
      "391/391 [==============================] - 9s 22ms/step - loss: 0.8142 - accuracy: 0.7159 - val_loss: 0.8655 - val_accuracy: 0.6980\n",
      "Epoch 124/200\n",
      "391/391 [==============================] - 9s 23ms/step - loss: 0.8100 - accuracy: 0.7151 - val_loss: 0.8725 - val_accuracy: 0.6959\n",
      "Epoch 125/200\n",
      "391/391 [==============================] - 9s 24ms/step - loss: 0.8070 - accuracy: 0.7152 - val_loss: 0.8920 - val_accuracy: 0.6873\n",
      "Epoch 126/200\n",
      "391/391 [==============================] - 9s 22ms/step - loss: 0.8092 - accuracy: 0.7148 - val_loss: 0.8685 - val_accuracy: 0.6964\n",
      "Epoch 127/200\n",
      "391/391 [==============================] - 8s 22ms/step - loss: 0.8007 - accuracy: 0.7194 - val_loss: 0.8558 - val_accuracy: 0.6994\n",
      "Epoch 128/200\n",
      "391/391 [==============================] - 9s 22ms/step - loss: 0.8010 - accuracy: 0.7194 - val_loss: 0.8613 - val_accuracy: 0.6979\n",
      "Epoch 129/200\n",
      "391/391 [==============================] - ETA: 0s - loss: 0.7953 - accuracy: 0.7193"
     ]
    },
    {
     "name": "stderr",
     "output_type": "stream",
     "text": [
      "WARNING:absl:Found untraced functions such as _jit_compiled_convolution_op, _jit_compiled_convolution_op, _jit_compiled_convolution_op, _jit_compiled_convolution_op while saving (showing 4 of 4). These functions will not be directly callable after loading.\n"
     ]
    },
    {
     "name": "stdout",
     "output_type": "stream",
     "text": [
      "INFO:tensorflow:Assets written to: /root/jupyter/IHC/gain_proj/wandb/run-20230421_235459-s7e0224a/files/model-best/assets\n"
     ]
    },
    {
     "name": "stderr",
     "output_type": "stream",
     "text": [
      "INFO:tensorflow:Assets written to: /root/jupyter/IHC/gain_proj/wandb/run-20230421_235459-s7e0224a/files/model-best/assets\n",
      "\u001b[34m\u001b[1mwandb\u001b[0m: Adding directory to artifact (/root/jupyter/IHC/gain_proj/wandb/run-20230421_235459-s7e0224a/files/model-best)... Done. 0.0s\n"
     ]
    },
    {
     "name": "stdout",
     "output_type": "stream",
     "text": [
      "391/391 [==============================] - 10s 26ms/step - loss: 0.7953 - accuracy: 0.7193 - val_loss: 0.8553 - val_accuracy: 0.7032\n",
      "Epoch 130/200\n",
      "391/391 [==============================] - 8s 21ms/step - loss: 0.7957 - accuracy: 0.7215 - val_loss: 0.8560 - val_accuracy: 0.7001\n",
      "Epoch 131/200\n",
      "391/391 [==============================] - 8s 21ms/step - loss: 0.7907 - accuracy: 0.7222 - val_loss: 0.8594 - val_accuracy: 0.7024\n",
      "Epoch 132/200\n",
      "391/391 [==============================] - 9s 22ms/step - loss: 0.7883 - accuracy: 0.7238 - val_loss: 0.8542 - val_accuracy: 0.7003\n",
      "Epoch 133/200\n",
      "391/391 [==============================] - 8s 21ms/step - loss: 0.7818 - accuracy: 0.7260 - val_loss: 0.8639 - val_accuracy: 0.6968\n",
      "Epoch 134/200\n",
      "391/391 [==============================] - 8s 21ms/step - loss: 0.7841 - accuracy: 0.7241 - val_loss: 0.8591 - val_accuracy: 0.7018\n",
      "Epoch 135/200\n",
      "391/391 [==============================] - 8s 21ms/step - loss: 0.7817 - accuracy: 0.7259 - val_loss: 0.8570 - val_accuracy: 0.7005\n",
      "Epoch 136/200\n",
      "386/391 [============================>.] - ETA: 0s - loss: 0.7780 - accuracy: 0.7276"
     ]
    },
    {
     "name": "stderr",
     "output_type": "stream",
     "text": [
      "WARNING:absl:Found untraced functions such as _jit_compiled_convolution_op, _jit_compiled_convolution_op, _jit_compiled_convolution_op, _jit_compiled_convolution_op while saving (showing 4 of 4). These functions will not be directly callable after loading.\n"
     ]
    },
    {
     "name": "stdout",
     "output_type": "stream",
     "text": [
      "INFO:tensorflow:Assets written to: /root/jupyter/IHC/gain_proj/wandb/run-20230421_235459-s7e0224a/files/model-best/assets\n"
     ]
    },
    {
     "name": "stderr",
     "output_type": "stream",
     "text": [
      "INFO:tensorflow:Assets written to: /root/jupyter/IHC/gain_proj/wandb/run-20230421_235459-s7e0224a/files/model-best/assets\n",
      "\u001b[34m\u001b[1mwandb\u001b[0m: Adding directory to artifact (/root/jupyter/IHC/gain_proj/wandb/run-20230421_235459-s7e0224a/files/model-best)... Done. 0.0s\n"
     ]
    },
    {
     "name": "stdout",
     "output_type": "stream",
     "text": [
      "391/391 [==============================] - 10s 25ms/step - loss: 0.7791 - accuracy: 0.7273 - val_loss: 0.8357 - val_accuracy: 0.7116\n",
      "Epoch 137/200\n",
      "391/391 [==============================] - 8s 21ms/step - loss: 0.7762 - accuracy: 0.7281 - val_loss: 0.8382 - val_accuracy: 0.7087\n",
      "Epoch 138/200\n",
      "391/391 [==============================] - 8s 21ms/step - loss: 0.7724 - accuracy: 0.7278 - val_loss: 0.8371 - val_accuracy: 0.7064\n",
      "Epoch 139/200\n",
      "386/391 [============================>.] - ETA: 0s - loss: 0.7760 - accuracy: 0.7276"
     ]
    },
    {
     "name": "stderr",
     "output_type": "stream",
     "text": [
      "WARNING:absl:Found untraced functions such as _jit_compiled_convolution_op, _jit_compiled_convolution_op, _jit_compiled_convolution_op, _jit_compiled_convolution_op while saving (showing 4 of 4). These functions will not be directly callable after loading.\n"
     ]
    },
    {
     "name": "stdout",
     "output_type": "stream",
     "text": [
      "INFO:tensorflow:Assets written to: /root/jupyter/IHC/gain_proj/wandb/run-20230421_235459-s7e0224a/files/model-best/assets\n"
     ]
    },
    {
     "name": "stderr",
     "output_type": "stream",
     "text": [
      "INFO:tensorflow:Assets written to: /root/jupyter/IHC/gain_proj/wandb/run-20230421_235459-s7e0224a/files/model-best/assets\n",
      "\u001b[34m\u001b[1mwandb\u001b[0m: Adding directory to artifact (/root/jupyter/IHC/gain_proj/wandb/run-20230421_235459-s7e0224a/files/model-best)... Done. 0.0s\n"
     ]
    },
    {
     "name": "stdout",
     "output_type": "stream",
     "text": [
      "391/391 [==============================] - 10s 25ms/step - loss: 0.7761 - accuracy: 0.7273 - val_loss: 0.8256 - val_accuracy: 0.7142\n",
      "Epoch 140/200\n",
      "391/391 [==============================] - 9s 22ms/step - loss: 0.7733 - accuracy: 0.7265 - val_loss: 0.8391 - val_accuracy: 0.7089\n",
      "Epoch 141/200\n",
      "391/391 [==============================] - 8s 21ms/step - loss: 0.7675 - accuracy: 0.7303 - val_loss: 0.8305 - val_accuracy: 0.7098\n",
      "Epoch 142/200\n",
      "391/391 [==============================] - 8s 21ms/step - loss: 0.7626 - accuracy: 0.7308 - val_loss: 0.8384 - val_accuracy: 0.7091\n",
      "Epoch 143/200\n",
      "391/391 [==============================] - 9s 22ms/step - loss: 0.7608 - accuracy: 0.7313 - val_loss: 0.8325 - val_accuracy: 0.7122\n",
      "Epoch 144/200\n",
      "391/391 [==============================] - 9s 22ms/step - loss: 0.7623 - accuracy: 0.7335 - val_loss: 0.8283 - val_accuracy: 0.7123\n",
      "Epoch 145/200\n",
      "391/391 [==============================] - 9s 22ms/step - loss: 0.7559 - accuracy: 0.7341 - val_loss: 0.8309 - val_accuracy: 0.7118\n",
      "Epoch 146/200\n",
      "391/391 [==============================] - 9s 22ms/step - loss: 0.7567 - accuracy: 0.7336 - val_loss: 0.8203 - val_accuracy: 0.7137\n",
      "Epoch 147/200\n",
      "391/391 [==============================] - 9s 24ms/step - loss: 0.7544 - accuracy: 0.7355 - val_loss: 0.8349 - val_accuracy: 0.7099\n",
      "Epoch 148/200\n",
      "386/391 [============================>.] - ETA: 0s - loss: 0.7522 - accuracy: 0.7352"
     ]
    },
    {
     "name": "stderr",
     "output_type": "stream",
     "text": [
      "WARNING:absl:Found untraced functions such as _jit_compiled_convolution_op, _jit_compiled_convolution_op, _jit_compiled_convolution_op, _jit_compiled_convolution_op while saving (showing 4 of 4). These functions will not be directly callable after loading.\n"
     ]
    },
    {
     "name": "stdout",
     "output_type": "stream",
     "text": [
      "INFO:tensorflow:Assets written to: /root/jupyter/IHC/gain_proj/wandb/run-20230421_235459-s7e0224a/files/model-best/assets\n"
     ]
    },
    {
     "name": "stderr",
     "output_type": "stream",
     "text": [
      "INFO:tensorflow:Assets written to: /root/jupyter/IHC/gain_proj/wandb/run-20230421_235459-s7e0224a/files/model-best/assets\n",
      "\u001b[34m\u001b[1mwandb\u001b[0m: Adding directory to artifact (/root/jupyter/IHC/gain_proj/wandb/run-20230421_235459-s7e0224a/files/model-best)... Done. 0.0s\n"
     ]
    },
    {
     "name": "stdout",
     "output_type": "stream",
     "text": [
      "391/391 [==============================] - 10s 25ms/step - loss: 0.7521 - accuracy: 0.7352 - val_loss: 0.8273 - val_accuracy: 0.7146\n",
      "Epoch 149/200\n",
      "391/391 [==============================] - 9s 22ms/step - loss: 0.7482 - accuracy: 0.7368 - val_loss: 0.8256 - val_accuracy: 0.7139\n",
      "Epoch 150/200\n",
      "391/391 [==============================] - 9s 22ms/step - loss: 0.7457 - accuracy: 0.7386 - val_loss: 0.8286 - val_accuracy: 0.7093\n",
      "Epoch 151/200\n",
      "385/391 [============================>.] - ETA: 0s - loss: 0.7456 - accuracy: 0.7379"
     ]
    },
    {
     "name": "stderr",
     "output_type": "stream",
     "text": [
      "WARNING:absl:Found untraced functions such as _jit_compiled_convolution_op, _jit_compiled_convolution_op, _jit_compiled_convolution_op, _jit_compiled_convolution_op while saving (showing 4 of 4). These functions will not be directly callable after loading.\n"
     ]
    },
    {
     "name": "stdout",
     "output_type": "stream",
     "text": [
      "INFO:tensorflow:Assets written to: /root/jupyter/IHC/gain_proj/wandb/run-20230421_235459-s7e0224a/files/model-best/assets\n"
     ]
    },
    {
     "name": "stderr",
     "output_type": "stream",
     "text": [
      "INFO:tensorflow:Assets written to: /root/jupyter/IHC/gain_proj/wandb/run-20230421_235459-s7e0224a/files/model-best/assets\n",
      "\u001b[34m\u001b[1mwandb\u001b[0m: Adding directory to artifact (/root/jupyter/IHC/gain_proj/wandb/run-20230421_235459-s7e0224a/files/model-best)... Done. 0.0s\n"
     ]
    },
    {
     "name": "stdout",
     "output_type": "stream",
     "text": [
      "391/391 [==============================] - 10s 26ms/step - loss: 0.7452 - accuracy: 0.7379 - val_loss: 0.8086 - val_accuracy: 0.7196\n",
      "Epoch 152/200\n",
      "391/391 [==============================] - 9s 22ms/step - loss: 0.7423 - accuracy: 0.7382 - val_loss: 0.8132 - val_accuracy: 0.7167\n",
      "Epoch 153/200\n",
      "391/391 [==============================] - 9s 22ms/step - loss: 0.7397 - accuracy: 0.7394 - val_loss: 0.8069 - val_accuracy: 0.7184\n",
      "Epoch 154/200\n",
      "391/391 [==============================] - 9s 24ms/step - loss: 0.7384 - accuracy: 0.7405 - val_loss: 0.8205 - val_accuracy: 0.7172\n",
      "Epoch 155/200\n",
      "391/391 [==============================] - 9s 22ms/step - loss: 0.7325 - accuracy: 0.7419 - val_loss: 0.8066 - val_accuracy: 0.7195\n",
      "Epoch 156/200\n",
      "391/391 [==============================] - 9s 22ms/step - loss: 0.7311 - accuracy: 0.7425 - val_loss: 0.8063 - val_accuracy: 0.7190\n",
      "Epoch 157/200\n",
      "391/391 [==============================] - 9s 22ms/step - loss: 0.7326 - accuracy: 0.7431 - val_loss: 0.8208 - val_accuracy: 0.7167\n",
      "Epoch 158/200\n",
      "387/391 [============================>.] - ETA: 0s - loss: 0.7327 - accuracy: 0.7421"
     ]
    },
    {
     "name": "stderr",
     "output_type": "stream",
     "text": [
      "WARNING:absl:Found untraced functions such as _jit_compiled_convolution_op, _jit_compiled_convolution_op, _jit_compiled_convolution_op, _jit_compiled_convolution_op while saving (showing 4 of 4). These functions will not be directly callable after loading.\n"
     ]
    },
    {
     "name": "stdout",
     "output_type": "stream",
     "text": [
      "INFO:tensorflow:Assets written to: /root/jupyter/IHC/gain_proj/wandb/run-20230421_235459-s7e0224a/files/model-best/assets\n"
     ]
    },
    {
     "name": "stderr",
     "output_type": "stream",
     "text": [
      "INFO:tensorflow:Assets written to: /root/jupyter/IHC/gain_proj/wandb/run-20230421_235459-s7e0224a/files/model-best/assets\n",
      "\u001b[34m\u001b[1mwandb\u001b[0m: Adding directory to artifact (/root/jupyter/IHC/gain_proj/wandb/run-20230421_235459-s7e0224a/files/model-best)... Done. 0.0s\n"
     ]
    },
    {
     "name": "stdout",
     "output_type": "stream",
     "text": [
      "391/391 [==============================] - 10s 25ms/step - loss: 0.7329 - accuracy: 0.7420 - val_loss: 0.8101 - val_accuracy: 0.7211\n",
      "Epoch 159/200\n",
      "391/391 [==============================] - 8s 21ms/step - loss: 0.7271 - accuracy: 0.7459 - val_loss: 0.8063 - val_accuracy: 0.7193\n",
      "Epoch 160/200\n",
      "388/391 [============================>.] - ETA: 0s - loss: 0.7263 - accuracy: 0.7448"
     ]
    },
    {
     "name": "stderr",
     "output_type": "stream",
     "text": [
      "WARNING:absl:Found untraced functions such as _jit_compiled_convolution_op, _jit_compiled_convolution_op, _jit_compiled_convolution_op, _jit_compiled_convolution_op while saving (showing 4 of 4). These functions will not be directly callable after loading.\n"
     ]
    },
    {
     "name": "stdout",
     "output_type": "stream",
     "text": [
      "INFO:tensorflow:Assets written to: /root/jupyter/IHC/gain_proj/wandb/run-20230421_235459-s7e0224a/files/model-best/assets\n"
     ]
    },
    {
     "name": "stderr",
     "output_type": "stream",
     "text": [
      "INFO:tensorflow:Assets written to: /root/jupyter/IHC/gain_proj/wandb/run-20230421_235459-s7e0224a/files/model-best/assets\n",
      "\u001b[34m\u001b[1mwandb\u001b[0m: Adding directory to artifact (/root/jupyter/IHC/gain_proj/wandb/run-20230421_235459-s7e0224a/files/model-best)... Done. 0.0s\n"
     ]
    },
    {
     "name": "stdout",
     "output_type": "stream",
     "text": [
      "391/391 [==============================] - 9s 24ms/step - loss: 0.7261 - accuracy: 0.7447 - val_loss: 0.8034 - val_accuracy: 0.7215\n",
      "Epoch 161/200\n",
      "391/391 [==============================] - 8s 21ms/step - loss: 0.7225 - accuracy: 0.7459 - val_loss: 0.8209 - val_accuracy: 0.7186\n",
      "Epoch 162/200\n",
      "391/391 [==============================] - 8s 21ms/step - loss: 0.7206 - accuracy: 0.7482 - val_loss: 0.8046 - val_accuracy: 0.7189\n",
      "Epoch 163/200\n",
      "385/391 [============================>.] - ETA: 0s - loss: 0.7172 - accuracy: 0.7489"
     ]
    },
    {
     "name": "stderr",
     "output_type": "stream",
     "text": [
      "WARNING:absl:Found untraced functions such as _jit_compiled_convolution_op, _jit_compiled_convolution_op, _jit_compiled_convolution_op, _jit_compiled_convolution_op while saving (showing 4 of 4). These functions will not be directly callable after loading.\n"
     ]
    },
    {
     "name": "stdout",
     "output_type": "stream",
     "text": [
      "INFO:tensorflow:Assets written to: /root/jupyter/IHC/gain_proj/wandb/run-20230421_235459-s7e0224a/files/model-best/assets\n"
     ]
    },
    {
     "name": "stderr",
     "output_type": "stream",
     "text": [
      "INFO:tensorflow:Assets written to: /root/jupyter/IHC/gain_proj/wandb/run-20230421_235459-s7e0224a/files/model-best/assets\n",
      "\u001b[34m\u001b[1mwandb\u001b[0m: Adding directory to artifact (/root/jupyter/IHC/gain_proj/wandb/run-20230421_235459-s7e0224a/files/model-best)... Done. 0.0s\n"
     ]
    },
    {
     "name": "stdout",
     "output_type": "stream",
     "text": [
      "391/391 [==============================] - 10s 25ms/step - loss: 0.7180 - accuracy: 0.7486 - val_loss: 0.7970 - val_accuracy: 0.7220\n",
      "Epoch 164/200\n",
      "387/391 [============================>.] - ETA: 0s - loss: 0.7149 - accuracy: 0.7501"
     ]
    },
    {
     "name": "stderr",
     "output_type": "stream",
     "text": [
      "WARNING:absl:Found untraced functions such as _jit_compiled_convolution_op, _jit_compiled_convolution_op, _jit_compiled_convolution_op, _jit_compiled_convolution_op while saving (showing 4 of 4). These functions will not be directly callable after loading.\n"
     ]
    },
    {
     "name": "stdout",
     "output_type": "stream",
     "text": [
      "INFO:tensorflow:Assets written to: /root/jupyter/IHC/gain_proj/wandb/run-20230421_235459-s7e0224a/files/model-best/assets\n"
     ]
    },
    {
     "name": "stderr",
     "output_type": "stream",
     "text": [
      "INFO:tensorflow:Assets written to: /root/jupyter/IHC/gain_proj/wandb/run-20230421_235459-s7e0224a/files/model-best/assets\n",
      "\u001b[34m\u001b[1mwandb\u001b[0m: Adding directory to artifact (/root/jupyter/IHC/gain_proj/wandb/run-20230421_235459-s7e0224a/files/model-best)... Done. 0.0s\n"
     ]
    },
    {
     "name": "stdout",
     "output_type": "stream",
     "text": [
      "391/391 [==============================] - 10s 25ms/step - loss: 0.7151 - accuracy: 0.7500 - val_loss: 0.7969 - val_accuracy: 0.7233\n",
      "Epoch 165/200\n",
      "391/391 [==============================] - 8s 21ms/step - loss: 0.7189 - accuracy: 0.7497 - val_loss: 0.7991 - val_accuracy: 0.7213\n",
      "Epoch 166/200\n",
      "385/391 [============================>.] - ETA: 0s - loss: 0.7166 - accuracy: 0.7462"
     ]
    },
    {
     "name": "stderr",
     "output_type": "stream",
     "text": [
      "WARNING:absl:Found untraced functions such as _jit_compiled_convolution_op, _jit_compiled_convolution_op, _jit_compiled_convolution_op, _jit_compiled_convolution_op while saving (showing 4 of 4). These functions will not be directly callable after loading.\n"
     ]
    },
    {
     "name": "stdout",
     "output_type": "stream",
     "text": [
      "INFO:tensorflow:Assets written to: /root/jupyter/IHC/gain_proj/wandb/run-20230421_235459-s7e0224a/files/model-best/assets\n"
     ]
    },
    {
     "name": "stderr",
     "output_type": "stream",
     "text": [
      "INFO:tensorflow:Assets written to: /root/jupyter/IHC/gain_proj/wandb/run-20230421_235459-s7e0224a/files/model-best/assets\n",
      "\u001b[34m\u001b[1mwandb\u001b[0m: Adding directory to artifact (/root/jupyter/IHC/gain_proj/wandb/run-20230421_235459-s7e0224a/files/model-best)... Done. 0.0s\n"
     ]
    },
    {
     "name": "stdout",
     "output_type": "stream",
     "text": [
      "391/391 [==============================] - 10s 24ms/step - loss: 0.7169 - accuracy: 0.7461 - val_loss: 0.7912 - val_accuracy: 0.7244\n",
      "Epoch 167/200\n",
      "391/391 [==============================] - 8s 21ms/step - loss: 0.7132 - accuracy: 0.7497 - val_loss: 0.8013 - val_accuracy: 0.7217\n",
      "Epoch 168/200\n",
      "391/391 [==============================] - 9s 22ms/step - loss: 0.7098 - accuracy: 0.7510 - val_loss: 0.8032 - val_accuracy: 0.7233\n",
      "Epoch 169/200\n",
      "391/391 [==============================] - 9s 23ms/step - loss: 0.7054 - accuracy: 0.7532 - val_loss: 0.8004 - val_accuracy: 0.7224\n",
      "Epoch 170/200\n",
      "385/391 [============================>.] - ETA: 0s - loss: 0.7030 - accuracy: 0.7517"
     ]
    },
    {
     "name": "stderr",
     "output_type": "stream",
     "text": [
      "WARNING:absl:Found untraced functions such as _jit_compiled_convolution_op, _jit_compiled_convolution_op, _jit_compiled_convolution_op, _jit_compiled_convolution_op while saving (showing 4 of 4). These functions will not be directly callable after loading.\n"
     ]
    },
    {
     "name": "stdout",
     "output_type": "stream",
     "text": [
      "INFO:tensorflow:Assets written to: /root/jupyter/IHC/gain_proj/wandb/run-20230421_235459-s7e0224a/files/model-best/assets\n"
     ]
    },
    {
     "name": "stderr",
     "output_type": "stream",
     "text": [
      "INFO:tensorflow:Assets written to: /root/jupyter/IHC/gain_proj/wandb/run-20230421_235459-s7e0224a/files/model-best/assets\n",
      "\u001b[34m\u001b[1mwandb\u001b[0m: Adding directory to artifact (/root/jupyter/IHC/gain_proj/wandb/run-20230421_235459-s7e0224a/files/model-best)... Done. 0.0s\n"
     ]
    },
    {
     "name": "stdout",
     "output_type": "stream",
     "text": [
      "391/391 [==============================] - 10s 25ms/step - loss: 0.7035 - accuracy: 0.7517 - val_loss: 0.7955 - val_accuracy: 0.7251\n",
      "Epoch 171/200\n",
      "386/391 [============================>.] - ETA: 0s - loss: 0.7040 - accuracy: 0.7508"
     ]
    },
    {
     "name": "stderr",
     "output_type": "stream",
     "text": [
      "WARNING:absl:Found untraced functions such as _jit_compiled_convolution_op, _jit_compiled_convolution_op, _jit_compiled_convolution_op, _jit_compiled_convolution_op while saving (showing 4 of 4). These functions will not be directly callable after loading.\n"
     ]
    },
    {
     "name": "stdout",
     "output_type": "stream",
     "text": [
      "INFO:tensorflow:Assets written to: /root/jupyter/IHC/gain_proj/wandb/run-20230421_235459-s7e0224a/files/model-best/assets\n"
     ]
    },
    {
     "name": "stderr",
     "output_type": "stream",
     "text": [
      "INFO:tensorflow:Assets written to: /root/jupyter/IHC/gain_proj/wandb/run-20230421_235459-s7e0224a/files/model-best/assets\n",
      "\u001b[34m\u001b[1mwandb\u001b[0m: Adding directory to artifact (/root/jupyter/IHC/gain_proj/wandb/run-20230421_235459-s7e0224a/files/model-best)... Done. 0.0s\n"
     ]
    },
    {
     "name": "stdout",
     "output_type": "stream",
     "text": [
      "391/391 [==============================] - 10s 25ms/step - loss: 0.7039 - accuracy: 0.7507 - val_loss: 0.7873 - val_accuracy: 0.7311\n",
      "Epoch 172/200\n",
      "391/391 [==============================] - 8s 21ms/step - loss: 0.7020 - accuracy: 0.7550 - val_loss: 0.7891 - val_accuracy: 0.7238\n",
      "Epoch 173/200\n",
      "391/391 [==============================] - 8s 21ms/step - loss: 0.7039 - accuracy: 0.7537 - val_loss: 0.7820 - val_accuracy: 0.7279\n",
      "Epoch 174/200\n",
      "391/391 [==============================] - 8s 21ms/step - loss: 0.6957 - accuracy: 0.7559 - val_loss: 0.7833 - val_accuracy: 0.7290\n",
      "Epoch 175/200\n",
      "391/391 [==============================] - 8s 21ms/step - loss: 0.6978 - accuracy: 0.7538 - val_loss: 0.7786 - val_accuracy: 0.7276\n",
      "Epoch 176/200\n",
      "391/391 [==============================] - 9s 22ms/step - loss: 0.6986 - accuracy: 0.7560 - val_loss: 0.7853 - val_accuracy: 0.7284\n",
      "Epoch 177/200\n",
      "391/391 [==============================] - 8s 21ms/step - loss: 0.6972 - accuracy: 0.7551 - val_loss: 0.7916 - val_accuracy: 0.7279\n",
      "Epoch 178/200\n",
      "391/391 [==============================] - 8s 21ms/step - loss: 0.6916 - accuracy: 0.7579 - val_loss: 0.8086 - val_accuracy: 0.7205\n",
      "Epoch 179/200\n",
      "391/391 [==============================] - 8s 21ms/step - loss: 0.6903 - accuracy: 0.7600 - val_loss: 0.7839 - val_accuracy: 0.7300\n",
      "Epoch 180/200\n",
      "388/391 [============================>.] - ETA: 0s - loss: 0.6889 - accuracy: 0.7571"
     ]
    },
    {
     "name": "stderr",
     "output_type": "stream",
     "text": [
      "WARNING:absl:Found untraced functions such as _jit_compiled_convolution_op, _jit_compiled_convolution_op, _jit_compiled_convolution_op, _jit_compiled_convolution_op while saving (showing 4 of 4). These functions will not be directly callable after loading.\n"
     ]
    },
    {
     "name": "stdout",
     "output_type": "stream",
     "text": [
      "INFO:tensorflow:Assets written to: /root/jupyter/IHC/gain_proj/wandb/run-20230421_235459-s7e0224a/files/model-best/assets\n"
     ]
    },
    {
     "name": "stderr",
     "output_type": "stream",
     "text": [
      "INFO:tensorflow:Assets written to: /root/jupyter/IHC/gain_proj/wandb/run-20230421_235459-s7e0224a/files/model-best/assets\n",
      "\u001b[34m\u001b[1mwandb\u001b[0m: Adding directory to artifact (/root/jupyter/IHC/gain_proj/wandb/run-20230421_235459-s7e0224a/files/model-best)... Done. 0.0s\n"
     ]
    },
    {
     "name": "stdout",
     "output_type": "stream",
     "text": [
      "391/391 [==============================] - 10s 25ms/step - loss: 0.6884 - accuracy: 0.7571 - val_loss: 0.7706 - val_accuracy: 0.7322\n",
      "Epoch 181/200\n",
      "391/391 [==============================] - 8s 21ms/step - loss: 0.6881 - accuracy: 0.7589 - val_loss: 0.8020 - val_accuracy: 0.7223\n",
      "Epoch 182/200\n",
      "391/391 [==============================] - 8s 21ms/step - loss: 0.6835 - accuracy: 0.7613 - val_loss: 0.7824 - val_accuracy: 0.7301\n",
      "Epoch 183/200\n",
      "391/391 [==============================] - 9s 22ms/step - loss: 0.6849 - accuracy: 0.7600 - val_loss: 0.7973 - val_accuracy: 0.7238\n",
      "Epoch 184/200\n",
      "391/391 [==============================] - 9s 23ms/step - loss: 0.6856 - accuracy: 0.7599 - val_loss: 0.7822 - val_accuracy: 0.7296\n",
      "Epoch 185/200\n",
      "390/391 [============================>.] - ETA: 0s - loss: 0.6818 - accuracy: 0.7597"
     ]
    },
    {
     "name": "stderr",
     "output_type": "stream",
     "text": [
      "WARNING:absl:Found untraced functions such as _jit_compiled_convolution_op, _jit_compiled_convolution_op, _jit_compiled_convolution_op, _jit_compiled_convolution_op while saving (showing 4 of 4). These functions will not be directly callable after loading.\n"
     ]
    },
    {
     "name": "stdout",
     "output_type": "stream",
     "text": [
      "INFO:tensorflow:Assets written to: /root/jupyter/IHC/gain_proj/wandb/run-20230421_235459-s7e0224a/files/model-best/assets\n"
     ]
    },
    {
     "name": "stderr",
     "output_type": "stream",
     "text": [
      "INFO:tensorflow:Assets written to: /root/jupyter/IHC/gain_proj/wandb/run-20230421_235459-s7e0224a/files/model-best/assets\n",
      "\u001b[34m\u001b[1mwandb\u001b[0m: Adding directory to artifact (/root/jupyter/IHC/gain_proj/wandb/run-20230421_235459-s7e0224a/files/model-best)... Done. 0.0s\n"
     ]
    },
    {
     "name": "stdout",
     "output_type": "stream",
     "text": [
      "391/391 [==============================] - 10s 26ms/step - loss: 0.6818 - accuracy: 0.7597 - val_loss: 0.7737 - val_accuracy: 0.7340\n",
      "Epoch 186/200\n",
      "391/391 [==============================] - 9s 22ms/step - loss: 0.6778 - accuracy: 0.7613 - val_loss: 0.7771 - val_accuracy: 0.7337\n",
      "Epoch 187/200\n",
      "391/391 [==============================] - 9s 22ms/step - loss: 0.6753 - accuracy: 0.7620 - val_loss: 0.7973 - val_accuracy: 0.7268\n",
      "Epoch 188/200\n",
      "391/391 [==============================] - 9s 22ms/step - loss: 0.6760 - accuracy: 0.7610 - val_loss: 0.7690 - val_accuracy: 0.7340\n",
      "Epoch 189/200\n",
      "389/391 [============================>.] - ETA: 0s - loss: 0.6741 - accuracy: 0.7632"
     ]
    },
    {
     "name": "stderr",
     "output_type": "stream",
     "text": [
      "WARNING:absl:Found untraced functions such as _jit_compiled_convolution_op, _jit_compiled_convolution_op, _jit_compiled_convolution_op, _jit_compiled_convolution_op while saving (showing 4 of 4). These functions will not be directly callable after loading.\n"
     ]
    },
    {
     "name": "stdout",
     "output_type": "stream",
     "text": [
      "INFO:tensorflow:Assets written to: /root/jupyter/IHC/gain_proj/wandb/run-20230421_235459-s7e0224a/files/model-best/assets\n"
     ]
    },
    {
     "name": "stderr",
     "output_type": "stream",
     "text": [
      "INFO:tensorflow:Assets written to: /root/jupyter/IHC/gain_proj/wandb/run-20230421_235459-s7e0224a/files/model-best/assets\n",
      "\u001b[34m\u001b[1mwandb\u001b[0m: Adding directory to artifact (/root/jupyter/IHC/gain_proj/wandb/run-20230421_235459-s7e0224a/files/model-best)... Done. 0.0s\n"
     ]
    },
    {
     "name": "stdout",
     "output_type": "stream",
     "text": [
      "391/391 [==============================] - 10s 25ms/step - loss: 0.6741 - accuracy: 0.7632 - val_loss: 0.7705 - val_accuracy: 0.7347\n",
      "Epoch 190/200\n",
      "386/391 [============================>.] - ETA: 0s - loss: 0.6740 - accuracy: 0.7631"
     ]
    },
    {
     "name": "stderr",
     "output_type": "stream",
     "text": [
      "WARNING:absl:Found untraced functions such as _jit_compiled_convolution_op, _jit_compiled_convolution_op, _jit_compiled_convolution_op, _jit_compiled_convolution_op while saving (showing 4 of 4). These functions will not be directly callable after loading.\n"
     ]
    },
    {
     "name": "stdout",
     "output_type": "stream",
     "text": [
      "INFO:tensorflow:Assets written to: /root/jupyter/IHC/gain_proj/wandb/run-20230421_235459-s7e0224a/files/model-best/assets\n"
     ]
    },
    {
     "name": "stderr",
     "output_type": "stream",
     "text": [
      "INFO:tensorflow:Assets written to: /root/jupyter/IHC/gain_proj/wandb/run-20230421_235459-s7e0224a/files/model-best/assets\n",
      "\u001b[34m\u001b[1mwandb\u001b[0m: Adding directory to artifact (/root/jupyter/IHC/gain_proj/wandb/run-20230421_235459-s7e0224a/files/model-best)... Done. 0.0s\n"
     ]
    },
    {
     "name": "stdout",
     "output_type": "stream",
     "text": [
      "391/391 [==============================] - 10s 26ms/step - loss: 0.6741 - accuracy: 0.7631 - val_loss: 0.7680 - val_accuracy: 0.7355\n",
      "Epoch 191/200\n",
      "390/391 [============================>.] - ETA: 0s - loss: 0.6691 - accuracy: 0.7643"
     ]
    },
    {
     "name": "stderr",
     "output_type": "stream",
     "text": [
      "WARNING:absl:Found untraced functions such as _jit_compiled_convolution_op, _jit_compiled_convolution_op, _jit_compiled_convolution_op, _jit_compiled_convolution_op while saving (showing 4 of 4). These functions will not be directly callable after loading.\n"
     ]
    },
    {
     "name": "stdout",
     "output_type": "stream",
     "text": [
      "INFO:tensorflow:Assets written to: /root/jupyter/IHC/gain_proj/wandb/run-20230421_235459-s7e0224a/files/model-best/assets\n"
     ]
    },
    {
     "name": "stderr",
     "output_type": "stream",
     "text": [
      "INFO:tensorflow:Assets written to: /root/jupyter/IHC/gain_proj/wandb/run-20230421_235459-s7e0224a/files/model-best/assets\n",
      "\u001b[34m\u001b[1mwandb\u001b[0m: Adding directory to artifact (/root/jupyter/IHC/gain_proj/wandb/run-20230421_235459-s7e0224a/files/model-best)... Done. 0.0s\n"
     ]
    },
    {
     "name": "stdout",
     "output_type": "stream",
     "text": [
      "391/391 [==============================] - 11s 28ms/step - loss: 0.6687 - accuracy: 0.7645 - val_loss: 0.7631 - val_accuracy: 0.7365\n",
      "Epoch 192/200\n",
      "391/391 [==============================] - 9s 22ms/step - loss: 0.6692 - accuracy: 0.7651 - val_loss: 0.7873 - val_accuracy: 0.7286\n",
      "Epoch 193/200\n",
      "391/391 [==============================] - ETA: 0s - loss: 0.6687 - accuracy: 0.7664"
     ]
    },
    {
     "name": "stderr",
     "output_type": "stream",
     "text": [
      "WARNING:absl:Found untraced functions such as _jit_compiled_convolution_op, _jit_compiled_convolution_op, _jit_compiled_convolution_op, _jit_compiled_convolution_op while saving (showing 4 of 4). These functions will not be directly callable after loading.\n"
     ]
    },
    {
     "name": "stdout",
     "output_type": "stream",
     "text": [
      "INFO:tensorflow:Assets written to: /root/jupyter/IHC/gain_proj/wandb/run-20230421_235459-s7e0224a/files/model-best/assets\n"
     ]
    },
    {
     "name": "stderr",
     "output_type": "stream",
     "text": [
      "INFO:tensorflow:Assets written to: /root/jupyter/IHC/gain_proj/wandb/run-20230421_235459-s7e0224a/files/model-best/assets\n",
      "\u001b[34m\u001b[1mwandb\u001b[0m: Adding directory to artifact (/root/jupyter/IHC/gain_proj/wandb/run-20230421_235459-s7e0224a/files/model-best)... Done. 0.0s\n"
     ]
    },
    {
     "name": "stdout",
     "output_type": "stream",
     "text": [
      "391/391 [==============================] - 10s 25ms/step - loss: 0.6687 - accuracy: 0.7664 - val_loss: 0.7589 - val_accuracy: 0.7402\n",
      "Epoch 194/200\n",
      "391/391 [==============================] - 8s 20ms/step - loss: 0.6669 - accuracy: 0.7647 - val_loss: 0.7671 - val_accuracy: 0.7350\n",
      "Epoch 195/200\n",
      "391/391 [==============================] - 8s 21ms/step - loss: 0.6661 - accuracy: 0.7661 - val_loss: 0.7698 - val_accuracy: 0.7332\n",
      "Epoch 196/200\n",
      "391/391 [==============================] - 8s 20ms/step - loss: 0.6629 - accuracy: 0.7685 - val_loss: 0.7657 - val_accuracy: 0.7355\n",
      "Epoch 197/200\n",
      "391/391 [==============================] - 8s 21ms/step - loss: 0.6611 - accuracy: 0.7678 - val_loss: 0.7693 - val_accuracy: 0.7356\n",
      "Epoch 198/200\n",
      "391/391 [==============================] - 9s 22ms/step - loss: 0.6599 - accuracy: 0.7696 - val_loss: 0.7682 - val_accuracy: 0.7307\n",
      "Epoch 199/200\n",
      "391/391 [==============================] - 8s 21ms/step - loss: 0.6547 - accuracy: 0.7721 - val_loss: 0.7612 - val_accuracy: 0.7367\n",
      "Epoch 200/200\n",
      "391/391 [==============================] - 8s 21ms/step - loss: 0.6629 - accuracy: 0.7676 - val_loss: 0.7672 - val_accuracy: 0.7365\n"
     ]
    },
    {
     "data": {
      "text/plain": [
       "<keras.callbacks.History at 0x7fa3baec9640>"
      ]
     },
     "execution_count": 7,
     "metadata": {},
     "output_type": "execute_result"
    }
   ],
   "source": [
    "model.fit(datagen.flow(x_train, y_train, batch_size=128),\n",
    "          validation_data=(x_test, y_test),\n",
    "          epochs=200, workers=4,\n",
    "          callbacks=callbacks)"
   ]
  },
  {
   "cell_type": "code",
   "execution_count": null,
   "id": "dd1b680e-40d0-4d11-9d99-3e44c26ad381",
   "metadata": {},
   "outputs": [],
   "source": []
  },
  {
   "cell_type": "code",
   "execution_count": null,
   "id": "8c7a27fb-7c93-4b43-9bf2-7fc2bc6a5071",
   "metadata": {},
   "outputs": [],
   "source": []
  },
  {
   "cell_type": "code",
   "execution_count": null,
   "id": "c38a00d3-8096-409b-90a5-ce799e67d313",
   "metadata": {},
   "outputs": [],
   "source": []
  }
 ],
 "metadata": {
  "kernelspec": {
   "display_name": "Python 3 (ipykernel)",
   "language": "python",
   "name": "python3"
  },
  "language_info": {
   "codemirror_mode": {
    "name": "ipython",
    "version": 3
   },
   "file_extension": ".py",
   "mimetype": "text/x-python",
   "name": "python",
   "nbconvert_exporter": "python",
   "pygments_lexer": "ipython3",
   "version": "3.8.10"
  }
 },
 "nbformat": 4,
 "nbformat_minor": 5
}
