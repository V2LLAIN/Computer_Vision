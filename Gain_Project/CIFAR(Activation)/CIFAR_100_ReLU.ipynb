{
 "cells": [
  {
   "cell_type": "code",
   "execution_count": 1,
   "id": "435f2fe4-a4ef-4b66-a91f-6b6c598baa92",
   "metadata": {},
   "outputs": [
    {
     "name": "stderr",
     "output_type": "stream",
     "text": [
      "/usr/lib/python3/dist-packages/requests/__init__.py:89: RequestsDependencyWarning: urllib3 (1.26.14) or chardet (3.0.4) doesn't match a supported version!\n",
      "  warnings.warn(\"urllib3 ({}) or chardet ({}) doesn't match a supported \"\n",
      "2023-04-22 03:22:08.661194: I tensorflow/core/platform/cpu_feature_guard.cc:193] This TensorFlow binary is optimized with oneAPI Deep Neural Network Library (oneDNN) to use the following CPU instructions in performance-critical operations:  AVX2 AVX512F AVX512_VNNI FMA\n",
      "To enable them in other operations, rebuild TensorFlow with the appropriate compiler flags.\n",
      "2023-04-22 03:22:08.763491: I tensorflow/core/util/util.cc:169] oneDNN custom operations are on. You may see slightly different numerical results due to floating-point round-off errors from different computation orders. To turn them off, set the environment variable `TF_ENABLE_ONEDNN_OPTS=0`.\n",
      "2023-04-22 03:22:08.788569: E tensorflow/stream_executor/cuda/cuda_blas.cc:2981] Unable to register cuBLAS factory: Attempting to register factory for plugin cuBLAS when one has already been registered\n"
     ]
    }
   ],
   "source": [
    "import os\n",
    "import math\n",
    "import wandb\n",
    "import random\n",
    "import numpy as np\n",
    "import pandas as pd\n",
    "import tensorflow as tf\n",
    "from tensorflow import keras\n",
    "import matplotlib.pyplot as plt\n",
    "\n",
    "\n",
    "from tensorflow.keras.preprocessing.image import load_img\n",
    "\n",
    "from tensorflow.keras.models import *\n",
    "from tensorflow.keras.layers import *\n",
    "from tensorflow.keras.losses import *\n",
    "from tensorflow.keras.metrics import *\n",
    "from tensorflow.keras.optimizers import *\n",
    "from tensorflow.keras.activations import *\n",
    "\n",
    "from tensorflow.keras.regularizers import *\n",
    "\n",
    "from tensorflow.keras.callbacks import *\n",
    "from keras.preprocessing.image import *\n",
    "from tensorflow.keras.preprocessing import *"
   ]
  },
  {
   "cell_type": "code",
   "execution_count": 2,
   "id": "6970ba03-d344-4b3a-aca9-5b6fd275830f",
   "metadata": {},
   "outputs": [],
   "source": [
    "# Load the CIFAR-10 dataset\n",
    "(x_train, y_train), (x_test, y_test) = keras.datasets.cifar100.load_data()\n",
    "\n",
    "# Normalize pixel values between 0 and 1\n",
    "x_train = x_train / 255.0\n",
    "x_test = x_test / 255.0\n",
    "\n",
    "# Convert labels to one-hot encoded vectors\n",
    "y_train = tf.keras.utils.to_categorical(y_train, num_classes=100)\n",
    "y_test = tf.keras.utils.to_categorical(y_test, num_classes=100)"
   ]
  },
  {
   "cell_type": "code",
   "execution_count": 3,
   "id": "c2dac364-264e-4823-8695-e36d850d7ebe",
   "metadata": {
    "tags": []
   },
   "outputs": [
    {
     "name": "stdout",
     "output_type": "stream",
     "text": [
      "Model: \"model\"\n",
      "_________________________________________________________________\n",
      " Layer (type)                Output Shape              Param #   \n",
      "=================================================================\n",
      " input_1 (InputLayer)        [(None, 32, 32, 3)]       0         \n",
      "                                                                 \n",
      " conv2d (Conv2D)             (None, 30, 30, 32)        896       \n",
      "                                                                 \n",
      " conv2d_1 (Conv2D)           (None, 28, 28, 32)        9248      \n",
      "                                                                 \n",
      " max_pooling2d (MaxPooling2D  (None, 14, 14, 32)       0         \n",
      " )                                                               \n",
      "                                                                 \n",
      " dropout (Dropout)           (None, 14, 14, 32)        0         \n",
      "                                                                 \n",
      " conv2d_2 (Conv2D)           (None, 12, 12, 64)        18496     \n",
      "                                                                 \n",
      " conv2d_3 (Conv2D)           (None, 10, 10, 64)        36928     \n",
      "                                                                 \n",
      " max_pooling2d_1 (MaxPooling  (None, 5, 5, 64)         0         \n",
      " 2D)                                                             \n",
      "                                                                 \n",
      " dropout_1 (Dropout)         (None, 5, 5, 64)          0         \n",
      "                                                                 \n",
      " average_pooling2d (AverageP  (None, 2, 2, 64)         0         \n",
      " ooling2D)                                                       \n",
      "                                                                 \n",
      " flatten (Flatten)           (None, 256)               0         \n",
      "                                                                 \n",
      " dense (Dense)               (None, 512)               131584    \n",
      "                                                                 \n",
      " dense_1 (Dense)             (None, 100)               51300     \n",
      "                                                                 \n",
      "=================================================================\n",
      "Total params: 248,452\n",
      "Trainable params: 248,452\n",
      "Non-trainable params: 0\n",
      "_________________________________________________________________\n"
     ]
    },
    {
     "name": "stderr",
     "output_type": "stream",
     "text": [
      "2023-04-22 03:22:11.019440: I tensorflow/core/platform/cpu_feature_guard.cc:193] This TensorFlow binary is optimized with oneAPI Deep Neural Network Library (oneDNN) to use the following CPU instructions in performance-critical operations:  AVX2 AVX512F AVX512_VNNI FMA\n",
      "To enable them in other operations, rebuild TensorFlow with the appropriate compiler flags.\n",
      "2023-04-22 03:22:11.655028: I tensorflow/core/common_runtime/gpu/gpu_device.cc:1616] Created device /job:localhost/replica:0/task:0/device:GPU:0 with 22277 MB memory:  -> device: 0, name: NVIDIA GeForce RTX 3090, pci bus id: 0000:68:00.0, compute capability: 8.6\n"
     ]
    }
   ],
   "source": [
    "inputs = Input(shape=(32,32, 3))\n",
    "\n",
    "# Layer 1\n",
    "x = Conv2D(32, (3,3), activation='relu', kernel_regularizer=l2(1e-6))(inputs)\n",
    "\n",
    "# Layer 2\n",
    "x = Conv2D(32, (3,3), activation='relu', kernel_regularizer=l2(1e-6))(x)\n",
    "x = MaxPooling2D((2, 2))(x)\n",
    "x = Dropout(0.1)(x)\n",
    "\n",
    "# Layer 3\n",
    "x = Conv2D(64, (3,3), activation='relu', kernel_regularizer=l2(1e-6))(x)\n",
    "\n",
    "# Layer 4\n",
    "x = Conv2D(64, (3,3), activation='relu', kernel_regularizer=l2(1e-6))(x)\n",
    "x = MaxPooling2D((2, 2))(x)\n",
    "x = Dropout(0.1)(x)\n",
    "\n",
    "# Layer 5\n",
    "x = AveragePooling2D()(x)\n",
    "x = Flatten()(x)\n",
    "x = Dense(512, activation='relu', kernel_regularizer=l2(1e-6))(x)\n",
    "\n",
    "# Layer 6\n",
    "outputs = Dense(100, activation='softmax')(x)\n",
    "model = Model(inputs=inputs, outputs=outputs)\n",
    "\n",
    "model.summary()"
   ]
  },
  {
   "cell_type": "code",
   "execution_count": 4,
   "id": "c9897576-4328-4349-90b8-2ac97f68f424",
   "metadata": {
    "tags": []
   },
   "outputs": [],
   "source": [
    "# 옵티마이저 및 학습률 스케줄러 정의\n",
    "# 옵티마이저 정의\n",
    "learning_rate = 1e-3\n",
    "\n",
    "def learning_rate_schedule(epoch):\n",
    "    new_learning_rate = learning_rate\n",
    "\n",
    "    if epoch <= 50:\n",
    "        pass\n",
    "    elif epoch > 50 and epoch <= 100:\n",
    "        new_learning_rate = learning_rate * 0.1\n",
    "    else:\n",
    "        new_learning_rate = learning_rate * 0.01\n",
    "        \n",
    "    print('Learning rate:', new_learning_rate)\n",
    "    \n",
    "    return new_learning_rate\n",
    "\n",
    "\n",
    "opt = tf.keras.optimizers.RMSprop(learning_rate=learning_rate )\n",
    "\n",
    "\n",
    "model.compile(optimizer=opt,\n",
    "              loss='categorical_crossentropy',\n",
    "              metrics=['accuracy'])\n"
   ]
  },
  {
   "cell_type": "code",
   "execution_count": 5,
   "id": "5b0c4da2-fa25-4117-a366-a44db57afcfb",
   "metadata": {},
   "outputs": [],
   "source": [
    "from keras.preprocessing.image import ImageDataGenerator\n",
    "datagen = ImageDataGenerator(horizontal_flip=True,\n",
    "                             vertical_flip= True\n",
    "                             )\n",
    "\n",
    "# 이미지 데이터의 분포를 조정\n",
    "datagen.fit(x_train)"
   ]
  },
  {
   "cell_type": "code",
   "execution_count": 6,
   "id": "492f7e1e-df54-4686-aaca-ba346e556926",
   "metadata": {},
   "outputs": [
    {
     "name": "stderr",
     "output_type": "stream",
     "text": [
      "Failed to detect the name of this notebook, you can set it manually with the WANDB_NOTEBOOK_NAME environment variable to enable code saving.\n",
      "\u001b[34m\u001b[1mwandb\u001b[0m: Currently logged in as: \u001b[33mchan4im\u001b[0m (\u001b[33mhcim\u001b[0m). Use \u001b[1m`wandb login --relogin`\u001b[0m to force relogin\n"
     ]
    },
    {
     "data": {
      "text/html": [
       "wandb version 0.15.0 is available!  To upgrade, please run:\n",
       " $ pip install wandb --upgrade"
      ],
      "text/plain": [
       "<IPython.core.display.HTML object>"
      ]
     },
     "metadata": {},
     "output_type": "display_data"
    },
    {
     "data": {
      "text/html": [
       "Tracking run with wandb version 0.13.10"
      ],
      "text/plain": [
       "<IPython.core.display.HTML object>"
      ]
     },
     "metadata": {},
     "output_type": "display_data"
    },
    {
     "data": {
      "text/html": [
       "Run data is saved locally in <code>/root/jupyter/IHC/gain_proj/wandb/run-20230422_032214-41jqmhl5</code>"
      ],
      "text/plain": [
       "<IPython.core.display.HTML object>"
      ]
     },
     "metadata": {},
     "output_type": "display_data"
    },
    {
     "data": {
      "text/html": [
       "Syncing run <strong><a href='https://wandb.ai/hcim/CIFAR100/runs/41jqmhl5' target=\"_blank\">LeNet-relu</a></strong> to <a href='https://wandb.ai/hcim/CIFAR100' target=\"_blank\">Weights & Biases</a> (<a href='https://wandb.me/run' target=\"_blank\">docs</a>)<br/>"
      ],
      "text/plain": [
       "<IPython.core.display.HTML object>"
      ]
     },
     "metadata": {},
     "output_type": "display_data"
    },
    {
     "data": {
      "text/html": [
       " View project at <a href='https://wandb.ai/hcim/CIFAR100' target=\"_blank\">https://wandb.ai/hcim/CIFAR100</a>"
      ],
      "text/plain": [
       "<IPython.core.display.HTML object>"
      ]
     },
     "metadata": {},
     "output_type": "display_data"
    },
    {
     "data": {
      "text/html": [
       " View run at <a href='https://wandb.ai/hcim/CIFAR100/runs/41jqmhl5' target=\"_blank\">https://wandb.ai/hcim/CIFAR100/runs/41jqmhl5</a>"
      ],
      "text/plain": [
       "<IPython.core.display.HTML object>"
      ]
     },
     "metadata": {},
     "output_type": "display_data"
    },
    {
     "name": "stderr",
     "output_type": "stream",
     "text": [
      "\u001b[34m\u001b[1mwandb\u001b[0m: \u001b[33mWARNING\u001b[0m The save_model argument by default saves the model in the HDF5 format that cannot save custom objects like subclassed models and custom layers. This behavior will be deprecated in a future release in favor of the SavedModel format. Meanwhile, the HDF5 model is saved as W&B files and the SavedModel as W&B Artifacts.\n"
     ]
    }
   ],
   "source": [
    "from tensorflow.keras import callbacks\n",
    "\n",
    "wandb.init(project=\"CIFAR100\", entity=\"hcim\", name='LeNet-relu')\n",
    "\n",
    "wandbCallback=wandb.keras.WandbCallback(monitor=\"val_accuracy\", mode=\"max\", \n",
    "                                        log_weights=True, log_gradients=True, \n",
    "                                        training_data=datagen.flow(x_train, y_train, batch_size=128))\n",
    "\n",
    "\n",
    "callbacks = [wandbCallback, LearningRateScheduler(learning_rate_schedule)]"
   ]
  },
  {
   "cell_type": "code",
   "execution_count": 7,
   "id": "9e995314-6225-4052-95d8-03e5235ea600",
   "metadata": {},
   "outputs": [
    {
     "name": "stdout",
     "output_type": "stream",
     "text": [
      "Learning rate: 0.001\n",
      "Epoch 1/200\n"
     ]
    },
    {
     "name": "stderr",
     "output_type": "stream",
     "text": [
      "2023-04-22 03:22:17.086094: I tensorflow/stream_executor/cuda/cuda_dnn.cc:384] Loaded cuDNN version 8100\n",
      "2023-04-22 03:22:18.385742: I tensorflow/stream_executor/cuda/cuda_blas.cc:1614] TensorFloat-32 will be used for the matrix multiplication. This will only be logged once.\n"
     ]
    },
    {
     "name": "stdout",
     "output_type": "stream",
     "text": [
      "391/391 [==============================] - ETA: 0s - loss: 4.1744 - accuracy: 0.0627"
     ]
    },
    {
     "name": "stderr",
     "output_type": "stream",
     "text": [
      "WARNING:absl:Found untraced functions such as _jit_compiled_convolution_op, _jit_compiled_convolution_op, _jit_compiled_convolution_op, _jit_compiled_convolution_op while saving (showing 4 of 4). These functions will not be directly callable after loading.\n"
     ]
    },
    {
     "name": "stdout",
     "output_type": "stream",
     "text": [
      "INFO:tensorflow:Assets written to: /root/jupyter/IHC/gain_proj/wandb/run-20230422_032214-41jqmhl5/files/model-best/assets\n"
     ]
    },
    {
     "name": "stderr",
     "output_type": "stream",
     "text": [
      "INFO:tensorflow:Assets written to: /root/jupyter/IHC/gain_proj/wandb/run-20230422_032214-41jqmhl5/files/model-best/assets\n",
      "\u001b[34m\u001b[1mwandb\u001b[0m: Adding directory to artifact (/root/jupyter/IHC/gain_proj/wandb/run-20230422_032214-41jqmhl5/files/model-best)... Done. 0.0s\n"
     ]
    },
    {
     "name": "stdout",
     "output_type": "stream",
     "text": [
      "391/391 [==============================] - 25s 58ms/step - loss: 4.1744 - accuracy: 0.0627 - val_loss: 3.8348 - val_accuracy: 0.1080 - lr: 0.0010\n",
      "Learning rate: 0.001\n",
      "Epoch 2/200\n",
      "388/391 [============================>.] - ETA: 0s - loss: 3.6990 - accuracy: 0.1346"
     ]
    },
    {
     "name": "stderr",
     "output_type": "stream",
     "text": [
      "WARNING:absl:Found untraced functions such as _jit_compiled_convolution_op, _jit_compiled_convolution_op, _jit_compiled_convolution_op, _jit_compiled_convolution_op while saving (showing 4 of 4). These functions will not be directly callable after loading.\n"
     ]
    },
    {
     "name": "stdout",
     "output_type": "stream",
     "text": [
      "INFO:tensorflow:Assets written to: /root/jupyter/IHC/gain_proj/wandb/run-20230422_032214-41jqmhl5/files/model-best/assets\n"
     ]
    },
    {
     "name": "stderr",
     "output_type": "stream",
     "text": [
      "INFO:tensorflow:Assets written to: /root/jupyter/IHC/gain_proj/wandb/run-20230422_032214-41jqmhl5/files/model-best/assets\n",
      "\u001b[34m\u001b[1mwandb\u001b[0m: Adding directory to artifact (/root/jupyter/IHC/gain_proj/wandb/run-20230422_032214-41jqmhl5/files/model-best)... Done. 0.0s\n"
     ]
    },
    {
     "name": "stdout",
     "output_type": "stream",
     "text": [
      "391/391 [==============================] - 22s 55ms/step - loss: 3.6992 - accuracy: 0.1344 - val_loss: 3.5464 - val_accuracy: 0.1617 - lr: 0.0010\n",
      "Learning rate: 0.001\n",
      "Epoch 3/200\n",
      "388/391 [============================>.] - ETA: 0s - loss: 3.4334 - accuracy: 0.1793"
     ]
    },
    {
     "name": "stderr",
     "output_type": "stream",
     "text": [
      "WARNING:absl:Found untraced functions such as _jit_compiled_convolution_op, _jit_compiled_convolution_op, _jit_compiled_convolution_op, _jit_compiled_convolution_op while saving (showing 4 of 4). These functions will not be directly callable after loading.\n"
     ]
    },
    {
     "name": "stdout",
     "output_type": "stream",
     "text": [
      "INFO:tensorflow:Assets written to: /root/jupyter/IHC/gain_proj/wandb/run-20230422_032214-41jqmhl5/files/model-best/assets\n"
     ]
    },
    {
     "name": "stderr",
     "output_type": "stream",
     "text": [
      "INFO:tensorflow:Assets written to: /root/jupyter/IHC/gain_proj/wandb/run-20230422_032214-41jqmhl5/files/model-best/assets\n",
      "\u001b[34m\u001b[1mwandb\u001b[0m: Adding directory to artifact (/root/jupyter/IHC/gain_proj/wandb/run-20230422_032214-41jqmhl5/files/model-best)... Done. 0.0s\n"
     ]
    },
    {
     "name": "stdout",
     "output_type": "stream",
     "text": [
      "391/391 [==============================] - 21s 54ms/step - loss: 3.4321 - accuracy: 0.1797 - val_loss: 3.2596 - val_accuracy: 0.2122 - lr: 0.0010\n",
      "Learning rate: 0.001\n",
      "Epoch 4/200\n",
      "387/391 [============================>.] - ETA: 0s - loss: 3.2402 - accuracy: 0.2149"
     ]
    },
    {
     "name": "stderr",
     "output_type": "stream",
     "text": [
      "WARNING:absl:Found untraced functions such as _jit_compiled_convolution_op, _jit_compiled_convolution_op, _jit_compiled_convolution_op, _jit_compiled_convolution_op while saving (showing 4 of 4). These functions will not be directly callable after loading.\n"
     ]
    },
    {
     "name": "stdout",
     "output_type": "stream",
     "text": [
      "INFO:tensorflow:Assets written to: /root/jupyter/IHC/gain_proj/wandb/run-20230422_032214-41jqmhl5/files/model-best/assets\n"
     ]
    },
    {
     "name": "stderr",
     "output_type": "stream",
     "text": [
      "INFO:tensorflow:Assets written to: /root/jupyter/IHC/gain_proj/wandb/run-20230422_032214-41jqmhl5/files/model-best/assets\n",
      "\u001b[34m\u001b[1mwandb\u001b[0m: Adding directory to artifact (/root/jupyter/IHC/gain_proj/wandb/run-20230422_032214-41jqmhl5/files/model-best)... Done. 0.0s\n"
     ]
    },
    {
     "name": "stdout",
     "output_type": "stream",
     "text": [
      "391/391 [==============================] - 22s 56ms/step - loss: 3.2392 - accuracy: 0.2150 - val_loss: 3.1355 - val_accuracy: 0.2395 - lr: 0.0010\n",
      "Learning rate: 0.001\n",
      "Epoch 5/200\n",
      "389/391 [============================>.] - ETA: 0s - loss: 3.0953 - accuracy: 0.2434"
     ]
    },
    {
     "name": "stderr",
     "output_type": "stream",
     "text": [
      "WARNING:absl:Found untraced functions such as _jit_compiled_convolution_op, _jit_compiled_convolution_op, _jit_compiled_convolution_op, _jit_compiled_convolution_op while saving (showing 4 of 4). These functions will not be directly callable after loading.\n"
     ]
    },
    {
     "name": "stdout",
     "output_type": "stream",
     "text": [
      "INFO:tensorflow:Assets written to: /root/jupyter/IHC/gain_proj/wandb/run-20230422_032214-41jqmhl5/files/model-best/assets\n"
     ]
    },
    {
     "name": "stderr",
     "output_type": "stream",
     "text": [
      "INFO:tensorflow:Assets written to: /root/jupyter/IHC/gain_proj/wandb/run-20230422_032214-41jqmhl5/files/model-best/assets\n",
      "\u001b[34m\u001b[1mwandb\u001b[0m: Adding directory to artifact (/root/jupyter/IHC/gain_proj/wandb/run-20230422_032214-41jqmhl5/files/model-best)... Done. 0.0s\n"
     ]
    },
    {
     "name": "stdout",
     "output_type": "stream",
     "text": [
      "391/391 [==============================] - 23s 59ms/step - loss: 3.0950 - accuracy: 0.2435 - val_loss: 3.0589 - val_accuracy: 0.2523 - lr: 0.0010\n",
      "Learning rate: 0.001\n",
      "Epoch 6/200\n",
      "387/391 [============================>.] - ETA: 0s - loss: 2.9710 - accuracy: 0.2664"
     ]
    },
    {
     "name": "stderr",
     "output_type": "stream",
     "text": [
      "WARNING:absl:Found untraced functions such as _jit_compiled_convolution_op, _jit_compiled_convolution_op, _jit_compiled_convolution_op, _jit_compiled_convolution_op while saving (showing 4 of 4). These functions will not be directly callable after loading.\n"
     ]
    },
    {
     "name": "stdout",
     "output_type": "stream",
     "text": [
      "INFO:tensorflow:Assets written to: /root/jupyter/IHC/gain_proj/wandb/run-20230422_032214-41jqmhl5/files/model-best/assets\n"
     ]
    },
    {
     "name": "stderr",
     "output_type": "stream",
     "text": [
      "INFO:tensorflow:Assets written to: /root/jupyter/IHC/gain_proj/wandb/run-20230422_032214-41jqmhl5/files/model-best/assets\n",
      "\u001b[34m\u001b[1mwandb\u001b[0m: Adding directory to artifact (/root/jupyter/IHC/gain_proj/wandb/run-20230422_032214-41jqmhl5/files/model-best)... Done. 0.0s\n"
     ]
    },
    {
     "name": "stdout",
     "output_type": "stream",
     "text": [
      "391/391 [==============================] - 22s 55ms/step - loss: 2.9708 - accuracy: 0.2664 - val_loss: 2.9359 - val_accuracy: 0.2701 - lr: 0.0010\n",
      "Learning rate: 0.001\n",
      "Epoch 7/200\n",
      "389/391 [============================>.] - ETA: 0s - loss: 2.8674 - accuracy: 0.2844"
     ]
    },
    {
     "name": "stderr",
     "output_type": "stream",
     "text": [
      "WARNING:absl:Found untraced functions such as _jit_compiled_convolution_op, _jit_compiled_convolution_op, _jit_compiled_convolution_op, _jit_compiled_convolution_op while saving (showing 4 of 4). These functions will not be directly callable after loading.\n"
     ]
    },
    {
     "name": "stdout",
     "output_type": "stream",
     "text": [
      "INFO:tensorflow:Assets written to: /root/jupyter/IHC/gain_proj/wandb/run-20230422_032214-41jqmhl5/files/model-best/assets\n"
     ]
    },
    {
     "name": "stderr",
     "output_type": "stream",
     "text": [
      "INFO:tensorflow:Assets written to: /root/jupyter/IHC/gain_proj/wandb/run-20230422_032214-41jqmhl5/files/model-best/assets\n",
      "\u001b[34m\u001b[1mwandb\u001b[0m: Adding directory to artifact (/root/jupyter/IHC/gain_proj/wandb/run-20230422_032214-41jqmhl5/files/model-best)... Done. 0.0s\n"
     ]
    },
    {
     "name": "stdout",
     "output_type": "stream",
     "text": [
      "391/391 [==============================] - 22s 56ms/step - loss: 2.8665 - accuracy: 0.2846 - val_loss: 2.8337 - val_accuracy: 0.2862 - lr: 0.0010\n",
      "Learning rate: 0.001\n",
      "Epoch 8/200\n",
      "390/391 [============================>.] - ETA: 0s - loss: 2.7773 - accuracy: 0.3066"
     ]
    },
    {
     "name": "stderr",
     "output_type": "stream",
     "text": [
      "WARNING:absl:Found untraced functions such as _jit_compiled_convolution_op, _jit_compiled_convolution_op, _jit_compiled_convolution_op, _jit_compiled_convolution_op while saving (showing 4 of 4). These functions will not be directly callable after loading.\n"
     ]
    },
    {
     "name": "stdout",
     "output_type": "stream",
     "text": [
      "INFO:tensorflow:Assets written to: /root/jupyter/IHC/gain_proj/wandb/run-20230422_032214-41jqmhl5/files/model-best/assets\n"
     ]
    },
    {
     "name": "stderr",
     "output_type": "stream",
     "text": [
      "INFO:tensorflow:Assets written to: /root/jupyter/IHC/gain_proj/wandb/run-20230422_032214-41jqmhl5/files/model-best/assets\n",
      "\u001b[34m\u001b[1mwandb\u001b[0m: Adding directory to artifact (/root/jupyter/IHC/gain_proj/wandb/run-20230422_032214-41jqmhl5/files/model-best)... Done. 0.0s\n"
     ]
    },
    {
     "name": "stdout",
     "output_type": "stream",
     "text": [
      "391/391 [==============================] - 22s 55ms/step - loss: 2.7776 - accuracy: 0.3066 - val_loss: 2.7646 - val_accuracy: 0.3083 - lr: 0.0010\n",
      "Learning rate: 0.001\n",
      "Epoch 9/200\n",
      "390/391 [============================>.] - ETA: 0s - loss: 2.6895 - accuracy: 0.3204"
     ]
    },
    {
     "name": "stderr",
     "output_type": "stream",
     "text": [
      "WARNING:absl:Found untraced functions such as _jit_compiled_convolution_op, _jit_compiled_convolution_op, _jit_compiled_convolution_op, _jit_compiled_convolution_op while saving (showing 4 of 4). These functions will not be directly callable after loading.\n"
     ]
    },
    {
     "name": "stdout",
     "output_type": "stream",
     "text": [
      "INFO:tensorflow:Assets written to: /root/jupyter/IHC/gain_proj/wandb/run-20230422_032214-41jqmhl5/files/model-best/assets\n"
     ]
    },
    {
     "name": "stderr",
     "output_type": "stream",
     "text": [
      "INFO:tensorflow:Assets written to: /root/jupyter/IHC/gain_proj/wandb/run-20230422_032214-41jqmhl5/files/model-best/assets\n",
      "\u001b[34m\u001b[1mwandb\u001b[0m: Adding directory to artifact (/root/jupyter/IHC/gain_proj/wandb/run-20230422_032214-41jqmhl5/files/model-best)... Done. 0.0s\n"
     ]
    },
    {
     "name": "stdout",
     "output_type": "stream",
     "text": [
      "391/391 [==============================] - 22s 55ms/step - loss: 2.6899 - accuracy: 0.3204 - val_loss: 2.7038 - val_accuracy: 0.3170 - lr: 0.0010\n",
      "Learning rate: 0.001\n",
      "Epoch 10/200\n",
      "387/391 [============================>.] - ETA: 0s - loss: 2.6255 - accuracy: 0.3349"
     ]
    },
    {
     "name": "stderr",
     "output_type": "stream",
     "text": [
      "WARNING:absl:Found untraced functions such as _jit_compiled_convolution_op, _jit_compiled_convolution_op, _jit_compiled_convolution_op, _jit_compiled_convolution_op while saving (showing 4 of 4). These functions will not be directly callable after loading.\n"
     ]
    },
    {
     "name": "stdout",
     "output_type": "stream",
     "text": [
      "INFO:tensorflow:Assets written to: /root/jupyter/IHC/gain_proj/wandb/run-20230422_032214-41jqmhl5/files/model-best/assets\n"
     ]
    },
    {
     "name": "stderr",
     "output_type": "stream",
     "text": [
      "INFO:tensorflow:Assets written to: /root/jupyter/IHC/gain_proj/wandb/run-20230422_032214-41jqmhl5/files/model-best/assets\n",
      "\u001b[34m\u001b[1mwandb\u001b[0m: Adding directory to artifact (/root/jupyter/IHC/gain_proj/wandb/run-20230422_032214-41jqmhl5/files/model-best)... Done. 0.0s\n"
     ]
    },
    {
     "name": "stdout",
     "output_type": "stream",
     "text": [
      "391/391 [==============================] - 22s 55ms/step - loss: 2.6254 - accuracy: 0.3348 - val_loss: 2.6695 - val_accuracy: 0.3292 - lr: 0.0010\n",
      "Learning rate: 0.001\n",
      "Epoch 11/200\n",
      "391/391 [==============================] - ETA: 0s - loss: 2.5692 - accuracy: 0.3474"
     ]
    },
    {
     "name": "stderr",
     "output_type": "stream",
     "text": [
      "WARNING:absl:Found untraced functions such as _jit_compiled_convolution_op, _jit_compiled_convolution_op, _jit_compiled_convolution_op, _jit_compiled_convolution_op while saving (showing 4 of 4). These functions will not be directly callable after loading.\n"
     ]
    },
    {
     "name": "stdout",
     "output_type": "stream",
     "text": [
      "INFO:tensorflow:Assets written to: /root/jupyter/IHC/gain_proj/wandb/run-20230422_032214-41jqmhl5/files/model-best/assets\n"
     ]
    },
    {
     "name": "stderr",
     "output_type": "stream",
     "text": [
      "INFO:tensorflow:Assets written to: /root/jupyter/IHC/gain_proj/wandb/run-20230422_032214-41jqmhl5/files/model-best/assets\n",
      "\u001b[34m\u001b[1mwandb\u001b[0m: Adding directory to artifact (/root/jupyter/IHC/gain_proj/wandb/run-20230422_032214-41jqmhl5/files/model-best)... Done. 0.0s\n"
     ]
    },
    {
     "name": "stdout",
     "output_type": "stream",
     "text": [
      "391/391 [==============================] - 22s 55ms/step - loss: 2.5692 - accuracy: 0.3474 - val_loss: 2.6035 - val_accuracy: 0.3373 - lr: 0.0010\n",
      "Learning rate: 0.001\n",
      "Epoch 12/200\n",
      "391/391 [==============================] - 20s 52ms/step - loss: 2.5092 - accuracy: 0.3537 - val_loss: 2.7160 - val_accuracy: 0.3274 - lr: 0.0010\n",
      "Learning rate: 0.001\n",
      "Epoch 13/200\n",
      "390/391 [============================>.] - ETA: 0s - loss: 2.4573 - accuracy: 0.3661"
     ]
    },
    {
     "name": "stderr",
     "output_type": "stream",
     "text": [
      "WARNING:absl:Found untraced functions such as _jit_compiled_convolution_op, _jit_compiled_convolution_op, _jit_compiled_convolution_op, _jit_compiled_convolution_op while saving (showing 4 of 4). These functions will not be directly callable after loading.\n"
     ]
    },
    {
     "name": "stdout",
     "output_type": "stream",
     "text": [
      "INFO:tensorflow:Assets written to: /root/jupyter/IHC/gain_proj/wandb/run-20230422_032214-41jqmhl5/files/model-best/assets\n"
     ]
    },
    {
     "name": "stderr",
     "output_type": "stream",
     "text": [
      "INFO:tensorflow:Assets written to: /root/jupyter/IHC/gain_proj/wandb/run-20230422_032214-41jqmhl5/files/model-best/assets\n",
      "\u001b[34m\u001b[1mwandb\u001b[0m: Adding directory to artifact (/root/jupyter/IHC/gain_proj/wandb/run-20230422_032214-41jqmhl5/files/model-best)... Done. 0.0s\n"
     ]
    },
    {
     "name": "stdout",
     "output_type": "stream",
     "text": [
      "391/391 [==============================] - 22s 56ms/step - loss: 2.4562 - accuracy: 0.3663 - val_loss: 2.4603 - val_accuracy: 0.3715 - lr: 0.0010\n",
      "Learning rate: 0.001\n",
      "Epoch 14/200\n",
      "391/391 [==============================] - 21s 53ms/step - loss: 2.4166 - accuracy: 0.3753 - val_loss: 2.4736 - val_accuracy: 0.3650 - lr: 0.0010\n",
      "Learning rate: 0.001\n",
      "Epoch 15/200\n",
      "391/391 [==============================] - 20s 52ms/step - loss: 2.3823 - accuracy: 0.3826 - val_loss: 2.6799 - val_accuracy: 0.3300 - lr: 0.0010\n",
      "Learning rate: 0.001\n",
      "Epoch 16/200\n",
      "389/391 [============================>.] - ETA: 0s - loss: 2.3489 - accuracy: 0.3921"
     ]
    },
    {
     "name": "stderr",
     "output_type": "stream",
     "text": [
      "WARNING:absl:Found untraced functions such as _jit_compiled_convolution_op, _jit_compiled_convolution_op, _jit_compiled_convolution_op, _jit_compiled_convolution_op while saving (showing 4 of 4). These functions will not be directly callable after loading.\n"
     ]
    },
    {
     "name": "stdout",
     "output_type": "stream",
     "text": [
      "INFO:tensorflow:Assets written to: /root/jupyter/IHC/gain_proj/wandb/run-20230422_032214-41jqmhl5/files/model-best/assets\n"
     ]
    },
    {
     "name": "stderr",
     "output_type": "stream",
     "text": [
      "INFO:tensorflow:Assets written to: /root/jupyter/IHC/gain_proj/wandb/run-20230422_032214-41jqmhl5/files/model-best/assets\n",
      "\u001b[34m\u001b[1mwandb\u001b[0m: Adding directory to artifact (/root/jupyter/IHC/gain_proj/wandb/run-20230422_032214-41jqmhl5/files/model-best)... Done. 0.0s\n"
     ]
    },
    {
     "name": "stdout",
     "output_type": "stream",
     "text": [
      "391/391 [==============================] - 22s 55ms/step - loss: 2.3483 - accuracy: 0.3923 - val_loss: 2.3882 - val_accuracy: 0.3812 - lr: 0.0010\n",
      "Learning rate: 0.001\n",
      "Epoch 17/200\n",
      "391/391 [==============================] - 20s 52ms/step - loss: 2.3027 - accuracy: 0.3994 - val_loss: 2.4506 - val_accuracy: 0.3674 - lr: 0.0010\n",
      "Learning rate: 0.001\n",
      "Epoch 18/200\n",
      "388/391 [============================>.] - ETA: 0s - loss: 2.2781 - accuracy: 0.4057"
     ]
    },
    {
     "name": "stderr",
     "output_type": "stream",
     "text": [
      "WARNING:absl:Found untraced functions such as _jit_compiled_convolution_op, _jit_compiled_convolution_op, _jit_compiled_convolution_op, _jit_compiled_convolution_op while saving (showing 4 of 4). These functions will not be directly callable after loading.\n"
     ]
    },
    {
     "name": "stdout",
     "output_type": "stream",
     "text": [
      "INFO:tensorflow:Assets written to: /root/jupyter/IHC/gain_proj/wandb/run-20230422_032214-41jqmhl5/files/model-best/assets\n"
     ]
    },
    {
     "name": "stderr",
     "output_type": "stream",
     "text": [
      "INFO:tensorflow:Assets written to: /root/jupyter/IHC/gain_proj/wandb/run-20230422_032214-41jqmhl5/files/model-best/assets\n",
      "\u001b[34m\u001b[1mwandb\u001b[0m: Adding directory to artifact (/root/jupyter/IHC/gain_proj/wandb/run-20230422_032214-41jqmhl5/files/model-best)... Done. 0.0s\n"
     ]
    },
    {
     "name": "stdout",
     "output_type": "stream",
     "text": [
      "391/391 [==============================] - 22s 56ms/step - loss: 2.2780 - accuracy: 0.4056 - val_loss: 2.3734 - val_accuracy: 0.3840 - lr: 0.0010\n",
      "Learning rate: 0.001\n",
      "Epoch 19/200\n",
      "388/391 [============================>.] - ETA: 0s - loss: 2.2452 - accuracy: 0.4118"
     ]
    },
    {
     "name": "stderr",
     "output_type": "stream",
     "text": [
      "WARNING:absl:Found untraced functions such as _jit_compiled_convolution_op, _jit_compiled_convolution_op, _jit_compiled_convolution_op, _jit_compiled_convolution_op while saving (showing 4 of 4). These functions will not be directly callable after loading.\n"
     ]
    },
    {
     "name": "stdout",
     "output_type": "stream",
     "text": [
      "INFO:tensorflow:Assets written to: /root/jupyter/IHC/gain_proj/wandb/run-20230422_032214-41jqmhl5/files/model-best/assets\n"
     ]
    },
    {
     "name": "stderr",
     "output_type": "stream",
     "text": [
      "INFO:tensorflow:Assets written to: /root/jupyter/IHC/gain_proj/wandb/run-20230422_032214-41jqmhl5/files/model-best/assets\n",
      "\u001b[34m\u001b[1mwandb\u001b[0m: Adding directory to artifact (/root/jupyter/IHC/gain_proj/wandb/run-20230422_032214-41jqmhl5/files/model-best)... Done. 0.0s\n"
     ]
    },
    {
     "name": "stdout",
     "output_type": "stream",
     "text": [
      "391/391 [==============================] - 22s 56ms/step - loss: 2.2456 - accuracy: 0.4119 - val_loss: 2.3725 - val_accuracy: 0.3891 - lr: 0.0010\n",
      "Learning rate: 0.001\n",
      "Epoch 20/200\n",
      "391/391 [==============================] - 20s 51ms/step - loss: 2.2193 - accuracy: 0.4200 - val_loss: 2.4656 - val_accuracy: 0.3741 - lr: 0.0010\n",
      "Learning rate: 0.001\n",
      "Epoch 21/200\n",
      "390/391 [============================>.] - ETA: 0s - loss: 2.1945 - accuracy: 0.4247"
     ]
    },
    {
     "name": "stderr",
     "output_type": "stream",
     "text": [
      "WARNING:absl:Found untraced functions such as _jit_compiled_convolution_op, _jit_compiled_convolution_op, _jit_compiled_convolution_op, _jit_compiled_convolution_op while saving (showing 4 of 4). These functions will not be directly callable after loading.\n"
     ]
    },
    {
     "name": "stdout",
     "output_type": "stream",
     "text": [
      "INFO:tensorflow:Assets written to: /root/jupyter/IHC/gain_proj/wandb/run-20230422_032214-41jqmhl5/files/model-best/assets\n"
     ]
    },
    {
     "name": "stderr",
     "output_type": "stream",
     "text": [
      "INFO:tensorflow:Assets written to: /root/jupyter/IHC/gain_proj/wandb/run-20230422_032214-41jqmhl5/files/model-best/assets\n",
      "\u001b[34m\u001b[1mwandb\u001b[0m: Adding directory to artifact (/root/jupyter/IHC/gain_proj/wandb/run-20230422_032214-41jqmhl5/files/model-best)... Done. 0.0s\n"
     ]
    },
    {
     "name": "stdout",
     "output_type": "stream",
     "text": [
      "391/391 [==============================] - 22s 57ms/step - loss: 2.1948 - accuracy: 0.4246 - val_loss: 2.3619 - val_accuracy: 0.3940 - lr: 0.0010\n",
      "Learning rate: 0.001\n",
      "Epoch 22/200\n",
      "391/391 [==============================] - 20s 52ms/step - loss: 2.1674 - accuracy: 0.4307 - val_loss: 2.3736 - val_accuracy: 0.3864 - lr: 0.0010\n",
      "Learning rate: 0.001\n",
      "Epoch 23/200\n",
      "391/391 [==============================] - ETA: 0s - loss: 2.1407 - accuracy: 0.4346"
     ]
    },
    {
     "name": "stderr",
     "output_type": "stream",
     "text": [
      "WARNING:absl:Found untraced functions such as _jit_compiled_convolution_op, _jit_compiled_convolution_op, _jit_compiled_convolution_op, _jit_compiled_convolution_op while saving (showing 4 of 4). These functions will not be directly callable after loading.\n"
     ]
    },
    {
     "name": "stdout",
     "output_type": "stream",
     "text": [
      "INFO:tensorflow:Assets written to: /root/jupyter/IHC/gain_proj/wandb/run-20230422_032214-41jqmhl5/files/model-best/assets\n"
     ]
    },
    {
     "name": "stderr",
     "output_type": "stream",
     "text": [
      "INFO:tensorflow:Assets written to: /root/jupyter/IHC/gain_proj/wandb/run-20230422_032214-41jqmhl5/files/model-best/assets\n",
      "\u001b[34m\u001b[1mwandb\u001b[0m: Adding directory to artifact (/root/jupyter/IHC/gain_proj/wandb/run-20230422_032214-41jqmhl5/files/model-best)... Done. 0.0s\n"
     ]
    },
    {
     "name": "stdout",
     "output_type": "stream",
     "text": [
      "391/391 [==============================] - 22s 55ms/step - loss: 2.1407 - accuracy: 0.4346 - val_loss: 2.3282 - val_accuracy: 0.4044 - lr: 0.0010\n",
      "Learning rate: 0.001\n",
      "Epoch 24/200\n",
      "391/391 [==============================] - 20s 52ms/step - loss: 2.1178 - accuracy: 0.4407 - val_loss: 2.3489 - val_accuracy: 0.3966 - lr: 0.0010\n",
      "Learning rate: 0.001\n",
      "Epoch 25/200\n",
      "387/391 [============================>.] - ETA: 0s - loss: 2.0944 - accuracy: 0.4452"
     ]
    },
    {
     "name": "stderr",
     "output_type": "stream",
     "text": [
      "WARNING:absl:Found untraced functions such as _jit_compiled_convolution_op, _jit_compiled_convolution_op, _jit_compiled_convolution_op, _jit_compiled_convolution_op while saving (showing 4 of 4). These functions will not be directly callable after loading.\n"
     ]
    },
    {
     "name": "stdout",
     "output_type": "stream",
     "text": [
      "INFO:tensorflow:Assets written to: /root/jupyter/IHC/gain_proj/wandb/run-20230422_032214-41jqmhl5/files/model-best/assets\n"
     ]
    },
    {
     "name": "stderr",
     "output_type": "stream",
     "text": [
      "INFO:tensorflow:Assets written to: /root/jupyter/IHC/gain_proj/wandb/run-20230422_032214-41jqmhl5/files/model-best/assets\n",
      "\u001b[34m\u001b[1mwandb\u001b[0m: Adding directory to artifact (/root/jupyter/IHC/gain_proj/wandb/run-20230422_032214-41jqmhl5/files/model-best)... Done. 0.0s\n"
     ]
    },
    {
     "name": "stdout",
     "output_type": "stream",
     "text": [
      "391/391 [==============================] - 21s 55ms/step - loss: 2.0959 - accuracy: 0.4449 - val_loss: 2.2845 - val_accuracy: 0.4061 - lr: 0.0010\n",
      "Learning rate: 0.001\n",
      "Epoch 26/200\n",
      "391/391 [==============================] - 20s 51ms/step - loss: 2.0785 - accuracy: 0.4507 - val_loss: 2.3906 - val_accuracy: 0.3952 - lr: 0.0010\n",
      "Learning rate: 0.001\n",
      "Epoch 27/200\n",
      "391/391 [==============================] - 20s 52ms/step - loss: 2.0633 - accuracy: 0.4521 - val_loss: 2.4200 - val_accuracy: 0.3879 - lr: 0.0010\n",
      "Learning rate: 0.001\n",
      "Epoch 28/200\n",
      "391/391 [==============================] - ETA: 0s - loss: 2.0460 - accuracy: 0.4573"
     ]
    },
    {
     "name": "stderr",
     "output_type": "stream",
     "text": [
      "WARNING:absl:Found untraced functions such as _jit_compiled_convolution_op, _jit_compiled_convolution_op, _jit_compiled_convolution_op, _jit_compiled_convolution_op while saving (showing 4 of 4). These functions will not be directly callable after loading.\n"
     ]
    },
    {
     "name": "stdout",
     "output_type": "stream",
     "text": [
      "INFO:tensorflow:Assets written to: /root/jupyter/IHC/gain_proj/wandb/run-20230422_032214-41jqmhl5/files/model-best/assets\n"
     ]
    },
    {
     "name": "stderr",
     "output_type": "stream",
     "text": [
      "INFO:tensorflow:Assets written to: /root/jupyter/IHC/gain_proj/wandb/run-20230422_032214-41jqmhl5/files/model-best/assets\n",
      "\u001b[34m\u001b[1mwandb\u001b[0m: Adding directory to artifact (/root/jupyter/IHC/gain_proj/wandb/run-20230422_032214-41jqmhl5/files/model-best)... Done. 0.0s\n"
     ]
    },
    {
     "name": "stdout",
     "output_type": "stream",
     "text": [
      "391/391 [==============================] - 23s 58ms/step - loss: 2.0460 - accuracy: 0.4573 - val_loss: 2.2842 - val_accuracy: 0.4079 - lr: 0.0010\n",
      "Learning rate: 0.001\n",
      "Epoch 29/200\n",
      "388/391 [============================>.] - ETA: 0s - loss: 2.0242 - accuracy: 0.4611"
     ]
    },
    {
     "name": "stderr",
     "output_type": "stream",
     "text": [
      "WARNING:absl:Found untraced functions such as _jit_compiled_convolution_op, _jit_compiled_convolution_op, _jit_compiled_convolution_op, _jit_compiled_convolution_op while saving (showing 4 of 4). These functions will not be directly callable after loading.\n"
     ]
    },
    {
     "name": "stdout",
     "output_type": "stream",
     "text": [
      "INFO:tensorflow:Assets written to: /root/jupyter/IHC/gain_proj/wandb/run-20230422_032214-41jqmhl5/files/model-best/assets\n"
     ]
    },
    {
     "name": "stderr",
     "output_type": "stream",
     "text": [
      "INFO:tensorflow:Assets written to: /root/jupyter/IHC/gain_proj/wandb/run-20230422_032214-41jqmhl5/files/model-best/assets\n",
      "\u001b[34m\u001b[1mwandb\u001b[0m: Adding directory to artifact (/root/jupyter/IHC/gain_proj/wandb/run-20230422_032214-41jqmhl5/files/model-best)... Done. 0.0s\n"
     ]
    },
    {
     "name": "stdout",
     "output_type": "stream",
     "text": [
      "391/391 [==============================] - 21s 54ms/step - loss: 2.0230 - accuracy: 0.4612 - val_loss: 2.2605 - val_accuracy: 0.4215 - lr: 0.0010\n",
      "Learning rate: 0.001\n",
      "Epoch 30/200\n",
      "391/391 [==============================] - ETA: 0s - loss: 2.0156 - accuracy: 0.4621"
     ]
    },
    {
     "name": "stderr",
     "output_type": "stream",
     "text": [
      "WARNING:absl:Found untraced functions such as _jit_compiled_convolution_op, _jit_compiled_convolution_op, _jit_compiled_convolution_op, _jit_compiled_convolution_op while saving (showing 4 of 4). These functions will not be directly callable after loading.\n"
     ]
    },
    {
     "name": "stdout",
     "output_type": "stream",
     "text": [
      "INFO:tensorflow:Assets written to: /root/jupyter/IHC/gain_proj/wandb/run-20230422_032214-41jqmhl5/files/model-best/assets\n"
     ]
    },
    {
     "name": "stderr",
     "output_type": "stream",
     "text": [
      "INFO:tensorflow:Assets written to: /root/jupyter/IHC/gain_proj/wandb/run-20230422_032214-41jqmhl5/files/model-best/assets\n",
      "\u001b[34m\u001b[1mwandb\u001b[0m: Adding directory to artifact (/root/jupyter/IHC/gain_proj/wandb/run-20230422_032214-41jqmhl5/files/model-best)... Done. 0.0s\n"
     ]
    },
    {
     "name": "stdout",
     "output_type": "stream",
     "text": [
      "391/391 [==============================] - 22s 56ms/step - loss: 2.0156 - accuracy: 0.4621 - val_loss: 2.2332 - val_accuracy: 0.4226 - lr: 0.0010\n",
      "Learning rate: 0.001\n",
      "Epoch 31/200\n",
      "391/391 [==============================] - ETA: 0s - loss: 1.9979 - accuracy: 0.4651"
     ]
    },
    {
     "name": "stderr",
     "output_type": "stream",
     "text": [
      "WARNING:absl:Found untraced functions such as _jit_compiled_convolution_op, _jit_compiled_convolution_op, _jit_compiled_convolution_op, _jit_compiled_convolution_op while saving (showing 4 of 4). These functions will not be directly callable after loading.\n"
     ]
    },
    {
     "name": "stdout",
     "output_type": "stream",
     "text": [
      "INFO:tensorflow:Assets written to: /root/jupyter/IHC/gain_proj/wandb/run-20230422_032214-41jqmhl5/files/model-best/assets\n"
     ]
    },
    {
     "name": "stderr",
     "output_type": "stream",
     "text": [
      "INFO:tensorflow:Assets written to: /root/jupyter/IHC/gain_proj/wandb/run-20230422_032214-41jqmhl5/files/model-best/assets\n",
      "\u001b[34m\u001b[1mwandb\u001b[0m: Adding directory to artifact (/root/jupyter/IHC/gain_proj/wandb/run-20230422_032214-41jqmhl5/files/model-best)... Done. 0.0s\n"
     ]
    },
    {
     "name": "stdout",
     "output_type": "stream",
     "text": [
      "391/391 [==============================] - 22s 56ms/step - loss: 1.9979 - accuracy: 0.4651 - val_loss: 2.2145 - val_accuracy: 0.4267 - lr: 0.0010\n",
      "Learning rate: 0.001\n",
      "Epoch 32/200\n",
      "388/391 [============================>.] - ETA: 0s - loss: 1.9887 - accuracy: 0.4688"
     ]
    },
    {
     "name": "stderr",
     "output_type": "stream",
     "text": [
      "WARNING:absl:Found untraced functions such as _jit_compiled_convolution_op, _jit_compiled_convolution_op, _jit_compiled_convolution_op, _jit_compiled_convolution_op while saving (showing 4 of 4). These functions will not be directly callable after loading.\n"
     ]
    },
    {
     "name": "stdout",
     "output_type": "stream",
     "text": [
      "INFO:tensorflow:Assets written to: /root/jupyter/IHC/gain_proj/wandb/run-20230422_032214-41jqmhl5/files/model-best/assets\n"
     ]
    },
    {
     "name": "stderr",
     "output_type": "stream",
     "text": [
      "INFO:tensorflow:Assets written to: /root/jupyter/IHC/gain_proj/wandb/run-20230422_032214-41jqmhl5/files/model-best/assets\n",
      "\u001b[34m\u001b[1mwandb\u001b[0m: Adding directory to artifact (/root/jupyter/IHC/gain_proj/wandb/run-20230422_032214-41jqmhl5/files/model-best)... Done. 0.0s\n"
     ]
    },
    {
     "name": "stdout",
     "output_type": "stream",
     "text": [
      "391/391 [==============================] - 22s 55ms/step - loss: 1.9887 - accuracy: 0.4688 - val_loss: 2.2103 - val_accuracy: 0.4317 - lr: 0.0010\n",
      "Learning rate: 0.001\n",
      "Epoch 33/200\n",
      "391/391 [==============================] - 20s 50ms/step - loss: 1.9769 - accuracy: 0.4723 - val_loss: 2.2220 - val_accuracy: 0.4297 - lr: 0.0010\n",
      "Learning rate: 0.001\n",
      "Epoch 34/200\n",
      "391/391 [==============================] - 21s 52ms/step - loss: 1.9643 - accuracy: 0.4734 - val_loss: 2.2056 - val_accuracy: 0.4294 - lr: 0.0010\n",
      "Learning rate: 0.001\n",
      "Epoch 35/200\n",
      "391/391 [==============================] - 20s 52ms/step - loss: 1.9508 - accuracy: 0.4754 - val_loss: 2.2106 - val_accuracy: 0.4275 - lr: 0.0010\n",
      "Learning rate: 0.001\n",
      "Epoch 36/200\n",
      "391/391 [==============================] - 20s 52ms/step - loss: 1.9393 - accuracy: 0.4786 - val_loss: 2.2160 - val_accuracy: 0.4288 - lr: 0.0010\n",
      "Learning rate: 0.001\n",
      "Epoch 37/200\n",
      "391/391 [==============================] - 21s 52ms/step - loss: 1.9245 - accuracy: 0.4838 - val_loss: 2.2201 - val_accuracy: 0.4277 - lr: 0.0010\n",
      "Learning rate: 0.001\n",
      "Epoch 38/200\n",
      "391/391 [==============================] - 20s 52ms/step - loss: 1.9148 - accuracy: 0.4856 - val_loss: 2.2128 - val_accuracy: 0.4263 - lr: 0.0010\n",
      "Learning rate: 0.001\n",
      "Epoch 39/200\n",
      "391/391 [==============================] - 20s 52ms/step - loss: 1.8993 - accuracy: 0.4888 - val_loss: 2.2506 - val_accuracy: 0.4283 - lr: 0.0010\n",
      "Learning rate: 0.001\n",
      "Epoch 40/200\n",
      "391/391 [==============================] - 20s 52ms/step - loss: 1.8980 - accuracy: 0.4901 - val_loss: 2.2092 - val_accuracy: 0.4270 - lr: 0.0010\n",
      "Learning rate: 0.001\n",
      "Epoch 41/200\n",
      "391/391 [==============================] - 21s 52ms/step - loss: 1.8896 - accuracy: 0.4922 - val_loss: 2.3081 - val_accuracy: 0.4174 - lr: 0.0010\n",
      "Learning rate: 0.001\n",
      "Epoch 42/200\n",
      "391/391 [==============================] - 20s 51ms/step - loss: 1.8789 - accuracy: 0.4954 - val_loss: 2.3277 - val_accuracy: 0.4175 - lr: 0.0010\n",
      "Learning rate: 0.001\n",
      "Epoch 43/200\n",
      "391/391 [==============================] - 20s 52ms/step - loss: 1.8711 - accuracy: 0.4957 - val_loss: 2.2298 - val_accuracy: 0.4275 - lr: 0.0010\n",
      "Learning rate: 0.001\n",
      "Epoch 44/200\n",
      "391/391 [==============================] - 20s 50ms/step - loss: 1.8515 - accuracy: 0.4999 - val_loss: 2.2348 - val_accuracy: 0.4250 - lr: 0.0010\n",
      "Learning rate: 0.001\n",
      "Epoch 45/200\n",
      "391/391 [==============================] - 21s 52ms/step - loss: 1.8476 - accuracy: 0.5016 - val_loss: 2.2721 - val_accuracy: 0.4248 - lr: 0.0010\n",
      "Learning rate: 0.001\n",
      "Epoch 46/200\n",
      "389/391 [============================>.] - ETA: 0s - loss: 1.8551 - accuracy: 0.5004"
     ]
    },
    {
     "name": "stderr",
     "output_type": "stream",
     "text": [
      "WARNING:absl:Found untraced functions such as _jit_compiled_convolution_op, _jit_compiled_convolution_op, _jit_compiled_convolution_op, _jit_compiled_convolution_op while saving (showing 4 of 4). These functions will not be directly callable after loading.\n"
     ]
    },
    {
     "name": "stdout",
     "output_type": "stream",
     "text": [
      "INFO:tensorflow:Assets written to: /root/jupyter/IHC/gain_proj/wandb/run-20230422_032214-41jqmhl5/files/model-best/assets\n"
     ]
    },
    {
     "name": "stderr",
     "output_type": "stream",
     "text": [
      "INFO:tensorflow:Assets written to: /root/jupyter/IHC/gain_proj/wandb/run-20230422_032214-41jqmhl5/files/model-best/assets\n",
      "\u001b[34m\u001b[1mwandb\u001b[0m: Adding directory to artifact (/root/jupyter/IHC/gain_proj/wandb/run-20230422_032214-41jqmhl5/files/model-best)... Done. 0.0s\n"
     ]
    },
    {
     "name": "stdout",
     "output_type": "stream",
     "text": [
      "391/391 [==============================] - 21s 54ms/step - loss: 1.8550 - accuracy: 0.5003 - val_loss: 2.1892 - val_accuracy: 0.4395 - lr: 0.0010\n",
      "Learning rate: 0.001\n",
      "Epoch 47/200\n",
      "391/391 [==============================] - 20s 51ms/step - loss: 1.8309 - accuracy: 0.5065 - val_loss: 2.3138 - val_accuracy: 0.4230 - lr: 0.0010\n",
      "Learning rate: 0.001\n",
      "Epoch 48/200\n",
      "391/391 [==============================] - 20s 52ms/step - loss: 1.8354 - accuracy: 0.5063 - val_loss: 2.2653 - val_accuracy: 0.4316 - lr: 0.0010\n",
      "Learning rate: 0.001\n",
      "Epoch 49/200\n",
      "391/391 [==============================] - 20s 51ms/step - loss: 1.8292 - accuracy: 0.5059 - val_loss: 2.2020 - val_accuracy: 0.4382 - lr: 0.0010\n",
      "Learning rate: 0.001\n",
      "Epoch 50/200\n",
      "391/391 [==============================] - 20s 51ms/step - loss: 1.8192 - accuracy: 0.5073 - val_loss: 2.2107 - val_accuracy: 0.4335 - lr: 0.0010\n",
      "Learning rate: 0.001\n",
      "Epoch 51/200\n",
      "391/391 [==============================] - 20s 52ms/step - loss: 1.8223 - accuracy: 0.5072 - val_loss: 2.2074 - val_accuracy: 0.4389 - lr: 0.0010\n",
      "Learning rate: 0.0001\n",
      "Epoch 52/200\n",
      "391/391 [==============================] - ETA: 0s - loss: 1.6199 - accuracy: 0.5585"
     ]
    },
    {
     "name": "stderr",
     "output_type": "stream",
     "text": [
      "WARNING:absl:Found untraced functions such as _jit_compiled_convolution_op, _jit_compiled_convolution_op, _jit_compiled_convolution_op, _jit_compiled_convolution_op while saving (showing 4 of 4). These functions will not be directly callable after loading.\n"
     ]
    },
    {
     "name": "stdout",
     "output_type": "stream",
     "text": [
      "INFO:tensorflow:Assets written to: /root/jupyter/IHC/gain_proj/wandb/run-20230422_032214-41jqmhl5/files/model-best/assets\n"
     ]
    },
    {
     "name": "stderr",
     "output_type": "stream",
     "text": [
      "INFO:tensorflow:Assets written to: /root/jupyter/IHC/gain_proj/wandb/run-20230422_032214-41jqmhl5/files/model-best/assets\n",
      "\u001b[34m\u001b[1mwandb\u001b[0m: Adding directory to artifact (/root/jupyter/IHC/gain_proj/wandb/run-20230422_032214-41jqmhl5/files/model-best)... Done. 0.0s\n"
     ]
    },
    {
     "name": "stdout",
     "output_type": "stream",
     "text": [
      "391/391 [==============================] - 22s 56ms/step - loss: 1.6199 - accuracy: 0.5585 - val_loss: 2.1043 - val_accuracy: 0.4648 - lr: 1.0000e-04\n",
      "Learning rate: 0.0001\n",
      "Epoch 53/200\n",
      "388/391 [============================>.] - ETA: 0s - loss: 1.5818 - accuracy: 0.5652"
     ]
    },
    {
     "name": "stderr",
     "output_type": "stream",
     "text": [
      "WARNING:absl:Found untraced functions such as _jit_compiled_convolution_op, _jit_compiled_convolution_op, _jit_compiled_convolution_op, _jit_compiled_convolution_op while saving (showing 4 of 4). These functions will not be directly callable after loading.\n"
     ]
    },
    {
     "name": "stdout",
     "output_type": "stream",
     "text": [
      "INFO:tensorflow:Assets written to: /root/jupyter/IHC/gain_proj/wandb/run-20230422_032214-41jqmhl5/files/model-best/assets\n"
     ]
    },
    {
     "name": "stderr",
     "output_type": "stream",
     "text": [
      "INFO:tensorflow:Assets written to: /root/jupyter/IHC/gain_proj/wandb/run-20230422_032214-41jqmhl5/files/model-best/assets\n",
      "\u001b[34m\u001b[1mwandb\u001b[0m: Adding directory to artifact (/root/jupyter/IHC/gain_proj/wandb/run-20230422_032214-41jqmhl5/files/model-best)... Done. 0.0s\n"
     ]
    },
    {
     "name": "stdout",
     "output_type": "stream",
     "text": [
      "391/391 [==============================] - 22s 56ms/step - loss: 1.5822 - accuracy: 0.5656 - val_loss: 2.0937 - val_accuracy: 0.4677 - lr: 1.0000e-04\n",
      "Learning rate: 0.0001\n",
      "Epoch 54/200\n",
      "391/391 [==============================] - 20s 52ms/step - loss: 1.5776 - accuracy: 0.5679 - val_loss: 2.0982 - val_accuracy: 0.4638 - lr: 1.0000e-04\n",
      "Learning rate: 0.0001\n",
      "Epoch 55/200\n",
      "389/391 [============================>.] - ETA: 0s - loss: 1.5687 - accuracy: 0.5653"
     ]
    },
    {
     "name": "stderr",
     "output_type": "stream",
     "text": [
      "WARNING:absl:Found untraced functions such as _jit_compiled_convolution_op, _jit_compiled_convolution_op, _jit_compiled_convolution_op, _jit_compiled_convolution_op while saving (showing 4 of 4). These functions will not be directly callable after loading.\n"
     ]
    },
    {
     "name": "stdout",
     "output_type": "stream",
     "text": [
      "INFO:tensorflow:Assets written to: /root/jupyter/IHC/gain_proj/wandb/run-20230422_032214-41jqmhl5/files/model-best/assets\n"
     ]
    },
    {
     "name": "stderr",
     "output_type": "stream",
     "text": [
      "INFO:tensorflow:Assets written to: /root/jupyter/IHC/gain_proj/wandb/run-20230422_032214-41jqmhl5/files/model-best/assets\n",
      "\u001b[34m\u001b[1mwandb\u001b[0m: Adding directory to artifact (/root/jupyter/IHC/gain_proj/wandb/run-20230422_032214-41jqmhl5/files/model-best)... Done. 0.0s\n"
     ]
    },
    {
     "name": "stdout",
     "output_type": "stream",
     "text": [
      "391/391 [==============================] - 22s 56ms/step - loss: 1.5694 - accuracy: 0.5650 - val_loss: 2.0890 - val_accuracy: 0.4685 - lr: 1.0000e-04\n",
      "Learning rate: 0.0001\n",
      "Epoch 56/200\n",
      "391/391 [==============================] - 20s 52ms/step - loss: 1.5558 - accuracy: 0.5696 - val_loss: 2.0950 - val_accuracy: 0.4675 - lr: 1.0000e-04\n",
      "Learning rate: 0.0001\n",
      "Epoch 57/200\n",
      "388/391 [============================>.] - ETA: 0s - loss: 1.5478 - accuracy: 0.5745"
     ]
    },
    {
     "name": "stderr",
     "output_type": "stream",
     "text": [
      "WARNING:absl:Found untraced functions such as _jit_compiled_convolution_op, _jit_compiled_convolution_op, _jit_compiled_convolution_op, _jit_compiled_convolution_op while saving (showing 4 of 4). These functions will not be directly callable after loading.\n"
     ]
    },
    {
     "name": "stdout",
     "output_type": "stream",
     "text": [
      "INFO:tensorflow:Assets written to: /root/jupyter/IHC/gain_proj/wandb/run-20230422_032214-41jqmhl5/files/model-best/assets\n"
     ]
    },
    {
     "name": "stderr",
     "output_type": "stream",
     "text": [
      "INFO:tensorflow:Assets written to: /root/jupyter/IHC/gain_proj/wandb/run-20230422_032214-41jqmhl5/files/model-best/assets\n",
      "\u001b[34m\u001b[1mwandb\u001b[0m: Adding directory to artifact (/root/jupyter/IHC/gain_proj/wandb/run-20230422_032214-41jqmhl5/files/model-best)... Done. 0.0s\n"
     ]
    },
    {
     "name": "stdout",
     "output_type": "stream",
     "text": [
      "391/391 [==============================] - 22s 56ms/step - loss: 1.5486 - accuracy: 0.5743 - val_loss: 2.0960 - val_accuracy: 0.4687 - lr: 1.0000e-04\n",
      "Learning rate: 0.0001\n",
      "Epoch 58/200\n",
      "387/391 [============================>.] - ETA: 0s - loss: 1.5509 - accuracy: 0.5713"
     ]
    },
    {
     "name": "stderr",
     "output_type": "stream",
     "text": [
      "WARNING:absl:Found untraced functions such as _jit_compiled_convolution_op, _jit_compiled_convolution_op, _jit_compiled_convolution_op, _jit_compiled_convolution_op while saving (showing 4 of 4). These functions will not be directly callable after loading.\n"
     ]
    },
    {
     "name": "stdout",
     "output_type": "stream",
     "text": [
      "INFO:tensorflow:Assets written to: /root/jupyter/IHC/gain_proj/wandb/run-20230422_032214-41jqmhl5/files/model-best/assets\n"
     ]
    },
    {
     "name": "stderr",
     "output_type": "stream",
     "text": [
      "INFO:tensorflow:Assets written to: /root/jupyter/IHC/gain_proj/wandb/run-20230422_032214-41jqmhl5/files/model-best/assets\n",
      "\u001b[34m\u001b[1mwandb\u001b[0m: Adding directory to artifact (/root/jupyter/IHC/gain_proj/wandb/run-20230422_032214-41jqmhl5/files/model-best)... Done. 0.0s\n"
     ]
    },
    {
     "name": "stdout",
     "output_type": "stream",
     "text": [
      "391/391 [==============================] - 22s 56ms/step - loss: 1.5522 - accuracy: 0.5707 - val_loss: 2.0928 - val_accuracy: 0.4705 - lr: 1.0000e-04\n",
      "Learning rate: 0.0001\n",
      "Epoch 59/200\n",
      "388/391 [============================>.] - ETA: 0s - loss: 1.5459 - accuracy: 0.5732"
     ]
    },
    {
     "name": "stderr",
     "output_type": "stream",
     "text": [
      "WARNING:absl:Found untraced functions such as _jit_compiled_convolution_op, _jit_compiled_convolution_op, _jit_compiled_convolution_op, _jit_compiled_convolution_op while saving (showing 4 of 4). These functions will not be directly callable after loading.\n"
     ]
    },
    {
     "name": "stdout",
     "output_type": "stream",
     "text": [
      "INFO:tensorflow:Assets written to: /root/jupyter/IHC/gain_proj/wandb/run-20230422_032214-41jqmhl5/files/model-best/assets\n"
     ]
    },
    {
     "name": "stderr",
     "output_type": "stream",
     "text": [
      "INFO:tensorflow:Assets written to: /root/jupyter/IHC/gain_proj/wandb/run-20230422_032214-41jqmhl5/files/model-best/assets\n",
      "\u001b[34m\u001b[1mwandb\u001b[0m: Adding directory to artifact (/root/jupyter/IHC/gain_proj/wandb/run-20230422_032214-41jqmhl5/files/model-best)... Done. 0.0s\n"
     ]
    },
    {
     "name": "stdout",
     "output_type": "stream",
     "text": [
      "391/391 [==============================] - 22s 55ms/step - loss: 1.5458 - accuracy: 0.5732 - val_loss: 2.0918 - val_accuracy: 0.4719 - lr: 1.0000e-04\n",
      "Learning rate: 0.0001\n",
      "Epoch 60/200\n",
      "391/391 [==============================] - 20s 50ms/step - loss: 1.5449 - accuracy: 0.5746 - val_loss: 2.0809 - val_accuracy: 0.4715 - lr: 1.0000e-04\n",
      "Learning rate: 0.0001\n",
      "Epoch 61/200\n",
      "391/391 [==============================] - 20s 52ms/step - loss: 1.5409 - accuracy: 0.5755 - val_loss: 2.0875 - val_accuracy: 0.4704 - lr: 1.0000e-04\n",
      "Learning rate: 0.0001\n",
      "Epoch 62/200\n",
      "391/391 [==============================] - 21s 53ms/step - loss: 1.5412 - accuracy: 0.5739 - val_loss: 2.0885 - val_accuracy: 0.4687 - lr: 1.0000e-04\n",
      "Learning rate: 0.0001\n",
      "Epoch 63/200\n",
      "388/391 [============================>.] - ETA: 0s - loss: 1.5425 - accuracy: 0.5755"
     ]
    },
    {
     "name": "stderr",
     "output_type": "stream",
     "text": [
      "WARNING:absl:Found untraced functions such as _jit_compiled_convolution_op, _jit_compiled_convolution_op, _jit_compiled_convolution_op, _jit_compiled_convolution_op while saving (showing 4 of 4). These functions will not be directly callable after loading.\n"
     ]
    },
    {
     "name": "stdout",
     "output_type": "stream",
     "text": [
      "INFO:tensorflow:Assets written to: /root/jupyter/IHC/gain_proj/wandb/run-20230422_032214-41jqmhl5/files/model-best/assets\n"
     ]
    },
    {
     "name": "stderr",
     "output_type": "stream",
     "text": [
      "INFO:tensorflow:Assets written to: /root/jupyter/IHC/gain_proj/wandb/run-20230422_032214-41jqmhl5/files/model-best/assets\n",
      "\u001b[34m\u001b[1mwandb\u001b[0m: Adding directory to artifact (/root/jupyter/IHC/gain_proj/wandb/run-20230422_032214-41jqmhl5/files/model-best)... Done. 0.0s\n"
     ]
    },
    {
     "name": "stdout",
     "output_type": "stream",
     "text": [
      "391/391 [==============================] - 22s 55ms/step - loss: 1.5401 - accuracy: 0.5759 - val_loss: 2.0905 - val_accuracy: 0.4737 - lr: 1.0000e-04\n",
      "Learning rate: 0.0001\n",
      "Epoch 64/200\n",
      "391/391 [==============================] - 20s 50ms/step - loss: 1.5286 - accuracy: 0.5750 - val_loss: 2.0824 - val_accuracy: 0.4697 - lr: 1.0000e-04\n",
      "Learning rate: 0.0001\n",
      "Epoch 65/200\n",
      "391/391 [==============================] - 20s 52ms/step - loss: 1.5265 - accuracy: 0.5766 - val_loss: 2.0902 - val_accuracy: 0.4714 - lr: 1.0000e-04\n",
      "Learning rate: 0.0001\n",
      "Epoch 66/200\n",
      "391/391 [==============================] - 20s 51ms/step - loss: 1.5293 - accuracy: 0.5762 - val_loss: 2.0856 - val_accuracy: 0.4722 - lr: 1.0000e-04\n",
      "Learning rate: 0.0001\n",
      "Epoch 67/200\n",
      "391/391 [==============================] - 20s 51ms/step - loss: 1.5234 - accuracy: 0.5806 - val_loss: 2.0876 - val_accuracy: 0.4711 - lr: 1.0000e-04\n",
      "Learning rate: 0.0001\n",
      "Epoch 68/200\n",
      "391/391 [==============================] - 20s 52ms/step - loss: 1.5237 - accuracy: 0.5776 - val_loss: 2.0931 - val_accuracy: 0.4734 - lr: 1.0000e-04\n",
      "Learning rate: 0.0001\n",
      "Epoch 69/200\n",
      "391/391 [==============================] - 20s 52ms/step - loss: 1.5198 - accuracy: 0.5792 - val_loss: 2.0839 - val_accuracy: 0.4705 - lr: 1.0000e-04\n",
      "Learning rate: 0.0001\n",
      "Epoch 70/200\n",
      "391/391 [==============================] - 20s 51ms/step - loss: 1.5203 - accuracy: 0.5784 - val_loss: 2.0821 - val_accuracy: 0.4722 - lr: 1.0000e-04\n",
      "Learning rate: 0.0001\n",
      "Epoch 71/200\n",
      "391/391 [==============================] - 20s 51ms/step - loss: 1.5198 - accuracy: 0.5794 - val_loss: 2.0845 - val_accuracy: 0.4709 - lr: 1.0000e-04\n",
      "Learning rate: 0.0001\n",
      "Epoch 72/200\n",
      "391/391 [==============================] - 20s 52ms/step - loss: 1.5133 - accuracy: 0.5835 - val_loss: 2.0832 - val_accuracy: 0.4723 - lr: 1.0000e-04\n",
      "Learning rate: 0.0001\n",
      "Epoch 73/200\n",
      "388/391 [============================>.] - ETA: 0s - loss: 1.5143 - accuracy: 0.5795"
     ]
    },
    {
     "name": "stderr",
     "output_type": "stream",
     "text": [
      "WARNING:absl:Found untraced functions such as _jit_compiled_convolution_op, _jit_compiled_convolution_op, _jit_compiled_convolution_op, _jit_compiled_convolution_op while saving (showing 4 of 4). These functions will not be directly callable after loading.\n"
     ]
    },
    {
     "name": "stdout",
     "output_type": "stream",
     "text": [
      "INFO:tensorflow:Assets written to: /root/jupyter/IHC/gain_proj/wandb/run-20230422_032214-41jqmhl5/files/model-best/assets\n"
     ]
    },
    {
     "name": "stderr",
     "output_type": "stream",
     "text": [
      "INFO:tensorflow:Assets written to: /root/jupyter/IHC/gain_proj/wandb/run-20230422_032214-41jqmhl5/files/model-best/assets\n",
      "\u001b[34m\u001b[1mwandb\u001b[0m: Adding directory to artifact (/root/jupyter/IHC/gain_proj/wandb/run-20230422_032214-41jqmhl5/files/model-best)... Done. 0.0s\n"
     ]
    },
    {
     "name": "stdout",
     "output_type": "stream",
     "text": [
      "391/391 [==============================] - 22s 56ms/step - loss: 1.5139 - accuracy: 0.5793 - val_loss: 2.0771 - val_accuracy: 0.4740 - lr: 1.0000e-04\n",
      "Learning rate: 0.0001\n",
      "Epoch 74/200\n",
      "391/391 [==============================] - ETA: 0s - loss: 1.5076 - accuracy: 0.5844"
     ]
    },
    {
     "name": "stderr",
     "output_type": "stream",
     "text": [
      "WARNING:absl:Found untraced functions such as _jit_compiled_convolution_op, _jit_compiled_convolution_op, _jit_compiled_convolution_op, _jit_compiled_convolution_op while saving (showing 4 of 4). These functions will not be directly callable after loading.\n"
     ]
    },
    {
     "name": "stdout",
     "output_type": "stream",
     "text": [
      "INFO:tensorflow:Assets written to: /root/jupyter/IHC/gain_proj/wandb/run-20230422_032214-41jqmhl5/files/model-best/assets\n"
     ]
    },
    {
     "name": "stderr",
     "output_type": "stream",
     "text": [
      "INFO:tensorflow:Assets written to: /root/jupyter/IHC/gain_proj/wandb/run-20230422_032214-41jqmhl5/files/model-best/assets\n",
      "\u001b[34m\u001b[1mwandb\u001b[0m: Adding directory to artifact (/root/jupyter/IHC/gain_proj/wandb/run-20230422_032214-41jqmhl5/files/model-best)... Done. 0.0s\n"
     ]
    },
    {
     "name": "stdout",
     "output_type": "stream",
     "text": [
      "391/391 [==============================] - 22s 55ms/step - loss: 1.5076 - accuracy: 0.5844 - val_loss: 2.0802 - val_accuracy: 0.4758 - lr: 1.0000e-04\n",
      "Learning rate: 0.0001\n",
      "Epoch 75/200\n",
      "391/391 [==============================] - 21s 53ms/step - loss: 1.5079 - accuracy: 0.5807 - val_loss: 2.0981 - val_accuracy: 0.4740 - lr: 1.0000e-04\n",
      "Learning rate: 0.0001\n",
      "Epoch 76/200\n",
      "391/391 [==============================] - 20s 52ms/step - loss: 1.5023 - accuracy: 0.5833 - val_loss: 2.0851 - val_accuracy: 0.4724 - lr: 1.0000e-04\n",
      "Learning rate: 0.0001\n",
      "Epoch 77/200\n",
      "391/391 [==============================] - 20s 51ms/step - loss: 1.5003 - accuracy: 0.5825 - val_loss: 2.0891 - val_accuracy: 0.4715 - lr: 1.0000e-04\n",
      "Learning rate: 0.0001\n",
      "Epoch 78/200\n",
      "391/391 [==============================] - 20s 51ms/step - loss: 1.5045 - accuracy: 0.5847 - val_loss: 2.0829 - val_accuracy: 0.4704 - lr: 1.0000e-04\n",
      "Learning rate: 0.0001\n",
      "Epoch 79/200\n",
      "391/391 [==============================] - 20s 52ms/step - loss: 1.5036 - accuracy: 0.5823 - val_loss: 2.0936 - val_accuracy: 0.4729 - lr: 1.0000e-04\n",
      "Learning rate: 0.0001\n",
      "Epoch 80/200\n",
      "391/391 [==============================] - 20s 52ms/step - loss: 1.5057 - accuracy: 0.5837 - val_loss: 2.0780 - val_accuracy: 0.4754 - lr: 1.0000e-04\n",
      "Learning rate: 0.0001\n",
      "Epoch 81/200\n",
      "391/391 [==============================] - 20s 52ms/step - loss: 1.4950 - accuracy: 0.5848 - val_loss: 2.0839 - val_accuracy: 0.4728 - lr: 1.0000e-04\n",
      "Learning rate: 0.0001\n",
      "Epoch 82/200\n",
      "391/391 [==============================] - 21s 53ms/step - loss: 1.4977 - accuracy: 0.5864 - val_loss: 2.0851 - val_accuracy: 0.4730 - lr: 1.0000e-04\n",
      "Learning rate: 0.0001\n",
      "Epoch 83/200\n",
      "391/391 [==============================] - 20s 52ms/step - loss: 1.4900 - accuracy: 0.5878 - val_loss: 2.0852 - val_accuracy: 0.4752 - lr: 1.0000e-04\n",
      "Learning rate: 0.0001\n",
      "Epoch 84/200\n",
      "391/391 [==============================] - 20s 51ms/step - loss: 1.4926 - accuracy: 0.5845 - val_loss: 2.1002 - val_accuracy: 0.4722 - lr: 1.0000e-04\n",
      "Learning rate: 0.0001\n",
      "Epoch 85/200\n",
      "391/391 [==============================] - 20s 52ms/step - loss: 1.4872 - accuracy: 0.5884 - val_loss: 2.0963 - val_accuracy: 0.4740 - lr: 1.0000e-04\n",
      "Learning rate: 0.0001\n",
      "Epoch 86/200\n",
      "391/391 [==============================] - 21s 53ms/step - loss: 1.4973 - accuracy: 0.5855 - val_loss: 2.0893 - val_accuracy: 0.4731 - lr: 1.0000e-04\n",
      "Learning rate: 0.0001\n",
      "Epoch 87/200\n",
      "391/391 [==============================] - 20s 51ms/step - loss: 1.4873 - accuracy: 0.5863 - val_loss: 2.0910 - val_accuracy: 0.4714 - lr: 1.0000e-04\n",
      "Learning rate: 0.0001\n",
      "Epoch 88/200\n",
      "391/391 [==============================] - 20s 52ms/step - loss: 1.4829 - accuracy: 0.5863 - val_loss: 2.0953 - val_accuracy: 0.4737 - lr: 1.0000e-04\n",
      "Learning rate: 0.0001\n",
      "Epoch 89/200\n",
      "391/391 [==============================] - 21s 52ms/step - loss: 1.4806 - accuracy: 0.5872 - val_loss: 2.0901 - val_accuracy: 0.4718 - lr: 1.0000e-04\n",
      "Learning rate: 0.0001\n",
      "Epoch 90/200\n",
      "391/391 [==============================] - 20s 51ms/step - loss: 1.4800 - accuracy: 0.5886 - val_loss: 2.0840 - val_accuracy: 0.4743 - lr: 1.0000e-04\n",
      "Learning rate: 0.0001\n",
      "Epoch 91/200\n",
      "391/391 [==============================] - 20s 52ms/step - loss: 1.4741 - accuracy: 0.5882 - val_loss: 2.0897 - val_accuracy: 0.4722 - lr: 1.0000e-04\n",
      "Learning rate: 0.0001\n",
      "Epoch 92/200\n",
      "388/391 [============================>.] - ETA: 0s - loss: 1.4821 - accuracy: 0.5888"
     ]
    },
    {
     "name": "stderr",
     "output_type": "stream",
     "text": [
      "WARNING:absl:Found untraced functions such as _jit_compiled_convolution_op, _jit_compiled_convolution_op, _jit_compiled_convolution_op, _jit_compiled_convolution_op while saving (showing 4 of 4). These functions will not be directly callable after loading.\n"
     ]
    },
    {
     "name": "stdout",
     "output_type": "stream",
     "text": [
      "INFO:tensorflow:Assets written to: /root/jupyter/IHC/gain_proj/wandb/run-20230422_032214-41jqmhl5/files/model-best/assets\n"
     ]
    },
    {
     "name": "stderr",
     "output_type": "stream",
     "text": [
      "INFO:tensorflow:Assets written to: /root/jupyter/IHC/gain_proj/wandb/run-20230422_032214-41jqmhl5/files/model-best/assets\n",
      "\u001b[34m\u001b[1mwandb\u001b[0m: Adding directory to artifact (/root/jupyter/IHC/gain_proj/wandb/run-20230422_032214-41jqmhl5/files/model-best)... Done. 0.0s\n"
     ]
    },
    {
     "name": "stdout",
     "output_type": "stream",
     "text": [
      "391/391 [==============================] - 22s 55ms/step - loss: 1.4822 - accuracy: 0.5886 - val_loss: 2.0814 - val_accuracy: 0.4794 - lr: 1.0000e-04\n",
      "Learning rate: 0.0001\n",
      "Epoch 93/200\n",
      "391/391 [==============================] - 21s 53ms/step - loss: 1.4794 - accuracy: 0.5853 - val_loss: 2.0870 - val_accuracy: 0.4735 - lr: 1.0000e-04\n",
      "Learning rate: 0.0001\n",
      "Epoch 94/200\n",
      "391/391 [==============================] - 20s 50ms/step - loss: 1.4772 - accuracy: 0.5886 - val_loss: 2.0846 - val_accuracy: 0.4690 - lr: 1.0000e-04\n",
      "Learning rate: 0.0001\n",
      "Epoch 95/200\n",
      "391/391 [==============================] - 20s 51ms/step - loss: 1.4726 - accuracy: 0.5888 - val_loss: 2.0772 - val_accuracy: 0.4746 - lr: 1.0000e-04\n",
      "Learning rate: 0.0001\n",
      "Epoch 96/200\n",
      "391/391 [==============================] - 20s 51ms/step - loss: 1.4707 - accuracy: 0.5907 - val_loss: 2.0839 - val_accuracy: 0.4731 - lr: 1.0000e-04\n",
      "Learning rate: 1e-05\n",
      "Epoch 102/200\n",
      "391/391 [==============================] - 20s 51ms/step - loss: 1.4540 - accuracy: 0.5961 - val_loss: 2.0807 - val_accuracy: 0.4769 - lr: 1.0000e-05\n",
      "Learning rate: 1e-05\n",
      "Epoch 103/200\n",
      "391/391 [==============================] - 20s 52ms/step - loss: 1.4431 - accuracy: 0.5938 - val_loss: 2.0802 - val_accuracy: 0.4764 - lr: 1.0000e-05\n",
      "Learning rate: 1e-05\n",
      "Epoch 104/200\n",
      "391/391 [==============================] - 20s 52ms/step - loss: 1.4406 - accuracy: 0.6007 - val_loss: 2.0812 - val_accuracy: 0.4768 - lr: 1.0000e-05\n",
      "Learning rate: 1e-05\n",
      "Epoch 105/200\n",
      "391/391 [==============================] - 20s 51ms/step - loss: 1.4415 - accuracy: 0.5967 - val_loss: 2.0814 - val_accuracy: 0.4745 - lr: 1.0000e-05\n",
      "Learning rate: 1e-05\n",
      "Epoch 106/200\n",
      "391/391 [==============================] - 20s 51ms/step - loss: 1.4482 - accuracy: 0.5937 - val_loss: 2.0784 - val_accuracy: 0.4749 - lr: 1.0000e-05\n",
      "Learning rate: 1e-05\n",
      "Epoch 107/200\n",
      "391/391 [==============================] - 20s 52ms/step - loss: 1.4441 - accuracy: 0.5969 - val_loss: 2.0780 - val_accuracy: 0.4769 - lr: 1.0000e-05\n",
      "Learning rate: 1e-05\n",
      "Epoch 108/200\n",
      "391/391 [==============================] - 20s 52ms/step - loss: 1.4400 - accuracy: 0.5982 - val_loss: 2.0769 - val_accuracy: 0.4758 - lr: 1.0000e-05\n",
      "Learning rate: 1e-05\n",
      "Epoch 109/200\n",
      "391/391 [==============================] - 20s 51ms/step - loss: 1.4449 - accuracy: 0.5997 - val_loss: 2.0811 - val_accuracy: 0.4755 - lr: 1.0000e-05\n",
      "Learning rate: 1e-05\n",
      "Epoch 110/200\n",
      "391/391 [==============================] - 21s 52ms/step - loss: 1.4465 - accuracy: 0.5972 - val_loss: 2.0783 - val_accuracy: 0.4759 - lr: 1.0000e-05\n",
      "Learning rate: 1e-05\n",
      "Epoch 111/200\n",
      "391/391 [==============================] - 20s 50ms/step - loss: 1.4420 - accuracy: 0.5986 - val_loss: 2.0781 - val_accuracy: 0.4760 - lr: 1.0000e-05\n",
      "Learning rate: 1e-05\n",
      "Epoch 112/200\n",
      "391/391 [==============================] - 20s 52ms/step - loss: 1.4403 - accuracy: 0.5977 - val_loss: 2.0816 - val_accuracy: 0.4765 - lr: 1.0000e-05\n",
      "Learning rate: 1e-05\n",
      "Epoch 113/200\n",
      "391/391 [==============================] - 20s 52ms/step - loss: 1.4453 - accuracy: 0.5969 - val_loss: 2.0782 - val_accuracy: 0.4780 - lr: 1.0000e-05\n",
      "Learning rate: 1e-05\n",
      "Epoch 114/200\n",
      "391/391 [==============================] - 20s 52ms/step - loss: 1.4398 - accuracy: 0.5973 - val_loss: 2.0792 - val_accuracy: 0.4762 - lr: 1.0000e-05\n",
      "Learning rate: 1e-05\n",
      "Epoch 115/200\n",
      "391/391 [==============================] - 20s 51ms/step - loss: 1.4354 - accuracy: 0.6000 - val_loss: 2.0801 - val_accuracy: 0.4767 - lr: 1.0000e-05\n",
      "Learning rate: 1e-05\n",
      "Epoch 116/200\n",
      "391/391 [==============================] - 20s 52ms/step - loss: 1.4351 - accuracy: 0.5989 - val_loss: 2.0798 - val_accuracy: 0.4777 - lr: 1.0000e-05\n",
      "Learning rate: 1e-05\n",
      "Epoch 117/200\n",
      "391/391 [==============================] - 21s 52ms/step - loss: 1.4477 - accuracy: 0.5972 - val_loss: 2.0801 - val_accuracy: 0.4771 - lr: 1.0000e-05\n",
      "Learning rate: 1e-05\n",
      "Epoch 118/200\n",
      "391/391 [==============================] - 20s 51ms/step - loss: 1.4406 - accuracy: 0.5995 - val_loss: 2.0777 - val_accuracy: 0.4766 - lr: 1.0000e-05\n",
      "Learning rate: 1e-05\n",
      "Epoch 119/200\n",
      "391/391 [==============================] - 20s 52ms/step - loss: 1.4422 - accuracy: 0.5987 - val_loss: 2.0812 - val_accuracy: 0.4770 - lr: 1.0000e-05\n",
      "Learning rate: 1e-05\n",
      "Epoch 120/200\n",
      "391/391 [==============================] - 20s 51ms/step - loss: 1.4431 - accuracy: 0.5978 - val_loss: 2.0791 - val_accuracy: 0.4765 - lr: 1.0000e-05\n",
      "Learning rate: 1e-05\n",
      "Epoch 121/200\n",
      "391/391 [==============================] - 20s 52ms/step - loss: 1.4423 - accuracy: 0.5960 - val_loss: 2.0797 - val_accuracy: 0.4753 - lr: 1.0000e-05\n",
      "Learning rate: 1e-05\n",
      "Epoch 122/200\n",
      "391/391 [==============================] - 20s 51ms/step - loss: 1.4385 - accuracy: 0.5982 - val_loss: 2.0821 - val_accuracy: 0.4758 - lr: 1.0000e-05\n",
      "Learning rate: 1e-05\n",
      "Epoch 123/200\n",
      "391/391 [==============================] - 20s 52ms/step - loss: 1.4418 - accuracy: 0.5986 - val_loss: 2.0828 - val_accuracy: 0.4771 - lr: 1.0000e-05\n",
      "Learning rate: 1e-05\n",
      "Epoch 124/200\n",
      "391/391 [==============================] - 21s 52ms/step - loss: 1.4370 - accuracy: 0.5981 - val_loss: 2.0792 - val_accuracy: 0.4772 - lr: 1.0000e-05\n",
      "Learning rate: 1e-05\n",
      "Epoch 125/200\n",
      "391/391 [==============================] - 20s 51ms/step - loss: 1.4321 - accuracy: 0.5968 - val_loss: 2.0843 - val_accuracy: 0.4781 - lr: 1.0000e-05\n",
      "Learning rate: 1e-05\n",
      "Epoch 126/200\n",
      "391/391 [==============================] - 20s 52ms/step - loss: 1.4344 - accuracy: 0.6002 - val_loss: 2.0791 - val_accuracy: 0.4770 - lr: 1.0000e-05\n",
      "Learning rate: 1e-05\n",
      "Epoch 127/200\n",
      "391/391 [==============================] - 20s 51ms/step - loss: 1.4394 - accuracy: 0.6003 - val_loss: 2.0836 - val_accuracy: 0.4759 - lr: 1.0000e-05\n",
      "Learning rate: 1e-05\n",
      "Epoch 128/200\n",
      "391/391 [==============================] - 20s 51ms/step - loss: 1.4422 - accuracy: 0.5983 - val_loss: 2.0793 - val_accuracy: 0.4773 - lr: 1.0000e-05\n",
      "Learning rate: 1e-05\n",
      "Epoch 129/200\n",
      "391/391 [==============================] - 20s 52ms/step - loss: 1.4324 - accuracy: 0.5993 - val_loss: 2.0803 - val_accuracy: 0.4785 - lr: 1.0000e-05\n",
      "Learning rate: 1e-05\n",
      "Epoch 130/200\n",
      "391/391 [==============================] - 20s 52ms/step - loss: 1.4351 - accuracy: 0.5998 - val_loss: 2.0785 - val_accuracy: 0.4754 - lr: 1.0000e-05\n",
      "Learning rate: 1e-05\n",
      "Epoch 131/200\n",
      "391/391 [==============================] - 20s 51ms/step - loss: 1.4350 - accuracy: 0.5999 - val_loss: 2.0822 - val_accuracy: 0.4778 - lr: 1.0000e-05\n",
      "Learning rate: 1e-05\n",
      "Epoch 132/200\n",
      "391/391 [==============================] - 20s 52ms/step - loss: 1.4359 - accuracy: 0.5996 - val_loss: 2.0800 - val_accuracy: 0.4771 - lr: 1.0000e-05\n",
      "Learning rate: 1e-05\n",
      "Epoch 133/200\n",
      "391/391 [==============================] - 20s 51ms/step - loss: 1.4284 - accuracy: 0.5998 - val_loss: 2.0825 - val_accuracy: 0.4738 - lr: 1.0000e-05\n",
      "Learning rate: 1e-05\n",
      "Epoch 134/200\n",
      "391/391 [==============================] - 20s 52ms/step - loss: 1.4387 - accuracy: 0.6006 - val_loss: 2.0829 - val_accuracy: 0.4764 - lr: 1.0000e-05\n",
      "Learning rate: 1e-05\n",
      "Epoch 135/200\n",
      "391/391 [==============================] - 20s 52ms/step - loss: 1.4384 - accuracy: 0.5978 - val_loss: 2.0793 - val_accuracy: 0.4777 - lr: 1.0000e-05\n",
      "Learning rate: 1e-05\n",
      "Epoch 136/200\n",
      "391/391 [==============================] - 20s 51ms/step - loss: 1.4345 - accuracy: 0.6004 - val_loss: 2.0839 - val_accuracy: 0.4756 - lr: 1.0000e-05\n",
      "Learning rate: 1e-05\n",
      "Epoch 137/200\n",
      "391/391 [==============================] - 20s 51ms/step - loss: 1.4397 - accuracy: 0.5985 - val_loss: 2.0853 - val_accuracy: 0.4757 - lr: 1.0000e-05\n",
      "Learning rate: 1e-05\n",
      "Epoch 138/200\n",
      "391/391 [==============================] - 20s 52ms/step - loss: 1.4401 - accuracy: 0.6006 - val_loss: 2.0806 - val_accuracy: 0.4754 - lr: 1.0000e-05\n",
      "Learning rate: 1e-05\n",
      "Epoch 139/200\n",
      "391/391 [==============================] - 20s 52ms/step - loss: 1.4385 - accuracy: 0.5979 - val_loss: 2.0820 - val_accuracy: 0.4760 - lr: 1.0000e-05\n",
      "Learning rate: 1e-05\n",
      "Epoch 140/200\n",
      "391/391 [==============================] - 20s 51ms/step - loss: 1.4348 - accuracy: 0.5986 - val_loss: 2.0792 - val_accuracy: 0.4762 - lr: 1.0000e-05\n",
      "Learning rate: 1e-05\n",
      "Epoch 141/200\n",
      "391/391 [==============================] - 21s 53ms/step - loss: 1.4330 - accuracy: 0.6004 - val_loss: 2.0793 - val_accuracy: 0.4772 - lr: 1.0000e-05\n",
      "Learning rate: 1e-05\n",
      "Epoch 142/200\n",
      "391/391 [==============================] - 21s 52ms/step - loss: 1.4335 - accuracy: 0.6007 - val_loss: 2.0812 - val_accuracy: 0.4767 - lr: 1.0000e-05\n",
      "Learning rate: 1e-05\n",
      "Epoch 143/200\n",
      "391/391 [==============================] - 20s 51ms/step - loss: 1.4311 - accuracy: 0.6009 - val_loss: 2.0826 - val_accuracy: 0.4764 - lr: 1.0000e-05\n",
      "Learning rate: 1e-05\n",
      "Epoch 144/200\n",
      "391/391 [==============================] - 20s 51ms/step - loss: 1.4335 - accuracy: 0.6003 - val_loss: 2.0816 - val_accuracy: 0.4783 - lr: 1.0000e-05\n",
      "Learning rate: 1e-05\n",
      "Epoch 145/200\n",
      "391/391 [==============================] - 20s 52ms/step - loss: 1.4352 - accuracy: 0.5966 - val_loss: 2.0802 - val_accuracy: 0.4778 - lr: 1.0000e-05\n",
      "Learning rate: 1e-05\n",
      "Epoch 146/200\n",
      "391/391 [==============================] - 20s 52ms/step - loss: 1.4380 - accuracy: 0.5988 - val_loss: 2.0814 - val_accuracy: 0.4763 - lr: 1.0000e-05\n",
      "Learning rate: 1e-05\n",
      "Epoch 147/200\n",
      "391/391 [==============================] - 20s 51ms/step - loss: 1.4353 - accuracy: 0.5989 - val_loss: 2.0812 - val_accuracy: 0.4777 - lr: 1.0000e-05\n",
      "Learning rate: 1e-05\n",
      "Epoch 148/200\n",
      "391/391 [==============================] - 20s 52ms/step - loss: 1.4379 - accuracy: 0.5987 - val_loss: 2.0820 - val_accuracy: 0.4780 - lr: 1.0000e-05\n",
      "Learning rate: 1e-05\n",
      "Epoch 149/200\n",
      "391/391 [==============================] - 20s 52ms/step - loss: 1.4395 - accuracy: 0.5990 - val_loss: 2.0806 - val_accuracy: 0.4773 - lr: 1.0000e-05\n",
      "Learning rate: 1e-05\n",
      "Epoch 150/200\n",
      "391/391 [==============================] - 20s 52ms/step - loss: 1.4324 - accuracy: 0.5985 - val_loss: 2.0800 - val_accuracy: 0.4783 - lr: 1.0000e-05\n",
      "Learning rate: 1e-05\n",
      "Epoch 151/200\n",
      "391/391 [==============================] - 20s 50ms/step - loss: 1.4337 - accuracy: 0.6022 - val_loss: 2.0820 - val_accuracy: 0.4779 - lr: 1.0000e-05\n",
      "Learning rate: 1e-05\n",
      "Epoch 152/200\n",
      "391/391 [==============================] - 20s 52ms/step - loss: 1.4284 - accuracy: 0.6025 - val_loss: 2.0819 - val_accuracy: 0.4762 - lr: 1.0000e-05\n",
      "Learning rate: 1e-05\n",
      "Epoch 153/200\n",
      "391/391 [==============================] - 20s 51ms/step - loss: 1.4291 - accuracy: 0.5998 - val_loss: 2.0826 - val_accuracy: 0.4778 - lr: 1.0000e-05\n",
      "Learning rate: 1e-05\n",
      "Epoch 154/200\n",
      "391/391 [==============================] - 20s 52ms/step - loss: 1.4347 - accuracy: 0.5989 - val_loss: 2.0816 - val_accuracy: 0.4791 - lr: 1.0000e-05\n",
      "Learning rate: 1e-05\n",
      "Epoch 155/200\n",
      "391/391 [==============================] - 20s 51ms/step - loss: 1.4304 - accuracy: 0.5993 - val_loss: 2.0820 - val_accuracy: 0.4784 - lr: 1.0000e-05\n",
      "Learning rate: 1e-05\n",
      "Epoch 156/200\n",
      "388/391 [============================>.] - ETA: 0s - loss: 1.4298 - accuracy: 0.6015"
     ]
    },
    {
     "name": "stderr",
     "output_type": "stream",
     "text": [
      "WARNING:absl:Found untraced functions such as _jit_compiled_convolution_op, _jit_compiled_convolution_op, _jit_compiled_convolution_op, _jit_compiled_convolution_op while saving (showing 4 of 4). These functions will not be directly callable after loading.\n"
     ]
    },
    {
     "name": "stdout",
     "output_type": "stream",
     "text": [
      "INFO:tensorflow:Assets written to: /root/jupyter/IHC/gain_proj/wandb/run-20230422_032214-41jqmhl5/files/model-best/assets\n"
     ]
    },
    {
     "name": "stderr",
     "output_type": "stream",
     "text": [
      "INFO:tensorflow:Assets written to: /root/jupyter/IHC/gain_proj/wandb/run-20230422_032214-41jqmhl5/files/model-best/assets\n",
      "\u001b[34m\u001b[1mwandb\u001b[0m: Adding directory to artifact (/root/jupyter/IHC/gain_proj/wandb/run-20230422_032214-41jqmhl5/files/model-best)... Done. 0.0s\n"
     ]
    },
    {
     "name": "stdout",
     "output_type": "stream",
     "text": [
      "391/391 [==============================] - 22s 57ms/step - loss: 1.4304 - accuracy: 0.6014 - val_loss: 2.0796 - val_accuracy: 0.4795 - lr: 1.0000e-05\n",
      "Learning rate: 1e-05\n",
      "Epoch 157/200\n",
      "391/391 [==============================] - 20s 52ms/step - loss: 1.4317 - accuracy: 0.6014 - val_loss: 2.0811 - val_accuracy: 0.4781 - lr: 1.0000e-05\n",
      "Learning rate: 1e-05\n",
      "Epoch 158/200\n",
      "391/391 [==============================] - 20s 52ms/step - loss: 1.4330 - accuracy: 0.5988 - val_loss: 2.0780 - val_accuracy: 0.4789 - lr: 1.0000e-05\n",
      "Learning rate: 1e-05\n",
      "Epoch 159/200\n",
      "391/391 [==============================] - 21s 53ms/step - loss: 1.4286 - accuracy: 0.6027 - val_loss: 2.0805 - val_accuracy: 0.4780 - lr: 1.0000e-05\n",
      "Learning rate: 1e-05\n",
      "Epoch 160/200\n",
      "391/391 [==============================] - 20s 51ms/step - loss: 1.4289 - accuracy: 0.6039 - val_loss: 2.0826 - val_accuracy: 0.4783 - lr: 1.0000e-05\n",
      "Learning rate: 1e-05\n",
      "Epoch 161/200\n",
      "391/391 [==============================] - 20s 52ms/step - loss: 1.4313 - accuracy: 0.6002 - val_loss: 2.0798 - val_accuracy: 0.4777 - lr: 1.0000e-05\n",
      "Learning rate: 1e-05\n",
      "Epoch 162/200\n",
      "391/391 [==============================] - 20s 52ms/step - loss: 1.4317 - accuracy: 0.6018 - val_loss: 2.0812 - val_accuracy: 0.4766 - lr: 1.0000e-05\n",
      "Learning rate: 1e-05\n",
      "Epoch 163/200\n",
      "391/391 [==============================] - 20s 52ms/step - loss: 1.4331 - accuracy: 0.6009 - val_loss: 2.0832 - val_accuracy: 0.4769 - lr: 1.0000e-05\n",
      "Learning rate: 1e-05\n",
      "Epoch 164/200\n",
      "391/391 [==============================] - 20s 51ms/step - loss: 1.4242 - accuracy: 0.6039 - val_loss: 2.0846 - val_accuracy: 0.4784 - lr: 1.0000e-05\n",
      "Learning rate: 1e-05\n",
      "Epoch 165/200\n",
      "391/391 [==============================] - 20s 51ms/step - loss: 1.4329 - accuracy: 0.6017 - val_loss: 2.0805 - val_accuracy: 0.4772 - lr: 1.0000e-05\n",
      "Learning rate: 1e-05\n",
      "Epoch 166/200\n",
      "391/391 [==============================] - 20s 51ms/step - loss: 1.4262 - accuracy: 0.6012 - val_loss: 2.0805 - val_accuracy: 0.4783 - lr: 1.0000e-05\n",
      "Learning rate: 1e-05\n",
      "Epoch 167/200\n",
      "391/391 [==============================] - 21s 52ms/step - loss: 1.4347 - accuracy: 0.5995 - val_loss: 2.0810 - val_accuracy: 0.4777 - lr: 1.0000e-05\n",
      "Learning rate: 1e-05\n",
      "Epoch 168/200\n",
      "391/391 [==============================] - 20s 52ms/step - loss: 1.4248 - accuracy: 0.5996 - val_loss: 2.0821 - val_accuracy: 0.4773 - lr: 1.0000e-05\n",
      "Learning rate: 1e-05\n",
      "Epoch 169/200\n",
      "391/391 [==============================] - 21s 52ms/step - loss: 1.4294 - accuracy: 0.5998 - val_loss: 2.0841 - val_accuracy: 0.4784 - lr: 1.0000e-05\n",
      "Learning rate: 1e-05\n",
      "Epoch 170/200\n",
      "391/391 [==============================] - 20s 52ms/step - loss: 1.4262 - accuracy: 0.6027 - val_loss: 2.0855 - val_accuracy: 0.4784 - lr: 1.0000e-05\n",
      "Learning rate: 1e-05\n",
      "Epoch 171/200\n",
      "391/391 [==============================] - 20s 52ms/step - loss: 1.4317 - accuracy: 0.6011 - val_loss: 2.0831 - val_accuracy: 0.4764 - lr: 1.0000e-05\n",
      "Learning rate: 1e-05\n",
      "Epoch 172/200\n",
      "391/391 [==============================] - 20s 51ms/step - loss: 1.4272 - accuracy: 0.6040 - val_loss: 2.0829 - val_accuracy: 0.4770 - lr: 1.0000e-05\n",
      "Learning rate: 1e-05\n",
      "Epoch 173/200\n",
      "391/391 [==============================] - 21s 53ms/step - loss: 1.4266 - accuracy: 0.5992 - val_loss: 2.0830 - val_accuracy: 0.4779 - lr: 1.0000e-05\n",
      "Learning rate: 1e-05\n",
      "Epoch 174/200\n",
      "391/391 [==============================] - 20s 51ms/step - loss: 1.4292 - accuracy: 0.6012 - val_loss: 2.0828 - val_accuracy: 0.4784 - lr: 1.0000e-05\n",
      "Learning rate: 1e-05\n",
      "Epoch 175/200\n",
      "391/391 [==============================] - 20s 51ms/step - loss: 1.4308 - accuracy: 0.5993 - val_loss: 2.0838 - val_accuracy: 0.4775 - lr: 1.0000e-05\n",
      "Learning rate: 1e-05\n",
      "Epoch 176/200\n",
      "391/391 [==============================] - 21s 53ms/step - loss: 1.4234 - accuracy: 0.6005 - val_loss: 2.0844 - val_accuracy: 0.4765 - lr: 1.0000e-05\n",
      "Learning rate: 1e-05\n",
      "Epoch 177/200\n",
      "391/391 [==============================] - 20s 52ms/step - loss: 1.4322 - accuracy: 0.6003 - val_loss: 2.0823 - val_accuracy: 0.4767 - lr: 1.0000e-05\n",
      "Learning rate: 1e-05\n",
      "Epoch 178/200\n",
      "391/391 [==============================] - 20s 52ms/step - loss: 1.4269 - accuracy: 0.5998 - val_loss: 2.0843 - val_accuracy: 0.4765 - lr: 1.0000e-05\n",
      "Learning rate: 1e-05\n",
      "Epoch 179/200\n",
      "391/391 [==============================] - 20s 52ms/step - loss: 1.4253 - accuracy: 0.6033 - val_loss: 2.0837 - val_accuracy: 0.4765 - lr: 1.0000e-05\n",
      "Learning rate: 1e-05\n",
      "Epoch 180/200\n",
      "391/391 [==============================] - 20s 52ms/step - loss: 1.4245 - accuracy: 0.6027 - val_loss: 2.0852 - val_accuracy: 0.4762 - lr: 1.0000e-05\n",
      "Learning rate: 1e-05\n",
      "Epoch 181/200\n",
      "391/391 [==============================] - 20s 51ms/step - loss: 1.4274 - accuracy: 0.5992 - val_loss: 2.0790 - val_accuracy: 0.4758 - lr: 1.0000e-05\n",
      "Learning rate: 1e-05\n",
      "Epoch 182/200\n",
      "391/391 [==============================] - 20s 51ms/step - loss: 1.4253 - accuracy: 0.6017 - val_loss: 2.0834 - val_accuracy: 0.4765 - lr: 1.0000e-05\n",
      "Learning rate: 1e-05\n",
      "Epoch 183/200\n",
      "391/391 [==============================] - 21s 53ms/step - loss: 1.4274 - accuracy: 0.5988 - val_loss: 2.0803 - val_accuracy: 0.4761 - lr: 1.0000e-05\n",
      "Learning rate: 1e-05\n",
      "Epoch 184/200\n",
      "391/391 [==============================] - 20s 52ms/step - loss: 1.4340 - accuracy: 0.6007 - val_loss: 2.0812 - val_accuracy: 0.4761 - lr: 1.0000e-05\n",
      "Learning rate: 1e-05\n",
      "Epoch 185/200\n",
      "391/391 [==============================] - 20s 51ms/step - loss: 1.4305 - accuracy: 0.5986 - val_loss: 2.0816 - val_accuracy: 0.4767 - lr: 1.0000e-05\n",
      "Learning rate: 1e-05\n",
      "Epoch 186/200\n",
      "391/391 [==============================] - 20s 52ms/step - loss: 1.4294 - accuracy: 0.5995 - val_loss: 2.0813 - val_accuracy: 0.4781 - lr: 1.0000e-05\n",
      "Learning rate: 1e-05\n",
      "Epoch 187/200\n",
      "391/391 [==============================] - 20s 51ms/step - loss: 1.4296 - accuracy: 0.6019 - val_loss: 2.0862 - val_accuracy: 0.4782 - lr: 1.0000e-05\n",
      "Learning rate: 1e-05\n",
      "Epoch 188/200\n",
      "391/391 [==============================] - 20s 51ms/step - loss: 1.4347 - accuracy: 0.5975 - val_loss: 2.0815 - val_accuracy: 0.4775 - lr: 1.0000e-05\n",
      "Learning rate: 1e-05\n",
      "Epoch 189/200\n",
      "391/391 [==============================] - 20s 52ms/step - loss: 1.4271 - accuracy: 0.6041 - val_loss: 2.0818 - val_accuracy: 0.4757 - lr: 1.0000e-05\n",
      "Learning rate: 1e-05\n",
      "Epoch 190/200\n",
      "391/391 [==============================] - 20s 52ms/step - loss: 1.4270 - accuracy: 0.5992 - val_loss: 2.0811 - val_accuracy: 0.4767 - lr: 1.0000e-05\n",
      "Learning rate: 1e-05\n",
      "Epoch 191/200\n",
      "391/391 [==============================] - 20s 51ms/step - loss: 1.4221 - accuracy: 0.6046 - val_loss: 2.0825 - val_accuracy: 0.4761 - lr: 1.0000e-05\n",
      "Learning rate: 1e-05\n",
      "Epoch 192/200\n",
      "391/391 [==============================] - 20s 51ms/step - loss: 1.4225 - accuracy: 0.6026 - val_loss: 2.0838 - val_accuracy: 0.4769 - lr: 1.0000e-05\n",
      "Learning rate: 1e-05\n",
      "Epoch 193/200\n",
      "391/391 [==============================] - 20s 50ms/step - loss: 1.4221 - accuracy: 0.6027 - val_loss: 2.0823 - val_accuracy: 0.4757 - lr: 1.0000e-05\n",
      "Learning rate: 1e-05\n",
      "Epoch 194/200\n",
      "391/391 [==============================] - 20s 50ms/step - loss: 1.4267 - accuracy: 0.6027 - val_loss: 2.0820 - val_accuracy: 0.4775 - lr: 1.0000e-05\n",
      "Learning rate: 1e-05\n",
      "Epoch 195/200\n",
      "391/391 [==============================] - 19s 47ms/step - loss: 1.4261 - accuracy: 0.6020 - val_loss: 2.0816 - val_accuracy: 0.4755 - lr: 1.0000e-05\n",
      "Learning rate: 1e-05\n",
      "Epoch 196/200\n",
      "391/391 [==============================] - 18s 45ms/step - loss: 1.4254 - accuracy: 0.6015 - val_loss: 2.0828 - val_accuracy: 0.4769 - lr: 1.0000e-05\n",
      "Learning rate: 1e-05\n",
      "Epoch 197/200\n",
      "391/391 [==============================] - 19s 48ms/step - loss: 1.4271 - accuracy: 0.6018 - val_loss: 2.0806 - val_accuracy: 0.4773 - lr: 1.0000e-05\n",
      "Learning rate: 1e-05\n",
      "Epoch 198/200\n",
      "391/391 [==============================] - 18s 45ms/step - loss: 1.4228 - accuracy: 0.6026 - val_loss: 2.0823 - val_accuracy: 0.4775 - lr: 1.0000e-05\n",
      "Learning rate: 1e-05\n",
      "Epoch 199/200\n",
      "391/391 [==============================] - 17s 43ms/step - loss: 1.4242 - accuracy: 0.6027 - val_loss: 2.0837 - val_accuracy: 0.4775 - lr: 1.0000e-05\n",
      "Learning rate: 1e-05\n",
      "Epoch 200/200\n",
      "391/391 [==============================] - 17s 44ms/step - loss: 1.4291 - accuracy: 0.5995 - val_loss: 2.0838 - val_accuracy: 0.4774 - lr: 1.0000e-05\n"
     ]
    },
    {
     "data": {
      "text/plain": [
       "<keras.callbacks.History at 0x7fe6b87d9490>"
      ]
     },
     "execution_count": 7,
     "metadata": {},
     "output_type": "execute_result"
    }
   ],
   "source": [
    "model.fit(datagen.flow(x_train, y_train, batch_size=128),\n",
    "          validation_data=(x_test, y_test),\n",
    "          epochs=200, workers=4,\n",
    "          callbacks=callbacks)"
   ]
  },
  {
   "cell_type": "code",
   "execution_count": null,
   "id": "dd1b680e-40d0-4d11-9d99-3e44c26ad381",
   "metadata": {},
   "outputs": [],
   "source": []
  },
  {
   "cell_type": "code",
   "execution_count": null,
   "id": "8c7a27fb-7c93-4b43-9bf2-7fc2bc6a5071",
   "metadata": {},
   "outputs": [],
   "source": []
  },
  {
   "cell_type": "code",
   "execution_count": null,
   "id": "c38a00d3-8096-409b-90a5-ce799e67d313",
   "metadata": {},
   "outputs": [],
   "source": []
  }
 ],
 "metadata": {
  "kernelspec": {
   "display_name": "Python 3 (ipykernel)",
   "language": "python",
   "name": "python3"
  },
  "language_info": {
   "codemirror_mode": {
    "name": "ipython",
    "version": 3
   },
   "file_extension": ".py",
   "mimetype": "text/x-python",
   "name": "python",
   "nbconvert_exporter": "python",
   "pygments_lexer": "ipython3",
   "version": "3.8.10"
  }
 },
 "nbformat": 4,
 "nbformat_minor": 5
}
